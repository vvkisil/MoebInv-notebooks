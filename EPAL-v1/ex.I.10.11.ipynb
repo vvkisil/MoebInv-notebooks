{
 "cells": [
  {
   "cell_type": "markdown",
   "id": "f022bf51-02cb-4c33-a90b-f5449082d6e2",
   "metadata": {
    "collapsed": false
   },
   "source": [
    "<table style=\"width:100%\">\n",
    "    <tr>\n",
    "        <td>\n",
    "            <a href=\"http://v-v-kisil.scienceontheweb.net/MoebInv-notebooks/EPAL-v1/ex.I.10.11.html\">\n",
    "  <img src=\"../svg/view-html.svg\" alt=\"Open In Colab\"/>\n",
    "            </a>\n",
    "        </td>\n",
    "        <td>\n",
    "<a href=\"https://github.com/vvkisil/MoebInv-notebooks/blob/master/EPAL-v1/ex.I.10.11.ipynb\">\n",
    "  <img src=\"../svg/open-github.svg\" alt=\"Open In Colab\"/>\n",
    "            </a>\n",
    "        </td>\n",
    "        <td>\n",
    "            <a href=\"https://colab.research.google.com/github/vvkisil/MoebInv-notebooks/blob/master/EPAL-v1/ex.I.10.11.ipynb\">\n",
    "  <img src=\"../svg/exec-colab.svg\" alt=\"Open In Colab\"/>\n",
    "            </a>\n",
    "        </td>\n",
    "        <td>\n",
    "            <a href=\"https://codeocean.com/capsule/7952650/tree\">\n",
    "  <img src=\"../svg/code-ocean.svg\" alt=\"Code Ocean\"/>\n",
    "            </a>\n",
    "        </td>\n",
    "    </tr>\n",
    " </table>\n",
    "\n",
    "<a  align=\"center\" href=\"https://colab.research.google.com/github/vvkisil/MoebInv-notebooks/blob/master/Introduction/Software_installation_GUI_integration.ipynb\">Google CoLab software installation</a>\n"
   ]
  },
  {
   "cell_type": "markdown",
   "id": "5af98e3b-c7b5-40c4-ac90-13cd07073fd1",
   "metadata": {
    "collapsed": false,
    "ein.tags": "worksheet-0",
    "slideshow": {
     "slide_type": "-"
    }
   },
   "source": [
    "# Images of A- and K-orbits under the parabolic Cayley transform\n",
    "\n",
    "**Exercise I.10.11** [ [1] ](#[1])\n",
    "  Verify that:\n",
    "1. $A$-orbits in transforms $P_e$ and $P_h$ are segments of\n",
    "    parabolas with focal length $\\frac{1}{4}$ and passing through\n",
    "    $(0,-1)$. Their p-foci (i.e. vertices) belong to two\n",
    "    parabolas $v=(-u^2-1)$ and $v=(u^2-1)$\n",
    "    respectively, which are the boundaries of parabolic circles in\n",
    "    $P_h$ and $P_e$ (note the swap!).\n",
    "2.    $K$-orbits in transform $P_e$  are parabolas\n",
    "    with focal length less than $\\frac{1}{4}$. In transform\n",
    "    $P_h$, they are parabolas where the reciprocal of the focal\n",
    "    length is larger than $-4$."
   ]
  },
  {
   "cell_type": "markdown",
   "id": "9baba949-4eea-4a3f-905a-c3b1bf108b75",
   "metadata": {
    "collapsed": false,
    "ein.tags": "worksheet-0",
    "slideshow": {
     "slide_type": "-"
    }
   },
   "source": [
    "**Solution.** We verify properties of A orbits under the Cayley transform. The next cycle represent a generic A-orbit."
   ]
  },
  {
   "cell_type": "code",
   "execution_count": null,
   "id": "22a04cea-f215-41df-98b6-e24dc00986a9",
   "metadata": {
    "autoscroll": false,
    "collapsed": false,
    "ein.hycell": false,
    "ein.tags": "worksheet-0",
    "slideshow": {
     "slide_type": "-"
    }
   },
   "outputs": [],
   "source": [
    "from init_cycle import *\n",
    "Ca=cayley(cycle2D(0,[1,t],0,e),0,sign1)"
   ]
  },
  {
   "cell_type": "markdown",
   "id": "3af41989-d33b-4384-acac-180239b12c91",
   "metadata": {
    "collapsed": false,
    "ein.tags": "worksheet-0",
    "slideshow": {
     "slide_type": "-"
    }
   },
   "source": [
    "The properties of the parabolic Cayley transform of `Ca` are:"
   ]
  },
  {
   "cell_type": "code",
   "execution_count": null,
   "id": "4484b67a-8ece-4dfb-a17d-ce44e1e7375b",
   "metadata": {
    "autoscroll": false,
    "collapsed": false,
    "ein.hycell": false,
    "ein.tags": "worksheet-0",
    "slideshow": {
     "slide_type": "-"
    }
   },
   "outputs": [],
   "source": [
    "display(Latex(\"Focal length of A-orbit: $%s$\" % Ca.focal_length()))\n",
    "print(\"A-orbit passes (0,-1): %s\" % Ca.val([0,-1]).subs({sign : 0}).is_zero())\n",
    "Pf=Ca.focus(diag_matrix([-1,0]))\n",
    "display(Latex(\"p-focus of A-orbit belong to the parabola $v=\\\\breve{\\\\sigma} u^2-1$: %s\" %\\\n",
    "(sign1*pow(Pf[0],2)-Pf[1]-1).normal().is_zero()))"
   ]
  },
  {
   "cell_type": "markdown",
   "id": "a71c0deb-3506-4daf-b5e2-1d54d604888b",
   "metadata": {
    "collapsed": false,
    "ein.tags": "worksheet-0",
    "slideshow": {
     "slide_type": "-"
    }
   },
   "source": [
    "A generic K-orbit and its properties are:"
   ]
  },
  {
   "cell_type": "code",
   "execution_count": null,
   "id": "e3073db6-121b-4be4-9a08-f10deee51345",
   "metadata": {
    "autoscroll": false,
    "collapsed": false,
    "ein.hycell": false,
    "ein.tags": "worksheet-0",
    "slideshow": {
     "slide_type": "-"
    }
   },
   "outputs": [],
   "source": [
    "Ck=cayley(cycle2D(1,[0,t],1,e),0,sign1)\n",
    "display(Latex(\"Focal length of K-orbit in P_e is less than $1/4$ by: $%s$\" % (numeric(1,4)-Ck.focal_length()).subs({sign1 : -1}).normal()))\n",
    "display(Latex(\"Reciprocal of focal length of K-orbit in P_h is bigger than $-4$ by: $%s$\" % (4+1/Ck.focal_length()).subs({sign1 : 1}).normal()))"
   ]
  },
  {
   "cell_type": "markdown",
   "id": "43722168-7132-49db-bee5-12cd081db3d1",
   "metadata": {
    "collapsed": false
   },
   "source": [
    "\n",
    "This notebook is a part of the *MoebInv notebooks* project [ [2] ](#[2]).\n",
    "\n",
    "### References\n",
    "<a id=\"references\"></a>\n",
    "<a id=\"[1]\"></a>\n",
    "1. Vladimir V. Kisil. *Geometry of Möbius Transformations: Elliptic, Parabolic and Hyperbolic Actions of $SL_2(\\mathbb{R})$*. [Imperial College Press](https://www.worldscientific.com/worldscibooks/10.1142/p835), London, 2012. Includes a live DVD.\n",
    "\n",
    "   <a id=\"[2]\"></a>\n",
    "2.  Vladimir V. Kisil, [*MoebInv notebooks*](https://github.com/vvkisil/MoebInv-notebooks), 2019.\n",
    "\n",
    "[Back to Folder](https://github.com/vvkisil/MoebInv-notebooks/blob/master/EPAL-v1/)\n"
   ]
  }
 ],
 "metadata": {
  "kernelspec": {
   "argv": [
    "/usr/bin/python3",
    "-m",
    "ipykernel_launcher",
    "-f",
    "{connection_file}"
   ],
   "display_name": "Python 3 (ipykernel)",
   "env": null,
   "interrupt_mode": "signal",
   "language": "python",
   "metadata": {
    "debugger": true
   },
   "name": "python3"
  },
  "language_info": {
   "codemirror_mode": {
    "name": "ipython",
    "version": 3
   },
   "file_extension": ".py",
   "mimetype": "text/x-python",
   "name": "python",
   "nbconvert_exporter": "python",
   "pygments_lexer": "ipython3",
   "version": "3.6.4"
  },
  "name": "ex.I.10.11.ipynb"
 },
 "nbformat": 4,
 "nbformat_minor": 5
}
