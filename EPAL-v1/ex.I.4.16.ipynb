{
 "cells": [
  {
   "cell_type": "markdown",
   "metadata": {},
   "source": [
    "<table style=\"width:100%\">\n",
    "    <tr>\n",
    "        <td>\n",
    "            <a href=\"http://www1.maths.leeds.ac.uk/~kisilv/MoebInv-notebooks/EPAL-v1/ex.I.4.16.html\">\n",
    "  <img src=\"../svg/view-html.svg\" alt=\"Open In Colab\"/>\n",
    "            </a>\n",
    "        </td>\n",
    "        <td>\n",
    "<a href=\"https://github.com/vvkisil/MoebInv-notebooks/blob/master/EPAL-v1/ex.I.4.16.ipynb\">\n",
    "  <img src=\"../svg/open-github.svg\" alt=\"Open In Colab\"/>\n",
    "            </a>\n",
    "        </td>\n",
    "        <td>\n",
    "            <a href=\"https://colab.research.google.com/github/vvkisil/MoebInv-notebooks/blob/master/EPAL-v1/ex.I.4.16.ipynb\">\n",
    "  <img src=\"../svg/exec-colab.svg\" alt=\"Open In Colab\"/>\n",
    "            </a>\n",
    "        </td>\n",
    "        <td>\n",
    "            <a href=\"https://codeocean.com/capsule/7952650/tree\">\n",
    "  <img src=\"../svg/code-ocean.svg\" alt=\"Code Ocean\"/>\n",
    "            </a>\n",
    "        </td>\n",
    "    </tr>\n",
    " </table>\n",
    "\n",
    "<a  align=\"center\" href=\"https://colab.research.google.com/github/vvkisil/MoebInv-notebooks/blob/master/Introduction/Software_installation_GUI_integration.ipynb\">Google CoLab software installation</a>\n"
   ]
  },
  {
   "cell_type": "markdown",
   "metadata": {
    "ein.tags": "worksheet-0",
    "slideshow": {
     "slide_type": "-"
    }
   },
   "source": [
    "# Orbits of A, N and K subgroups as cycles and invariant transversal\n",
    "\n",
    "**Exercise I.4.16** [ [1] ](#[1])\n",
    "$\n",
    "\\newcommand{\\scalar}[3][]{\\left\\langle #2,#3 \n",
    "        \\right\\rangle_{#1}}\n",
    "\\newcommand{\\Space}[3][]{\\mathbb{#2}^{#3}_{#1}}\n",
    "\\newcommand{\\Space}[3][]{\\mathbb{#2}^{#3}_{#1}}\n",
    "  \\newcommand{\\cycle}[3][]{{#1 C^{#2}_{#3}}}\n",
    "  \\newcommand{\\realline}[3][]{#1 R^{#2}_{#3}}\n",
    "  \\newcommand{\\bs}{\\breve{\\sigma}}\n",
    "  \\newcommand{\\zcycle}[3][]{#1 Z^{#2}_{#3}}\n",
    "  \\newcommand{\\SL}[1][2]{\\mathrm{SL}_{#1}(\\Space{R}{})}\n",
    "  \\newcommand{\\rs}{\\sigma_r}\n",
    "  \\newcommand{\\lvec}[1]{\\overrightarrow{#1}}\n",
    "\\newcommand{\\rmi}{\\mathrm{i}}\n",
    "\\newcommand{\\alli}{\\iota}\n",
    "\\newcommand{\\rme}{\\mathrm{e}}\n",
    "\\newcommand{\\rmd}{\\mathrm{d}}\n",
    "\\newcommand{\\rmc}{\\mathrm{c}}\n",
    "\\newcommand{\\rmh}{\\mathrm{j}}\n",
    "\\newcommand{\\rmp}{\\varepsilon}\n",
    "\\newcommand{\\modulus}[2][]{\\left| #2 \\right|_{#1}}\n",
    "\\newcommand{\\sperp}{⋋}\n",
    "$\n",
    "  Use the similarity formula for the  following:\n",
    "1.  Show that the real axis $v=0$ is represented by the line passing through\n",
    "    $(0,0,1,0)$ and a matrix $\\begin{pmatrix}       s\\rmc&0\\\\       0&s\\rmc     \\end{pmatrix}$. For any $ \\begin{pmatrix}       a&b\\\\       c& d     \\end{pmatrix}\\in \\SL$, we have     \\begin{equation} \\begin{pmatrix} a&b\\\\ c& d \\end{pmatrix} \\begin{pmatrix} s\\rmc&0\\\\ 0&s\\rmc \\end{pmatrix} \\begin{pmatrix} d & -b\\\\ -c & a \\end{pmatrix} = \\begin{pmatrix} s\\rmc &0\\\\ 0&s\\rmc \\end{pmatrix}, \\end{equation}\n",
    "   i.e. the real line is $\\SL$-invariant.\n",
    "2.  Write matrices which describe cycles represented by $A$, $N$ and\n",
    "  $K$-orbits.  Verify that matrices representing\n",
    "  these cycles are invariant under the similarity with elements of the\n",
    "  respective subgroups $A$, $N$ and $K$.\n",
    "3. Show that cycles $(1,0,n,\\sigma)$, which are orbits of\n",
    "  isotropy groups, are invariant under the\n",
    "  respective matrix similarity for the respective values of\n",
    "  $\\sigma=\\alli^2$ and any real $n$.\n",
    "4. Find the cycles which are transverse to orbits of the isotropy\n",
    "  subgroups, i.e.\\ are obtained from the vertical axis by the\n",
    "  corresponding actions."
   ]
  },
  {
   "cell_type": "markdown",
   "metadata": {
    "ein.tags": "worksheet-0",
    "slideshow": {
     "slide_type": "-"
    }
   },
   "source": [
    "**Solution.** It is straightforward for the real line:"
   ]
  },
  {
   "cell_type": "code",
   "execution_count": null,
   "metadata": {
    "autoscroll": false,
    "collapsed": false,
    "ein.hycell": false,
    "ein.tags": "worksheet-0",
    "slideshow": {
     "slide_type": "-"
    }
   },
   "outputs": [],
   "source": [
    "from init_cycle import *\n",
    "print(\"The real line is preserved by the moebius maps: %s\" % \\\n",
    "real_line.is_equal(real_line.sl2_similarity(a,b,c,d,e)))"
   ]
  },
  {
   "cell_type": "code",
   "execution_count": null,
   "metadata": {
    "autoscroll": false,
    "collapsed": false,
    "ein.hycell": false,
    "ein.tags": "worksheet-0",
    "slideshow": {
     "slide_type": "-"
    }
   },
   "outputs": [],
   "source": [
    "C2=cycle2D(0,[1,n],0,e)\n",
    "Latex(\"Cycle $%s$ is A-orbit: %s \" % \\\n",
    "(C2.string(), C2.is_equal(C2.sl2_similarity([a,0,0,1/a],e))))"
   ]
  },
  {
   "cell_type": "code",
   "execution_count": null,
   "metadata": {
    "autoscroll": false,
    "collapsed": false,
    "ein.hycell": false,
    "ein.tags": "worksheet-0",
    "slideshow": {
     "slide_type": "-"
    }
   },
   "outputs": [],
   "source": [
    "C2=cycle2D(0,[0,n],0,e)\n",
    "Latex(\"Cycle $%s$ is N-orbit: %s \" % \\\n",
    "(C2.string(), C2.is_equal(C2.sl2_similarity([1,b,0,1],e))))"
   ]
  },
  {
   "cell_type": "markdown",
   "metadata": {
    "ein.tags": "worksheet-0",
    "slideshow": {
     "slide_type": "-"
    }
   },
   "source": [
    "Ortits of the isotropy subgroup"
   ]
  },
  {
   "cell_type": "code",
   "execution_count": null,
   "metadata": {
    "autoscroll": false,
    "collapsed": false,
    "ein.hycell": false,
    "ein.tags": "worksheet-0",
    "slideshow": {
     "slide_type": "-"
    }
   },
   "outputs": [],
   "source": [
    "C2=cycle2D(1,[0,n],-sign,e) \n",
    "Latex(\"Cycle $%s$ is orbit of isotropy subgroups: %s\" % \\\n",
    "(C2.string(), C2.is_equal(C2.sl2_similarity(a,sign*b,b,a,e))))"
   ]
  },
  {
   "cell_type": "code",
   "execution_count": null,
   "metadata": {
    "autoscroll": false,
    "collapsed": false,
    "ein.hycell": false,
    "ein.tags": "worksheet-0",
    "slideshow": {
     "slide_type": "-"
    }
   },
   "outputs": [],
   "source": [
    "CV=cycle2D(0, [1,0], 0, e)  \n",
    "Latex(\"K-rotation of the vertical axis: $%s$\" % \\\n",
    "CV.sl2_similarity(a,-b,b,a,e).normalize().string())"
   ]
  },
  {
   "cell_type": "code",
   "execution_count": null,
   "metadata": {
    "autoscroll": false,
    "collapsed": false,
    "ein.hycell": false,
    "ein.tags": "worksheet-0",
    "slideshow": {
     "slide_type": "-"
    }
   },
   "outputs": [],
   "source": [
    "Latex(\"A-rotation of the vertical axis: $%s$\" % \\\n",
    "CV.sl2_similarity(a,b,b,a,e).normalize().string())"
   ]
  },
  {
   "cell_type": "code",
   "execution_count": null,
   "metadata": {
    "autoscroll": false,
    "collapsed": false,
    "ein.hycell": false,
    "ein.tags": "worksheet-0",
    "slideshow": {
     "slide_type": "-"
    }
   },
   "outputs": [],
   "source": [
    "Latex(\"Np-rotation of the vertical axis: $%s$\" % \\\n",
    "CV.sl2_similarity([1,b,0,1],e).string())"
   ]
  },
  {
   "cell_type": "markdown",
   "metadata": {},
   "source": [
    "\n",
    "This notebook is a part of the *MoebInv notebooks* project [ [2] ](#[2]).\n",
    "\n",
    "### References\n",
    "<a id=\"references\"></a>\n",
    "<a id=\"[1]\"></a>\n",
    "1. Vladimir V. Kisil. *Geometry of Möbius Transformations: Elliptic, Parabolic and Hyperbolic Actions of $SL_2(\\mathbb{R})$*. [Imperial College Press](https://www.worldscientific.com/worldscibooks/10.1142/p835), London, 2012. Includes a live DVD.\n",
    "\n",
    "   <a id=\"[2]\"></a>\n",
    "2.  Vladimir V. Kisil, [*MoebInv notebooks*](https://github.com/vvkisil/MoebInv-notebooks), 2019.\n",
    "\n",
    "[Back to Folder](https://github.com/vvkisil/MoebInv-notebooks/blob/master/EPAL-v1/)\n"
   ]
  }
 ],
 "metadata": {
  "kernelspec": {
   "argv": [
    "/usr/bin/python3",
    "-m",
    "ipykernel_launcher",
    "-f",
    "{connection_file}"
   ],
   "display_name": "Python 3",
   "env": null,
   "interrupt_mode": "signal",
   "language": "python",
   "metadata": null,
   "name": "python3"
  },
  "language_info": {
   "codemirror_mode": {
    "name": "ipython",
    "version": 3
   },
   "file_extension": ".py",
   "mimetype": "text/x-python",
   "name": "python",
   "nbconvert_exporter": "python",
   "pygments_lexer": "ipython3",
   "version": "3.6.4"
  },
  "name": "ex-some-cycle-sl2-inv.ipynb"
 },
 "nbformat": 4,
 "nbformat_minor": 5
}
