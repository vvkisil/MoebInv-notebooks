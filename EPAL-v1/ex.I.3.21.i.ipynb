{
 "cells": [
  {
   "cell_type": "markdown",
   "id": "634275ee-0698-4b3a-be4d-b7f40aed447a",
   "metadata": {
    "collapsed": false
   },
   "source": [
    "<table style=\"width:100%\">\n",
    "    <tr>\n",
    "        <td>\n",
    "            <a href=\"http://v-v-kisil.rf.gd/MoebInv-notebooks/EPAL-v1/ex.I.3.21.i.html\">\n",
    "  <img src=\"../svg/view-html.svg\" alt=\"Open In Colab\"/>\n",
    "            </a>\n",
    "        </td>\n",
    "        <td>\n",
    "<a href=\"https://github.com/vvkisil/MoebInv-notebooks/blob/master/EPAL-v1/ex.I.3.21.i.ipynb\">\n",
    "  <img src=\"../svg/open-github.svg\" alt=\"Open In Colab\"/>\n",
    "            </a>\n",
    "        </td>\n",
    "        <td>\n",
    "            <a href=\"https://colab.research.google.com/github/vvkisil/MoebInv-notebooks/blob/master/EPAL-v1/ex.I.3.21.i.ipynb\">\n",
    "  <img src=\"../svg/exec-colab.svg\" alt=\"Open In Colab\"/>\n",
    "            </a>\n",
    "        </td>\n",
    "        <td>\n",
    "            <a href=\"https://codeocean.com/capsule/7952650/tree\">\n",
    "  <img src=\"../svg/code-ocean.svg\" alt=\"Code Ocean\"/>\n",
    "            </a>\n",
    "        </td>\n",
    "    </tr>\n",
    " </table>\n",
    "\n",
    "<a  align=\"center\" href=\"https://colab.research.google.com/github/vvkisil/MoebInv-notebooks/blob/master/Introduction/Software_installation_GUI_integration.ipynb\">Google CoLab software installation</a>\n"
   ]
  },
  {
   "cell_type": "markdown",
   "id": "3ee2c5a2-0806-4067-8e67-32a00a1e1da1",
   "metadata": {
    "collapsed": false,
    "ein.tags": "worksheet-0",
    "slideshow": {
     "slide_type": "-"
    }
   },
   "source": [
    "# Derived action of subgroups A' and N'\n",
    "\n",
    "Derived action of the subgroup K was calculated in Ex. [I.3.13.i](ex.I.3.13.i.ipynb) aka [ex-k-action-der.ipynb](ex-k-action-der.ipynb).\n",
    "\n",
    "**Exercise I.3.21.i** [ [1] ](#[1])\n",
    "$\n",
    "\\newcommand{\\scalar}[3][]{\\left\\langle #2,#3 \n",
    "        \\right\\rangle_{#1}}\n",
    "\\newcommand{\\Space}[3][]{\\mathbb{#2}^{#3}_{#1}}\n",
    "\\newcommand{\\Space}[3][]{\\mathbb{#2}^{#3}_{#1}}\n",
    "  \\newcommand{\\cycle}[3][]{{#1 C^{#2}_{#3}}}\n",
    "  \\newcommand{\\realline}[3][]{#1 R^{#2}_{#3}}\n",
    "  \\newcommand{\\bs}{\\breve{\\sigma}}\n",
    "  \\newcommand{\\zcycle}[3][]{#1 Z^{#2}_{#3}}\n",
    "  \\newcommand{\\SL}[1][2]{\\mathrm{SL}_{#1}(\\Space{R}{})}\n",
    "  \\newcommand{\\rs}{\\sigma_r}\n",
    "  \\newcommand{\\lvec}[1]{\\overrightarrow{#1}}\n",
    "\\newcommand{\\rmi}{\\mathrm{i}}\n",
    "\\newcommand{\\alli}{\\iota}\n",
    "\\newcommand{\\rme}{\\mathrm{e}}\n",
    "\\newcommand{\\rmd}{\\mathrm{d}}\n",
    "\\newcommand{\\rmh}{\\mathrm{j}}\n",
    "\\newcommand{\\rmp}{\\varepsilon}\n",
    "\\newcommand{\\modulus}[2][]{\\left| #2 \\right|_{#1}}\n",
    "\\newcommand{\\sperp}{⋋}\n",
    "$\n",
    "  Using the parameter $\\tau=-1$, $0$, $1$ for the subgroups\n",
    "  $K$, $N'$ and $A'$ respectively, check the following\n",
    "  properties of the actions of the subgroups $K$, $N'$ and\n",
    "  $A'$:\n",
    " Vector fields of the respective actions are\n",
    "    \\begin{equation}\n",
    "      (u^2+\\sigma v^2-\\tau)\\partial_u+ 2uv\\partial_v,\n",
    "    \\end{equation}\n",
    "    where  $\\sigma=\\iota^2$ represent the metric of the space ."
   ]
  },
  {
   "cell_type": "markdown",
   "id": "fec67105-5da2-4818-b7b9-a10b744039d0",
   "metadata": {
    "collapsed": false,
    "ein.tags": "worksheet-0",
    "slideshow": {
     "slide_type": "-"
    }
   },
   "source": [
    "**Solution.** Define the Möbius transformation with the K subgroup"
   ]
  },
  {
   "cell_type": "code",
   "execution_count": null,
   "id": "e0431d41-31da-49bb-9610-03b4b38140f3",
   "metadata": {
    "autoscroll": false,
    "collapsed": false,
    "ein.hycell": false,
    "ein.tags": "worksheet-0",
    "slideshow": {
     "slide_type": "-"
    }
   },
   "outputs": [],
   "source": [
    "from init_cycle import *\n",
    "[U,V]=clifford_moebius_map(sl2_clifford([cos(t),sin(t),-sin(t),cos(t)],e),[u,v],e)"
   ]
  },
  {
   "cell_type": "markdown",
   "id": "2e22b661-0ffb-42cb-9576-d19ae643bb22",
   "metadata": {
    "collapsed": false,
    "ein.tags": "worksheet-0",
    "slideshow": {
     "slide_type": "-"
    }
   },
   "source": [
    "Derived action is:"
   ]
  },
  {
   "cell_type": "code",
   "execution_count": null,
   "id": "b7b9c6f4-c2b2-4b59-8ae1-e743c3d6b6d2",
   "metadata": {
    "autoscroll": false,
    "collapsed": false,
    "ein.hycell": false,
    "ein.tags": "worksheet-0",
    "slideshow": {
     "slide_type": "-"
    }
   },
   "outputs": [],
   "source": [
    "Latex(\"Derived action of the K subgroup: $(%s, %s)$\" % \\\n",
    "(U.diff(t).subs({t : 0}), V.diff(t).subs({t : 0})))"
   ]
  },
  {
   "cell_type": "markdown",
   "id": "b80b494a-b618-404a-ac65-d6d3433dbada",
   "metadata": {
    "collapsed": false,
    "ein.tags": "worksheet-0",
    "slideshow": {
     "slide_type": "-"
    }
   },
   "source": [
    "We define the Moebius transformation with the N' subgroup"
   ]
  },
  {
   "cell_type": "code",
   "execution_count": null,
   "id": "f00f2028-fa1a-47c7-82ed-8e142dda9de3",
   "metadata": {
    "autoscroll": false,
    "collapsed": false,
    "ein.hycell": false,
    "ein.tags": "worksheet-0",
    "slideshow": {
     "slide_type": "-"
    }
   },
   "outputs": [],
   "source": [
    "[U,V]=clifford_moebius_map(sl2_clifford([1, 0, -t, 1], e), [u, v], e)"
   ]
  },
  {
   "cell_type": "markdown",
   "id": "ce953f13-b344-4bf9-a00a-f3436207bcae",
   "metadata": {
    "collapsed": false,
    "ein.tags": "worksheet-0",
    "slideshow": {
     "slide_type": "-"
    }
   },
   "source": [
    "Derived action is:"
   ]
  },
  {
   "cell_type": "code",
   "execution_count": null,
   "id": "1277ddf5-a43a-44f2-848c-576a5fc73152",
   "metadata": {
    "autoscroll": false,
    "collapsed": false,
    "ein.hycell": false,
    "ein.tags": "worksheet-0",
    "slideshow": {
     "slide_type": "-"
    }
   },
   "outputs": [],
   "source": [
    "Latex(\"Derived action of the N' subgroup: $(%s, %s)$\" % \\\n",
    "(U.diff(t).subs({t : 0}), V.diff(t).subs({t : 0})))"
   ]
  },
  {
   "cell_type": "markdown",
   "id": "cebec9a6-d320-494b-b4c2-7e4b9c34ac47",
   "metadata": {
    "collapsed": false,
    "ein.tags": "worksheet-0",
    "slideshow": {
     "slide_type": "-"
    }
   },
   "source": [
    "If the below method fails, uncommed this next part\n",
    "The failure is due to absence of conjucate() method for sinh/cosh \n",
    " We define the Moebius transformation with the A' subgroup"
   ]
  },
  {
   "cell_type": "code",
   "execution_count": null,
   "id": "e77703cf-e18f-4bea-ab8f-a088bcc692c9",
   "metadata": {
    "collapsed": false
   },
   "outputs": [],
   "source": [
    "[U,V]=clifford_moebius_map(sl2_clifford([a, b, b, a], e), [u, v], e)"
   ]
  },
  {
   "cell_type": "markdown",
   "id": "6ad4a492-4f89-4503-a930-96415609b705",
   "metadata": {
    "collapsed": false
   },
   "source": [
    " Derived action is:"
   ]
  },
  {
   "cell_type": "code",
   "execution_count": null,
   "id": "5345bc91-4574-45d9-9a3a-5438ad9bfdda",
   "metadata": {
    "collapsed": false
   },
   "outputs": [],
   "source": [
    "Latex(\"Derived action of the A' subgroup: $(%s, %s)$\" % \\\n",
    "(U.subs({a : cosh(t), b : sinh(t)}).diff(t).subs({t : 0}), \\\n",
    " V.subs({a : cosh(t), b : sinh(t)}).diff(t).subs({t : 0})))"
   ]
  },
  {
   "cell_type": "markdown",
   "id": "fd0a3dd6-7c92-4b89-8677-24df23d40108",
   "metadata": {
    "collapsed": false,
    "ein.tags": "worksheet-0",
    "slideshow": {
     "slide_type": "-"
    }
   },
   "source": [
    "We define the Moebius transformation with the A' subgroup"
   ]
  },
  {
   "cell_type": "code",
   "execution_count": null,
   "id": "e83e2ac9-7a23-483f-acce-fb332d5be013",
   "metadata": {
    "autoscroll": false,
    "collapsed": false,
    "ein.hycell": false,
    "ein.tags": "worksheet-0",
    "slideshow": {
     "slide_type": "-"
    }
   },
   "outputs": [],
   "source": [
    "[U,V]=clifford_moebius_map(sl2_clifford([cosh(t),-sinh(t),-sinh(t),cosh(t)],e),[u,v],e)"
   ]
  },
  {
   "cell_type": "markdown",
   "id": "8f05630b-5504-45ce-801e-ee3e5f9f47c7",
   "metadata": {
    "collapsed": false,
    "ein.tags": "worksheet-0",
    "slideshow": {
     "slide_type": "-"
    }
   },
   "source": [
    "Derived action is:"
   ]
  },
  {
   "cell_type": "code",
   "execution_count": null,
   "id": "1900746d-cc9e-4206-a1d1-f472d87d1b0b",
   "metadata": {
    "autoscroll": false,
    "collapsed": false,
    "ein.hycell": false,
    "ein.tags": "worksheet-0",
    "slideshow": {
     "slide_type": "-"
    }
   },
   "outputs": [],
   "source": [
    "Latex(\"Derived action of the A' subgroup: $(%s, %s)$\" % \\\n",
    "(U.diff(t).subs({t : 0}), V.diff(t).subs({t : 0})))"
   ]
  },
  {
   "cell_type": "markdown",
   "id": "3497abf8-d776-4c16-998e-4855d65b1b7a",
   "metadata": {
    "collapsed": false
   },
   "source": [
    "\n",
    "This notebook is a part of the *MoebInv notebooks* project [ [2] ](#[2]).\n",
    "\n",
    "### References\n",
    "<a id=\"references\"></a>\n",
    "<a id=\"[1]\"></a>\n",
    "1. Vladimir V. Kisil. *Geometry of Möbius Transformations: Elliptic, Parabolic and Hyperbolic Actions of $SL_2(\\mathbb{R})$*. [Imperial College Press](https://www.worldscientific.com/worldscibooks/10.1142/p835), London, 2012. Includes a live DVD.\n",
    "\n",
    "   <a id=\"[2]\"></a>\n",
    "2.  Vladimir V. Kisil, [*MoebInv notebooks*](https://github.com/vvkisil/MoebInv-notebooks), 2019.\n",
    "\n",
    "[Back to Folder](https://github.com/vvkisil/MoebInv-notebooks/blob/master/EPAL-v1/)\n"
   ]
  }
 ],
 "metadata": {
  "kernelspec": {
   "argv": [
    "/usr/bin/python3",
    "-m",
    "ipykernel_launcher",
    "-f",
    "{connection_file}"
   ],
   "display_name": "Python 3 (ipykernel)",
   "env": null,
   "interrupt_mode": "signal",
   "language": "python",
   "metadata": {
    "debugger": true
   },
   "name": "python3"
  },
  "language_info": {
   "codemirror_mode": {
    "name": "ipython",
    "version": 3
   },
   "file_extension": ".py",
   "mimetype": "text/x-python",
   "name": "python",
   "nbconvert_exporter": "python",
   "pygments_lexer": "ipython3",
   "version": "3.6.4"
  },
  "name": "ex.I.3.21.i.ipynb"
 },
 "nbformat": 4,
 "nbformat_minor": 5
}
