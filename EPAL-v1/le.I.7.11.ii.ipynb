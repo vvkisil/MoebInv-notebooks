{
 "cells": [
  {
   "cell_type": "markdown",
   "id": "c5c56a8e-d998-44f0-8f13-7e6d32336e17",
   "metadata": {
    "collapsed": false
   },
   "source": [
    "<table style=\"width:100%\">\n",
    "    <tr>\n",
    "        <td>\n",
    "            <a href=\"http://www1.maths.leeds.ac.uk/~kisilv/MoebInv-notebooks/EPAL-v1/le.I.7.11.ii.html\">\n",
    "  <img src=\"../svg/view-html.svg\" alt=\"Open In Colab\"/>\n",
    "            </a>\n",
    "        </td>\n",
    "        <td>\n",
    "<a href=\"https://github.com/vvkisil/MoebInv-notebooks/blob/master/EPAL-v1/le.I.7.11.ii.ipynb\">\n",
    "  <img src=\"../svg/open-github.svg\" alt=\"Open In Colab\"/>\n",
    "            </a>\n",
    "        </td>\n",
    "        <td>\n",
    "            <a href=\"https://colab.research.google.com/github/vvkisil/MoebInv-notebooks/blob/master/EPAL-v1/le.I.7.11.ii.ipynb\">\n",
    "  <img src=\"../svg/exec-colab.svg\" alt=\"Open In Colab\"/>\n",
    "            </a>\n",
    "        </td>\n",
    "        <td>\n",
    "            <a href=\"https://codeocean.com/capsule/7952650/tree\">\n",
    "  <img src=\"../svg/code-ocean.svg\" alt=\"Code Ocean\"/>\n",
    "            </a>\n",
    "        </td>\n",
    "    </tr>\n",
    " </table>\n",
    "\n",
    "<a  align=\"center\" href=\"https://colab.research.google.com/github/vvkisil/MoebInv-notebooks/blob/master/Introduction/Software_installation_GUI_integration.ipynb\">Google CoLab software installation</a>\n"
   ]
  },
  {
   "cell_type": "markdown",
   "id": "5490a4d8-72e4-4106-92df-5aa907de043e",
   "metadata": {
    "collapsed": false,
    "ein.tags": "worksheet-0",
    "slideshow": {
     "slide_type": "-"
    }
   },
   "source": [
    "# Lemma: the length from the cycle with a focus at one point. \n",
    "\n",
    "**Lemma I.7.11.ii** [ [1] ](#[1]) \n",
    "$\n",
    "\\newcommand{\\scalar}[3][]{\\left\\langle #2,#3 \n",
    "        \\right\\rangle_{#1}}\n",
    "\\newcommand{\\Space}[3][]{\\mathbb{#2}^{#3}_{#1}}\n",
    "\\newcommand{\\Space}[3][]{\\mathbb{#2}^{#3}_{#1}}\n",
    "  \\newcommand{\\cycle}[3][]{{#1 C^{#2}_{#3}}}\n",
    "  \\newcommand{\\realline}[3][]{#1 R^{#2}_{#3}}\n",
    "  \\newcommand{\\bs}{\\breve{\\sigma}}\n",
    "  \\newcommand{\\zcycle}[3][]{#1 Z^{#2}_{#3}}\n",
    "  \\newcommand{\\SL}[1][2]{\\mathrm{SL}_{#1}(\\Space{R}{})}\n",
    "  \\newcommand{\\rs}{\\sigma_r}\n",
    "  \\newcommand{\\lvec}[1]{\\overrightarrow{#1}}\n",
    "\\newcommand{\\rmi}{\\mathrm{i}}\n",
    "\\newcommand{\\alli}{\\iota}\n",
    "\\newcommand{\\rme}{\\mathrm{e}}\n",
    "\\newcommand{\\rmd}{\\mathrm{d}}\n",
    "\\newcommand{\\rmh}{\\mathrm{j}}\n",
    "\\newcommand{\\rmp}{\\varepsilon}\n",
    "\\newcommand{\\modulus}[2][]{\\left| #2 \\right|_{#1}}\n",
    "\\newcommand{\\sperp}{⋋}\n",
    "$\n",
    "  For two points $P=u+\\alli v$, $P'=u'+\\alli\n",
    "  v'\\in\\Space[\\sigma]{R}{}$, \n",
    "    The $\\bs$-length from\n",
    "    the $\\rs$-focus between $P$ and $P'$ is\n",
    "    \\begin{equation}\n",
    "      l_{f_{\\bs}}^2(\\lvec{PP'})  = (\\rs-\\bs) p^2-2vp,\n",
    "    \\end{equation}\n",
    "    where:\n",
    "    \\begin{equation}\n",
    "      p  =  \\rs\\left(-(v'-v)\\pm\\sqrt{\\rs(u'-u)^2+(v'-v)^2-\\sigma\\rs\n",
    "          v'^2}\\right),\\quad\\text{if } \\rs\\neq0\n",
    "    \\end{equation}\n",
    "    \\begin{equation}\n",
    "      p  =  \\frac{(u'-u)^2-\\sigma v'^2}{2(v'-v)}, \\quad\\text{if } \\rs=0.\n",
    "    \\end{equation}"
   ]
  },
  {
   "cell_type": "markdown",
   "id": "eb7c1370-b12e-4843-baff-6d8dcaa08944",
   "metadata": {
    "collapsed": false,
    "ein.tags": "worksheet-0",
    "slideshow": {
     "slide_type": "-"
    }
   },
   "source": [
    "**Proof.** To use the linear solver in \\GiNaC\\ we need \n",
    "to replace the condition `C10.focus().op(1) == v` by hand-made value \n",
    "for the parameter `n`.\n",
    "\n",
    "There are two suitable values of `n` which correspond upward and \n",
    "downward parabolas, which are expressed by plus or minus before the\n",
    "square root.  After the value of length was found we master\n",
    "a simpler expression for it which utilises the focal length [[p]] of\n",
    "the parabola."
   ]
  },
  {
   "cell_type": "code",
   "execution_count": null,
   "id": "0d115a7a-801c-4043-aa78-c3f3208cc524",
   "metadata": {
    "autoscroll": false,
    "collapsed": false,
    "ein.hycell": false,
    "ein.tags": "worksheet-0",
    "slideshow": {
     "slide_type": "-"
    }
   },
   "outputs": [],
   "source": [
    "from init_cycle import *\n",
    "nu = varidx(symbol(\"nu\"),2)"
   ]
  },
  {
   "cell_type": "markdown",
   "id": "217c56e5-c770-44c1-94db-4476d155bbc2",
   "metadata": {
    "collapsed": false,
    "ein.tags": "worksheet-0",
    "slideshow": {
     "slide_type": "-"
    }
   },
   "source": [
    "signs_cube = {pow(sign, 3) : sign, pow(sign1, 3) : sign1}"
   ]
  },
  {
   "cell_type": "code",
   "execution_count": null,
   "id": "8463bccb-8419-4ab1-9ce7-e7bf7e25dd87",
   "metadata": {
    "autoscroll": false,
    "collapsed": false,
    "ein.hycell": false,
    "ein.tags": "worksheet-0",
    "slideshow": {
     "slide_type": "-"
    }
   },
   "outputs": [],
   "source": [
    "signs_cube = {pow(sign1, 3) : sign}"
   ]
  },
  {
   "cell_type": "code",
   "execution_count": null,
   "id": "cc134923-e4cf-4e18-87c3-f4451321ba62",
   "metadata": {
    "autoscroll": false,
    "collapsed": false,
    "ein.hycell": false,
    "ein.tags": "worksheet-0",
    "slideshow": {
     "slide_type": "-"
    }
   },
   "outputs": [],
   "source": [
    "def focal_length_check(p):\n",
    "    er = clifford_unit(nu, diag_matrix([-1, sign5]), 2)\n",
    "    C11 = C.subject_to([C.passing(P1), k==1, l == u, n == p])\n",
    "    # And now we verify that the length is equal to (1-\\sigma_1)p^2-2vp\n",
    "    Len_c = C11.radius_sq(es).subs({pow(sign2,2) : 1}, subs_options.algebraic).normal()\n",
    "    \n",
    "    display(Latex(\"Verifying the f-length $%s$\" % p))\n",
    "    print(\"  [sanity check: cycle passes through (u1, v1): %s]\" % C11.val(P1).normal().is_zero())\n",
    "    print(\"  [sanity check: cycle's er-focus is  (u, v): %s]\" % \\\n",
    "    (C11.focus(er,True).subs({pow(sign2,2) : 1}, subs_options.algebraic)-matrix([[u],[v]])).evalm().normal().is_zero_matrix())\n",
    "    return Latex(\"Length between $(u,v)$ and $(u', v')$ is equal to $(\\sigma_2-\\sigma_1)p^2-2vp$: %s\" %\\\n",
    "    ((Len_c - ((sign5-sign1)*pow(p, 2) - 2*v*p)).\\\n",
    "    subs(signs_cube, subs_options.algebraic).expand()\\\n",
    "    .subs({pow(sign2,2) : 1}, subs_options.algebraic).normal().is_zero()))"
   ]
  },
  {
   "cell_type": "markdown",
   "id": "1a7f6f04-9f71-42a2-8f09-62b64ee863a7",
   "metadata": {
    "collapsed": false,
    "ein.tags": "worksheet-0",
    "slideshow": {
     "slide_type": "-"
    }
   },
   "source": [
    "We made two checks for solution with positive sign..."
   ]
  },
  {
   "cell_type": "code",
   "execution_count": null,
   "id": "f2e98aab-3e66-4e05-88f8-d1c7a2e2df1f",
   "metadata": {
    "autoscroll": false,
    "collapsed": false,
    "ein.hycell": false,
    "ein.tags": "worksheet-0",
    "slideshow": {
     "slide_type": "-"
    }
   },
   "outputs": [],
   "source": [
    "sign5=sign2\n",
    "focal_length_check(sign5*(-(v1-v)+pow(sign5*pow(u1-u, 2)+pow(v1-v, 2) \\\n",
    "-sign5*sign*pow(v1, 2),half)))"
   ]
  },
  {
   "cell_type": "markdown",
   "id": "6917c543-ac25-4588-94e7-e336139d4522",
   "metadata": {
    "collapsed": false,
    "ein.tags": "worksheet-0",
    "slideshow": {
     "slide_type": "-"
    }
   },
   "source": [
    "...and with negative sign"
   ]
  },
  {
   "cell_type": "code",
   "execution_count": null,
   "id": "5ff369ef-95bb-4931-be3a-e881a73a283a",
   "metadata": {
    "autoscroll": false,
    "collapsed": false,
    "ein.hycell": false,
    "ein.tags": "worksheet-0",
    "slideshow": {
     "slide_type": "-"
    }
   },
   "outputs": [],
   "source": [
    "focal_length_check(sign5*(-(v1-v)-pow(sign5*pow(u1-u, 2)+pow(v1-v, 2) \\\n",
    "-sign5*sign*pow(v1, 2),half)))"
   ]
  },
  {
   "cell_type": "markdown",
   "id": "406c37cf-772f-4326-904b-3741d5a8fff5",
   "metadata": {
    "collapsed": false,
    "ein.tags": "worksheet-0",
    "slideshow": {
     "slide_type": "-"
    }
   },
   "source": [
    "finally we check the parabolic case formula"
   ]
  },
  {
   "cell_type": "code",
   "execution_count": null,
   "id": "0cda8f9f-57f7-42c9-a1aa-5c09a8edfb92",
   "metadata": {
    "autoscroll": false,
    "collapsed": false,
    "ein.hycell": false,
    "ein.tags": "worksheet-0",
    "slideshow": {
     "slide_type": "-"
    }
   },
   "outputs": [],
   "source": [
    "sign5=0;\n",
    "focal_length_check((pow(u1-u,2)-sign*pow(v1,2))/(v1-v)/2)"
   ]
  },
  {
   "cell_type": "markdown",
   "id": "1bc4b38d-bbd6-47c6-8f3b-377da48a1370",
   "metadata": {
    "collapsed": false
   },
   "source": [
    "\n",
    "This notebook is a part of the *MoebInv notebooks* project [ [2] ](#[2]).\n",
    "\n",
    "### References\n",
    "<a id=\"references\"></a>\n",
    "<a id=\"[1]\"></a>\n",
    "1. Vladimir V. Kisil. *Geometry of Möbius Transformations: Elliptic, Parabolic and Hyperbolic Actions of $SL_2(\\mathbb{R})$*. [Imperial College Press](https://www.worldscientific.com/worldscibooks/10.1142/p835), London, 2012. Includes a live DVD.\n",
    "\n",
    "   <a id=\"[2]\"></a>\n",
    "2.  Vladimir V. Kisil, [*MoebInv notebooks*](https://github.com/vvkisil/MoebInv-notebooks), 2019.\n",
    "\n",
    "[Back to Folder](https://github.com/vvkisil/MoebInv-notebooks/blob/master/EPAL-v1/)\n"
   ]
  }
 ],
 "metadata": {
  "kernelspec": {
   "argv": [
    "/usr/bin/python3",
    "-m",
    "ipykernel_launcher",
    "-f",
    "{connection_file}"
   ],
   "display_name": "Python 3 (ipykernel)",
   "env": null,
   "interrupt_mode": "signal",
   "language": "python",
   "metadata": {
    "debugger": true
   },
   "name": "python3"
  },
  "language_info": {
   "codemirror_mode": {
    "name": "ipython",
    "version": 3
   },
   "file_extension": ".py",
   "mimetype": "text/x-python",
   "name": "python",
   "nbconvert_exporter": "python",
   "pygments_lexer": "ipython3",
   "version": "3.6.4"
  },
  "name": "le.I.7.11.ii.ipynb"
 },
 "nbformat": 4,
 "nbformat_minor": 5
}
