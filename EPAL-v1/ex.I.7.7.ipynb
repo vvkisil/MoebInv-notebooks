{
 "cells": [
  {
   "cell_type": "markdown",
   "id": "0ef4241a-9c99-4c34-9027-621ac27a90e2",
   "metadata": {
    "collapsed": false
   },
   "source": [
    "<table style=\"width:100%\">\n",
    "    <tr>\n",
    "        <td>\n",
    "            <a href=\"http://www1.maths.leeds.ac.uk/~kisilv/MoebInv-notebooks/EPAL-v1/ex.I.7.7.html\">\n",
    "  <img src=\"../svg/view-html.svg\" alt=\"Open In Colab\"/>\n",
    "            </a>\n",
    "        </td>\n",
    "        <td>\n",
    "<a href=\"https://github.com/vvkisil/MoebInv-notebooks/blob/master/EPAL-v1/ex.I.7.7.ipynb\">\n",
    "  <img src=\"../svg/open-github.svg\" alt=\"Open In Colab\"/>\n",
    "            </a>\n",
    "        </td>\n",
    "        <td>\n",
    "            <a href=\"https://colab.research.google.com/github/vvkisil/MoebInv-notebooks/blob/master/EPAL-v1/ex.I.7.7.ipynb\">\n",
    "  <img src=\"../svg/exec-colab.svg\" alt=\"Open In Colab\"/>\n",
    "            </a>\n",
    "        </td>\n",
    "        <td>\n",
    "            <a href=\"https://codeocean.com/capsule/7952650/tree\">\n",
    "  <img src=\"../svg/code-ocean.svg\" alt=\"Code Ocean\"/>\n",
    "            </a>\n",
    "        </td>\n",
    "    </tr>\n",
    " </table>\n",
    "\n",
    "<a  align=\"center\" href=\"https://colab.research.google.com/github/vvkisil/MoebInv-notebooks/blob/master/Introduction/Software_installation_GUI_integration.ipynb\">Google CoLab software installation</a>\n"
   ]
  },
  {
   "cell_type": "markdown",
   "id": "af6ef0f1-a68d-443f-b195-edad42c9d30c",
   "metadata": {
    "collapsed": false,
    "ein.tags": "worksheet-0",
    "slideshow": {
     "slide_type": "-"
    }
   },
   "source": [
    "# First we define the distance of functions\n",
    "\n",
    "**Exercise I.7.7**[ [1] ](#[1])\n",
    "$\n",
    "\\newcommand{\\scalar}[3][]{\\left\\langle #2,#3 \n",
    "        \\right\\rangle_{#1}}\n",
    "\\newcommand{\\Space}[3][]{\\mathbb{#2}^{#3}_{#1}}\n",
    "\\newcommand{\\Space}[3][]{\\mathbb{#2}^{#3}_{#1}}\n",
    "  \\newcommand{\\cycle}[3][]{{#1 C^{#2}_{#3}}}\n",
    "  \\newcommand{\\realline}[3][]{#1 R^{#2}_{#3}}\n",
    "  \\newcommand{\\bs}{\\breve{\\sigma}}\n",
    "  \\newcommand{\\zcycle}[3][]{#1 Z^{#2}_{#3}}\n",
    "  \\newcommand{\\SL}[1][2]{\\mathrm{SL}_{#1}(\\Space{R}{})}\n",
    "  \\newcommand{\\rs}{\\sigma_r}\n",
    "  \\newcommand{\\lvec}[1]{\\overrightarrow{#1}}\n",
    "\\newcommand{\\rmi}{\\mathrm{i}}\n",
    "\\newcommand{\\alli}{\\iota}\n",
    "\\newcommand{\\rme}{\\mathrm{e}}\n",
    "\\newcommand{\\rmd}{\\mathrm{d}}\n",
    "\\newcommand{\\rmh}{\\mathrm{j}}\n",
    "\\newcommand{\\rmp}{\\varepsilon}\n",
    "\\newcommand{\\modulus}[2][]{\\left| #2 \\right|_{#1}}\n",
    "\\newcommand{\\sperp}{⋋}\n",
    "$\n",
    "  Show that the power of a point $W$ \n",
    "  with respect to a cycle is the\n",
    "  product $d_\\sigma (W,P)\\cdot d_\\sigma (W,P')$ of\n",
    "  $(\\sigma,\\sigma)$-distances, where\n",
    "  $P$ and $P'$ are any two points of the cycle which are collinear with $W$.\n",
    "\n",
    "**Hint.**\n",
    "    Take $P=(u,v)$ and $P'=(u',v')$. Then, any collinear $W$ is\n",
    "    $(tu+(1-t)u',tv+(1-t)v')$ for some\n",
    "    $t\\in\\Space{R}{}$. Furthermore, a simple calculation shows that\n",
    "    $d_\\sigma (y,z)\\cdot d_\\sigma (z,y')=\n",
    "    t(t-1)d_\\sigma^2(y,y')$. The last expression is equal to the power\n",
    "    of $W$ with respect to the cycle---this step can be done by CAS."
   ]
  },
  {
   "cell_type": "markdown",
   "id": "4f51a356-6247-4789-8142-9611392ca7bc",
   "metadata": {
    "collapsed": false,
    "ein.tags": "worksheet-0",
    "slideshow": {
     "slide_type": "-"
    }
   },
   "source": [
    "**Solution.** Define the function for the distance"
   ]
  },
  {
   "cell_type": "code",
   "execution_count": null,
   "id": "91827da7-ae99-4f68-90c5-a038518ad72f",
   "metadata": {
    "autoscroll": false,
    "collapsed": false,
    "ein.hycell": false,
    "ein.tags": "worksheet-0",
    "slideshow": {
     "slide_type": "-"
    }
   },
   "outputs": [],
   "source": [
    "from init_cycle import *\n",
    "def dist2(X,Y,s):\n",
    "    return (X[0]-Y[0])**2-s*(X[1]-Y[1])**2"
   ]
  },
  {
   "cell_type": "markdown",
   "id": "12cd5fbe-f14c-4a39-9e94-e215f19b70ed",
   "metadata": {
    "collapsed": false,
    "ein.tags": "worksheet-0",
    "slideshow": {
     "slide_type": "-"
    }
   },
   "source": [
    "Define point P"
   ]
  },
  {
   "cell_type": "code",
   "execution_count": null,
   "id": "14406936-f43a-4518-960f-43552f734212",
   "metadata": {
    "autoscroll": false,
    "collapsed": false,
    "ein.hycell": false,
    "ein.tags": "worksheet-0",
    "slideshow": {
     "slide_type": "-"
    }
   },
   "outputs": [],
   "source": [
    "P=[u,v]"
   ]
  },
  {
   "cell_type": "markdown",
   "id": "c63cb8a5-99ff-4038-9d95-0ce240587481",
   "metadata": {
    "collapsed": false,
    "ein.tags": "worksheet-0",
    "slideshow": {
     "slide_type": "-"
    }
   },
   "source": [
    "Define point P1"
   ]
  },
  {
   "cell_type": "code",
   "execution_count": null,
   "id": "8f2d8949-286c-4617-88e1-4a0f5b24c535",
   "metadata": {
    "autoscroll": false,
    "collapsed": false,
    "ein.hycell": false,
    "ein.tags": "worksheet-0",
    "slideshow": {
     "slide_type": "-"
    }
   },
   "outputs": [],
   "source": [
    "P1=[u1,v1]"
   ]
  },
  {
   "cell_type": "markdown",
   "id": "244fe44e-5ef2-419c-b5d8-f825eca3c7a4",
   "metadata": {
    "collapsed": false,
    "ein.tags": "worksheet-0",
    "slideshow": {
     "slide_type": "-"
    }
   },
   "source": [
    "Define a new point Pt on the line through (u,v) and (u1,v1)"
   ]
  },
  {
   "cell_type": "code",
   "execution_count": null,
   "id": "53e22531-652c-411c-beb6-a16596b3fdb2",
   "metadata": {
    "autoscroll": false,
    "collapsed": false,
    "ein.hycell": false,
    "ein.tags": "worksheet-0",
    "slideshow": {
     "slide_type": "-"
    }
   },
   "outputs": [],
   "source": [
    "Pt=[t*u+(1-t)*u1,t*v+(1-t)*v1]"
   ]
  },
  {
   "cell_type": "markdown",
   "id": "94ea96a2-3afc-49b2-af84-d182cf1eb7e0",
   "metadata": {
    "collapsed": false,
    "ein.tags": "worksheet-0",
    "slideshow": {
     "slide_type": "-"
    }
   },
   "source": [
    "Then create a template of a cycle"
   ]
  },
  {
   "cell_type": "code",
   "execution_count": null,
   "id": "35ace425-309d-4174-b106-feb89aa6f64c",
   "metadata": {
    "autoscroll": false,
    "collapsed": false,
    "ein.hycell": false,
    "ein.tags": "worksheet-0",
    "slideshow": {
     "slide_type": "-"
    }
   },
   "outputs": [],
   "source": [
    "C0=cycle2D(1,[l,n],m,e)"
   ]
  },
  {
   "cell_type": "markdown",
   "id": "ebd35376-392f-49b0-91b1-138e48fc59bb",
   "metadata": {
    "collapsed": false,
    "ein.tags": "worksheet-0",
    "slideshow": {
     "slide_type": "-"
    }
   },
   "source": [
    "Now ask the cycle pass points P and P1"
   ]
  },
  {
   "cell_type": "code",
   "execution_count": null,
   "id": "3ee531a9-3d0d-4b72-9529-68b90b19315d",
   "metadata": {
    "autoscroll": false,
    "collapsed": false,
    "ein.hycell": false,
    "ein.tags": "worksheet-0",
    "slideshow": {
     "slide_type": "-"
    }
   },
   "outputs": [],
   "source": [
    "Cr=C0.subject_to([C0.passing(P), C0.passing(P1)],[l,n,m])"
   ]
  },
  {
   "cell_type": "markdown",
   "id": "e9662d2b-046a-4e22-9347-b9f00d531d18",
   "metadata": {
    "collapsed": false,
    "ein.tags": "worksheet-0",
    "slideshow": {
     "slide_type": "-"
    }
   },
   "source": [
    "Calculate the power of Pt with respect to the cycle"
   ]
  },
  {
   "cell_type": "code",
   "execution_count": null,
   "id": "33c70f0c-c641-4d0c-a1a2-0ad8a2015d91",
   "metadata": {
    "autoscroll": false,
    "collapsed": false,
    "ein.hycell": false,
    "ein.tags": "worksheet-0",
    "slideshow": {
     "slide_type": "-"
    }
   },
   "outputs": [],
   "source": [
    "E=Cr.val(Pt).normal()"
   ]
  },
  {
   "cell_type": "markdown",
   "id": "8d585b13-8bcc-40bf-8345-930dc9d6482a",
   "metadata": {
    "collapsed": false,
    "ein.tags": "worksheet-0",
    "slideshow": {
     "slide_type": "-"
    }
   },
   "source": [
    "and compare it with the product:"
   ]
  },
  {
   "cell_type": "code",
   "execution_count": null,
   "id": "7c2cbc3f-a3ce-4e8f-b789-4f2fca5a5c22",
   "metadata": {
    "collapsed": false
   },
   "outputs": [],
   "source": [
    "\"Power is the product of distances (1st form): %r\" % \\\n",
    "(dist2(P,P1,sign)*t*(t-1)-E).expand().normal().is_zero()"
   ]
  },
  {
   "cell_type": "code",
   "execution_count": null,
   "id": "8f0243cb-d547-42ae-9d68-5d186e347d64",
   "metadata": {
    "autoscroll": false,
    "collapsed": false,
    "ein.hycell": false,
    "ein.tags": "worksheet-0",
    "slideshow": {
     "slide_type": "-"
    }
   },
   "outputs": [],
   "source": [
    "\"Power is the product of distances (2nd form): %r\" % \\\n",
    "(dist2(P,Pt,sign)*dist2(Pt,P1,sign)-E**2).expand().normal().is_zero()"
   ]
  },
  {
   "cell_type": "markdown",
   "id": "8ab3e0a8-0ac4-4540-b3d1-b3a160caa45e",
   "metadata": {
    "collapsed": false
   },
   "source": [
    "\n",
    "This notebook is a part of the *MoebInv notebooks* project [ [2] ](#[2]).\n",
    "\n",
    "### References\n",
    "<a id=\"references\"></a>\n",
    "<a id=\"[1]\"></a>\n",
    "1. Vladimir V. Kisil. *Geometry of Möbius Transformations: Elliptic, Parabolic and Hyperbolic Actions of $SL_2(\\mathbb{R})$*. [Imperial College Press](https://www.worldscientific.com/worldscibooks/10.1142/p835), London, 2012. Includes a live DVD.\n",
    "\n",
    "   <a id=\"[2]\"></a>\n",
    "2.  Vladimir V. Kisil, [*MoebInv notebooks*](https://github.com/vvkisil/MoebInv-notebooks), 2019.\n",
    "\n",
    "[Back to Folder](https://github.com/vvkisil/MoebInv-notebooks/blob/master/EPAL-v1/)\n"
   ]
  }
 ],
 "metadata": {
  "kernelspec": {
   "argv": [
    "/usr/bin/python3",
    "-m",
    "ipykernel_launcher",
    "-f",
    "{connection_file}"
   ],
   "display_name": "Python 3 (ipykernel)",
   "env": null,
   "interrupt_mode": "signal",
   "language": "python",
   "metadata": {
    "debugger": true
   },
   "name": "python3"
  },
  "language_info": {
   "codemirror_mode": {
    "name": "ipython",
    "version": 3
   },
   "file_extension": ".py",
   "mimetype": "text/x-python",
   "name": "python",
   "nbconvert_exporter": "python",
   "pygments_lexer": "ipython3",
   "version": "3.6.4"
  },
  "name": "ex.I.7.7.ipynb"
 },
 "nbformat": 4,
 "nbformat_minor": 5
}
