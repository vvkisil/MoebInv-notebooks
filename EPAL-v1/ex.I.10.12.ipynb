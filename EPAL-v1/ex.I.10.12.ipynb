{
 "cells": [
  {
   "cell_type": "markdown",
   "id": "1bf96f1c-37f1-4eaa-8c06-9424eaf0f785",
   "metadata": {
    "collapsed": false
   },
   "source": [
    "<table style=\"width:100%\">\n",
    "    <tr>\n",
    "        <td>\n",
    "            <a href=\"http://www1.maths.leeds.ac.uk/~kisilv/MoebInv-notebooks/EPAL-v1/ex.I.10.12.html\">\n",
    "  <img src=\"../svg/view-html.svg\" alt=\"Open In Colab\"/>\n",
    "            </a>\n",
    "        </td>\n",
    "        <td>\n",
    "<a href=\"https://github.com/vvkisil/MoebInv-notebooks/blob/master/EPAL-v1/ex.I.10.12.ipynb\">\n",
    "  <img src=\"../svg/open-github.svg\" alt=\"Open In Colab\"/>\n",
    "            </a>\n",
    "        </td>\n",
    "        <td>\n",
    "            <a href=\"https://colab.research.google.com/github/vvkisil/MoebInv-notebooks/blob/master/EPAL-v1/ex.I.10.12.ipynb\">\n",
    "  <img src=\"../svg/exec-colab.svg\" alt=\"Open In Colab\"/>\n",
    "            </a>\n",
    "        </td>\n",
    "        <td>\n",
    "            <a href=\"https://codeocean.com/capsule/7952650/tree\">\n",
    "  <img src=\"../svg/code-ocean.svg\" alt=\"Code Ocean\"/>\n",
    "            </a>\n",
    "        </td>\n",
    "    </tr>\n",
    " </table>\n",
    "\n",
    "<a  align=\"center\" href=\"https://colab.research.google.com/github/vvkisil/MoebInv-notebooks/blob/master/Introduction/Software_installation_GUI_integration.ipynb\">Google CoLab software installation</a>\n"
   ]
  },
  {
   "cell_type": "markdown",
   "id": "787d07f3-56fb-4908-b522-fb500a76cb40",
   "metadata": {
    "collapsed": false,
    "ein.tags": "worksheet-0",
    "slideshow": {
     "slide_type": "-"
    }
   },
   "source": [
    "# The family of infinitesimal cycles is invariant under the Cayley transform \n",
    "\n",
    "**Exercise I.10.12.** [ [1] ](#[1])\n",
    " Show that images of infinitesimal cycles under the parabolic Cayley\n",
    "  transform are, themselves, infinitesimal\n",
    "  cycles.\n",
    "  \n",
    "**Solution.** First we define some suitable substitutions to simplify algebraic equations later."
   ]
  },
  {
   "cell_type": "code",
   "execution_count": null,
   "id": "8948067b-5569-4506-b83d-312cbacb8cc6",
   "metadata": {
    "autoscroll": false,
    "collapsed": false,
    "ein.hycell": false,
    "ein.tags": "worksheet-0",
    "slideshow": {
     "slide_type": "-"
    }
   },
   "outputs": [],
   "source": [
    "from init_cycle import *\n",
    "sign_cube = {pow(sign, 3)  : sign}\n",
    "sign1_cube = {pow(sign1, 3)  : sign1}\n",
    "vp=possymbol(\"vp\")\n",
    "sl2_relation = {c*b  : a*d-1}\n",
    "sl2_relation1 = {a  : (1+b*c)/d}"
   ]
  },
  {
   "cell_type": "markdown",
   "id": "b907f4f2-9f43-400d-bcb3-57a0b9547fca",
   "metadata": {
    "collapsed": false,
    "ein.tags": "worksheet-0",
    "slideshow": {
     "slide_type": "-"
    }
   },
   "source": [
    "The check will be performed by the next procedure. It verifies the expression of the Cayley transform on infinitesimal cycles and evaluates its radius."
   ]
  },
  {
   "cell_type": "code",
   "execution_count": null,
   "id": "7aee6517-e60f-43e5-a695-4d5a285b3845",
   "metadata": {
    "autoscroll": false,
    "collapsed": false,
    "ein.hycell": false,
    "ein.tags": "worksheet-0",
    "slideshow": {
     "slide_type": "-"
    }
   },
   "outputs": [],
   "source": [
    "def infinitesimal_trans(nval):\n",
    "    C10 = cycle2D(1, [u, n],  pow(u,2)-pow(n,2)*sign1+pow(epsilon,2), e).subs(nval)\n",
    "    C11=cayley(C10,0,sign1)\n",
    "    display(Latex(\"Checking infinitesimal cycle: $%s$\" % C10.string()))\n",
    "    display(Latex(\"  Image under Cayley transform of infinitesimal cycle has radius squared: $%s$\" %\\\n",
    "    C11.radius_sq(es).subs(sl2_relation1, subs_options.algebraic).\\\n",
    "    subs(sign_cube, subs_options.algebraic).series(relational(epsilon, 0, eq), 3).normal()))"
   ]
  },
  {
   "cell_type": "markdown",
   "id": "7b0e08b9-b2f3-4bcf-8751-faeda80cb25b",
   "metadata": {
    "collapsed": false,
    "ein.tags": "worksheet-0",
    "slideshow": {
     "slide_type": "-"
    }
   },
   "source": [
    "Now we do first check, the first for elliptic focus."
   ]
  },
  {
   "cell_type": "code",
   "execution_count": null,
   "id": "96868fe7-cc4a-41dd-b0f2-7adfab0bfdef",
   "metadata": {
    "autoscroll": false,
    "collapsed": false,
    "ein.hycell": false,
    "ein.tags": "worksheet-0",
    "slideshow": {
     "slide_type": "-"
    }
   },
   "outputs": [],
   "source": [
    "infinitesimal_trans({n : (vp-(pow(pow(vp,2)-pow(epsilon,2)*(sign2-sign1),half)))/(sign2-sign1)})"
   ]
  },
  {
   "cell_type": "markdown",
   "id": "d8251bbe-da22-40ab-a86e-cac2f7de21aa",
   "metadata": {
    "collapsed": false,
    "ein.tags": "worksheet-0",
    "slideshow": {
     "slide_type": "-"
    }
   },
   "source": [
    "The second check is for the parabolic focus, i.e. the vertex of the parabola."
   ]
  },
  {
   "cell_type": "code",
   "execution_count": null,
   "id": "0696b0da-b909-40dc-bb57-b8abe391ecd7",
   "metadata": {
    "autoscroll": false,
    "collapsed": false,
    "ein.hycell": false,
    "ein.tags": "worksheet-0",
    "slideshow": {
     "slide_type": "-"
    }
   },
   "outputs": [],
   "source": [
    "infinitesimal_trans({n : pow(epsilon,2)/2/vp, sign2 : sign1})\n",
    "                                                                  "
   ]
  },
  {
   "cell_type": "markdown",
   "id": "828e88b7-d0e6-438f-8850-5630ad50103b",
   "metadata": {
    "collapsed": false
   },
   "source": [
    "\n",
    "This notebook is a part of the *MoebInv notebooks* project [ [2] ](#[2]).\n",
    "\n",
    "### References\n",
    "<a id=\"references\"></a>\n",
    "<a id=\"[1]\"></a>\n",
    "1. Vladimir V. Kisil. *Geometry of Möbius Transformations: Elliptic, Parabolic and Hyperbolic Actions of $SL_2(\\mathbb{R})$*. [Imperial College Press](https://www.worldscientific.com/worldscibooks/10.1142/p835), London, 2012. Includes a live DVD.\n",
    "\n",
    "   <a id=\"[2]\"></a>\n",
    "2.  Vladimir V. Kisil, [*MoebInv notebooks*](https://github.com/vvkisil/MoebInv-notebooks), 2019.\n",
    "\n",
    "[Back to Folder](https://github.com/vvkisil/MoebInv-notebooks/blob/master/EPAL-v1/)\n"
   ]
  }
 ],
 "metadata": {
  "kernelspec": {
   "argv": [
    "/usr/bin/python3",
    "-m",
    "ipykernel_launcher",
    "-f",
    "{connection_file}"
   ],
   "display_name": "Python 3 (ipykernel)",
   "env": null,
   "interrupt_mode": "signal",
   "language": "python",
   "metadata": {
    "debugger": true
   },
   "name": "python3"
  },
  "language_info": {
   "codemirror_mode": {
    "name": "ipython",
    "version": 3
   },
   "file_extension": ".py",
   "mimetype": "text/x-python",
   "name": "python",
   "nbconvert_exporter": "python",
   "pygments_lexer": "ipython3",
   "version": "3.6.4"
  },
  "name": "ex.I.10.12.ipynb"
 },
 "nbformat": 4,
 "nbformat_minor": 5
}
