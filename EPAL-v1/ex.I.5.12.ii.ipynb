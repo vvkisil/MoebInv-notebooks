{
 "cells": [
  {
   "cell_type": "markdown",
   "metadata": {},
   "source": [
    "<table style=\"width:100%\">\n",
    "    <tr>\n",
    "        <td>\n",
    "            <a href=\"http://v-v-kisil.scienceontheweb.net/MoebInv-notebooks/EPAL-v1/ex.I.5.12.ii.html\">\n",
    "  <img src=\"../svg/view-html.svg\" alt=\"Open In Colab\"/>\n",
    "            </a>\n",
    "        </td>\n",
    "        <td>\n",
    "<a href=\"https://github.com/vvkisil/MoebInv-notebooks/blob/master/EPAL-v1/ex.I.5.12.ii.ipynb\">\n",
    "  <img src=\"../svg/open-github.svg\" alt=\"Open In Colab\"/>\n",
    "            </a>\n",
    "        </td>\n",
    "        <td>\n",
    "            <a href=\"https://colab.research.google.com/github/vvkisil/MoebInv-notebooks/blob/master/EPAL-v1/ex.I.5.12.ii.ipynb\">\n",
    "  <img src=\"../svg/exec-colab.svg\" alt=\"Open In Colab\"/>\n",
    "            </a>\n",
    "        </td>\n",
    "        <td>\n",
    "            <a href=\"https://codeocean.com/capsule/7952650/tree\">\n",
    "  <img src=\"../svg/code-ocean.svg\" alt=\"Code Ocean\"/>\n",
    "            </a>\n",
    "        </td>\n",
    "    </tr>\n",
    " </table>\n",
    "\n",
    "<a  align=\"center\" href=\"https://colab.research.google.com/github/vvkisil/MoebInv-notebooks/blob/master/Introduction/Software_installation_GUI_integration.ipynb\">Google CoLab software installation</a>\n"
   ]
  },
  {
   "cell_type": "markdown",
   "metadata": {
    "ein.tags": "worksheet-0",
    "slideshow": {
     "slide_type": "-"
    }
   },
   "source": [
    "# Explicit expression for cycle product\n",
    "\n",
    "**Exercise I.5.12.ii**[ [1] ](#[1])\n",
    "$\n",
    "\\newcommand{\\scalar}[3][]{\\left\\langle #2,#3 \n",
    "        \\right\\rangle_{#1}}\n",
    "\\newcommand{\\Space}[3][]{\\mathbb{#2}^{#3}_{#1}}\n",
    "\\newcommand{\\Space}[3][]{\\mathbb{#2}^{#3}_{#1}}\n",
    "  \\newcommand{\\cycle}[3][]{{#1 C^{#2}_{#3}}}\n",
    "  \\newcommand{\\realline}[3][]{#1 R^{#2}_{#3}}\n",
    "  \\newcommand{\\bs}{\\breve{\\sigma}}\n",
    "  \\newcommand{\\zcycle}[3][]{#1 Z^{#2}_{#3}}\n",
    "  \\newcommand{\\SL}[1][2]{\\mathrm{SL}_{#1}(\\Space{R}{})}\n",
    "  \\newcommand{\\rs}{\\sigma_r}\n",
    "  \\newcommand{\\lvec}[1]{\\overrightarrow{#1}}\n",
    "$\n",
    "The $\\bs$-cycle\n",
    "      product of cycles defined by quadruples\n",
    "      $(k,l,n,m)$ and $(\\tilde{k},\\tilde{l},\\tilde{n},\\tilde{m})$ is\n",
    "      given  by\n",
    "      \\begin{eqnarray}\n",
    "        \\label{eq:cycle-product-expl}\n",
    "        -2\\tilde{l}l+2\\bs s^2\\tilde{n}n+\\tilde{k}m+\\tilde{m}k.\n",
    "      \\end{eqnarray}"
   ]
  },
  {
   "cell_type": "markdown",
   "metadata": {
    "ein.tags": "worksheet-0",
    "slideshow": {
     "slide_type": "-"
    }
   },
   "source": [
    "**Solution.** This is one-line calculation, of course: "
   ]
  },
  {
   "cell_type": "code",
   "execution_count": null,
   "metadata": {
    "autoscroll": false,
    "collapsed": false,
    "ein.hycell": false,
    "ein.tags": "worksheet-0",
    "slideshow": {
     "slide_type": "-"
    }
   },
   "outputs": [],
   "source": [
    "from init_cycle import *\n",
    "Latex(\"Cycle product is: $%s$\" % C.cycle_product(C1,es))"
   ]
  },
  {
   "cell_type": "markdown",
   "metadata": {},
   "source": [
    "\n",
    "This notebook is a part of the *MoebInv notebooks* project [ [2] ](#[2]).\n",
    "\n",
    "### References\n",
    "<a id=\"references\"></a>\n",
    "<a id=\"[1]\"></a>\n",
    "1. Vladimir V. Kisil. *Geometry of Möbius Transformations: Elliptic, Parabolic and Hyperbolic Actions of $SL_2(\\mathbb{R})$*. [Imperial College Press](https://www.worldscientific.com/worldscibooks/10.1142/p835), London, 2012. Includes a live DVD.\n",
    "\n",
    "   <a id=\"[2]\"></a>\n",
    "2.  Vladimir V. Kisil, [*MoebInv notebooks*](https://github.com/vvkisil/MoebInv-notebooks), 2019.\n",
    "\n",
    "[Back to Folder](https://github.com/vvkisil/MoebInv-notebooks/blob/master/EPAL-v1/)\n"
   ]
  }
 ],
 "metadata": {
  "kernelspec": {
   "argv": [
    "/usr/bin/python3",
    "-m",
    "ipykernel_launcher",
    "-f",
    "{connection_file}"
   ],
   "display_name": "Python 3",
   "env": null,
   "interrupt_mode": "signal",
   "language": "python",
   "metadata": null,
   "name": "python3"
  },
  "language_info": {
   "codemirror_mode": {
    "name": "ipython",
    "version": 3
   },
   "file_extension": ".py",
   "mimetype": "text/x-python",
   "name": "python",
   "nbconvert_exporter": "python",
   "pygments_lexer": "ipython3",
   "version": "3.6.4"
  },
  "name": "ex-cycle-prod-expl.ipynb"
 },
 "nbformat": 4,
 "nbformat_minor": 5
}
