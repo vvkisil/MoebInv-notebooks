{
 "cells": [
  {
   "cell_type": "markdown",
   "id": "a0c0c584-53e7-4bd1-8857-52ed0f641b74",
   "metadata": {
    "collapsed": false
   },
   "source": [
    "<table style=\"width:100%\">\n",
    "    <tr>\n",
    "        <td>\n",
    "            <a href=\"http://www1.maths.leeds.ac.uk/~kisilv/MoebInv-notebooks/EPAL-v1/ex.I.9.5.iii.html\">\n",
    "  <img src=\"../svg/view-html.svg\" alt=\"Open In Colab\"/>\n",
    "            </a>\n",
    "        </td>\n",
    "        <td>\n",
    "<a href=\"https://github.com/vvkisil/MoebInv-notebooks/blob/master/EPAL-v1/ex.I.9.5.iii.ipynb\">\n",
    "  <img src=\"../svg/open-github.svg\" alt=\"Open In Colab\"/>\n",
    "            </a>\n",
    "        </td>\n",
    "        <td>\n",
    "            <a href=\"https://colab.research.google.com/github/vvkisil/MoebInv-notebooks/blob/master/EPAL-v1/ex.I.9.5.iii.ipynb\">\n",
    "  <img src=\"../svg/exec-colab.svg\" alt=\"Open In Colab\"/>\n",
    "            </a>\n",
    "        </td>\n",
    "        <td>\n",
    "            <a href=\"https://codeocean.com/capsule/7952650/tree\">\n",
    "  <img src=\"../svg/code-ocean.svg\" alt=\"Code Ocean\"/>\n",
    "            </a>\n",
    "        </td>\n",
    "    </tr>\n",
    " </table>\n",
    "\n",
    "<a  align=\"center\" href=\"https://colab.research.google.com/github/vvkisil/MoebInv-notebooks/blob/master/Introduction/Software_installation_GUI_integration.ipynb\">Google CoLab software installation</a>\n"
   ]
  },
  {
   "cell_type": "markdown",
   "id": "b7d92cfe-973b-4a64-93c5-3eb876a3d7e4",
   "metadata": {
    "collapsed": false,
    "ein.tags": "worksheet-0",
    "slideshow": {
     "slide_type": "-"
    }
   },
   "source": [
    "# We check invariance of Lobachevski metric"
   ]
  },
  {
   "cell_type": "markdown",
   "id": "14de2d82-cefc-479d-b7e3-ad0d2f37254f",
   "metadata": {
    "collapsed": false,
    "ein.tags": "worksheet-0",
    "slideshow": {
     "slide_type": "-"
    }
   },
   "source": [
    "**Exercise I.9.5** [ [1] ](#[1]) *For the elliptic space ($\\sigma=-1$) check that  The M\\\"obius invariant metric is\n",
    "\\begin{equation}\n",
    "m(z,w)=\\sinh^{-1}\\frac{ | z-w|_e }{2\\sqrt{\\Im[z]\\Im[w]}\\strut},\n",
    "\\tag{I.9.8}\n",
    "\\label{eq:elliptic}\n",
    "\\end{equation}\n",
    "where $\\Im[z]$ is the imaginary part of a complex number $z\\$\n",
    "and $| z|^2_e=u^2+v^2$.*\n",
    "\n",
    "**Hint.**\n",
    "      One can directly or, by using CAS (see below), verify that this is a\n",
    "      Möbius-invariant expression. Thus, we can transform \\(z\\) and\n",
    "      $w$ to $i$ and a point on the imaginary axis by a\n",
    "      suitable Möbius transformation without changing the metric.\n",
    "      The shortest curve in the Riemannian metric is\n",
    "      the vertical line, that is, $du=0$.  For a segment of the\n",
    "      vertical line, the expression \\eqref{eq:elliptic} can easily be\n",
    "      evaluated.  See also [Beardon95, Thm.~7.2.1] for a\n",
    "      detailed proof and a number of alternative expressions."
   ]
  },
  {
   "cell_type": "markdown",
   "id": "1ddaac36-2899-4752-a159-b04623401293",
   "metadata": {
    "collapsed": false,
    "ein.tags": "worksheet-0",
    "slideshow": {
     "slide_type": "-"
    }
   },
   "source": [
    "**Solution.** First we define the norm"
   ]
  },
  {
   "cell_type": "code",
   "execution_count": null,
   "id": "5b747be6-87a7-4b4f-88ed-5f508f8984ab",
   "metadata": {
    "autoscroll": false,
    "collapsed": false,
    "ein.hycell": false,
    "ein.tags": "worksheet-0",
    "slideshow": {
     "slide_type": "-"
    }
   },
   "outputs": [],
   "source": [
    "from init_cycle import *\n",
    "def Lnorm(p,p1,si):\n",
    "    return (pow(p[0]-p1[0],2)-si*pow(p[1]-p1[1],2))/p[1]/p1[1]"
   ]
  },
  {
   "cell_type": "markdown",
   "id": "d3912dd4-0356-449e-a2bc-9cd42697a009",
   "metadata": {
    "collapsed": false,
    "ein.tags": "worksheet-0",
    "slideshow": {
     "slide_type": "-"
    }
   },
   "source": [
    "Calculate Möbius transformations of two given points"
   ]
  },
  {
   "cell_type": "code",
   "execution_count": null,
   "id": "12db0337-ecb8-49f2-98ca-50e6574c950f",
   "metadata": {
    "autoscroll": false,
    "collapsed": false,
    "ein.hycell": false,
    "ein.tags": "worksheet-0",
    "slideshow": {
     "slide_type": "-"
    }
   },
   "outputs": [],
   "source": [
    "Pa=clifford_moebius_map(sl2_clifford(a,b,c,d,e),P,e)\n",
    "Pb=clifford_moebius_map(sl2_clifford(a,b,c,d,e),P1,e)"
   ]
  },
  {
   "cell_type": "markdown",
   "id": "3c870023-8654-4a60-adb8-acb87a7cc74c",
   "metadata": {
    "collapsed": false,
    "ein.tags": "worksheet-0",
    "slideshow": {
     "slide_type": "-"
    }
   },
   "source": [
    "Check the inavariance: the distange between the originals is equal to the distance between their images."
   ]
  },
  {
   "cell_type": "code",
   "execution_count": null,
   "id": "2c8c2ee8-7c29-450a-8a47-92ae61112ce6",
   "metadata": {
    "autoscroll": false,
    "collapsed": false,
    "ein.hycell": false,
    "ein.tags": "worksheet-0",
    "slideshow": {
     "slide_type": "-"
    }
   },
   "outputs": [],
   "source": [
    "\"Lobachevski-type metric is SL(2,R)-invariant in all EPH cases: %s \" %\\\n",
    "(Lnorm(P,P1,sign)-Lnorm(Pa,Pb,sign)).normal().is_zero()"
   ]
  },
  {
   "cell_type": "markdown",
   "id": "af9f8b14-073b-4556-a7d7-4ea909563e0f",
   "metadata": {
    "collapsed": false
   },
   "source": [
    "\n",
    "This notebook is a part of the *MoebInv notebooks* project [ [2] ](#[2]).\n",
    "\n",
    "### References\n",
    "<a id=\"references\"></a>\n",
    "<a id=\"[1]\"></a>\n",
    "1. Vladimir V. Kisil. *Geometry of Möbius Transformations: Elliptic, Parabolic and Hyperbolic Actions of $SL_2(\\mathbb{R})$*. [Imperial College Press](https://www.worldscientific.com/worldscibooks/10.1142/p835), London, 2012. Includes a live DVD.\n",
    "\n",
    "   <a id=\"[2]\"></a>\n",
    "2.  Vladimir V. Kisil, [*MoebInv notebooks*](https://github.com/vvkisil/MoebInv-notebooks), 2019.\n",
    "\n",
    "[Back to Folder](https://github.com/vvkisil/MoebInv-notebooks/blob/master/EPAL-v1/)\n"
   ]
  }
 ],
 "metadata": {
  "kernelspec": {
   "argv": [
    "/usr/bin/python3",
    "-m",
    "ipykernel_launcher",
    "-f",
    "{connection_file}"
   ],
   "display_name": "Python 3 (ipykernel)",
   "env": null,
   "interrupt_mode": "signal",
   "language": "python",
   "metadata": {
    "debugger": true
   },
   "name": "python3"
  },
  "language_info": {
   "codemirror_mode": {
    "name": "ipython",
    "version": 3
   },
   "file_extension": ".py",
   "mimetype": "text/x-python",
   "name": "python",
   "nbconvert_exporter": "python",
   "pygments_lexer": "ipython3",
   "version": "3.6.4"
  },
  "name": "ex.I.9.5.iii.ipynb"
 },
 "nbformat": 4,
 "nbformat_minor": 5
}
