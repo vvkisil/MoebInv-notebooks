{
 "cells": [
  {
   "cell_type": "markdown",
   "id": "48b698b7-4bdf-43df-8287-e876ab542a5f",
   "metadata": {
    "collapsed": false
   },
   "source": [
    "<table style=\"width:100%\">\n",
    "    <tr>\n",
    "        <td>\n",
    "            <a href=\"http://www1.maths.leeds.ac.uk/~kisilv/MoebInv-notebooks/EPAL-v1/ex.I.6.24.i.html\">\n",
    "  <img src=\"../svg/view-html.svg\" alt=\"Open In Colab\"/>\n",
    "            </a>\n",
    "        </td>\n",
    "        <td>\n",
    "<a href=\"https://github.com/vvkisil/MoebInv-notebooks/blob/master/EPAL-v1/ex.I.6.24.i.ipynb\">\n",
    "  <img src=\"../svg/open-github.svg\" alt=\"Open In Colab\"/>\n",
    "            </a>\n",
    "        </td>\n",
    "        <td>\n",
    "            <a href=\"https://colab.research.google.com/github/vvkisil/MoebInv-notebooks/blob/master/EPAL-v1/ex.I.6.24.i.ipynb\">\n",
    "  <img src=\"../svg/exec-colab.svg\" alt=\"Open In Colab\"/>\n",
    "            </a>\n",
    "        </td>\n",
    "        <td>\n",
    "            <a href=\"https://codeocean.com/capsule/7952650/tree\">\n",
    "  <img src=\"../svg/code-ocean.svg\" alt=\"Code Ocean\"/>\n",
    "            </a>\n",
    "        </td>\n",
    "    </tr>\n",
    " </table>\n",
    "\n",
    "<a  align=\"center\" href=\"https://colab.research.google.com/github/vvkisil/MoebInv-notebooks/blob/master/Introduction/Software_installation_GUI_integration.ipynb\">Google CoLab software installation</a>\n"
   ]
  },
  {
   "cell_type": "markdown",
   "id": "76d90ec5-27cf-4bc3-b02f-fbdccd1d437e",
   "metadata": {
    "collapsed": false,
    "ein.tags": "worksheet-0",
    "slideshow": {
     "slide_type": "-"
    }
   },
   "source": [
    "# Check that cycle similarity respects cycle product\n",
    "\n",
    "**Exercise I.6.24.i** [ [1] ](#[1])\n",
    "$\n",
    "\\newcommand{\\scalar}[3][]{\\left\\langle #2,#3 \n",
    "        \\right\\rangle_{#1}}\n",
    "\\newcommand{\\Space}[3][]{\\mathbb{#2}^{#3}_{#1}}\n",
    "\\newcommand{\\Space}[3][]{\\mathbb{#2}^{#3}_{#1}}\n",
    "  \\newcommand{\\cycle}[3][]{{#1 C^{#2}_{#3}}}\n",
    "  \\newcommand{\\realline}[3][]{#1 R^{#2}_{#3}}\n",
    "  \\newcommand{\\bs}{\\breve{\\sigma}}\n",
    "  \\newcommand{\\zcycle}[3][]{#1 Z^{#2}_{#3}}\n",
    "  \\newcommand{\\SL}[1][2]{\\mathrm{SL}_{#1}(\\Space{R}{})}\n",
    "  \\newcommand{\\rs}{\\sigma_r}\n",
    "  \\newcommand{\\lvec}[1]{\\overrightarrow{#1}}\n",
    "$\n",
    "Show that the\n",
    "    $\\breve{\\sigma}$-similarity\n",
    "    $\\breve{\\sigma}$-preserves the orthogonality\n",
    "    relation of cycles. More specifically, if\n",
    "    $\\cycle[\\dot]{s}{\\breve{\\sigma}}$ and $\\cycle[\\ddot]{s}{\\breve{\\sigma}}$ are\n",
    "    matrix similarity of cycles\n",
    "    $\\cycle{s}{\\breve{\\sigma}}$ and $\\cycle[\\hat]{s}{\\breve{\\sigma}}$, respectively, with\n",
    "    the cycle $\\cycle[\\tilde]{s_1}{\\breve{\\sigma}}$, then\n",
    "\\begin{equation}\n",
    "      \\scalar{\\cycle[\\dot]{s}{\\breve{\\sigma}}}{\\cycle[\\ddot]{s}{\\breve{\\sigma}}}=\n",
    "      \\scalar{\\cycle{s}{\\breve{\\sigma}}}{\\cycle[\\hat]{s}{\\breve{\\sigma}}}\n",
    "      (\\det \\cycle[\\tilde]{s}{\\breve{\\sigma}})^2.\n",
    "\\end{equation}\n",
    "**Hint.**\n",
    "      Note that\n",
    "      $\\cycle[\\tilde]{s}{\\breve{\\sigma}}\\overline{\\cycle[\\tilde]{s}{\\breve{\\sigma}}}=\n",
    "      -\\det(\\cycle[\\tilde]{s}{\\breve{\\sigma}}) I$, where $I$ is the identity\n",
    "      matrix. This is a particular case of the \\emph{Vahlen\n",
    "        condition}\n",
    "      see [FillmoreSpringer90a, Prop.~2].  Thus, we have\n",
    "\\begin{equation}\n",
    "        \\cycle[\\dot]{s}{\\breve{\\sigma}}\\overline{\\cycle[\\ddot]{s}{\\breve{\\sigma}}}=\n",
    "        -\\cycle[\\tilde]{s_1}{\\breve{\\sigma}}{\\cycle{s}{\\breve{\\sigma}}}\\overline{\\cycle[\\hat]{s}{\\breve{\\sigma}}} \n",
    "        \\overline{\\cycle[\\tilde]{s_1}{\\breve{\\sigma}}} \\cdot \\det\n",
    "        \\cycle[\\tilde]{s}{\\breve{\\sigma}}.\n",
    "\\end{equation}\n",
    "      The final step uses the invariance of the trace under the matrix\n",
    "      similarity. A CAS calculation is also provided."
   ]
  },
  {
   "cell_type": "markdown",
   "id": "d9e86066-a196-49c9-b293-412c60b4b0fd",
   "metadata": {
    "collapsed": false,
    "ein.tags": "worksheet-0",
    "slideshow": {
     "slide_type": "-"
    }
   },
   "source": [
    "**Solution.** This is not only a solution for the exercise but also a test for the library. We define another set of cycle parameters"
   ]
  },
  {
   "cell_type": "code",
   "execution_count": null,
   "id": "8c5ff660-9b62-45aa-81c1-ac818bb6e4a9",
   "metadata": {
    "autoscroll": false,
    "collapsed": false,
    "ein.hycell": false,
    "ein.tags": "worksheet-0",
    "slideshow": {
     "slide_type": "-"
    }
   },
   "outputs": [],
   "source": [
    "from init_cycle import *\n",
    "k2=realsymbol(\"k2\")\n",
    "l2=realsymbol(\"l2\")\n",
    "n2=realsymbol(\"n2\")\n",
    "m2=realsymbol(\"m2\")\n",
    "C2=cycle2D(k2,[l2,n2],m2,e)"
   ]
  },
  {
   "cell_type": "markdown",
   "id": "14b54e40-1529-4686-b65a-3352ae2c3d50",
   "metadata": {
    "collapsed": false,
    "ein.tags": "worksheet-0",
    "slideshow": {
     "slide_type": "-"
    }
   },
   "source": [
    "Complex matrices corresponding to the cycles "
   ]
  },
  {
   "cell_type": "code",
   "execution_count": null,
   "id": "a2fadfab-6cdd-4455-aeba-af001e654717",
   "metadata": {
    "autoscroll": false,
    "collapsed": false,
    "ein.hycell": false,
    "ein.tags": "worksheet-0",
    "slideshow": {
     "slide_type": "-"
    }
   },
   "outputs": [],
   "source": [
    "Mat=matrix([[l+I*sign2*n,-m],[k,-l+I*sign2*n]])\n",
    "Mat1=matrix([[l1+I*sign1*n1,-m1],[k1,-l1+I*sign1*n1]])\n",
    "Mat2=matrix([[l2+I*sign1*n2,-m2],[k2,-l2+I*sign1*n2]])"
   ]
  },
  {
   "cell_type": "markdown",
   "id": "1af285dc-86d9-4d10-8a95-3f83753991af",
   "metadata": {
    "collapsed": false,
    "ein.tags": "worksheet-0",
    "slideshow": {
     "slide_type": "-"
    }
   },
   "source": [
    "First we calculate similarity of respective matrices"
   ]
  },
  {
   "cell_type": "code",
   "execution_count": null,
   "id": "9842881d-8ff4-4a9b-9ae0-a4258045c946",
   "metadata": {
    "autoscroll": false,
    "collapsed": false,
    "ein.hycell": false,
    "ein.tags": "worksheet-0",
    "slideshow": {
     "slide_type": "-"
    }
   },
   "outputs": [],
   "source": [
    "Res7=(-Mat*Mat1.conjugate()*Mat).evalm().expand()\n",
    "Res8=(-Mat*Mat2.conjugate()*Mat).evalm().expand()"
   ]
  },
  {
   "cell_type": "markdown",
   "id": "4a56bc79-0c07-4c7f-bb35-53d2eed80cff",
   "metadata": {
    "collapsed": false,
    "ein.tags": "worksheet-0",
    "slideshow": {
     "slide_type": "-"
    }
   },
   "source": [
    "Check that the matrix similarity preserves the inner product"
   ]
  },
  {
   "cell_type": "code",
   "execution_count": null,
   "id": "095b16ea-1452-477a-b39a-71ad805f1c3a",
   "metadata": {
    "autoscroll": false,
    "collapsed": false,
    "ein.hycell": false,
    "ein.tags": "worksheet-0",
    "slideshow": {
     "slide_type": "-"
    }
   },
   "outputs": [],
   "source": [
    "\"Cycle similarity respects cycle product (directly): %s\" % \\\n",
    "((Res7*Res8.conjugate()).evalm().trace()-\\\n",
    "(Mat1*Mat2.conjugate()).evalm().trace()*pow(Mat.determinant(),2)).normal().is_zero()"
   ]
  },
  {
   "cell_type": "markdown",
   "id": "cff76a96-2726-456a-acf0-560d21e5058e",
   "metadata": {
    "collapsed": false,
    "ein.tags": "worksheet-0",
    "slideshow": {
     "slide_type": "-"
    }
   },
   "source": [
    "Then we calculate cycle similarity from the libary"
   ]
  },
  {
   "cell_type": "code",
   "execution_count": null,
   "id": "c443b62b-2030-42ac-baea-9c715af2f4cd",
   "metadata": {
    "autoscroll": false,
    "collapsed": false,
    "ein.hycell": false,
    "ein.tags": "worksheet-0",
    "slideshow": {
     "slide_type": "-"
    }
   },
   "outputs": [],
   "source": [
    "C3=C1.cycle_similarity(C,e,diag_matrix([1,sign1]),diag_matrix([1,sign2]))\n",
    "C4=C2.cycle_similarity(C,e,diag_matrix([1,sign1]),diag_matrix([1,sign2]))"
   ]
  },
  {
   "cell_type": "markdown",
   "id": "01cccd49-1d97-4786-bcd1-4cc37f7f6989",
   "metadata": {
    "collapsed": false,
    "ein.tags": "worksheet-0",
    "slideshow": {
     "slide_type": "-"
    }
   },
   "source": [
    "Check that the matrix similarity preserves the inner product (library)"
   ]
  },
  {
   "cell_type": "code",
   "execution_count": null,
   "id": "868a3358-a4cc-40e0-a9bf-7ece8ec65809",
   "metadata": {
    "autoscroll": false,
    "collapsed": false,
    "ein.hycell": false,
    "ein.tags": "worksheet-0",
    "slideshow": {
     "slide_type": "-"
    }
   },
   "outputs": [],
   "source": [
    "\"Cycle similarity respects cycle product (library): %s\" % \\\n",
    "(C3.cycle_product(C4,e,diag_matrix([1,sign1]))\\\n",
    "-C1.cycle_product(C2,e,diag_matrix([1,sign1]))*pow(C.hdet(),2))\\\n",
    ".subs({pow(sign1,2) : 1},subs_options.algebraic)\\\n",
    ".subs({pow(sign2,2) : 1},subs_options.algebraic).normal().is_zero()"
   ]
  },
  {
   "cell_type": "markdown",
   "id": "c6629a9c-1043-424d-9c97-6cb9c2203a8b",
   "metadata": {
    "collapsed": false
   },
   "source": [
    "\n",
    "This notebook is a part of the *MoebInv notebooks* project [ [2] ](#[2]).\n",
    "\n",
    "### References\n",
    "<a id=\"references\"></a>\n",
    "<a id=\"[1]\"></a>\n",
    "1. Vladimir V. Kisil. *Geometry of Möbius Transformations: Elliptic, Parabolic and Hyperbolic Actions of $SL_2(\\mathbb{R})$*. [Imperial College Press](https://www.worldscientific.com/worldscibooks/10.1142/p835), London, 2012. Includes a live DVD.\n",
    "\n",
    "   <a id=\"[2]\"></a>\n",
    "2.  Vladimir V. Kisil, [*MoebInv notebooks*](https://github.com/vvkisil/MoebInv-notebooks), 2019.\n",
    "\n",
    "[Back to Folder](https://github.com/vvkisil/MoebInv-notebooks/blob/master/EPAL-v1/)\n"
   ]
  }
 ],
 "metadata": {
  "kernelspec": {
   "argv": [
    "/usr/bin/python3",
    "-m",
    "ipykernel_launcher",
    "-f",
    "{connection_file}"
   ],
   "display_name": "Python 3 (ipykernel)",
   "env": null,
   "interrupt_mode": "signal",
   "language": "python",
   "metadata": {
    "debugger": true
   },
   "name": "python3"
  },
  "language_info": {
   "codemirror_mode": {
    "name": "ipython",
    "version": 3
   },
   "file_extension": ".py",
   "mimetype": "text/x-python",
   "name": "python",
   "nbconvert_exporter": "python",
   "pygments_lexer": "ipython3",
   "version": "3.6.4"
  },
  "name": "ex.I.6.24.i.ipynb"
 },
 "nbformat": 4,
 "nbformat_minor": 5
}
