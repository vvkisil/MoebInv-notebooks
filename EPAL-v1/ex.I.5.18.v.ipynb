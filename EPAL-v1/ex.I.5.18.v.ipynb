{
 "cells": [
  {
   "cell_type": "markdown",
   "id": "ecdf8071-fa29-4d88-9e78-c329ffdf68b3",
   "metadata": {
    "collapsed": false
   },
   "source": [
    "<table style=\"width:100%\">\n",
    "    <tr>\n",
    "        <td>\n",
    "            <a href=\"http://www1.maths.leeds.ac.uk/~kisilv/MoebInv-notebooks/EPAL-v1/ex.I.5.18.v.html\">\n",
    "  <img src=\"../svg/view-html.svg\" alt=\"Open In Colab\"/>\n",
    "            </a>\n",
    "        </td>\n",
    "        <td>\n",
    "<a href=\"https://github.com/vvkisil/MoebInv-notebooks/blob/master/EPAL-v1/ex.I.5.18.v.ipynb\">\n",
    "  <img src=\"../svg/open-github.svg\" alt=\"Open In Colab\"/>\n",
    "            </a>\n",
    "        </td>\n",
    "        <td>\n",
    "            <a href=\"https://colab.research.google.com/github/vvkisil/MoebInv-notebooks/blob/master/EPAL-v1/ex.I.5.18.v.ipynb\">\n",
    "  <img src=\"../svg/exec-colab.svg\" alt=\"Open In Colab\"/>\n",
    "            </a>\n",
    "        </td>\n",
    "        <td>\n",
    "            <a href=\"https://codeocean.com/capsule/7952650/tree\">\n",
    "  <img src=\"../svg/code-ocean.svg\" alt=\"Code Ocean\"/>\n",
    "            </a>\n",
    "        </td>\n",
    "    </tr>\n",
    " </table>\n",
    "\n",
    "<a  align=\"center\" href=\"https://colab.research.google.com/github/vvkisil/MoebInv-notebooks/blob/master/Introduction/Software_installation_GUI_integration.ipynb\">Google CoLab software installation</a>\n"
   ]
  },
  {
   "cell_type": "markdown",
   "id": "e48bc56a-73fc-42de-9139-7c871566c154",
   "metadata": {
    "collapsed": false,
    "ein.tags": "worksheet-0",
    "slideshow": {
     "slide_type": "-"
    }
   },
   "source": [
    "# Elliptic centre of the image of a zero radius cycle with the centre (u,v)\n",
    "\n",
    "**Exercise I.5.18.v** [ [1] ](#[1]) $\n",
    "\\newcommand{\\Space}[3][]{\\mathbb{#2}^{#3}_{#1}}\n",
    "  \\newcommand{\\cycle}[3][]{{#1 C^{#2}_{#3}}}\n",
    "  \\newcommand{\\realline}[3][]{#1 R^{#2}_{#3}}\n",
    "  \\newcommand{\\bs}{\\breve{\\sigma}}\n",
    "  \\newcommand{\\zcycle}[3][]{#1 Z^{#2}_{#3}}\n",
    "  \\newcommand{\\SL}[1][2]{\\mathrm{SL}_{#1}(\\Space{R}{})}\n",
    "$\n",
    "    The e-centre of the transformation $g\\zcycle{s}{\\bs}g^{-1}$,\n",
    "    $g\\in\\SL$ of the\n",
    "    $\\bs$-zero-radius cycle $\\zcycle{s}{\\bs}$ (I.5.8) coincides\n",
    "    with the Möbius action $g\\cdot z$ in $\\Space{R}{\\bs}$, where\n",
    "    $z$ is the e-centre of $\\zcycle{s}{\\bs}$.\n",
    "    \n",
    "**Hint.**\n",
    "      The result can be \n",
    "      obtained along the lines from\n",
    "      Subsection I.4.4.1."
   ]
  },
  {
   "cell_type": "markdown",
   "id": "a93a3dba-a704-4728-8fa5-2eda4040e642",
   "metadata": {
    "collapsed": false,
    "ein.tags": "worksheet-0",
    "slideshow": {
     "slide_type": "-"
    }
   },
   "source": [
    "**Solution.** Here is computer-added proof. We define the `P3` as the centre of the transformed zero-radius cycle."
   ]
  },
  {
   "cell_type": "code",
   "execution_count": null,
   "id": "f3e8651f-09b4-4372-a074-a6a71c4db933",
   "metadata": {
    "autoscroll": false,
    "collapsed": false,
    "ein.hycell": false,
    "ein.tags": "worksheet-0",
    "slideshow": {
     "slide_type": "-"
    }
   },
   "outputs": [],
   "source": [
    "from init_cycle import *\n",
    "P3=Z.sl2_similarity(a,b,c,d,e).center(es)"
   ]
  },
  {
   "cell_type": "markdown",
   "id": "28bdfa64-61df-4771-9c9d-afc4616929cf",
   "metadata": {
    "collapsed": false,
    "ein.tags": "worksheet-0",
    "slideshow": {
     "slide_type": "-"
    }
   },
   "source": [
    "On the other hand we calculate Möbius transformation of the point $(u,v)$"
   ]
  },
  {
   "cell_type": "code",
   "execution_count": null,
   "id": "99ea5e1c-0d54-4b96-9fa9-04cdf8662bff",
   "metadata": {
    "autoscroll": false,
    "collapsed": false,
    "ein.hycell": false,
    "ein.tags": "worksheet-0",
    "slideshow": {
     "slide_type": "-"
    }
   },
   "outputs": [],
   "source": [
    "P2=clifford_moebius_map(sl2_clifford(a,b,c,d,e),Z.center(es),e)"
   ]
  },
  {
   "cell_type": "markdown",
   "id": "ecaff55c-e19a-41a6-a0d5-7134572d3986",
   "metadata": {
    "collapsed": false,
    "ein.tags": "worksheet-0",
    "slideshow": {
     "slide_type": "-"
    }
   },
   "source": [
    "Now we check are they the same in the elliptic"
   ]
  },
  {
   "cell_type": "code",
   "execution_count": null,
   "id": "f57b9cec-0669-4cf9-ba6e-ffce567ff292",
   "metadata": {
    "autoscroll": false,
    "collapsed": false,
    "ein.hycell": false,
    "ein.tags": "worksheet-0",
    "slideshow": {
     "slide_type": "-"
    }
   },
   "outputs": [],
   "source": [
    "\"Elliptic centre of zero radius cycle is transformed by the Moebius map: %s\" %\\\n",
    "((P3[0]-P2[0]).subs({sign1 : -1}).normal().is_zero() \\\n",
    "and (P3[1]-P2[1]).subs({sign1 : -1}).normal().is_zero())"
   ]
  },
  {
   "cell_type": "markdown",
   "id": "a4905e23-e1d2-4e9a-949d-a6baf10e2370",
   "metadata": {
    "collapsed": false,
    "ein.tags": "worksheet-0",
    "slideshow": {
     "slide_type": "-"
    }
   },
   "source": [
    "and hyperbolic cases:"
   ]
  },
  {
   "cell_type": "code",
   "execution_count": null,
   "id": "0fa77c86-47b1-497e-986e-aff6b97afd57",
   "metadata": {
    "autoscroll": false,
    "collapsed": false,
    "ein.hycell": false,
    "ein.tags": "worksheet-0",
    "slideshow": {
     "slide_type": "-"
    }
   },
   "outputs": [],
   "source": [
    "\"Hyperbolic centre of zero radius cycle is transformed by the Moebius map: %s\" %\\\n",
    "((P3[0]-P2[0]).subs({sign1 : 1}).normal().is_zero() \\\n",
    "and (P3[1]-P2[1]).subs({sign1 : 1}).normal().is_zero())"
   ]
  },
  {
   "cell_type": "markdown",
   "id": "1497a301-b920-42f0-b19c-62479d2d40c1",
   "metadata": {
    "collapsed": false
   },
   "source": [
    "\n",
    "This notebook is a part of the *MoebInv notebooks* project [ [2] ](#[2]).\n",
    "\n",
    "### References\n",
    "<a id=\"references\"></a>\n",
    "<a id=\"[1]\"></a>\n",
    "1. Vladimir V. Kisil. *Geometry of Möbius Transformations: Elliptic, Parabolic and Hyperbolic Actions of $SL_2(\\mathbb{R})$*. [Imperial College Press](https://www.worldscientific.com/worldscibooks/10.1142/p835), London, 2012. Includes a live DVD.\n",
    "\n",
    "   <a id=\"[2]\"></a>\n",
    "2.  Vladimir V. Kisil, [*MoebInv notebooks*](https://github.com/vvkisil/MoebInv-notebooks), 2019.\n",
    "\n",
    "[Back to Folder](https://github.com/vvkisil/MoebInv-notebooks/blob/master/EPAL-v1/)\n"
   ]
  }
 ],
 "metadata": {
  "kernelspec": {
   "argv": [
    "/usr/bin/python3",
    "-m",
    "ipykernel_launcher",
    "-f",
    "{connection_file}"
   ],
   "display_name": "Python 3 (ipykernel)",
   "env": null,
   "interrupt_mode": "signal",
   "language": "python",
   "metadata": {
    "debugger": true
   },
   "name": "python3"
  },
  "language_info": {
   "codemirror_mode": {
    "name": "ipython",
    "version": 3
   },
   "file_extension": ".py",
   "mimetype": "text/x-python",
   "name": "python",
   "nbconvert_exporter": "python",
   "pygments_lexer": "ipython3",
   "version": "3.6.4"
  },
  "name": "ex.I.5.18.v.ipynb"
 },
 "nbformat": 4,
 "nbformat_minor": 2
}
