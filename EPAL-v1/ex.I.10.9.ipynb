{
 "cells": [
  {
   "cell_type": "markdown",
   "id": "fe6b7063-2583-42c8-9b7d-7249fe05705a",
   "metadata": {
    "collapsed": false
   },
   "source": [
    "<table style=\"width:100%\">\n",
    "    <tr>\n",
    "        <td>\n",
    "            <a href=\"http://www1.maths.leeds.ac.uk/~kisilv/MoebInv-notebooks/EPAL-v1/ex.I.10.9.html\">\n",
    "  <img src=\"../svg/view-html.svg\" alt=\"Open In Colab\"/>\n",
    "            </a>\n",
    "        </td>\n",
    "        <td>\n",
    "<a href=\"https://github.com/vvkisil/MoebInv-notebooks/blob/master/EPAL-v1/ex.I.10.9.ipynb\">\n",
    "  <img src=\"../svg/open-github.svg\" alt=\"Open In Colab\"/>\n",
    "            </a>\n",
    "        </td>\n",
    "        <td>\n",
    "            <a href=\"https://colab.research.google.com/github/vvkisil/MoebInv-notebooks/blob/master/EPAL-v1/ex.I.10.9.ipynb\">\n",
    "  <img src=\"../svg/exec-colab.svg\" alt=\"Open In Colab\"/>\n",
    "            </a>\n",
    "        </td>\n",
    "        <td>\n",
    "            <a href=\"https://codeocean.com/capsule/7952650/tree\">\n",
    "  <img src=\"../svg/code-ocean.svg\" alt=\"Code Ocean\"/>\n",
    "            </a>\n",
    "        </td>\n",
    "    </tr>\n",
    " </table>\n",
    "\n",
    "<a  align=\"center\" href=\"https://colab.research.google.com/github/vvkisil/MoebInv-notebooks/blob/master/Introduction/Software_installation_GUI_integration.ipynb\">Google CoLab software installation</a>\n"
   ]
  },
  {
   "cell_type": "markdown",
   "id": "cc8a236f-38bb-44ce-a1b8-4e9f5cbf3ad7",
   "metadata": {
    "collapsed": false,
    "ein.tags": "worksheet-0",
    "slideshow": {
     "slide_type": "-"
    }
   },
   "source": [
    "# We verify the expression of the parabolic Cayley transform on the cycles\n",
    "\n",
    "**Exercise I.10.9** [ [1] ](#[1])\n",
    "  Let $\\newcommand{\\Space}[3][]{\\mathbb{#2}^{#3}_{#1}}\n",
    "  \\newcommand{\\cycle}[3][]{{#1 C^{#2}_{#3}}}\n",
    "  \\newcommand{\\realline}[3][]{#1 R^{#2}_{#3}}\n",
    "  \\newcommand{\\bs}{\\breve{\\sigma}}$\n",
    "  $\\cycle{s}{a}$ be a cycle in $\\Space[\\sigma]{R}{}$. Check that:\n",
    "\n",
    "  + (e,h) In the elliptic or hyperbolic cases, the Cayley\n",
    "    transform of the cycle $\\cycle{}{\\sigma}$ is\n",
    "    $\\realline{}{\\sigma}\\cycle[\\hat]{}{\\sigma\n",
    "    }\\cycle{}{\\sigma}\\cycle[\\hat]{}{\\sigma }\\realline{}{\\sigma}$,\n",
    "    i.e. the composition of the\n",
    "    similarity (I.6.10) by the cycle\n",
    "    $\\cycle[\\hat]{s}{\\sigma }=(\\sigma ,0,1,1)$ and the similarity by\n",
    "    the real line (see the first and last drawings in\n",
    "    Fig.I.10.2.\n",
    "\n",
    "  + (p) In the parabolic case, the Cayley transform maps a cycle\n",
    "    $(k,l,n,m)$ to the cycle $(k-2\\bs n, l, n ,m-2 n)$.\n",
    "\n",
    "**Hint**\n",
    "    We can follow a similar path to the proof of\n",
    "    Theorem I.4.13. Alternatively, for the first part,\n",
    "    we notice that the matrix $Y_\\sigma $ of the Cayley\n",
    "    transform and the FSCc matrix of the cycle $\\cycle[\\hat]{s}{\\sigma }$\n",
    "    are different by a constant factor. The reflection in the real line\n",
    "    compensates the effect of complex conjugation in the\n",
    "    similarity (I.6.10). "
   ]
  },
  {
   "cell_type": "markdown",
   "id": "e898cfb3-3a43-4a88-ab74-e7ffc0622ed0",
   "metadata": {
    "collapsed": false,
    "ein.tags": "worksheet-0",
    "slideshow": {
     "slide_type": "-"
    }
   },
   "source": [
    "**Solution.**  Take the Cayley transform of a point..."
   ]
  },
  {
   "cell_type": "code",
   "execution_count": null,
   "id": "98def1bf-95ef-4510-8f10-332b002607b6",
   "metadata": {
    "autoscroll": false,
    "collapsed": false,
    "ein.hycell": false,
    "ein.tags": "worksheet-0",
    "slideshow": {
     "slide_type": "-"
    }
   },
   "outputs": [],
   "source": [
    "from init_cycle import *\n",
    "P0=(u+I*v-I)/(-I*(u+I*v)+1)"
   ]
  },
  {
   "cell_type": "markdown",
   "id": "a816e259-af47-40f8-9b55-7b30509c5103",
   "metadata": {
    "collapsed": false,
    "ein.tags": "worksheet-0",
    "slideshow": {
     "slide_type": "-"
    }
   },
   "source": [
    "... and its Möbius transformation"
   ]
  },
  {
   "cell_type": "code",
   "execution_count": null,
   "id": "d2059063-4d80-407b-8e20-0fbfa14bb426",
   "metadata": {
    "autoscroll": false,
    "collapsed": false,
    "ein.hycell": false,
    "ein.tags": "worksheet-0",
    "slideshow": {
     "slide_type": "-"
    }
   },
   "outputs": [],
   "source": [
    "Pc=clifford_moebius_map(one, -e1, sign1*e1, one, P, e)"
   ]
  },
  {
   "cell_type": "markdown",
   "id": "b05402e4-8611-45ee-ba2f-5a6c926cf08e",
   "metadata": {
    "collapsed": false,
    "ein.tags": "worksheet-0",
    "slideshow": {
     "slide_type": "-"
    }
   },
   "source": [
    "Compare both outputs:"
   ]
  },
  {
   "cell_type": "code",
   "execution_count": null,
   "id": "8adbf903-b4f6-4284-8ab8-1483bc7fdc11",
   "metadata": {
    "autoscroll": false,
    "collapsed": false,
    "ein.hycell": false,
    "ein.tags": "worksheet-0",
    "slideshow": {
     "slide_type": "-"
    }
   },
   "outputs": [],
   "source": [
    "print(\"Clifford calculations coinsides with complex numbers: %s\" %\\\n",
    "((P0+P0.conjugate()-2*Pc[0]).subs({sign : -1,sign1 : -1}).normal().is_zero() and\n",
    "(P0-P0.conjugate()-2*I*Pc[1]).subs({sign : -1,sign1 : -1}).normal().is_zero()))"
   ]
  },
  {
   "cell_type": "markdown",
   "id": "c3b6aba9-040b-4f26-ad58-76b6632d7d4c",
   "metadata": {
    "collapsed": false
   },
   "source": [
    "\n",
    "This notebook is a part of the *MoebInv notebooks* project [ [2] ](#[2]).\n",
    "\n",
    "### References\n",
    "<a id=\"references\"></a>\n",
    "<a id=\"[1]\"></a>\n",
    "1. Vladimir V. Kisil. *Geometry of Möbius Transformations: Elliptic, Parabolic and Hyperbolic Actions of $SL_2(\\mathbb{R})$*. [Imperial College Press](https://www.worldscientific.com/worldscibooks/10.1142/p835), London, 2012. Includes a live DVD.\n",
    "\n",
    "   <a id=\"[2]\"></a>\n",
    "2.  Vladimir V. Kisil, [*MoebInv notebooks*](https://github.com/vvkisil/MoebInv-notebooks), 2019.\n",
    "\n",
    "[Back to Folder](https://github.com/vvkisil/MoebInv-notebooks/blob/master/EPAL-v1/)\n"
   ]
  }
 ],
 "metadata": {
  "kernelspec": {
   "argv": [
    "/usr/bin/python3",
    "-m",
    "ipykernel_launcher",
    "-f",
    "{connection_file}"
   ],
   "display_name": "Python 3 (ipykernel)",
   "env": null,
   "interrupt_mode": "signal",
   "language": "python",
   "metadata": {
    "debugger": true
   },
   "name": "python3"
  },
  "language_info": {
   "codemirror_mode": {
    "name": "ipython",
    "version": 3
   },
   "file_extension": ".py",
   "mimetype": "text/x-python",
   "name": "python",
   "nbconvert_exporter": "python",
   "pygments_lexer": "ipython3",
   "version": "3.6.4"
  },
  "name": "ex.I.10.9.ipynb"
 },
 "nbformat": 4,
 "nbformat_minor": 5
}
