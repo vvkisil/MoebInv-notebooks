{
 "cells": [
  {
   "cell_type": "markdown",
   "id": "3dfb8be6-2d77-4f61-85e4-78e7fa27980a",
   "metadata": {
    "collapsed": false
   },
   "source": [
    "<table style=\"width:100%\">\n",
    "    <tr>\n",
    "        <td>\n",
    "            <a href=\"http://v-v-kisil.rf.gd/MoebInv-notebooks/EPAL-v1/ex.I.7.23.html\">\n",
    "  <img src=\"../svg/view-html.svg\" alt=\"Open In Colab\"/>\n",
    "            </a>\n",
    "        </td>\n",
    "        <td>\n",
    "<a href=\"https://github.com/vvkisil/MoebInv-notebooks/blob/master/EPAL-v1/ex.I.7.23.ipynb\">\n",
    "  <img src=\"../svg/open-github.svg\" alt=\"Open In Colab\"/>\n",
    "            </a>\n",
    "        </td>\n",
    "        <td>\n",
    "            <a href=\"https://colab.research.google.com/github/vvkisil/MoebInv-notebooks/blob/master/EPAL-v1/ex.I.7.23.ipynb\">\n",
    "  <img src=\"../svg/exec-colab.svg\" alt=\"Open In Colab\"/>\n",
    "            </a>\n",
    "        </td>\n",
    "        <td>\n",
    "            <a href=\"https://codeocean.com/capsule/7952650/tree\">\n",
    "  <img src=\"../svg/code-ocean.svg\" alt=\"Code Ocean\"/>\n",
    "            </a>\n",
    "        </td>\n",
    "    </tr>\n",
    " </table>\n",
    "\n",
    "<a  align=\"center\" href=\"https://colab.research.google.com/github/vvkisil/MoebInv-notebooks/blob/master/Introduction/Software_installation_GUI_integration.ipynb\">Google CoLab software installation</a>\n"
   ]
  },
  {
   "cell_type": "markdown",
   "id": "313649bd-74bf-4f92-82b8-64c134f07c13",
   "metadata": {
    "collapsed": false,
    "ein.tags": "worksheet-0",
    "slideshow": {
     "slide_type": "-"
    }
   },
   "source": [
    "# Check basic properties of the infinitesimal radius cycle\n",
    "\n",
    "**Exercise I.7.23** [ [1] ](#[1])\n",
    "$\n",
    "\\newcommand{\\scalar}[3][]{\\left\\langle #2,#3 \n",
    "        \\right\\rangle_{#1}}\n",
    "\\newcommand{\\Space}[3][]{\\mathbb{#2}^{#3}_{#1}}\n",
    "\\newcommand{\\Space}[3][]{\\mathbb{#2}^{#3}_{#1}}\n",
    "  \\newcommand{\\cycle}[3][]{{#1 C^{#2}_{#3}}}\n",
    "  \\newcommand{\\realline}[3][]{#1 R^{#2}_{#3}}\n",
    "  \\newcommand{\\bs}{\\breve{\\sigma}}\n",
    "  \\newcommand{\\zcycle}[3][]{#1 Z^{#2}_{#3}}\n",
    "  \\newcommand{\\SL}[1][2]{\\mathrm{SL}_{#1}(\\Space{R}{})}\n",
    "  \\newcommand{\\rs}{\\sigma_r}\n",
    "  \\newcommand{\\lvec}[1]{\\overrightarrow{#1}}\n",
    "\\newcommand{\\rmi}{\\mathrm{i}}\n",
    "\\newcommand{\\alli}{\\iota}\n",
    "\\newcommand{\\rme}{\\mathrm{e}}\n",
    "\\newcommand{\\rmd}{\\mathrm{d}}\n",
    "\\newcommand{\\rmh}{\\mathrm{j}}\n",
    "\\newcommand{\\rmp}{\\varepsilon}\n",
    "\\newcommand{\\modulus}[2][]{\\left| #2 \\right|_{#1}}\n",
    "$\n",
    "  Let $\\bs$ and $\\rs$ be two metric signs and let a point\n",
    "  $(u_0,v_0)\\in\\Space[p]{R}{}$ with $v_0>0$.  Consider a cycle\n",
    "  $\\cycle{s}{\\bs}$ defined by\n",
    "\\begin{equation}\n",
    "    \\label{eq:inf-cycle}\n",
    "    \\cycle{s}{\\bs}=(1,\\, u_0,\\, n,\\, u_0^2 -\\rs n^2+\\epsilon^2),\n",
    "\\end{equation}\n",
    "  where\n",
    "\\begin{equation}\n",
    "    \\label{eq:inf-cycle-n-value}\n",
    "    n=\\left\\{\n",
    "      \\begin{array}{ll}\n",
    "        \\displaystyle    \\frac{v_0-\\sqrt{v_0^2-(\\rs-\\bs)\\epsilon^2}}{\\rs-\\bs},&\\text{ if } \\rs\\neq \\bs,\\\\\n",
    "       \\displaystyle \\frac{\\epsilon^2}{2v_0},&\\text{ if } \\rs=\\bs.\n",
    "      \\end{array}\\right.\n",
    "\\end{equation}\n",
    "  Then, \n",
    "1. The point $(u_0, v_0)$ is $\\rs$-focus of the cycle.\n",
    "2. The square of the $\\bs$-radius is exactly $-\\epsilon^2$,\n",
    "    i.e. defines an infinitesimal-radius cycle.\n",
    "3. The {focal length} of the cycle is an infinitesimal number of\n",
    "    order $\\epsilon^2$.\n",
    "\n",
    "**Hint.** \n",
    "  Combining two quadratic equations (one defines the squared\n",
    "  $\\bs$-radius, another---$v$-coordinate of the focus), we found\n",
    "  that $n$ satisfies the equation:\n",
    "\\begin{equation}\n",
    "    (\\rs-\\bs)n^2-2v_0n+\\epsilon^2=0.\n",
    "\\end{equation}\n",
    "  Moreover, only the root from of the\n",
    "  quadratic case $\\rs-\\bs\\neq 0$ gives an infinitesimal focal\n",
    "  length. Then, we can find the $m$ component of the cycle. The\n",
    "  answer is also supported by CAS calculations."
   ]
  },
  {
   "cell_type": "markdown",
   "id": "e7642c64-d627-4262-ac09-62a97711a0bb",
   "metadata": {
    "collapsed": false,
    "ein.tags": "worksheet-0",
    "slideshow": {
     "slide_type": "-"
    }
   },
   "source": [
    "**Solution.** We define usual substitutions for infinitesimal cycles simplification."
   ]
  },
  {
   "cell_type": "code",
   "execution_count": null,
   "id": "6b108c96-93bf-47b6-9f55-14b241e092cf",
   "metadata": {
    "autoscroll": false,
    "collapsed": false,
    "ein.hycell": false,
    "ein.tags": "worksheet-0",
    "slideshow": {
     "slide_type": "-"
    }
   },
   "outputs": [],
   "source": [
    "from init_cycle import *\n",
    "sign_cube = {pow(sign, 3) : sign}\n",
    "sign1_cube = {pow(sign1, 3) : sign1}\n",
    "vp=possymbol(\"vp\")"
   ]
  },
  {
   "cell_type": "markdown",
   "id": "9bc15a59-d9a8-44be-acd8-eab2c469bdb8",
   "metadata": {
    "collapsed": false,
    "ein.tags": "worksheet-0",
    "slideshow": {
     "slide_type": "-"
    }
   },
   "source": [
    "This is a procedure which checks the statements from the exercise"
   ]
  },
  {
   "cell_type": "code",
   "execution_count": null,
   "id": "9652e268-2cf8-446a-9174-2ab1bcf46719",
   "metadata": {
    "autoscroll": false,
    "collapsed": false,
    "ein.hycell": false,
    "ein.tags": "worksheet-0",
    "slideshow": {
     "slide_type": "-"
    }
   },
   "outputs": [],
   "source": [
    "def infinitesimal_calculations(nval):\n",
    "    C10 = cycle2D(1, [u, n],  pow(u,2)-pow(n,2)*sign1+pow(epsilon,2), e).subs(nval)\n",
    "    display(Latex(\"Checking infinitesimal cycle: $%s$\" % C10.string()))\n",
    "    display(Latex(\"  Square of radius of the infinitesimal cycle is: $%s$\" %\\\n",
    "    C10.radius_sq(es).subs(sign_cube, subs_options.algebraic)\\\n",
    "    .subs(sign1_cube, subs_options.algebraic).normal()))\n",
    "    display(Latex(\"  Focus of infinitesimal cycle is: $%s$\" % C10.focus(er,True).subs(nval).normal()))\n",
    "    return Latex(\"  Focal length is: $%s$\" % C10.focal_length().series(relational(epsilon, 0, eq), 3).normal())"
   ]
  },
  {
   "cell_type": "markdown",
   "id": "e5546cca-c65c-4c5b-8438-d65624041ee6",
   "metadata": {
    "collapsed": false,
    "ein.tags": "worksheet-0",
    "slideshow": {
     "slide_type": "-"
    }
   },
   "source": [
    "The check for the first type of infinitesimal cycles"
   ]
  },
  {
   "cell_type": "code",
   "execution_count": null,
   "id": "87d7fe93-4e98-4eec-b6eb-3db8daf9e9b1",
   "metadata": {
    "autoscroll": false,
    "collapsed": false,
    "ein.hycell": false,
    "ein.tags": "worksheet-0",
    "slideshow": {
     "slide_type": "-"
    }
   },
   "outputs": [],
   "source": [
    "infinitesimal_calculations({n : (vp-(pow(pow(vp,2)-pow(epsilon,2)*(sign2-sign1),half)))/(sign2-sign1)})"
   ]
  },
  {
   "cell_type": "markdown",
   "id": "14ef4832-67f7-4b1d-8e59-df46b304d5d5",
   "metadata": {
    "collapsed": false,
    "ein.tags": "worksheet-0",
    "slideshow": {
     "slide_type": "-"
    }
   },
   "source": [
    "The check for the parabolic focus case."
   ]
  },
  {
   "cell_type": "code",
   "execution_count": null,
   "id": "edc2c382-3466-44be-992a-7e88630869fd",
   "metadata": {
    "autoscroll": false,
    "collapsed": false,
    "ein.hycell": false,
    "ein.tags": "worksheet-0",
    "slideshow": {
     "slide_type": "-"
    }
   },
   "outputs": [],
   "source": [
    "infinitesimal_calculations({n : pow(epsilon,2)/2/vp, sign2 : sign1})"
   ]
  },
  {
   "cell_type": "markdown",
   "id": "4f3cadb5-66a1-4e21-adf3-93de5368a7bd",
   "metadata": {
    "collapsed": false
   },
   "source": [
    "\n",
    "This notebook is a part of the *MoebInv notebooks* project [ [2] ](#[2]).\n",
    "\n",
    "### References\n",
    "<a id=\"references\"></a>\n",
    "<a id=\"[1]\"></a>\n",
    "1. Vladimir V. Kisil. *Geometry of Möbius Transformations: Elliptic, Parabolic and Hyperbolic Actions of $SL_2(\\mathbb{R})$*. [Imperial College Press](https://www.worldscientific.com/worldscibooks/10.1142/p835), London, 2012. Includes a live DVD.\n",
    "\n",
    "   <a id=\"[2]\"></a>\n",
    "2.  Vladimir V. Kisil, [*MoebInv notebooks*](https://github.com/vvkisil/MoebInv-notebooks), 2019.\n",
    "\n",
    "[Back to Folder](https://github.com/vvkisil/MoebInv-notebooks/blob/master/EPAL-v1/)\n"
   ]
  }
 ],
 "metadata": {
  "kernelspec": {
   "argv": [
    "/usr/bin/python3",
    "-m",
    "ipykernel_launcher",
    "-f",
    "{connection_file}"
   ],
   "display_name": "Python 3 (ipykernel)",
   "env": null,
   "interrupt_mode": "signal",
   "language": "python",
   "metadata": {
    "debugger": true
   },
   "name": "python3"
  },
  "language_info": {
   "codemirror_mode": {
    "name": "ipython",
    "version": 3
   },
   "file_extension": ".py",
   "mimetype": "text/x-python",
   "name": "python",
   "nbconvert_exporter": "python",
   "pygments_lexer": "ipython3",
   "version": "3.6.4"
  },
  "name": "ex.I.7.23.ipynb"
 },
 "nbformat": 4,
 "nbformat_minor": 5
}
