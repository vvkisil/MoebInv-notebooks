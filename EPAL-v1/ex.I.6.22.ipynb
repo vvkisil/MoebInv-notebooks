{
 "cells": [
  {
   "cell_type": "markdown",
   "id": "ae220078-b5dc-4e1c-9aa3-110b3c237566",
   "metadata": {
    "collapsed": false
   },
   "source": [
    "<table style=\"width:100%\">\n",
    "    <tr>\n",
    "        <td>\n",
    "            <a href=\"http://v-v-kisil.rf.gd/MoebInv-notebooks/EPAL-v1/ex.I.6.22.html\">\n",
    "  <img src=\"../svg/view-html.svg\" alt=\"Open In Colab\"/>\n",
    "            </a>\n",
    "        </td>\n",
    "        <td>\n",
    "<a href=\"https://github.com/vvkisil/MoebInv-notebooks/blob/master/EPAL-v1/ex.I.6.22.ipynb\">\n",
    "  <img src=\"../svg/open-github.svg\" alt=\"Open In Colab\"/>\n",
    "            </a>\n",
    "        </td>\n",
    "        <td>\n",
    "            <a href=\"https://colab.research.google.com/github/vvkisil/MoebInv-notebooks/blob/master/EPAL-v1/ex.I.6.22.ipynb\">\n",
    "  <img src=\"../svg/exec-colab.svg\" alt=\"Open In Colab\"/>\n",
    "            </a>\n",
    "        </td>\n",
    "        <td>\n",
    "            <a href=\"https://codeocean.com/capsule/7952650/tree\">\n",
    "  <img src=\"../svg/code-ocean.svg\" alt=\"Code Ocean\"/>\n",
    "            </a>\n",
    "        </td>\n",
    "    </tr>\n",
    " </table>\n",
    "\n",
    "<a  align=\"center\" href=\"https://colab.research.google.com/github/vvkisil/MoebInv-notebooks/blob/master/Introduction/Software_installation_GUI_integration.ipynb\">Google CoLab software installation</a>\n"
   ]
  },
  {
   "cell_type": "markdown",
   "id": "2c68908d-7673-4b56-89de-b66da95b6859",
   "metadata": {
    "collapsed": false,
    "ein.tags": "worksheet-0",
    "slideshow": {
     "slide_type": "-"
    }
   },
   "source": [
    "# Check expressions for cycle similarity\n",
    "\n",
    "**Exercise I.6.22** [ [1] ](#[1])\n",
    "  Check that:\n",
    "$\n",
    "\\newcommand{\\Space}[3][]{\\mathbb{#2}^{#3}_{#1}}\n",
    "  \\newcommand{\\cycle}[3][]{{#1 C^{#2}_{#3}}}\n",
    "  \\newcommand{\\realline}[3][]{#1 R^{#2}_{#3}}\n",
    "  \\newcommand{\\bs}{\\breve{\\sigma}}\n",
    "  \\newcommand{\\zcycle}[3][]{#1 Z^{#2}_{#3}}\n",
    "  \\newcommand{\\SL}[1][2]{\\mathrm{SL}_{#1}(\\Space{R}{})}\n",
    "  \\newcommand{\\rs}{\\sigma_r}\n",
    "  \\newcommand{\\lvec}[1]{\\overrightarrow{#1}}\n",
    "$\n",
    "+ The cycle $\\bs$-similarity \n",
    "    with a cycle $\\cycle[\\tilde]{s}{\\bs}$, where $\\det\n",
    "    \\cycle[\\tilde]{s}{\\bs}\\neq 0$, preserves the structure of FSCc\n",
    "    matrices and $\\cycle[\\tilde]{s_1}{\\bs}$ is its fixed point. In a\n",
    "    non-singular case, $\\det \\cycle[\\tilde]{s}{\\bs}\\neq 0$, the second\n",
    "    iteration of similarity is the identity map.\n",
    "\n",
    "+ The $\\bs$-similarity with a $\\bs$-zero-radius cycle\n",
    "    $\\zcycle{s}{\\bs}$ always produces this cycle.\n",
    "+ The $\\bs$-similarity with a cycle $(k,l,n,m)$ is a linear\n",
    "    transformation of the cycle space $\\Space{R}{4}$ with a matrix \n",
    "    having an apparent regularity of its entries.\n"
   ]
  },
  {
   "cell_type": "markdown",
   "id": "2d93ae4e-1ef7-4d36-bd8c-bbe8ab3b456a",
   "metadata": {
    "collapsed": false,
    "ein.tags": "worksheet-0",
    "slideshow": {
     "slide_type": "-"
    }
   },
   "source": [
    "**Solution.** We explicitly define complex matrices corresponding to the cycles "
   ]
  },
  {
   "cell_type": "code",
   "execution_count": null,
   "id": "15d3072f-34ac-4b71-9a63-e94a8e993195",
   "metadata": {
    "autoscroll": false,
    "collapsed": false,
    "ein.hycell": false,
    "ein.tags": "worksheet-0",
    "slideshow": {
     "slide_type": "-"
    }
   },
   "outputs": [],
   "source": [
    "from init_cycle import *\n",
    "Mat=matrix([[l+I*sign2*n,-m],[k,-l+I*sign2*n]])\n",
    "Mat1=matrix([[l1+I*sign1*n1,-m1],[k1,-l1+I*sign1*n1]])"
   ]
  },
  {
   "cell_type": "markdown",
   "id": "0d8e981a-9ab8-4693-8bd2-d17872b740ce",
   "metadata": {
    "collapsed": false,
    "ein.tags": "worksheet-0",
    "slideshow": {
     "slide_type": "-"
    }
   },
   "source": [
    "Now we calculate similarity of respective matrices"
   ]
  },
  {
   "cell_type": "code",
   "execution_count": null,
   "id": "92262ad9-2d7f-4763-854b-4994938d9113",
   "metadata": {
    "autoscroll": false,
    "collapsed": false,
    "ein.hycell": false,
    "ein.tags": "worksheet-0",
    "slideshow": {
     "slide_type": "-"
    }
   },
   "outputs": [],
   "source": [
    "Res7=(Mat*Mat1.conjugate()*Mat).evalm().expand()"
   ]
  },
  {
   "cell_type": "markdown",
   "id": "c19bb5b0-877f-4854-a9e1-6209862cff1e",
   "metadata": {
    "collapsed": false,
    "ein.tags": "worksheet-0",
    "slideshow": {
     "slide_type": "-"
    }
   },
   "source": [
    "Then we calculate cycle similarity from the library"
   ]
  },
  {
   "cell_type": "code",
   "execution_count": null,
   "id": "1b975bc0-de6d-44c6-aa37-7418b0087756",
   "metadata": {
    "autoscroll": false,
    "collapsed": false,
    "ein.hycell": false,
    "ein.tags": "worksheet-0",
    "slideshow": {
     "slide_type": "-"
    }
   },
   "outputs": [],
   "source": [
    "Cn=C1.cycle_similarity(C,e,diag_matrix([1,sign1]),diag_matrix([1,sign2]))"
   ]
  },
  {
   "cell_type": "markdown",
   "id": "e4090850-23d1-4c7f-ab95-201fad2b0f51",
   "metadata": {
    "collapsed": false,
    "ein.tags": "worksheet-0",
    "slideshow": {
     "slide_type": "-"
    }
   },
   "source": [
    "Check that we get the same answers"
   ]
  },
  {
   "cell_type": "code",
   "execution_count": null,
   "id": "cd81a944-4d26-43e3-b12c-61b7d17a2840",
   "metadata": {
    "autoscroll": false,
    "collapsed": false,
    "ein.hycell": false,
    "ein.tags": "worksheet-0",
    "slideshow": {
     "slide_type": "-"
    }
   },
   "outputs": [],
   "source": [
    "print(\"With cycle conjugation we obtain\")\n",
    "\"  coeff k is the same: %s\" % (Cn.get_k().subs({sign : -1})-Res7.op(2)).normal().is_zero()"
   ]
  },
  {
   "cell_type": "markdown",
   "id": "37eff8d5-a2a4-4173-ac30-47efb9a90d0e",
   "metadata": {
    "collapsed": false,
    "ein.tags": "worksheet-0",
    "slideshow": {
     "slide_type": "-"
    }
   },
   "source": [
    "Since the first coefficient is different we need to check the projective equality (proportionality) of other coefficients:"
   ]
  },
  {
   "cell_type": "code",
   "execution_count": null,
   "id": "9017e024-8826-4f29-90e0-26fc45b3e114",
   "metadata": {
    "collapsed": false
   },
   "outputs": [],
   "source": [
    "\"  coeff l is proportional: %s\" % (Res7.op(2)*(Cn.get_l(0)+I*Cn.get_l(1)).subs({sign : -1})\\\n",
    "-Cn.get_k().subs({sign : -1})*Res7.op(0)).normal().is_zero()"
   ]
  },
  {
   "cell_type": "code",
   "execution_count": null,
   "id": "d0e6b792-ff42-45f5-b0e9-970394a75267",
   "metadata": {
    "autoscroll": false,
    "collapsed": false,
    "ein.hycell": false,
    "ein.tags": "worksheet-0",
    "slideshow": {
     "slide_type": "-"
    }
   },
   "outputs": [],
   "source": [
    "\"  coeff m is proportional: %s\" % (Res7.op(2)*Cn.get_m().subs({sign : -1})\\\n",
    "+Cn.get_k().subs({sign : -1})*Res7.op(1)).normal().is_zero()"
   ]
  },
  {
   "cell_type": "markdown",
   "id": "c3a0499f-dbb0-4ffb-b249-df655358e0b4",
   "metadata": {
    "collapsed": false,
    "ein.tags": "worksheet-0",
    "slideshow": {
     "slide_type": "-"
    }
   },
   "source": [
    "A separate check for zero-radius cycles, it is a projection to it"
   ]
  },
  {
   "cell_type": "code",
   "execution_count": null,
   "id": "24a4e1a1-9fd5-4eaf-ae04-a63cf14c05c1",
   "metadata": {
    "autoscroll": false,
    "collapsed": false,
    "ein.hycell": false,
    "ein.tags": "worksheet-0",
    "slideshow": {
     "slide_type": "-"
    }
   },
   "outputs": [],
   "source": [
    "\"Conjugation with a zero-radius cycle is this cycle: %s\" %\\\n",
    "C.cycle_similarity(Z).is_equal(Z)"
   ]
  },
  {
   "cell_type": "markdown",
   "id": "190082e1-ab79-4502-bd2a-2f31cbf5b183",
   "metadata": {
    "collapsed": false,
    "ein.tags": "worksheet-0",
    "slideshow": {
     "slide_type": "-"
    }
   },
   "source": [
    "Finally we output the explicit expression for the similarity:"
   ]
  },
  {
   "cell_type": "code",
   "execution_count": null,
   "id": "9bca051a-07b5-4d34-8f96-8afaa1cb26a8",
   "metadata": {
    "autoscroll": false,
    "collapsed": false,
    "ein.hycell": false,
    "ein.tags": "worksheet-0",
    "slideshow": {
     "slide_type": "-"
    }
   },
   "outputs": [],
   "source": [
    "Latex(\"Conjugation with a generic cycle is: $%s$\" %\\\n",
    "C1.cycle_similarity(C).string())"
   ]
  },
  {
   "cell_type": "markdown",
   "id": "6d3d82b5-6b3f-41ae-a843-a5172c1d2636",
   "metadata": {
    "collapsed": false
   },
   "source": [
    "\n",
    "This notebook is a part of the *MoebInv notebooks* project [ [2] ](#[2]).\n",
    "\n",
    "### References\n",
    "<a id=\"references\"></a>\n",
    "<a id=\"[1]\"></a>\n",
    "1. Vladimir V. Kisil. *Geometry of Möbius Transformations: Elliptic, Parabolic and Hyperbolic Actions of $SL_2(\\mathbb{R})$*. [Imperial College Press](https://www.worldscientific.com/worldscibooks/10.1142/p835), London, 2012. Includes a live DVD.\n",
    "\n",
    "   <a id=\"[2]\"></a>\n",
    "2.  Vladimir V. Kisil, [*MoebInv notebooks*](https://github.com/vvkisil/MoebInv-notebooks), 2019.\n",
    "\n",
    "[Back to Folder](https://github.com/vvkisil/MoebInv-notebooks/blob/master/EPAL-v1/)\n"
   ]
  }
 ],
 "metadata": {
  "kernelspec": {
   "argv": [
    "/usr/bin/python3",
    "-m",
    "ipykernel_launcher",
    "-f",
    "{connection_file}"
   ],
   "display_name": "Python 3 (ipykernel)",
   "env": null,
   "interrupt_mode": "signal",
   "language": "python",
   "metadata": {
    "debugger": true
   },
   "name": "python3"
  },
  "language_info": {
   "codemirror_mode": {
    "name": "ipython",
    "version": 3
   },
   "file_extension": ".py",
   "mimetype": "text/x-python",
   "name": "python",
   "nbconvert_exporter": "python",
   "pygments_lexer": "ipython3",
   "version": "3.6.4"
  },
  "name": "ex.I.6.22.ipynb"
 },
 "nbformat": 4,
 "nbformat_minor": 5
}
