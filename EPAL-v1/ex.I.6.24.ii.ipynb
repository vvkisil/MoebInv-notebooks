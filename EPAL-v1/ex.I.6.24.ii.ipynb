{
 "cells": [
  {
   "cell_type": "markdown",
   "id": "5180eaaf-9e44-44b6-9578-2fc028287949",
   "metadata": {
    "collapsed": false
   },
   "source": [
    "<table style=\"width:100%\">\n",
    "    <tr>\n",
    "        <td>\n",
    "            <a href=\"http://v-v-kisil.scienceontheweb.net/MoebInv-notebooks/EPAL-v1/ex.I.6.24.ii.html\">\n",
    "  <img src=\"../svg/view-html.svg\" alt=\"Open In Colab\"/>\n",
    "            </a>\n",
    "        </td>\n",
    "        <td>\n",
    "<a href=\"https://github.com/vvkisil/MoebInv-notebooks/blob/master/EPAL-v1/ex.I.6.24.ii.ipynb\">\n",
    "  <img src=\"../svg/open-github.svg\" alt=\"Open In Colab\"/>\n",
    "            </a>\n",
    "        </td>\n",
    "        <td>\n",
    "            <a href=\"https://colab.research.google.com/github/vvkisil/MoebInv-notebooks/blob/master/EPAL-v1/ex.I.6.24.ii.ipynb\">\n",
    "  <img src=\"../svg/exec-colab.svg\" alt=\"Open In Colab\"/>\n",
    "            </a>\n",
    "        </td>\n",
    "        <td>\n",
    "            <a href=\"https://codeocean.com/capsule/7952650/tree\">\n",
    "  <img src=\"../svg/code-ocean.svg\" alt=\"Code Ocean\"/>\n",
    "            </a>\n",
    "        </td>\n",
    "    </tr>\n",
    " </table>\n",
    "\n",
    "<a  align=\"center\" href=\"https://colab.research.google.com/github/vvkisil/MoebInv-notebooks/blob/master/Introduction/Software_installation_GUI_integration.ipynb\">Google CoLab software installation</a>\n"
   ]
  },
  {
   "cell_type": "markdown",
   "id": "364eaad5-f442-43bd-92a0-face2050354c",
   "metadata": {
    "collapsed": false,
    "ein.tags": "worksheet-0",
    "slideshow": {
     "slide_type": "-"
    }
   },
   "source": [
    "# Check that the image of zero-radius cycle is a zero-radius cycle\n",
    "\n",
    "**Exercise I.6.24.ii** [ [1] ](#[1]) \n",
    "$\n",
    "\\newcommand{\\Space}[3][]{\\mathbb{#2}^{#3}_{#1}}\n",
    "  \\newcommand{\\cycle}[3][]{{#1 C^{#2}_{#3}}}\n",
    "  \\newcommand{\\realline}[3][]{#1 R^{#2}_{#3}}\n",
    "  \\newcommand{\\bs}{\\breve{\\sigma}}\n",
    "  \\newcommand{\\zcycle}[3][]{#1 Z^{#2}_{#3}}\n",
    "  \\newcommand{\\SL}[1][2]{\\mathrm{SL}_{#1}(\\Space{R}{})}\n",
    "  \\newcommand{\\rs}{\\sigma_r}\n",
    "  \\newcommand{\\lvec}[1]{\\overrightarrow{#1}}\n",
    "$\n",
    "The image \n",
    "    $\\zcycle[\\tilde]{s}{\\sigma }=\\cycle{s_2}{\\sigma}\n",
    "    \\overline{\\zcycle{s_1}{\\sigma}}\\cycle{s_2}{\\sigma}$ of a\n",
    "    $\\sigma$-zero-radius cycle $\\zcycle[\\tilde]{s_1}{\\sigma}$\n",
    "    under the cycle similarity is a\n",
    "    $\\sigma$-zero-radius cycle $\\zcycle[\\tilde]{s_1}{\\sigma}$. The\n",
    "    $(s_1s_2)$-centre of $\\zcycle[\\tilde]{s}{\\bs}$ is the linear-fractional\n",
    "    transformation of the $(s_2/s_1)$-centre of\n",
    "    $\\zcycle{s}{\\bs}$."
   ]
  },
  {
   "cell_type": "markdown",
   "id": "7209a6e7-28a2-4260-8066-849792282673",
   "metadata": {
    "collapsed": false,
    "ein.tags": "worksheet-0",
    "slideshow": {
     "slide_type": "-"
    }
   },
   "source": [
    "**Solution** For the conjugated cycle `Zn` of a zero-radius cycle `Z` we check that that `Zn` is a zero-radius as well."
   ]
  },
  {
   "cell_type": "code",
   "execution_count": null,
   "id": "1491a117-dfb5-48eb-8e11-d2e0f08a4792",
   "metadata": {
    "autoscroll": false,
    "collapsed": false,
    "ein.hycell": false,
    "ein.tags": "worksheet-0",
    "slideshow": {
     "slide_type": "-"
    }
   },
   "outputs": [],
   "source": [
    "from init_cycle import *\n",
    "Zn=cycle2D(Z.cycle_similarity(C,e,sign_mat1,sign_mat2,pow(sign_mat1,-1).evalm()))\n",
    "\"Conjugation of a zero-radius cycle is a zero-radius cycle: %s\" % \\\n",
    "Zn.hdet(e,sign_mat1).normal().subs({pow(s1,2) : 1},subs_options.algebraic)\\\n",
    ".normal().is_zero()"
   ]
  },
  {
   "cell_type": "markdown",
   "id": "5561994a-959d-4d63-a641-0e84f5fafda5",
   "metadata": {
    "collapsed": false,
    "ein.tags": "worksheet-0",
    "slideshow": {
     "slide_type": "-"
    }
   },
   "source": [
    "`P` is the h-centre of the cycle `Z`."
   ]
  },
  {
   "cell_type": "code",
   "execution_count": null,
   "id": "77a4d050-28f2-4009-8314-c55e415a4887",
   "metadata": {
    "autoscroll": false,
    "collapsed": false,
    "ein.hycell": false,
    "ein.tags": "worksheet-0",
    "slideshow": {
     "slide_type": "-"
    }
   },
   "outputs": [],
   "source": [
    "P=Z.center(diag_matrix([-1,1]))\n"
   ]
  },
  {
   "cell_type": "markdown",
   "id": "279c2351-0357-46e8-8fdf-20773adb886c",
   "metadata": {
    "collapsed": false,
    "ein.tags": "worksheet-0",
    "slideshow": {
     "slide_type": "-"
    }
   },
   "source": [
    "Then we calculate the library's `cycle::mooebius_map()` of  `P` defined by FSCc matrix of a generic cycle `C`. It coincides with  the linear-fractional transformation defined by this matrix explicitly."
   ]
  },
  {
   "cell_type": "code",
   "execution_count": null,
   "id": "8da149dc-75b7-496b-a572-83c023d2f830",
   "metadata": {
    "collapsed": false
   },
   "outputs": [],
   "source": [
    "PM=C.moebius_map(P, e, (sign_mat*sign_mat1).evalm())"
   ]
  },
  {
   "cell_type": "markdown",
   "id": "93bea5d3-306d-4e2f-9a8e-916218f790e3",
   "metadata": {
    "collapsed": false
   },
   "source": [
    "For the Möbius transformation we are using the conjugated value `PN` of `P`, which is the elliptic centre. "
   ]
  },
  {
   "cell_type": "code",
   "execution_count": null,
   "id": "f96a7963-9a16-484f-b1b1-fe84c4c89318",
   "metadata": {
    "autoscroll": false,
    "collapsed": false,
    "ein.hycell": false,
    "ein.tags": "worksheet-0",
    "slideshow": {
     "slide_type": "-"
    }
   },
   "outputs": [],
   "source": [
    "PN=P[0] - I*P[1]\n",
    "\"Cycle generates Moebius map: %s\" %\\\n",
    "(PM[0] + I*PM[1]-((l+I*s*s1*n)*PN-m)/(k*PN+(-l+I*s*s1*n))).\\\n",
    "subs({sign : -1}).normal().is_zero()"
   ]
  },
  {
   "cell_type": "markdown",
   "id": "3a19e013-fbc6-4841-baf9-c42e252741e4",
   "metadata": {
    "collapsed": false,
    "ein.tags": "worksheet-0",
    "slideshow": {
     "slide_type": "-"
    }
   },
   "source": [
    "Now, `Pc` is the $s_2 s_1$-centre of `Zn` and `Pc1` is the linear-fractional map defined by the cycle `C`. For vector and paravector formalism the sign in calculations need to be adjusted."
   ]
  },
  {
   "cell_type": "code",
   "execution_count": null,
   "id": "4c6b4d25-278c-4d1d-8121-d4a5876d5bba",
   "metadata": {
    "autoscroll": false,
    "collapsed": false,
    "ein.hycell": false,
    "ein.tags": "worksheet-0",
    "slideshow": {
     "slide_type": "-"
    }
   },
   "outputs": [],
   "source": [
    "Pc=Zn.center(diag_matrix([-1,-s2*s1]))\n",
    "if (UseVectors):\n",
    "    Pc1=C.moebius_map(Z.center(diag_matrix([-1,-s2/s1])))\n",
    "else:\n",
    "    Pc1=C.moebius_map(Z.center(diag_matrix([-1,s2/s1])))"
   ]
  },
  {
   "cell_type": "markdown",
   "id": "817ffd09-0dee-4a76-8a6a-c92e21042b37",
   "metadata": {
    "collapsed": false,
    "ein.tags": "worksheet-0",
    "slideshow": {
     "slide_type": "-"
    }
   },
   "source": [
    "Now we check the statement, that is `Pc` and `Pc1` are the same for the non-zero values of `s` and `s1`."
   ]
  },
  {
   "cell_type": "code",
   "execution_count": null,
   "id": "057563e0-9a57-4249-ab04-6aa3b3cd3d6c",
   "metadata": {
    "autoscroll": false,
    "collapsed": false,
    "ein.hycell": false,
    "ein.tags": "worksheet-0",
    "slideshow": {
     "slide_type": "-"
    }
   },
   "outputs": [],
   "source": [
    "\"s1*s2-center of the similar cycle is the Moebius transformation of s2/s1-centre: %s\" % \\\n",
    "((Pc1[0]-Pc[0]).normal().subs({pow(s1,2) : 1, pow(s2,2) : 1}, subs_options.algebraic).is_zero() \\\n",
    " and (Pc1[1]-Pc[1]).normal().subs({pow(s1,2) : 1, pow(s2,2) : 1}, subs_options.algebraic).is_zero())"
   ]
  },
  {
   "cell_type": "markdown",
   "id": "a0a68685-83bb-4b4f-a6eb-41747cb3312f",
   "metadata": {
    "collapsed": false
   },
   "source": [
    "\n",
    "This notebook is a part of the *MoebInv notebooks* project [ [2] ](#[2]).\n",
    "\n",
    "### References\n",
    "<a id=\"references\"></a>\n",
    "<a id=\"[1]\"></a>\n",
    "1. Vladimir V. Kisil. *Geometry of Möbius Transformations: Elliptic, Parabolic and Hyperbolic Actions of $SL_2(\\mathbb{R})$*. [Imperial College Press](https://www.worldscientific.com/worldscibooks/10.1142/p835), London, 2012. Includes a live DVD.\n",
    "\n",
    "   <a id=\"[2]\"></a>\n",
    "2.  Vladimir V. Kisil, [*MoebInv notebooks*](https://github.com/vvkisil/MoebInv-notebooks), 2019.\n",
    "\n",
    "[Back to Folder](https://github.com/vvkisil/MoebInv-notebooks/blob/master/EPAL-v1/)\n"
   ]
  }
 ],
 "metadata": {
  "kernelspec": {
   "argv": [
    "/usr/bin/python3",
    "-m",
    "ipykernel_launcher",
    "-f",
    "{connection_file}"
   ],
   "display_name": "Python 3 (ipykernel)",
   "env": null,
   "interrupt_mode": "signal",
   "language": "python",
   "metadata": {
    "debugger": true
   },
   "name": "python3"
  },
  "language_info": {
   "codemirror_mode": {
    "name": "ipython",
    "version": 3
   },
   "file_extension": ".py",
   "mimetype": "text/x-python",
   "name": "python",
   "nbconvert_exporter": "python",
   "pygments_lexer": "ipython3",
   "version": "3.6.4"
  },
  "name": "ex.I.6.24.ii.ipynb"
 },
 "nbformat": 4,
 "nbformat_minor": 5
}
