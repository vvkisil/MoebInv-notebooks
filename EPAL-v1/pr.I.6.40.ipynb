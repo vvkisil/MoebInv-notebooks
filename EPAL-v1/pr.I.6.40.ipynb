{
 "cells": [
  {
   "cell_type": "markdown",
   "id": "a95aeb0b-28ea-47de-a768-301d724d80cc",
   "metadata": {
    "collapsed": false
   },
   "source": [
    "<table style=\"width:100%\">\n",
    "    <tr>\n",
    "        <td>\n",
    "            <a href=\"http://www1.maths.leeds.ac.uk/~kisilv/MoebInv-notebooks/EPAL-v1/pr.I.6.40.html\">\n",
    "  <img src=\"../svg/view-html.svg\" alt=\"Open In Colab\"/>\n",
    "            </a>\n",
    "        </td>\n",
    "        <td>\n",
    "<a href=\"https://github.com/vvkisil/MoebInv-notebooks/blob/master/EPAL-v1/pr.I.6.40.ipynb\">\n",
    "  <img src=\"../svg/open-github.svg\" alt=\"Open In Colab\"/>\n",
    "            </a>\n",
    "        </td>\n",
    "        <td>\n",
    "            <a href=\"https://colab.research.google.com/github/vvkisil/MoebInv-notebooks/blob/master/EPAL-v1/pr.I.6.40.ipynb\">\n",
    "  <img src=\"../svg/exec-colab.svg\" alt=\"Open In Colab\"/>\n",
    "            </a>\n",
    "        </td>\n",
    "        <td>\n",
    "            <a href=\"https://codeocean.com/capsule/7952650/tree\">\n",
    "  <img src=\"../svg/code-ocean.svg\" alt=\"Code Ocean\"/>\n",
    "            </a>\n",
    "        </td>\n",
    "    </tr>\n",
    " </table>\n",
    "\n",
    "<a  align=\"center\" href=\"https://colab.research.google.com/github/vvkisil/MoebInv-notebooks/blob/master/Introduction/Software_installation_GUI_integration.ipynb\">Google CoLab software installation</a>\n"
   ]
  },
  {
   "cell_type": "markdown",
   "id": "0af8c594-243b-4632-8a7e-bd6b11856797",
   "metadata": {
    "collapsed": false,
    "ein.tags": "worksheet-0",
    "slideshow": {
     "slide_type": "-"
    }
   },
   "source": [
    "# Proposition about f-ghost cycle\n",
    "\n",
    "**Proposition I.6.40** [ [1] ](#[1]) \n",
    "$\n",
    "\\newcommand{\\scalar}[3][]{\\left\\langle #2,#3 \n",
    "        \\right\\rangle_{#1}}\n",
    "\\newcommand{\\Space}[3][]{\\mathbb{#2}^{#3}_{#1}}\n",
    "\\newcommand{\\Space}[3][]{\\mathbb{#2}^{#3}_{#1}}\n",
    "  \\newcommand{\\cycle}[3][]{{#1 C^{#2}_{#3}}}\n",
    "  \\newcommand{\\realline}[3][]{#1 R^{#2}_{#3}}\n",
    "  \\newcommand{\\bs}{\\breve{\\sigma}}\n",
    "  \\newcommand{\\zcycle}[3][]{#1 Z^{#2}_{#3}}\n",
    "  \\newcommand{\\SL}[1][2]{\\mathrm{SL}_{#1}(\\Space{R}{})}\n",
    "  \\newcommand{\\rs}{\\sigma_r}\n",
    "  \\newcommand{\\lvec}[1]{\\overrightarrow{#1}}\n",
    "\\newcommand{\\rmi}{\\mathrm{i}}\n",
    "\\newcommand{\\alli}{\\iota}\n",
    "\\newcommand{\\rme}{\\mathrm{e}}\n",
    "\\newcommand{\\rmd}{\\mathrm{d}}\n",
    "\\newcommand{\\rmh}{\\mathrm{j}}\n",
    "\\newcommand{\\rmp}{\\varepsilon}\n",
    "\\newcommand{\\modulus}[2][]{\\left| #2 \\right|_{#1}}\n",
    "\\newcommand{\\sperp}{⋋}\n",
    "$\n",
    "Let $\\cycle{s}{\\bs}$ be a cycle. Then, its\n",
    "  {f-ghost cycle} $\\cycle[\\breve]{\\bs}{\\bs} =\n",
    "  \\cycle{\\chi(\\sigma)}{\\bs} \\Space[\\bs]{R}{\\bs}\n",
    "  \\cycle{\\chi(\\sigma)}{\\bs}$ is the reflection of the real line in\n",
    "  $\\cycle{\\chi(\\sigma)}{\\bs}$, where $\\chi(\\sigma)$ is the\n",
    "  {Heaviside function}.  Then:\n",
    "1. Cycles $\\cycle{1}{\\bs}$ and $\\cycle[\\breve]{\\bs}{\\bs}$\n",
    "    have the same roots.\n",
    "2. The $\\chi(\\sigma)$-centre of\n",
    "    $\\cycle[\\breve]{\\bs}{\\bs}$ coincides with the ($-\\bs$)-focus\n",
    "    of $\\cycle{s}{\\bs}$, consequently all straight lines\n",
    "    $\\bs$-f-orthogonal to $\\cycle{s}{\\bs}$ pass its\n",
    "    ($-\\bs$)-focus.\n",
    "3. f-inversion in $\\cycle{s}{\\bs}$ defined from\n",
    "    f-orthogonality (see\n",
    "    Definition~\\ref{item:inversion-orthogonality}) coincides with\n",
    "    the usual inversion in $\\cycle[\\breve]{\\bs}{\\bs}$."
   ]
  },
  {
   "cell_type": "markdown",
   "id": "86fdde72-32df-444e-bd2c-1c455337f66a",
   "metadata": {
    "collapsed": false,
    "ein.tags": "worksheet-0",
    "slideshow": {
     "slide_type": "-"
    }
   },
   "source": [
    "**Proof.** We construct the cycle `C6` f-orthogonal to `C` and passing `P`"
   ]
  },
  {
   "cell_type": "code",
   "execution_count": null,
   "id": "dd00c766-972d-4286-83a9-2733cea0c67c",
   "metadata": {
    "autoscroll": false,
    "collapsed": false,
    "ein.hycell": false,
    "ein.tags": "worksheet-0",
    "slideshow": {
     "slide_type": "-"
    }
   },
   "outputs": [],
   "source": [
    "from init_cycle import *\n",
    "C6=C1.subject_to([C1.passing(P), C.is_f_orthogonal(C1, es)])"
   ]
  },
  {
   "cell_type": "markdown",
   "id": "e840520e-04e1-44b0-ae52-c9f22c52c8a5",
   "metadata": {
    "collapsed": false,
    "ein.tags": "worksheet-0",
    "slideshow": {
     "slide_type": "-"
    }
   },
   "source": [
    "A straight line `C7` with the above properties"
   ]
  },
  {
   "cell_type": "code",
   "execution_count": null,
   "id": "64974561-ae0b-4e72-a6f3-0ef5b47a4931",
   "metadata": {
    "autoscroll": false,
    "collapsed": false,
    "ein.hycell": false,
    "ein.tags": "worksheet-0",
    "slideshow": {
     "slide_type": "-"
    }
   },
   "outputs": [],
   "source": [
    "C7=C6.subject_to(C6.is_linear())"
   ]
  },
  {
   "cell_type": "markdown",
   "id": "8282cf3a-1c45-4df3-b019-d2bd2301a068",
   "metadata": {
    "collapsed": false,
    "ein.tags": "worksheet-0",
    "slideshow": {
     "slide_type": "-"
    }
   },
   "source": [
    "The point with the first coordinate of the centre of `C` which the line passes  "
   ]
  },
  {
   "cell_type": "code",
   "execution_count": null,
   "id": "cf5169d6-709d-4c39-b37a-f87706965017",
   "metadata": {
    "autoscroll": false,
    "collapsed": false,
    "ein.hycell": false,
    "ein.tags": "worksheet-0",
    "slideshow": {
     "slide_type": "-"
    }
   },
   "outputs": [],
   "source": [
    "u4 = C.center()[0]\n",
    "v4=C7.roots(u4, False)[0].normal()\n",
    "\"All f-orthogonal lines come through the bs-focus of cycle: %s\" %\\\n",
    "(C.focus(diag_matrix([-1, -sign1]), True)-matrix([[u4], [v4]])).normal().is_zero()"
   ]
  },
  {
   "cell_type": "markdown",
   "id": "116a620e-d47d-439f-8093-839bc3c60310",
   "metadata": {
    "collapsed": false,
    "ein.tags": "worksheet-0",
    "slideshow": {
     "slide_type": "-"
    }
   },
   "source": [
    "We build the ghost cycle `C8`"
   ]
  },
  {
   "cell_type": "code",
   "execution_count": null,
   "id": "30ffc839-772c-45e6-94d9-6e21c22483be",
   "metadata": {
    "autoscroll": false,
    "collapsed": false,
    "ein.hycell": false,
    "ein.tags": "worksheet-0",
    "slideshow": {
     "slide_type": "-"
    }
   },
   "outputs": [],
   "source": [
    "C8=real_line.cycle_similarity(C, es, diag_matrix([1, sign1]), diag_matrix([1, jump_fnct(sign)]), diag_matrix([1, sign1])).normalize(n*k)\n",
    "R=C.roots()\n",
    "\"f-Ghost cycle has common roots with C: %s\" % \\\n",
    "(C8.val([R[0], 0]).numer().normal().is_zero() and C8.val([R[1], 0]).numer().normal().is_zero())"
   ]
  },
  {
   "cell_type": "markdown",
   "id": "e0612ebf-d179-4810-84fb-bda46c2275fc",
   "metadata": {
    "collapsed": false,
    "ein.tags": "worksheet-0",
    "slideshow": {
     "slide_type": "-"
    }
   },
   "source": []
  },
  {
   "cell_type": "code",
   "execution_count": null,
   "id": "0fc61473-fa19-47a1-ae8d-a2ebe578b399",
   "metadata": {
    "autoscroll": false,
    "collapsed": false,
    "ein.hycell": false,
    "ein.tags": "worksheet-0",
    "slideshow": {
     "slide_type": "-"
    }
   },
   "outputs": [],
   "source": [
    "Latex(\"$H(\\sigma)$-center of the f-ghost cycle coincides with $\\breve{\\sigma}$-focus of C: %s\" %\\\n",
    "(C8.center(diag_matrix([-1,jump_fnct(sign)]), True)\\\n",
    "-C.focus(diag_matrix([-1, -sign1]), True)).evalm().normal().is_zero_matrix())"
   ]
  },
  {
   "cell_type": "markdown",
   "id": "268daf41-955e-41ab-a870-5c5cbb575539",
   "metadata": {
    "collapsed": false,
    "ein.tags": "worksheet-0",
    "slideshow": {
     "slide_type": "-"
    }
   },
   "source": [
    "Different formulae for vector and paravector formalism."
   ]
  },
  {
   "cell_type": "code",
   "execution_count": null,
   "id": "9d253566-6256-4e0d-9b15-e69c442ddcc8",
   "metadata": {
    "autoscroll": false,
    "collapsed": false,
    "ein.hycell": false,
    "ein.tags": "worksheet-0",
    "slideshow": {
     "slide_type": "-"
    }
   },
   "outputs": [],
   "source": [
    "if (UseVectors):\n",
    "    P3=C8.moebius_map(P,e,diag_matrix([1,-jump_fnct(sign)]))\n",
    "else:\n",
    "    P3=C8.moebius_map([P[0],-P[1]],e,diag_matrix([1,-jump_fnct(sign)]))\n",
    "if (not UseVectors):\n",
    "    P3=C8.moebius_map([P[0],-P[1]],e,diag_matrix([1,-jump_fnct(sign)]))\n",
    "    # or complex conjugationof the vector case point point \n",
    "    #P3=[P3[0],-P3[1]]"
   ]
  },
  {
   "cell_type": "code",
   "execution_count": null,
   "id": "98769fa8-89d7-488d-8feb-d6a6c662420e",
   "metadata": {
    "autoscroll": false,
    "collapsed": false,
    "ein.hycell": false,
    "ein.tags": "worksheet-0",
    "slideshow": {
     "slide_type": "-"
    }
   },
   "outputs": [],
   "source": [
    "\"f-inversion in C coincides with inversion in f-ghost cycle: %s \" %\\\n",
    "C6.val(P3).normal().is_zero()"
   ]
  },
  {
   "cell_type": "markdown",
   "id": "f338e935-cc26-4bce-83a3-0a1a492da457",
   "metadata": {
    "collapsed": false
   },
   "source": [
    "\n",
    "This notebook is a part of the *MoebInv notebooks* project [ [2] ](#[2]).\n",
    "\n",
    "### References\n",
    "<a id=\"references\"></a>\n",
    "<a id=\"[1]\"></a>\n",
    "1. Vladimir V. Kisil. *Geometry of Möbius Transformations: Elliptic, Parabolic and Hyperbolic Actions of $SL_2(\\mathbb{R})$*. [Imperial College Press](https://www.worldscientific.com/worldscibooks/10.1142/p835), London, 2012. Includes a live DVD.\n",
    "\n",
    "   <a id=\"[2]\"></a>\n",
    "2.  Vladimir V. Kisil, [*MoebInv notebooks*](https://github.com/vvkisil/MoebInv-notebooks), 2019.\n",
    "\n",
    "[Back to Folder](https://github.com/vvkisil/MoebInv-notebooks/blob/master/EPAL-v1/)\n"
   ]
  }
 ],
 "metadata": {
  "kernelspec": {
   "argv": [
    "/usr/bin/python3",
    "-m",
    "ipykernel_launcher",
    "-f",
    "{connection_file}"
   ],
   "display_name": "Python 3 (ipykernel)",
   "env": null,
   "interrupt_mode": "signal",
   "language": "python",
   "metadata": {
    "debugger": true
   },
   "name": "python3"
  },
  "language_info": {
   "codemirror_mode": {
    "name": "ipython",
    "version": 3
   },
   "file_extension": ".py",
   "mimetype": "text/x-python",
   "name": "python",
   "nbconvert_exporter": "python",
   "pygments_lexer": "ipython3",
   "version": "3.6.4"
  },
  "name": "pr.I.6.40.ipynb"
 },
 "nbformat": 4,
 "nbformat_minor": 2
}
