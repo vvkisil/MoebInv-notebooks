{
 "cells": [
  {
   "cell_type": "markdown",
   "metadata": {},
   "source": [
    "<table style=\"width:100%\">\n",
    "    <tr>\n",
    "        <td>\n",
    "            <a href=\"http://v-v-kisil.rf.gd/MoebInv-notebooks/EPAL-v1/ex.I.6.26.html\">\n",
    "  <img src=\"../svg/view-html.svg\" alt=\"Open In Colab\"/>\n",
    "            </a>\n",
    "        </td>\n",
    "        <td>\n",
    "<a href=\"https://github.com/vvkisil/MoebInv-notebooks/blob/master/EPAL-v1/ex.I.6.26.ipynb\">\n",
    "  <img src=\"../svg/open-github.svg\" alt=\"Open In Colab\"/>\n",
    "            </a>\n",
    "        </td>\n",
    "        <td>\n",
    "            <a href=\"https://colab.research.google.com/github/vvkisil/MoebInv-notebooks/blob/master/EPAL-v1/ex.I.6.26.ipynb\">\n",
    "  <img src=\"../svg/exec-colab.svg\" alt=\"Open In Colab\"/>\n",
    "            </a>\n",
    "        </td>\n",
    "        <td>\n",
    "            <a href=\"https://codeocean.com/capsule/7952650/tree\">\n",
    "  <img src=\"../svg/code-ocean.svg\" alt=\"Code Ocean\"/>\n",
    "            </a>\n",
    "        </td>\n",
    "    </tr>\n",
    " </table>\n",
    "\n",
    "<a  align=\"center\" href=\"https://colab.research.google.com/github/vvkisil/MoebInv-notebooks/blob/master/Introduction/Software_installation_GUI_integration.ipynb\">Google CoLab software installation</a>\n"
   ]
  },
  {
   "cell_type": "markdown",
   "metadata": {
    "ein.tags": "worksheet-0",
    "slideshow": {
     "slide_type": "-"
    }
   },
   "source": [
    "# Check properties of reflection with respect to orthogonality\n",
    "**Exercise I.6.26** [ [1] ](*[1])\n",
    "$\n",
    "\\newcommand{\\Space}[3][]{\\mathbb{#2}^{#3}_{#1}}\n",
    "  \\newcommand{\\cycle}[3][]{{#1 C^{#2}_{#3}}}\n",
    "  \\newcommand{\\realline}[3][]{#1 R^{#2}_{#3}}\n",
    "  \\newcommand{\\bs}{\\breve{\\sigma}}\n",
    "  \\newcommand{\\zcycle}[3][]{#1 Z^{#2}_{#3}}\n",
    "  \\newcommand{\\SL}[1][2]{\\mathrm{SL}_{#1}(\\Space{R}{})}\n",
    "  \\newcommand{\\rs}{\\sigma_r}\n",
    "  \\newcommand{\\lvec}[1]{\\overrightarrow{#1}}\n",
    "$\n",
    "  Let $\\det \\cycle[\\tilde]{s}{\\bs}\\neq 0$. Then, for\n",
    "  cycle similarity with $\\cycle[\\tilde]{s}{\\bs}$:  \n",
    "+ Verify the identities\n",
    "$-\\cycle[\\tilde]{s_1}{\\bs}    \\overline   {\\cycle[\\tilde]{s}{\\bs}}\\cycle[\\tilde]{s_1}{\\bs}\n",
    "    ={ \\det_{\\bs}}(\\cycle[\\tilde]{s_1}{\\bs})\\cdot\n",
    "    \\cycle[\\tilde]{s_1}{\\bs}\n",
    "$ and $    -\\cycle[\\tilde]{}{\\bs}\\overline\n",
    "    {\\cycle{}{\\bs}}\\cycle[\\tilde]{}{\\bs}\n",
    "    =-{\\det_{\\bs}}(\\cycle[\\tilde]{}{\\bs})\\cdot\\cycle{}{\\bs},\n",
    "$\n",
    "    where $\\cycle{s}{\\bs}$  is  a cycle $\\bs$-orthogonal to\n",
    "    $\\strut \\cycle[\\tilde]{}{\\bs}$.  Note the difference in the signs in\n",
    "    the right-hand sides of both identities.\n",
    "+ Describe all cycles which are fixed (as points in the\n",
    "    projective space $\\Space{P}{3}$) by the similarity with the given\n",
    "    cycle $\\cycle[\\tilde]{s}{\\bs}$.\n",
    "\n",
    "**Hint.**\n",
    "      Use a decomposition of a generic cycle into a sum\n",
    "      $\\cycle[\\tilde]{s}{\\bs}$ and a cycle orthogonal to\n",
    "      $\\cycle[\\tilde]{s}{\\bs}$."
   ]
  },
  {
   "cell_type": "markdown",
   "metadata": {
    "ein.tags": "worksheet-0",
    "slideshow": {
     "slide_type": "-"
    }
   },
   "source": [
    "**Solution.** The direct check:"
   ]
  },
  {
   "cell_type": "code",
   "execution_count": null,
   "metadata": {
    "autoscroll": false,
    "collapsed": false,
    "ein.hycell": false,
    "ein.tags": "worksheet-0",
    "slideshow": {
     "slide_type": "-"
    }
   },
   "outputs": [],
   "source": [
    "from init_cycle import *\n",
    "print(\"C conjugated with itself is C multiplied by det(C): %s\" % \\\n",
    "C.cycle_similarity(C,e,sign_mat1,sign_mat1,pow(sign_mat1,-1).evalm())\\\n",
    ".subs(pow(s1,2)==1,subs_options.algebraic)\\\n",
    ".is_equal(C.exmul(C.hdet(e,sign_mat1)).subs(pow(s1,2)==1,subs_options.algebraic),False))"
   ]
  },
  {
   "cell_type": "markdown",
   "metadata": {
    "ein.tags": "worksheet-0",
    "slideshow": {
     "slide_type": "-"
    }
   },
   "source": [
    "A similar check for orthogonal cycles"
   ]
  },
  {
   "cell_type": "code",
   "execution_count": null,
   "metadata": {
    "autoscroll": false,
    "collapsed": false,
    "ein.hycell": false,
    "ein.tags": "worksheet-0",
    "slideshow": {
     "slide_type": "-"
    }
   },
   "outputs": [],
   "source": [
    "Cn=C1.subject_to(C1.is_orthogonal(C,e))\n",
    "print(\"A cycle orthogonal to C conjugated with C is itself times -det(C): %s \" % \\\n",
    "Cn.cycle_similarity(C,e).is_equal(Cn.exmul(-C.hdet(e)),False))"
   ]
  },
  {
   "cell_type": "markdown",
   "metadata": {},
   "source": [
    "\n",
    "This notebook is a part of the *MoebInv notebooks* project [ [2] ](#[2]).\n",
    "\n",
    "### References\n",
    "<a id=\"references\"></a>\n",
    "<a id=\"[1]\"></a>\n",
    "1. Vladimir V. Kisil. *Geometry of Möbius Transformations: Elliptic, Parabolic and Hyperbolic Actions of $SL_2(\\mathbb{R})$*. [Imperial College Press](https://www.worldscientific.com/worldscibooks/10.1142/p835), London, 2012. Includes a live DVD.\n",
    "\n",
    "   <a id=\"[2]\"></a>\n",
    "2.  Vladimir V. Kisil, [*MoebInv notebooks*](https://github.com/vvkisil/MoebInv-notebooks), 2019.\n",
    "\n",
    "[Back to Folder](https://github.com/vvkisil/MoebInv-notebooks/blob/master/EPAL-v1/)\n"
   ]
  }
 ],
 "metadata": {
  "kernelspec": {
   "argv": [
    "/usr/bin/python3",
    "-m",
    "ipykernel_launcher",
    "-f",
    "{connection_file}"
   ],
   "display_name": "Python 3",
   "env": null,
   "interrupt_mode": "signal",
   "language": "python",
   "metadata": null,
   "name": "python3"
  },
  "language_info": {
   "codemirror_mode": {
    "name": "ipython",
    "version": 3
   },
   "file_extension": ".py",
   "mimetype": "text/x-python",
   "name": "python",
   "nbconvert_exporter": "python",
   "pygments_lexer": "ipython3",
   "version": "3.6.4"
  },
  "name": "ex-conjug-reflection.ipynb"
 },
 "nbformat": 4,
 "nbformat_minor": 5
}
