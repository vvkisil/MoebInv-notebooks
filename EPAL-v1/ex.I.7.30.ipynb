{
 "cells": [
  {
   "cell_type": "markdown",
   "id": "9d42d54f-71e2-4087-9966-c812f41f4844",
   "metadata": {
    "collapsed": false
   },
   "source": [
    "<table style=\"width:100%\">\n",
    "    <tr>\n",
    "        <td>\n",
    "            <a href=\"http://v-v-kisil.rf.gd/MoebInv-notebooks/EPAL-v1/ex.I.7.30.html\">\n",
    "  <img src=\"../svg/view-html.svg\" alt=\"Open In Colab\"/>\n",
    "            </a>\n",
    "        </td>\n",
    "        <td>\n",
    "<a href=\"https://github.com/vvkisil/MoebInv-notebooks/blob/master/EPAL-v1/ex.I.7.30.ipynb\">\n",
    "  <img src=\"../svg/open-github.svg\" alt=\"Open In Colab\"/>\n",
    "            </a>\n",
    "        </td>\n",
    "        <td>\n",
    "            <a href=\"https://colab.research.google.com/github/vvkisil/MoebInv-notebooks/blob/master/EPAL-v1/ex.I.7.30.ipynb\">\n",
    "  <img src=\"../svg/exec-colab.svg\" alt=\"Open In Colab\"/>\n",
    "            </a>\n",
    "        </td>\n",
    "        <td>\n",
    "            <a href=\"https://codeocean.com/capsule/7952650/tree\">\n",
    "  <img src=\"../svg/code-ocean.svg\" alt=\"Code Ocean\"/>\n",
    "            </a>\n",
    "        </td>\n",
    "    </tr>\n",
    " </table>\n",
    "\n",
    "<a  align=\"center\" href=\"https://colab.research.google.com/github/vvkisil/MoebInv-notebooks/blob/master/Introduction/Software_installation_GUI_integration.ipynb\">Google CoLab software installation</a>\n"
   ]
  },
  {
   "cell_type": "markdown",
   "id": "1da4919a-f8d8-41a5-9d14-fe43f42642b4",
   "metadata": {
    "collapsed": false,
    "ein.tags": "worksheet-0",
    "slideshow": {
     "slide_type": "-"
    }
   },
   "source": [
    "# We check (the absence of) infinitesimal conformality of parabolic lengths\n",
    "\n",
    "**Exercise I.7.30** [ [1] ](#[1])\n",
    "$\n",
    "\\newcommand{\\scalar}[3][]{\\left\\langle #2,#3 \n",
    "        \\right\\rangle_{#1}}\n",
    "\\newcommand{\\Space}[3][]{\\mathbb{#2}^{#3}_{#1}}\n",
    "\\newcommand{\\Space}[3][]{\\mathbb{#2}^{#3}_{#1}}\n",
    "  \\newcommand{\\cycle}[3][]{{#1 C^{#2}_{#3}}}\n",
    "  \\newcommand{\\realline}[3][]{#1 R^{#2}_{#3}}\n",
    "  \\newcommand{\\bs}{\\breve{\\sigma}}\n",
    "  \\newcommand{\\zcycle}[3][]{#1 Z^{#2}_{#3}}\n",
    "  \\newcommand{\\SL}[1][2]{\\mathrm{SL}_{#1}(\\Space{R}{})}\n",
    "  \\newcommand{\\rs}{\\sigma_r}\n",
    "  \\newcommand{\\lvec}[1]{\\overrightarrow{#1}}\n",
    "\\newcommand{\\rmi}{\\mathrm{i}}\n",
    "\\newcommand{\\alli}{\\iota}\n",
    "\\newcommand{\\rme}{\\mathrm{e}}\n",
    "\\newcommand{\\rmd}{\\mathrm{d}}\n",
    "\\newcommand{\\rmh}{\\mathrm{j}}\n",
    "\\newcommand{\\rmp}{\\varepsilon}\n",
    "\\newcommand{\\modulus}[2][]{\\left| #2 \\right|_{#1}}\n",
    "\\newcommand{\\sperp}{⋋}\n",
    "$\n",
    "  Show that, for lengths from foci and\n",
    "  $\\rs= 0$, the limit at point\n",
    "  $y_0=u_0+\\alli v_0$ does exist but depends on the direction\n",
    "  $y=u+\\alli v$:\n",
    "  \\begin{equation} \n",
    "    \\label{eq:focal-length-factor}\n",
    "    \\lim_{t\\rightarrow 0} \\frac{d(g\\cdot y_0, g\\cdot(y_0+ty))}{d(y_0,\n",
    "      y_0+ty)}=\\frac{1}{(d+cu_0)^2+\\sigma c^2 v_0^2 -2 K c v_0(d+c u_0)},\n",
    "  \\end{equation}\n",
    "  where $ K=\\frac{u}{v}$ and $g=\n",
    "  \\begin{pmatrix}\n",
    "    a&b\\\\c&d\n",
    "  \\end{pmatrix}$. Thus, the length is not conformal."
   ]
  },
  {
   "cell_type": "markdown",
   "id": "a7f5c121-94cf-485b-aa75-30e19ed25dfd",
   "metadata": {
    "collapsed": false,
    "ein.tags": "worksheet-0",
    "slideshow": {
     "slide_type": "-"
    }
   },
   "source": [
    "**Solution.** We use the $\\SL$ relation fro algebraic subctitutions. "
   ]
  },
  {
   "cell_type": "code",
   "execution_count": null,
   "id": "94f590b7-2397-4caf-884e-0aae14c9cffe",
   "metadata": {
    "autoscroll": false,
    "collapsed": false,
    "ein.hycell": false,
    "ein.tags": "worksheet-0",
    "slideshow": {
     "slide_type": "-"
    }
   },
   "outputs": [],
   "source": [
    "from init_cycle import *\n",
    "sl2_relation1 = {a : (1+b*c)/d}"
   ]
  },
  {
   "cell_type": "markdown",
   "id": "152e9f1c-60d1-49da-b973-5d4537df0e5f",
   "metadata": {
    "collapsed": false,
    "ein.tags": "worksheet-0",
    "slideshow": {
     "slide_type": "-"
    }
   },
   "source": [
    "Define the first transformed point"
   ]
  },
  {
   "cell_type": "code",
   "execution_count": null,
   "id": "4854fb12-d5c4-4e84-b993-8ba6a5f14a05",
   "metadata": {
    "autoscroll": false,
    "collapsed": false,
    "ein.hycell": false,
    "ein.tags": "worksheet-0",
    "slideshow": {
     "slide_type": "-"
    }
   },
   "outputs": [],
   "source": [
    "gP=clifford_moebius_map(sl2_clifford(a, b, c, d, e), P, e)\n",
    "gP=[gP[0].subs(sl2_relation1,subs_options.algebraic).normal(),\\\n",
    "gP[1].subs(sl2_relation1,subs_options.algebraic).normal()]"
   ]
  },
  {
   "cell_type": "markdown",
   "id": "6f7ebe18-9a81-4589-b0da-67961bceb9d9",
   "metadata": {
    "collapsed": false,
    "ein.tags": "worksheet-0",
    "slideshow": {
     "slide_type": "-"
    }
   },
   "source": [
    "Define the second transformed point"
   ]
  },
  {
   "cell_type": "code",
   "execution_count": null,
   "id": "a97fc9bb-0e22-4131-9d9d-7a89c4a376eb",
   "metadata": {
    "autoscroll": false,
    "collapsed": false,
    "ein.hycell": false,
    "ein.tags": "worksheet-0",
    "slideshow": {
     "slide_type": "-"
    }
   },
   "outputs": [],
   "source": [
    "gP1=clifford_moebius_map(sl2_clifford(a, b, c, d, e), P1, e)\n",
    "gP1=[gP1[0].subs(sl2_relation1,subs_options.algebraic).normal(),\\\n",
    "gP1[1].subs(sl2_relation1,subs_options.algebraic).normal()]\n",
    "t=possymbol(\"t\")"
   ]
  },
  {
   "cell_type": "markdown",
   "id": "09ae0416-f316-49fb-bbbe-5dadcc3f10b8",
   "metadata": {
    "collapsed": false,
    "ein.tags": "worksheet-0",
    "slideshow": {
     "slide_type": "-"
    }
   },
   "source": [
    "The procedure to check the relations."
   ]
  },
  {
   "cell_type": "code",
   "execution_count": null,
   "id": "6930c063-67f5-4a90-82f8-5ae3985f4768",
   "metadata": {
    "autoscroll": false,
    "collapsed": false,
    "ein.hycell": false,
    "ein.tags": "worksheet-0",
    "slideshow": {
     "slide_type": "-"
    }
   },
   "outputs": [],
   "source": [
    "def check_conformality(Len_c):\n",
    "    Len_cD= ((Len_c.subs({u : gP[0], v : gP[1], u1 : gP1[0], v1 : gP1[1]})\\\n",
    "    /Len_c).subs({u1 : u+t*x, v1 : v+t*y}))\n",
    "    \n",
    "    if (Len_cD.has(t)):\n",
    "        Len_cD = Len_cD.normal().series(relational(t, 0, eq), 1).op(0).normal()\n",
    "    return Latex(\"The factor is: $%s$\" % Len_cD.normal())"
   ]
  },
  {
   "cell_type": "code",
   "execution_count": null,
   "id": "ce6829a3-03ee-48a8-bc4a-ba5d76261951",
   "metadata": {
    "autoscroll": false,
    "collapsed": false,
    "ein.hycell": false,
    "ein.tags": "worksheet-0",
    "slideshow": {
     "slide_type": "-"
    }
   },
   "outputs": [],
   "source": [
    "print(\"The length from parabolic focus is not conformal in usual sense:\")\n",
    "p=(pow(u1-u,2)-sign*pow(v1,2))/(v1-v)/2\n",
    "check_conformality(-sign1*pow(p, 2) - 2*v*p)"
   ]
  },
  {
   "cell_type": "markdown",
   "id": "3765a4da-bf2f-4513-9bfa-a3cfe9598d41",
   "metadata": {
    "collapsed": false
   },
   "source": [
    "\n",
    "This notebook is a part of the *MoebInv notebooks* project [ [2] ](#[2]).\n",
    "\n",
    "### References\n",
    "<a id=\"references\"></a>\n",
    "<a id=\"[1]\"></a>\n",
    "1. Vladimir V. Kisil. *Geometry of Möbius Transformations: Elliptic, Parabolic and Hyperbolic Actions of $SL_2(\\mathbb{R})$*. [Imperial College Press](https://www.worldscientific.com/worldscibooks/10.1142/p835), London, 2012. Includes a live DVD.\n",
    "\n",
    "   <a id=\"[2]\"></a>\n",
    "2.  Vladimir V. Kisil, [*MoebInv notebooks*](https://github.com/vvkisil/MoebInv-notebooks), 2019.\n",
    "\n",
    "[Back to Folder](https://github.com/vvkisil/MoebInv-notebooks/blob/master/EPAL-v1/)\n"
   ]
  }
 ],
 "metadata": {
  "kernelspec": {
   "argv": [
    "/usr/bin/python3",
    "-m",
    "ipykernel_launcher",
    "-f",
    "{connection_file}"
   ],
   "display_name": "Python 3 (ipykernel)",
   "env": null,
   "interrupt_mode": "signal",
   "language": "python",
   "metadata": {
    "debugger": true
   },
   "name": "python3"
  },
  "language_info": {
   "codemirror_mode": {
    "name": "ipython",
    "version": 3
   },
   "file_extension": ".py",
   "mimetype": "text/x-python",
   "name": "python",
   "nbconvert_exporter": "python",
   "pygments_lexer": "ipython3",
   "version": "3.6.4"
  },
  "name": "ex.I.7.30.ipynb"
 },
 "nbformat": 4,
 "nbformat_minor": 5
}
