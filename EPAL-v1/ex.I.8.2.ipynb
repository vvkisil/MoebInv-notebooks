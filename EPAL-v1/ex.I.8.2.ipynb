{
 "cells": [
  {
   "cell_type": "markdown",
   "id": "170feb2f-1938-4f0c-8c2c-e468ff2202ec",
   "metadata": {
    "collapsed": false
   },
   "source": [
    "<table style=\"width:100%\">\n",
    "    <tr>\n",
    "        <td>\n",
    "            <a href=\"http://www1.maths.leeds.ac.uk/~kisilv/MoebInv-notebooks/EPAL-v1/ex.I.8.2.html\">\n",
    "  <img src=\"../svg/view-html.svg\" alt=\"Open In Colab\"/>\n",
    "            </a>\n",
    "        </td>\n",
    "        <td>\n",
    "<a href=\"https://github.com/vvkisil/MoebInv-notebooks/blob/master/EPAL-v1/ex.I.8.2.ipynb\">\n",
    "  <img src=\"../svg/open-github.svg\" alt=\"Open In Colab\"/>\n",
    "            </a>\n",
    "        </td>\n",
    "        <td>\n",
    "            <a href=\"https://colab.research.google.com/github/vvkisil/MoebInv-notebooks/blob/master/EPAL-v1/ex.I.8.2.ipynb\">\n",
    "  <img src=\"../svg/exec-colab.svg\" alt=\"Open In Colab\"/>\n",
    "            </a>\n",
    "        </td>\n",
    "        <td>\n",
    "            <a href=\"https://codeocean.com/capsule/7952650/tree\">\n",
    "  <img src=\"../svg/code-ocean.svg\" alt=\"Code Ocean\"/>\n",
    "            </a>\n",
    "        </td>\n",
    "    </tr>\n",
    " </table>\n",
    "\n",
    "<a  align=\"center\" href=\"https://colab.research.google.com/github/vvkisil/MoebInv-notebooks/blob/master/Introduction/Software_installation_GUI_integration.ipynb\">Google CoLab software installation</a>\n"
   ]
  },
  {
   "cell_type": "markdown",
   "id": "6c8f47e3-3f29-4314-886e-71f0769f70ea",
   "metadata": {
    "collapsed": false,
    "ein.tags": "worksheet-0",
    "slideshow": {
     "slide_type": "-"
    }
   },
   "source": [
    "# Check properties of the zero-radius cycle at infinity\n",
    "\n",
    "**Exercise I.8.2** [ [1] ](*[1])\n",
    "   Check the following:\n",
    "1. $Z_{\\infty}$ is the image of the zero-radius cycle\n",
    "    $Z_{(0,0)}=(1,0,0,0)$ at the origin under reflection into the unit cycle $(1,\n",
    "    0,0,-1)$---see blue cycles in Fig.~I.6.4(b)--(d) from  [ [1] ](*[1]). \n",
    "2. The following statements are equivalent:\n",
    "     +  A point $(u,v)\\in\\mathbb{R}_\\sigma$ belongs to the\n",
    "        \\emph{zero-radius cycle} $Z_{(0,0)}$ centred at the\n",
    "       origin.\n",
    "     +  The zero-radius cycle $Z_{(u,v)}$ is\n",
    "       $\\sigma$-orthogonal to the zero-radius cycle $Z_{(0,0)}$.\n",
    "     + The inversion $z\\mapsto \\frac{1}{z}$ in the unit cycle is\n",
    "       singular in the point $(u,v)$.\n",
    "     + The image of $Z_{(u,v)}$ under inversion in the\n",
    "       unit cycle is orthogonal to $Z_{\\infty}$.\n",
    "       \n",
    "   If any one of the above statements is true, we also say that the image\n",
    "   of $(u,v)$ under inversion in the unit cycle belongs to the\n",
    "   zero-radius cycle at infinity.\n",
    "  \n",
    "**Hint.**\n",
    "    These can be easily obtained by direct calculations, even without\n",
    "    a CAS.\n"
   ]
  },
  {
   "cell_type": "markdown",
   "id": "7450dab5-b36a-496c-b774-2ef3bb452d4f",
   "metadata": {
    "collapsed": false,
    "ein.tags": "worksheet-0",
    "slideshow": {
     "slide_type": "-"
    }
   },
   "source": [
    "**Solution.** We define the required cycles:"
   ]
  },
  {
   "cell_type": "code",
   "execution_count": null,
   "id": "88198367-641c-4fd7-87a7-f3a52a724fad",
   "metadata": {
    "autoscroll": false,
    "collapsed": false,
    "ein.hycell": false,
    "ein.tags": "worksheet-0",
    "slideshow": {
     "slide_type": "-"
    }
   },
   "outputs": [],
   "source": [
    "from init_cycle import *\n",
    "Z0=cycle2D([0,0],e,0)\n",
    "Cu=cycle2D(1,[0,0],-1,e)"
   ]
  },
  {
   "cell_type": "markdown",
   "id": "a1f7e3fb-7bbd-42e6-80ef-dd04c9d1331d",
   "metadata": {
    "collapsed": false,
    "ein.tags": "worksheet-0",
    "slideshow": {
     "slide_type": "-"
    }
   },
   "source": [
    "Then we simply output the reuired statements:"
   ]
  },
  {
   "cell_type": "code",
   "execution_count": null,
   "id": "a8c95f14-5ae1-4075-9c4d-a2dbfafcc1f9",
   "metadata": {
    "collapsed": false
   },
   "outputs": [],
   "source": [
    "Latex(\"Zero cycle at infinity is the reflection of zero cycle at origin: %s\" % \\\n",
    "Zinf.is_equal(Z0.cycle_similarity(Cu)))"
   ]
  },
  {
   "cell_type": "code",
   "execution_count": null,
   "id": "606d6d1f-8b0d-4f26-8503-32797fadf75e",
   "metadata": {
    "collapsed": false
   },
   "outputs": [],
   "source": [
    "Latex(f\"$(u,v)$ belongs to zero cycle at the origin if: ${Z0.val([u,v])==0}$\")"
   ]
  },
  {
   "cell_type": "code",
   "execution_count": null,
   "id": "88290d44-1033-4798-a615-ef7a0211757e",
   "metadata": {
    "collapsed": false
   },
   "outputs": [],
   "source": [
    "Latex(f\"Zero cycle at $(u,v)$ is orthogonal to zero cycle at the origin if: ${Z.is_orthogonal(Z0,es)}$\")"
   ]
  },
  {
   "cell_type": "code",
   "execution_count": null,
   "id": "ca364a6a-85cf-4380-8e02-0a7612505899",
   "metadata": {
    "autoscroll": false,
    "collapsed": false,
    "ein.hycell": false,
    "ein.tags": "worksheet-0",
    "slideshow": {
     "slide_type": "-"
    }
   },
   "outputs": [],
   "source": [
    "Latex(f\"Zero cycle at infinity is orthogonal to reflection of $Z(u,v)$ if: ${Zinf.is_orthogonal(Z.cycle_similarity(Cu))}$\")"
   ]
  },
  {
   "cell_type": "markdown",
   "id": "c873d04b-cd7b-4537-b75a-3bc59e185feb",
   "metadata": {
    "collapsed": false
   },
   "source": [
    "\n",
    "This notebook is a part of the *MoebInv notebooks* project [ [2] ](#[2]).\n",
    "\n",
    "### References\n",
    "<a id=\"references\"></a>\n",
    "<a id=\"[1]\"></a>\n",
    "1. Vladimir V. Kisil. *Geometry of Möbius Transformations: Elliptic, Parabolic and Hyperbolic Actions of $SL_2(\\mathbb{R})$*. [Imperial College Press](https://www.worldscientific.com/worldscibooks/10.1142/p835), London, 2012. Includes a live DVD.\n",
    "\n",
    "   <a id=\"[2]\"></a>\n",
    "2.  Vladimir V. Kisil, [*MoebInv notebooks*](https://github.com/vvkisil/MoebInv-notebooks), 2019.\n",
    "\n",
    "[Back to Folder](https://github.com/vvkisil/MoebInv-notebooks/blob/master/EPAL-v1/)\n"
   ]
  }
 ],
 "metadata": {
  "kernelspec": {
   "argv": [
    "/usr/bin/python3",
    "-m",
    "ipykernel_launcher",
    "-f",
    "{connection_file}"
   ],
   "display_name": "Python 3 (ipykernel)",
   "env": null,
   "interrupt_mode": "signal",
   "language": "python",
   "metadata": {
    "debugger": true
   },
   "name": "python3"
  },
  "language_info": {
   "codemirror_mode": {
    "name": "ipython",
    "version": 3
   },
   "file_extension": ".py",
   "mimetype": "text/x-python",
   "name": "python",
   "nbconvert_exporter": "python",
   "pygments_lexer": "ipython3",
   "version": "3.6.4"
  },
  "name": "ex.I.8.2.ipynb"
 },
 "nbformat": 4,
 "nbformat_minor": 2
}
