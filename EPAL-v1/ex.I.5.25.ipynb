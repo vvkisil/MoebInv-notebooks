{
 "cells": [
  {
   "cell_type": "markdown",
   "id": "6677ad9d-7e12-4335-9166-2d56c15e2c11",
   "metadata": {
    "collapsed": false
   },
   "source": [
    "<table style=\"width:100%\">\n",
    "    <tr>\n",
    "        <td>\n",
    "            <a href=\"http://v-v-kisil.scienceontheweb.net/MoebInv-notebooks/EPAL-v1/ex.I.5.25.html\">\n",
    "  <img src=\"../svg/view-html.svg\" alt=\"Open In Colab\"/>\n",
    "            </a>\n",
    "        </td>\n",
    "        <td>\n",
    "<a href=\"https://github.com/vvkisil/MoebInv-notebooks/blob/master/EPAL-v1/ex.I.5.25.ipynb\">\n",
    "  <img src=\"../svg/open-github.svg\" alt=\"Open In Colab\"/>\n",
    "            </a>\n",
    "        </td>\n",
    "        <td>\n",
    "            <a href=\"https://colab.research.google.com/github/vvkisil/MoebInv-notebooks/blob/master/EPAL-v1/ex.I.5.25.ipynb\">\n",
    "  <img src=\"../svg/exec-colab.svg\" alt=\"Open In Colab\"/>\n",
    "            </a>\n",
    "        </td>\n",
    "        <td>\n",
    "            <a href=\"https://codeocean.com/capsule/7952650/tree\">\n",
    "  <img src=\"../svg/code-ocean.svg\" alt=\"Code Ocean\"/>\n",
    "            </a>\n",
    "        </td>\n",
    "    </tr>\n",
    " </table>\n",
    "\n",
    "<a  align=\"center\" href=\"https://colab.research.google.com/github/vvkisil/MoebInv-notebooks/blob/master/Introduction/Software_installation_GUI_integration.ipynb\">Google CoLab software installation</a>\n"
   ]
  },
  {
   "cell_type": "markdown",
   "id": "6cdc6118-315a-457f-bb6a-6debc17ec361",
   "metadata": {
    "collapsed": false,
    "ein.tags": "worksheet-0",
    "slideshow": {
     "slide_type": "-"
    }
   },
   "source": [
    "# Types of the Cauchy-Schwartz inequality is inherited by the linear span in Krein spaces\n",
    "\n",
    "**Exercise I.5.25**\n",
    "  *Let two vectors $x$ and $y$ in an indefinite product space\n",
    "  satisfy either of the inequalities:\n",
    "  \\begin{equation}\n",
    "  \\newcommand{\\scalar}[2]{\\langle #1, #2 \\rangle}\n",
    "      \\scalar{x}{y}\\scalar{y}{x}  < \\scalar{x}{x}\n",
    "      \\scalar{y}{y}\\qquad\\text{or}\\qquad\n",
    "        \\scalar{x}{y}\\scalar{y}{x} > \\scalar{x}{x} \\scalar{y}{y}.\n",
    "  \\end{equation}\n",
    "  Then, any two non-collinear vectors $z$ and $w$ from the real linear span of\n",
    "  $x$ and $y$ satisfy the corresponding inequality:\n",
    "  \\begin{equation}\n",
    "      \\scalar{z}{w}\\scalar{w}{z}  < \\scalar{z}{z}\n",
    "      \\scalar{w}{w}\\qquad\\text{or}\\qquad\n",
    "        \\scalar{z}{w}\\scalar{w}{z}  > \\scalar{z}{z}\n",
    "      \\scalar{w}{w}.\n",
    "  \\end{equation}\n",
    "  The equality $\\scalar{x}{y}\\scalar{y}{x} = \\scalar{x}{x}\n",
    "  \\scalar{y}{y}$ always implies $\\scalar{z}{w}\\scalar{w}{z} =\n",
    "  \\scalar{z}{z} \\scalar{w}{w}$.*"
   ]
  },
  {
   "cell_type": "markdown",
   "id": "a57df742-6732-455c-a86c-5af234ae5d12",
   "metadata": {
    "collapsed": false,
    "ein.tags": "worksheet-0",
    "slideshow": {
     "slide_type": "-"
    }
   },
   "source": [
    "**Solution.** Only GiNaC is required for this exercise."
   ]
  },
  {
   "cell_type": "code",
   "execution_count": null,
   "id": "35d210b7-243a-45ea-bd3f-411910ef587e",
   "metadata": {
    "autoscroll": false,
    "collapsed": false,
    "ein.hycell": false,
    "ein.tags": "worksheet-0",
    "slideshow": {
     "slide_type": "-"
    }
   },
   "outputs": [],
   "source": [
    "from cycle import *"
   ]
  },
  {
   "cell_type": "markdown",
   "id": "30992822-de19-43af-9a47-65ce59c478fa",
   "metadata": {
    "collapsed": false,
    "ein.tags": "worksheet-0",
    "slideshow": {
     "slide_type": "-"
    }
   },
   "source": [
    " We define basic variables and elements of the linear spans."
   ]
  },
  {
   "cell_type": "code",
   "execution_count": null,
   "id": "d7c799aa-a5a3-4b00-84f1-975a28783f41",
   "metadata": {
    "autoscroll": false,
    "collapsed": false,
    "ein.hycell": false,
    "ein.tags": "worksheet-0",
    "slideshow": {
     "slide_type": "-"
    }
   },
   "outputs": [],
   "source": [
    "A=realsymbol(\"A\")\n",
    "B=realsymbol(\"B\")\n",
    "t=realsymbol(\"t\")\n",
    "s=realsymbol(\"s\")\n",
    "E1=t*A+(1-t)*B # First linear span \n",
    "E2=s*A+(1-s)*B # Second linear span"
   ]
  },
  {
   "cell_type": "markdown",
   "id": "e5af5f50-f79d-46b7-bb5f-dce6515ee242",
   "metadata": {
    "collapsed": false,
    "ein.tags": "worksheet-0",
    "slideshow": {
     "slide_type": "-"
    }
   },
   "source": [
    "The following symbols will be used in the substitutions:"
   ]
  },
  {
   "cell_type": "markdown",
   "id": "31a6d071-3b79-4a13-b91f-68f92a5beeef",
   "metadata": {
    "collapsed": false,
    "ein.tags": "worksheet-0",
    "slideshow": {
     "slide_type": "-"
    }
   },
   "source": [
    "We make E1*E2 with the replacement for indefinite products"
   ]
  },
  {
   "cell_type": "code",
   "execution_count": null,
   "id": "700f7530-852f-4215-a4b7-b413f1187bf7",
   "metadata": {
    "autoscroll": false,
    "collapsed": false,
    "ein.hycell": false,
    "ein.tags": "worksheet-0",
    "slideshow": {
     "slide_type": "-"
    }
   },
   "outputs": [],
   "source": [
    "A2=realsymbol(\"<A,A>\", \"\\\\langle A,A\\\\rangle\") # represents indefinite product <A,A>\n",
    "B2=realsymbol(\"<B,B>\", \"\\\\langle B,B\\\\rangle\") # represents indefinite product <B,B>\n",
    "AB=realsymbol(\"<A,B>\", \"\\\\langle A,B\\\\rangle\") # represents indefinite product <A,B>\n",
    "A2xB2=realsymbol(\"<A,A>*<B,B>\", \"\\\\langle A,A\\\\rangle \\\\langle B,B\\\\rangle\") # represents product <A,A><B,B>\n",
    "t=realsymbol(\"t\")\n",
    "s=realsymbol(\"s\")\n"
   ]
  },
  {
   "cell_type": "markdown",
   "id": "d721f903-c606-40dc-9988-8e4310bba299",
   "metadata": {
    "collapsed": false,
    "ein.tags": "worksheet-0",
    "slideshow": {
     "slide_type": "-"
    }
   },
   "source": [
    "Second copy of E1*E1 with the replacement for indefinite products"
   ]
  },
  {
   "cell_type": "code",
   "execution_count": null,
   "id": "8c66c011-9b75-4303-9770-03e51d4783e5",
   "metadata": {
    "autoscroll": false,
    "collapsed": false,
    "ein.hycell": false,
    "ein.tags": "worksheet-0",
    "slideshow": {
     "slide_type": "-"
    }
   },
   "outputs": [],
   "source": [
    "Pr1=(E1*E2).expand().subs({A*A : A2, B*B : B2}).subs({A*B : AB},subs_options.algebraic)\n",
    "Latex(f\"${Pr1}$\")"
   ]
  },
  {
   "cell_type": "code",
   "execution_count": null,
   "id": "6e95d6da-ae2a-434c-8f25-f253d9db997f",
   "metadata": {
    "autoscroll": false,
    "collapsed": false,
    "ein.hycell": false,
    "ein.tags": "worksheet-0",
    "slideshow": {
     "slide_type": "-"
    }
   },
   "outputs": [],
   "source": [
    "Pr2=(E1*E1).expand().subs({A*A : A2, B*B : B2}).subs({A*B : AB},subs_options.algebraic)\n",
    "Latex(f\"${Pr2}$\")"
   ]
  },
  {
   "cell_type": "markdown",
   "id": "126afbeb-0882-47bc-a60a-29be98e0abea",
   "metadata": {
    "collapsed": false,
    "ein.tags": "worksheet-0",
    "slideshow": {
     "slide_type": "-"
    }
   },
   "source": [
    "The third copy of E2*E2 with the replacement for indefinite products"
   ]
  },
  {
   "cell_type": "code",
   "execution_count": null,
   "id": "245b26ce-720e-404f-9805-eaa5377c7f4a",
   "metadata": {
    "autoscroll": false,
    "collapsed": false,
    "ein.hycell": false,
    "ein.tags": "worksheet-0",
    "slideshow": {
     "slide_type": "-"
    }
   },
   "outputs": [],
   "source": [
    "Pr3=(E2*E2).expand().subs({A*A : A2, B*B : B2}).subs({A*B : AB},subs_options.algebraic)\n",
    "Latex(f\"${Pr3}$\")"
   ]
  },
  {
   "cell_type": "markdown",
   "id": "b15cdb70-b9e8-4581-bf8f-606a5ea13bf4",
   "metadata": {
    "collapsed": false,
    "ein.tags": "worksheet-0",
    "slideshow": {
     "slide_type": "-"
    }
   },
   "source": [
    "We output the result of calculations:"
   ]
  },
  {
   "cell_type": "code",
   "execution_count": null,
   "id": "5527af81-964d-407f-ba50-364beb410bf9",
   "metadata": {
    "collapsed": false
   },
   "outputs": [],
   "source": [
    "Latex(f\"for vectors $E_1={E1}$ and $E_2={E2}$ we have\")"
   ]
  },
  {
   "cell_type": "code",
   "execution_count": null,
   "id": "b296e5b2-eddd-4ce5-ae10-f3b3758d523e",
   "metadata": {
    "autoscroll": false,
    "collapsed": false,
    "ein.hycell": false,
    "ein.tags": "worksheet-0",
    "slideshow": {
     "slide_type": "-"
    }
   },
   "outputs": [],
   "source": [
    "Latex(r\"$\\langle E_1,E_2\\rangle \\langle E_2,E_1\\rangle - \\langle E_1,E_1\\rangle \\langle E_2,E_2\\rangle =$\"\n",
    "f\"${((Pr1*Pr1-Pr2*Pr3).expand().normal().subs({A2*B2 : A2xB2}, subs_options.algebraic)).collect(AB).collect(A2xB2)}$\")"
   ]
  },
  {
   "cell_type": "markdown",
   "id": "3d39d448-c034-4afc-b10d-d10ccd3862a3",
   "metadata": {
    "collapsed": false,
    "ein.tags": "worksheet-0",
    "slideshow": {
     "slide_type": "-"
    }
   },
   "source": [
    "Thus, the sign of $ \\newcommand{\\scalar}[2]{\\langle #1, #2 \\rangle}\n",
    "\\scalar{E_1}{E_2}\\scalar{E_2}{E_1}  - \\scalar{E_1}{E_1} \\scalar{E_2}{E_2} $ \n",
    " is exactly the same as  $\\scalar{A}{B}\\scalar{B}{A}  - \\scalar{A}{A} \\scalar{B}{B}$."
   ]
  },
  {
   "cell_type": "markdown",
   "id": "9b170eda-a724-47a7-a951-1e202f41ec57",
   "metadata": {
    "collapsed": false
   },
   "source": [
    "\n",
    "This notebook is a part of the *MoebInv notebooks* project [ [2] ](#[2]).\n",
    "\n",
    "### References\n",
    "<a id=\"references\"></a>\n",
    "<a id=\"[1]\"></a>\n",
    "1. Vladimir V. Kisil. *Geometry of Möbius Transformations: Elliptic, Parabolic and Hyperbolic Actions of $SL_2(\\mathbb{R})$*. [Imperial College Press](https://www.worldscientific.com/worldscibooks/10.1142/p835), London, 2012. Includes a live DVD.\n",
    "\n",
    "   <a id=\"[2]\"></a>\n",
    "2.  Vladimir V. Kisil, [*MoebInv notebooks*](https://github.com/vvkisil/MoebInv-notebooks), 2019.\n",
    "\n",
    "[Back to Folder](https://github.com/vvkisil/MoebInv-notebooks/blob/master/EPAL-v1/)\n"
   ]
  }
 ],
 "metadata": {
  "kernelspec": {
   "argv": [
    "/usr/bin/python3",
    "-m",
    "ipykernel_launcher",
    "-f",
    "{connection_file}"
   ],
   "display_name": "Python 3 (ipykernel)",
   "env": null,
   "interrupt_mode": "signal",
   "language": "python",
   "metadata": {
    "debugger": true
   },
   "name": "python3"
  },
  "language_info": {
   "codemirror_mode": {
    "name": "ipython",
    "version": 3
   },
   "file_extension": ".py",
   "mimetype": "text/x-python",
   "name": "python",
   "nbconvert_exporter": "python",
   "pygments_lexer": "ipython3",
   "version": "3.7.4+"
  },
  "name": "ex.I.5.25.ipynb"
 },
 "nbformat": 4,
 "nbformat_minor": 5
}
