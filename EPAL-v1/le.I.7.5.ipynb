{
 "cells": [
  {
   "cell_type": "markdown",
   "id": "9bf2d454-8538-402b-90f9-f43c75482b28",
   "metadata": {
    "collapsed": false
   },
   "source": [
    "<table style=\"width:100%\">\n",
    "    <tr>\n",
    "        <td>\n",
    "            <a href=\"http://v-v-kisil.rf.gd/MoebInv-notebooks/EPAL-v1/le.I.7.5.html\">\n",
    "  <img src=\"../svg/view-html.svg\" alt=\"Open In Colab\"/>\n",
    "            </a>\n",
    "        </td>\n",
    "        <td>\n",
    "<a href=\"https://github.com/vvkisil/MoebInv-notebooks/blob/master/EPAL-v1/le.I.7.5.ipynb\">\n",
    "  <img src=\"../svg/open-github.svg\" alt=\"Open In Colab\"/>\n",
    "            </a>\n",
    "        </td>\n",
    "        <td>\n",
    "            <a href=\"https://colab.research.google.com/github/vvkisil/MoebInv-notebooks/blob/master/EPAL-v1/le.I.7.5.ipynb\">\n",
    "  <img src=\"../svg/exec-colab.svg\" alt=\"Open In Colab\"/>\n",
    "            </a>\n",
    "        </td>\n",
    "        <td>\n",
    "            <a href=\"https://codeocean.com/capsule/7952650/tree\">\n",
    "  <img src=\"../svg/code-ocean.svg\" alt=\"Code Ocean\"/>\n",
    "            </a>\n",
    "        </td>\n",
    "    </tr>\n",
    " </table>\n",
    "\n",
    "<a  align=\"center\" href=\"https://colab.research.google.com/github/vvkisil/MoebInv-notebooks/blob/master/Introduction/Software_installation_GUI_integration.ipynb\">Google CoLab software installation</a>\n"
   ]
  },
  {
   "cell_type": "markdown",
   "id": "01e9ac06-3955-45a2-9376-53766e7cb4d7",
   "metadata": {
    "collapsed": false,
    "ein.tags": "worksheet-0",
    "slideshow": {
     "slide_type": "-"
    }
   },
   "source": [
    "# Lemma: eplicit formula for the distance between two points\n",
    "\n",
    "**Lemma I.7.5** [ [1] ](#[1]) \n",
    "$\n",
    "\\newcommand{\\scalar}[3][]{\\left\\langle #2,#3 \n",
    "        \\right\\rangle_{#1}}\n",
    "\\newcommand{\\Space}[3][]{\\mathbb{#2}^{#3}_{#1}}\n",
    "\\newcommand{\\Space}[3][]{\\mathbb{#2}^{#3}_{#1}}\n",
    "  \\newcommand{\\cycle}[3][]{{#1 C^{#2}_{#3}}}\n",
    "  \\newcommand{\\realline}[3][]{#1 R^{#2}_{#3}}\n",
    "  \\newcommand{\\bs}{\\breve{\\sigma}}\n",
    "  \\newcommand{\\zcycle}[3][]{#1 Z^{#2}_{#3}}\n",
    "  \\newcommand{\\SL}[1][2]{\\mathrm{SL}_{#1}(\\Space{R}{})}\n",
    "  \\newcommand{\\rs}{\\sigma_r}\n",
    "  \\newcommand{\\lvec}[1]{\\overrightarrow{#1}}\n",
    "\\newcommand{\\rmi}{\\mathrm{i}}\n",
    "\\newcommand{\\alli}{\\iota}\n",
    "\\newcommand{\\rme}{\\mathrm{e}}\n",
    "\\newcommand{\\rmd}{\\mathrm{d}}\n",
    "\\newcommand{\\rmh}{\\mathrm{j}}\n",
    "\\newcommand{\\rmp}{\\varepsilon}\n",
    "\\newcommand{\\modulus}[2][]{\\left| #2 \\right|_{#1}}\n",
    "\\newcommand{\\sperp}{⋋}\n",
    "$\n",
    "  The {distance} between two points $P=u+\\alli v$ and\n",
    "  $P'=u'+\\alli v'$ in the elliptic or hyperbolic spaces is\n",
    "  \\begin{equation}\n",
    "    d_{\\sigma,\\bs}^2(P, P') = \\frac{ \\bs ((u-u')^2-\\sigma(v- v')^2) +4(1-\\sigma\\bs) v v'}\n",
    "    {(u- u')^2 \\bs-(v-v')^2} ((u-u')^2 -\\sigma(v- v')^2),\n",
    "  \\end{equation}\n",
    "  and, in parabolic space, it is (see [Yaglom79, (5), p.~38])\n",
    "    \\begin{equation}\n",
    "      d_{p,\\bs}^2(y, y') = (u-u')^2.\n",
    "    \\end{equation}"
   ]
  },
  {
   "cell_type": "markdown",
   "id": "9fff8746-a282-44bc-a7fe-34b78e2be181",
   "metadata": {
    "collapsed": false,
    "ein.tags": "worksheet-0",
    "slideshow": {
     "slide_type": "-"
    }
   },
   "source": [
    "**Solution.** Define a cycle template"
   ]
  },
  {
   "cell_type": "code",
   "execution_count": null,
   "id": "d54b18d0-033d-4b43-98bf-fdcbf3b1c157",
   "metadata": {
    "autoscroll": false,
    "collapsed": false,
    "ein.hycell": false,
    "ein.tags": "worksheet-0",
    "slideshow": {
     "slide_type": "-"
    }
   },
   "outputs": [],
   "source": [
    "from init_cycle import *\n",
    "C10 = cycle2D(numeric(1), [l, n], m, e)"
   ]
  },
  {
   "cell_type": "markdown",
   "id": "a8dd8d97-8e34-4a13-85b6-3fc660608657",
   "metadata": {
    "collapsed": false,
    "ein.tags": "worksheet-0",
    "slideshow": {
     "slide_type": "-"
    }
   },
   "source": [
    "Specialise by the condition passing two points"
   ]
  },
  {
   "cell_type": "code",
   "execution_count": null,
   "id": "dbbd2c00-13f7-4b93-8914-b09691bd14ad",
   "metadata": {
    "autoscroll": false,
    "collapsed": false,
    "ein.hycell": false,
    "ein.tags": "worksheet-0",
    "slideshow": {
     "slide_type": "-"
    }
   },
   "outputs": [],
   "source": [
    "C10 = C10.subject_to([C10.passing(P), C10.passing(P1)], [m, n, l])\n",
    "Latex(f\"${C10.string()}$\")"
   ]
  },
  {
   "cell_type": "markdown",
   "id": "77b00110-d287-45fb-bf15-75ce4d8fd027",
   "metadata": {
    "collapsed": false,
    "ein.tags": "worksheet-0",
    "slideshow": {
     "slide_type": "-"
    }
   },
   "source": [
    "Define square of the diameter"
   ]
  },
  {
   "cell_type": "code",
   "execution_count": null,
   "id": "9461b018-6cbb-49ba-9d71-3693cd50ac31",
   "metadata": {
    "autoscroll": false,
    "collapsed": false,
    "ein.hycell": false,
    "ein.tags": "worksheet-0",
    "slideshow": {
     "slide_type": "-"
    }
   },
   "outputs": [],
   "source": [
    "D = 4*C10.radius_sq(es)"
   ]
  },
  {
   "cell_type": "markdown",
   "id": "9d366e1c-d404-4764-b50f-be67697f2726",
   "metadata": {
    "collapsed": false,
    "ein.tags": "worksheet-0",
    "slideshow": {
     "slide_type": "-"
    }
   },
   "source": [
    "Find l providing the extremal value of the diameter"
   ]
  },
  {
   "cell_type": "code",
   "execution_count": null,
   "id": "ee28f26b-b628-45af-a2e7-cff40cf5f7c2",
   "metadata": {
    "autoscroll": false,
    "collapsed": false,
    "ein.hycell": false,
    "ein.tags": "worksheet-0",
    "slideshow": {
     "slide_type": "-"
    }
   },
   "outputs": [],
   "source": [
    "S=lsolve([D.diff(l) == 0], [l])\n",
    "Latex(\"Extremum is achived for $%s$\" % S[l])"
   ]
  },
  {
   "cell_type": "markdown",
   "id": "2f0979d7-390d-4e2e-99a2-37ecc837049d",
   "metadata": {
    "collapsed": false,
    "ein.tags": "worksheet-0",
    "slideshow": {
     "slide_type": "-"
    }
   },
   "source": [
    "Find the extremal value"
   ]
  },
  {
   "cell_type": "code",
   "execution_count": null,
   "id": "2b807764-2355-4f6b-8b6b-560cdb2286b3",
   "metadata": {
    "autoscroll": false,
    "collapsed": false,
    "ein.hycell": false,
    "ein.tags": "worksheet-0",
    "slideshow": {
     "slide_type": "-"
    }
   },
   "outputs": [],
   "source": [
    "Len_c = D.subs(S).normal()"
   ]
  },
  {
   "cell_type": "markdown",
   "id": "6faa3480-0c39-447e-b881-bddc7d971bf6",
   "metadata": {
    "collapsed": false,
    "ein.tags": "worksheet-0",
    "slideshow": {
     "slide_type": "-"
    }
   },
   "source": [
    "Write a regularised expresion for it"
   ]
  },
  {
   "cell_type": "code",
   "execution_count": null,
   "id": "123be1c0-f7d3-4641-a2d4-a6b8da68ecfb",
   "metadata": {
    "autoscroll": false,
    "collapsed": false,
    "ein.hycell": false,
    "ein.tags": "worksheet-0",
    "slideshow": {
     "slide_type": "-"
    }
   },
   "outputs": [],
   "source": [
    "dist = (sign1*(pow(u-u1,2)-sign*pow(v-v1,2))+4*(1-sign*sign1)*v*v1)*(pow(u-u1,2)\\\n",
    "-sign*pow(v-v1,2))/(pow(u-u1,2)*sign1-pow(v-v1,2))\n",
    "Latex(\"Distance between $(u,v)$ and $(u_1,v_1)$ is $%s$: $%s$\" %\\\n",
    "(dist, (Len_c-dist).normal().is_zero()))"
   ]
  },
  {
   "cell_type": "markdown",
   "id": "5f770baf-9c49-452f-9086-1714d5ce25d2",
   "metadata": {
    "collapsed": false,
    "ein.tags": "worksheet-0",
    "slideshow": {
     "slide_type": "-"
    }
   },
   "source": [
    "Parabolic case, the extremum is at l=(u_u1)/2 "
   ]
  },
  {
   "cell_type": "code",
   "execution_count": null,
   "id": "323637e8-e4a1-4123-9731-e8a43f26e096",
   "metadata": {
    "autoscroll": false,
    "collapsed": false,
    "ein.hycell": false,
    "ein.tags": "worksheet-0",
    "slideshow": {
     "slide_type": "-"
    }
   },
   "outputs": [],
   "source": [
    "Len_c = D.subs({sign : 0, l : (u+u1)*half}).normal()\n",
    "Latex(\"Value at the middle point (parabolic point space): $%s$\" % Len_c)"
   ]
  },
  {
   "cell_type": "markdown",
   "id": "3c3af559-c80d-4e8a-86da-833c7ffc3e94",
   "metadata": {
    "collapsed": false,
    "ein.tags": "worksheet-0",
    "slideshow": {
     "slide_type": "-"
    }
   },
   "source": [
    "The similar check for the case v=v', the the value of l is now fixed to $(u+u_1)/2$.  Specialise by the condition passing two points"
   ]
  },
  {
   "cell_type": "code",
   "execution_count": null,
   "id": "a60418d2-3bb1-4395-8450-979ac923bf7d",
   "metadata": {
    "autoscroll": false,
    "collapsed": false,
    "ein.hycell": false,
    "ein.tags": "worksheet-0",
    "slideshow": {
     "slide_type": "-"
    }
   },
   "outputs": [],
   "source": [
    "C10 = cycle2D(numeric(1), [l, n], m, e)\n",
    "C10 = C10.subject_to([C10.passing(P), C10.passing([u1,v])])"
   ]
  },
  {
   "cell_type": "markdown",
   "id": "483f8a4f-5552-452d-a59f-2a895f7d47b0",
   "metadata": {
    "collapsed": false,
    "ein.tags": "worksheet-0",
    "slideshow": {
     "slide_type": "-"
    }
   },
   "source": [
    "Define square of the diameter"
   ]
  },
  {
   "cell_type": "code",
   "execution_count": null,
   "id": "a9cdda8e-9a94-4d3c-982e-d386202648a8",
   "metadata": {
    "autoscroll": false,
    "collapsed": false,
    "ein.hycell": false,
    "ein.tags": "worksheet-0",
    "slideshow": {
     "slide_type": "-"
    }
   },
   "outputs": [],
   "source": [
    "D = 4*C10.radius_sq(es)"
   ]
  },
  {
   "cell_type": "markdown",
   "id": "834bf495-c315-4013-9578-66ab8a43f97d",
   "metadata": {
    "collapsed": false,
    "ein.tags": "worksheet-0",
    "slideshow": {
     "slide_type": "-"
    }
   },
   "source": [
    "Find l providing the extremal value of the diameter"
   ]
  },
  {
   "cell_type": "code",
   "execution_count": null,
   "id": "79d3ee89-7692-4c24-8860-cf999e2193d7",
   "metadata": {
    "autoscroll": false,
    "collapsed": false,
    "ein.hycell": false,
    "ein.tags": "worksheet-0",
    "slideshow": {
     "slide_type": "-"
    }
   },
   "outputs": [],
   "source": [
    "S=lsolve([D.diff(n) == 0], [n])\n",
    "Latex(\"Extremum is achived for $%s$\" % S[n])"
   ]
  },
  {
   "cell_type": "markdown",
   "id": "46c6dd0d-5b3d-46ad-97f5-02d47a1a294f",
   "metadata": {
    "collapsed": false,
    "ein.tags": "worksheet-0",
    "slideshow": {
     "slide_type": "-"
    }
   },
   "source": [
    "Find the extremal value"
   ]
  },
  {
   "cell_type": "code",
   "execution_count": null,
   "id": "0cfeb901-d9db-44c3-832e-64f6e50b7b4e",
   "metadata": {
    "autoscroll": false,
    "collapsed": false,
    "ein.hycell": false,
    "ein.tags": "worksheet-0",
    "slideshow": {
     "slide_type": "-"
    }
   },
   "outputs": [],
   "source": [
    "Len_c = D.subs(S).normal()"
   ]
  },
  {
   "cell_type": "markdown",
   "id": "0b2e333a-2a85-4130-ae61-3e3676a93a2a",
   "metadata": {
    "collapsed": false,
    "ein.tags": "worksheet-0",
    "slideshow": {
     "slide_type": "-"
    }
   },
   "source": [
    "Write a regularised expresion for it"
   ]
  },
  {
   "cell_type": "code",
   "execution_count": null,
   "id": "ec2a87c9-4b4d-4c0d-ae19-1a68eb6ec190",
   "metadata": {
    "autoscroll": false,
    "collapsed": false,
    "ein.hycell": false,
    "ein.tags": "worksheet-0",
    "slideshow": {
     "slide_type": "-"
    }
   },
   "outputs": [],
   "source": [
    "dist = (sign1*(pow(u-u1,2)-sign*pow(v-v1,2))+4*(1-sign*sign1)*v*v1)*(pow(u-u1,2)\\\n",
    "-sign*pow(v-v1,2))/(pow(u-u1,2)*sign1-pow(v-v1,2))\n",
    "Latex(\"Distance between $(u,v)$ and $(u1,v)$ is $%s$: %s\" %\\\n",
    "(dist.subs({v1: v}), (Len_c-dist.subs({v1 : v})).normal().is_zero()))"
   ]
  },
  {
   "cell_type": "markdown",
   "id": "47507021-b639-4d43-b78b-9b262947614c",
   "metadata": {
    "collapsed": false
   },
   "source": [
    "\n",
    "This notebook is a part of the *MoebInv notebooks* project [ [2] ](#[2]).\n",
    "\n",
    "### References\n",
    "<a id=\"references\"></a>\n",
    "<a id=\"[1]\"></a>\n",
    "1. Vladimir V. Kisil. *Geometry of Möbius Transformations: Elliptic, Parabolic and Hyperbolic Actions of $SL_2(\\mathbb{R})$*. [Imperial College Press](https://www.worldscientific.com/worldscibooks/10.1142/p835), London, 2012. Includes a live DVD.\n",
    "\n",
    "   <a id=\"[2]\"></a>\n",
    "2.  Vladimir V. Kisil, [*MoebInv notebooks*](https://github.com/vvkisil/MoebInv-notebooks), 2019.\n",
    "\n",
    "[Back to Folder](https://github.com/vvkisil/MoebInv-notebooks/blob/master/EPAL-v1/)\n"
   ]
  }
 ],
 "metadata": {
  "kernelspec": {
   "argv": [
    "/usr/bin/python3",
    "-m",
    "ipykernel_launcher",
    "-f",
    "{connection_file}"
   ],
   "display_name": "Python 3 (ipykernel)",
   "env": null,
   "interrupt_mode": "signal",
   "language": "python",
   "metadata": {
    "debugger": true
   },
   "name": "python3"
  },
  "language_info": {
   "codemirror_mode": {
    "name": "ipython",
    "version": 3
   },
   "file_extension": ".py",
   "mimetype": "text/x-python",
   "name": "python",
   "nbconvert_exporter": "python",
   "pygments_lexer": "ipython3",
   "version": "3.6.4"
  },
  "name": "le.I.7.5.ipynb"
 },
 "nbformat": 4,
 "nbformat_minor": 5
}
