{
 "cells": [
  {
   "cell_type": "markdown",
   "id": "b73687cc-09ca-4c3c-9cd3-1e48a8235b77",
   "metadata": {
    "collapsed": false
   },
   "source": [
    "<table style=\"width:100%\">\n",
    "    <tr>\n",
    "        <td>\n",
    "            <a href=\"http://v-v-kisil.rf.gd/MoebInv-notebooks/EPAL-v1/ex.I.5.28.i.html\">\n",
    "  <img src=\"../svg/view-html.svg\" alt=\"Open In Colab\"/>\n",
    "            </a>\n",
    "        </td>\n",
    "        <td>\n",
    "<a href=\"https://github.com/vvkisil/MoebInv-notebooks/blob/master/EPAL-v1/ex.I.5.28.i.ipynb\">\n",
    "  <img src=\"../svg/open-github.svg\" alt=\"Open In Colab\"/>\n",
    "            </a>\n",
    "        </td>\n",
    "        <td>\n",
    "            <a href=\"https://colab.research.google.com/github/vvkisil/MoebInv-notebooks/blob/master/EPAL-v1/ex.I.5.28.i.ipynb\">\n",
    "  <img src=\"../svg/exec-colab.svg\" alt=\"Open In Colab\"/>\n",
    "            </a>\n",
    "        </td>\n",
    "        <td>\n",
    "            <a href=\"https://codeocean.com/capsule/7952650/tree\">\n",
    "  <img src=\"../svg/code-ocean.svg\" alt=\"Code Ocean\"/>\n",
    "            </a>\n",
    "        </td>\n",
    "    </tr>\n",
    " </table>\n",
    "\n",
    "<a  align=\"center\" href=\"https://colab.research.google.com/github/vvkisil/MoebInv-notebooks/blob/master/Introduction/Software_installation_GUI_integration.ipynb\">Google CoLab software installation</a>\n"
   ]
  },
  {
   "cell_type": "markdown",
   "id": "8d42bc30-53fc-4263-a6b9-a260596b37c5",
   "metadata": {
    "collapsed": false,
    "ein.tags": "worksheet-0",
    "slideshow": {
     "slide_type": "-"
    }
   },
   "source": [
    "# $\\sigma$-drawing of certain $\\breve{\\sigma}$-zero-radius pencils\n",
    "\n",
    "**Exercise I.5.28.i** [ [1] ](#[1]) \n",
    "$\n",
    "\\newcommand{\\scalar}[3][]{\\left\\langle #2,#3 \n",
    "        \\right\\rangle_{#1}}\n",
    "\\newcommand{\\Space}[3][]{\\mathbb{#2}^{#3}_{#1}}\n",
    "\\newcommand{\\Space}[3][]{\\mathbb{#2}^{#3}_{#1}}\n",
    "  \\newcommand{\\cycle}[3][]{{#1 C^{#2}_{#3}}}\n",
    "  \\newcommand{\\realline}[3][]{#1 R^{#2}_{#3}}\n",
    "  \\newcommand{\\bs}{\\breve{\\sigma}}\n",
    "  \\newcommand{\\zcycle}[3][]{#1 Z^{#2}_{#3}}\n",
    "  \\newcommand{\\SL}[1][2]{\\mathrm{SL}_{#1}(\\Space{R}{})}\n",
    "  \\newcommand{\\rs}{\\sigma_r}\n",
    "  \\newcommand{\\lvec}[1]{\\overrightarrow{#1}}\n",
    "\\newcommand{\\rmi}{\\mathrm{i}}\n",
    "\\newcommand{\\alli}{\\iota}\n",
    "\\newcommand{\\rme}{\\mathrm{e}}\n",
    "\\newcommand{\\rmd}{\\mathrm{d}}\n",
    "\\newcommand{\\rmh}{\\mathrm{j}}\n",
    "\\newcommand{\\rmp}{\\varepsilon}\n",
    "\\newcommand{\\modulus}[2][]{\\left| #2 \\right|_{#1}}\n",
    "\\newcommand{\\sperp}{⋋}\n",
    "$\n",
    "  A pencil of cycles either contains at most two $\\bs$-zero-radius cycles\n",
    "  or consists entirely of $\\bs$-zero-radius cycles. Moreover, a pencil spanned by two different cycles cannot consist only of\n",
    "    e-zero-radius cycles. Describe all pencils consisting only of p-\n",
    "    and h-zero-radius cycles.\n",
    "    \n",
    "  **Hint.**\n",
    "      Formula (I.5.9) will be useful for\n",
    "      describing pencils consisting of (and thus spanned by)\n",
    "      $\\bs$-zero-radius cycles. Orbits of subgroup $N'$  are an example\n",
    "      of pencils of p-zero-radius cycles drawn as\n",
    "      parabolas. You can \n",
    "      experiment with $\\sigma$-drawing of certain\n",
    "      $\\bs$-zero-radius pencils."
   ]
  },
  {
   "cell_type": "markdown",
   "id": "c6dc5611-fc9b-41b3-9cfa-c934ecbc1cad",
   "metadata": {
    "collapsed": false,
    "ein.tags": "worksheet-0",
    "slideshow": {
     "slide_type": "-"
    }
   },
   "source": [
    "**Solution.** We will illustrate the statement with drawing from the next routine."
   ]
  },
  {
   "cell_type": "code",
   "execution_count": null,
   "id": "479fb1ec-7aad-495b-80ef-39487baf0b98",
   "metadata": {
    "autoscroll": false,
    "collapsed": false,
    "ein.hycell": false,
    "ein.tags": "worksheet-0",
    "slideshow": {
     "slide_type": "-"
    }
   },
   "outputs": [],
   "source": [
    "from init_cycle import *\n",
    "A=asy()"
   ]
  },
  {
   "cell_type": "markdown",
   "id": "586cd485-bb6d-41bc-a42b-06d0b6d0d216",
   "metadata": {
    "collapsed": false,
    "ein.tags": "worksheet-0",
    "slideshow": {
     "slide_type": "-"
    }
   },
   "source": [
    "The procedure draws some representatives from the linear span <br>\n",
    "of two cycles it is also used in ex-linear-span.py"
   ]
  },
  {
   "cell_type": "code",
   "execution_count": null,
   "id": "557de890-fa98-4684-927c-b98468c927d9",
   "metadata": {
    "autoscroll": false,
    "collapsed": false,
    "ein.hycell": false,
    "ein.tags": "worksheet-0",
    "slideshow": {
     "slide_type": "-"
    }
   },
   "outputs": [],
   "source": [
    "def makepencil(C2, C3, xmin, xmax, ymin, ymax, colour1, colour2, colour3,name):\n",
    "    N=5\n",
    "    A.erase()\n",
    "    A.size(100)\n",
    "    A.send(\"real u=5mm;\")\n",
    "    A.send(C2.asy_string(xmin, xmax, ymin, ymax, colour1, \"1.5pt\"))\n",
    "    A.send(C3.asy_string(xmin, xmax, ymin, ymax, colour2, \"1.5pt\"))\n",
    "    for i in range(N):\n",
    "        C4=cycle2D(C2.exmul(i+1)+C3.exmul(N-i))\n",
    "        A.send(C4.asy_string(xmin, xmax, ymin, ymax,\\\n",
    "        [colour1[0]*(i+1.0)/N+colour2[0]*(1.0-1.*i/N),\\\n",
    "        colour1[1]*(i+1.0)/N+colour2[1]*(1.0-1.*i/N),\\\n",
    "        colour1[2]*(i+1.0)/N+colour2[2]*(1.0-1.*i/N)]))\n",
    "        C4=cycle2D(C2.exmul(-pow(i+1.0,1.1)))+C3\n",
    "        A.send(C4.asy_string(xmin, xmax, ymin, ymax,\\\n",
    "        [colour3[0]*(i+1.0)/N+colour2[0]*(1.0-1.*i/N),\\\n",
    "        colour3[1]*(i+1.0)/N+colour2[1]*(1.0-1.*i/N),\\\n",
    "        colour3[2]*(i+1.0)/N+colour2[2]*(1.0-1.*i/N)]))\n",
    "        C4=C2+cycle2D(C3.exmul(-pow(i+1.0,1.1)))\n",
    "        A.send(C4.asy_string(xmin, xmax, ymin, ymax,\\\n",
    "        [colour3[0]*(i+1.0)/N+colour1[0]*(1.0-1.*i/N),\\\n",
    "        colour3[1]*(i+1.0)/N+colour1[1]*(1.0-1.*i/N),\\\n",
    "        colour3[2]*(i+1.0)/N+colour1[2]*(1.0-1.*i/N)]))\n",
    "    A.shipout(name)\n",
    "    return(Image(f'{name}.png'))"
   ]
  },
  {
   "cell_type": "code",
   "execution_count": null,
   "id": "3a64cc93-2302-4914-9202-df61e70763b0",
   "metadata": {
    "autoscroll": false,
    "collapsed": false,
    "ein.hycell": false,
    "ein.tags": "worksheet-0",
    "slideshow": {
     "slide_type": "-"
    }
   },
   "outputs": [],
   "source": [
    "C2=cycle2D([0,1],e.subs({sign : 0}),0)\n",
    "C3=cycle2D([0,3],e.subs({sign : 0}),0)"
   ]
  },
  {
   "cell_type": "markdown",
   "id": "bd530ea7-f0fb-4259-bd5f-f1947fa5dcd5",
   "metadata": {
    "collapsed": false,
    "ein.tags": "worksheet-0",
    "slideshow": {
     "slide_type": "-"
    }
   },
   "source": [
    "Span which consists of p-zero-radius cycles"
   ]
  },
  {
   "cell_type": "code",
   "execution_count": null,
   "id": "8fccb40c-d4ad-424a-9fe1-f9dea36e52b8",
   "metadata": {
    "autoscroll": false,
    "collapsed": false,
    "ein.hycell": false,
    "ein.tags": "worksheet-0",
    "slideshow": {
     "slide_type": "-"
    }
   },
   "outputs": [],
   "source": [
    "makepencil(C2, C3, -3,3,-2,4,[0,1,0],[0,0,1],[1,0,0], \"pencilpzr\")"
   ]
  },
  {
   "cell_type": "code",
   "execution_count": null,
   "id": "49196aec-1bb6-4183-a45d-e5fa80c67ce2",
   "metadata": {
    "autoscroll": false,
    "collapsed": false,
    "ein.hycell": false,
    "ein.tags": "worksheet-0",
    "slideshow": {
     "slide_type": "-"
    }
   },
   "outputs": [],
   "source": [
    "makepencil(cycle2D(C2,e.subs({sign : -1})), \n",
    "           cycle2D(C3,e.subs({sign : -1})), \n",
    "           -3,3,-2,4,[0,1,0],[0,0,1],[1,0,0], \"pencilpzre\")"
   ]
  },
  {
   "cell_type": "code",
   "execution_count": null,
   "id": "99199149-3c1a-4835-8a07-f31a74089ae0",
   "metadata": {
    "autoscroll": false,
    "collapsed": false,
    "ein.hycell": false,
    "ein.tags": "worksheet-0",
    "slideshow": {
     "slide_type": "-"
    }
   },
   "outputs": [],
   "source": [
    "makepencil(cycle2D(C2,e.subs({sign : 1})), \n",
    "           cycle2D(C3,e.subs({sign : 1})), \n",
    "           -3,3,-2,4,[0,1,0],[0,0,1],[1,0,0], \"pencilpzrh\")"
   ]
  },
  {
   "cell_type": "code",
   "execution_count": null,
   "id": "5b2e4e0b-708a-4090-b3bb-ebbddf2b232d",
   "metadata": {
    "autoscroll": false,
    "collapsed": false,
    "ein.hycell": false,
    "ein.tags": "worksheet-0",
    "slideshow": {
     "slide_type": "-"
    }
   },
   "outputs": [],
   "source": [
    "C2=cycle2D([0,0],e.subs({sign : 1}),0)\n",
    "C3=cycle2D([1,1],e.subs({sign : 1}),0)"
   ]
  },
  {
   "cell_type": "markdown",
   "id": "249891a1-4bbe-40fd-b32a-ab4b8e4fac27",
   "metadata": {
    "collapsed": false,
    "ein.tags": "worksheet-0",
    "slideshow": {
     "slide_type": "-"
    }
   },
   "source": [
    "Span which consists of h-zero-radius cycles"
   ]
  },
  {
   "cell_type": "code",
   "execution_count": null,
   "id": "2ccb25a5-bec0-4d04-be0c-2b6c68696467",
   "metadata": {
    "autoscroll": false,
    "collapsed": false,
    "ein.hycell": false,
    "ein.tags": "worksheet-0",
    "slideshow": {
     "slide_type": "-"
    }
   },
   "outputs": [],
   "source": [
    "makepencil(C2, C3, -3,3,-2,4,[0,1,0],[0,0,1],[1,0,0], \"pencilhzr\")"
   ]
  },
  {
   "cell_type": "code",
   "execution_count": null,
   "id": "0235febd-65e4-491b-9888-0ec8976b4b2e",
   "metadata": {
    "autoscroll": false,
    "collapsed": false,
    "ein.hycell": false,
    "ein.tags": "worksheet-0",
    "slideshow": {
     "slide_type": "-"
    }
   },
   "outputs": [],
   "source": [
    "makepencil(cycle2D(C2,e.subs({sign : -1})),\n",
    "           cycle2D(C3,e.subs({sign : -1})), \n",
    "           -3,3,-2,4,[0,1,0],[0,0,1],[1,0,0], \"pencilhzre\")"
   ]
  },
  {
   "cell_type": "code",
   "execution_count": null,
   "id": "a60f0749-6b3c-4078-89e3-a55fe4e6a269",
   "metadata": {
    "autoscroll": false,
    "collapsed": false,
    "ein.hycell": false,
    "ein.tags": "worksheet-0",
    "slideshow": {
     "slide_type": "-"
    }
   },
   "outputs": [],
   "source": [
    "makepencil(cycle2D(C2,e.subs({sign : 0})), \n",
    "           cycle2D(C3,e.subs({sign : 0})), \n",
    "           -3,3,-2,4,[0,1,0],[0,0,1],[1,0,0], \"pencilhzrp\")"
   ]
  },
  {
   "cell_type": "code",
   "execution_count": null,
   "id": "79990996-fb4b-4d8d-84c1-ba6b97d633cb",
   "metadata": {
    "autoscroll": false,
    "collapsed": false,
    "ein.hycell": false,
    "ein.tags": "worksheet-0",
    "slideshow": {
     "slide_type": "-"
    }
   },
   "outputs": [],
   "source": [
    "del(A)"
   ]
  },
  {
   "cell_type": "markdown",
   "id": "ea261e8c-3f9a-4aff-98a0-c8239cc5bdf0",
   "metadata": {
    "collapsed": false
   },
   "source": [
    "\n",
    "This notebook is a part of the *MoebInv notebooks* project [ [2] ](#[2]).\n",
    "\n",
    "### References\n",
    "<a id=\"references\"></a>\n",
    "<a id=\"[1]\"></a>\n",
    "1. Vladimir V. Kisil. *Geometry of Möbius Transformations: Elliptic, Parabolic and Hyperbolic Actions of $SL_2(\\mathbb{R})$*. [Imperial College Press](https://www.worldscientific.com/worldscibooks/10.1142/p835), London, 2012. Includes a live DVD.\n",
    "\n",
    "   <a id=\"[2]\"></a>\n",
    "2.  Vladimir V. Kisil, [*MoebInv notebooks*](https://github.com/vvkisil/MoebInv-notebooks), 2019.\n",
    "\n",
    "[Back to Folder](https://github.com/vvkisil/MoebInv-notebooks/blob/master/EPAL-v1/)\n"
   ]
  }
 ],
 "metadata": {
  "kernelspec": {
   "argv": [
    "/usr/bin/python3",
    "-m",
    "ipykernel_launcher",
    "-f",
    "{connection_file}"
   ],
   "display_name": "Python 3 (ipykernel)",
   "env": null,
   "interrupt_mode": "signal",
   "language": "python",
   "metadata": {
    "debugger": true
   },
   "name": "python3"
  },
  "language_info": {
   "codemirror_mode": {
    "name": "ipython",
    "version": 3
   },
   "file_extension": ".py",
   "mimetype": "text/x-python",
   "name": "python",
   "nbconvert_exporter": "python",
   "pygments_lexer": "ipython3",
   "version": "3.6.4"
  },
  "name": "ex.I.5.28.i.ipynb"
 },
 "nbformat": 4,
 "nbformat_minor": 5
}
