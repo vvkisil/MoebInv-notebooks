{
 "cells": [
  {
   "cell_type": "markdown",
   "id": "7634fa72-ff11-4f8d-a6cb-8003b0344c4e",
   "metadata": {
    "collapsed": false
   },
   "source": [
    "<table style=\"width:100%\">\n",
    "    <tr>\n",
    "        <td>\n",
    "            <a href=\"http://www1.maths.leeds.ac.uk/~kisilv/MoebInv-notebooks/EPAL-v1/th.I.4.13.html\">\n",
    "  <img src=\"../svg/view-html.svg\" alt=\"Open In Colab\"/>\n",
    "            </a>\n",
    "        </td>\n",
    "        <td>\n",
    "<a href=\"https://github.com/vvkisil/MoebInv-notebooks/blob/master/EPAL-v1/th.I.4.13.ipynb\">\n",
    "  <img src=\"../svg/open-github.svg\" alt=\"Open In Colab\"/>\n",
    "            </a>\n",
    "        </td>\n",
    "        <td>\n",
    "            <a href=\"https://colab.research.google.com/github/vvkisil/MoebInv-notebooks/blob/master/EPAL-v1/th.I.4.13.ipynb\">\n",
    "  <img src=\"../svg/exec-colab.svg\" alt=\"Open In Colab\"/>\n",
    "            </a>\n",
    "        </td>\n",
    "        <td>\n",
    "            <a href=\"https://codeocean.com/capsule/7952650/tree\">\n",
    "  <img src=\"../svg/code-ocean.svg\" alt=\"Code Ocean\"/>\n",
    "            </a>\n",
    "        </td>\n",
    "    </tr>\n",
    " </table>\n",
    "\n",
    "<a  align=\"center\" href=\"https://colab.research.google.com/github/vvkisil/MoebInv-notebooks/blob/master/Introduction/Software_installation_GUI_integration.ipynb\">Google CoLab software installation</a>\n"
   ]
  },
  {
   "cell_type": "markdown",
   "id": "8480bfe4-c9da-42d5-8103-774e777861b9",
   "metadata": {
    "collapsed": false,
    "ein.tags": "worksheet-0",
    "slideshow": {
     "slide_type": "-"
    }
   },
   "source": [
    "# Proving conjugation formula for Fillmore-Springer-Cnops construction\n",
    "\n",
    "This notebook is a part of the *MoebInv Notebooks* project [ [2] ](#[2]).\n",
    "\n",
    "**Theorem I.4.13.** [ [1] ](#[1])  *Let a matrix $M=  \\begin{pmatrix}\n",
    "    a&b\\\\c&d\n",
    "  \\end{pmatrix}\\in SL_2(\\mathbb{R})$ define the Möbius transformation:\n",
    "\\begin{equation}\n",
    "  \\begin{pmatrix}\n",
    "    a&b\\\\c&d\n",
    "  \\end{pmatrix}:\\  w\\mapsto  \\frac{aw+b}{c w+d}, \\tag{I.3.24}\\label{eq:moebius-def}\n",
    "\\end{equation}\n",
    "where $w=u+\\iota v$ with $\\iota^2=\\sigma$.* \n",
    "  \n",
    "*The image $\\tilde{C}^{s}_{\\breve{\\sigma}}$ of a cycle ${C}^{s}_{\\breve{\\sigma}}$\n",
    "under transformation \\eqref{eq:moebius-def} in $\\mathbb{R}^2_{\\sigma}$\n",
    "is given by **similarity of the matrix**:\n",
    "\\begin{equation}\n",
    "        \\label{eq:cycle-transform-short}\n",
    "       \\tilde{C}^{s}_{\\breve{\\sigma}} = M {C}^{s}_{\\breve{\\sigma}} M^{-1}.\n",
    "\\end{equation}\n",
    "Explicitly, it means:\n",
    "\\begin{equation}\n",
    "        \\label{eq:cycle-similarity-expl}\n",
    "        \\begin{pmatrix}\n",
    "\\tilde{l}+\\breve{\\iota} s \\tilde{n}&-\\tilde{m}\\\\\\tilde{k}&-\\tilde{l}+\\breve{\\iota} s \\tilde{n}\n",
    "        \\end{pmatrix} = \n",
    "        \\begin{pmatrix}\n",
    "a&b\\\\c&d\n",
    "        \\end{pmatrix}\n",
    "\\begin{pmatrix}\n",
    "        l+\\breve{\\iota} s n&-m\\\\k&-l+\\breve{\\iota} s n\n",
    "\\end{pmatrix}\n",
    "\\begin{pmatrix}\n",
    "        d&-b\\\\-c&a\n",
    "\\end{pmatrix}.\n",
    "    \\end{equation}*\n",
    "\n",
    "*Proof.* The statement can be fully demonstrated by symbolic computations in `MoebInv`. Here we will not use the file `init_cycle.py` and will redefine many objects from it. First, we need to introduce two generic metrics: one is for the point space and another is for the cycle space."
   ]
  },
  {
   "cell_type": "code",
   "execution_count": 7,
   "id": "bc2ebbfc-d75b-42f7-8c44-2d5e50351294",
   "metadata": {
    "autoscroll": false,
    "collapsed": false,
    "ein.hycell": false,
    "ein.tags": "worksheet-0",
    "slideshow": {
     "slide_type": "-"
    }
   },
   "outputs": [],
   "source": [
    "from cycle import *\n",
    "sign = realsymbol('si', r'\\sigma') # symbol to encode point space geometry\n",
    "sign1=realsymbol(\"bs\", r\"\\sigma_1\")  # symbol to encode cycle space geometry\n",
    "mu=idx(symbol(\"mu\"),1) # index for a cliffor unit\n",
    "nu=idx(symbol(\"nu\"),1) # index for a cliffor unit\n",
    "e=clifford_unit(mu,diag_matrix([sign])) # clifford unit for the point space\n",
    "es=clifford_unit(nu,diag_matrix([sign1])) # clifford unit for the cycle space"
   ]
  },
  {
   "cell_type": "markdown",
   "id": "5b59ea6f-aa69-414d-b3bb-6f512adb9e1b",
   "metadata": {
    "collapsed": false,
    "ein.tags": "worksheet-0",
    "slideshow": {
     "slide_type": "-"
    }
   },
   "source": [
    "Now we define a generic cycle `C` by arbitrary coefficients $(k,l,n,m)$. "
   ]
  },
  {
   "cell_type": "code",
   "execution_count": 8,
   "id": "690ce157-bc47-48ac-8d57-84c23421fa37",
   "metadata": {
    "autoscroll": false,
    "collapsed": false,
    "ein.hycell": false,
    "ein.tags": "worksheet-0",
    "slideshow": {
     "slide_type": "-"
    }
   },
   "outputs": [],
   "source": [
    "k = realsymbol(\"k\") # Define a real variable k\n",
    "l = realsymbol(\"l\") # Define a real variable l\n",
    "n = realsymbol(\"n\") # Define a real variable n\n",
    "m = realsymbol(\"m\") # Define a real variable m\n",
    "C = cycle2D(k, [l, n], m, e) # Define the cycle"
   ]
  },
  {
   "cell_type": "markdown",
   "id": "63de3c77-8466-434a-9319-b51174994e9e",
   "metadata": {
    "collapsed": false,
    "ein.tags": "worksheet-0",
    "slideshow": {
     "slide_type": "-"
    }
   },
   "source": [
    "Then, for a given point $(u,v)$ we build a cycle passing it. This is done by `subject_to()` menthod:"
   ]
  },
  {
   "cell_type": "code",
   "execution_count": 9,
   "id": "d56abc79-366c-453f-807d-50b4eb9d8c03",
   "metadata": {
    "autoscroll": false,
    "collapsed": false,
    "ein.hycell": false,
    "ein.tags": "worksheet-0",
    "slideshow": {
     "slide_type": "-"
    }
   },
   "outputs": [
    {
     "data": {
      "text/latex": [
       "Cycle C2=$(k, {\\left(\\begin{array}{cc}l&n\\end{array}\\right)}^{{symbol73} }, - k u^{2}+2  v n+ \\sigma v^{2} k+2  l u)$ passes point $P=\\left(\\begin{array}{cc}u&v\\end{array}\\right)$: True"
      ],
      "text/plain": [
       "<IPython.core.display.Latex object>"
      ]
     },
     "execution_count": 9,
     "metadata": {},
     "output_type": "execute_result"
    }
   ],
   "source": [
    "u = realsymbol('u') # the first coordinate of a point\n",
    "v = realsymbol('v') # the second coordinate of the point\n",
    "P = matrix([[u, v]]) # a point on the plane\n",
    "C2=C.subject_to(C.passing(P))\n",
    "Latex(f'Cycle C2=${C2}$ passes point $P={P}$: {bool(C2.passing(P))}')"
   ]
  },
  {
   "cell_type": "markdown",
   "id": "5a1ab7a4-0baa-496e-9f5e-69a55d62fc2b",
   "metadata": {
    "collapsed": false,
    "ein.tags": "worksheet-0",
    "slideshow": {
     "slide_type": "-"
    }
   },
   "source": [
    "Now we define an element of $SL_2(\\mathbb{R})$ and construct the conjugation of the cycle `C2` by similarity in the matrix $\\begin{pmatrix}a&b\\\\c&d\\end{pmatrix}$."
   ]
  },
  {
   "cell_type": "code",
   "execution_count": 10,
   "id": "c0f520ba-2b15-4b63-b72a-62a6e652c76e",
   "metadata": {
    "autoscroll": false,
    "collapsed": false,
    "ein.hycell": false,
    "ein.tags": "worksheet-0",
    "slideshow": {
     "slide_type": "-"
    }
   },
   "outputs": [
    {
     "data": {
      "text/latex": [
       "The transformed cycle: C3=$(2  v c^{2} n+ \\sigma v^{2} k c^{2}- k c^{2} u^{2}+2  l c^{2} u+2  d l c+ d^{2} k, {\\left(\\begin{array}{cc}2  a v c n- a k c u^{2}+ d a l+ \\sigma a v^{2} k c+ b l c+2  a l c u+ d k b& s {(\\frac{ d a n}{s}-\\frac{ b c n}{s})}\\end{array}\\right)}_{{symbol149} }, 2  a b l+2  a^{2} v n+2  a^{2} l u+ k b^{2}+ \\sigma a^{2} v^{2} k- a^{2} k u^{2})$"
      ],
      "text/plain": [
       "<IPython.core.display.Latex object>"
      ]
     },
     "execution_count": 10,
     "metadata": {},
     "output_type": "execute_result"
    }
   ],
   "source": [
    "a = realsymbol('a')\n",
    "b = realsymbol('b')\n",
    "c = realsymbol('c')\n",
    "d = realsymbol('d')\n",
    "s = realsymbol('s')\n",
    "C3=C2.sl2_similarity(a, b, c, d, es, matrix([[1,0],[0,s]]), True, matrix([[1,0],[0,1/s]])) \n",
    "Latex(f'The transformed cycle: C3=${C3}$')\n"
   ]
  },
  {
   "cell_type": "markdown",
   "id": "31cbe5a0-f809-41b7-ba2e-b95ef146941f",
   "metadata": {
    "collapsed": false,
    "ein.tags": "worksheet-0",
    "slideshow": {
     "slide_type": "-"
    }
   },
   "source": [
    "This explicit form of the cycle may be not particularly enlightening. But we are moving on and define the Mobius map of the point $P$:\n"
   ]
  },
  {
   "cell_type": "code",
   "execution_count": 11,
   "id": "7e5a6dad-208c-424c-8fb6-3f8415f20042",
   "metadata": {
    "autoscroll": false,
    "collapsed": false,
    "ein.hycell": false,
    "ein.tags": "worksheet-0",
    "slideshow": {
     "slide_type": "-"
    }
   },
   "outputs": [
    {
     "data": {
      "text/latex": [
       "$\\left(\\begin{array}{cc}-\\frac{ d a u}{ \\sigma v^{2} c^{2}- c^{2} u^{2}-2  d c u-d^{2}}+\\frac{ \\sigma a v^{2} c}{ \\sigma v^{2} c^{2}- c^{2} u^{2}-2  d c u-d^{2}}-\\frac{ b c u}{ \\sigma v^{2} c^{2}- c^{2} u^{2}-2  d c u-d^{2}}-\\frac{ a c u^{2}}{ \\sigma v^{2} c^{2}- c^{2} u^{2}-2  d c u-d^{2}}-\\frac{ d b}{ \\sigma v^{2} c^{2}- c^{2} u^{2}-2  d c u-d^{2}}&\\frac{ v b c}{ \\sigma v^{2} c^{2}- c^{2} u^{2}-2  d c u-d^{2}}-\\frac{ d a v}{ \\sigma v^{2} c^{2}- c^{2} u^{2}-2  d c u-d^{2}}\\end{array}\\right)$"
      ],
      "text/plain": [
       "<IPython.core.display.Latex object>"
      ]
     },
     "execution_count": 11,
     "metadata": {},
     "output_type": "execute_result"
    }
   ],
   "source": [
    "P1=clifford_moebius_map(sl2_clifford(a,b,c,d,e),P,e)\n",
    "Latex(f'${P1}$')"
   ]
  },
  {
   "cell_type": "markdown",
   "id": "5807e745-5540-42d0-8fa5-75f2409d7abe",
   "metadata": {
    "collapsed": false,
    "ein.tags": "worksheet-0",
    "slideshow": {
     "slide_type": "-"
    }
   },
   "source": [
    "The two last outputs are cumbersome, fortunately computer can make the final check for us. We only need to suggest that the $SL_2(\\mathbb{R})$ substitution $a=(1+bc)/d$ shall be used for simplification. Also we assume that $s^2=1$."
   ]
  },
  {
   "cell_type": "code",
   "execution_count": 12,
   "id": "55df2137-8c0e-4056-ab35-08ad45352416",
   "metadata": {
    "autoscroll": false,
    "collapsed": false,
    "ein.hycell": false,
    "ein.tags": "worksheet-0",
    "slideshow": {
     "slide_type": "-"
    }
   },
   "outputs": [
    {
     "name": "stdout",
     "output_type": "stream",
     "text": [
      "Conjugated cycle C3 passes the Moebius image P1 of P: True\n"
     ]
    }
   ],
   "source": [
    "'Conjugated cycle C3 passes the Moebius image P1 of P: %s' % \\\n",
    "C3.val(P1).subs({a : (1+b*c)/d, pow(s,2) : 1}).normal().is_zero()"
   ]
  },
  {
   "cell_type": "markdown",
   "id": "8ca8edf6-0802-4b9c-853f-18f350d0cad2",
   "metadata": {
    "collapsed": false,
    "ein.tags": "worksheet-0",
    "slideshow": {
     "slide_type": "-"
    }
   },
   "source": [
    "This finishes the proof by a direct calculation. $\\Box$"
   ]
  },
  {
   "cell_type": "markdown",
   "id": "cc7f8a28-d538-4f90-8ede-482010f51a28",
   "metadata": {
    "collapsed": false
   },
   "source": [
    "\n",
    "This notebook is a part of the *MoebInv notebooks* project [ [2] ](#[2]).\n",
    "\n",
    "### References\n",
    "<a id=\"references\"></a>\n",
    "<a id=\"[1]\"></a>\n",
    "1. Vladimir V. Kisil. *Geometry of Möbius Transformations: Elliptic, Parabolic and Hyperbolic Actions of $SL_2(\\mathbb{R})$*. [Imperial College Press](https://www.worldscientific.com/worldscibooks/10.1142/p835), London, 2012. Includes a live DVD.\n",
    "\n",
    "   <a id=\"[2]\"></a>\n",
    "2.  Vladimir V. Kisil, [*MoebInv notebooks*](https://github.com/vvkisil/MoebInv-notebooks), 2019.\n",
    "\n",
    "[Back to Folder](https://github.com/vvkisil/MoebInv-notebooks/blob/master/EPAL-v1/)\n"
   ]
  }
 ],
 "metadata": {
  "kernelspec": {
   "argv": [
    "/usr/bin/python3",
    "-m",
    "ipykernel_launcher",
    "-f",
    "{connection_file}"
   ],
   "display_name": "Python 3 (ipykernel)",
   "env": null,
   "interrupt_mode": "signal",
   "language": "python",
   "metadata": {
    "debugger": true
   },
   "name": "python3"
  },
  "language_info": {
   "codemirror_mode": {
    "name": "ipython",
    "version": 3
   },
   "file_extension": ".py",
   "mimetype": "text/x-python",
   "name": "python",
   "nbconvert_exporter": "python",
   "pygments_lexer": "ipython3",
   "version": "3.6.4"
  },
  "name": "th.I.4.13.ipynb"
 },
 "nbformat": 4,
 "nbformat_minor": 2
}
