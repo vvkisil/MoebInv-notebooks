{
 "cells": [
  {
   "cell_type": "markdown",
   "id": "b9063fa1-a0da-4285-a7e4-53b86108a147",
   "metadata": {
    "collapsed": false
   },
   "source": [
    "<table style=\"width:100%\">\n",
    "    <tr>\n",
    "        <td>\n",
    "            <a href=\"http://www1.maths.leeds.ac.uk/~kisilv/MoebInv-notebooks/EPAL-v1/ex.I.6.5.i.html\">\n",
    "  <img src=\"../svg/view-html.svg\" alt=\"Open In Colab\"/>\n",
    "            </a>\n",
    "        </td>\n",
    "        <td>\n",
    "<a href=\"https://github.com/vvkisil/MoebInv-notebooks/blob/master/EPAL-v1/ex.I.6.5.i.ipynb\">\n",
    "  <img src=\"../svg/open-github.svg\" alt=\"Open In Colab\"/>\n",
    "            </a>\n",
    "        </td>\n",
    "        <td>\n",
    "            <a href=\"https://colab.research.google.com/github/vvkisil/MoebInv-notebooks/blob/master/EPAL-v1/ex.I.6.5.i.ipynb\">\n",
    "  <img src=\"../svg/exec-colab.svg\" alt=\"Open In Colab\"/>\n",
    "            </a>\n",
    "        </td>\n",
    "        <td>\n",
    "            <a href=\"https://codeocean.com/capsule/7952650/tree\">\n",
    "  <img src=\"../svg/code-ocean.svg\" alt=\"Code Ocean\"/>\n",
    "            </a>\n",
    "        </td>\n",
    "    </tr>\n",
    " </table>\n",
    "\n",
    "<a  align=\"center\" href=\"https://colab.research.google.com/github/vvkisil/MoebInv-notebooks/blob/master/Introduction/Software_installation_GUI_integration.ipynb\">Google CoLab software installation</a>\n"
   ]
  },
  {
   "cell_type": "markdown",
   "id": "a034d0c3-0bfa-4eb3-97c2-a1083e9c6208",
   "metadata": {
    "collapsed": false,
    "ein.tags": "worksheet-0",
    "slideshow": {
     "slide_type": "-"
    }
   },
   "source": [
    "# Check the geometric orthogonality condition for circles and hyperbolas\n",
    "\n",
    "**Exercise I.6.5.i** [ [1] ](#[1]) Prove \n",
    "    the converses of the two statements in Exercise I.6.3:\n",
    "$\n",
    "\\newcommand{\\scalar}[3][]{\\left\\langle #2,#3 \n",
    "        \\right\\rangle_{#1}}\n",
    "\\newcommand{\\Space}[3][]{\\mathbb{#2}^{#3}_{#1}}\n",
    "\\newcommand{\\Space}[3][]{\\mathbb{#2}^{#3}_{#1}}\n",
    "  \\newcommand{\\cycle}[3][]{{#1 C^{#2}_{#3}}}\n",
    "  \\newcommand{\\realline}[3][]{#1 R^{#2}_{#3}}\n",
    "  \\newcommand{\\bs}{\\breve{\\sigma}}\n",
    "  \\newcommand{\\zcycle}[3][]{#1 Z^{#2}_{#3}}\n",
    "  \\newcommand{\\SL}[1][2]{\\mathrm{SL}_{#1}(\\Space{R}{})}\n",
    "  \\newcommand{\\rs}{\\sigma_r}\n",
    "  \\newcommand{\\lvec}[1]{\\overrightarrow{#1}}\n",
    "\\newcommand{\\rmi}{\\mathrm{i}}\n",
    "\\newcommand{\\alli}{\\iota}\n",
    "\\newcommand{\\rme}{\\mathrm{e}}\n",
    "\\newcommand{\\rmd}{\\mathrm{d}}\n",
    "\\newcommand{\\rmh}{\\mathrm{j}}\n",
    "\\newcommand{\\rmp}{\\varepsilon}\n",
    "\\newcommand{\\modulus}[2][]{\\left| #2 \\right|_{#1}}\n",
    "\\newcommand{\\sperp}{⋋}\n",
    "$\n",
    "1. (e,h) Let $\\sigma=\\pm 1$. Then, two cycles in\n",
    "    $\\Space[\\sigma]{R}{}$ (that is, circles or hyperbolas) are\n",
    "    $\\sigma$-orthogonal if slopes $S_1$ and $S_2$ of their\n",
    "    tangents at the intersection point satisfy the condition\n",
    "    \\begin{equation}\n",
    "      \\label{eq:ortho-slopes-rel}\n",
    "      S_1 S_2=\\sigma. \n",
    "    \\end{equation}\n",
    "    The geometrical meaning of this condition can be given either in terms\n",
    "    of angles (A) or centres (C):\n",
    "\n",
    "  + (A) For the case $\\sigma=-1$ (circles),\n",
    "      equation implies orthogonality of the\n",
    "      tangents. For\n",
    "      $\\sigma=1$, two hyperbolas are h-orthogonal if lines with the\n",
    "      slopes $\\pm 1$ bisect the angle of intersection of the\n",
    "      hyperbolas.\n",
    "      \n",
    "\n",
    "  + (C) In the cases $\\sigma=\\pm 1$, the tangent to one cycle\n",
    "      at the intersection point passes the centre of another cycle.\n",
    "      \n",
    "2. (p) Let $\\sigma=0$ and a parabola $\\cycle{}{p}$ have two\n",
    "    real roots $u_1$ and $u_2$. If a parabola\n",
    "    $\\cycle[\\tilde]{}{p}$ is $p$-orthogonal to $\\cycle{}{p}$,\n",
    "    then the tangent to $\\cycle[\\tilde]{}{p}$ at a point above one\n",
    "    of the roots $u_{1,2}$ passes the p-centre\n",
    "    $(\\frac{u_1+u_2}{2},0)$ of $\\cycle{}{p}$.       "
   ]
  },
  {
   "cell_type": "markdown",
   "id": "855600e6-91a2-4133-99f1-4da9fcb6c6f8",
   "metadata": {
    "collapsed": false,
    "ein.tags": "worksheet-0",
    "slideshow": {
     "slide_type": "-"
    }
   },
   "source": [
    "**Solution.** Define a cycle passing point $(u,v)$ "
   ]
  },
  {
   "cell_type": "code",
   "execution_count": null,
   "id": "e6bd0159-f763-400e-a116-d568d460adfc",
   "metadata": {
    "autoscroll": false,
    "collapsed": false,
    "ein.hycell": false,
    "ein.tags": "worksheet-0",
    "slideshow": {
     "slide_type": "-"
    }
   },
   "outputs": [],
   "source": [
    "from init_cycle import *\n",
    "C3=C.subject_to(C.passing(P))"
   ]
  },
  {
   "cell_type": "markdown",
   "id": "17d1147b-cd44-4d5a-80e2-55159e1f9e00",
   "metadata": {
    "collapsed": false,
    "ein.tags": "worksheet-0",
    "slideshow": {
     "slide_type": "-"
    }
   },
   "source": [
    "Define a cycle passing the same point and being orthogonal to `C3`"
   ]
  },
  {
   "cell_type": "code",
   "execution_count": null,
   "id": "15331177-23c8-40dc-88bc-4fd335d08b02",
   "metadata": {
    "autoscroll": false,
    "collapsed": false,
    "ein.hycell": false,
    "ein.tags": "worksheet-0",
    "slideshow": {
     "slide_type": "-"
    }
   },
   "outputs": [],
   "source": [
    "C4=C1.subject_to([C1.passing(P), \\\n",
    "(C3.val(P1).diff(u1)*C1.val(P1).diff(u1) \\\n",
    "-sign*C3.val(P1).diff(v1)*C1.val(P1).diff(v1)).subs({v1 : v, u1 : u})==0])"
   ]
  },
  {
   "cell_type": "code",
   "execution_count": null,
   "id": "6ede1941-e52b-4d5e-bf13-7c772c959899",
   "metadata": {
    "autoscroll": false,
    "collapsed": false,
    "ein.hycell": false,
    "ein.tags": "worksheet-0",
    "slideshow": {
     "slide_type": "-"
    }
   },
   "outputs": [],
   "source": [
    "\"Slopes at the intersection point ensure orthogonality of circles and hyperbolas: %s\" %\\\n",
    "C3.cycle_product(C4).subs({pow(sign,2) : 1}, subs_options.algebraic).is_zero()"
   ]
  },
  {
   "cell_type": "markdown",
   "id": "d928cbf5-5ac8-4a0e-b039-d494f64fed5f",
   "metadata": {
    "collapsed": false,
    "ein.tags": "worksheet-0",
    "slideshow": {
     "slide_type": "-"
    }
   },
   "source": [
    "Check the geometric orthogonality condition for parabolas. A cycle passing the point $(u,v)$"
   ]
  },
  {
   "cell_type": "code",
   "execution_count": null,
   "id": "7356e735-073f-436a-8344-42395997f0af",
   "metadata": {
    "autoscroll": false,
    "collapsed": false,
    "ein.hycell": false,
    "ein.tags": "worksheet-0",
    "slideshow": {
     "slide_type": "-"
    }
   },
   "outputs": [],
   "source": [
    "C5=C1.subject_to(C1.passing(P))"
   ]
  },
  {
   "cell_type": "markdown",
   "id": "65f74dbc-e697-47c1-b795-4009d2d3db3a",
   "metadata": {
    "collapsed": false,
    "ein.tags": "worksheet-0",
    "slideshow": {
     "slide_type": "-"
    }
   },
   "source": [
    "Its slope at the point $(u,v)$"
   ]
  },
  {
   "cell_type": "code",
   "execution_count": null,
   "id": "d107f15a-7db5-4a9c-9c09-d639ecb04fdd",
   "metadata": {
    "autoscroll": false,
    "collapsed": false,
    "ein.hycell": false,
    "ein.tags": "worksheet-0",
    "slideshow": {
     "slide_type": "-"
    }
   },
   "outputs": [],
   "source": [
    "Sl5=(C5.val(P1).diff(u1)/C5.val(P1).diff(v1)).subs({u1 : u, v1 : v, sign : 0})"
   ]
  },
  {
   "cell_type": "markdown",
   "id": "5acc16ab-de12-46a1-bb13-11b142f2bff5",
   "metadata": {
    "collapsed": false,
    "ein.tags": "worksheet-0",
    "slideshow": {
     "slide_type": "-"
    }
   },
   "source": [
    "Diameter of the parabols"
   ]
  },
  {
   "cell_type": "code",
   "execution_count": null,
   "id": "02a23d2e-b050-4cd3-9ec2-e90a586ab5a4",
   "metadata": {
    "autoscroll": false,
    "collapsed": false,
    "ein.hycell": false,
    "ein.tags": "worksheet-0",
    "slideshow": {
     "slide_type": "-"
    }
   },
   "outputs": [],
   "source": [
    "X=v/Sl5"
   ]
  },
  {
   "cell_type": "markdown",
   "id": "a97a3b70-27ca-4e3c-a8fb-cac773bdf7fc",
   "metadata": {
    "collapsed": false,
    "ein.tags": "worksheet-0",
    "slideshow": {
     "slide_type": "-"
    }
   },
   "source": [
    "Parabola having root at $(u,0)$ and the tangent passing its centre"
   ]
  },
  {
   "cell_type": "code",
   "execution_count": null,
   "id": "a543b0f2-ceff-4e26-b97b-a1569924909c",
   "metadata": {
    "autoscroll": false,
    "collapsed": false,
    "ein.hycell": false,
    "ein.tags": "worksheet-0",
    "slideshow": {
     "slide_type": "-"
    }
   },
   "outputs": [],
   "source": [
    "C6=cycle2D([u+X,0],e.subs({sign : 0}),X*X)\n",
    "\"Parabolas are orthogonal if the tangent above root pass the centre: %s\" % \\\n",
    "bool(C6.is_orthogonal(C5).subs({sign : 0}))"
   ]
  },
  {
   "cell_type": "markdown",
   "id": "21034db8-c99e-4028-a424-670e5bb2c832",
   "metadata": {
    "collapsed": false
   },
   "source": [
    "\n",
    "This notebook is a part of the *MoebInv notebooks* project [ [2] ](#[2]).\n",
    "\n",
    "### References\n",
    "<a id=\"references\"></a>\n",
    "<a id=\"[1]\"></a>\n",
    "1. Vladimir V. Kisil. *Geometry of Möbius Transformations: Elliptic, Parabolic and Hyperbolic Actions of $SL_2(\\mathbb{R})$*. [Imperial College Press](https://www.worldscientific.com/worldscibooks/10.1142/p835), London, 2012. Includes a live DVD.\n",
    "\n",
    "   <a id=\"[2]\"></a>\n",
    "2.  Vladimir V. Kisil, [*MoebInv notebooks*](https://github.com/vvkisil/MoebInv-notebooks), 2019.\n",
    "\n",
    "[Back to Folder](https://github.com/vvkisil/MoebInv-notebooks/blob/master/EPAL-v1/)\n"
   ]
  }
 ],
 "metadata": {
  "kernelspec": {
   "argv": [
    "/usr/bin/python3",
    "-m",
    "ipykernel_launcher",
    "-f",
    "{connection_file}"
   ],
   "display_name": "Python 3 (ipykernel)",
   "env": null,
   "interrupt_mode": "signal",
   "language": "python",
   "metadata": {
    "debugger": true
   },
   "name": "python3"
  },
  "language_info": {
   "codemirror_mode": {
    "name": "ipython",
    "version": 3
   },
   "file_extension": ".py",
   "mimetype": "text/x-python",
   "name": "python",
   "nbconvert_exporter": "python",
   "pygments_lexer": "ipython3",
   "version": "3.6.4"
  },
  "name": "ex.I.6.5.i.ipynb"
 },
 "nbformat": 4,
 "nbformat_minor": 2
}
