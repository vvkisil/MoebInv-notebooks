{
 "cells": [
  {
   "cell_type": "markdown",
   "id": "632afaf2-8310-4569-a844-c4189947ad16",
   "metadata": {
    "collapsed": false
   },
   "source": [
    "<table style=\"width:100%\">\n",
    "    <tr>\n",
    "        <td>\n",
    "            <a href=\"http://www1.maths.leeds.ac.uk/~kisilv/MoebInv-notebooks/EPAL-v1/ex.I.7.14.ii.html\">\n",
    "  <img src=\"../svg/view-html.svg\" alt=\"Open In Colab\"/>\n",
    "            </a>\n",
    "        </td>\n",
    "        <td>\n",
    "<a href=\"https://github.com/vvkisil/MoebInv-notebooks/blob/master/EPAL-v1/ex.I.7.14.ii.ipynb\">\n",
    "  <img src=\"../svg/open-github.svg\" alt=\"Open In Colab\"/>\n",
    "            </a>\n",
    "        </td>\n",
    "        <td>\n",
    "            <a href=\"https://colab.research.google.com/github/vvkisil/MoebInv-notebooks/blob/master/EPAL-v1/ex.I.7.14.ii.ipynb\">\n",
    "  <img src=\"../svg/exec-colab.svg\" alt=\"Open In Colab\"/>\n",
    "            </a>\n",
    "        </td>\n",
    "        <td>\n",
    "            <a href=\"https://codeocean.com/capsule/7952650/tree\">\n",
    "  <img src=\"../svg/code-ocean.svg\" alt=\"Code Ocean\"/>\n",
    "            </a>\n",
    "        </td>\n",
    "    </tr>\n",
    " </table>\n",
    "\n",
    "<a  align=\"center\" href=\"https://colab.research.google.com/github/vvkisil/MoebInv-notebooks/blob/master/Introduction/Software_installation_GUI_integration.ipynb\">Google CoLab software installation</a>\n"
   ]
  },
  {
   "cell_type": "markdown",
   "id": "e812bad9-0feb-4939-85a9-bd92c85bfeeb",
   "metadata": {
    "collapsed": false,
    "ein.tags": "worksheet-0",
    "slideshow": {
     "slide_type": "-"
    }
   },
   "source": [
    "# Conformality of lengths\n",
    "$\n",
    "\\newcommand{\\Space}[3][]{\\mathbb{#2}^{#3}_{#1}}\n",
    "  \\newcommand{\\cycle}[3][]{{#1 C^{#2}_{#3}}}\n",
    "  \\newcommand{\\realline}[3][]{#1 R^{#2}_{#3}}\n",
    "  \\newcommand{\\bs}{\\breve{\\sigma}}\n",
    "  \\newcommand{\\zcycle}[3][]{#1 Z^{#2}_{#3}}\n",
    "  \\newcommand{\\SL}[1][2]{\\mathrm{SL}_{#1}(\\Space{R}{})}\n",
    "  \\newcommand{\\rs}{\\sigma_r}\n",
    "  \\newcommand{\\lvec}[1]{\\overrightarrow{#1}}\n",
    "$\n",
    "**Exervise I.7.14.ii** [ [1] ](#[1])  Show $\\SL$-conformality of\n",
    "    the lengths from \n",
    "    centres\n",
    "        \\begin{equation}\n",
    "      \\label{eq:k-center-point}\n",
    "      l_{c_{\\bs}}^2(\\lvec{PP'})   =  \n",
    " (u-u')^2-\\sigma v'^2+2\\rs v v' -\\bs v^2. \\tag{I.7.6}\n",
    "    \\end{equation}\n",
    "    any combination of values of $\\sigma$,    $\\bs$  and $\\rs$."
   ]
  },
  {
   "cell_type": "markdown",
   "id": "506f1386-91aa-4773-a212-9e99051000e0",
   "metadata": {
    "collapsed": false,
    "ein.tags": "worksheet-0",
    "slideshow": {
     "slide_type": "-"
    }
   },
   "source": [
    "**Solution.**  We define the simplification for matrices in $\\SL$:"
   ]
  },
  {
   "cell_type": "code",
   "execution_count": null,
   "id": "f1f519c4-29d9-46cc-8734-f6345c68a3c9",
   "metadata": {
    "autoscroll": false,
    "collapsed": false,
    "ein.hycell": false,
    "ein.tags": "worksheet-0",
    "slideshow": {
     "slide_type": "-"
    }
   },
   "outputs": [],
   "source": [
    "from init_cycle import *\n",
    "sl2_relation1 = {a : (1+b*c)/d}"
   ]
  },
  {
   "cell_type": "markdown",
   "id": "0802d68d-098d-432f-95ed-6e72dceadabb",
   "metadata": {
    "collapsed": false,
    "ein.tags": "worksheet-0",
    "slideshow": {
     "slide_type": "-"
    }
   },
   "source": [
    "Define the image of $P=(u,v)$ under the Möbius transformation and make the component-wise substitution of the simplification rule."
   ]
  },
  {
   "cell_type": "code",
   "execution_count": null,
   "id": "e5ce7884-ad90-40d6-974f-ac02b80e5b81",
   "metadata": {
    "autoscroll": false,
    "collapsed": false,
    "ein.hycell": false,
    "ein.tags": "worksheet-0",
    "slideshow": {
     "slide_type": "-"
    }
   },
   "outputs": [],
   "source": [
    "gP=clifford_moebius_map(sl2_clifford(a, b, c, d, e), P, e)\n",
    "gP=[gP[0].subs(sl2_relation1,subs_options.algebraic).normal(),\\\n",
    "gP[1].subs(sl2_relation1,subs_options.algebraic).normal()]"
   ]
  },
  {
   "cell_type": "markdown",
   "id": "5f151cae-0b3e-40f9-bec9-7119d06a8574",
   "metadata": {
    "collapsed": false,
    "ein.tags": "worksheet-0",
    "slideshow": {
     "slide_type": "-"
    }
   },
   "source": [
    "The same for the image of $P_1=(u_1,v_1)$ under the Moebius transformation"
   ]
  },
  {
   "cell_type": "code",
   "execution_count": null,
   "id": "a4170290-b073-4760-ad49-64e87a474894",
   "metadata": {
    "autoscroll": false,
    "collapsed": false,
    "ein.hycell": false,
    "ein.tags": "worksheet-0",
    "slideshow": {
     "slide_type": "-"
    }
   },
   "outputs": [],
   "source": [
    "gP1=clifford_moebius_map(sl2_clifford(a, b, c, d, e), P1, e)\n",
    "gP1=[gP1[0].subs(sl2_relation1,subs_options.algebraic).normal(),\\\n",
    "gP1[1].subs(sl2_relation1,subs_options.algebraic).normal()]"
   ]
  },
  {
   "cell_type": "markdown",
   "id": "66339309-9ef8-4d08-a514-dbc40464e689",
   "metadata": {
    "collapsed": false,
    "ein.tags": "worksheet-0",
    "slideshow": {
     "slide_type": "-"
    }
   },
   "source": [
    "Define the procedure to check the respective distances:"
   ]
  },
  {
   "cell_type": "code",
   "execution_count": null,
   "id": "6526b6fd-29b3-41fb-a190-592dd2ca048e",
   "metadata": {
    "autoscroll": false,
    "collapsed": false,
    "ein.hycell": false,
    "ein.tags": "worksheet-0",
    "slideshow": {
     "slide_type": "-"
    }
   },
   "outputs": [],
   "source": [
    "def check_conformality(Len_c):\n",
    "    Len_cD= ((Len_c.subs({u : gP[0], v : gP[1], u1 : gP1[0], v1 : gP1[1]})\\\n",
    "    /Len_c).subs({u1 : u+t*x, v1 : v+t*y}));\n",
    "    if (Len_cD.has(t)):\n",
    "        Len_cD = Len_cD.series(relational(t, 0, eq), 1).op(0).normal()\n",
    "    return \"This length is conformal: %s\" %\\\n",
    "    (not(Len_cD.is_zero() or Len_cD.has(t) or Len_cD.has(x) or Len_cD.has(y)))"
   ]
  },
  {
   "cell_type": "markdown",
   "id": "1da6eb2d-f2f7-4908-b5fd-8c1a4e83e15d",
   "metadata": {
    "collapsed": false,
    "ein.tags": "worksheet-0",
    "slideshow": {
     "slide_type": "-"
    }
   },
   "source": [
    "Use regularised expression for length checked in [le-length-centre-exp.ipynb](le-length-centre-exp.ipynb) aka [ex.I.7.11.i.ipynb](ex.I.7.11.i.ipynb)."
   ]
  },
  {
   "cell_type": "code",
   "execution_count": null,
   "id": "7e00d8f2-a04a-495c-9a5a-cd2d0a2de252",
   "metadata": {
    "autoscroll": false,
    "collapsed": false,
    "ein.hycell": false,
    "ein.tags": "worksheet-0",
    "slideshow": {
     "slide_type": "-"
    }
   },
   "outputs": [],
   "source": [
    "print(\"Length from center\")\n",
    "Len_c=pow(u-u1,2)-sign*v1*v1+2*sign2*v*v1 -sign1*v*v\n",
    "check_conformality(Len_c)"
   ]
  },
  {
   "cell_type": "markdown",
   "id": "8ae1ee9e-81fb-4ab5-a17a-ea0074d60e20",
   "metadata": {
    "collapsed": false,
    "ein.tags": "worksheet-0",
    "slideshow": {
     "slide_type": "-"
    }
   },
   "source": [
    "Use expressions for length verified in [le-length-focus-exp.ipynb](le-length-focus-exp.ipynb) and [ex.I.7.11.ii.ipynb](ex.I.7.11.ii.ipynb) with elliptic focus"
   ]
  },
  {
   "cell_type": "code",
   "execution_count": null,
   "id": "baa31871-02bd-4082-8c1a-3ac05e4396a3",
   "metadata": {
    "autoscroll": false,
    "collapsed": false,
    "ein.hycell": false,
    "ein.tags": "worksheet-0",
    "slideshow": {
     "slide_type": "-"
    }
   },
   "outputs": [],
   "source": [
    "print(\"Lengths from focus\")\n",
    "sign5=sign4\n",
    "p=sign5*(-(v1-v)+pow(sign5*pow((u1-u), 2)+pow((v1-v), 2) -sign5*sign*pow(v1, 2),half))\n",
    "check_conformality((sign5-sign1)*pow(p, 2) - 2*v*p)"
   ]
  },
  {
   "cell_type": "markdown",
   "id": "d4292c2e-c98c-4a0c-a2c5-8ff51d767174",
   "metadata": {
    "collapsed": false,
    "ein.tags": "worksheet-0",
    "slideshow": {
     "slide_type": "-"
    }
   },
   "source": [
    "Now we check the similar equation for hyperbolic focus"
   ]
  },
  {
   "cell_type": "code",
   "execution_count": null,
   "id": "f0d97d85-871a-4cbc-97ec-fbd4ec53d7bc",
   "metadata": {
    "autoscroll": false,
    "collapsed": false,
    "ein.hycell": false,
    "ein.tags": "worksheet-0",
    "slideshow": {
     "slide_type": "-"
    }
   },
   "outputs": [],
   "source": [
    "sign5=sign4\n",
    "p=sign5*(-(v1-v)-pow(sign5*pow((u1-u), 2)+pow((v1-v), 2) -sign5*sign*pow(v1, 2),half))\n",
    "check_conformality((sign5-sign1)*pow(p, 2) - 2*v*p)"
   ]
  },
  {
   "cell_type": "markdown",
   "id": "e7358cda-7de2-49fd-828b-077e486cdc3b",
   "metadata": {
    "collapsed": false,
    "ein.tags": "worksheet-0",
    "slideshow": {
     "slide_type": "-"
    }
   },
   "source": [
    "Finally we check that length from parabolic focus is not conformal in usual sense"
   ]
  },
  {
   "cell_type": "code",
   "execution_count": null,
   "id": "a5923fa9-0d89-4229-a7d4-a475f42db489",
   "metadata": {
    "autoscroll": false,
    "collapsed": false,
    "ein.hycell": false,
    "ein.tags": "worksheet-0",
    "slideshow": {
     "slide_type": "-"
    }
   },
   "outputs": [],
   "source": [
    "print(\"The length from parabolic focus is not conformal in usual sense (shall be False):\")\n",
    "sign5=0;\n",
    "p=(pow(u1-u,2)-sign*pow(v1,2))/(v1-v)/2\n",
    "check_conformality((sign5-sign1)*pow(p, 2) - 2*v*p)"
   ]
  },
  {
   "cell_type": "markdown",
   "id": "e99c2a32-df64-4c3e-8ca5-51dc6266c71f",
   "metadata": {
    "collapsed": false
   },
   "source": [
    "\n",
    "This notebook is a part of the *MoebInv notebooks* project [ [2] ](#[2]).\n",
    "\n",
    "### References\n",
    "<a id=\"references\"></a>\n",
    "<a id=\"[1]\"></a>\n",
    "1. Vladimir V. Kisil. *Geometry of Möbius Transformations: Elliptic, Parabolic and Hyperbolic Actions of $SL_2(\\mathbb{R})$*. [Imperial College Press](https://www.worldscientific.com/worldscibooks/10.1142/p835), London, 2012. Includes a live DVD.\n",
    "\n",
    "   <a id=\"[2]\"></a>\n",
    "2.  Vladimir V. Kisil, [*MoebInv notebooks*](https://github.com/vvkisil/MoebInv-notebooks), 2019.\n",
    "\n",
    "[Back to Folder](https://github.com/vvkisil/MoebInv-notebooks/blob/master/EPAL-v1/)\n"
   ]
  }
 ],
 "metadata": {
  "kernelspec": {
   "argv": [
    "/usr/bin/python3",
    "-m",
    "ipykernel_launcher",
    "-f",
    "{connection_file}"
   ],
   "display_name": "Python 3 (ipykernel)",
   "env": null,
   "interrupt_mode": "signal",
   "language": "python",
   "metadata": {
    "debugger": true
   },
   "name": "python3"
  },
  "language_info": {
   "codemirror_mode": {
    "name": "ipython",
    "version": 3
   },
   "file_extension": ".py",
   "mimetype": "text/x-python",
   "name": "python",
   "nbconvert_exporter": "python",
   "pygments_lexer": "ipython3",
   "version": "3.6.4"
  },
  "name": "ex.I.7.14.ii.ipynb"
 },
 "nbformat": 4,
 "nbformat_minor": 5
}
