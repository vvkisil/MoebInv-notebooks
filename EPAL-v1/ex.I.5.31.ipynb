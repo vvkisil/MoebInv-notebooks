{
 "cells": [
  {
   "cell_type": "markdown",
   "id": "5edf5182-4f6a-4ead-94d8-b1d5046464d6",
   "metadata": {
    "collapsed": false
   },
   "source": [
    "<table style=\"width:100%\">\n",
    "    <tr>\n",
    "        <td>\n",
    "            <a href=\"http://www1.maths.leeds.ac.uk/~kisilv/MoebInv-notebooks/EPAL-v1/ex.I.5.31.html\">\n",
    "  <img src=\"../svg/view-html.svg\" alt=\"Open In Colab\"/>\n",
    "            </a>\n",
    "        </td>\n",
    "        <td>\n",
    "<a href=\"https://github.com/vvkisil/MoebInv-notebooks/blob/master/EPAL-v1/ex.I.5.31.ipynb\">\n",
    "  <img src=\"../svg/open-github.svg\" alt=\"Open In Colab\"/>\n",
    "            </a>\n",
    "        </td>\n",
    "        <td>\n",
    "            <a href=\"https://colab.research.google.com/github/vvkisil/MoebInv-notebooks/blob/master/EPAL-v1/ex.I.5.31.ipynb\">\n",
    "  <img src=\"../svg/exec-colab.svg\" alt=\"Open In Colab\"/>\n",
    "            </a>\n",
    "        </td>\n",
    "        <td>\n",
    "            <a href=\"https://codeocean.com/capsule/7952650/tree\">\n",
    "  <img src=\"../svg/code-ocean.svg\" alt=\"Code Ocean\"/>\n",
    "            </a>\n",
    "        </td>\n",
    "    </tr>\n",
    " </table>\n",
    "\n",
    "<a  align=\"center\" href=\"https://colab.research.google.com/github/vvkisil/MoebInv-notebooks/blob/master/Introduction/Software_installation_GUI_integration.ipynb\">Google CoLab software installation</a>\n"
   ]
  },
  {
   "cell_type": "markdown",
   "id": "cde287bc-75a8-4387-981e-b80988e9fc7f",
   "metadata": {
    "collapsed": false,
    "ein.tags": "worksheet-0",
    "slideshow": {
     "slide_type": "-"
    }
   },
   "source": [
    "# Relations between tangency and parallelity\n",
    "\n",
    "**Exercise I.5.31** [ [1] ](#[1]) Check that:\n",
    "1. Straight lines touching the  zero-radius cycle at infinity.\n",
    "2 Two straight lines are parallel if and only if they are touching (at infinity)."
   ]
  },
  {
   "cell_type": "markdown",
   "id": "80c06865-d374-47ca-9df8-3d70c2a374be",
   "metadata": {
    "collapsed": false,
    "ein.tags": "worksheet-0",
    "slideshow": {
     "slide_type": "-"
    }
   },
   "source": [
    "**Solution.**  The function to check the tangency, its zero value correspond to tangent cycles "
   ]
  },
  {
   "cell_type": "code",
   "execution_count": null,
   "id": "08e57fec-d7c6-459c-96e7-78c6162f0430",
   "metadata": {
    "autoscroll": false,
    "collapsed": false,
    "ein.hycell": false,
    "ein.tags": "worksheet-0",
    "slideshow": {
     "slide_type": "-"
    }
   },
   "outputs": [],
   "source": [
    "from init_cycle import *\n",
    "def tangency(C, C1):\n",
    "    return (pow(C.cycle_product(C1),2)-C.cycle_product(C)*C1.cycle_product(C1))\\\n",
    "    .normal()"
   ]
  },
  {
   "cell_type": "markdown",
   "id": "8d3bac5f-ab65-45da-86b4-650c433ffcc0",
   "metadata": {
    "collapsed": false,
    "ein.tags": "worksheet-0",
    "slideshow": {
     "slide_type": "-"
    }
   },
   "source": [
    "Define two straight lines"
   ]
  },
  {
   "cell_type": "code",
   "execution_count": null,
   "id": "20515822-6892-40b2-8a00-f07d23ea9aa1",
   "metadata": {
    "autoscroll": false,
    "collapsed": false,
    "ein.hycell": false,
    "ein.tags": "worksheet-0",
    "slideshow": {
     "slide_type": "-"
    }
   },
   "outputs": [],
   "source": [
    "Cl=cycle(0,[l,n],m,e)\n",
    "Cl1=cycle(0,[l1,n1],m1,e)"
   ]
  },
  {
   "cell_type": "code",
   "execution_count": null,
   "id": "009e7387-333a-497f-8d22-f9cd320b18c5",
   "metadata": {
    "autoscroll": false,
    "collapsed": false,
    "ein.hycell": false,
    "ein.tags": "worksheet-0",
    "slideshow": {
     "slide_type": "-"
    }
   },
   "outputs": [],
   "source": [
    "(\"A cycle is orthogonal to infinity iff it is tangent to infinity: %s\"\\\n",
    "% (tangency(C,Zinf)-pow(C.cycle_product(Zinf),2)).normal().is_zero())"
   ]
  },
  {
   "cell_type": "markdown",
   "id": "4cfd1cec-7eff-417f-bad4-a3c9ff7e6960",
   "metadata": {
    "collapsed": false,
    "ein.tags": "worksheet-0",
    "slideshow": {
     "slide_type": "-"
    }
   },
   "source": [
    "Parallel line have equal slops $l/n = l_1/n_1$, or $l n_1-l_1 n=0$. "
   ]
  },
  {
   "cell_type": "code",
   "execution_count": null,
   "id": "ca6c8f57-557a-47b8-aa38-1dbde0fd12e8",
   "metadata": {
    "autoscroll": false,
    "collapsed": false,
    "ein.hycell": false,
    "ein.tags": "worksheet-0",
    "slideshow": {
     "slide_type": "-"
    }
   },
   "outputs": [],
   "source": [
    "(\"Tangency of lines is the same as parallelity: %s\" \\\n",
    "% (tangency(Cl,Cl1)-4*sign*pow(l*n1-n*l1,2)).normal().is_zero())"
   ]
  },
  {
   "cell_type": "markdown",
   "id": "36664475-c209-48fe-8e9c-40b66386492d",
   "metadata": {
    "collapsed": false
   },
   "source": [
    "\n",
    "This notebook is a part of the *MoebInv notebooks* project [ [2] ](#[2]).\n",
    "\n",
    "### References\n",
    "<a id=\"references\"></a>\n",
    "<a id=\"[1]\"></a>\n",
    "1. Vladimir V. Kisil. *Geometry of Möbius Transformations: Elliptic, Parabolic and Hyperbolic Actions of $SL_2(\\mathbb{R})$*. [Imperial College Press](https://www.worldscientific.com/worldscibooks/10.1142/p835), London, 2012. Includes a live DVD.\n",
    "\n",
    "   <a id=\"[2]\"></a>\n",
    "2.  Vladimir V. Kisil, [*MoebInv notebooks*](https://github.com/vvkisil/MoebInv-notebooks), 2019.\n",
    "\n",
    "[Back to Folder](https://github.com/vvkisil/MoebInv-notebooks/blob/master/EPAL-v1/)\n"
   ]
  }
 ],
 "metadata": {
  "kernelspec": {
   "argv": [
    "/usr/bin/python3",
    "-m",
    "ipykernel_launcher",
    "-f",
    "{connection_file}"
   ],
   "display_name": "Python 3 (ipykernel)",
   "env": null,
   "interrupt_mode": "signal",
   "language": "python",
   "metadata": {
    "debugger": true
   },
   "name": "python3"
  },
  "language_info": {
   "codemirror_mode": {
    "name": "ipython",
    "version": 3
   },
   "file_extension": ".py",
   "mimetype": "text/x-python",
   "name": "python",
   "nbconvert_exporter": "python",
   "pygments_lexer": "ipython3",
   "version": "3.6.4"
  },
  "name": "ex.I.5.31.ipynb"
 },
 "nbformat": 4,
 "nbformat_minor": 2
}
