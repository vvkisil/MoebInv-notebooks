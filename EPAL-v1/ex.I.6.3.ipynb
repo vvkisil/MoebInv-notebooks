{
 "cells": [
  {
   "cell_type": "markdown",
   "id": "b6cc54b6-5189-4d27-9949-cc0ad95774b1",
   "metadata": {
    "collapsed": false
   },
   "source": [
    "<table style=\"width:100%\">\n",
    "    <tr>\n",
    "        <td>\n",
    "            <a href=\"http://www1.maths.leeds.ac.uk/~kisilv/MoebInv-notebooks/EPAL-v1/ex.I.6.3.html\">\n",
    "  <img src=\"../svg/view-html.svg\" alt=\"Open In Colab\"/>\n",
    "            </a>\n",
    "        </td>\n",
    "        <td>\n",
    "<a href=\"https://github.com/vvkisil/MoebInv-notebooks/blob/master/EPAL-v1/ex.I.6.3.ipynb\">\n",
    "  <img src=\"../svg/open-github.svg\" alt=\"Open In Colab\"/>\n",
    "            </a>\n",
    "        </td>\n",
    "        <td>\n",
    "            <a href=\"https://colab.research.google.com/github/vvkisil/MoebInv-notebooks/blob/master/EPAL-v1/ex.I.6.3.ipynb\">\n",
    "  <img src=\"../svg/exec-colab.svg\" alt=\"Open In Colab\"/>\n",
    "            </a>\n",
    "        </td>\n",
    "        <td>\n",
    "            <a href=\"https://codeocean.com/capsule/7952650/tree\">\n",
    "  <img src=\"../svg/code-ocean.svg\" alt=\"Code Ocean\"/>\n",
    "            </a>\n",
    "        </td>\n",
    "    </tr>\n",
    " </table>\n",
    "\n",
    "<a  align=\"center\" href=\"https://colab.research.google.com/github/vvkisil/MoebInv-notebooks/blob/master/Introduction/Software_installation_GUI_integration.ipynb\">Google CoLab software installation</a>\n"
   ]
  },
  {
   "cell_type": "markdown",
   "id": "f9db48b8-83ca-4ab2-b32d-83f7e5ffa9b0",
   "metadata": {
    "collapsed": false,
    "ein.tags": "worksheet-0",
    "slideshow": {
     "slide_type": "-"
    }
   },
   "source": [
    "# Geometric orthogonality condition for circles and hyperbolas\n",
    "\n",
    "**Exercise I.6.3** [ [1] ](#[1])\n",
    "$\n",
    "\\newcommand{\\scalar}[3][]{\\left\\langle #2,#3 \n",
    "        \\right\\rangle_{#1}}\n",
    "\\newcommand{\\Space}[3][]{\\mathbb{#2}^{#3}_{#1}}\n",
    "\\newcommand{\\Space}[3][]{\\mathbb{#2}^{#3}_{#1}}\n",
    "  \\newcommand{\\cycle}[3][]{{#1 C^{#2}_{#3}}}\n",
    "  \\newcommand{\\realline}[3][]{#1 R^{#2}_{#3}}\n",
    "  \\newcommand{\\bs}{\\breve{\\sigma}}\n",
    "  \\newcommand{\\zcycle}[3][]{#1 Z^{#2}_{#3}}\n",
    "  \\newcommand{\\SL}[1][2]{\\mathrm{SL}_{#1}(\\Space{R}{})}\n",
    "  \\newcommand{\\rs}{\\sigma_r}\n",
    "  \\newcommand{\\lvec}[1]{\\overrightarrow{#1}}\n",
    "\\newcommand{\\rmi}{\\mathrm{i}}\n",
    "\\newcommand{\\alli}{\\iota}\n",
    "\\newcommand{\\rme}{\\mathrm{e}}\n",
    "\\newcommand{\\rmd}{\\mathrm{d}}\n",
    "\\newcommand{\\rmh}{\\mathrm{j}}\n",
    "\\newcommand{\\rmp}{\\varepsilon}\n",
    "\\newcommand{\\modulus}[2][]{\\left| #2 \\right|_{#1}}\n",
    "\\newcommand{\\sperp}{⋋}\n",
    "$\n",
    "Check the following geometrical meaning \n",
    "  for $\\sigma$-orthogonality of $\\sigma$-cycles.\n",
    "\n",
    "1. (e,h) Let $\\sigma=\\pm 1$. Then, two cycles in\n",
    "    $\\Space[\\sigma]{R}{}$ (that is, circles or hyperbolas) are\n",
    "    $\\sigma$-orthogonal if slopes $S_1$ and $S_2$ of their\n",
    "    tangents at the intersection point satisfy the condition\n",
    "    \\begin{equation}\n",
    "      \\label{eq:ortho-slopes-rel}\n",
    "      S_1 S_2=\\sigma. \n",
    "    \\end{equation}\n",
    "    The geometrical meaning of this condition can be given either in terms\n",
    "    of angles (A) or centres (C):\n",
    "\n",
    "  + (A) For the case $\\sigma=-1$ (circles),\n",
    "      equation implies orthogonality of the\n",
    "      tangents. For\n",
    "      $\\sigma=1$, two hyperbolas are h-orthogonal if lines with the\n",
    "      slopes $\\pm 1$ bisect the angle of intersection of the\n",
    "      hyperbolas.\n",
    "      \n",
    "      **Hiint.**\n",
    "        Define a cycle $\\cycle{}{\\sigma}$ by the condition that it\n",
    "        passes a point $(u,v)\\in\\Space[\\sigma]{R}{}$. Define a second\n",
    "        cycle $\\cycle[\\tilde]{}{\\sigma}$ by both conditions: it passes\n",
    "        the same point $(u,v)$ and is orthogonal to\n",
    "        $\\cycle{}{\\sigma}$. Then use the implicit derivative formula to\n",
    "        find the slopes of tangents to $\\cycle{}{\\sigma}$ and\n",
    "        $\\cycle[\\tilde]{}{\\sigma}$ at $(u,v)$. A script calculating\n",
    "        this in CAS is also provided.\n",
    "\n",
    "  + (C) In the cases $\\sigma=\\pm 1$, the tangent to one cycle\n",
    "      at the intersection point passes the centre of another cycle.\n",
    "      \n",
    "      **Hint.**\n",
    "        This fact is clear for circles from inspection of, say,\n",
    "        Fig. For hyperbolas, it is enough\n",
    "        to observe that the slope of the tangent to a hyperbola\n",
    "        $y=1/x$ at a point $(x, 1/x)$ is $-1/x^2$ and the slope\n",
    "        of the line from the centre $(0,0)$ to the point $(x,1/x)$\n",
    "        is $1/x^2$, so the angle between two lines is bisected by\n",
    "        a vertical/horizontal line. All our hyperbolas are obtained from\n",
    "        $y=1/x$ by rotation of $\\pm 45 ^\\circ$ and scaling.\n",
    "\n",
    "2. (p) Let $\\sigma=0$ and a parabola $\\cycle{}{p}$ have two\n",
    "    real roots $u_1$ and $u_2$. If a parabola\n",
    "    $\\cycle[\\tilde]{}{p}$ is $p$-orthogonal to $\\cycle{}{p}$,\n",
    "    then the tangent to $\\cycle[\\tilde]{}{p}$ at a point above one\n",
    "    of the roots $u_{1,2}$ passes the p-centre\n",
    "    $(\\frac{u_1+u_2}{2},0)$ of $\\cycle{}{p}$."
   ]
  },
  {
   "cell_type": "markdown",
   "id": "c1e78a3d-2ed2-4c7d-87a9-49a9f46f0aeb",
   "metadata": {
    "collapsed": false,
    "ein.tags": "worksheet-0",
    "slideshow": {
     "slide_type": "-"
    }
   },
   "source": [
    "**Solution.**  Define a cycle passing point (u,v) "
   ]
  },
  {
   "cell_type": "code",
   "execution_count": null,
   "id": "18812c2d-166f-4dd2-8132-84aafbd192e3",
   "metadata": {
    "autoscroll": false,
    "collapsed": false,
    "ein.hycell": false,
    "ein.tags": "worksheet-0",
    "slideshow": {
     "slide_type": "-"
    }
   },
   "outputs": [],
   "source": [
    "from init_cycle import *\n",
    "C3=C.subject_to(C.passing(P))"
   ]
  },
  {
   "cell_type": "markdown",
   "id": "e098684e-237f-4492-b0a8-d3e91f51e372",
   "metadata": {
    "collapsed": false,
    "ein.tags": "worksheet-0",
    "slideshow": {
     "slide_type": "-"
    }
   },
   "source": [
    "Define a cycle passing the same point and being orthogonal to C3"
   ]
  },
  {
   "cell_type": "code",
   "execution_count": null,
   "id": "a25610a8-7090-4187-9e8c-892ff0e0ca32",
   "metadata": {
    "autoscroll": false,
    "collapsed": false,
    "ein.hycell": false,
    "ein.tags": "worksheet-0",
    "slideshow": {
     "slide_type": "-"
    }
   },
   "outputs": [],
   "source": [
    "C4=C1.subject_to([C1.passing(P), C1.is_orthogonal(C3)])"
   ]
  },
  {
   "cell_type": "markdown",
   "id": "76ad80a2-33a1-4f9f-8c23-816efc0562e5",
   "metadata": {
    "collapsed": false,
    "ein.tags": "worksheet-0",
    "slideshow": {
     "slide_type": "-"
    }
   },
   "source": [
    "Evaluate tangent slope of C3 at P1"
   ]
  },
  {
   "cell_type": "code",
   "execution_count": null,
   "id": "eb333fc1-0a21-478e-a24c-c4cc7f4080f3",
   "metadata": {
    "autoscroll": false,
    "collapsed": false,
    "ein.hycell": false,
    "ein.tags": "worksheet-0",
    "slideshow": {
     "slide_type": "-"
    }
   },
   "outputs": [],
   "source": [
    "Sl3=C3.val(P1).diff(u1)/C3.val(P1).diff(v1)"
   ]
  },
  {
   "cell_type": "markdown",
   "id": "67abdfc8-63d0-4786-929c-d50f33f9ebde",
   "metadata": {
    "collapsed": false,
    "ein.tags": "worksheet-0",
    "slideshow": {
     "slide_type": "-"
    }
   },
   "source": [
    "Evaluate tangent slope of C4 at P1"
   ]
  },
  {
   "cell_type": "code",
   "execution_count": null,
   "id": "3d1662f0-282b-4282-a138-9a7e9ab31f24",
   "metadata": {
    "autoscroll": false,
    "collapsed": false,
    "ein.hycell": false,
    "ein.tags": "worksheet-0",
    "slideshow": {
     "slide_type": "-"
    }
   },
   "outputs": [],
   "source": [
    "Sl4=C4.val(P1).diff(u1)/C4.val(P1).diff(v1)"
   ]
  },
  {
   "cell_type": "markdown",
   "id": "4eab361a-1f6f-4d74-93dc-520bd390fdb2",
   "metadata": {
    "collapsed": false,
    "ein.tags": "worksheet-0",
    "slideshow": {
     "slide_type": "-"
    }
   },
   "source": [
    "Check the orthogonality relation for circles and hyperbolas\n",
    "this is the case of $\\sigma=1$ or $-1$, then $\\sigma^2=1$."
   ]
  },
  {
   "cell_type": "code",
   "execution_count": null,
   "id": "9a721696-ee8b-475f-9d38-8c05fdf1267c",
   "metadata": {
    "autoscroll": false,
    "collapsed": false,
    "ein.hycell": false,
    "ein.tags": "worksheet-0",
    "slideshow": {
     "slide_type": "-"
    }
   },
   "outputs": [],
   "source": [
    "\"Tangents of orthogonal circles at an intersection point are perpendicular\" \\\n",
    " + \"and slopes of orthogonal hyperbolas at an intersection point are reciprocal: %s\" % \\\n",
    "(Sl3*Sl4-sign).subs({u1 : u, v1 : v}).normal()\\\n",
    ".subs({pow(sign,2) : 1}, subs_options.algebraic).is_zero()"
   ]
  },
  {
   "cell_type": "markdown",
   "id": "8c2bf929-79c0-4269-8bcb-3c99400a5bd4",
   "metadata": {
    "collapsed": false,
    "ein.tags": "worksheet-0",
    "slideshow": {
     "slide_type": "-"
    }
   },
   "source": [
    "Check the geometric orthogonality condition for parabolas<br>\n",
    "Define a point above the root of the first parabola"
   ]
  },
  {
   "cell_type": "code",
   "execution_count": null,
   "id": "6531d167-1154-443c-b64f-67fc4da2e2ec",
   "metadata": {
    "autoscroll": false,
    "collapsed": false,
    "ein.hycell": false,
    "ein.tags": "worksheet-0",
    "slideshow": {
     "slide_type": "-"
    }
   },
   "outputs": [],
   "source": [
    "P2=[C.roots()[0],v]"
   ]
  },
  {
   "cell_type": "markdown",
   "id": "81218806-400c-4429-9453-fe2009cc6f64",
   "metadata": {
    "collapsed": false,
    "ein.tags": "worksheet-0",
    "slideshow": {
     "slide_type": "-"
    }
   },
   "source": [
    "Define a cycle passing this point and being orthogonal to C"
   ]
  },
  {
   "cell_type": "code",
   "execution_count": null,
   "id": "748ed014-fcfc-4e96-a08c-8d77b41bf2ca",
   "metadata": {
    "autoscroll": false,
    "collapsed": false,
    "ein.hycell": false,
    "ein.tags": "worksheet-0",
    "slideshow": {
     "slide_type": "-"
    }
   },
   "outputs": [],
   "source": [
    "C5=C1.subject_to([C1.passing(P2), C1.is_orthogonal(C)])"
   ]
  },
  {
   "cell_type": "markdown",
   "id": "8534e5ac-b9db-49a0-8172-360d0a29c047",
   "metadata": {
    "collapsed": false,
    "ein.tags": "worksheet-0",
    "slideshow": {
     "slide_type": "-"
    }
   },
   "source": [
    "Calculate the slop of the parabola"
   ]
  },
  {
   "cell_type": "code",
   "execution_count": null,
   "id": "34795f3f-1d0a-45bd-a30d-752b728c9eab",
   "metadata": {
    "autoscroll": false,
    "collapsed": false,
    "ein.hycell": false,
    "ein.tags": "worksheet-0",
    "slideshow": {
     "slide_type": "-"
    }
   },
   "outputs": [],
   "source": [
    "Sl5=C5.val(P1).diff(u1)/C5.val(P1).diff(v1)\n",
    "\"Tangent to first parabola above second's root passes second's centre: %s\" %\\\n",
    "(Sl5-v/(C.center()[0]-P2[0])).subs({u1 : P2[0], v1 : P2[1], sign : 0})\\\n",
    ".numer().normal().is_zero()"
   ]
  },
  {
   "cell_type": "markdown",
   "id": "3d203c58-49f5-4e33-84ec-cea152305f2b",
   "metadata": {
    "collapsed": false
   },
   "source": [
    "\n",
    "This notebook is a part of the *MoebInv notebooks* project [ [2] ](#[2]).\n",
    "\n",
    "### References\n",
    "<a id=\"references\"></a>\n",
    "<a id=\"[1]\"></a>\n",
    "1. Vladimir V. Kisil. *Geometry of Möbius Transformations: Elliptic, Parabolic and Hyperbolic Actions of $SL_2(\\mathbb{R})$*. [Imperial College Press](https://www.worldscientific.com/worldscibooks/10.1142/p835), London, 2012. Includes a live DVD.\n",
    "\n",
    "   <a id=\"[2]\"></a>\n",
    "2.  Vladimir V. Kisil, [*MoebInv notebooks*](https://github.com/vvkisil/MoebInv-notebooks), 2019.\n",
    "\n",
    "[Back to Folder](https://github.com/vvkisil/MoebInv-notebooks/blob/master/EPAL-v1/)\n"
   ]
  }
 ],
 "metadata": {
  "kernelspec": {
   "argv": [
    "/usr/bin/python3",
    "-m",
    "ipykernel_launcher",
    "-f",
    "{connection_file}"
   ],
   "display_name": "Python 3 (ipykernel)",
   "env": null,
   "interrupt_mode": "signal",
   "language": "python",
   "metadata": {
    "debugger": true
   },
   "name": "python3"
  },
  "language_info": {
   "codemirror_mode": {
    "name": "ipython",
    "version": 3
   },
   "file_extension": ".py",
   "mimetype": "text/x-python",
   "name": "python",
   "nbconvert_exporter": "python",
   "pygments_lexer": "ipython3",
   "version": "3.6.4"
  },
  "name": "ex.I.6.3.ipynb"
 },
 "nbformat": 4,
 "nbformat_minor": 5
}
