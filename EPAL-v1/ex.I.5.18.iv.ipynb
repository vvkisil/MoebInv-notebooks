{
 "cells": [
  {
   "cell_type": "markdown",
   "id": "39b31cb1-eeb4-4144-87fb-5aa1d252213a",
   "metadata": {
    "collapsed": false
   },
   "source": [
    "<table style=\"width:100%\">\n",
    "    <tr>\n",
    "        <td>\n",
    "            <a href=\"http://v-v-kisil.rf.gd/MoebInv-notebooks/EPAL-v1/ex.I.5.18.iv.html\">\n",
    "  <img src=\"../svg/view-html.svg\" alt=\"Open In Colab\"/>\n",
    "            </a>\n",
    "        </td>\n",
    "        <td>\n",
    "<a href=\"https://github.com/vvkisil/MoebInv-notebooks/blob/master/EPAL-v1/ex.I.5.18.iv.ipynb\">\n",
    "  <img src=\"../svg/open-github.svg\" alt=\"Open In Colab\"/>\n",
    "            </a>\n",
    "        </td>\n",
    "        <td>\n",
    "            <a href=\"https://colab.research.google.com/github/vvkisil/MoebInv-notebooks/blob/master/EPAL-v1/ex.I.5.18.iv.ipynb\">\n",
    "  <img src=\"../svg/exec-colab.svg\" alt=\"Open In Colab\"/>\n",
    "            </a>\n",
    "        </td>\n",
    "        <td>\n",
    "            <a href=\"https://codeocean.com/capsule/7952650/tree\">\n",
    "  <img src=\"../svg/code-ocean.svg\" alt=\"Code Ocean\"/>\n",
    "            </a>\n",
    "        </td>\n",
    "    </tr>\n",
    " </table>\n",
    "\n",
    "<a  align=\"center\" href=\"https://colab.research.google.com/github/vvkisil/MoebInv-notebooks/blob/master/Introduction/Software_installation_GUI_integration.ipynb\">Google CoLab software installation</a>\n"
   ]
  },
  {
   "cell_type": "markdown",
   "id": "60258cb4-163f-4a30-ae38-cda49d5972b6",
   "metadata": {
    "collapsed": false,
    "ein.tags": "worksheet-0",
    "slideshow": {
     "slide_type": "-"
    }
   },
   "source": [
    "# We check properties of h-zero-radius cycles\n",
    "\n",
    "**Exercise I.5.18.iv** [ [1] ](#[1]) \n",
    "$\\newcommand{\\scalar}[3][]{\\left\\langle #2,#3 \n",
    "        \\right\\rangle_{#1}}\n",
    "\\newcommand{\\Space}[3][]{\\mathbb{#2}^{#3}_{#1}}\n",
    "\\newcommand{\\Space}[3][]{\\mathbb{#2}^{#3}_{#1}}\n",
    "  \\newcommand{\\cycle}[3][]{{#1 C^{#2}_{#3}}}\n",
    "  \\newcommand{\\realline}[3][]{#1 R^{#2}_{#3}}\n",
    "  \\newcommand{\\bs}{\\breve{\\sigma}}\n",
    "  \\newcommand{\\zcycle}[3][]{#1 Z^{#2}_{#3}}\n",
    "  \\newcommand{\\SL}[1][2]{\\mathrm{SL}_{#1}(\\Space{R}{})}\n",
    "  \\newcommand{\\rs}{\\sigma_r}\n",
    "  \\newcommand{\\lvec}[1]{\\overrightarrow{#1}}\n",
    "\\newcommand{\\rmi}{\\mathrm{i}}\n",
    "\\newcommand{\\alli}{\\iota}\n",
    "\\newcommand{\\rme}{\\mathrm{e}}\n",
    "\\newcommand{\\rmd}{\\mathrm{d}}\n",
    "\\newcommand{\\rmh}{\\mathrm{j}}\n",
    "\\newcommand{\\rmp}{\\varepsilon}\n",
    "\\newcommand{\\modulus}[2][]{\\left| #2 \\right|_{#1}}\n",
    "\\newcommand{\\sperp}{⋋}\n",
    "$\n",
    "An h-zero-radius cycle\n",
    "    in $\\Space[\\sigma]{R}{}$ with the\n",
    "    e-center $(a,b)$ intersects the real axis at points $(a\\pm\n",
    "    b,0)$ with slopes $\\pm1$. Furthermore, the h-centre of this cycle\n",
    "    coincides with its e-focus. \n",
    "    \n",
    "**Hint.**\n",
    "      For slopes, use implicit derivation.  Also, for a parabola, it\n",
    "      follows from the Exercise I.5.17.iii and the\n",
    "      classical reflection property of parabolas."
   ]
  },
  {
   "cell_type": "markdown",
   "id": "f34f8cea-c6dd-4b80-ac0f-704b130a40dc",
   "metadata": {
    "collapsed": false,
    "ein.tags": "worksheet-0",
    "slideshow": {
     "slide_type": "-"
    }
   },
   "source": [
    "**Solution.** Create an h-zero-radius cycle with the e-centre at $(a,b)$ "
   ]
  },
  {
   "cell_type": "code",
   "execution_count": null,
   "id": "601055b8-36de-4715-bf95-d019610fc164",
   "metadata": {
    "autoscroll": false,
    "collapsed": false,
    "ein.hycell": false,
    "ein.tags": "worksheet-0",
    "slideshow": {
     "slide_type": "-"
    }
   },
   "outputs": [],
   "source": [
    "from init_cycle import *\n",
    "C0=cycle2D([a,b],e,0,es).subs(sign1==1)"
   ]
  },
  {
   "cell_type": "code",
   "execution_count": null,
   "id": "416621ea-6779-4869-8055-c89f32c334d4",
   "metadata": {
    "autoscroll": false,
    "collapsed": false,
    "ein.hycell": false,
    "ein.tags": "worksheet-0",
    "slideshow": {
     "slide_type": "-"
    }
   },
   "outputs": [],
   "source": [
    "(\"h-zero-radius cycle centered at (a,b) intersects the real line at points (a-b) and (a+b): %s\" %\\\n",
    "(C0.val([a-b,0]).normal().is_zero() and C0.val([a+b,0]).normal().is_zero()))"
   ]
  },
  {
   "cell_type": "markdown",
   "id": "d540f82b-c8d2-479a-96f3-15a0bb606b59",
   "metadata": {
    "collapsed": false,
    "ein.tags": "worksheet-0",
    "slideshow": {
     "slide_type": "-"
    }
   },
   "source": [
    "Find the implicit derivative "
   ]
  },
  {
   "cell_type": "code",
   "execution_count": null,
   "id": "ecd7f2f2-59ea-4240-87a4-11618100cfc6",
   "metadata": {
    "autoscroll": false,
    "collapsed": false,
    "ein.hycell": false,
    "ein.tags": "worksheet-0",
    "slideshow": {
     "slide_type": "-"
    }
   },
   "outputs": [],
   "source": [
    "E=C0.val([u,v])\n",
    "D=E.diff(u)/E.diff(v)"
   ]
  },
  {
   "cell_type": "code",
   "execution_count": null,
   "id": "6f6da75c-418a-4191-8d07-2f20153b8e32",
   "metadata": {
    "autoscroll": false,
    "collapsed": false,
    "ein.hycell": false,
    "ein.tags": "worksheet-0",
    "slideshow": {
     "slide_type": "-"
    }
   },
   "outputs": [],
   "source": [
    "(\"Slopes of h-zero-radius cycle at the intersection points with the real axis are %s and %s \" %\\\n",
    "(D.subs({v : 0, u : a-b}), D.subs({v : 0, u : a+b})))"
   ]
  },
  {
   "cell_type": "code",
   "execution_count": null,
   "id": "ca36538f-d2b4-4108-af61-2ec555ed1788",
   "metadata": {
    "autoscroll": false,
    "collapsed": false,
    "ein.hycell": false,
    "ein.tags": "worksheet-0",
    "slideshow": {
     "slide_type": "-"
    }
   },
   "outputs": [],
   "source": [
    "(\"h-center and e-Focus of this cycle coinside %s %s\" % \\\n",
    "(C0.focus(es)[0].is_equal(C0.center()[0]),\\\n",
    "C0.focus(es)[1].subs({sign1 : -1}).is_equal(C0.center()[1].subs({sign : 1}))))"
   ]
  },
  {
   "cell_type": "markdown",
   "id": "499d9522-9c47-47f0-b709-40e24ff4747b",
   "metadata": {
    "collapsed": false
   },
   "source": [
    "\n",
    "This notebook is a part of the *MoebInv notebooks* project [ [2] ](#[2]).\n",
    "\n",
    "### References\n",
    "<a id=\"references\"></a>\n",
    "<a id=\"[1]\"></a>\n",
    "1. Vladimir V. Kisil. *Geometry of Möbius Transformations: Elliptic, Parabolic and Hyperbolic Actions of $SL_2(\\mathbb{R})$*. [Imperial College Press](https://www.worldscientific.com/worldscibooks/10.1142/p835), London, 2012. Includes a live DVD.\n",
    "\n",
    "   <a id=\"[2]\"></a>\n",
    "2.  Vladimir V. Kisil, [*MoebInv notebooks*](https://github.com/vvkisil/MoebInv-notebooks), 2019.\n",
    "\n",
    "[Back to Folder](https://github.com/vvkisil/MoebInv-notebooks/blob/master/EPAL-v1/)\n"
   ]
  }
 ],
 "metadata": {
  "kernelspec": {
   "argv": [
    "/usr/bin/python3",
    "-m",
    "ipykernel_launcher",
    "-f",
    "{connection_file}"
   ],
   "display_name": "Python 3 (ipykernel)",
   "env": null,
   "interrupt_mode": "signal",
   "language": "python",
   "metadata": {
    "debugger": true
   },
   "name": "python3"
  },
  "language_info": {
   "codemirror_mode": {
    "name": "ipython",
    "version": 3
   },
   "file_extension": ".py",
   "mimetype": "text/x-python",
   "name": "python",
   "nbconvert_exporter": "python",
   "pygments_lexer": "ipython3",
   "version": "3.6.4"
  },
  "name": "ex.I.5.18.iv.ipynb"
 },
 "nbformat": 4,
 "nbformat_minor": 5
}
