{
 "cells": [
  {
   "cell_type": "markdown",
   "id": "5fc87686-348c-4216-8aff-668e15adeb00",
   "metadata": {
    "collapsed": false
   },
   "source": [
    "<table style=\"width:100%\">\n",
    "    <tr>\n",
    "        <td>\n",
    "            <a href=\"http://www1.maths.leeds.ac.uk/~kisilv/MoebInv-notebooks/EPAL-v1/ex.I.3.25.html\">\n",
    "  <img src=\"../svg/view-html.svg\" alt=\"Open In Colab\"/>\n",
    "            </a>\n",
    "        </td>\n",
    "        <td>\n",
    "<a href=\"https://github.com/vvkisil/MoebInv-notebooks/blob/master/EPAL-v1/ex.I.3.25.ipynb\">\n",
    "  <img src=\"../svg/open-github.svg\" alt=\"Open In Colab\"/>\n",
    "            </a>\n",
    "        </td>\n",
    "        <td>\n",
    "            <a href=\"https://colab.research.google.com/github/vvkisil/MoebInv-notebooks/blob/master/EPAL-v1/ex.I.3.25.ipynb\">\n",
    "  <img src=\"../svg/exec-colab.svg\" alt=\"Open In Colab\"/>\n",
    "            </a>\n",
    "        </td>\n",
    "        <td>\n",
    "            <a href=\"https://codeocean.com/capsule/7952650/tree\">\n",
    "  <img src=\"../svg/code-ocean.svg\" alt=\"Code Ocean\"/>\n",
    "            </a>\n",
    "        </td>\n",
    "    </tr>\n",
    " </table>\n",
    "\n",
    "<a  align=\"center\" href=\"https://colab.research.google.com/github/vvkisil/MoebInv-notebooks/blob/master/Introduction/Software_installation_GUI_integration.ipynb\">Google CoLab software installation</a>\n"
   ]
  },
  {
   "cell_type": "markdown",
   "id": "83b7588a-08b2-4660-8d2d-bbf24d24a41e",
   "metadata": {
    "collapsed": false,
    "ein.tags": "worksheet-0",
    "slideshow": {
     "slide_type": "-"
    }
   },
   "source": [
    "# We check that trigonometric formulae\n",
    "\n",
    "**Exercise I.3.25** [ [1] ](#[1])\n",
    "$\n",
    "\\newcommand{\\scalar}[3][]{\\left\\langle #2,#3 \n",
    "        \\right\\rangle_{#1}}\n",
    "\\newcommand{\\Space}[3][]{\\mathbb{#2}^{#3}_{#1}}\n",
    "\\newcommand{\\Space}[3][]{\\mathbb{#2}^{#3}_{#1}}\n",
    "  \\newcommand{\\cycle}[3][]{{#1 C^{#2}_{#3}}}\n",
    "  \\newcommand{\\realline}[3][]{#1 R^{#2}_{#3}}\n",
    "  \\newcommand{\\bs}{\\breve{\\sigma}}\n",
    "  \\newcommand{\\zcycle}[3][]{#1 Z^{#2}_{#3}}\n",
    "  \\newcommand{\\SL}[1][2]{\\mathrm{SL}_{#1}(\\Space{R}{})}\n",
    "  \\newcommand{\\rs}{\\sigma_r}\n",
    "  \\newcommand{\\lvec}[1]{\\overrightarrow{#1}}\n",
    "\\newcommand{\\rmi}{\\mathrm{i}}\n",
    "\\newcommand{\\alli}{\\iota}\n",
    "\\newcommand{\\rme}{\\mathrm{e}}\n",
    "\\newcommand{\\rmd}{\\mathrm{d}}\n",
    "\\newcommand{\\rmh}{\\mathrm{j}}\n",
    "\\newcommand{\\rmp}{\\varepsilon}\n",
    "\\newcommand{\\modulus}[2][]{\\left| #2 \\right|_{#1}}\n",
    "\\newcommand{\\sperp}{⋋}\n",
    "$\n",
    "  Let $P$ and  $P'$ be two vectors tangent to\n",
    "  $\\Space[\\sigma]{R}{2}$ at $\\alli$. Denote by $\\tilde{P}$ and\n",
    "  $\\tilde{P}'$ images of $P$ and $P'$ under the action of the\n",
    "  matrix $      \\begin{pmatrix}\n",
    "    a\\, & \\sigma b\\\\\n",
    "    b & a\n",
    "  \\end{pmatrix}$ from the corresponding isotropy subgroup. Then:\n",
    "1. The angle between a vector and its image is independent from\n",
    "    the vector:\n",
    "    \\begin{equation}\n",
    "      \\tan_\\sigma (P,\\tilde{P})=\\frac{2ab}{a^2+\\sigma b^2}\\,.   \n",
    "    \\end{equation}\n",
    "2.  The angle between vectors is preserved by the transformation:\n",
    "    $\\tan_\\sigma (P,P')=\\tan_\\sigma (\\tilde{P},\\tilde{P}')$. Since cosine and\n",
    "    sine are functions of the tangent they are preserved as well."
   ]
  },
  {
   "cell_type": "markdown",
   "id": "e1c8d08a-73d0-4978-93e3-478098fcff8e",
   "metadata": {
    "collapsed": false,
    "ein.tags": "worksheet-0",
    "slideshow": {
     "slide_type": "-"
    }
   },
   "source": [
    "**Solution.** First we make the routine to calculate images of tangent vectors"
   ]
  },
  {
   "cell_type": "code",
   "execution_count": null,
   "id": "d4ac7632-8af5-4350-86c5-2927e3e9944b",
   "metadata": {
    "autoscroll": false,
    "collapsed": false,
    "ein.hycell": false,
    "ein.tags": "worksheet-0",
    "slideshow": {
     "slide_type": "-"
    }
   },
   "outputs": [],
   "source": [
    "from init_cycle import *\n",
    "def diff_transform(a,b,e,U,V):\n",
    "    t=realsymbol(\"t\")\n",
    "    P=[0+t*U,1+t*V]\n",
    "    P1=clifford_moebius_map(sl2_clifford(a,sign*b,b,a,e),P,e)\n",
    "    return [P1[0].diff(t).subs({t : 0}).normal(),P1[1].diff(t).subs({t : 0}).normal()]"
   ]
  },
  {
   "cell_type": "markdown",
   "id": "5498f2f2-692f-4b03-8da2-b22e6413c1db",
   "metadata": {
    "collapsed": false,
    "ein.tags": "worksheet-0",
    "slideshow": {
     "slide_type": "-"
    }
   },
   "source": [
    "Then we calculate values at two points."
   ]
  },
  {
   "cell_type": "code",
   "execution_count": null,
   "id": "5a618941-3fbd-43a4-b3a3-32b90674fce0",
   "metadata": {
    "autoscroll": false,
    "collapsed": false,
    "ein.hycell": false,
    "ein.tags": "worksheet-0",
    "slideshow": {
     "slide_type": "-"
    }
   },
   "outputs": [],
   "source": [
    "T=v/u\n",
    "P0=diff_transform(a,b,e,u,v)\n",
    "Ti=P0[1]/P0[0]\n",
    "T1=v1/u1\n",
    "P1=diff_transform(a,b,e,u1,v1)\n",
    "T1i=P1[1]/P1[0]"
   ]
  },
  {
   "cell_type": "markdown",
   "id": "166a0a5a-3b6f-459a-b8e4-9ec1cb2af3b5",
   "metadata": {
    "collapsed": false,
    "ein.tags": "worksheet-0",
    "slideshow": {
     "slide_type": "-"
    }
   },
   "source": [
    "The routine to check the exercise, which we will use a couple of times."
   ]
  },
  {
   "cell_type": "code",
   "execution_count": null,
   "id": "e4766ae9-959e-45ee-abfd-18bec0f1d813",
   "metadata": {
    "autoscroll": false,
    "collapsed": false,
    "ein.hycell": false,
    "ein.tags": "worksheet-0",
    "slideshow": {
     "slide_type": "-"
    }
   },
   "outputs": [],
   "source": [
    "def make_check(T,T1,Ti,T1i):\n",
    "    display(Latex(\"The angle between vector and its image depends only on a and b: $%s$\" %\\\n",
    "    ((T-Ti)/(1-sign*T*Ti)).normal()))\n",
    "    return Latex(\"Tangents between initial vectors and their images are the same: %s\" %\\\n",
    "    (((T1-T)/(1-sign*T*T1))-(T1i-Ti)/(1-sign*Ti*T1i)).normal().is_zero())"
   ]
  },
  {
   "cell_type": "markdown",
   "id": "00c69d2a-620b-4e63-a8b1-275dae67ac20",
   "metadata": {
    "collapsed": false,
    "ein.tags": "worksheet-0",
    "slideshow": {
     "slide_type": "-"
    }
   },
   "source": [
    "And the check itself"
   ]
  },
  {
   "cell_type": "code",
   "execution_count": null,
   "id": "192b6ab7-a25a-4c6d-9206-3262a7e7df69",
   "metadata": {
    "autoscroll": false,
    "collapsed": false,
    "ein.hycell": false,
    "ein.tags": "worksheet-0",
    "slideshow": {
     "slide_type": "-"
    }
   },
   "outputs": [],
   "source": [
    "make_check(T,T1,Ti,T1i)"
   ]
  },
  {
   "cell_type": "markdown",
   "id": "e1851c81-2451-4f43-8bd0-59eea9854d87",
   "metadata": {
    "collapsed": false,
    "ein.tags": "worksheet-0",
    "slideshow": {
     "slide_type": "-"
    }
   },
   "source": [
    "The following alternative solution is a bit premature as we do not learned about cycles yet.\n",
    "\n",
    "First we define the tangent of a cycle `C` at a given point using implict derivative "
   ]
  },
  {
   "cell_type": "code",
   "execution_count": null,
   "id": "5e5158f8-b14f-48fd-abd9-4f6412ee3d66",
   "metadata": {
    "autoscroll": false,
    "collapsed": false,
    "ein.hycell": false,
    "ein.tags": "worksheet-0",
    "slideshow": {
     "slide_type": "-"
    }
   },
   "outputs": [],
   "source": [
    "def tan(C,ax,bx):\n",
    "    u=realsymbol(\"u\")\n",
    "    v=realsymbol(\"v\")\n",
    "    return (-C.val([u,v]).diff(u)/C.val([u,v]).diff(v)).subs({u : ax, v : bx})"
   ]
  },
  {
   "cell_type": "markdown",
   "id": "52185dbc-6fb2-4fc1-8b2d-b827aae9d0c3",
   "metadata": {
    "collapsed": false,
    "ein.tags": "worksheet-0",
    "slideshow": {
     "slide_type": "-"
    }
   },
   "source": [
    "Take a cycle passing the imaginary unit [0,1]"
   ]
  },
  {
   "cell_type": "code",
   "execution_count": null,
   "id": "2e90f3b5-c0ee-4a62-bc39-72cdfad8bde4",
   "metadata": {
    "autoscroll": false,
    "collapsed": false,
    "ein.hycell": false,
    "ein.tags": "worksheet-0",
    "slideshow": {
     "slide_type": "-"
    }
   },
   "outputs": [],
   "source": [
    "C0=C.subject_to([C.passing([0,1])])"
   ]
  },
  {
   "cell_type": "markdown",
   "id": "36a9ede6-7cb5-49a8-924c-2948887d6e9a",
   "metadata": {
    "collapsed": false,
    "ein.tags": "worksheet-0",
    "slideshow": {
     "slide_type": "-"
    }
   },
   "source": [
    "Here is the rotation around the point [0,1] by the matrix from K, N or A "
   ]
  },
  {
   "cell_type": "code",
   "execution_count": null,
   "id": "d2a12b2e-f70a-42d6-b17c-e9e885c34fb0",
   "metadata": {
    "autoscroll": false,
    "collapsed": false,
    "ein.hycell": false,
    "ein.tags": "worksheet-0",
    "slideshow": {
     "slide_type": "-"
    }
   },
   "outputs": [],
   "source": [
    "Ci=C0.sl2_similarity(a,sign*b,b,a,e)\n",
    "T=tan(C0,0,1)\n",
    "Ti=tan(Ci,0,1)"
   ]
  },
  {
   "cell_type": "markdown",
   "id": "07b68585-9d1e-43b3-a17d-8d785a959b30",
   "metadata": {
    "collapsed": false,
    "ein.tags": "worksheet-0",
    "slideshow": {
     "slide_type": "-"
    }
   },
   "source": [
    "The cycle `C10` through the point $(0.1)$ and its image `C1i` under the transformation."
   ]
  },
  {
   "cell_type": "code",
   "execution_count": null,
   "id": "dfe772b6-b40b-4499-909c-f75816781846",
   "metadata": {
    "autoscroll": false,
    "collapsed": false,
    "ein.hycell": false,
    "ein.tags": "worksheet-0",
    "slideshow": {
     "slide_type": "-"
    }
   },
   "outputs": [],
   "source": [
    "C10=C1.subject_to([C1.passing([0,1])])\n",
    "C1i=C10.sl2_similarity(a,sign*b,b,a,e)\n",
    "T1=tan(C10,0,1)\n",
    "T1i=tan(C1i,0,1)"
   ]
  },
  {
   "cell_type": "markdown",
   "id": "b3a9036d-d2dd-45ba-a77f-22dcfc7b475f",
   "metadata": {
    "collapsed": false,
    "ein.tags": "worksheet-0",
    "slideshow": {
     "slide_type": "-"
    }
   },
   "source": [
    "The result of check is the same as before:"
   ]
  },
  {
   "cell_type": "code",
   "execution_count": null,
   "id": "6fa2ada2-c34c-4db2-a5d7-f81bbca556cd",
   "metadata": {
    "autoscroll": false,
    "collapsed": false,
    "ein.hycell": false,
    "ein.tags": "worksheet-0",
    "slideshow": {
     "slide_type": "-"
    }
   },
   "outputs": [],
   "source": [
    "make_check(T,T1,Ti,T1i)"
   ]
  },
  {
   "cell_type": "markdown",
   "id": "c4bb8f72-0799-4a8d-8eee-ca1d729054fb",
   "metadata": {
    "collapsed": false
   },
   "source": [
    "\n",
    "This notebook is a part of the *MoebInv notebooks* project [ [2] ](#[2]).\n",
    "\n",
    "### References\n",
    "<a id=\"references\"></a>\n",
    "<a id=\"[1]\"></a>\n",
    "1. Vladimir V. Kisil. *Geometry of Möbius Transformations: Elliptic, Parabolic and Hyperbolic Actions of $SL_2(\\mathbb{R})$*. [Imperial College Press](https://www.worldscientific.com/worldscibooks/10.1142/p835), London, 2012. Includes a live DVD.\n",
    "\n",
    "   <a id=\"[2]\"></a>\n",
    "2.  Vladimir V. Kisil, [*MoebInv notebooks*](https://github.com/vvkisil/MoebInv-notebooks), 2019.\n",
    "\n",
    "[Back to Folder](https://github.com/vvkisil/MoebInv-notebooks/blob/master/EPAL-v1/)\n"
   ]
  }
 ],
 "metadata": {
  "kernelspec": {
   "argv": [
    "/usr/bin/python3",
    "-m",
    "ipykernel_launcher",
    "-f",
    "{connection_file}"
   ],
   "display_name": "Python 3 (ipykernel)",
   "env": null,
   "interrupt_mode": "signal",
   "language": "python",
   "metadata": {
    "debugger": true
   },
   "name": "python3"
  },
  "language_info": {
   "codemirror_mode": {
    "name": "ipython",
    "version": 3
   },
   "file_extension": ".py",
   "mimetype": "text/x-python",
   "name": "python",
   "nbconvert_exporter": "python",
   "pygments_lexer": "ipython3",
   "version": "3.6.4"
  },
  "name": "ex.I.3.25.ipynb"
 },
 "nbformat": 4,
 "nbformat_minor": 5
}
