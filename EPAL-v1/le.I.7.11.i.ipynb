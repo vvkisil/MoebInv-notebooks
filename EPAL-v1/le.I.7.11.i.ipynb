{
 "cells": [
  {
   "cell_type": "markdown",
   "id": "9423b0f1-44dd-4522-836b-750d308a2700",
   "metadata": {
    "collapsed": false
   },
   "source": [
    "<table style=\"width:100%\">\n",
    "    <tr>\n",
    "        <td>\n",
    "            <a href=\"http://v-v-kisil.rf.gd/MoebInv-notebooks/EPAL-v1/le.I.7.11.i.html\">\n",
    "  <img src=\"../svg/view-html.svg\" alt=\"Open In Colab\"/>\n",
    "            </a>\n",
    "        </td>\n",
    "        <td>\n",
    "<a href=\"https://github.com/vvkisil/MoebInv-notebooks/blob/master/EPAL-v1/le.I.7.11.i.ipynb\">\n",
    "  <img src=\"../svg/open-github.svg\" alt=\"Open In Colab\"/>\n",
    "            </a>\n",
    "        </td>\n",
    "        <td>\n",
    "            <a href=\"https://colab.research.google.com/github/vvkisil/MoebInv-notebooks/blob/master/EPAL-v1/le.I.7.11.i.ipynb\">\n",
    "  <img src=\"../svg/exec-colab.svg\" alt=\"Open In Colab\"/>\n",
    "            </a>\n",
    "        </td>\n",
    "        <td>\n",
    "            <a href=\"https://codeocean.com/capsule/7952650/tree\">\n",
    "  <img src=\"../svg/code-ocean.svg\" alt=\"Code Ocean\"/>\n",
    "            </a>\n",
    "        </td>\n",
    "    </tr>\n",
    " </table>\n",
    "\n",
    "<a  align=\"center\" href=\"https://colab.research.google.com/github/vvkisil/MoebInv-notebooks/blob/master/Introduction/Software_installation_GUI_integration.ipynb\">Google CoLab software installation</a>\n"
   ]
  },
  {
   "cell_type": "markdown",
   "id": "76f23daa-5693-45dd-bfa6-15e189a72ac1",
   "metadata": {
    "collapsed": false,
    "ein.tags": "worksheet-0",
    "slideshow": {
     "slide_type": "-"
    }
   },
   "source": [
    "# Lemma: explicit expressions for lengths from center\n",
    "\n",
    "**Lemma I.7.11.i** [ [1] ](#[1]) \n",
    "$\n",
    "\\newcommand{\\scalar}[3][]{\\left\\langle #2,#3 \n",
    "        \\right\\rangle_{#1}}\n",
    "\\newcommand{\\Space}[3][]{\\mathbb{#2}^{#3}_{#1}}\n",
    "\\newcommand{\\Space}[3][]{\\mathbb{#2}^{#3}_{#1}}\n",
    "  \\newcommand{\\cycle}[3][]{{#1 C^{#2}_{#3}}}\n",
    "  \\newcommand{\\realline}[3][]{#1 R^{#2}_{#3}}\n",
    "  \\newcommand{\\bs}{\\breve{\\sigma}}\n",
    "  \\newcommand{\\zcycle}[3][]{#1 Z^{#2}_{#3}}\n",
    "  \\newcommand{\\SL}[1][2]{\\mathrm{SL}_{#1}(\\Space{R}{})}\n",
    "  \\newcommand{\\rs}{\\sigma_r}\n",
    "  \\newcommand{\\lvec}[1]{\\overrightarrow{#1}}\n",
    "\\newcommand{\\rmi}{\\mathrm{i}}\n",
    "\\newcommand{\\alli}{\\iota}\n",
    "\\newcommand{\\rme}{\\mathrm{e}}\n",
    "\\newcommand{\\rmd}{\\mathrm{d}}\n",
    "\\newcommand{\\rmh}{\\mathrm{j}}\n",
    "\\newcommand{\\rmp}{\\varepsilon}\n",
    "\\newcommand{\\modulus}[2][]{\\left| #2 \\right|_{#1}}\n",
    "\\newcommand{\\sperp}{⋋}\n",
    "$\n",
    "  For two points $P=u+\\alli v$, $P'=u'+\\alli\n",
    "  v'\\in\\Space[\\sigma]{R}{}$, \n",
    "    the $\\bs$-length from the \\CAS{le-length-centre-exp}%\n",
    "    $\\rs$-centre%\n",
    "    \\index{length!from centre}%\n",
    "    \\index{centre!length from} for $\\rs=\\pm1$ between $P$ and\n",
    "    $P'$ is\n",
    "    \\begin{equation}\n",
    "      \\label{eq:k-center-point}\n",
    "      l_{c_{\\bs}}^2(\\lvec{PP'})   =  \n",
    " (u-u')^2-\\sigma v'^2+2\\rs v v' -\\bs v^2.\n",
    "    \\end{equation}\n"
   ]
  },
  {
   "cell_type": "markdown",
   "id": "40f2fdd2-faef-49e2-9cd6-909260bfc39c",
   "metadata": {
    "collapsed": false,
    "ein.tags": "worksheet-0",
    "slideshow": {
     "slide_type": "-"
    }
   },
   "source": [
    "**Proof.** We need one more clifford unit"
   ]
  },
  {
   "cell_type": "code",
   "execution_count": null,
   "id": "3fa05180-2562-433f-9c72-773974a7fcfb",
   "metadata": {
    "autoscroll": false,
    "collapsed": false,
    "ein.hycell": false,
    "ein.tags": "worksheet-0",
    "slideshow": {
     "slide_type": "-"
    }
   },
   "outputs": [],
   "source": [
    "from init_cycle import *\n",
    "nu = varidx(symbol(\"nu\"),2)\n",
    "er = clifford_unit(nu, diag_matrix([-1, sign2]), 2)"
   ]
  },
  {
   "cell_type": "markdown",
   "id": "f2967016-6bd9-4a55-a046-08827822d4c9",
   "metadata": {
    "collapsed": false,
    "ein.tags": "worksheet-0",
    "slideshow": {
     "slide_type": "-"
    }
   },
   "source": [
    "Now define a cycle passing P1..."
   ]
  },
  {
   "cell_type": "code",
   "execution_count": null,
   "id": "945ddc24-a40c-4920-8fde-f75fe0befabc",
   "metadata": {
    "autoscroll": false,
    "collapsed": false,
    "ein.hycell": false,
    "ein.tags": "worksheet-0",
    "slideshow": {
     "slide_type": "-"
    }
   },
   "outputs": [],
   "source": [
    "C11 = C.subject_to([C.passing(P1), C.is_normalized()])"
   ]
  },
  {
   "cell_type": "markdown",
   "id": "26de53d2-6fcb-490a-84e4-c41e264c3ef8",
   "metadata": {
    "collapsed": false,
    "ein.tags": "worksheet-0",
    "slideshow": {
     "slide_type": "-"
    }
   },
   "source": [
    "...and having its er-centre at P"
   ]
  },
  {
   "cell_type": "code",
   "execution_count": null,
   "id": "107b88e0-e943-47b7-b6d0-48a8464d7765",
   "metadata": {
    "autoscroll": false,
    "collapsed": false,
    "ein.hycell": false,
    "ein.tags": "worksheet-0",
    "slideshow": {
     "slide_type": "-"
    }
   },
   "outputs": [],
   "source": [
    "C11 = C11.subject_to([C11.center(er)[0] == u, C11.center(er)[1]== v])"
   ]
  },
  {
   "cell_type": "markdown",
   "id": "d3173a18-dd20-4182-9a76-2e67c2031bdc",
   "metadata": {
    "collapsed": false,
    "ein.tags": "worksheet-0",
    "slideshow": {
     "slide_type": "-"
    }
   },
   "source": [
    "and output the result"
   ]
  },
  {
   "cell_type": "code",
   "execution_count": null,
   "id": "6f4a7c26-08d6-4588-a202-87a755486737",
   "metadata": {
    "autoscroll": false,
    "collapsed": false,
    "ein.hycell": false,
    "ein.tags": "worksheet-0",
    "slideshow": {
     "slide_type": "-"
    }
   },
   "outputs": [],
   "source": [
    "Len=pow(u-u1,2)-sign*v1*v1+2*sign2*v*v1 -sign1*v*v\n",
    "Latex(\"Length from *center* between $(u,v)$ and $(u1,v1)$ is $%s$: %s\" %\\\n",
    "(Len, (Len-C11.radius_sq(es)).normal().subs({pow(sign2,2) : 1}, subs_options.algebraic).normal().is_zero()))"
   ]
  },
  {
   "cell_type": "markdown",
   "id": "f3e5e8e1-8cda-4699-9c81-15ae22273dad",
   "metadata": {
    "collapsed": false
   },
   "source": [
    "\n",
    "This notebook is a part of the *MoebInv notebooks* project [ [2] ](#[2]).\n",
    "\n",
    "### References\n",
    "<a id=\"references\"></a>\n",
    "<a id=\"[1]\"></a>\n",
    "1. Vladimir V. Kisil. *Geometry of Möbius Transformations: Elliptic, Parabolic and Hyperbolic Actions of $SL_2(\\mathbb{R})$*. [Imperial College Press](https://www.worldscientific.com/worldscibooks/10.1142/p835), London, 2012. Includes a live DVD.\n",
    "\n",
    "   <a id=\"[2]\"></a>\n",
    "2.  Vladimir V. Kisil, [*MoebInv notebooks*](https://github.com/vvkisil/MoebInv-notebooks), 2019.\n",
    "\n",
    "[Back to Folder](https://github.com/vvkisil/MoebInv-notebooks/blob/master/EPAL-v1/)\n"
   ]
  }
 ],
 "metadata": {
  "kernelspec": {
   "argv": [
    "/usr/bin/python3",
    "-m",
    "ipykernel_launcher",
    "-f",
    "{connection_file}"
   ],
   "display_name": "Python 3 (ipykernel)",
   "env": null,
   "interrupt_mode": "signal",
   "language": "python",
   "metadata": {
    "debugger": true
   },
   "name": "python3"
  },
  "language_info": {
   "codemirror_mode": {
    "name": "ipython",
    "version": 3
   },
   "file_extension": ".py",
   "mimetype": "text/x-python",
   "name": "python",
   "nbconvert_exporter": "python",
   "pygments_lexer": "ipython3",
   "version": "3.6.4"
  },
  "name": "le.I.7.11.i.ipynb"
 },
 "nbformat": 4,
 "nbformat_minor": 5
}
