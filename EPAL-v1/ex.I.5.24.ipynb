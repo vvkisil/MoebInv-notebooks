{
 "cells": [
  {
   "cell_type": "markdown",
   "id": "7beb4534-5b34-4a99-b9ff-90ff46b57c61",
   "metadata": {
    "collapsed": false
   },
   "source": [
    "<table style=\"width:100%\">\n",
    "    <tr>\n",
    "        <td>\n",
    "            <a href=\"http://v-v-kisil.rf.gd/MoebInv-notebooks/EPAL-v1/ex.I.5.24.html\">\n",
    "  <img src=\"../svg/view-html.svg\" alt=\"Open In Colab\"/>\n",
    "            </a>\n",
    "        </td>\n",
    "        <td>\n",
    "<a href=\"https://github.com/vvkisil/MoebInv-notebooks/blob/master/EPAL-v1/ex.I.5.24.ipynb\">\n",
    "  <img src=\"../svg/open-github.svg\" alt=\"Open In Colab\"/>\n",
    "            </a>\n",
    "        </td>\n",
    "        <td>\n",
    "            <a href=\"https://colab.research.google.com/github/vvkisil/MoebInv-notebooks/blob/master/EPAL-v1/ex.I.5.24.ipynb\">\n",
    "  <img src=\"../svg/exec-colab.svg\" alt=\"Open In Colab\"/>\n",
    "            </a>\n",
    "        </td>\n",
    "        <td>\n",
    "            <a href=\"https://codeocean.com/capsule/7952650/tree\">\n",
    "  <img src=\"../svg/code-ocean.svg\" alt=\"Code Ocean\"/>\n",
    "            </a>\n",
    "        </td>\n",
    "    </tr>\n",
    " </table>\n",
    "\n",
    "<a  align=\"center\" href=\"https://colab.research.google.com/github/vvkisil/MoebInv-notebooks/blob/master/Introduction/Software_installation_GUI_integration.ipynb\">Google CoLab software installation</a>\n"
   ]
  },
  {
   "cell_type": "markdown",
   "id": "b00dca27-553b-4e6e-89ea-efaede810205",
   "metadata": {
    "collapsed": false,
    "ein.tags": "worksheet-0",
    "slideshow": {
     "slide_type": "-"
    }
   },
   "source": [
    "# Calculation of the isotropy subgroup orbits\n",
    "\n",
    "**Exercise I.5.24** [ [1] ](#[1])\n",
    "$\n",
    "\\newcommand{\\scalar}[3][]{\\left\\langle #2,#3 \n",
    "        \\right\\rangle_{#1}}\n",
    "\\newcommand{\\Space}[3][]{\\mathbb{#2}^{#3}_{#1}}\n",
    "\\newcommand{\\Space}[3][]{\\mathbb{#2}^{#3}_{#1}}\n",
    "  \\newcommand{\\cycle}[3][]{{#1 C^{#2}_{#3}}}\n",
    "  \\newcommand{\\realline}[3][]{#1 R^{#2}_{#3}}\n",
    "  \\newcommand{\\bs}{\\breve{\\sigma}}\n",
    "  \\newcommand{\\zcycle}[3][]{#1 Z^{#2}_{#3}}\n",
    "  \\newcommand{\\SL}[1][2]{\\mathrm{SL}_{#1}(\\Space{R}{})}\n",
    "  \\newcommand{\\rs}{\\sigma_r}\n",
    "  \\newcommand{\\lvec}[1]{\\overrightarrow{#1}}\n",
    "\\newcommand{\\rmi}{\\mathrm{i}}\n",
    "\\newcommand{\\alli}{\\iota}\n",
    "\\newcommand{\\rme}{\\mathrm{e}}\n",
    "\\newcommand{\\rmd}{\\mathrm{d}}\n",
    "\\newcommand{\\rmh}{\\mathrm{j}}\n",
    "\\newcommand{\\rmp}{\\varepsilon}\n",
    "\\newcommand{\\modulus}[2][]{\\left| #2 \\right|_{#1}}\n",
    "\\newcommand{\\sperp}{⋋}\n",
    "$\n",
    "  Fulfil the following steps:\n",
    "1.  Write the coefficients of the $\\sigma$-zero-radius cycle\n",
    "    $\\zcycle{}{\\sigma}(\\alli)$ in $\\Space[\\sigma]{R}{}$ with e-centre\n",
    "    at the hypercomplex unit $\\alli=(0,1)$. \n",
    "2. According to Exercise [ex-centre-zero-moebius.ipynb](ex-centre-zero-moebius.ipynb) aka [ex.I.5.18.v.ipynb](ex.I.5.18.v.ipynb),\n",
    "    $\\zcycle{}{\\sigma}(\\alli)$ is invariant under the similarity\n",
    "    $\\zcycle{}{\\sigma}(\\alli) \\mapsto\n",
    "    h\\zcycle{}{\\sigma}(\\alli)h^{-1}$ with $h$ in the respective\n",
    "    isotropy subgroups $K$, $N'$ and $A'$ of\n",
    "    $\\alli$. Check this directly.\n",
    "3. Write the coefficients of a generic cycle in the pencil spanned by\n",
    "    $\\zcycle{}{\\sigma}(\\alli)$ and the real line. Note that the real\n",
    "    line is also invariant under the action of the isotropy subgroups\n",
    "    (as any other Möbius transformations) and conclude that any\n",
    "    cycle from the pencil will also be invariant under the action of the\n",
    "    isotropy subgroups. In other words, those cycles are orbits\n",
    "    of the isotropy subgroups. Check that you obtained their\n",
    "    equation."
   ]
  },
  {
   "cell_type": "markdown",
   "id": "96e8ec7d-46b4-47f3-9d89-ec525913dc08",
   "metadata": {
    "collapsed": false,
    "ein.tags": "worksheet-0",
    "slideshow": {
     "slide_type": "-"
    }
   },
   "source": [
    "**Solution.** Define the zero-radius cycle at (0,1)"
   ]
  },
  {
   "cell_type": "code",
   "execution_count": null,
   "id": "1a8d3bb3-9b2b-4902-8ea2-3c35131f20e4",
   "metadata": {
    "autoscroll": false,
    "collapsed": false,
    "ein.hycell": false,
    "ein.tags": "worksheet-0",
    "slideshow": {
     "slide_type": "-"
    }
   },
   "outputs": [],
   "source": [
    "from init_cycle import *\n",
    "Zi=Z.subs({u : 0,v : 1})\n",
    "Latex(\"Zero-radius cycle with centre at $(0,1)$ is $%s$\" % Zi.string())"
   ]
  },
  {
   "cell_type": "markdown",
   "id": "579921d7-7e85-4150-8e3f-afa284992317",
   "metadata": {
    "collapsed": false,
    "ein.tags": "worksheet-0",
    "slideshow": {
     "slide_type": "-"
    }
   },
   "source": [
    "Check that this cycle is invariant under isotropy sybgroup action"
   ]
  },
  {
   "cell_type": "code",
   "execution_count": null,
   "id": "af0f0bde-36c9-457f-a973-5f710bc9ed59",
   "metadata": {
    "autoscroll": false,
    "collapsed": false,
    "ein.hycell": false,
    "ein.tags": "worksheet-0",
    "slideshow": {
     "slide_type": "-"
    }
   },
   "outputs": [],
   "source": [
    "Latex(\"The cycle is invariant under isotropy subgroup of $(0,1)$: %s\" %\\\n",
    "Zi.sl2_similarity(a,sign*b,b,a,e).is_equal(Zi))"
   ]
  },
  {
   "cell_type": "markdown",
   "id": "ee2d2f4f-194a-448a-b29e-544b59da16c0",
   "metadata": {
    "collapsed": false,
    "ein.tags": "worksheet-0",
    "slideshow": {
     "slide_type": "-"
    }
   },
   "source": [
    "Build equation of the orbit as a pencil of the zero-radius cycle <br>\n",
    "and the real line"
   ]
  },
  {
   "cell_type": "code",
   "execution_count": null,
   "id": "3e942718-ebf8-4a76-a339-b0357848e250",
   "metadata": {
    "autoscroll": false,
    "collapsed": false,
    "ein.hycell": false,
    "ein.tags": "worksheet-0",
    "slideshow": {
     "slide_type": "-"
    }
   },
   "outputs": [],
   "source": [
    "Latex(\"Equation for an isotropy subgroup orbit is $%s$\" % \\\n",
    "(Zi.exmul(t)+real_line).normalize().string())"
   ]
  },
  {
   "cell_type": "markdown",
   "id": "f4e50307-9e65-4960-89cc-bc4a8300278f",
   "metadata": {
    "collapsed": false
   },
   "source": [
    "\n",
    "This notebook is a part of the *MoebInv notebooks* project [ [2] ](#[2]).\n",
    "\n",
    "### References\n",
    "<a id=\"references\"></a>\n",
    "<a id=\"[1]\"></a>\n",
    "1. Vladimir V. Kisil. *Geometry of Möbius Transformations: Elliptic, Parabolic and Hyperbolic Actions of $SL_2(\\mathbb{R})$*. [Imperial College Press](https://www.worldscientific.com/worldscibooks/10.1142/p835), London, 2012. Includes a live DVD.\n",
    "\n",
    "   <a id=\"[2]\"></a>\n",
    "2.  Vladimir V. Kisil, [*MoebInv notebooks*](https://github.com/vvkisil/MoebInv-notebooks), 2019.\n",
    "\n",
    "[Back to Folder](https://github.com/vvkisil/MoebInv-notebooks/blob/master/EPAL-v1/)\n"
   ]
  }
 ],
 "metadata": {
  "kernelspec": {
   "argv": [
    "/usr/bin/python3",
    "-m",
    "ipykernel_launcher",
    "-f",
    "{connection_file}"
   ],
   "display_name": "Python 3 (ipykernel)",
   "env": null,
   "interrupt_mode": "signal",
   "language": "python",
   "metadata": {
    "debugger": true
   },
   "name": "python3"
  },
  "language_info": {
   "codemirror_mode": {
    "name": "ipython",
    "version": 3
   },
   "file_extension": ".py",
   "mimetype": "text/x-python",
   "name": "python",
   "nbconvert_exporter": "python",
   "pygments_lexer": "ipython3",
   "version": "3.6.4"
  },
  "name": "ex.I.5.24.ipynb"
 },
 "nbformat": 4,
 "nbformat_minor": 5
}
