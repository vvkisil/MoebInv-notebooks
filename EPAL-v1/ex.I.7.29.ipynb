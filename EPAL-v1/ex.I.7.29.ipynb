{
 "cells": [
  {
   "cell_type": "markdown",
   "id": "67e70dd6-1034-499f-a3b5-9dad4eb52e2b",
   "metadata": {
    "collapsed": false
   },
   "source": [
    "<table style=\"width:100%\">\n",
    "    <tr>\n",
    "        <td>\n",
    "            <a href=\"http://www1.maths.leeds.ac.uk/~kisilv/MoebInv-notebooks/EPAL-v1/ex.I.7.29.html\">\n",
    "  <img src=\"../svg/view-html.svg\" alt=\"Open In Colab\"/>\n",
    "            </a>\n",
    "        </td>\n",
    "        <td>\n",
    "<a href=\"https://github.com/vvkisil/MoebInv-notebooks/blob/master/EPAL-v1/ex.I.7.29.ipynb\">\n",
    "  <img src=\"../svg/open-github.svg\" alt=\"Open In Colab\"/>\n",
    "            </a>\n",
    "        </td>\n",
    "        <td>\n",
    "            <a href=\"https://colab.research.google.com/github/vvkisil/MoebInv-notebooks/blob/master/EPAL-v1/ex.I.7.29.ipynb\">\n",
    "  <img src=\"../svg/exec-colab.svg\" alt=\"Open In Colab\"/>\n",
    "            </a>\n",
    "        </td>\n",
    "        <td>\n",
    "            <a href=\"https://codeocean.com/capsule/7952650/tree\">\n",
    "  <img src=\"../svg/code-ocean.svg\" alt=\"Code Ocean\"/>\n",
    "            </a>\n",
    "        </td>\n",
    "    </tr>\n",
    " </table>\n",
    "\n",
    "<a  align=\"center\" href=\"https://colab.research.google.com/github/vvkisil/MoebInv-notebooks/blob/master/Introduction/Software_installation_GUI_integration.ipynb\">Google CoLab software installation</a>\n"
   ]
  },
  {
   "cell_type": "markdown",
   "id": "2e8505e9-2d82-4bd8-9d17-c2140a4bc2d9",
   "metadata": {
    "collapsed": false,
    "ein.tags": "worksheet-0",
    "slideshow": {
     "slide_type": "-"
    }
   },
   "source": [
    "# Focus of an infinitesimal cycle is mapped by SL(2,R) to the (almost) focus of image\n",
    "\n",
    "**Exercise I.7.29**\n",
    "[ [1] ](#[1])\n",
    "$\n",
    "\\newcommand{\\scalar}[3][]{\\left\\langle #2,#3 \n",
    "        \\right\\rangle_{#1}}\n",
    "\\newcommand{\\Space}[3][]{\\mathbb{#2}^{#3}_{#1}}\n",
    "\\newcommand{\\Space}[3][]{\\mathbb{#2}^{#3}_{#1}}\n",
    "  \\newcommand{\\cycle}[3][]{{#1 C^{#2}_{#3}}}\n",
    "  \\newcommand{\\realline}[3][]{#1 R^{#2}_{#3}}\n",
    "  \\newcommand{\\bs}{\\breve{\\sigma}}\n",
    "  \\newcommand{\\zcycle}[3][]{#1 Z^{#2}_{#3}}\n",
    "  \\newcommand{\\SL}[1][2]{\\mathrm{SL}_{#1}(\\Space{R}{})}\n",
    "  \\newcommand{\\rs}{\\sigma_r}\n",
    "  \\newcommand{\\lvec}[1]{\\overrightarrow{#1}}\n",
    "\\newcommand{\\rmi}{\\mathrm{i}}\n",
    "\\newcommand{\\alli}{\\iota}\n",
    "\\newcommand{\\rme}{\\mathrm{e}}\n",
    "\\newcommand{\\rmd}{\\mathrm{d}}\n",
    "\\newcommand{\\rmh}{\\mathrm{j}}\n",
    "\\newcommand{\\rmp}{\\varepsilon}\n",
    "\\newcommand{\\modulus}[2][]{\\left| #2 \\right|_{#1}}\n",
    "$\n",
    "  Let $\\cycle[\\breve]{s}{\\bs}$ be the image under $g\\in\\SL$ of an infinitesimal\n",
    "  cycle $\\cycle{s}{\\bs}$.\n",
    "  Then, the $\\rs$-focus of $\\cycle[\\breve]{s}{\\bs}$ is  displaced from\n",
    "  $g(u_0,v_0)$ by infinitesimals of order $\\epsilon^2$, while\n",
    "  both cycles have $\\bs$-radius of order $\\epsilon$.\n",
    "\n",
    "  Consequently, $\\SL$-action is infinitesimally-conformal with\n",
    "  respect to the length from the focus for all\n",
    "  combinations of $\\sigma$, $\\bs$ and $\\rs$.\n"
   ]
  },
  {
   "cell_type": "markdown",
   "id": "e46e1411-9453-46c7-b847-b3f7244093a1",
   "metadata": {
    "collapsed": false,
    "ein.tags": "worksheet-0",
    "slideshow": {
     "slide_type": "-"
    }
   },
   "source": [
    "**Solution.** We define few relations which will be used for algebraic simplification later."
   ]
  },
  {
   "cell_type": "code",
   "execution_count": null,
   "id": "fabdf328-4c56-4137-bcf7-d6e5ff3bc40e",
   "metadata": {
    "autoscroll": false,
    "collapsed": false,
    "ein.hycell": false,
    "ein.tags": "worksheet-0",
    "slideshow": {
     "slide_type": "-"
    }
   },
   "outputs": [],
   "source": [
    "from init_cycle import *\n",
    "sign_cube = {pow(sign, 3) : sign}\n",
    "sign1_cube = {pow(sign1, 3) : sign1}\n",
    "vp=possymbol(\"vp\")\n",
    "sl2_relation = {c*b : a*d-1}\n",
    "sl2_relation1 = {a : (1+b*c)/d}"
   ]
  },
  {
   "cell_type": "markdown",
   "id": "62db3d71-28ed-4399-a13b-5f3a076a9f45",
   "metadata": {
    "collapsed": false,
    "ein.tags": "worksheet-0",
    "slideshow": {
     "slide_type": "-"
    }
   },
   "source": [
    "Here is a routine which will verify two statements from the Exercise."
   ]
  },
  {
   "cell_type": "code",
   "execution_count": null,
   "id": "68d0cfce-f4cc-4299-a78b-99a98c58f584",
   "metadata": {
    "autoscroll": false,
    "collapsed": false,
    "ein.hycell": false,
    "ein.tags": "worksheet-0",
    "slideshow": {
     "slide_type": "-"
    }
   },
   "outputs": [],
   "source": [
    "def infinitesimal_trans(nval):\n",
    "    C10 = cycle2D(1, [u, n],  pow(u,2)-pow(n,2)*sign1+pow(epsilon,2), e).subs(nval)\n",
    "    C11=cycle2D(C10.sl2_similarity(a, b, c, d, et))\n",
    "    display(Latex(\"Checking infinitesimal cycle: $%s$\" % C10.string()))\n",
    "    gP=clifford_moebius_map(sl2_clifford(a, b, c, d, et), matrix([[u],[vp]]), et)\\\n",
    "    .subs(sl2_relation1,subs_options.algebraic).normal()\n",
    "    displ = (C11.focus(er, True).subs(nval) - gP).evalm()\n",
    "    return Latex(\"Focus of the transormed cycle is displaced from transformation of focus by: $%s$\" %\\\n",
    "    displ.subs(sl2_relation, subs_options.algebraic)\\\n",
    "    .subs({sign : 0,sign3 : 0,a : (1+b*c)/d}).series(epsilon==0,2).normal())"
   ]
  },
  {
   "cell_type": "markdown",
   "id": "db4ccf10-c473-4c78-b413-4bf6bff1ea35",
   "metadata": {
    "collapsed": false,
    "ein.tags": "worksheet-0",
    "slideshow": {
     "slide_type": "-"
    }
   },
   "source": [
    "Checking for the first type of infinitesimal cycle"
   ]
  },
  {
   "cell_type": "code",
   "execution_count": null,
   "id": "8e4dde92-ea04-4f40-9741-71bd31df110c",
   "metadata": {
    "autoscroll": false,
    "collapsed": false,
    "ein.hycell": false,
    "ein.tags": "worksheet-0",
    "slideshow": {
     "slide_type": "-"
    }
   },
   "outputs": [],
   "source": [
    "infinitesimal_trans({n : (vp-(pow(pow(vp,2)-pow(epsilon,2)*(sign2-sign1),half)))/(sign2-sign1)})"
   ]
  },
  {
   "cell_type": "markdown",
   "id": "0b0b76dd-c85c-46de-97ca-1bc40a15fbd9",
   "metadata": {
    "collapsed": false,
    "ein.tags": "worksheet-0",
    "slideshow": {
     "slide_type": "-"
    }
   },
   "source": [
    "The parabolic focus infinitesimal cycle"
   ]
  },
  {
   "cell_type": "code",
   "execution_count": null,
   "id": "ffc9ae9d-f326-40da-97a5-0acc26ac78ca",
   "metadata": {
    "autoscroll": false,
    "collapsed": false,
    "ein.hycell": false,
    "ein.tags": "worksheet-0",
    "slideshow": {
     "slide_type": "-"
    }
   },
   "outputs": [],
   "source": [
    "infinitesimal_trans({n : pow(epsilon,2)/2/vp, sign2 : sign1})                          "
   ]
  },
  {
   "cell_type": "markdown",
   "id": "bb29d262-d15f-43d3-bb9f-6a1d15afa047",
   "metadata": {
    "collapsed": false
   },
   "source": [
    "\n",
    "This notebook is a part of the *MoebInv notebooks* project [ [2] ](#[2]).\n",
    "\n",
    "### References\n",
    "<a id=\"references\"></a>\n",
    "<a id=\"[1]\"></a>\n",
    "1. Vladimir V. Kisil. *Geometry of Möbius Transformations: Elliptic, Parabolic and Hyperbolic Actions of $SL_2(\\mathbb{R})$*. [Imperial College Press](https://www.worldscientific.com/worldscibooks/10.1142/p835), London, 2012. Includes a live DVD.\n",
    "\n",
    "   <a id=\"[2]\"></a>\n",
    "2.  Vladimir V. Kisil, [*MoebInv notebooks*](https://github.com/vvkisil/MoebInv-notebooks), 2019.\n",
    "\n",
    "[Back to Folder](https://github.com/vvkisil/MoebInv-notebooks/blob/master/EPAL-v1/)\n"
   ]
  }
 ],
 "metadata": {
  "kernelspec": {
   "argv": [
    "/usr/bin/python3",
    "-m",
    "ipykernel_launcher",
    "-f",
    "{connection_file}"
   ],
   "display_name": "Python 3 (ipykernel)",
   "env": null,
   "interrupt_mode": "signal",
   "language": "python",
   "metadata": {
    "debugger": true
   },
   "name": "python3"
  },
  "language_info": {
   "codemirror_mode": {
    "name": "ipython",
    "version": 3
   },
   "file_extension": ".py",
   "mimetype": "text/x-python",
   "name": "python",
   "nbconvert_exporter": "python",
   "pygments_lexer": "ipython3",
   "version": "3.6.4"
  },
  "name": "ex.I.7.29.ipynb"
 },
 "nbformat": 4,
 "nbformat_minor": 2
}
