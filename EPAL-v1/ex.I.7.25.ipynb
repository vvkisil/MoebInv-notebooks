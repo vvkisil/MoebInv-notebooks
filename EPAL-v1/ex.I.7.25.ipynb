{
 "cells": [
  {
   "cell_type": "markdown",
   "id": "fa9bcf8a-b1b7-4499-80c7-54de4ac36c89",
   "metadata": {
    "collapsed": false
   },
   "source": [
    "<table style=\"width:100%\">\n",
    "    <tr>\n",
    "        <td>\n",
    "            <a href=\"http://www1.maths.leeds.ac.uk/~kisilv/MoebInv-notebooks/EPAL-v1/ex.I.7.25.html\">\n",
    "  <img src=\"../svg/view-html.svg\" alt=\"Open In Colab\"/>\n",
    "            </a>\n",
    "        </td>\n",
    "        <td>\n",
    "<a href=\"https://github.com/vvkisil/MoebInv-notebooks/blob/master/EPAL-v1/ex.I.7.25.ipynb\">\n",
    "  <img src=\"../svg/open-github.svg\" alt=\"Open In Colab\"/>\n",
    "            </a>\n",
    "        </td>\n",
    "        <td>\n",
    "            <a href=\"https://colab.research.google.com/github/vvkisil/MoebInv-notebooks/blob/master/EPAL-v1/ex.I.7.25.ipynb\">\n",
    "  <img src=\"../svg/exec-colab.svg\" alt=\"Open In Colab\"/>\n",
    "            </a>\n",
    "        </td>\n",
    "        <td>\n",
    "            <a href=\"https://codeocean.com/capsule/7952650/tree\">\n",
    "  <img src=\"../svg/code-ocean.svg\" alt=\"Code Ocean\"/>\n",
    "            </a>\n",
    "        </td>\n",
    "    </tr>\n",
    " </table>\n",
    "\n",
    "<a  align=\"center\" href=\"https://colab.research.google.com/github/vvkisil/MoebInv-notebooks/blob/master/Introduction/Software_installation_GUI_integration.ipynb\">Google CoLab software installation</a>\n"
   ]
  },
  {
   "cell_type": "markdown",
   "id": "73f6e8ce-84fc-4859-a334-648bef30015a",
   "metadata": {
    "collapsed": false,
    "ein.tags": "worksheet-0",
    "slideshow": {
     "slide_type": "-"
    }
   },
   "source": [
    "# Invariance of family of infinitesimal radius cycles under group and cycle conjugation\n",
    "\n",
    "**Exercise I.7.25** [ [1] ](#[1])\n",
    "$\n",
    "\\newcommand{\\scalar}[3][]{\\left\\langle #2,#3 \n",
    "        \\right\\rangle_{#1}}\n",
    "\\newcommand{\\Space}[3][]{\\mathbb{#2}^{#3}_{#1}}\n",
    "\\newcommand{\\Space}[3][]{\\mathbb{#2}^{#3}_{#1}}\n",
    "  \\newcommand{\\cycle}[3][]{{#1 C^{#2}_{#3}}}\n",
    "  \\newcommand{\\realline}[3][]{#1 R^{#2}_{#3}}\n",
    "  \\newcommand{\\bs}{\\breve{\\sigma}}\n",
    "  \\newcommand{\\zcycle}[3][]{#1 Z^{#2}_{#3}}\n",
    "  \\newcommand{\\SL}[1][2]{\\mathrm{SL}_{#1}(\\Space{R}{})}\n",
    "  \\newcommand{\\rs}{\\sigma_r}\n",
    "  \\newcommand{\\lvec}[1]{\\overrightarrow{#1}}\n",
    "\\newcommand{\\rmi}{\\mathrm{i}}\n",
    "\\newcommand{\\alli}{\\iota}\n",
    "\\newcommand{\\rme}{\\mathrm{e}}\n",
    "\\newcommand{\\rmd}{\\mathrm{d}}\n",
    "\\newcommand{\\rmh}{\\mathrm{j}}\n",
    "\\newcommand{\\rmp}{\\varepsilon}\n",
    "\\newcommand{\\modulus}[2][]{\\left| #2 \\right|_{#1}}\n",
    "\\newcommand{\\sperp}{⋋}\n",
    "$\n",
    "The image of \\(\\SL\\)-action on an\n",
    "  infinitesimal-radius cycle by\n",
    "  conjugation is an\n",
    "  infinitesimal-radius cycle of the same order.\n",
    "  \n",
    "  The image of an\n",
    "  infinitesimal cycle under cycle conjugation is an infinitesimal cycle of the same\n",
    "  or lesser order."
   ]
  },
  {
   "cell_type": "markdown",
   "id": "cc5a41b7-bf6d-4f68-82b8-82a8ee7daa02",
   "metadata": {
    "collapsed": false,
    "ein.tags": "worksheet-0",
    "slideshow": {
     "slide_type": "-"
    }
   },
   "source": [
    "**Solution.** Some common algebraic substitutions for infinitesimal radius cycles."
   ]
  },
  {
   "cell_type": "code",
   "execution_count": null,
   "id": "d0bbdba9-2472-4b5a-8239-250e63e752da",
   "metadata": {
    "autoscroll": false,
    "collapsed": false,
    "ein.hycell": false,
    "ein.tags": "worksheet-0",
    "slideshow": {
     "slide_type": "-"
    }
   },
   "outputs": [],
   "source": [
    "from init_cycle import *\n",
    "sign_cube = {pow(sign, 3) : sign}\n",
    "sign1_cube = {pow(sign1, 3) : sign1}\n",
    "vp=possymbol(\"vp\")\n",
    "sl2_relation = {c*b : a*d-1}\n",
    "sl2_relation1 = {a : (1+b*c)/d}"
   ]
  },
  {
   "cell_type": "markdown",
   "id": "75a9aef4-3ed6-4b61-aa2d-96737ab168cb",
   "metadata": {
    "collapsed": false,
    "ein.tags": "worksheet-0",
    "slideshow": {
     "slide_type": "-"
    }
   },
   "source": [
    "The routine to make all checks."
   ]
  },
  {
   "cell_type": "code",
   "execution_count": null,
   "id": "a6b73177-a2ea-4c4b-8bad-ede1f77ee372",
   "metadata": {
    "autoscroll": false,
    "collapsed": false,
    "ein.hycell": false,
    "ein.tags": "worksheet-0",
    "slideshow": {
     "slide_type": "-"
    }
   },
   "outputs": [],
   "source": [
    "def infinitesimal_trans(nval):\n",
    "    epsilon_is_zero = relational(epsilon, 0, eq)\n",
    "    C10 = cycle2D(1, [u, n],  pow(u,2)-pow(n,2)*sign1+pow(epsilon,2), e).subs(nval)\n",
    "    C11=cycle2D(C10.sl2_similarity(a, b, c, d, et))\n",
    "    display(Latex(\"Checking infinitesimal cycle: $%s$\" % C10.string()))\n",
    "    display(Latex(\"  Image under SL2(R) of infinitesimal cycle has radius squared: $%s$\" %\\\n",
    "    C11.radius_sq(es).subs(sl2_relation1, subs_options.algebraic).\\\n",
    "    subs(sign_cube, subs_options.algebraic).series(epsilon_is_zero, 3).normal()))\n",
    "    return Latex(\"  Image under cycle similarity of infinitesimal cycle has radius squared: $%s$\" %\\\n",
    "    C10.cycle_similarity(C, es).radius_sq(es).subs(sign_cube, subs_options.algebraic)\\\n",
    "    .series(epsilon_is_zero, 3).normal())"
   ]
  },
  {
   "cell_type": "markdown",
   "id": "3eee8bce-5e1e-427d-9fc5-cb99e8ae0809",
   "metadata": {
    "collapsed": false,
    "ein.tags": "worksheet-0",
    "slideshow": {
     "slide_type": "-"
    }
   },
   "source": [
    "The check for the first type of infinitesimal cycles."
   ]
  },
  {
   "cell_type": "code",
   "execution_count": null,
   "id": "19772ef8-a944-43e1-8bfd-05d95ca8b8c0",
   "metadata": {
    "autoscroll": false,
    "collapsed": false,
    "ein.hycell": false,
    "ein.tags": "worksheet-0",
    "slideshow": {
     "slide_type": "-"
    }
   },
   "outputs": [],
   "source": [
    "infinitesimal_trans({n : (vp-(pow(pow(vp,2)-pow(epsilon,2)*(sign2-sign1),half)))/(sign2-sign1)})"
   ]
  },
  {
   "cell_type": "markdown",
   "id": "62de09e7-6d96-4791-a672-5171c6890649",
   "metadata": {
    "collapsed": false,
    "ein.tags": "worksheet-0",
    "slideshow": {
     "slide_type": "-"
    }
   },
   "source": [
    "The check for parabolic focus infinitesimal radius cycle."
   ]
  },
  {
   "cell_type": "code",
   "execution_count": null,
   "id": "402ca0eb-1d0d-4aab-a063-b617a025cf07",
   "metadata": {
    "autoscroll": false,
    "collapsed": false,
    "ein.hycell": false,
    "ein.tags": "worksheet-0",
    "slideshow": {
     "slide_type": "-"
    }
   },
   "outputs": [],
   "source": [
    "infinitesimal_trans({n : pow(epsilon,2)/2/vp, sign2 : sign1})"
   ]
  },
  {
   "cell_type": "markdown",
   "id": "74a95e74-bd7c-4c3f-af6e-01ebf29a7f33",
   "metadata": {
    "collapsed": false
   },
   "source": [
    "\n",
    "This notebook is a part of the *MoebInv notebooks* project [ [2] ](#[2]).\n",
    "\n",
    "### References\n",
    "<a id=\"references\"></a>\n",
    "<a id=\"[1]\"></a>\n",
    "1. Vladimir V. Kisil. *Geometry of Möbius Transformations: Elliptic, Parabolic and Hyperbolic Actions of $SL_2(\\mathbb{R})$*. [Imperial College Press](https://www.worldscientific.com/worldscibooks/10.1142/p835), London, 2012. Includes a live DVD.\n",
    "\n",
    "   <a id=\"[2]\"></a>\n",
    "2.  Vladimir V. Kisil, [*MoebInv notebooks*](https://github.com/vvkisil/MoebInv-notebooks), 2019.\n",
    "\n",
    "[Back to Folder](https://github.com/vvkisil/MoebInv-notebooks/blob/master/EPAL-v1/)\n"
   ]
  }
 ],
 "metadata": {
  "kernelspec": {
   "argv": [
    "/usr/bin/python3",
    "-m",
    "ipykernel_launcher",
    "-f",
    "{connection_file}"
   ],
   "display_name": "Python 3 (ipykernel)",
   "env": null,
   "interrupt_mode": "signal",
   "language": "python",
   "metadata": {
    "debugger": true
   },
   "name": "python3"
  },
  "language_info": {
   "codemirror_mode": {
    "name": "ipython",
    "version": 3
   },
   "file_extension": ".py",
   "mimetype": "text/x-python",
   "name": "python",
   "nbconvert_exporter": "python",
   "pygments_lexer": "ipython3",
   "version": "3.6.4"
  },
  "name": "ex.I.7.25.ipynb"
 },
 "nbformat": 4,
 "nbformat_minor": 5
}
