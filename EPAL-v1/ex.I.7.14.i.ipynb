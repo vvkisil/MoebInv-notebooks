{
 "cells": [
  {
   "cell_type": "markdown",
   "id": "31ffc80d-26b2-4be0-bd54-323d42646b5f",
   "metadata": {
    "collapsed": false
   },
   "source": [
    "<table style=\"width:100%\">\n",
    "    <tr>\n",
    "        <td>\n",
    "            <a href=\"http://v-v-kisil.rf.gd/MoebInv-notebooks/EPAL-v1/ex.I.7.14.i.html\">\n",
    "  <img src=\"../svg/view-html.svg\" alt=\"Open In Colab\"/>\n",
    "            </a>\n",
    "        </td>\n",
    "        <td>\n",
    "<a href=\"https://github.com/vvkisil/MoebInv-notebooks/blob/master/EPAL-v1/ex.I.7.14.i.ipynb\">\n",
    "  <img src=\"../svg/open-github.svg\" alt=\"Open In Colab\"/>\n",
    "            </a>\n",
    "        </td>\n",
    "        <td>\n",
    "            <a href=\"https://colab.research.google.com/github/vvkisil/MoebInv-notebooks/blob/master/EPAL-v1/ex.I.7.14.i.ipynb\">\n",
    "  <img src=\"../svg/exec-colab.svg\" alt=\"Open In Colab\"/>\n",
    "            </a>\n",
    "        </td>\n",
    "        <td>\n",
    "            <a href=\"https://codeocean.com/capsule/7952650/tree\">\n",
    "  <img src=\"../svg/code-ocean.svg\" alt=\"Code Ocean\"/>\n",
    "            </a>\n",
    "        </td>\n",
    "    </tr>\n",
    " </table>\n",
    "\n",
    "<a  align=\"center\" href=\"https://colab.research.google.com/github/vvkisil/MoebInv-notebooks/blob/master/Introduction/Software_installation_GUI_integration.ipynb\">Google CoLab software installation</a>\n"
   ]
  },
  {
   "cell_type": "markdown",
   "id": "91c240dc-fe4d-4271-9f0d-5a796c60c2f8",
   "metadata": {
    "collapsed": false,
    "ein.tags": "worksheet-0",
    "slideshow": {
     "slide_type": "-"
    }
   },
   "source": [
    "# Conformality of distances \n",
    "\n",
    "**Exervise I.7.14.i** [ [1] ](#[1])  $\n",
    "\\newcommand{\\Space}[3][]{\\mathbb{#2}^{#3}_{#1}}\n",
    "  \\newcommand{\\cycle}[3][]{{#1 C^{#2}_{#3}}}\n",
    "  \\newcommand{\\realline}[3][]{#1 R^{#2}_{#3}}\n",
    "  \\newcommand{\\bs}{\\breve{\\sigma}}\n",
    "  \\newcommand{\\zcycle}[3][]{#1 Z^{#2}_{#3}}\n",
    "  \\newcommand{\\SL}[1][2]{\\mathrm{SL}_{#1}(\\Space{R}{})}\n",
    "  $ \n",
    "  Show $\\SL$-conformality:\n",
    "\n",
    "    The distance \n",
    "\\eqref{eq:distance-first-ell-hyp} \n",
    "  \\begin{equation}\n",
    "    \\label{eq:distance-first-ell-hyp}\n",
    "    d_{\\sigma,\\bs}^2(P, P') = \\frac{ \\bs ((u-u')^2-\\sigma(v- v')^2) +4(1-\\sigma\\bs) v v'}\n",
    "    {(u- u')^2 \\bs-(v-v')^2} ((u-u')^2 -\\sigma(v- v')^2), \\tag{I.7.2}\n",
    "  \\end{equation}\n",
    "  is conformal if\n",
    "    and only if the type of point and cycle spaces are the same, i.e.\n",
    "    $\\sigma\\bs=1$. \n",
    "    \n",
    " The parabolic distance \n",
    "    \\begin{equation}\n",
    "      d_{p,\\bs}^2(y, y') = (u-u')^2. \\tag{I.7.3}\n",
    "    \\end{equation}\n",
    "    is conformal only in the parabolic point space."
   ]
  },
  {
   "cell_type": "markdown",
   "id": "8474778e-b1ac-4d53-8c2f-b206c208031f",
   "metadata": {
    "collapsed": false,
    "ein.tags": "worksheet-0",
    "slideshow": {
     "slide_type": "-"
    }
   },
   "source": [
    "**Solution.** We define the simplification for matrices in $\\SL$:"
   ]
  },
  {
   "cell_type": "code",
   "execution_count": null,
   "id": "ea9de102-b7e2-4a17-a6ee-1de6362adae7",
   "metadata": {
    "autoscroll": false,
    "collapsed": false,
    "ein.hycell": false,
    "ein.tags": "worksheet-0",
    "slideshow": {
     "slide_type": "-"
    }
   },
   "outputs": [],
   "source": [
    "from init_cycle import *\n",
    "sl2_relation1 = {a : (1+b*c)/d}"
   ]
  },
  {
   "cell_type": "markdown",
   "id": "10cfe777-8cb3-4183-ba4c-1869222b31ad",
   "metadata": {
    "collapsed": false,
    "ein.tags": "worksheet-0",
    "slideshow": {
     "slide_type": "-"
    }
   },
   "source": [
    "Define the image of $P=(u,v)$ under the Möbius transformation and make the component-wise substitution of the simplification rule."
   ]
  },
  {
   "cell_type": "code",
   "execution_count": null,
   "id": "7e309280-d524-4dd7-b089-18def1edb3f7",
   "metadata": {
    "autoscroll": false,
    "collapsed": false,
    "ein.hycell": false,
    "ein.tags": "worksheet-0",
    "slideshow": {
     "slide_type": "-"
    }
   },
   "outputs": [],
   "source": [
    "gP=clifford_moebius_map(sl2_clifford(a, b, c, d, e), P, e)\n",
    "gP=[gP[0].subs(sl2_relation1,subs_options.algebraic).normal(),\\\n",
    "gP[1].subs(sl2_relation1,subs_options.algebraic).normal()]"
   ]
  },
  {
   "cell_type": "markdown",
   "id": "fb5253b2-c7a7-452e-90e2-e7aaadfe4318",
   "metadata": {
    "collapsed": false,
    "ein.tags": "worksheet-0",
    "slideshow": {
     "slide_type": "-"
    }
   },
   "source": [
    "The same for the image of $P_1=(u_1,v_1)$ under the Moebius transformation"
   ]
  },
  {
   "cell_type": "code",
   "execution_count": null,
   "id": "5817fe85-dce5-4c36-bbad-8bcb92de66fb",
   "metadata": {
    "autoscroll": false,
    "collapsed": false,
    "ein.hycell": false,
    "ein.tags": "worksheet-0",
    "slideshow": {
     "slide_type": "-"
    }
   },
   "outputs": [],
   "source": [
    "gP1=clifford_moebius_map(sl2_clifford(a, b, c, d, e), P1, e)\n",
    "gP1=[gP1[0].subs(sl2_relation1,subs_options.algebraic).normal(),\\\n",
    "gP1[1].subs(sl2_relation1,subs_options.algebraic).normal()]"
   ]
  },
  {
   "cell_type": "markdown",
   "id": "7580327b-3cc9-44ec-a119-3edfe9d5a0c8",
   "metadata": {
    "collapsed": false,
    "ein.tags": "worksheet-0",
    "slideshow": {
     "slide_type": "-"
    }
   },
   "source": [
    "Make a warning on the output."
   ]
  },
  {
   "cell_type": "code",
   "execution_count": null,
   "id": "344b54ef-668d-4f67-8493-04415d45de1c",
   "metadata": {
    "autoscroll": false,
    "collapsed": false,
    "ein.hycell": false,
    "ein.tags": "worksheet-0",
    "slideshow": {
     "slide_type": "-"
    }
   },
   "outputs": [],
   "source": [
    "print(\"Two lines below shall contain 'False' (twice) as the correct result\")"
   ]
  },
  {
   "cell_type": "markdown",
   "id": "4163ef98-bc64-4f0b-8aa4-93625c88da27",
   "metadata": {
    "collapsed": false,
    "ein.tags": "worksheet-0",
    "slideshow": {
     "slide_type": "-"
    }
   },
   "source": [
    "The routine to check conformality for various combination of matrics in point and cycle spaces"
   ]
  },
  {
   "cell_type": "code",
   "execution_count": null,
   "id": "676df3c7-39f0-4c57-bc42-2c7572e8f72b",
   "metadata": {
    "autoscroll": false,
    "collapsed": false,
    "ein.hycell": false,
    "ein.tags": "worksheet-0",
    "slideshow": {
     "slide_type": "-"
    }
   },
   "outputs": [],
   "source": [
    "def check_conformality(Len_c, si=3):\n",
    "    Len_cD= ((Len_c.subs({u : gP[0], v : gP[1], u1 : gP1[0],\\\n",
    "                          v1 : gP1[1]})\\\n",
    "    /Len_c).subs({u1 : u+t*x, v1 : v+t*y}));\n",
    "    Len_fD = Len_cD\n",
    "    print(\"Conformity in a cycle space with metric:   E      P      H \")\n",
    "    # Iterate metric of the point space\n",
    "    while (si<2):\n",
    "        output=\"Point space is %s\" % eph_case(si)\n",
    "        si1 = -1\n",
    "        # Iterate metric of the cycle space\n",
    "        while (si1<2):\n",
    "            Len_cD = Len_fD.subs({sign : numeric(si)}, subs_options.algebraic)\\\n",
    "            .subs({sign1 : numeric(si1)}, subs_options.algebraic).normal()\n",
    "            if (Len_cD.has(t)):\n",
    "                Len_cD = Len_cD.series(relational(t, 0, eq), 1).op(0).normal()\n",
    "                \n",
    "            is_conformal = not(Len_cD.is_zero() or Len_cD.has(t) or Len_cD.has(x) or Len_cD.has(y))\n",
    "            output=output+(\"  %s \" % is_conformal)\n",
    "            si1=si1+1\n",
    "        si=si+2\n",
    "        print(output)"
   ]
  },
  {
   "cell_type": "markdown",
   "id": "5f44a6ea-69ba-42fa-afb7-438543c31e89",
   "metadata": {
    "collapsed": false,
    "ein.tags": "worksheet-0",
    "slideshow": {
     "slide_type": "-"
    }
   },
   "source": [
    "Use regularised expression for distances checked in [le-distance-first.ipynb](le-distance-first.ipynb) aka [le.I.7.5.ipynb](le.I.7.5.ipynb) to check the elliptic and hyperbolic cases"
   ]
  },
  {
   "cell_type": "code",
   "execution_count": null,
   "id": "9b429f4d-308e-4e87-bac0-b92cccaf4d2e",
   "metadata": {
    "autoscroll": false,
    "collapsed": false,
    "ein.hycell": false,
    "ein.tags": "worksheet-0",
    "slideshow": {
     "slide_type": "-"
    }
   },
   "outputs": [],
   "source": [
    "print(\"Elliptic/hyperbolic distances\")\n",
    "dist = (sign1*(pow(u-u1,2)-sign*pow(v-v1,2))+4*(1-sign*sign1)*v*v1)*(pow(u-u1,2)\\\n",
    "-sign*pow(v-v1,2))/(pow(u-u1,2)*sign1-pow(v-v1,2))\n",
    "check_conformality(dist, -1)"
   ]
  },
  {
   "cell_type": "markdown",
   "id": "b959ac39-0051-49da-bfbf-8a941744b905",
   "metadata": {
    "collapsed": false,
    "ein.tags": "worksheet-0",
    "slideshow": {
     "slide_type": "-"
    }
   },
   "source": [
    "Then check the parabolic case"
   ]
  },
  {
   "cell_type": "code",
   "execution_count": null,
   "id": "c4b78c7e-4332-42a4-a003-9dd3fa75dc23",
   "metadata": {
    "autoscroll": false,
    "collapsed": false,
    "ein.hycell": false,
    "ein.tags": "worksheet-0",
    "slideshow": {
     "slide_type": "-"
    }
   },
   "outputs": [],
   "source": [
    "print(\"Parabolic distance\")\n",
    "dist=pow(u-u1,2)\n",
    "check_conformality(dist, 0)"
   ]
  },
  {
   "cell_type": "markdown",
   "id": "b6a8d4fd-8e47-4da3-bef7-3a8db3332d8d",
   "metadata": {
    "collapsed": false
   },
   "source": [
    "\n",
    "This notebook is a part of the *MoebInv notebooks* project [ [2] ](#[2]).\n",
    "\n",
    "### References\n",
    "<a id=\"references\"></a>\n",
    "<a id=\"[1]\"></a>\n",
    "1. Vladimir V. Kisil. *Geometry of Möbius Transformations: Elliptic, Parabolic and Hyperbolic Actions of $SL_2(\\mathbb{R})$*. [Imperial College Press](https://www.worldscientific.com/worldscibooks/10.1142/p835), London, 2012. Includes a live DVD.\n",
    "\n",
    "   <a id=\"[2]\"></a>\n",
    "2.  Vladimir V. Kisil, [*MoebInv notebooks*](https://github.com/vvkisil/MoebInv-notebooks), 2019.\n",
    "\n",
    "[Back to Folder](https://github.com/vvkisil/MoebInv-notebooks/blob/master/EPAL-v1/)\n"
   ]
  }
 ],
 "metadata": {
  "kernelspec": {
   "argv": [
    "/usr/bin/python3",
    "-m",
    "ipykernel_launcher",
    "-f",
    "{connection_file}"
   ],
   "display_name": "Python 3 (ipykernel)",
   "env": null,
   "interrupt_mode": "signal",
   "language": "python",
   "metadata": {
    "debugger": true
   },
   "name": "python3"
  },
  "language_info": {
   "codemirror_mode": {
    "name": "ipython",
    "version": 3
   },
   "file_extension": ".py",
   "mimetype": "text/x-python",
   "name": "python",
   "nbconvert_exporter": "python",
   "pygments_lexer": "ipython3",
   "version": "3.6.4"
  },
  "name": "ex.I.7.14.i.ipynb"
 },
 "nbformat": 4,
 "nbformat_minor": 5
}
