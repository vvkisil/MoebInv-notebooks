{
 "cells": [
  {
   "cell_type": "markdown",
   "id": "be018f33-3a9b-40d3-9e9f-5fa050368978",
   "metadata": {
    "collapsed": false
   },
   "source": [
    "<table style=\"width:100%\">\n",
    "    <tr>\n",
    "        <td>\n",
    "            <a href=\"http://www1.maths.leeds.ac.uk/~kisilv/MoebInv-notebooks/EPAL-v1/ex.I.5.23.ii.html\">\n",
    "  <img src=\"../svg/view-html.svg\" alt=\"Open In Colab\"/>\n",
    "            </a>\n",
    "        </td>\n",
    "        <td>\n",
    "<a href=\"https://github.com/vvkisil/MoebInv-notebooks/blob/master/EPAL-v1/ex.I.5.23.ii.ipynb\">\n",
    "  <img src=\"../svg/open-github.svg\" alt=\"Open In Colab\"/>\n",
    "            </a>\n",
    "        </td>\n",
    "        <td>\n",
    "            <a href=\"https://colab.research.google.com/github/vvkisil/MoebInv-notebooks/blob/master/EPAL-v1/ex.I.5.23.ii.ipynb\">\n",
    "  <img src=\"../svg/exec-colab.svg\" alt=\"Open In Colab\"/>\n",
    "            </a>\n",
    "        </td>\n",
    "        <td>\n",
    "            <a href=\"https://codeocean.com/capsule/7952650/tree\">\n",
    "  <img src=\"../svg/code-ocean.svg\" alt=\"Code Ocean\"/>\n",
    "            </a>\n",
    "        </td>\n",
    "    </tr>\n",
    " </table>\n",
    "\n",
    "<a  align=\"center\" href=\"https://colab.research.google.com/github/vvkisil/MoebInv-notebooks/blob/master/Introduction/Software_installation_GUI_integration.ipynb\">Google CoLab software installation</a>\n"
   ]
  },
  {
   "cell_type": "markdown",
   "id": "f35ad28a-95de-427a-9dba-eb3e8a4cce4b",
   "metadata": {
    "collapsed": false,
    "ein.tags": "worksheet-0",
    "slideshow": {
     "slide_type": "-"
    }
   },
   "source": [
    "# Power of intersecting cycles and cosine of intersection angle\n",
    "\n",
    "**Exercise I.5.23.ii** [ [1] ](#[1]) \n",
    " $\\newcommand{\\Space}[3][]{\\mathbb{#2}^{#3}_{#1}}\n",
    "  \\newcommand{\\cycle}[3][]{{#1 C^{#2}_{#3}}}\n",
    "  \\newcommand{\\realline}[3][]{#1 R^{#2}_{#3}}\n",
    "  \\newcommand{\\bs}{\\breve{\\sigma}}\n",
    "  \\newcommand{\\zcycle}[3][]{#1 Z^{#2}_{#3}}\n",
    "  \\newcommand{\\SL}[1][2]{\\mathrm{SL}_{#1}(\\Space{R}{})}\n",
    "  \\newcommand{\\rs}{\\sigma_r}\n",
    "  \\newcommand{\\lvec}[1]{\\overrightarrow{#1}}\n",
    " $ Check for $\\sigma=\\pm 1$, that\n",
    "     the $(\\sigma,\\sigma)$-power of two  intersecting $\\sigma$-cycles\n",
    "    is the $\\sigma$-cosine of the angle\n",
    "    between the tangents to cycles at an intersecting point."
   ]
  },
  {
   "cell_type": "markdown",
   "id": "5a4014e8-afb3-49be-bc2e-5cba84800862",
   "metadata": {
    "collapsed": false,
    "ein.tags": "worksheet-0",
    "slideshow": {
     "slide_type": "-"
    }
   },
   "source": [
    "**Solution.** First we define the tangent of a cycle at a given point \n",
    "using implict derivatives. The routine defines an equation on a cycle to have given tangent at $(0,1)$."
   ]
  },
  {
   "cell_type": "code",
   "execution_count": null,
   "id": "c5a240f1-f72d-4a15-876c-29a221d0ec3f",
   "metadata": {
    "autoscroll": false,
    "collapsed": false,
    "ein.hycell": false,
    "ein.tags": "worksheet-0",
    "slideshow": {
     "slide_type": "-"
    }
   },
   "outputs": [],
   "source": [
    "from init_cycle import *\n",
    "def has_tan(C,u,v,U,V):\n",
    "    return C.val([u,v]).diff(u)*U+C.val([u,v]).diff(v)*V==0"
   ]
  },
  {
   "cell_type": "markdown",
   "id": "fd09d461-0aff-4c58-84ab-db76cda3c24b",
   "metadata": {
    "collapsed": false,
    "ein.tags": "worksheet-0",
    "slideshow": {
     "slide_type": "-"
    }
   },
   "source": [
    "Some variables to use later."
   ]
  },
  {
   "cell_type": "code",
   "execution_count": null,
   "id": "1b9b3da8-201a-4e71-b31a-30af469d485d",
   "metadata": {
    "autoscroll": false,
    "collapsed": false,
    "ein.hycell": false,
    "ein.tags": "worksheet-0",
    "slideshow": {
     "slide_type": "-"
    }
   },
   "outputs": [],
   "source": [
    "U=realsymbol(\"U\")\n",
    "V=realsymbol(\"V\")\n",
    "U1=realsymbol(\"U1\", \"U_1\")\n",
    "V1=realsymbol(\"V1\", \"V_1\")"
   ]
  },
  {
   "cell_type": "markdown",
   "id": "aa25a46b-779a-449f-89fb-3a524e713d38",
   "metadata": {
    "collapsed": false,
    "ein.tags": "worksheet-0",
    "slideshow": {
     "slide_type": "-"
    }
   },
   "source": [
    "Take two cycles both passing $(u,v)$ with given tangents $(U,V)$ and $(U_1,V_1)$."
   ]
  },
  {
   "cell_type": "code",
   "execution_count": null,
   "id": "73bb59d0-76cc-44e0-9cb4-02a988439387",
   "metadata": {
    "autoscroll": false,
    "collapsed": false,
    "ein.hycell": false,
    "ein.tags": "worksheet-0",
    "slideshow": {
     "slide_type": "-"
    }
   },
   "outputs": [],
   "source": [
    "C0=C.subject_to([C.passing([u,v]),has_tan(C,u,v,U,V)]).normalize_det()\n",
    "C10=C1.subject_to([C1.passing([u,v]),has_tan(C1,u,v,U1,V1)]).normalize_det()"
   ]
  },
  {
   "cell_type": "markdown",
   "id": "afe06e76-1e11-4c08-9b25-69462afc1f72",
   "metadata": {
    "collapsed": false,
    "ein.tags": "worksheet-0",
    "slideshow": {
     "slide_type": "-"
    }
   },
   "source": [
    "Just out of curiosity take a look on the explicit formula of `C0`. "
   ]
  },
  {
   "cell_type": "code",
   "execution_count": null,
   "id": "2669d6fc-5408-4629-b018-8537442164c5",
   "metadata": {
    "autoscroll": false,
    "collapsed": false,
    "ein.hycell": false,
    "ein.tags": "worksheet-0",
    "slideshow": {
     "slide_type": "-"
    }
   },
   "outputs": [],
   "source": [
    "Latex(f\"${C0.string()}$\")"
   ]
  },
  {
   "cell_type": "markdown",
   "id": "3a2f5a8b-f3b6-4ee9-bf5d-526a3bb4c5e6",
   "metadata": {
    "collapsed": false,
    "ein.tags": "worksheet-0",
    "slideshow": {
     "slide_type": "-"
    }
   },
   "source": [
    "Tangent calculations:"
   ]
  },
  {
   "cell_type": "code",
   "execution_count": null,
   "id": "bd443727-de22-4374-80e5-c8ddf17523c3",
   "metadata": {
    "autoscroll": false,
    "collapsed": false,
    "ein.hycell": false,
    "ein.tags": "worksheet-0",
    "slideshow": {
     "slide_type": "-"
    }
   },
   "outputs": [],
   "source": [
    "T=V/U\n",
    "T1=V1/U1"
   ]
  },
  {
   "cell_type": "markdown",
   "id": "496e44d1-5e60-40da-8b0e-5a0fa6e85f03",
   "metadata": {
    "collapsed": false,
    "ein.tags": "worksheet-0",
    "slideshow": {
     "slide_type": "-"
    }
   },
   "source": [
    "We check the formula $\\cos^{-2}t +\\mathrm{sign}(\\sigma) \\tan^{-2} t =1$ in elliptic and hyperbolic cases."
   ]
  },
  {
   "cell_type": "code",
   "execution_count": null,
   "id": "332a0eea-3ca5-42be-86ee-0aff9b56a931",
   "metadata": {
    "collapsed": false
   },
   "outputs": [],
   "source": [
    "\"Cycle product det-normalized cycles gives cosine of the angle in the elliptic case: %s\" %\\\n",
    "(pow(C0.cycle_product(C10).normal()/2,-2)+sign*pow((T1-T)/(1-sign*T*T1),2)-1).normal().subs({sign : -1}).normal().is_zero()"
   ]
  },
  {
   "cell_type": "code",
   "execution_count": null,
   "id": "fb4755fe-1e9e-4d8e-84b7-c2e56b3e5ab0",
   "metadata": {
    "autoscroll": false,
    "collapsed": false,
    "ein.hycell": false,
    "ein.tags": "worksheet-0",
    "slideshow": {
     "slide_type": "-"
    }
   },
   "outputs": [],
   "source": [
    "\"Cycle product det-normalized cycles gives cosine of the angle in the hyperbolic case: %s\" %\\\n",
    "(pow(C0.cycle_product(C10).normal()/2,-2)+sign*pow((T1-T)/(1-sign*T*T1),2)-1).normal().subs({sign : 1}).normal().is_zero()"
   ]
  },
  {
   "cell_type": "markdown",
   "id": "013959ed-c27b-41cc-a81d-41adb59349dd",
   "metadata": {
    "collapsed": false,
    "ein.tags": "worksheet-0",
    "slideshow": {
     "slide_type": "-"
    }
   },
   "source": [
    "In parabolic cases we just output the value."
   ]
  },
  {
   "cell_type": "code",
   "execution_count": null,
   "id": "d5ee6467-2d37-4d08-8450-f68f22ea8d48",
   "metadata": {
    "collapsed": false
   },
   "outputs": [],
   "source": [
    "Latex(\"Par: $%s$\" % pow(C0.cycle_product(C10).normal()/2,-2).subs({sign : 0}).normal())"
   ]
  },
  {
   "cell_type": "code",
   "execution_count": null,
   "id": "aa08788f-68f8-48ce-abc1-aff40c2d45c5",
   "metadata": {
    "autoscroll": false,
    "collapsed": false,
    "ein.hycell": false,
    "ein.tags": "worksheet-0",
    "slideshow": {
     "slide_type": "-"
    }
   },
   "outputs": [],
   "source": [
    "Latex(f\"Par: ${(pow(C0.cycle_product(C10).normal()/2,-2)+sign*pow((T1-T)/(1-sign*T*T1),2)-1).normal().subs({sign : 0}).normal()}$\")"
   ]
  },
  {
   "cell_type": "markdown",
   "id": "884901a4-f8f4-498d-afcb-10b48ba1e2a6",
   "metadata": {
    "collapsed": false
   },
   "source": [
    "\n",
    "This notebook is a part of the *MoebInv notebooks* project [ [2] ](#[2]).\n",
    "\n",
    "### References\n",
    "<a id=\"references\"></a>\n",
    "<a id=\"[1]\"></a>\n",
    "1. Vladimir V. Kisil. *Geometry of Möbius Transformations: Elliptic, Parabolic and Hyperbolic Actions of $SL_2(\\mathbb{R})$*. [Imperial College Press](https://www.worldscientific.com/worldscibooks/10.1142/p835), London, 2012. Includes a live DVD.\n",
    "\n",
    "   <a id=\"[2]\"></a>\n",
    "2.  Vladimir V. Kisil, [*MoebInv notebooks*](https://github.com/vvkisil/MoebInv-notebooks), 2019.\n",
    "\n",
    "[Back to Folder](https://github.com/vvkisil/MoebInv-notebooks/blob/master/EPAL-v1/)\n"
   ]
  }
 ],
 "metadata": {
  "kernelspec": {
   "argv": [
    "/usr/bin/python3",
    "-m",
    "ipykernel_launcher",
    "-f",
    "{connection_file}"
   ],
   "display_name": "Python 3 (ipykernel)",
   "env": null,
   "interrupt_mode": "signal",
   "language": "python",
   "metadata": {
    "debugger": true
   },
   "name": "python3"
  },
  "language_info": {
   "codemirror_mode": {
    "name": "ipython",
    "version": 3
   },
   "file_extension": ".py",
   "mimetype": "text/x-python",
   "name": "python",
   "nbconvert_exporter": "python",
   "pygments_lexer": "ipython3",
   "version": "3.6.4"
  },
  "name": "ex.I.5.23.ii.ipynb"
 },
 "nbformat": 4,
 "nbformat_minor": 2
}
