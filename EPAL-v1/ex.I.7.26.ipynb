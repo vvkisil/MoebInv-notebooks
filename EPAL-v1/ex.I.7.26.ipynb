{
 "cells": [
  {
   "cell_type": "markdown",
   "id": "c5b763d8-dd56-4b9f-806d-c930369bca28",
   "metadata": {
    "collapsed": false
   },
   "source": [
    "<table style=\"width:100%\">\n",
    "    <tr>\n",
    "        <td>\n",
    "            <a href=\"http://www1.maths.leeds.ac.uk/~kisilv/MoebInv-notebooks/EPAL-v1/ex.I.7.26.html\">\n",
    "  <img src=\"../svg/view-html.svg\" alt=\"Open In Colab\"/>\n",
    "            </a>\n",
    "        </td>\n",
    "        <td>\n",
    "<a href=\"https://github.com/vvkisil/MoebInv-notebooks/blob/master/EPAL-v1/ex.I.7.26.ipynb\">\n",
    "  <img src=\"../svg/open-github.svg\" alt=\"Open In Colab\"/>\n",
    "            </a>\n",
    "        </td>\n",
    "        <td>\n",
    "            <a href=\"https://colab.research.google.com/github/vvkisil/MoebInv-notebooks/blob/master/EPAL-v1/ex.I.7.26.ipynb\">\n",
    "  <img src=\"../svg/exec-colab.svg\" alt=\"Open In Colab\"/>\n",
    "            </a>\n",
    "        </td>\n",
    "        <td>\n",
    "            <a href=\"https://codeocean.com/capsule/7952650/tree\">\n",
    "  <img src=\"../svg/code-ocean.svg\" alt=\"Code Ocean\"/>\n",
    "            </a>\n",
    "        </td>\n",
    "    </tr>\n",
    " </table>\n",
    "\n",
    "<a  align=\"center\" href=\"https://colab.research.google.com/github/vvkisil/MoebInv-notebooks/blob/master/Introduction/Software_installation_GUI_integration.ipynb\">Google CoLab software installation</a>\n"
   ]
  },
  {
   "cell_type": "markdown",
   "id": "4c401856-b8ec-4b07-8900-e5ba85e32e65",
   "metadata": {
    "collapsed": false,
    "ein.tags": "worksheet-0",
    "slideshow": {
     "slide_type": "-"
    }
   },
   "source": [
    "# Infinitesimal radius cycle and orthogonality condition\n",
    "\n",
    "**Exercise I.7.26** [ [1] ](#[1])\n",
    "$\n",
    "\\newcommand{\\scalar}[3][]{\\left\\langle #2,#3 \n",
    "        \\right\\rangle_{#1}}\n",
    "\\newcommand{\\Space}[3][]{\\mathbb{#2}^{#3}_{#1}}\n",
    "\\newcommand{\\Space}[3][]{\\mathbb{#2}^{#3}_{#1}}\n",
    "  \\newcommand{\\cycle}[3][]{{#1 C^{#2}_{#3}}}\n",
    "  \\newcommand{\\realline}[3][]{#1 R^{#2}_{#3}}\n",
    "  \\newcommand{\\bs}{\\breve{\\sigma}}\n",
    "  \\newcommand{\\zcycle}[3][]{#1 Z^{#2}_{#3}}\n",
    "  \\newcommand{\\SL}[1][2]{\\mathrm{SL}_{#1}(\\Space{R}{})}\n",
    "  \\newcommand{\\rs}{\\sigma_r}\n",
    "  \\newcommand{\\lvec}[1]{\\overrightarrow{#1}}\n",
    "\\newcommand{\\rmi}{\\mathrm{i}}\n",
    "\\newcommand{\\alli}{\\iota}\n",
    "\\newcommand{\\rme}{\\mathrm{e}}\n",
    "\\newcommand{\\rmd}{\\mathrm{d}}\n",
    "\\newcommand{\\rmh}{\\mathrm{j}}\n",
    "\\newcommand{\\rmp}{\\varepsilon}\n",
    "\\newcommand{\\modulus}[2][]{\\left| #2 \\right|_{#1}}\n",
    "\\newcommand{\\sperp}{⋋}\n",
    "$\n",
    "Let $\\cycle{s}{\\bs}$ be the\n",
    "  infinitesimal cycle and $\\cycle[\\breve]{s}{\\bs}=(k,l,n,m)$ be a\n",
    "  generic cycle. Then:\n",
    "\n",
    "1. Both the orthogonality condition $\\cycle{s}{\\bs}\\perp\n",
    "    \\cycle[\\breve]{s}{\\bs}$ and the\n",
    "    f-orthogonality $\\cycle[\\breve]{s}{\\bs} \\sperp\n",
    "    \\cycle{s}{\\bs}$ are given by\n",
    "    \\begin{equation}\n",
    "      ku_0^2-2lu_0+m=O(\\epsilon).\n",
    "    \\end{equation}\n",
    "    In other words, the cycle $\\cycle[\\breve]{s}{\\bs}$ has the real root\n",
    "    $u_0$. \n",
    "2.  The f-orthogonality $\\cycle{s}{\\bs}\n",
    "    \\sperp \\cycle[\\breve]{s}{\\bs}$ is given by\n",
    "    \\begin{equation}\n",
    "      \\label{eq:f-orthog-infinites}\n",
    "      ku_0^2-2lu_0-2nv_0+m=O(\\epsilon).\n",
    "    \\end{equation}\n",
    "    In other words, the cycle $\\cycle[\\breve]{s}{\\bs}$ passes the focus\n",
    "    $(u_0,v_0)$ of the infinitesimal cycle in the p-implementation. "
   ]
  },
  {
   "cell_type": "markdown",
   "id": "6518f572-5444-4529-9e5c-62dbc3ed9908",
   "metadata": {
    "collapsed": false,
    "ein.tags": "worksheet-0",
    "slideshow": {
     "slide_type": "-"
    }
   },
   "source": [
    "**Solution.** Define the new symbol for vertical coordinate of the focus."
   ]
  },
  {
   "cell_type": "code",
   "execution_count": null,
   "id": "0fb81771-52b6-41e2-abb6-2369a58a083c",
   "metadata": {
    "autoscroll": false,
    "collapsed": false,
    "ein.hycell": false,
    "ein.tags": "worksheet-0",
    "slideshow": {
     "slide_type": "-"
    }
   },
   "outputs": [],
   "source": [
    "from init_cycle import *\n",
    "vp=possymbol(\"vp\")"
   ]
  },
  {
   "cell_type": "markdown",
   "id": "954b90e5-859c-41d9-b83d-d2342cdfc69c",
   "metadata": {
    "collapsed": false,
    "ein.tags": "worksheet-0",
    "slideshow": {
     "slide_type": "-"
    }
   },
   "source": [
    "The procedure which will check all statesments."
   ]
  },
  {
   "cell_type": "code",
   "execution_count": null,
   "id": "647e0636-5600-408c-995b-0e50ac8fd893",
   "metadata": {
    "autoscroll": false,
    "collapsed": false,
    "ein.hycell": false,
    "ein.tags": "worksheet-0",
    "slideshow": {
     "slide_type": "-"
    }
   },
   "outputs": [],
   "source": [
    "def infinitesimal_ortho(nval):\n",
    "    epsilon_is_zero = relational(epsilon, 0, eq)\n",
    "    C10 = cycle2D(1, [u, n],  pow(u,2)-pow(n,2)*sign1+pow(epsilon,2), e).subs(nval)\n",
    "    display(Latex(\"Checking infinitesimal cycle: $%s$\" % C10.string()))\n",
    "    display(Latex(\"  Orthogonality (leading term) to infinitesimal cycle is: $%s$\" %\\\n",
    "    C.is_orthogonal(C10, e).series(epsilon_is_zero, 1).normal()))\n",
    "    display(Latex(\"  f-orthogonality of other cycle to infinitesimal: $%s$\" %\\\n",
    "    C.is_f_orthogonal(C10, es).series(epsilon_is_zero, 1).normal()))\n",
    "    return Latex(\"  f-orthogonality of infinitesimal cycle to other: $%s$\" %\\\n",
    "    C10.is_f_orthogonal(C, es).series(epsilon_is_zero, 3).normal())"
   ]
  },
  {
   "cell_type": "markdown",
   "id": "5b0384e6-f742-4d49-9cc0-6e2bb40bc7d3",
   "metadata": {
    "collapsed": false,
    "ein.tags": "worksheet-0",
    "slideshow": {
     "slide_type": "-"
    }
   },
   "source": [
    "The first type of infinitesimal cycle"
   ]
  },
  {
   "cell_type": "code",
   "execution_count": null,
   "id": "b345cc3b-7348-4671-9c50-2510637b6409",
   "metadata": {
    "autoscroll": false,
    "collapsed": false,
    "ein.hycell": false,
    "ein.tags": "worksheet-0",
    "slideshow": {
     "slide_type": "-"
    }
   },
   "outputs": [],
   "source": [
    "infinitesimal_ortho([n==(vp-(pow(pow(vp,2)-pow(epsilon,2)*(sign2-sign1),half)))/(sign2-sign1)])"
   ]
  },
  {
   "cell_type": "markdown",
   "id": "974eeb95-7668-40c2-9d96-276ddf1848dd",
   "metadata": {
    "collapsed": false,
    "ein.tags": "worksheet-0",
    "slideshow": {
     "slide_type": "-"
    }
   },
   "source": [
    "The parabolic-focus infinitesimal cycle."
   ]
  },
  {
   "cell_type": "code",
   "execution_count": null,
   "id": "5ef4f3cc-3c3c-45fe-98d2-76c8f4968fc6",
   "metadata": {
    "autoscroll": false,
    "collapsed": false,
    "ein.hycell": false,
    "ein.tags": "worksheet-0",
    "slideshow": {
     "slide_type": "-"
    }
   },
   "outputs": [],
   "source": [
    "infinitesimal_ortho([n==pow(epsilon,2)/2/vp, sign2==sign1])"
   ]
  },
  {
   "cell_type": "markdown",
   "id": "6e4f27db-65ae-4c0f-ab65-7138139246b8",
   "metadata": {
    "collapsed": false
   },
   "source": [
    "\n",
    "This notebook is a part of the *MoebInv notebooks* project [ [2] ](#[2]).\n",
    "\n",
    "### References\n",
    "<a id=\"references\"></a>\n",
    "<a id=\"[1]\"></a>\n",
    "1. Vladimir V. Kisil. *Geometry of Möbius Transformations: Elliptic, Parabolic and Hyperbolic Actions of $SL_2(\\mathbb{R})$*. [Imperial College Press](https://www.worldscientific.com/worldscibooks/10.1142/p835), London, 2012. Includes a live DVD.\n",
    "\n",
    "   <a id=\"[2]\"></a>\n",
    "2.  Vladimir V. Kisil, [*MoebInv notebooks*](https://github.com/vvkisil/MoebInv-notebooks), 2019.\n",
    "\n",
    "[Back to Folder](https://github.com/vvkisil/MoebInv-notebooks/blob/master/EPAL-v1/)\n"
   ]
  }
 ],
 "metadata": {
  "kernelspec": {
   "argv": [
    "/usr/bin/python3",
    "-m",
    "ipykernel_launcher",
    "-f",
    "{connection_file}"
   ],
   "display_name": "Python 3 (ipykernel)",
   "env": null,
   "interrupt_mode": "signal",
   "language": "python",
   "metadata": {
    "debugger": true
   },
   "name": "python3"
  },
  "language_info": {
   "codemirror_mode": {
    "name": "ipython",
    "version": 3
   },
   "file_extension": ".py",
   "mimetype": "text/x-python",
   "name": "python",
   "nbconvert_exporter": "python",
   "pygments_lexer": "ipython3",
   "version": "3.6.4"
  },
  "name": "ex.I.7.26.ipynb"
 },
 "nbformat": 4,
 "nbformat_minor": 2
}
