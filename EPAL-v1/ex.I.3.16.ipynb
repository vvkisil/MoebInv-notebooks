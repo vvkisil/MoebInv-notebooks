{
 "cells": [
  {
   "cell_type": "markdown",
   "id": "a7ceb99e-5953-4091-a757-a0b9a966e7d4",
   "metadata": {
    "collapsed": false
   },
   "source": [
    "<table style=\"width:100%\">\n",
    "    <tr>\n",
    "        <td>\n",
    "            <a href=\"http://www1.maths.leeds.ac.uk/~kisilv/MoebInv-notebooks/EPAL-v1/ex.I.3.16.html\">\n",
    "  <img src=\"../svg/view-html.svg\" alt=\"Open In Colab\"/>\n",
    "            </a>\n",
    "        </td>\n",
    "        <td>\n",
    "<a href=\"https://github.com/vvkisil/MoebInv-notebooks/blob/master/EPAL-v1/ex.I.3.16.ipynb\">\n",
    "  <img src=\"../svg/open-github.svg\" alt=\"Open In Colab\"/>\n",
    "            </a>\n",
    "        </td>\n",
    "        <td>\n",
    "            <a href=\"https://colab.research.google.com/github/vvkisil/MoebInv-notebooks/blob/master/EPAL-v1/ex.I.3.16.ipynb\">\n",
    "  <img src=\"../svg/exec-colab.svg\" alt=\"Open In Colab\"/>\n",
    "            </a>\n",
    "        </td>\n",
    "        <td>\n",
    "            <a href=\"https://codeocean.com/capsule/7952650/tree\">\n",
    "  <img src=\"../svg/code-ocean.svg\" alt=\"Code Ocean\"/>\n",
    "            </a>\n",
    "        </td>\n",
    "    </tr>\n",
    " </table>\n",
    "\n",
    "<a  align=\"center\" href=\"https://colab.research.google.com/github/vvkisil/MoebInv-notebooks/blob/master/Introduction/Software_installation_GUI_integration.ipynb\">Google CoLab software installation</a>\n"
   ]
  },
  {
   "cell_type": "markdown",
   "id": "57091fa0-c695-46c3-9af8-2886471a72ae",
   "metadata": {
    "collapsed": false,
    "ein.tags": "worksheet-0",
    "slideshow": {
     "slide_type": "-"
    }
   },
   "source": [
    "# First unification of EPH geometries in 3D and rotations of a cone\n",
    "\n",
    "**Exercise I.3.16** [ [1] ](#[1]) Verify that the rotation of a cone's generator corresponds to the\n",
    "Möbius transformations in three planes.\n"
   ]
  },
  {
   "cell_type": "markdown",
   "id": "ca88c189-3111-44d7-ba4f-9bde13bf178a",
   "metadata": {
    "collapsed": false,
    "ein.tags": "worksheet-0",
    "slideshow": {
     "slide_type": "-"
    }
   },
   "source": [
    "**Solution.** First we define a procedure to check collinearity of two vectors"
   ]
  },
  {
   "cell_type": "code",
   "execution_count": null,
   "id": "2f323ded-41c2-40c1-955a-4837f3fd666d",
   "metadata": {
    "autoscroll": false,
    "collapsed": false,
    "ein.hycell": false,
    "ein.tags": "worksheet-0",
    "slideshow": {
     "slide_type": "-"
    }
   },
   "outputs": [],
   "source": [
    "from init_cycle import *\n",
    "def is_collinear(X, Y):\n",
    "    return bool((X[0]*Y[1]-X[1]*Y[0]).normal().is_zero() \\\n",
    "    and (X[0]*Y[2]-X[2]*Y[0]).normal().is_zero())"
   ]
  },
  {
   "cell_type": "markdown",
   "id": "4f5190d7-595b-4880-8ae4-18e6c38f2ac4",
   "metadata": {
    "collapsed": false,
    "ein.tags": "worksheet-0",
    "slideshow": {
     "slide_type": "-"
    }
   },
   "source": [
    "It is handy to have precooked $\\sqrt{2}$ ready."
   ]
  },
  {
   "cell_type": "code",
   "execution_count": null,
   "id": "6249e183-a1d7-43aa-b96f-78c79b5a0aed",
   "metadata": {
    "autoscroll": false,
    "collapsed": false,
    "ein.hycell": false,
    "ein.tags": "worksheet-0",
    "slideshow": {
     "slide_type": "-"
    }
   },
   "outputs": [],
   "source": [
    "sqrt2=pow(2,numeric(1,2))"
   ]
  },
  {
   "cell_type": "markdown",
   "id": "182179a5-b5ac-4e45-9413-52e1336419fe",
   "metadata": {
    "collapsed": false,
    "ein.tags": "worksheet-0",
    "slideshow": {
     "slide_type": "-"
    }
   },
   "source": [
    "Calculate components of the Moebius transform with matrix $\\begin{pmatrix}a&b\\\\-b&a\\end{pmatrix}$ from $K$"
   ]
  },
  {
   "cell_type": "code",
   "execution_count": null,
   "id": "b8e0557d-769b-477c-9fbb-cca2fafd130f",
   "metadata": {
    "autoscroll": false,
    "collapsed": false,
    "ein.hycell": false,
    "ein.tags": "worksheet-0",
    "slideshow": {
     "slide_type": "-"
    }
   },
   "outputs": [],
   "source": [
    "[U,V]=clifford_moebius_map(sl2_clifford([a, b, -b, a], e),[0, v], e)"
   ]
  },
  {
   "cell_type": "markdown",
   "id": "c38fdc84-3e54-4357-bbd8-ce8dd62a401b",
   "metadata": {
    "collapsed": false,
    "ein.tags": "worksheet-0",
    "slideshow": {
     "slide_type": "-"
    }
   },
   "source": [
    "The cone vertex is $(0, (v+1/v)/2, (v-1/v)/2)$.\n",
    "Vector from the cone's  vertix to the elliptic point ($\\sigma=-1$)."
   ]
  },
  {
   "cell_type": "code",
   "execution_count": null,
   "id": "22344340-d905-4106-9229-f990e8a1e6ce",
   "metadata": {
    "autoscroll": false,
    "collapsed": false,
    "ein.hycell": false,
    "ein.tags": "worksheet-0",
    "slideshow": {
     "slide_type": "-"
    }
   },
   "outputs": [],
   "source": [
    "E=[-U.subs({sign : -1}), (v+1/v)/2-V.subs({sign : -1}), (v-1/v)/2]"
   ]
  },
  {
   "cell_type": "markdown",
   "id": "8e345aa3-f81e-432f-86a1-b076c0ba2cd7",
   "metadata": {
    "collapsed": false,
    "ein.tags": "worksheet-0",
    "slideshow": {
     "slide_type": "-"
    }
   },
   "source": [
    "Vector from the cone's  vertix to the parabolic point ($\\sigma=0$)."
   ]
  },
  {
   "cell_type": "code",
   "execution_count": null,
   "id": "457cc601-3c21-46ce-8a9a-f4078b349c90",
   "metadata": {
    "autoscroll": false,
    "collapsed": false,
    "ein.hycell": false,
    "ein.tags": "worksheet-0",
    "slideshow": {
     "slide_type": "-"
    }
   },
   "outputs": [],
   "source": [
    "P=[-U.subs({v : v/sqrt2, sign : 0}), \\\n",
    "(v+1/v)/2-V.subs({v : v/sqrt2, sign : 0})/sqrt2, \\\n",
    "(v-1/v)/2-V.subs({v : v/sqrt2, sign : 0})/sqrt2]"
   ]
  },
  {
   "cell_type": "markdown",
   "id": "bd52e108-1e2c-443d-acaf-04ac6d96357e",
   "metadata": {
    "collapsed": false,
    "ein.tags": "worksheet-0",
    "slideshow": {
     "slide_type": "-"
    }
   },
   "source": [
    "Vector from the cone's  vertix to the hyperbolic point ($\\sigma==1$)."
   ]
  },
  {
   "cell_type": "code",
   "execution_count": null,
   "id": "8441dfa7-2aa0-4e5a-b373-ad7e0515aafa",
   "metadata": {
    "autoscroll": false,
    "collapsed": false,
    "ein.hycell": false,
    "ein.tags": "worksheet-0",
    "slideshow": {
     "slide_type": "-"
    }
   },
   "outputs": [],
   "source": [
    "H=[-U.subs({sign : 1}), (v+1/v)/2, (v-1/v)/2-V.subs({sign : 1})]"
   ]
  },
  {
   "cell_type": "markdown",
   "id": "1be118e2-9fe7-4e27-b095-42a94da59761",
   "metadata": {
    "collapsed": false,
    "ein.tags": "worksheet-0",
    "slideshow": {
     "slide_type": "-"
    }
   },
   "source": [
    "Check collinearity of points `E` and `P`"
   ]
  },
  {
   "cell_type": "code",
   "execution_count": null,
   "id": "b2970344-4f02-467c-93fe-d03b053b403c",
   "metadata": {
    "autoscroll": false,
    "collapsed": false,
    "ein.hycell": false,
    "ein.tags": "worksheet-0",
    "slideshow": {
     "slide_type": "-"
    }
   },
   "outputs": [],
   "source": [
    "\"E and P are collinear: %s\" % is_collinear(E, P)"
   ]
  },
  {
   "cell_type": "markdown",
   "id": "3e4e60a3-5e60-4eb8-9afc-4507edd8851a",
   "metadata": {
    "collapsed": false,
    "ein.tags": "worksheet-0",
    "slideshow": {
     "slide_type": "-"
    }
   },
   "source": [
    "Check collinearity `E` and `H`"
   ]
  },
  {
   "cell_type": "code",
   "execution_count": null,
   "id": "e5380d30-abd7-4ef8-b62c-19964c80b4ce",
   "metadata": {
    "autoscroll": false,
    "collapsed": false,
    "ein.hycell": false,
    "ein.tags": "worksheet-0",
    "slideshow": {
     "slide_type": "-"
    }
   },
   "outputs": [],
   "source": [
    "\"E and H are collinear: %s\" % is_collinear(E, H)"
   ]
  },
  {
   "cell_type": "markdown",
   "id": "8c075a32-d966-4b0a-a084-ae1a66222f22",
   "metadata": {
    "collapsed": false
   },
   "source": [
    "\n",
    "This notebook is a part of the *MoebInv notebooks* project [ [2] ](#[2]).\n",
    "\n",
    "### References\n",
    "<a id=\"references\"></a>\n",
    "<a id=\"[1]\"></a>\n",
    "1. Vladimir V. Kisil. *Geometry of Möbius Transformations: Elliptic, Parabolic and Hyperbolic Actions of $SL_2(\\mathbb{R})$*. [Imperial College Press](https://www.worldscientific.com/worldscibooks/10.1142/p835), London, 2012. Includes a live DVD.\n",
    "\n",
    "   <a id=\"[2]\"></a>\n",
    "2.  Vladimir V. Kisil, [*MoebInv notebooks*](https://github.com/vvkisil/MoebInv-notebooks), 2019.\n",
    "\n",
    "[Back to Folder](https://github.com/vvkisil/MoebInv-notebooks/blob/master/EPAL-v1/)\n"
   ]
  }
 ],
 "metadata": {
  "kernelspec": {
   "argv": [
    "/usr/bin/python3",
    "-m",
    "ipykernel_launcher",
    "-f",
    "{connection_file}"
   ],
   "display_name": "Python 3 (ipykernel)",
   "env": null,
   "interrupt_mode": "signal",
   "language": "python",
   "metadata": {
    "debugger": true
   },
   "name": "python3"
  },
  "language_info": {
   "codemirror_mode": {
    "name": "ipython",
    "version": 3
   },
   "file_extension": ".py",
   "mimetype": "text/x-python",
   "name": "python",
   "nbconvert_exporter": "python",
   "pygments_lexer": "ipython3",
   "version": "3.6.4"
  },
  "name": "ex.I.3.16.ipynb"
 },
 "nbformat": 4,
 "nbformat_minor": 5
}
