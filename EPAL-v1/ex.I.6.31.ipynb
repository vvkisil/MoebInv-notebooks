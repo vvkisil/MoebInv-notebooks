{
 "cells": [
  {
   "cell_type": "markdown",
   "id": "01cf2f17-cff9-4664-84c0-080bd35a9ed8",
   "metadata": {
    "collapsed": false
   },
   "source": [
    "<table style=\"width:100%\">\n",
    "    <tr>\n",
    "        <td>\n",
    "            <a href=\"http://v-v-kisil.rf.gd/MoebInv-notebooks/EPAL-v1/ex.I.6.31.html\">\n",
    "  <img src=\"../svg/view-html.svg\" alt=\"Open In Colab\"/>\n",
    "            </a>\n",
    "        </td>\n",
    "        <td>\n",
    "<a href=\"https://github.com/vvkisil/MoebInv-notebooks/blob/master/EPAL-v1/ex.I.6.31.ipynb\">\n",
    "  <img src=\"../svg/open-github.svg\" alt=\"Open In Colab\"/>\n",
    "            </a>\n",
    "        </td>\n",
    "        <td>\n",
    "            <a href=\"https://colab.research.google.com/github/vvkisil/MoebInv-notebooks/blob/master/EPAL-v1/ex.I.6.31.ipynb\">\n",
    "  <img src=\"../svg/exec-colab.svg\" alt=\"Open In Colab\"/>\n",
    "            </a>\n",
    "        </td>\n",
    "        <td>\n",
    "            <a href=\"https://codeocean.com/capsule/7952650/tree\">\n",
    "  <img src=\"../svg/code-ocean.svg\" alt=\"Code Ocean\"/>\n",
    "            </a>\n",
    "        </td>\n",
    "    </tr>\n",
    " </table>\n",
    "\n",
    "<a  align=\"center\" href=\"https://colab.research.google.com/github/vvkisil/MoebInv-notebooks/blob/master/Introduction/Software_installation_GUI_integration.ipynb\">Google CoLab software installation</a>\n"
   ]
  },
  {
   "cell_type": "markdown",
   "id": "c9a54752-82b2-4feb-ac50-2691e24bc4f2",
   "metadata": {
    "collapsed": false,
    "ein.tags": "worksheet-0",
    "slideshow": {
     "slide_type": "-"
    }
   },
   "source": [
    "# Properties of conjugation of a real line to a certain cycle\n",
    "\n",
    "**Exercise I.6.31** [ [1] ](#[1])\n",
    "$\n",
    "\\newcommand{\\scalar}[3][]{\\left\\langle #2,#3 \n",
    "        \\right\\rangle_{#1}}\n",
    "\\newcommand{\\Space}[3][]{\\mathbb{#2}^{#3}_{#1}}\n",
    "\\newcommand{\\Space}[3][]{\\mathbb{#2}^{#3}_{#1}}\n",
    "  \\newcommand{\\cycle}[3][]{{#1 C^{#2}_{#3}}}\n",
    "  \\newcommand{\\realline}[3][]{#1 R^{#2}_{#3}}\n",
    "  \\newcommand{\\bs}{\\breve{\\sigma}}\n",
    "  \\newcommand{\\zcycle}[3][]{#1 Z^{#2}_{#3}}\n",
    "  \\newcommand{\\SL}[1][2]{\\mathrm{SL}_{#1}(\\Space{R}{})}\n",
    "  \\newcommand{\\rs}{\\sigma_r}\n",
    "  \\newcommand{\\lvec}[1]{\\overrightarrow{#1}}\n",
    "$\n",
    " Let $\\cycle{s}{\\bs}=(k, l, n,m)$ be\n",
    "  a cycle such that $\\bs \\det\\cycle{s}{\\bs}>0$ for $\\bs\\neq\n",
    "  0$. Let us define the cycle $\\cycle[\\tilde]{s}{\\bs}$ by the\n",
    "  quadruple $(k, l, n\\pm\\sqrt{\\bs \\det\\cycle{s}{\\bs}},m)$. Then:\n",
    "\n",
    "1. $\\cycle[\\tilde]{s}{\\bs} \\cycle{s}{\\bs} \\cycle[\\tilde]{s}{\\bs}\n",
    "    = \\Space{R}{}$ and $\\cycle[\\tilde]{s}{\\bs} \\Space{R}{}\n",
    "    \\cycle[\\tilde]{s}{\\bs} =  \\cycle{s}{\\bs}$.\n",
    "2.     $\\cycle[\\tilde]{s}{\\bs}$ and $\\cycle{s}{\\bs}$ have common\n",
    "    roots.\n",
    "3.    In the $\\bs$-implementation, the cycle $\\cycle{s}{\\bs}$ passes\n",
    "    the centre of $\\cycle[\\tilde]{s}{\\bs}$.\n",
    "\n",
    "**Hint.**\n",
    "    One can directly observe for real roots,\n",
    "    since they are fixed points of the inversion. Also, the\n",
    "    transformation of $\\cycle{s}{\\bs}$ to a flat cycle implies that\n",
    "    $\\cycle{s}{\\bs}$ passes the centre of inversion,\n",
    "    hence.  There is also a CAS calculation for\n",
    "    this."
   ]
  },
  {
   "cell_type": "markdown",
   "id": "b06f0caa-703e-4f44-88df-c1241979406d",
   "metadata": {
    "collapsed": false,
    "ein.tags": "worksheet-0",
    "slideshow": {
     "slide_type": "-"
    }
   },
   "source": [
    "**Solution.** We independently check values $\\sigma=-1$ and $\\sigma=1$."
   ]
  },
  {
   "cell_type": "code",
   "execution_count": null,
   "id": "6feaec54-d768-42bb-b1e4-15444bf69c1d",
   "metadata": {
    "autoscroll": false,
    "collapsed": false,
    "ein.hycell": false,
    "ein.tags": "worksheet-0",
    "slideshow": {
     "slide_type": "-"
    }
   },
   "outputs": [],
   "source": [
    "from init_cycle import *\n",
    "for si in range(-1,2,2):\n",
    "    print(\"Inversion to the real line (with %s sign):\" % si)\n",
    "    # We define a cycle by the required quadruple\n",
    "    C9 = cycle2D(k, [l, n+si*pow(C.hdet(es)*sign1, half)], m, es)\n",
    "\n",
    "    # Check that the conjugation send the real line to C and wise verse \n",
    "    print(\"   Conjugation of the real line is the cycle C: %s\" %\\\n",
    "    real_line.cycle_similarity(C9, es).subs({pow(sign1,2) : 1}, subs_options.algebraic).is_equal(C))\n",
    "    print(\"   Conjugation of the cycle C is the real line: %s\" %\\\n",
    "    C.cycle_similarity(C9, es).subs({pow(sign1,2) : 1}, subs_options.algebraic).is_equal(real_line))\n",
    "\n",
    "    # Check roots and the centre incidence\n",
    "    print(\"   Inversion cycle has common roots with C: %s\" %\\\n",
    "    (C9.val([C.roots()[0], 0]).numer().normal().is_zero()\\\n",
    "    and C9.val([C.roots()[1], 0]).numer().normal().is_zero()))\n",
    "    print(\"   C passing the centre of inversion cycle: %s\" %\\\n",
    "    cycle2D(C, es).val(C9.center()).numer().subs({sign1 : sign}).expand()\\\n",
    "          .subs({pow(sign,2) : 1}, subs_options.algebraic).is_zero())\n"
   ]
  },
  {
   "cell_type": "markdown",
   "id": "2c4dfcf1-bc2f-415b-a75e-2f7c7cfced58",
   "metadata": {
    "collapsed": false
   },
   "source": [
    "\n",
    "This notebook is a part of the *MoebInv notebooks* project [ [2] ](#[2]).\n",
    "\n",
    "### References\n",
    "<a id=\"references\"></a>\n",
    "<a id=\"[1]\"></a>\n",
    "1. Vladimir V. Kisil. *Geometry of Möbius Transformations: Elliptic, Parabolic and Hyperbolic Actions of $SL_2(\\mathbb{R})$*. [Imperial College Press](https://www.worldscientific.com/worldscibooks/10.1142/p835), London, 2012. Includes a live DVD.\n",
    "\n",
    "   <a id=\"[2]\"></a>\n",
    "2.  Vladimir V. Kisil, [*MoebInv notebooks*](https://github.com/vvkisil/MoebInv-notebooks), 2019.\n",
    "\n",
    "[Back to Folder](https://github.com/vvkisil/MoebInv-notebooks/blob/master/EPAL-v1/)\n"
   ]
  }
 ],
 "metadata": {
  "kernelspec": {
   "argv": [
    "/usr/bin/python3",
    "-m",
    "ipykernel_launcher",
    "-f",
    "{connection_file}"
   ],
   "display_name": "Python 3 (ipykernel)",
   "env": null,
   "interrupt_mode": "signal",
   "language": "python",
   "metadata": {
    "debugger": true
   },
   "name": "python3"
  },
  "language_info": {
   "codemirror_mode": {
    "name": "ipython",
    "version": 3
   },
   "file_extension": ".py",
   "mimetype": "text/x-python",
   "name": "python",
   "nbconvert_exporter": "python",
   "pygments_lexer": "ipython3",
   "version": "3.6.4"
  },
  "name": "ex.I.6.31.ipynb"
 },
 "nbformat": 4,
 "nbformat_minor": 5
}
