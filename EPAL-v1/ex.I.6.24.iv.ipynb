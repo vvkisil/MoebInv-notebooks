{
 "cells": [
  {
   "cell_type": "markdown",
   "id": "32277b83-ea38-40a2-ba3d-853bba666370",
   "metadata": {
    "collapsed": false
   },
   "source": [
    "<table style=\"width:100%\">\n",
    "    <tr>\n",
    "        <td>\n",
    "            <a href=\"http://v-v-kisil.rf.gd/MoebInv-notebooks/EPAL-v1/ex.I.6.24.iv.html\">\n",
    "  <img src=\"../svg/view-html.svg\" alt=\"Open In Colab\"/>\n",
    "            </a>\n",
    "        </td>\n",
    "        <td>\n",
    "<a href=\"https://github.com/vvkisil/MoebInv-notebooks/blob/master/EPAL-v1/ex.I.6.24.iv.ipynb\">\n",
    "  <img src=\"../svg/open-github.svg\" alt=\"Open In Colab\"/>\n",
    "            </a>\n",
    "        </td>\n",
    "        <td>\n",
    "            <a href=\"https://colab.research.google.com/github/vvkisil/MoebInv-notebooks/blob/master/EPAL-v1/ex.I.6.24.iv.ipynb\">\n",
    "  <img src=\"../svg/exec-colab.svg\" alt=\"Open In Colab\"/>\n",
    "            </a>\n",
    "        </td>\n",
    "        <td>\n",
    "            <a href=\"https://codeocean.com/capsule/7952650/tree\">\n",
    "  <img src=\"../svg/code-ocean.svg\" alt=\"Code Ocean\"/>\n",
    "            </a>\n",
    "        </td>\n",
    "    </tr>\n",
    " </table>\n",
    "\n",
    "<a  align=\"center\" href=\"https://colab.research.google.com/github/vvkisil/MoebInv-notebooks/blob/master/Introduction/Software_installation_GUI_integration.ipynb\">Google CoLab software installation</a>\n"
   ]
  },
  {
   "cell_type": "markdown",
   "id": "c810412d-8a5b-4ab7-ac7c-911fc6b7dd0f",
   "metadata": {
    "collapsed": false,
    "ein.tags": "worksheet-0",
    "slideshow": {
     "slide_type": "-"
    }
   },
   "source": [
    "# There is no a suitable point space map in parabolic case for cycle conjugation\n",
    "\n",
    "**Exercise I.6.24.iv** [ [1] ](#[1])\n",
    "$\n",
    "\\newcommand{\\scalar}[3][]{\\left\\langle #2,#3 \n",
    "        \\right\\rangle_{#1}}\n",
    "\\newcommand{\\Space}[3][]{\\mathbb{#2}^{#3}_{#1}}\n",
    "\\newcommand{\\Space}[3][]{\\mathbb{#2}^{#3}_{#1}}\n",
    "  \\newcommand{\\cycle}[3][]{{#1 C^{#2}_{#3}}}\n",
    "  \\newcommand{\\realline}[3][]{#1 R^{#2}_{#3}}\n",
    "  \\newcommand{\\bs}{\\breve{\\sigma}}\n",
    "  \\newcommand{\\zcycle}[3][]{#1 Z^{#2}_{#3}}\n",
    "  \\newcommand{\\SL}[1][2]{\\mathrm{SL}_{#1}(\\Space{R}{})}\n",
    "  \\newcommand{\\rs}{\\sigma_r}\n",
    "  \\newcommand{\\lvec}[1]{\\overrightarrow{#1}}\n",
    "\\newcommand{\\rmi}{\\mathrm{i}}\n",
    "\\newcommand{\\alli}{\\iota}\n",
    "\\newcommand{\\rme}{\\mathrm{e}}\n",
    "\\newcommand{\\rmd}{\\mathrm{d}}\n",
    "\\newcommand{\\rmh}{\\mathrm{j}}\n",
    "\\newcommand{\\rmp}{\\varepsilon}\n",
    "\\newcommand{\\modulus}[2][]{\\left| #2 \\right|_{#1}}\n",
    "\\newcommand{\\sperp}{⋋}\n",
    "$\n",
    "There is \n",
    "    a cycle $\\cycle{s}{\\sigma}$ such that neither map of the\n",
    "    parabolic point space $\\Space[p]{R}{}$ represents similarity with\n",
    "    $\\cycle{s}{\\sigma}$.\n",
    "\n",
    "**Hint.**\n",
    "      Consider $\\cycle[\\tilde]{s}{\\sigma}=(1,0,\\frac{1}{2},-1)$ and\n",
    "      a cycle $\\cycle{s}{\\sigma}$ passing point $(u,v)$. Then the\n",
    "      similarity of $\\cycle{s}{\\sigma}$ with\n",
    "      $\\cycle[\\tilde]{s}{\\sigma}$ passes the point\n",
    "      $T(u,v)=(\\frac{1+v}{u},\\frac{v+v^2}{u^2})$ if and only if  either\n",
    "\n",
    "+ $\\cycle{s}{\\sigma}$ is a straight line, or\n",
    "+ $(u,v)$ belongs to $\\cycle[\\tilde]{s}{\\sigma}$ and is fixed by the above map $T$.\n",
    "\n",
    "That is, the map $T$ of the point space $\\Space[p]{R}{}$ serves\n",
    "      flat cycles and $\\cycle[\\tilde]{s}{\\sigma}$ but no others. Thus,\n",
    "      there is no map of the point space which is compatible with the\n",
    "      cycle similarity for an arbitrary cycle."
   ]
  },
  {
   "cell_type": "markdown",
   "id": "ad37cf96-e89f-4351-8d3d-303f0022d087",
   "metadata": {
    "collapsed": false,
    "ein.tags": "worksheet-0",
    "slideshow": {
     "slide_type": "-"
    }
   },
   "source": [
    "**Solution.** We take an inversion in this parabolic cycle"
   ]
  },
  {
   "cell_type": "code",
   "execution_count": null,
   "id": "fe464f6c-776d-42bf-bc8f-5fd5b0a218e4",
   "metadata": {
    "autoscroll": false,
    "collapsed": false,
    "ein.hycell": false,
    "ein.tags": "worksheet-0",
    "slideshow": {
     "slide_type": "-"
    }
   },
   "outputs": [],
   "source": [
    "from init_cycle import *\n",
    "Cp=cycle2D(1,[0,half],-1,e)"
   ]
  },
  {
   "cell_type": "markdown",
   "id": "2289ed6a-e1e4-4812-ab85-2ddba74f6bb4",
   "metadata": {
    "collapsed": false,
    "ein.tags": "worksheet-0",
    "slideshow": {
     "slide_type": "-"
    }
   },
   "source": [
    "The image of the parabolic iversion"
   ]
  },
  {
   "cell_type": "code",
   "execution_count": null,
   "id": "590fe06b-51f8-41ec-954d-b6cdf1fc04e5",
   "metadata": {
    "autoscroll": false,
    "collapsed": false,
    "ein.hycell": false,
    "ein.tags": "worksheet-0",
    "slideshow": {
     "slide_type": "-"
    }
   },
   "outputs": [],
   "source": [
    "Pn=[(1+v)/u,v/u*(1+v)/u]"
   ]
  },
  {
   "cell_type": "markdown",
   "id": "b365fba8-7ae1-4d63-a9f9-fada64c61812",
   "metadata": {
    "collapsed": false,
    "ein.tags": "worksheet-0",
    "slideshow": {
     "slide_type": "-"
    }
   },
   "source": [
    "A cycle passing `Pn`"
   ]
  },
  {
   "cell_type": "code",
   "execution_count": null,
   "id": "2fd807d6-847b-41e2-b8ce-2512abd52b2b",
   "metadata": {
    "autoscroll": false,
    "collapsed": false,
    "ein.hycell": false,
    "ein.tags": "worksheet-0",
    "slideshow": {
     "slide_type": "-"
    }
   },
   "outputs": [],
   "source": [
    "Cn=C.subject_to(C.passing(P))"
   ]
  },
  {
   "cell_type": "code",
   "execution_count": null,
   "id": "c31f0e95-6377-48c7-bbe0-88ffba7486a6",
   "metadata": {
    "autoscroll": false,
    "collapsed": false,
    "ein.hycell": false,
    "ein.tags": "worksheet-0",
    "slideshow": {
     "slide_type": "-"
    }
   },
   "outputs": [],
   "source": [
    "print(\"Passing original: %s\" % bool(Cn.passing(P).subs({sign : 0})))\n",
    "Latex(\"Pass image if and only if: $%s$\" %\\\n",
    "Cn.cycle_similarity(Cp,es).val(Pn).subs({sign : 0}).normal())"
   ]
  },
  {
   "cell_type": "markdown",
   "id": "4c21ad7d-c300-43e8-8be7-8c0913a6af93",
   "metadata": {
    "collapsed": false,
    "ein.tags": "worksheet-0",
    "slideshow": {
     "slide_type": "-"
    }
   },
   "source": [
    "We calculate images of two lines from the grid passing (u,v)<br>"
   ]
  },
  {
   "cell_type": "code",
   "execution_count": null,
   "id": "2fda1831-49f7-4522-9384-0b903220df21",
   "metadata": {
    "autoscroll": false,
    "collapsed": false,
    "ein.hycell": false,
    "ein.tags": "worksheet-0",
    "slideshow": {
     "slide_type": "-"
    }
   },
   "outputs": [],
   "source": [
    "Cu=cycle2D(0,[half,0],u,e).cycle_similarity(Cp)\n",
    "Cv=cycle2D(0,[0,half],v,e).cycle_similarity(Cp)\n",
    "Latex(\"Parabolic inversion maps $(u,v)$ to $(%s, %s)$: %s\" %\n",
    "(Pn[0],Pn[1],\\\n",
    "bool(Cu.subs(sign==0).passing(Pn)) and bool(Cv.subs(sign==0).passing(Pn))))"
   ]
  },
  {
   "cell_type": "markdown",
   "id": "1ba145bc-66c2-47d9-9c25-959d2c523d47",
   "metadata": {
    "collapsed": false
   },
   "source": [
    "\n",
    "This notebook is a part of the *MoebInv notebooks* project [ [2] ](#[2]).\n",
    "\n",
    "### References\n",
    "<a id=\"references\"></a>\n",
    "<a id=\"[1]\"></a>\n",
    "1. Vladimir V. Kisil. *Geometry of Möbius Transformations: Elliptic, Parabolic and Hyperbolic Actions of $SL_2(\\mathbb{R})$*. [Imperial College Press](https://www.worldscientific.com/worldscibooks/10.1142/p835), London, 2012. Includes a live DVD.\n",
    "\n",
    "   <a id=\"[2]\"></a>\n",
    "2.  Vladimir V. Kisil, [*MoebInv notebooks*](https://github.com/vvkisil/MoebInv-notebooks), 2019.\n",
    "\n",
    "[Back to Folder](https://github.com/vvkisil/MoebInv-notebooks/blob/master/EPAL-v1/)\n"
   ]
  }
 ],
 "metadata": {
  "kernelspec": {
   "argv": [
    "/usr/bin/python3",
    "-m",
    "ipykernel_launcher",
    "-f",
    "{connection_file}"
   ],
   "display_name": "Python 3 (ipykernel)",
   "env": null,
   "interrupt_mode": "signal",
   "language": "python",
   "metadata": {
    "debugger": true
   },
   "name": "python3"
  },
  "language_info": {
   "codemirror_mode": {
    "name": "ipython",
    "version": 3
   },
   "file_extension": ".py",
   "mimetype": "text/x-python",
   "name": "python",
   "nbconvert_exporter": "python",
   "pygments_lexer": "ipython3",
   "version": "3.6.4"
  },
  "name": "ex.I.6.24.iv.ipynb"
 },
 "nbformat": 4,
 "nbformat_minor": 5
}
