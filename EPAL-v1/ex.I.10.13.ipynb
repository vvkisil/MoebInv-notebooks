{
 "cells": [
  {
   "cell_type": "markdown",
   "id": "5f8b8e1c-39e0-4590-b3d0-14b8d2bebb21",
   "metadata": {
    "collapsed": false
   },
   "source": [
    "<table style=\"width:100%\">\n",
    "    <tr>\n",
    "        <td>\n",
    "            <a href=\"http://www1.maths.leeds.ac.uk/~kisilv/MoebInv-notebooks/EPAL-v1/ex.I.10.13.html\">\n",
    "  <img src=\"../svg/view-html.svg\" alt=\"Open In Colab\"/>\n",
    "            </a>\n",
    "        </td>\n",
    "        <td>\n",
    "<a href=\"https://github.com/vvkisil/MoebInv-notebooks/blob/master/EPAL-v1/ex.I.10.13.ipynb\">\n",
    "  <img src=\"../svg/open-github.svg\" alt=\"Open In Colab\"/>\n",
    "            </a>\n",
    "        </td>\n",
    "        <td>\n",
    "            <a href=\"https://colab.research.google.com/github/vvkisil/MoebInv-notebooks/blob/master/EPAL-v1/ex.I.10.13.ipynb\">\n",
    "  <img src=\"../svg/exec-colab.svg\" alt=\"Open In Colab\"/>\n",
    "            </a>\n",
    "        </td>\n",
    "        <td>\n",
    "            <a href=\"https://codeocean.com/capsule/7952650/tree\">\n",
    "  <img src=\"../svg/code-ocean.svg\" alt=\"Code Ocean\"/>\n",
    "            </a>\n",
    "        </td>\n",
    "    </tr>\n",
    " </table>\n",
    "\n",
    "<a  align=\"center\" href=\"https://colab.research.google.com/github/vvkisil/MoebInv-notebooks/blob/master/Introduction/Software_installation_GUI_integration.ipynb\">Google CoLab software installation</a>\n"
   ]
  },
  {
   "cell_type": "markdown",
   "id": "ab5f8917-5365-45f3-b660-1391cab46ae1",
   "metadata": {
    "collapsed": false,
    "ein.tags": "worksheet-0",
    "slideshow": {
     "slide_type": "-"
    }
   },
   "source": [
    "# Check relation between parabolic Cayley transform and f-orthogonality\n",
    "\n",
    "**Exercise I.10.13**  [ [1] ](#[1])\n",
    "$\\newcommand{\\Space}[3][]{\\mathbb{#2}^{#3}_{#1}}\n",
    "  \\newcommand{\\cycle}[3][]{{#1 C^{#2}_{#3}}}\n",
    "  \\newcommand{\\realline}[3][]{#1 R^{#2}_{#3}}\n",
    "  \\newcommand{\\bs}{\\breve{\\sigma}}$  An infinitesimal cycle $\\cycle{a}{\\bs}$ I.7.13 is\n",
    "  f-orthogonal (in the sense of Exercise I.7.26.ii) to a\n",
    "  cycle $\\cycle[\\tilde]{a}{\\bs}$ if and only if the Cayley\n",
    "  transform I.10.9(p) of $\\cycle{a}{\\bs}$ is\n",
    "  f-orthogonal to the Cayley transform of $\\cycle[\\tilde]{a}{\\bs}$."
   ]
  },
  {
   "cell_type": "markdown",
   "id": "9332a645-6552-43d4-a9b9-e459276ee6c2",
   "metadata": {
    "collapsed": false,
    "ein.tags": "worksheet-0",
    "slideshow": {
     "slide_type": "-"
    }
   },
   "source": [
    "**Solution.** We "
   ]
  },
  {
   "cell_type": "code",
   "execution_count": null,
   "id": "7c561a6b-a44c-43d6-88bd-2a710aa38cd7",
   "metadata": {
    "autoscroll": false,
    "collapsed": false,
    "ein.hycell": false,
    "ein.tags": "worksheet-0",
    "slideshow": {
     "slide_type": "-"
    }
   },
   "outputs": [],
   "source": [
    "from init_cycle import *\n",
    "vp=possymbol(\"vp\")\n",
    "TC=matrix([[one, -e1], [sign1*e1, one]])"
   ]
  },
  {
   "cell_type": "markdown",
   "id": "137df790-3d46-4f41-9c11-ac0ab3af2232",
   "metadata": {
    "collapsed": false,
    "ein.tags": "worksheet-0",
    "slideshow": {
     "slide_type": "-"
    }
   },
   "source": [
    "We define the procedure which will do the required steps. Cycle `C10` is a cycle of infitesimal radius $\\varepsilon$, `C11` is the Cayley transform of `C10`. We output the distance between the focus of `C11` and the Cayley transform of focus of `C10`. The second output gives the condition of f-orthogonality to be of order $O(\\epsilon^3)$."
   ]
  },
  {
   "cell_type": "code",
   "execution_count": null,
   "id": "4e99bfc4-d79e-43c1-805d-a172daaabd52",
   "metadata": {
    "autoscroll": false,
    "collapsed": false,
    "ein.hycell": false,
    "ein.tags": "worksheet-0",
    "slideshow": {
     "slide_type": "-"
    }
   },
   "outputs": [],
   "source": [
    "def cayley_ortho(nval):\n",
    "    epsilon_is_zero = relational(epsilon, 0, eq)\n",
    "    C10 = cycle2D(1, [u, n],  pow(u,2)-pow(n,2)*sign1+pow(epsilon,2), e).subs(nval)\n",
    "    C11=cayley(C10,0,sign1)\n",
    "    display(Latex(\"Checking infinitesimal cycle: $%s$\" % C10.string()))\n",
    "    displ = (C11.focus(er, True).subs(nval)\\\n",
    "    - clifford_moebius_map(TC, matrix([[u],[vp]]), e)).evalm().normal()\n",
    "    display(Latex(\"  Focus of the Cayley-transformed infinitesimal cycle displaced by: ($%s$, $%s$)\" %\\\n",
    "    (displ.op(0).subs({sign : 0}, subs_options.algebraic).series(epsilon_is_zero,  2).normal(),\\\n",
    "    displ.op(0).subs({sign : 0}, subs_options.algebraic).series(epsilon_is_zero,  2).normal())))     \n",
    "    return Latex(\"  f-orthogonality of Cayley transforms of infinitesimal cycle to other: $%s$\" %\\\n",
    "    C11.is_f_orthogonal(cayley(C,0,sign1), es).series(epsilon_is_zero, 3).normal())"
   ]
  },
  {
   "cell_type": "markdown",
   "id": "26787223-bf4a-47ba-b44f-f8b8779de006",
   "metadata": {
    "collapsed": false,
    "ein.tags": "worksheet-0",
    "slideshow": {
     "slide_type": "-"
    }
   },
   "source": [
    "Finally we make check in to cases. The first one is for parabolic focus. "
   ]
  },
  {
   "cell_type": "code",
   "execution_count": null,
   "id": "748b4f70-440e-49aa-a592-542749cd89c7",
   "metadata": {
    "autoscroll": false,
    "collapsed": false,
    "ein.hycell": false,
    "ein.tags": "worksheet-0",
    "slideshow": {
     "slide_type": "-"
    }
   },
   "outputs": [],
   "source": [
    "cayley_ortho({n : (vp-(pow(pow(vp,2)-pow(epsilon,2)*(sign2-sign1),half)))/(sign2-sign1)})"
   ]
  },
  {
   "cell_type": "markdown",
   "id": "d5b33aea-9770-4e1d-9407-ab8445d3ac8d",
   "metadata": {
    "collapsed": false,
    "ein.tags": "worksheet-0",
    "slideshow": {
     "slide_type": "-"
    }
   },
   "source": [
    "The second check is for parabolic focus (i.e. the vertex) of the parabola. "
   ]
  },
  {
   "cell_type": "code",
   "execution_count": null,
   "id": "f039b137-af0f-47bb-94f3-fa80bbddd8bc",
   "metadata": {
    "autoscroll": false,
    "collapsed": false,
    "ein.hycell": false,
    "ein.tags": "worksheet-0",
    "slideshow": {
     "slide_type": "-"
    }
   },
   "outputs": [],
   "source": [
    "cayley_ortho({n : pow(epsilon,2)/2/vp, sign2 : sign1})"
   ]
  },
  {
   "cell_type": "markdown",
   "id": "105e1e04-a7a2-4d0a-9580-b02fbd8a26d8",
   "metadata": {
    "collapsed": false
   },
   "source": [
    "\n",
    "This notebook is a part of the *MoebInv notebooks* project [ [2] ](#[2]).\n",
    "\n",
    "### References\n",
    "<a id=\"references\"></a>\n",
    "<a id=\"[1]\"></a>\n",
    "1. Vladimir V. Kisil. *Geometry of Möbius Transformations: Elliptic, Parabolic and Hyperbolic Actions of $SL_2(\\mathbb{R})$*. [Imperial College Press](https://www.worldscientific.com/worldscibooks/10.1142/p835), London, 2012. Includes a live DVD.\n",
    "\n",
    "   <a id=\"[2]\"></a>\n",
    "2.  Vladimir V. Kisil, [*MoebInv notebooks*](https://github.com/vvkisil/MoebInv-notebooks), 2019.\n",
    "\n",
    "[Back to Folder](https://github.com/vvkisil/MoebInv-notebooks/blob/master/EPAL-v1/)\n"
   ]
  }
 ],
 "metadata": {
  "kernelspec": {
   "argv": [
    "/usr/bin/python3",
    "-m",
    "ipykernel_launcher",
    "-f",
    "{connection_file}"
   ],
   "display_name": "Python 3 (ipykernel)",
   "env": null,
   "interrupt_mode": "signal",
   "language": "python",
   "metadata": {
    "debugger": true
   },
   "name": "python3"
  },
  "language_info": {
   "codemirror_mode": {
    "name": "ipython",
    "version": 3
   },
   "file_extension": ".py",
   "mimetype": "text/x-python",
   "name": "python",
   "nbconvert_exporter": "python",
   "pygments_lexer": "ipython3",
   "version": "3.6.4"
  },
  "name": "ex.I.10.13.ipynb"
 },
 "nbformat": 4,
 "nbformat_minor": 2
}
