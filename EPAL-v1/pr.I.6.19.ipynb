{
 "cells": [
  {
   "cell_type": "markdown",
   "id": "4a1f650c-0568-4256-abb7-ce340a1dfc2b",
   "metadata": {
    "collapsed": false
   },
   "source": [
    "<table style=\"width:100%\">\n",
    "    <tr>\n",
    "        <td>\n",
    "            <a href=\"http://www1.maths.leeds.ac.uk/~kisilv/MoebInv-notebooks/EPAL-v1/pr.I.6.19.html\">\n",
    "  <img src=\"../svg/view-html.svg\" alt=\"Open In Colab\"/>\n",
    "            </a>\n",
    "        </td>\n",
    "        <td>\n",
    "<a href=\"https://github.com/vvkisil/MoebInv-notebooks/blob/master/EPAL-v1/pr.I.6.19.ipynb\">\n",
    "  <img src=\"../svg/open-github.svg\" alt=\"Open In Colab\"/>\n",
    "            </a>\n",
    "        </td>\n",
    "        <td>\n",
    "            <a href=\"https://colab.research.google.com/github/vvkisil/MoebInv-notebooks/blob/master/EPAL-v1/pr.I.6.19.ipynb\">\n",
    "  <img src=\"../svg/exec-colab.svg\" alt=\"Open In Colab\"/>\n",
    "            </a>\n",
    "        </td>\n",
    "        <td>\n",
    "            <a href=\"https://codeocean.com/capsule/7952650/tree\">\n",
    "  <img src=\"../svg/code-ocean.svg\" alt=\"Code Ocean\"/>\n",
    "            </a>\n",
    "        </td>\n",
    "    </tr>\n",
    " </table>\n",
    "\n",
    "<a  align=\"center\" href=\"https://colab.research.google.com/github/vvkisil/MoebInv-notebooks/blob/master/Introduction/Software_installation_GUI_integration.ipynb\">Google CoLab software installation</a>\n"
   ]
  },
  {
   "cell_type": "markdown",
   "id": "8a9c4399-f01b-4817-922b-e5af32af14e3",
   "metadata": {
    "collapsed": false,
    "ein.tags": "worksheet-0",
    "slideshow": {
     "slide_type": "-"
    }
   },
   "source": [
    "# Check the orthogonality through the ghost cycle\n",
    "\n",
    "**Proposition I.6.19** [ [1] ](#[1]) \n",
    "$\n",
    "\\newcommand{\\scalar}[3][]{\\left\\langle #2,#3 \n",
    "        \\right\\rangle_{#1}}\n",
    "\\newcommand{\\Space}[3][]{\\mathbb{#2}^{#3}_{#1}}\n",
    "\\newcommand{\\Space}[3][]{\\mathbb{#2}^{#3}_{#1}}\n",
    "  \\newcommand{\\cycle}[3][]{{#1 C^{#2}_{#3}}}\n",
    "  \\newcommand{\\realline}[3][]{#1 R^{#2}_{#3}}\n",
    "  \\newcommand{\\bs}{\\breve{\\sigma}}\n",
    "  \\newcommand{\\zcycle}[3][]{#1 Z^{#2}_{#3}}\n",
    "  \\newcommand{\\SL}[1][2]{\\mathrm{SL}_{#1}(\\Space{R}{})}\n",
    "  \\newcommand{\\rs}{\\sigma_r}\n",
    "  \\newcommand{\\lvec}[1]{\\overrightarrow{#1}}\n",
    "\\newcommand{\\rmi}{\\mathrm{i}}\n",
    "\\newcommand{\\alli}{\\iota}\n",
    "\\newcommand{\\rme}{\\mathrm{e}}\n",
    "\\newcommand{\\rmd}{\\mathrm{d}}\n",
    "\\newcommand{\\rmh}{\\mathrm{j}}\n",
    "\\newcommand{\\rmp}{\\varepsilon}\n",
    "\\newcommand{\\modulus}[2][]{\\left| #2 \\right|_{#1}}\n",
    "\\newcommand{\\sperp}{⋋}\n",
    "$\n",
    " Let cycles $\\cycle{}{\\bs}$ and\n",
    "  $\\cycle[\\tilde]{}{\\bs}$ be $\\bs$-orthogonal in\n",
    "  $\\Space[\\sigma]{R}{}$ and let $\\cycle[\\breve]{}{\\bs}$ be the ghost\n",
    "  cycle of $\\cycle{}{\\bs}$. Then:\n",
    "1.  $\\cycle[\\tilde]{}{\\bs}$ and $\\cycle[\\breve]{}{\\bs}$ are\n",
    "    $\\sigma$-orthogonal in $\\Space[\\sigma]{R}{}$ for seven cases\n",
    "    \\emph{except} two cases $\\sigma=0$ and $\\bs=\\pm 1$.\n",
    "2.  In the $\\sigma$-implementation, the tangent\\index{tangent} line\n",
    "    to $\\cycle[\\tilde]{}{\\bs}$ at  its intersection point with\n",
    "\n",
    "  +  the ghost cycle\n",
    "      $\\cycle[\\breve]{}{\\sigma}$, if $\\sigma=\\pm 1$, or\n",
    "  +  the non-selfadjoint part\n",
    "      $H\\cycle{}{\\bs}$ of the cycle\n",
    "      $\\cycle{}{\\bs}$, if $\\sigma=0$,\n",
    "\n",
    "    passes the $\\bs$-centre of $\\cycle{}{\\bs}$, which coincides with\n",
    "    the $\\sigma$-centre of $\\cycle[\\breve]{}{\\sigma}$. "
   ]
  },
  {
   "cell_type": "markdown",
   "id": "43bf23a1-9182-4294-9214-ab7e3cfd367b",
   "metadata": {
    "collapsed": false,
    "ein.tags": "worksheet-0",
    "slideshow": {
     "slide_type": "-"
    }
   },
   "source": [
    "**Proof.** Definition of the ghost cycle depend either we use vector or paravector formalism."
   ]
  },
  {
   "cell_type": "code",
   "execution_count": null,
   "id": "70a7ba61-caeb-4860-88b3-fd916f8cf2d2",
   "metadata": {
    "autoscroll": false,
    "collapsed": false,
    "ein.hycell": false,
    "ein.tags": "worksheet-0",
    "slideshow": {
     "slide_type": "-"
    }
   },
   "outputs": [],
   "source": [
    "from init_cycle import *\n",
    "def ghost_cycle(C,ep,en):\n",
    "    if (UseVectors):\n",
    "        esign=remove_dirac_ONE(pow(ep.subs({ep.op(1) : 1}),2))\n",
    "    else:\n",
    "        esign=remove_dirac_ONE(pow(ep.subs({ep.op(1) : 0}),2))\n",
    "    return cycle2D([C.center(ep)[0],-C.center(ep)[1]*jump_fnct(esign)], en, C.radius_sq(en,M1))"
   ]
  },
  {
   "cell_type": "markdown",
   "id": "9c46bd89-7549-434c-b478-3702b685441d",
   "metadata": {
    "collapsed": false,
    "ein.tags": "worksheet-0",
    "slideshow": {
     "slide_type": "-"
    }
   },
   "source": [
    "Finding the roots of the ghost cycle"
   ]
  },
  {
   "cell_type": "code",
   "execution_count": null,
   "id": "384be2a9-2461-4462-b224-05487ee2d754",
   "metadata": {
    "autoscroll": false,
    "collapsed": false,
    "ein.hycell": false,
    "ein.tags": "worksheet-0",
    "slideshow": {
     "slide_type": "-"
    }
   },
   "outputs": [],
   "source": [
    "C5=ghost_cycle(C,es,e)\n",
    "R=C.roots()"
   ]
  },
  {
   "cell_type": "markdown",
   "id": "d86d639d-e359-46c8-8844-31cf11e2e17d",
   "metadata": {
    "collapsed": false,
    "ein.tags": "worksheet-0",
    "slideshow": {
     "slide_type": "-"
    }
   },
   "source": [
    "`C3` is the cycle a cycle orthogonal to `C`"
   ]
  },
  {
   "cell_type": "code",
   "execution_count": null,
   "id": "f4f53ff8-c2b9-4691-9fee-09854d30da16",
   "metadata": {
    "autoscroll": false,
    "collapsed": false,
    "ein.hycell": false,
    "ein.tags": "worksheet-0",
    "slideshow": {
     "slide_type": "-"
    }
   },
   "outputs": [],
   "source": [
    "C3=C1.subject_to([C1.is_orthogonal(C,es)])\n",
    "Latex(\"C3 is $\\breve{\\sigma}$-orthogonal to C: %s\" % C3.cycle_product(C,es).is_zero())"
   ]
  },
  {
   "cell_type": "code",
   "execution_count": null,
   "id": "38665bfb-ac60-4b46-922b-29342cd7f3b9",
   "metadata": {
    "autoscroll": false,
    "collapsed": false,
    "ein.hycell": false,
    "ein.tags": "worksheet-0",
    "slideshow": {
     "slide_type": "-"
    }
   },
   "outputs": [],
   "source": [
    "## Was used for debug\n",
    "#print (C3.cycle_product(C5,e))\n",
    "#for i in range (3):\n",
    "#    for j in range (3):\n",
    "#        print (\"%s,%s: %s\" % (i,j,C3.cycle_product(C5,e).subs({sign : i-1,sign1 : j-1})))"
   ]
  },
  {
   "cell_type": "code",
   "execution_count": null,
   "id": "b20b8cae-8a88-4519-80d3-b5ac7297b337",
   "metadata": {
    "autoscroll": false,
    "collapsed": false,
    "ein.hycell": false,
    "ein.tags": "worksheet-0",
    "slideshow": {
     "slide_type": "-"
    }
   },
   "outputs": [],
   "source": [
    "Latex(\"C3 is $\\sigma$-orthogonal to C5 if $\\sigma=\\pm 1$ : %s\" %\\\n",
    "(C3.cycle_product(C5,e).subs({sign : -1, sign1 : -1}).is_zero() \\\n",
    "and C3.cycle_product(C5,e).subs({sign : 1, sign1 : 1}).is_zero()))"
   ]
  },
  {
   "cell_type": "code",
   "execution_count": null,
   "id": "8fd12676-9e42-4e12-8f13-61ab599723af",
   "metadata": {
    "autoscroll": false,
    "collapsed": false,
    "ein.hycell": false,
    "ein.tags": "worksheet-0",
    "slideshow": {
     "slide_type": "-"
    }
   },
   "outputs": [],
   "source": [
    "Latex(\"C3 is p-orthogonal to C5 if $\\sigma_1=0$: %s\" % \\\n",
    "      C3.cycle_product(C5,e).subs({sign : 0, sign1 : 0}).is_zero())"
   ]
  },
  {
   "cell_type": "markdown",
   "id": "8e20f724-1b8c-41a6-b281-fafa8fbddd02",
   "metadata": {
    "collapsed": false,
    "ein.tags": "worksheet-0",
    "slideshow": {
     "slide_type": "-"
    }
   },
   "source": [
    "Check the geometric orthogonality condition for parabolas. Define a point above the root of the first parabola"
   ]
  },
  {
   "cell_type": "code",
   "execution_count": null,
   "id": "2509c23e-3c78-4ba5-a776-2fa598bbaea2",
   "metadata": {
    "autoscroll": false,
    "collapsed": false,
    "ein.hycell": false,
    "ein.tags": "worksheet-0",
    "slideshow": {
     "slide_type": "-"
    }
   },
   "outputs": [],
   "source": [
    "P2=[C.roots()[0],v]"
   ]
  },
  {
   "cell_type": "markdown",
   "id": "ea03e1e4-a8c5-4a18-95c3-8245c988bdad",
   "metadata": {
    "collapsed": false,
    "ein.tags": "worksheet-0",
    "slideshow": {
     "slide_type": "-"
    }
   },
   "source": [
    "Define a cycle passing this point and being orthogonal to C"
   ]
  },
  {
   "cell_type": "code",
   "execution_count": null,
   "id": "ae0d10f6-396f-481a-a918-3a9e1bc0a161",
   "metadata": {
    "autoscroll": false,
    "collapsed": false,
    "ein.hycell": false,
    "ein.tags": "worksheet-0",
    "slideshow": {
     "slide_type": "-"
    }
   },
   "outputs": [],
   "source": [
    "C3=C1.subject_to([C1.passing(P2), C1.is_orthogonal(C,es)])"
   ]
  },
  {
   "cell_type": "markdown",
   "id": "d410658a-b458-4f01-8d6a-c08f601c4261",
   "metadata": {
    "collapsed": false,
    "ein.tags": "worksheet-0",
    "slideshow": {
     "slide_type": "-"
    }
   },
   "source": [
    "Calculate the slop of the parabola"
   ]
  },
  {
   "cell_type": "code",
   "execution_count": null,
   "id": "0c3d9658-c811-43c3-99bf-dc527032e90c",
   "metadata": {
    "autoscroll": false,
    "collapsed": false,
    "ein.hycell": false,
    "ein.tags": "worksheet-0",
    "slideshow": {
     "slide_type": "-"
    }
   },
   "outputs": [],
   "source": [
    "Sl3=C3.val(P1).diff(u1)/C3.val(P1).diff(v1)\n",
    "\"Tangent to first parabola above second's root passes second's centre: %s\" %\\\n",
    "(Sl3*(C.center(es)[0]-P2[0])+(C.center(es)[1]-P2[1])).subs({u1 : P2[0], v1 : P2[1], sign : 0})\\\n",
    ".numer().normal().is_zero()"
   ]
  },
  {
   "cell_type": "markdown",
   "id": "354acb35-310b-4455-b706-9ce0f9b60fcc",
   "metadata": {
    "collapsed": false
   },
   "source": [
    "\n",
    "This notebook is a part of the *MoebInv notebooks* project [ [2] ](#[2]).\n",
    "\n",
    "### References\n",
    "<a id=\"references\"></a>\n",
    "<a id=\"[1]\"></a>\n",
    "1. Vladimir V. Kisil. *Geometry of Möbius Transformations: Elliptic, Parabolic and Hyperbolic Actions of $SL_2(\\mathbb{R})$*. [Imperial College Press](https://www.worldscientific.com/worldscibooks/10.1142/p835), London, 2012. Includes a live DVD.\n",
    "\n",
    "   <a id=\"[2]\"></a>\n",
    "2.  Vladimir V. Kisil, [*MoebInv notebooks*](https://github.com/vvkisil/MoebInv-notebooks), 2019.\n",
    "\n",
    "[Back to Folder](https://github.com/vvkisil/MoebInv-notebooks/blob/master/EPAL-v1/)\n"
   ]
  }
 ],
 "metadata": {
  "kernelspec": {
   "argv": [
    "/usr/bin/python3",
    "-m",
    "ipykernel_launcher",
    "-f",
    "{connection_file}"
   ],
   "display_name": "Python 3 (ipykernel)",
   "env": null,
   "interrupt_mode": "signal",
   "language": "python",
   "metadata": {
    "debugger": true
   },
   "name": "python3"
  },
  "language_info": {
   "codemirror_mode": {
    "name": "ipython",
    "version": 3
   },
   "file_extension": ".py",
   "mimetype": "text/x-python",
   "name": "python",
   "nbconvert_exporter": "python",
   "pygments_lexer": "ipython3",
   "version": "3.6.4"
  },
  "name": "pr.I.6.19.ipynb"
 },
 "nbformat": 4,
 "nbformat_minor": 5
}
