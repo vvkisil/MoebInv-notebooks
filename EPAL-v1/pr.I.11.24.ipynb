{
 "cells": [
  {
   "cell_type": "markdown",
   "id": "500dd36f-7949-4fbd-adcc-f8241b811667",
   "metadata": {
    "collapsed": false
   },
   "source": [
    "<table style=\"width:100%\">\n",
    "    <tr>\n",
    "        <td>\n",
    "            <a href=\"http://www1.maths.leeds.ac.uk/~kisilv/MoebInv-notebooks/EPAL-v1/pr.I.11.24.html\">\n",
    "  <img src=\"../svg/view-html.svg\" alt=\"Open In Colab\"/>\n",
    "            </a>\n",
    "        </td>\n",
    "        <td>\n",
    "<a href=\"https://github.com/vvkisil/MoebInv-notebooks/blob/master/EPAL-v1/pr.I.11.24.ipynb\">\n",
    "  <img src=\"../svg/open-github.svg\" alt=\"Open In Colab\"/>\n",
    "            </a>\n",
    "        </td>\n",
    "        <td>\n",
    "            <a href=\"https://colab.research.google.com/github/vvkisil/MoebInv-notebooks/blob/master/EPAL-v1/pr.I.11.24.ipynb\">\n",
    "  <img src=\"../svg/exec-colab.svg\" alt=\"Open In Colab\"/>\n",
    "            </a>\n",
    "        </td>\n",
    "        <td>\n",
    "            <a href=\"https://codeocean.com/capsule/7952650/tree\">\n",
    "  <img src=\"../svg/code-ocean.svg\" alt=\"Code Ocean\"/>\n",
    "            </a>\n",
    "        </td>\n",
    "    </tr>\n",
    " </table>\n",
    "\n",
    "<a  align=\"center\" href=\"https://colab.research.google.com/github/vvkisil/MoebInv-notebooks/blob/master/Introduction/Software_installation_GUI_integration.ipynb\">Google CoLab software installation</a>\n"
   ]
  },
  {
   "cell_type": "markdown",
   "id": "5ce982bc-c489-49e9-b934-d29a465d4ca7",
   "metadata": {
    "collapsed": false,
    "ein.tags": "worksheet-0",
    "slideshow": {
     "slide_type": "-"
    }
   },
   "source": [
    "# We check conformality of distances and lengths\n",
    "\n",
    "**Exercise I.11.24** [ [1] ](#[1]) \n",
    "$\n",
    "\\newcommand{\\scalar}[3][]{\\left\\langle #2,#3 \n",
    "        \\right\\rangle_{#1}}\n",
    "\\newcommand{\\Space}[3][]{\\mathbb{#2}^{#3}_{#1}}\n",
    "\\newcommand{\\Space}[3][]{\\mathbb{#2}^{#3}_{#1}}\n",
    "  \\newcommand{\\cycle}[3][]{{#1 C^{#2}_{#3}}}\n",
    "  \\newcommand{\\realline}[3][]{#1 R^{#2}_{#3}}\n",
    "  \\newcommand{\\bs}{\\breve{\\sigma}}\n",
    "  \\newcommand{\\zcycle}[3][]{#1 Z^{#2}_{#3}}\n",
    "  \\newcommand{\\SL}[1][2]{\\mathrm{SL}_{#1}(\\Space{R}{})}\n",
    "  \\newcommand{\\rs}{\\sigma_r}\n",
    "  \\newcommand{\\lvec}[1]{\\overrightarrow{#1}}\n",
    "\\newcommand{\\rmi}{\\mathrm{i}}\n",
    "\\newcommand{\\alli}{\\iota}\n",
    "\\newcommand{\\rme}{\\mathrm{e}}\n",
    "\\newcommand{\\rmd}{\\mathrm{d}}\n",
    "\\newcommand{\\rmh}{\\mathrm{j}}\n",
    "\\newcommand{\\rmp}{\\varepsilon}\n",
    "\\newcommand{\\modulus}[2][]{\\left| #2 \\right|_{#1}}\n",
    "\\newcommand{\\sperp}{⋋}\n",
    "$  Let the focal length  with $\\sigma=\\rs=0$:\n",
    "  \\begin{equation}\n",
    "    l_{f_{\\bs}}^2(\\lvec{PP'})  = -\\bs p^2-2vp, \\qquad \\text{where}\n",
    "    \\quad\n",
    "    p = \\frac{(u'-u)^2%-\\sigma v'^2\n",
    "    }{2(v'-v)}.\n",
    "  \\end{equation}\n",
    "  Check that $l_{f_{\\bs}}$  is p-conformal and, moreover,\n",
    "  \\begin{equation} \n",
    "    \\label{eq:parab-conf-factor} \n",
    "    \\lim_{v'\\rightarrow \\infty} \\frac{l_{f_{\\bs}}(\\lvec{QQ'})}{l_{f_{\\bs}}(\\lvec{PP'})} \n",
    "    =\\frac{1}{(cu+d)^2},\\qquad \\text{where}\\quad \n",
    "    g= \n",
    "    \\begin{pmatrix} \n",
    "      a&b\\\\c&d \n",
    "    \\end{pmatrix}\n",
    "  \\end{equation} \n",
    "  and $Q=g\\cdot P$,  $Q'=g\\cdot P'$."
   ]
  },
  {
   "cell_type": "markdown",
   "id": "eeca4c03-7316-4882-a53b-419aee53946c",
   "metadata": {
    "collapsed": false,
    "ein.tags": "worksheet-0",
    "slideshow": {
     "slide_type": "-"
    }
   },
   "source": [
    "**Solution.** We define the \\(\\SL\\) identity for algebraic simplification."
   ]
  },
  {
   "cell_type": "code",
   "execution_count": null,
   "id": "851e5244-e237-453d-bfe6-7aebfea09349",
   "metadata": {
    "autoscroll": false,
    "collapsed": false,
    "ein.hycell": false,
    "ein.tags": "worksheet-0",
    "slideshow": {
     "slide_type": "-"
    }
   },
   "outputs": [],
   "source": [
    "from init_cycle import *\n",
    "sl2_relation1 = {a : (1+b*c)/d}"
   ]
  },
  {
   "cell_type": "markdown",
   "id": "4866a36c-de9b-4363-90f1-d0a6da53e22b",
   "metadata": {
    "collapsed": false,
    "ein.tags": "worksheet-0",
    "slideshow": {
     "slide_type": "-"
    }
   },
   "source": [
    "Point `P` with the transformation `gP`."
   ]
  },
  {
   "cell_type": "code",
   "execution_count": null,
   "id": "46a65940-2aa4-4366-b8f7-a0cc94996464",
   "metadata": {
    "autoscroll": false,
    "collapsed": false,
    "ein.hycell": false,
    "ein.tags": "worksheet-0",
    "slideshow": {
     "slide_type": "-"
    }
   },
   "outputs": [],
   "source": [
    "gP=clifford_moebius_map(sl2_clifford(a, b, c, d, e), P, e)\n",
    "gP=[gP[0].subs(sl2_relation1,subs_options.algebraic).normal(),\\\n",
    "gP[1].subs(sl2_relation1,subs_options.algebraic).normal()]"
   ]
  },
  {
   "cell_type": "markdown",
   "id": "42d98e4c-2516-4b2c-acbe-e0ea975f76b1",
   "metadata": {
    "collapsed": false,
    "ein.tags": "worksheet-0",
    "slideshow": {
     "slide_type": "-"
    }
   },
   "source": [
    "Another point with its transformation."
   ]
  },
  {
   "cell_type": "code",
   "execution_count": null,
   "id": "38571d56-0099-4aa4-a378-9c68450a22e0",
   "metadata": {
    "autoscroll": false,
    "collapsed": false,
    "ein.hycell": false,
    "ein.tags": "worksheet-0",
    "slideshow": {
     "slide_type": "-"
    }
   },
   "outputs": [],
   "source": [
    "gP1=clifford_moebius_map(sl2_clifford(a, b, c, d, e), P1, e)\n",
    "gP1=[gP1[0].subs(sl2_relation1,subs_options.algebraic).normal(),\\\n",
    "gP1[1].subs(sl2_relation1,subs_options.algebraic).normal()]"
   ]
  },
  {
   "cell_type": "markdown",
   "id": "e8263f34-48eb-4d57-9093-d3dcd4a7b0ad",
   "metadata": {
    "collapsed": false,
    "ein.tags": "worksheet-0",
    "slideshow": {
     "slide_type": "-"
    }
   },
   "source": [
    "The routine which is used to make the check."
   ]
  },
  {
   "cell_type": "code",
   "execution_count": null,
   "id": "51dcf73c-166e-44fb-a00e-b5cdfaa7afd1",
   "metadata": {
    "autoscroll": false,
    "collapsed": false,
    "ein.hycell": false,
    "ein.tags": "worksheet-0",
    "slideshow": {
     "slide_type": "-"
    }
   },
   "outputs": [],
   "source": [
    "def check_conformality(Len_c):\n",
    "    Len_cD= ((Len_c.subs({u : gP[0], v : gP[1], u1 : gP1[0], v1 : gP1[1]})\\\n",
    "    /Len_c).subs({sign : 0, u1 : x,v1 : y/t}));\n",
    "    if (Len_cD.has(t)):\n",
    "        Len_cD = Len_cD.series(relational(t, 0, eq), 1).op(0).normal()\n",
    "    return (\"This length is conformal: %s\" %\\\n",
    "    (not(Len_cD.is_zero() or Len_cD.has(t) or Len_cD.has(x) or Len_cD.has(y))))"
   ]
  },
  {
   "cell_type": "markdown",
   "id": "c4a2ea8f-fdd9-4686-a803-7cc5d3a931ef",
   "metadata": {
    "collapsed": false,
    "ein.tags": "worksheet-0",
    "slideshow": {
     "slide_type": "-"
    }
   },
   "source": [
    "Use expressions for length verified in le-length-focus-exp.py"
   ]
  },
  {
   "cell_type": "code",
   "execution_count": null,
   "id": "723e6853-4e04-4764-bd88-6f78b9671152",
   "metadata": {
    "autoscroll": false,
    "collapsed": false,
    "ein.hycell": false,
    "ein.tags": "worksheet-0",
    "slideshow": {
     "slide_type": "-"
    }
   },
   "outputs": [],
   "source": [
    "print(\"The length from parabolic focus is conformal in parabolic sense:\")\n",
    "sign5=0;\n",
    "p=(pow(u1-u,2))/(v1-v)/2\n",
    "check_conformality(-sign1*pow(p, 2) - 2*v*p)"
   ]
  },
  {
   "cell_type": "markdown",
   "id": "c58e2542-e95e-4a29-ab0c-69ac9883e083",
   "metadata": {
    "collapsed": false
   },
   "source": [
    "\n",
    "This notebook is a part of the *MoebInv notebooks* project [ [2] ](#[2]).\n",
    "\n",
    "### References\n",
    "<a id=\"references\"></a>\n",
    "<a id=\"[1]\"></a>\n",
    "1. Vladimir V. Kisil. *Geometry of Möbius Transformations: Elliptic, Parabolic and Hyperbolic Actions of $SL_2(\\mathbb{R})$*. [Imperial College Press](https://www.worldscientific.com/worldscibooks/10.1142/p835), London, 2012. Includes a live DVD.\n",
    "\n",
    "   <a id=\"[2]\"></a>\n",
    "2.  Vladimir V. Kisil, [*MoebInv notebooks*](https://github.com/vvkisil/MoebInv-notebooks), 2019.\n",
    "\n",
    "[Back to Folder](https://github.com/vvkisil/MoebInv-notebooks/blob/master/EPAL-v1/)\n"
   ]
  }
 ],
 "metadata": {
  "kernelspec": {
   "argv": [
    "/usr/bin/python3",
    "-m",
    "ipykernel_launcher",
    "-f",
    "{connection_file}"
   ],
   "display_name": "Python 3 (ipykernel)",
   "env": null,
   "interrupt_mode": "signal",
   "language": "python",
   "metadata": {
    "debugger": true
   },
   "name": "python3"
  },
  "language_info": {
   "codemirror_mode": {
    "name": "ipython",
    "version": 3
   },
   "file_extension": ".py",
   "mimetype": "text/x-python",
   "name": "python",
   "nbconvert_exporter": "python",
   "pygments_lexer": "ipython3",
   "version": "3.6.4"
  },
  "name": "pr.I.11.24.ipynb"
 },
 "nbformat": 4,
 "nbformat_minor": 2
}
