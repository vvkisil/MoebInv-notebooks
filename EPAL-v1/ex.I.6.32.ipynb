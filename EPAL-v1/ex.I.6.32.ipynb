{
 "cells": [
  {
   "cell_type": "markdown",
   "id": "df30ea33-0a6a-42ba-aac6-7de6adf679fd",
   "metadata": {
    "collapsed": false
   },
   "source": [
    "<table style=\"width:100%\">\n",
    "    <tr>\n",
    "        <td>\n",
    "            <a href=\"http://v-v-kisil.rf.gd/MoebInv-notebooks/EPAL-v1/ex.I.6.32.html\">\n",
    "  <img src=\"../svg/view-html.svg\" alt=\"Open In Colab\"/>\n",
    "            </a>\n",
    "        </td>\n",
    "        <td>\n",
    "<a href=\"https://github.com/vvkisil/MoebInv-notebooks/blob/master/EPAL-v1/ex.I.6.32.ipynb\">\n",
    "  <img src=\"../svg/open-github.svg\" alt=\"Open In Colab\"/>\n",
    "            </a>\n",
    "        </td>\n",
    "        <td>\n",
    "            <a href=\"https://colab.research.google.com/github/vvkisil/MoebInv-notebooks/blob/master/EPAL-v1/ex.I.6.32.ipynb\">\n",
    "  <img src=\"../svg/exec-colab.svg\" alt=\"Open In Colab\"/>\n",
    "            </a>\n",
    "        </td>\n",
    "        <td>\n",
    "            <a href=\"https://codeocean.com/capsule/7952650/tree\">\n",
    "  <img src=\"../svg/code-ocean.svg\" alt=\"Code Ocean\"/>\n",
    "            </a>\n",
    "        </td>\n",
    "    </tr>\n",
    " </table>\n",
    "\n",
    "<a  align=\"center\" href=\"https://colab.research.google.com/github/vvkisil/MoebInv-notebooks/blob/master/Introduction/Software_installation_GUI_integration.ipynb\">Google CoLab software installation</a>\n"
   ]
  },
  {
   "cell_type": "markdown",
   "id": "7221c932-c57b-472f-af53-37c346128d3d",
   "metadata": {
    "collapsed": false,
    "ein.tags": "worksheet-0",
    "slideshow": {
     "slide_type": "-"
    }
   },
   "source": [
    "# A cycle passing the centre of inversion has  a straight line as its image\n",
    "\n",
    "**Exercise I.6.32** [ [1] ](#[1])\n",
    "$\n",
    "\\newcommand{\\scalar}[3][]{\\left\\langle #2,#3 \n",
    "        \\right\\rangle_{#1}}\n",
    "\\newcommand{\\Space}[3][]{\\mathbb{#2}^{#3}_{#1}}\n",
    "\\newcommand{\\Space}[3][]{\\mathbb{#2}^{#3}_{#1}}\n",
    "  \\newcommand{\\cycle}[3][]{{#1 C^{#2}_{#3}}}\n",
    "  \\newcommand{\\realline}[3][]{#1 R^{#2}_{#3}}\n",
    "  \\newcommand{\\bs}{\\breve{\\sigma}}\n",
    "  \\newcommand{\\zcycle}[3][]{#1 Z^{#2}_{#3}}\n",
    "  \\newcommand{\\SL}[1][2]{\\mathrm{SL}_{#1}(\\Space{R}{})}\n",
    "  \\newcommand{\\rs}{\\sigma_r}\n",
    "  \\newcommand{\\lvec}[1]{\\overrightarrow{#1}}\n",
    "\\newcommand{\\rmi}{\\mathrm{i}}\n",
    "\\newcommand{\\alli}{\\iota}\n",
    "\\newcommand{\\rme}{\\mathrm{e}}\n",
    "\\newcommand{\\rmd}{\\mathrm{d}}\n",
    "\\newcommand{\\rmh}{\\mathrm{j}}\n",
    "\\newcommand{\\rmp}{\\varepsilon}\n",
    "\\newcommand{\\modulus}[2][]{\\left| #2 \\right|_{#1}}\n",
    "\\newcommand{\\sperp}{⋋}\n",
    "$\n",
    "  Check the following:\n",
    "\n",
    "1. Let the $\\sigma$-implementation of a cycle\n",
    "    $\\cycle{s}{\\sigma}$ pass the $\\sigma$-centre of a cycle\n",
    "    $\\cycle[\\tilde]{s}{\\sigma}$. Then, the $\\sigma$-reflection of\n",
    "    $\\cycle{s}{\\sigma}$ in $\\cycle[\\tilde]{s}{\\sigma}$ is a\n",
    "    straight line.\n",
    "2. Let two cycles $\\cycle{s}{\\sigma}$ and\n",
    "    $\\cycle[\\tilde]{s}{\\sigma}$ intersect in two points $P$,\n",
    "    $P'\\in\\Space[\\sigma]{R}{}$ such that $P-P'$ is not a divisor of\n",
    "    zero in the respective number system. Then, there is an inversion\n",
    "    which maps the pencil of cycles orthogonal to $\\cycle{s}{\\sigma}$ and\n",
    "    $\\cycle[\\tilde]{s}{\\sigma}$ (see Exercise I.6.10.ii)\n",
    "    into a pencil of concentric cycles.\n",
    "\n",
    "**Hint.**\n",
    "      Make an inversion into a cycle with $\\sigma$-centre $P$,\n",
    "      then $\\cycle{s}{\\sigma}$ and $\\cycle[\\tilde]{s}{\\sigma}$\n",
    "      will be transformed into straight lines due to the previous\n",
    "      item. These straight lines will intersect in a finite point\n",
    "      $P''$ which is the image of $P'$ under the inversion. The\n",
    "      pencil orthogonal to $\\cycle{s}{\\sigma}$ and\n",
    "      $\\cycle[\\tilde]{s}{\\sigma}$ will be transformed to a pencil\n",
    "      orthogonal to these two straight lines. A CAS calculations\n",
    "      shows that all cycles from the pencil have $\\sigma$-centre at\n",
    "      $P''$."
   ]
  },
  {
   "cell_type": "markdown",
   "id": "0a630ddc-e462-420c-8deb-169e9f2591b7",
   "metadata": {
    "collapsed": false,
    "ein.tags": "worksheet-0",
    "slideshow": {
     "slide_type": "-"
    }
   },
   "source": [
    "**Solution** Cycle `C2` defines the inversion, `C3` passes the centre of `C2`."
   ]
  },
  {
   "cell_type": "code",
   "execution_count": null,
   "id": "fabd7809-d5e6-4dc5-886a-7aac1e010e9e",
   "metadata": {
    "autoscroll": false,
    "collapsed": false,
    "ein.hycell": false,
    "ein.tags": "worksheet-0",
    "slideshow": {
     "slide_type": "-"
    }
   },
   "outputs": [],
   "source": [
    "from init_cycle import *\n",
    "C2=cycle2D([u,v],e,m)\n",
    "C3=C.subject_to(C.passing(C2.center()))\n",
    "\"Image of a cycle passing the centre of inversion, is a straight line: %s\" %\\\n",
    "(C3.cycle_similarity(C2).get_k()).subs({pow(sign,3) : sign}).is_zero()"
   ]
  },
  {
   "cell_type": "markdown",
   "id": "7df0f6e4-d2ce-4b5b-87e6-743e0db312bf",
   "metadata": {
    "collapsed": false,
    "ein.tags": "worksheet-0",
    "slideshow": {
     "slide_type": "-"
    }
   },
   "source": [
    "Straight line passing $(u,-\\sigma v)$"
   ]
  },
  {
   "cell_type": "code",
   "execution_count": null,
   "id": "bb4705ba-091b-4c85-8f93-0db088598a2a",
   "metadata": {
    "autoscroll": false,
    "collapsed": false,
    "ein.hycell": false,
    "ein.tags": "worksheet-0",
    "slideshow": {
     "slide_type": "-"
    }
   },
   "outputs": [],
   "source": [
    "P2=[u,-sign*v]\n",
    "C4=C.subs(k==0)\n",
    "C6=C4.subject_to(C4.passing(P2))"
   ]
  },
  {
   "cell_type": "markdown",
   "id": "06b9bfc4-dc5a-43fa-aeef-18b6717e08cd",
   "metadata": {
    "collapsed": false,
    "ein.tags": "worksheet-0",
    "slideshow": {
     "slide_type": "-"
    }
   },
   "source": [
    "Another straight line passing  $(u,-\\sigma v)$"
   ]
  },
  {
   "cell_type": "code",
   "execution_count": null,
   "id": "ab490456-4a91-42b0-a256-f4092157d95e",
   "metadata": {
    "autoscroll": false,
    "collapsed": false,
    "ein.hycell": false,
    "ein.tags": "worksheet-0",
    "slideshow": {
     "slide_type": "-"
    }
   },
   "outputs": [],
   "source": [
    "C5=C1.subs(k1==0)\n",
    "C7=C5.subject_to(C5.passing(P2))"
   ]
  },
  {
   "cell_type": "markdown",
   "id": "34cbcb7c-2df5-4ef0-a55a-8b0824c65353",
   "metadata": {
    "collapsed": false,
    "ein.tags": "worksheet-0",
    "slideshow": {
     "slide_type": "-"
    }
   },
   "source": [
    "Some more variables are defined for a new cycle."
   ]
  },
  {
   "cell_type": "code",
   "execution_count": null,
   "id": "d1bf161b-8d84-4152-aee2-3898e0f21b10",
   "metadata": {
    "autoscroll": false,
    "collapsed": false,
    "ein.hycell": false,
    "ein.tags": "worksheet-0",
    "slideshow": {
     "slide_type": "-"
    }
   },
   "outputs": [],
   "source": [
    "k0=realsymbol(\"k0\")\n",
    "l0=realsymbol(\"l0\")\n",
    "n0=realsymbol(\"n0\")\n",
    "m0=realsymbol(\"m0\")"
   ]
  },
  {
   "cell_type": "markdown",
   "id": "8e1fd977-502c-4916-8c44-1882e1cfef6f",
   "metadata": {
    "collapsed": false,
    "ein.tags": "worksheet-0",
    "slideshow": {
     "slide_type": "-"
    }
   },
   "source": [
    "A cycle orthogonal to those straight lines"
   ]
  },
  {
   "cell_type": "code",
   "execution_count": null,
   "id": "3463d20a-edf7-458e-861c-28ee520755af",
   "metadata": {
    "autoscroll": false,
    "collapsed": false,
    "ein.hycell": false,
    "ein.tags": "worksheet-0",
    "slideshow": {
     "slide_type": "-"
    }
   },
   "outputs": [],
   "source": [
    "C0=cycle2D(k0,[l0,n0],m0,e)\n",
    "Cf=C0.subject_to([C0.is_orthogonal(C6),C0.is_orthogonal(C7)])\n",
    "\"Orthogonal cycle have centre at the intersection point: %s\" %\\\n",
    "((Cf.center()[0]-P2[0]).is_zero() and (Cf.center()[1]-P2[1]).is_zero())"
   ]
  },
  {
   "cell_type": "markdown",
   "id": "1049eb9f-274c-4693-a45d-399f15ea86c9",
   "metadata": {
    "collapsed": false
   },
   "source": [
    "\n",
    "This notebook is a part of the *MoebInv notebooks* project [ [2] ](#[2]).\n",
    "\n",
    "### References\n",
    "<a id=\"references\"></a>\n",
    "<a id=\"[1]\"></a>\n",
    "1. Vladimir V. Kisil. *Geometry of Möbius Transformations: Elliptic, Parabolic and Hyperbolic Actions of $SL_2(\\mathbb{R})$*. [Imperial College Press](https://www.worldscientific.com/worldscibooks/10.1142/p835), London, 2012. Includes a live DVD.\n",
    "\n",
    "   <a id=\"[2]\"></a>\n",
    "2.  Vladimir V. Kisil, [*MoebInv notebooks*](https://github.com/vvkisil/MoebInv-notebooks), 2019.\n",
    "\n",
    "[Back to Folder](https://github.com/vvkisil/MoebInv-notebooks/blob/master/EPAL-v1/)\n"
   ]
  }
 ],
 "metadata": {
  "kernelspec": {
   "argv": [
    "/usr/bin/python3",
    "-m",
    "ipykernel_launcher",
    "-f",
    "{connection_file}"
   ],
   "display_name": "Python 3 (ipykernel)",
   "env": null,
   "interrupt_mode": "signal",
   "language": "python",
   "metadata": {
    "debugger": true
   },
   "name": "python3"
  },
  "language_info": {
   "codemirror_mode": {
    "name": "ipython",
    "version": 3
   },
   "file_extension": ".py",
   "mimetype": "text/x-python",
   "name": "python",
   "nbconvert_exporter": "python",
   "pygments_lexer": "ipython3",
   "version": "3.6.4"
  },
  "name": "ex.I.6.32.ipynb"
 },
 "nbformat": 4,
 "nbformat_minor": 5
}
