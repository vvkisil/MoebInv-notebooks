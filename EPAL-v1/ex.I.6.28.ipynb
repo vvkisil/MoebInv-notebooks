{
 "cells": [
  {
   "cell_type": "markdown",
   "metadata": {},
   "source": [
    "<table style=\"width:100%\">\n",
    "    <tr>\n",
    "        <td>\n",
    "            <a href=\"http://www1.maths.leeds.ac.uk/~kisilv/MoebInv-notebooks/EPAL-v1/ex.I.6.28.html\">\n",
    "  <img src=\"../svg/view-html.svg\" alt=\"Open In Colab\"/>\n",
    "            </a>\n",
    "        </td>\n",
    "        <td>\n",
    "<a href=\"https://github.com/vvkisil/MoebInv-notebooks/blob/master/EPAL-v1/ex.I.6.28.ipynb\">\n",
    "  <img src=\"../svg/open-github.svg\" alt=\"Open In Colab\"/>\n",
    "            </a>\n",
    "        </td>\n",
    "        <td>\n",
    "            <a href=\"https://colab.research.google.com/github/vvkisil/MoebInv-notebooks/blob/master/EPAL-v1/ex.I.6.28.ipynb\">\n",
    "  <img src=\"../svg/exec-colab.svg\" alt=\"Open In Colab\"/>\n",
    "            </a>\n",
    "        </td>\n",
    "        <td>\n",
    "            <a href=\"https://codeocean.com/capsule/7952650/tree\">\n",
    "  <img src=\"../svg/code-ocean.svg\" alt=\"Code Ocean\"/>\n",
    "            </a>\n",
    "        </td>\n",
    "    </tr>\n",
    " </table>\n",
    "\n",
    "<a  align=\"center\" href=\"https://colab.research.google.com/github/vvkisil/MoebInv-notebooks/blob/master/Introduction/Software_installation_GUI_integration.ipynb\">Google CoLab software installation</a>\n"
   ]
  },
  {
   "cell_type": "markdown",
   "metadata": {
    "ein.tags": "worksheet-0",
    "slideshow": {
     "slide_type": "-"
    }
   },
   "source": [
    "# Check that all orthogonal cycles passing a point meet at its invesion\n",
    "\n",
    "**Exercise I.6.28** [ [1] ](#[1])\n",
    "$\n",
    "\\newcommand{\\scalar}[3][]{\\left\\langle #2,#3 \n",
    "        \\right\\rangle_{#1}}\n",
    "\\newcommand{\\Space}[3][]{\\mathbb{#2}^{#3}_{#1}}\n",
    "\\newcommand{\\Space}[3][]{\\mathbb{#2}^{#3}_{#1}}\n",
    "  \\newcommand{\\cycle}[3][]{{#1 C^{#2}_{#3}}}\n",
    "  \\newcommand{\\realline}[3][]{#1 R^{#2}_{#3}}\n",
    "  \\newcommand{\\bs}{\\breve{\\sigma}}\n",
    "  \\newcommand{\\zcycle}[3][]{#1 Z^{#2}_{#3}}\n",
    "  \\newcommand{\\SL}[1][2]{\\mathrm{SL}_{#1}(\\Space{R}{})}\n",
    "  \\newcommand{\\rs}{\\sigma_r}\n",
    "  \\newcommand{\\lvec}[1]{\\overrightarrow{#1}}\n",
    "\\newcommand{\\rmi}{\\mathrm{i}}\n",
    "\\newcommand{\\alli}{\\iota}\n",
    "\\newcommand{\\rme}{\\mathrm{e}}\n",
    "\\newcommand{\\rmd}{\\mathrm{d}}\n",
    "\\newcommand{\\rmh}{\\mathrm{j}}\n",
    "\\newcommand{\\rmp}{\\varepsilon}\n",
    "\\newcommand{\\modulus}[2][]{\\left| #2 \\right|_{#1}}\n",
    "\\newcommand{\\sperp}{⋋}\n",
    "$\n",
    "  Prove the following properties of inversion:\n",
    "\n",
    "1. Let a cycle\n",
    "    $\\cycle[\\tilde]{s}{\\bs}$ be $\\bs$-orthogonal to a cycle\n",
    "    $\\cycle{s}{\\bs}=(k,l,n,m)$. Then, for any point $u_1+\\alli\n",
    "    v_1\\in \\Space[\\sigma]{R}{}$ ($\\alli^2=\\sigma$) belonging to\n",
    "    $\\sigma$-implementation of $\\cycle[\\tilde]{s}{\\bs}$, this\n",
    "    implementation also passes through the image of $u_1+\\alli v_1$\n",
    "    under the Möbius transform defined\n",
    "    by the matrix $\\cycle{\\bs}{\\sigma}$:\n",
    "    \n",
    "    $u_2+\\alli v_2  =\\cycle{\\bs}{\\sigma}(u_1-\\alli v_1 ) = \\begin{pmatrix} l+\\alli\\bs n  & -m\\\\         k & -l+\\alli\\bs n       \\end{pmatrix}  (u_1-\\alli v_1).$\n",
    "      \n",
    "    Thus, the point $u_2+\\alli v_2$ is the {inversion} of\n",
    "    $u_1+\\alli v_1$ in $\\cycle{s}{\\bs}$.\n",
    "2. Conversely, if a cycle $\\cycle[\\tilde]{s}{\\bs}$ passes two\n",
    "    different points $u_1+\\alli v_1$ and $u_2+\\alli v_2$, then\n",
    "    $\\cycle[\\tilde]{s}{\\bs}$ is $\\bs$-orthogonal to\n",
    "    $\\cycle{s}{\\bs}$.\n",
    "3.  If a cycle $\\cycle[\\tilde]{s}{\\bs}$ is $\\bs$-orthogonal to\n",
    "    a cycle $\\cycle{s}{\\bs}$, then the $\\bs$-inversion in\n",
    "    $\\cycle{s}{\\bs}$ sends $\\cycle[\\tilde]{s}{\\bs}$ to itself.\n",
    "4. $\\bs$-inversion in the $\\sigma$-implementation of a cycle\n",
    "    $\\cycle{s}{\\bs}$ coincides with $\\sigma$-inversion in its\n",
    "    $\\bs$-ghost cycle $\\cycle[\\breve]{s}{\\bs}$."
   ]
  },
  {
   "cell_type": "markdown",
   "metadata": {
    "ein.tags": "worksheet-0",
    "slideshow": {
     "slide_type": "-"
    }
   },
   "source": [
    "**Solution.** Cycle `C2` is passing point `P`"
   ]
  },
  {
   "cell_type": "code",
   "execution_count": null,
   "metadata": {
    "autoscroll": false,
    "collapsed": false,
    "ein.hycell": false,
    "ein.tags": "worksheet-0",
    "slideshow": {
     "slide_type": "-"
    }
   },
   "outputs": [],
   "source": [
    "from init_cycle import *\n",
    "C2=C1.subject_to([C1.passing(P),C1.is_orthogonal(C,es)])"
   ]
  },
  {
   "cell_type": "markdown",
   "metadata": {
    "ein.tags": "worksheet-0",
    "slideshow": {
     "slide_type": "-"
    }
   },
   "source": [
    "Different formulae for vector and paravector formalism"
   ]
  },
  {
   "cell_type": "code",
   "execution_count": null,
   "metadata": {
    "autoscroll": false,
    "collapsed": false,
    "ein.hycell": false,
    "ein.tags": "worksheet-0",
    "slideshow": {
     "slide_type": "-"
    }
   },
   "outputs": [],
   "source": [
    "if (UseVectors):\n",
    "    Pn=C.moebius_map(P,e,diag_matrix([1,-sign1]))\n",
    "else:\n",
    "    Pn=C.moebius_map([P[0],-P[1]],e,diag_matrix([1,-sign1]))"
   ]
  },
  {
   "cell_type": "markdown",
   "metadata": {
    "ein.tags": "worksheet-0",
    "slideshow": {
     "slide_type": "-"
    }
   },
   "source": [
    "Output of checks"
   ]
  },
  {
   "cell_type": "code",
   "execution_count": null,
   "metadata": {
    "autoscroll": false,
    "collapsed": false,
    "ein.hycell": false,
    "ein.tags": "worksheet-0",
    "slideshow": {
     "slide_type": "-"
    }
   },
   "outputs": [],
   "source": [
    "print(\"An othogonal cycle passes the inversed point: %s \" %\\\n",
    "C2.val(Pn).normal().is_zero())      "
   ]
  },
  {
   "cell_type": "code",
   "execution_count": null,
   "metadata": {
    "autoscroll": false,
    "collapsed": false,
    "ein.hycell": false,
    "ein.tags": "worksheet-0",
    "slideshow": {
     "slide_type": "-"
    }
   },
   "outputs": [],
   "source": [
    "C3=C1.subject_to([C1.passing(Pn),C1.passing(P),C1.is_orthogonal(C,es)])\n",
    "print(\"The cycle passing both points is the same: %s\" % C2.is_equal(C3))"
   ]
  },
  {
   "cell_type": "code",
   "execution_count": null,
   "metadata": {
    "autoscroll": false,
    "collapsed": false,
    "ein.hycell": false,
    "ein.tags": "worksheet-0",
    "slideshow": {
     "slide_type": "-"
    }
   },
   "outputs": [],
   "source": [
    "C4=C1.subject_to([C1.passing(P),C1.passing(Pn)])\n",
    "print(\"A cycle passing both points is orthogonal: %s\" %\\\n",
    "bool(C.is_orthogonal(C4,es)))"
   ]
  },
  {
   "cell_type": "markdown",
   "metadata": {},
   "source": [
    "\n",
    "This notebook is a part of the *MoebInv notebooks* project [ [2] ](#[2]).\n",
    "\n",
    "### References\n",
    "<a id=\"references\"></a>\n",
    "<a id=\"[1]\"></a>\n",
    "1. Vladimir V. Kisil. *Geometry of Möbius Transformations: Elliptic, Parabolic and Hyperbolic Actions of $SL_2(\\mathbb{R})$*. [Imperial College Press](https://www.worldscientific.com/worldscibooks/10.1142/p835), London, 2012. Includes a live DVD.\n",
    "\n",
    "   <a id=\"[2]\"></a>\n",
    "2.  Vladimir V. Kisil, [*MoebInv notebooks*](https://github.com/vvkisil/MoebInv-notebooks), 2019.\n",
    "\n",
    "[Back to Folder](https://github.com/vvkisil/MoebInv-notebooks/blob/master/EPAL-v1/)\n"
   ]
  }
 ],
 "metadata": {
  "kernelspec": {
   "argv": [
    "/usr/bin/python3",
    "-m",
    "ipykernel_launcher",
    "-f",
    "{connection_file}"
   ],
   "display_name": "Python 3",
   "env": null,
   "interrupt_mode": "signal",
   "language": "python",
   "metadata": null,
   "name": "python3"
  },
  "language_info": {
   "codemirror_mode": {
    "name": "ipython",
    "version": 3
   },
   "file_extension": ".py",
   "mimetype": "text/x-python",
   "name": "python",
   "nbconvert_exporter": "python",
   "pygments_lexer": "ipython3",
   "version": "3.6.4"
  },
  "name": "ex-orthogonality-to-cycle.ipynb"
 },
 "nbformat": 4,
 "nbformat_minor": 5
}
