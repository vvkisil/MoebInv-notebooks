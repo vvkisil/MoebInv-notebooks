{
 "cells": [
  {
   "cell_type": "markdown",
   "metadata": {},
   "source": [
    "<table style=\"width:100%\">\n",
    "    <tr>\n",
    "        <td>\n",
    "            <a href=\"http://www1.maths.leeds.ac.uk/~kisilv/MoebInv-notebooks/EPAL-v1/ex.I.5.9.html\">\n",
    "  <img src=\"../svg/view-html.svg\" alt=\"Open In Colab\"/>\n",
    "            </a>\n",
    "        </td>\n",
    "        <td>\n",
    "<a href=\"https://github.com/vvkisil/MoebInv-notebooks/blob/master/EPAL-v1/ex.I.5.9.ipynb\">\n",
    "  <img src=\"../svg/open-github.svg\" alt=\"Open In Colab\"/>\n",
    "            </a>\n",
    "        </td>\n",
    "        <td>\n",
    "            <a href=\"https://colab.research.google.com/github/vvkisil/MoebInv-notebooks/blob/master/EPAL-v1/ex.I.5.9.ipynb\">\n",
    "  <img src=\"../svg/exec-colab.svg\" alt=\"Open In Colab\"/>\n",
    "            </a>\n",
    "        </td>\n",
    "        <td>\n",
    "            <a href=\"https://codeocean.com/capsule/7952650/tree\">\n",
    "  <img src=\"../svg/code-ocean.svg\" alt=\"Code Ocean\"/>\n",
    "            </a>\n",
    "        </td>\n",
    "    </tr>\n",
    " </table>\n",
    "\n",
    "<a  align=\"center\" href=\"https://colab.research.google.com/github/vvkisil/MoebInv-notebooks/blob/master/Introduction/Software_installation_GUI_integration.ipynb\">Google CoLab software installation</a>\n"
   ]
  },
{
   "cell_type": "markdown",
   "id": "8ff011cd-50d9-4bc3-90d2-e95ab722e8d8",
   "metadata": {
    "collapsed": false,
    "ein.tags": "worksheet-0",
    "slideshow": {
     "slide_type": "-"
    }
   },
   "source": [
    "# Various examples of pencils spanned by two cycles\n",
    "\n",
    "**Exercise I.5.9**\n",
    "  Investigate the following:\n",
    "1. What happens with an elliptic pencil if one of spanning\n",
    "    circles is imaginary?  Or if both spanning circles are imaginary?\n",
    "2. How does a pencil look if one spanning cycle is a straight\n",
    "    line?\n",
    "    \n",
    "    If both cycles are straight lines?\n",
    "3. A pair of circles is symmetric about the line joining their\n",
    "    centres. Thus, circular pencils look similar regardless of the\n",
    "    direction of this line of  centres. Our hyperbolas and parabolas have\n",
    "    a special orientation: their axes of symmetry are vertical. Thus,\n",
    "    a horizontal or vertical line joining the centres of two\n",
    "    hyperbolas/parabolas make a special arrangement. How do hyperbolic pencils look if\n",
    "    the line of centres is not horizontal? "
   ]
  },
  {
   "cell_type": "markdown",
   "id": "2904793b-dc1b-44e1-9951-076fcdeac3f2",
   "metadata": {
    "collapsed": false,
    "ein.tags": "worksheet-0",
    "slideshow": {
     "slide_type": "-"
    }
   },
   "source": [
    "**Solution.** Initialisation come first"
   ]
  },
  {
   "cell_type": "code",
   "execution_count": null,
   "id": "951bfd45-407b-4fb2-86c1-05943842b2d2",
   "metadata": {
    "autoscroll": false,
    "collapsed": false,
    "ein.hycell": false,
    "ein.tags": "worksheet-0",
    "slideshow": {
     "slide_type": "-"
    }
   },
   "outputs": [],
   "source": [
    "from init_cycle import *\n",
    "A=asy()"
   ]
  },
  {
   "cell_type": "markdown",
   "id": "755bcf3b-0033-4a39-8776-7a2aa3832dae",
   "metadata": {
    "collapsed": false,
    "ein.tags": "worksheet-0",
    "slideshow": {
     "slide_type": "-"
    }
   },
   "source": [
    "The procedure draws some representatives from the linear span of two cycles"
   ]
  },
  {
   "cell_type": "code",
   "execution_count": null,
   "id": "6a66db1e-543d-42b2-a37d-2391779436de",
   "metadata": {
    "autoscroll": false,
    "collapsed": false,
    "ein.hycell": false,
    "ein.tags": "worksheet-0",
    "slideshow": {
     "slide_type": "-"
    }
   },
   "outputs": [],
   "source": [
    "def makepencil(C2, C3, xmin, xmax, ymin, ymax, colour1, colour2, colour3, name):\n",
    "    N=5\n",
    "    A.erase()\n",
    "    A.send(\"picture ort;\")\n",
    "    A.send(\"erase(ort);\")\n",
    "    A.size(100)\n",
    "    A.send(\"size(ort,100);\")\n",
    "    A.send(C2.asy_string(xmin, xmax, ymin, ymax, colour1, \"1.5pt\"))\n",
    "    A.send(C3.asy_string(xmin, xmax, ymin, ymax, colour2, \"1.5pt\"))\n",
    "    A.send(C2.asy_string(\"ort\", xmin, xmax, ymin, ymax, [0,0,.8]))\n",
    "    A.send(C3.asy_string(\"ort\", xmin, xmax, ymin, ymax, [0,0,.8]))\n",
    "    \n",
    "    C0=C.subject_to([C2.is_orthogonal(C),C3.is_orthogonal(C),k==1]).subs({sign : C2.get_metric(1,1)})\n",
    "    for i in range(N):\n",
    "        C4=cycle2D(C2.exmul(i+1)+C3.exmul(N-i))\n",
    "        A.send(C4.asy_string(xmin, xmax, ymin, ymax,\\\n",
    "        [colour1[0]*(i+1.0)/N+colour2[0]*(1.0-1.*i/N),\\\n",
    "        colour1[1]*(i+1.0)/N+colour2[1]*(1.0-1.*i/N),\\\n",
    "        colour1[2]*(i+1.0)/N+colour2[2]*(1.0-1.*i/N)]))\n",
    "        if (i== (i/2)*2): # Only even numbered cycles for the orthogonality figure\n",
    "            A.send(C4.asy_string(\"ort\",xmin, xmax, ymin, ymax, [0,0,.8]))\n",
    "        C4=cycle2D(C2.exmul(-pow(i+1.0,1.1))+C3)\n",
    "        A.send(C4.asy_string(xmin, xmax, ymin, ymax,\\\n",
    "        [colour3[0]*(i+1.0)/N+colour2[0]*(1.0-1.*i/N),\\\n",
    "        colour3[1]*(i+1.0)/N+colour2[1]*(1.0-1.*i/N),\\\n",
    "        colour3[2]*(i+1.0)/N+colour2[2]*(1.0-1.*i/N)]))\n",
    "        if (i== (i/2)*2): # Only even numbered cycles for the orthogonality figure\n",
    "            A.send(C4.asy_string(\"ort\",xmin, xmax, ymin, ymax, [0,0,.8]))\n",
    "        C4=C2+cycle2D(C3.exmul(-pow(i+1.0,1.1)))\n",
    "        A.send(C4.asy_string(xmin, xmax, ymin, ymax,\\\n",
    "        [colour3[0]*(i+1.0)/N+colour1[0]*(1.0-1.*i/N),\\\n",
    "        colour3[1]*(i+1.0)/N+colour1[1]*(1.0-1.*i/N),\\\n",
    "        colour3[2]*(i+1.0)/N+colour1[2]*(1.0-1.*i/N)]))\n",
    "        if (i== (i/2)*2): # Only even numbered cycles for the orthogonality figure\n",
    "            A.send(C4.asy_string(\"ort\",xmin, xmax, ymin, ymax, [0,0,.8]))\n",
    "    \n",
    "    # The loop for the orthogonal cycles        \n",
    "    for i in range(N):\n",
    "        A.send(C0.subs({n : i}).asy_string(\"ort\",xmin, xmax, ymin, ymax, [0,.8,0], \"dashed\"))\n",
    "        if (i>0):\n",
    "            A.send(C0.subs({n : -i}).asy_string(\"ort\",xmin, xmax, ymin, ymax, [0,.8,0], \"dashed\"))\n",
    "    A.shipout(f'{name}')\n",
    "    A.shipout(f'{name}-ort')\n",
    "    display(Image(f'{name}.png'))\n",
    "    display(Image(f'{name}-ort.png'))"
   ]
  },
  {
   "cell_type": "markdown",
   "id": "f521c48e-3846-41d8-8d9d-81f4e87e2e97",
   "metadata": {
    "collapsed": false,
    "ein.tags": "worksheet-0",
    "slideshow": {
     "slide_type": "-"
    }
   },
   "source": [
    "The next samples are used as illustrations in the book"
   ]
  },
  {
   "cell_type": "code",
   "execution_count": null,
   "id": "9c7b217d-b193-49d9-b717-ae9e6281342b",
   "metadata": {
    "autoscroll": false,
    "collapsed": false,
    "ein.hycell": false,
    "ein.tags": "worksheet-0",
    "slideshow": {
     "slide_type": "-"
    }
   },
   "outputs": [],
   "source": [
    "C2=cycle2D([-1.1,1],e,.81)\n",
    "C3=cycle2D([1.1,1],e,.47)\n",
    "for j in range (3):\n",
    "    makepencil(C2.subs({sign : j-1}), C3.subs({sign : j-1}), \\\n",
    "    -2,2,-1-j,3-j,[0,1,0],[0,0,1],[1,0,0], \"pencil%d\" % j)"
   ]
  },
  {
   "cell_type": "code",
   "execution_count": null,
   "id": "cc69feef-29a5-456a-9e9e-e2854cb05672",
   "metadata": {
    "autoscroll": false,
    "collapsed": false,
    "ein.hycell": false,
    "ein.tags": "worksheet-0",
    "slideshow": {
     "slide_type": "-"
    }
   },
   "outputs": [],
   "source": [
    "makepencil(cycle2D([-1,1],e.subs({sign : -1}),1.21), \\\n",
    "           cycle2D([1,1],e.subs({sign : -1}),4), \\\n",
    "           -3,3,-2,4,[0,1,0],[0,0,1],[1,0,0], \"pencile\")"
   ]
  },
  {
   "cell_type": "code",
   "execution_count": null,
   "id": "97ce5a0e-a227-4b18-bf48-cbb5483884fd",
   "metadata": {
    "autoscroll": false,
    "collapsed": false,
    "ein.hycell": false,
    "ein.tags": "worksheet-0",
    "slideshow": {
     "slide_type": "-"
    }
   },
   "outputs": [],
   "source": [
    "makepencil(cycle2D(1,[-1,1],1,e.subs({sign : 0})), \\\n",
    "           cycle2D(1,[1.4,-.8],2,e.subs({sign : 0})), \\\n",
    "           -3,3,-2,4,[0,1,0],[0,0,1],[1,0,0], \"pencilp\")"
   ]
  },
  {
   "cell_type": "code",
   "execution_count": null,
   "id": "92200d53-425d-4ee3-adaf-768bc7d2fba1",
   "metadata": {
    "autoscroll": false,
    "collapsed": false,
    "ein.hycell": false,
    "ein.tags": "worksheet-0",
    "slideshow": {
     "slide_type": "-"
    }
   },
   "outputs": [],
   "source": [
    "makepencil(cycle2D([-1,1],e.subs({sign : 1}),1), \\\n",
    "           cycle2D([.5,1],e.subs({sign : 1}),1.7), \\\n",
    "           -3,3,-4,2,[0,1,0],[0,0,1],[1,0,0], \"pencilh\")"
   ]
  },
  {
   "cell_type": "markdown",
   "id": "328ccdb9-2e45-4bdb-aa1d-507382871f7a",
   "metadata": {
    "collapsed": false,
    "ein.tags": "worksheet-0",
    "slideshow": {
     "slide_type": "-"
    }
   },
   "source": [
    "Here is some additional pictures of linear spans<br>\n",
    "in parabolic and hyperbolic spaces with<br>\n",
    "centres on different levels"
   ]
  },
  {
   "cell_type": "code",
   "execution_count": null,
   "id": "f3a97ce2-0cf8-4a29-8664-43b3818c7b57",
   "metadata": {
    "autoscroll": false,
    "collapsed": false,
    "ein.hycell": false,
    "ein.tags": "worksheet-0",
    "slideshow": {
     "slide_type": "-"
    }
   },
   "outputs": [],
   "source": [
    "makepencil(cycle2D(1,[-1,.6],1,e.subs({sign : 0})), \\\n",
    "           cycle2D(1,[-.1,-.6],-1.5,e.subs({sign : 0})), \\\n",
    "-2.5,1.5,-1.5,2.5,[0,1,0],[0,0,1],[1,0,0], \"pencilpa\")"
   ]
  },
  {
   "cell_type": "code",
   "execution_count": null,
   "id": "dbafd78e-eb50-46ed-935c-cd8428609d41",
   "metadata": {
    "autoscroll": false,
    "collapsed": false,
    "ein.hycell": false,
    "ein.tags": "worksheet-0",
    "slideshow": {
     "slide_type": "-"
    }
   },
   "outputs": [],
   "source": [
    "makepencil(cycle2D([0,0],e.subs({sign : 1}),1), \\\n",
    "           cycle2D([.5,1],e.subs({sign : 1}),1), \\\n",
    "-3,3,-4,2,[0,1,0],[0,0,1],[1,0,0], \"pencilha\")"
   ]
  },
  {
   "cell_type": "markdown",
   "id": "d375525c-0e0e-49cb-863b-9a7e0c2139af",
   "metadata": {
    "collapsed": false,
    "ein.tags": "worksheet-0",
    "slideshow": {
     "slide_type": "-"
    }
   },
   "source": [
    "Span if one circle is imaginary"
   ]
  },
  {
   "cell_type": "code",
   "execution_count": null,
   "id": "9d099ff9-5806-4156-840c-5f8626abbe7f",
   "metadata": {
    "autoscroll": false,
    "collapsed": false,
    "ein.hycell": false,
    "ein.tags": "worksheet-0",
    "slideshow": {
     "slide_type": "-"
    }
   },
   "outputs": [],
   "source": [
    "makepencil(cycle2D([-1,1],e.subs({sign : -1}),1), \\\n",
    "           cycle2D([1,1],e.subs({sign : -1}),-1), \\\n",
    "-3,3,-2,4,[0,1,0],[0,0,1],[1,0,0], \"pencile1i\")"
   ]
  },
  {
   "cell_type": "markdown",
   "id": "a0ca5be1-97ab-48ac-aaa2-536f52179d44",
   "metadata": {
    "collapsed": false,
    "ein.tags": "worksheet-0",
    "slideshow": {
     "slide_type": "-"
    }
   },
   "source": [
    "Span if both circles are imaginary"
   ]
  },
  {
   "cell_type": "code",
   "execution_count": null,
   "id": "5902bb66-f101-4e7c-95cb-55fd29991603",
   "metadata": {
    "autoscroll": false,
    "collapsed": false,
    "ein.hycell": false,
    "ein.tags": "worksheet-0",
    "slideshow": {
     "slide_type": "-"
    }
   },
   "outputs": [],
   "source": [
    "makepencil(cycle2D([-1,1],e.subs({sign : -1}),-1), \\\n",
    "           cycle2D([1,1],e.subs({sign : -1}),-1), \\\n",
    "-3,3,-2,4,[0,1,0],[0,0,1],[1,0,0], \"pencile2i\")"
   ]
  },
  {
   "cell_type": "markdown",
   "id": "367bed98-4b8f-4f1f-82a5-ccef7a7c32d3",
   "metadata": {
    "collapsed": false,
    "ein.tags": "worksheet-0",
    "slideshow": {
     "slide_type": "-"
    }
   },
   "source": [
    "Span of touching circles"
   ]
  },
  {
   "cell_type": "code",
   "execution_count": null,
   "id": "132ac994-f9b6-43b2-8b36-e9361197d8d4",
   "metadata": {
    "autoscroll": false,
    "collapsed": false,
    "ein.hycell": false,
    "ein.tags": "worksheet-0",
    "slideshow": {
     "slide_type": "-"
    }
   },
   "outputs": [],
   "source": [
    "makepencil(cycle2D([-1,1],e.subs({sign : -1}),1), \\\n",
    "           cycle2D([1,1],e.subs({sign : -1}),1), \\\n",
    "-3,3,-2,4,[0,1,0],[0,0,1],[1,0,0], \"pencilet\")"
   ]
  },
  {
   "cell_type": "markdown",
   "id": "52de168e-619d-464c-a208-2023b5cf4820",
   "metadata": {
    "collapsed": false,
    "ein.tags": "worksheet-0",
    "slideshow": {
     "slide_type": "-"
    }
   },
   "source": [
    "Span of touching hyperbolas"
   ]
  },
  {
   "cell_type": "code",
   "execution_count": null,
   "id": "1cb535f6-aae0-4a48-b26f-ee83bc45f999",
   "metadata": {
    "autoscroll": false,
    "collapsed": false,
    "ein.hycell": false,
    "ein.tags": "worksheet-0",
    "slideshow": {
     "slide_type": "-"
    }
   },
   "outputs": [],
   "source": [
    "makepencil(cycle2D([-1,1],e.subs({sign : 1}),1), \\\n",
    "           cycle2D([1,1],e.subs({sign : 1}),1), \\\n",
    "-3,3,-4,2,[0,1,0],[0,0,1],[1,0,0], \"pencilht\")"
   ]
  },
  {
   "cell_type": "markdown",
   "id": "21cde83d-d3dc-4815-82a0-c0b3428a1593",
   "metadata": {
    "collapsed": false,
    "ein.tags": "worksheet-0",
    "slideshow": {
     "slide_type": "-"
    }
   },
   "source": [
    "Span of touching parabolas"
   ]
  },
  {
   "cell_type": "code",
   "execution_count": null,
   "id": "7a7b9780-0803-4777-84f5-3d74f4bf15af",
   "metadata": {
    "autoscroll": false,
    "collapsed": false,
    "ein.hycell": false,
    "ein.tags": "worksheet-0",
    "slideshow": {
     "slide_type": "-"
    }
   },
   "outputs": [],
   "source": [
    "makepencil(cycle2D(1,[0,2],-1,e.subs({sign : 0})), \\\n",
    "           cycle2D(1,[.5,1],0,e.subs({sign : 0})), \\\n",
    "           -1.5,2.5,-1,3,[0,1,0],[0,0,1],[1,0,0], \"pencilpt\")"
   ]
  },
  {
   "cell_type": "markdown",
   "id": "445f7975-6f7c-4555-a21e-9bb8704b5d5b",
   "metadata": {
    "collapsed": false
   },
   "source": [
    "Span of two intersecting upward parabolas intersecting in one finite point"
   ]
  },
  {
   "cell_type": "code",
   "execution_count": null,
   "id": "628cfe78-6f53-46e1-9b95-1fd702ada359",
   "metadata": {
    "autoscroll": false,
    "collapsed": false,
    "ein.hycell": false,
    "ein.tags": "worksheet-0",
    "slideshow": {
     "slide_type": "-"
    }
   },
   "outputs": [],
   "source": [
    "makepencil(cycle2D(1,[-.75,1.125],-9.0/8,e.subs({sign : 0})), \\\n",
    "        cycle2D(1,[.75,1.125],-9.0/8,e.subs({sign : 0})), \\\n",
    "           -2.5,2.5,-1,3,[0,1,0],[0,0,1],[1,0,0], \"pencilpf\")"
   ]
  },
  {
   "cell_type": "code",
   "execution_count": null,
   "id": "29c2f8bb-c877-4e94-a8be-66df417c7eca",
   "metadata": {
    "autoscroll": false,
    "collapsed": false,
    "ein.hycell": false,
    "ein.tags": "worksheet-0",
    "slideshow": {
     "slide_type": "-"
    }
   },
   "outputs": [],
   "source": [
    "makepencil(cycle2D(1,[-1,1],3.0/4,e.subs({sign : 0})), \\\n",
    "        cycle2D(1,[1,1],3.0/4,e.subs({sign : 0})), \\\n",
    "           -2.5,2.5,-1,3,[0,1,0],[0,0,1],[1,0,0], \"pencilpf2\")"
   ]
  },
  {
   "cell_type": "markdown",
   "id": "a532003c-40b5-4ee4-853d-a5ddc72c40a2",
   "metadata": {
    "collapsed": false
   },
   "source": [
    "Span of two parallel vertical lines."
   ]
  },
  {
   "cell_type": "code",
   "execution_count": null,
   "id": "d8775b60-6a83-4146-98c7-bd9ba43acd33",
   "metadata": {
    "autoscroll": false,
    "collapsed": false,
    "ein.hycell": false,
    "ein.tags": "worksheet-0",
    "slideshow": {
     "slide_type": "-"
    }
   },
   "outputs": [],
   "source": [
    "makepencil(cycle2D(1,[0,0],-4,e.subs({sign : 0})), \\\n",
    "        cycle2D(1,[5.0/6,0],2.0/3,e.subs({sign : 0})), \\\n",
    "           -2.5,2.5,-1,3,[0,1,0],[0,0,1],[1,0,0], \"pencilpl\")"
   ]
  },
  {
   "cell_type": "code",
   "execution_count": null,
   "id": "2c87d0f1-c3f9-4fc4-99fd-34e95ced94f6",
   "metadata": {
    "autoscroll": false,
    "collapsed": false,
    "ein.hycell": false,
    "ein.tags": "worksheet-0",
    "slideshow": {
     "slide_type": "-"
    }
   },
   "outputs": [],
   "source": [
    "makepencil(cycle2D(1,[4.0/3,0],4.0/3,e.subs({sign : 0})), \\\n",
    "        cycle2D(1,[8.0/15,0],4.0/15,e.subs({sign : 0})), \\\n",
    "           -2.5,2.5,-1,3,[0,1,0],[0,0,1],[1,0,0], \"pencilpl2\")"
   ]
  },
  {
   "cell_type": "markdown",
   "id": "86af7862-3d36-4a52-8400-32009ec9c713",
   "metadata": {
    "collapsed": false
   },
   "source": [
    "Span of touching upward and downward parabolas "
   ]
  },
  {
   "cell_type": "code",
   "execution_count": null,
   "id": "f814fab6-1a48-4a4e-ad63-2e3cf1095d6a",
   "metadata": {
    "autoscroll": false,
    "collapsed": false,
    "ein.hycell": false,
    "ein.tags": "worksheet-0",
    "slideshow": {
     "slide_type": "-"
    }
   },
   "outputs": [],
   "source": [
    "makepencil(cycle2D(1,[-.5,1],0,e.subs({sign : 0})), \\\n",
    "           cycle2D(1,[.5,-1],0,e.subs({sign : 0})), \\\n",
    "           -1.5,1.5,-1.5,1.5,[0,1,0],[0,0,1],[1,0,0], \"pencilpt2\")"
   ]
  },
  {
   "cell_type": "markdown",
   "id": "9ebd9120-8f57-4f12-a384-d0682d6bddbc",
   "metadata": {
    "collapsed": false,
    "ein.tags": "worksheet-0",
    "slideshow": {
     "slide_type": "-"
    }
   },
   "source": [
    "Span of a cicrle and a line"
   ]
  },
  {
   "cell_type": "code",
   "execution_count": null,
   "id": "a34c8e9d-27ec-4b5e-b52b-78a933c5b853",
   "metadata": {
    "autoscroll": false,
    "collapsed": false,
    "ein.hycell": false,
    "ein.tags": "worksheet-0",
    "slideshow": {
     "slide_type": "-"
    }
   },
   "outputs": [],
   "source": [
    "makepencil(cycle2D([-1,1],e.subs({sign : -1}),1), \\\n",
    "           cycle2D(0,[1,0],1,e.subs({sign : -1})), \\\n",
    "-3,3,-2,4,[0,1,0],[0,0,1],[1,0,0], \"pencilecl\")"
   ]
  },
  {
   "cell_type": "code",
   "execution_count": null,
   "id": "9df18934-5e05-4ae9-99d2-73912a01d115",
   "metadata": {
    "autoscroll": false,
    "collapsed": false,
    "ein.hycell": false,
    "ein.tags": "worksheet-0",
    "slideshow": {
     "slide_type": "-"
    }
   },
   "outputs": [],
   "source": [
    "del(A)"
   ]
  },
  {
   "cell_type": "markdown",
   "metadata": {},
   "source": [
    "\n",
    "This notebook is a part of the *MoebInv notebooks* project [ [2] ](#[2]).\n",
    "\n",
    "### References\n",
    "<a id=\"references\"></a>\n",
    "<a id=\"[1]\"></a>\n",
    "1. Vladimir V. Kisil. *Geometry of Möbius Transformations: Elliptic, Parabolic and Hyperbolic Actions of $SL_2(\\mathbb{R})$*. [Imperial College Press](https://www.worldscientific.com/worldscibooks/10.1142/p835), London, 2012. Includes a live DVD.\n",
    "\n",
    "   <a id=\"[2]\"></a>\n",
    "2.  Vladimir V. Kisil, [*MoebInv notebooks*](https://github.com/vvkisil/MoebInv-notebooks), 2019.\n",
    "\n",
    "[Back to Folder](https://github.com/vvkisil/MoebInv-notebooks/blob/master/EPAL-v1/)\n"
   ]
  }
 ],
 "metadata": {
  "kernelspec": {
   "argv": [
    "/usr/bin/python3",
    "-m",
    "ipykernel_launcher",
    "-f",
    "{connection_file}"
   ],
   "display_name": "Python 3",
   "env": null,
   "interrupt_mode": "signal",
   "language": "python",
   "metadata": null,
   "name": "python3"
  },
  "language_info": {
   "codemirror_mode": {
    "name": "ipython",
    "version": 3
   },
   "file_extension": ".py",
   "mimetype": "text/x-python",
   "name": "python",
   "nbconvert_exporter": "python",
   "pygments_lexer": "ipython3",
   "version": "3.6.4"
  },
  "name": "ex-linear-span.ipynb"
 },
 "nbformat": 4,
 "nbformat_minor": 5
}
