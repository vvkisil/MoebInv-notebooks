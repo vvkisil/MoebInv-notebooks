{
 "cells": [
  {
   "cell_type": "markdown",
   "id": "0ef7c498-6ece-461f-99d7-9dd9b40aea3d",
   "metadata": {
    "collapsed": false
   },
   "source": [
    "<table style=\"width:100%\">\n",
    "    <tr>\n",
    "        <td>\n",
    "            <a href=\"http://v-v-kisil.rf.gd/MoebInv-notebooks/EPAL-v1/ex.I.6.18.html\">\n",
    "  <img src=\"../svg/view-html.svg\" alt=\"Open In Colab\"/>\n",
    "            </a>\n",
    "        </td>\n",
    "        <td>\n",
    "<a href=\"https://github.com/vvkisil/MoebInv-notebooks/blob/master/EPAL-v1/ex.I.6.18.ipynb\">\n",
    "  <img src=\"../svg/open-github.svg\" alt=\"Open In Colab\"/>\n",
    "            </a>\n",
    "        </td>\n",
    "        <td>\n",
    "            <a href=\"https://colab.research.google.com/github/vvkisil/MoebInv-notebooks/blob/master/EPAL-v1/ex.I.6.18.ipynb\">\n",
    "  <img src=\"../svg/exec-colab.svg\" alt=\"Open In Colab\"/>\n",
    "            </a>\n",
    "        </td>\n",
    "        <td>\n",
    "            <a href=\"https://codeocean.com/capsule/7952650/tree\">\n",
    "  <img src=\"../svg/code-ocean.svg\" alt=\"Code Ocean\"/>\n",
    "            </a>\n",
    "        </td>\n",
    "    </tr>\n",
    " </table>\n",
    "\n",
    "<a  align=\"center\" href=\"https://colab.research.google.com/github/vvkisil/MoebInv-notebooks/blob/master/Introduction/Software_installation_GUI_integration.ipynb\">Google CoLab software installation</a>\n"
   ]
  },
  {
   "cell_type": "markdown",
   "id": "a0aecce8-59d3-4f18-ad6c-51dfb5b1f61b",
   "metadata": {
    "collapsed": false,
    "ein.tags": "worksheet-0",
    "slideshow": {
     "slide_type": "-"
    }
   },
   "source": [
    "# Verify basic properties of ghost cycle\n",
    "**Exercise I.6.18** [ [1] ](#[1])\n",
    "$\n",
    "\\newcommand{\\scalar}[3][]{\\left\\langle #2,#3 \n",
    "        \\right\\rangle_{#1}}\n",
    "\\newcommand{\\Space}[3][]{\\mathbb{#2}^{#3}_{#1}}\n",
    "\\newcommand{\\Space}[3][]{\\mathbb{#2}^{#3}_{#1}}\n",
    "  \\newcommand{\\cycle}[3][]{{#1 C^{#2}_{#3}}}\n",
    "  \\newcommand{\\realline}[3][]{#1 R^{#2}_{#3}}\n",
    "  \\newcommand{\\bs}{\\breve{\\sigma}}\n",
    "  \\newcommand{\\zcycle}[3][]{#1 Z^{#2}_{#3}}\n",
    "  \\newcommand{\\SL}[1][2]{\\mathrm{SL}_{#1}(\\Space{R}{})}\n",
    "  \\newcommand{\\rs}{\\sigma_r}\n",
    "  \\newcommand{\\lvec}[1]{\\overrightarrow{#1}}\n",
    "\\newcommand{\\rmi}{\\mathrm{i}}\n",
    "\\newcommand{\\alli}{\\iota}\n",
    "\\newcommand{\\rme}{\\mathrm{e}}\n",
    "\\newcommand{\\rmd}{\\mathrm{d}}\n",
    "\\newcommand{\\rmh}{\\mathrm{j}}\n",
    "\\newcommand{\\rmp}{\\varepsilon}\n",
    "\\newcommand{\\modulus}[2][]{\\left| #2 \\right|_{#1}}\n",
    "$\n",
    "  Verify the\n",
    "  following properties of a ghost cycle:\n",
    "1.   $\\cycle[\\breve]{}{\\sigma}$ coincides with\n",
    "    $\\cycle{}{\\sigma}$ if $\\sigma \\bs=1$.\n",
    "2. $\\cycle[\\breve]{}{\\sigma}$ has common roots (real or\n",
    "    imaginary) with $\\cycle{}{\\sigma}$.\n",
    "3.  For a cycle $\\cycle{}{\\bs}$, its p-ghost cycle\n",
    "    $\\cycle[\\breve]{}{\\bs}$ and the non-selfadjoint part\n",
    "    $H\\cycle{}{\\bs}$ coincide.\n",
    "4.  All straight lines $\\bs$-orthogonal to a cycle pass its\n",
    "    $\\bs$-centre.\n"
   ]
  },
  {
   "cell_type": "markdown",
   "id": "00f51e7a-ecd0-4f17-87a3-dc5be078308b",
   "metadata": {
    "collapsed": false,
    "ein.tags": "worksheet-0",
    "slideshow": {
     "slide_type": "-"
    }
   },
   "source": [
    "**Solution.** The ghost cycle is constructed by the following procedure, which depends on vector or paravector setting."
   ]
  },
  {
   "cell_type": "code",
   "execution_count": null,
   "id": "ebdb39a4-926f-44a8-bd00-2437126156b6",
   "metadata": {
    "autoscroll": false,
    "collapsed": false,
    "ein.hycell": false,
    "ein.tags": "worksheet-0",
    "slideshow": {
     "slide_type": "-"
    }
   },
   "outputs": [],
   "source": [
    "from init_cycle import *\n",
    "def ghost_cycle(Ct,ec,ep):\n",
    "    if (UseVectors):\n",
    "        esign=remove_dirac_ONE(pow(ep.subs({ep.op(1) : 1}),2))\n",
    "    else:\n",
    "        esign=remove_dirac_ONE(pow(ep.subs({ep.op(1) : 0}),2))\n",
    "    return cycle2D([Ct.center(ec)[0],-Ct.center(ec)[1]*jump_fnct(esign)], ep, Ct.radius_sq(ep,M1))"
   ]
  },
  {
   "cell_type": "markdown",
   "id": "4313bef5-163d-493a-98a4-409f5c2fd5de",
   "metadata": {
    "collapsed": false,
    "ein.tags": "worksheet-0",
    "slideshow": {
     "slide_type": "-"
    }
   },
   "source": [
    "Also we define the projection of a cycle to the self-adjoint subspace."
   ]
  },
  {
   "cell_type": "code",
   "execution_count": null,
   "id": "a8daab9c-1846-407f-8f76-c9ff30d39793",
   "metadata": {
    "autoscroll": false,
    "collapsed": false,
    "ein.hycell": false,
    "ein.tags": "worksheet-0",
    "slideshow": {
     "slide_type": "-"
    }
   },
   "outputs": [],
   "source": [
    "def H_project(C):\n",
    "    return C-cycle2D(real_line.exmul(C.cycle_product(real_line).subs(sign==1)/2))"
   ]
  },
  {
   "cell_type": "markdown",
   "id": "2539fc2d-bb65-4b28-9100-a2e79ee39275",
   "metadata": {
    "collapsed": false,
    "ein.tags": "worksheet-0",
    "slideshow": {
     "slide_type": "-"
    }
   },
   "source": [
    "Construct the ghost `C5` cycle."
   ]
  },
  {
   "cell_type": "code",
   "execution_count": null,
   "id": "d5649109-e238-4a8f-b489-76ede50c5e42",
   "metadata": {
    "autoscroll": false,
    "collapsed": false,
    "ein.hycell": false,
    "ein.tags": "worksheet-0",
    "slideshow": {
     "slide_type": "-"
    }
   },
   "outputs": [],
   "source": [
    "C5=ghost_cycle(C,es,e)\n",
    "R=C.roots()"
   ]
  },
  {
   "cell_type": "markdown",
   "id": "9abd12ba-073f-4b0c-81df-6aae58b511fe",
   "metadata": {
    "collapsed": false,
    "ein.tags": "worksheet-0",
    "slideshow": {
     "slide_type": "-"
    }
   },
   "source": [
    "Check that ghost cycle match the definition"
   ]
  },
  {
   "cell_type": "code",
   "execution_count": null,
   "id": "e8f7392a-e394-4169-93c5-b63e78c7245d",
   "metadata": {
    "autoscroll": false,
    "collapsed": false,
    "ein.hycell": false,
    "ein.tags": "worksheet-0",
    "slideshow": {
     "slide_type": "-"
    }
   },
   "outputs": [],
   "source": [
    "Latex(\"$\\chi(\\sigma)$-centre of C5 is equal to $\\breve{\\sigma}$-centre of C: %s\" %\\\n",
    "(C5.center(Mj,True)-C.center(es,True)).is_zero())"
   ]
  },
  {
   "cell_type": "code",
   "execution_count": null,
   "id": "9ac84a7a-0488-4ac0-adae-227b361b0e0f",
   "metadata": {
    "autoscroll": false,
    "collapsed": false,
    "ein.hycell": false,
    "ein.tags": "worksheet-0",
    "slideshow": {
     "slide_type": "-"
    }
   },
   "outputs": [],
   "source": [
    "Latex(\"$\\sigma-\\det$ of C5 is equal to $\\breve{\\sigma}-\\det$ of C: %s\" %\\\n",
    "(C5.hdet(e)-C.hdet(e,M1,1)).is_zero())"
   ]
  },
  {
   "cell_type": "markdown",
   "id": "cc85f3be-dc5e-46d2-9f22-82e2d55a6b1f",
   "metadata": {
    "collapsed": false,
    "ein.tags": "worksheet-0",
    "slideshow": {
     "slide_type": "-"
    }
   },
   "source": [
    "Check properties from the exercise"
   ]
  },
  {
   "cell_type": "code",
   "execution_count": null,
   "id": "dca30bae-3033-42de-b4b2-4c4114fb59e4",
   "metadata": {
    "autoscroll": false,
    "collapsed": false,
    "ein.hycell": false,
    "ein.tags": "worksheet-0",
    "slideshow": {
     "slide_type": "-"
    }
   },
   "outputs": [],
   "source": [
    "Latex(\"Ghost coincides with original for $\\sigma\\cdot \\breve{sigma}=1$: %s\" % \\\n",
    "(C5.subs([sign==-1,sign1==-1]).is_equal(C.subs([sign==-1,sign1==-1])) and \\\n",
    "C5.subs([sign==1,sign1==1]).is_equal(C.subs([sign==1,sign1==1]))))"
   ]
  },
  {
   "cell_type": "code",
   "execution_count": null,
   "id": "1d9c70df-9e2d-45a7-85c8-37e5d782de9c",
   "metadata": {
    "autoscroll": false,
    "collapsed": false,
    "ein.hycell": false,
    "ein.tags": "worksheet-0",
    "slideshow": {
     "slide_type": "-"
    }
   },
   "outputs": [],
   "source": [
    "\"C5 has common roots with C: %s \" %\\\n",
    "(C5.val([R[0],0]).normal().is_zero() and C5.val([R[1],0]).normal().is_zero())"
   ]
  },
  {
   "cell_type": "code",
   "execution_count": null,
   "id": "908b2273-6cd8-48bd-9f18-99620a3b4599",
   "metadata": {
    "autoscroll": false,
    "collapsed": false,
    "ein.hycell": false,
    "ein.tags": "worksheet-0",
    "slideshow": {
     "slide_type": "-"
    }
   },
   "outputs": [],
   "source": [
    "\"Ghost cycle coinsides with non-self-adjoint part of the cycle: %s\" %\\\n",
    "C5.subs(sign1==0).is_equal(H_project(C))"
   ]
  },
  {
   "cell_type": "markdown",
   "id": "7c25e215-202c-48f1-8e34-76deb4128979",
   "metadata": {
    "collapsed": false,
    "ein.tags": "worksheet-0",
    "slideshow": {
     "slide_type": "-"
    }
   },
   "source": [
    "Check that all orthogonal straight lines intersects at the centre"
   ]
  },
  {
   "cell_type": "code",
   "execution_count": null,
   "id": "fdd75a42-6e4a-4161-99f4-a1ccf90b3733",
   "metadata": {
    "autoscroll": false,
    "collapsed": false,
    "ein.hycell": false,
    "ein.tags": "worksheet-0",
    "slideshow": {
     "slide_type": "-"
    }
   },
   "outputs": [],
   "source": [
    "C6=C1.subject_to([ C1.is_orthogonal(C,es), C1.is_linear()])\n",
    "\"All bs-orthogonal straight lines passes bs-centre of cycle: %s\" %\\\n",
    "C6.val(C.center(es)).normal().is_zero()"
   ]
  },
  {
   "cell_type": "markdown",
   "id": "b18b01c0-a9d0-4602-a328-dcb70986975f",
   "metadata": {
    "collapsed": false
   },
   "source": [
    "\n",
    "This notebook is a part of the *MoebInv notebooks* project [ [2] ](#[2]).\n",
    "\n",
    "### References\n",
    "<a id=\"references\"></a>\n",
    "<a id=\"[1]\"></a>\n",
    "1. Vladimir V. Kisil. *Geometry of Möbius Transformations: Elliptic, Parabolic and Hyperbolic Actions of $SL_2(\\mathbb{R})$*. [Imperial College Press](https://www.worldscientific.com/worldscibooks/10.1142/p835), London, 2012. Includes a live DVD.\n",
    "\n",
    "   <a id=\"[2]\"></a>\n",
    "2.  Vladimir V. Kisil, [*MoebInv notebooks*](https://github.com/vvkisil/MoebInv-notebooks), 2019.\n",
    "\n",
    "[Back to Folder](https://github.com/vvkisil/MoebInv-notebooks/blob/master/EPAL-v1/)\n"
   ]
  }
 ],
 "metadata": {
  "kernelspec": {
   "argv": [
    "/usr/bin/python3",
    "-m",
    "ipykernel_launcher",
    "-f",
    "{connection_file}"
   ],
   "display_name": "Python 3 (ipykernel)",
   "env": null,
   "interrupt_mode": "signal",
   "language": "python",
   "metadata": {
    "debugger": true
   },
   "name": "python3"
  },
  "language_info": {
   "codemirror_mode": {
    "name": "ipython",
    "version": 3
   },
   "file_extension": ".py",
   "mimetype": "text/x-python",
   "name": "python",
   "nbconvert_exporter": "python",
   "pygments_lexer": "ipython3",
   "version": "3.6.4"
  },
  "name": "ex.I.6.18.ipynb"
 },
 "nbformat": 4,
 "nbformat_minor": 5
}
