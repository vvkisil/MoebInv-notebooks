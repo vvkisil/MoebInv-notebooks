{
 "cells": [
  {
   "cell_type": "markdown",
   "id": "a4259d59-6374-4746-a946-63518abba083",
   "metadata": {
    "collapsed": false,
    "ein.tags": "worksheet-0",
    "slideshow": {
     "slide_type": "-"
    }
   },
   "source": [
    "<table style=\"width:100%\">\n",
    "    <tr>\n",
    "        <td>\n",
    "            <a href=\"http://v-v-kisil.scienceontheweb.net/MoebInv-notebooks/Appendix_Illustrations/Reflection_recursion.html\">\n",
    "  <img src=\"../svg/view-html.svg\" alt=\"View HTML\"/>\n",
    "            </a>\n",
    "        </td>\n",
    "        <td>\n",
    "<a href=\"https://github.com/vvkisil/MoebInv-notebooks/blob/master/Appendix_Illustrations/Reflection_recursion.ipynb\">\n",
    "  <img src=\"../svg/open-github.svg\" alt=\"Open In GitHub\"/>\n",
    "            </a>\n",
    "        </td>\n",
    "        <td>\n",
    "            <a href=\"https://colab.research.google.com/github/vvkisil/MoebInv-notebooks/blob/master/Appendix_Illustrations/Reflection_recursion.ipynb\">\n",
    "  <img src=\"../svg/exec-colab.svg\" alt=\"Run In Colab\"/>\n",
    "            </a>\n",
    "        </td>\n",
    "        <td>\n",
    "            <a href=\"https://codeocean.com/capsule/7952650/tree\">\n",
    "  <img src=\"../svg/code-ocean.svg\" alt=\"Code Ocean\"/>\n",
    "            </a>\n",
    "        </td>\n",
    "    </tr>\n",
    " </table>"
   ]
  },
  {
   "cell_type": "markdown",
   "id": "9924e997-f717-43f5-8096-092c8d201cfe",
   "metadata": {
    "collapsed": false,
    "ein.tags": "worksheet-0",
    "slideshow": {
     "slide_type": "-"
    }
   },
   "source": [
    "# Filling gaps recursively\n",
    "\n",
    "First, we define a procedure which will make iterative reflections of a figure in the initial cycles."
   ]
  },
  {
   "cell_type": "code",
   "execution_count": null,
   "id": "6497a6b8-dedf-4f8f-9b40-c679f414ab03",
   "metadata": {
    "autoscroll": false,
    "collapsed": false,
    "ein.hycell": false,
    "ein.tags": "worksheet-0",
    "slideshow": {
     "slide_type": "-"
    }
   },
   "outputs": [],
   "source": [
    "def make_insertions(F, n : int):\n",
    "    \"\"\"The routine produces sequential reflection of the figure F\n",
    "    in its all generation-0 cycles in a turn.\n",
    "    n -- the number of reflections to perform.\n",
    "    Since there is no predefined ordering for GiNaC object,\n",
    "    every run of this routine can produce a different output.\"\"\"\n",
    "\n",
    "    # We are copying the figure to do not spoil the original with reflections.\n",
    "    F0= figure(F)\n",
    "\n",
    "    # All cycles at generation 0 a treated as mirrors\n",
    "    for i in range(n):\n",
    "        mirrors = F0.get_all_keys(i, i)\n",
    "        Nm = len(mirrors)\n",
    "        for k in range(Nm):\n",
    "            for j in range(Nm):\n",
    "                if j != k:\n",
    "                    R=F0.add_cycle_rel([conjugation([mirrors[j],mirrors[k]])], f\"R_{n}{k}{j}\")\n",
    "                    F0.set_asy_style(R, F0.get_asy_style(mirrors[j]))\n",
    "\n",
    "    return figure(F0)"
   ]
  },
  {
   "cell_type": "markdown",
   "id": "763966e7-1548-4a5c-99a9-8bf1bb1162a1",
   "metadata": {
    "collapsed": false,
    "ein.tags": "worksheet-0",
    "slideshow": {
     "slide_type": "-"
    }
   },
   "source": [
    "The simplicity of the above routine is possible due to advanced algorithms implemented in the library `figure`, which we are loading here."
   ]
  },
  {
   "cell_type": "code",
   "execution_count": null,
   "id": "d92069bb-7a73-42f8-84c6-b3c14781e05d",
   "metadata": {
    "autoscroll": false,
    "collapsed": false,
    "ein.hycell": false,
    "ein.tags": "worksheet-0",
    "slideshow": {
     "slide_type": "-"
    }
   },
   "outputs": [],
   "source": [
    "from figure import *\n",
    "from IPython.display import Image\n",
    "show_asy_off()\n",
    "%load_ext figure.figure_ipython"
   ]
  },
  {
   "cell_type": "markdown",
   "id": "da3f1417-343e-40c8-b123-3dd4060b6cae",
   "metadata": {
    "collapsed": false,
    "ein.tags": "worksheet-0",
    "slideshow": {
     "slide_type": "-"
    }
   },
   "source": [
    "Now we define a simple figure with only two cycles. We are adding a bit of colours to make illustration more vivid."
   ]
  },
  {
   "cell_type": "code",
   "execution_count": null,
   "id": "36dae078-a5e8-4984-800b-6d1403fcd7aa",
   "metadata": {
    "collapsed": false
   },
   "outputs": [],
   "source": [
    "# We define a new figure with the following point and cycle metrics:\n",
    "mir = figure()\n",
    "mir.set_asy_style(mir.get_real_line(), \"invisible\")\n",
    "# ## Cycles in generation 0\n",
    "# The following cycles are defined by their coefficients\n",
    "A = mir.add_cycle(cycle_data(1, matrix([[1.0, 0]]), -1), \"A\")\n",
    "mir.set_asy_style(A, \"rgb(0,0.333333,0)+solid+1pt\")\n",
    "B = mir.add_cycle(cycle_data(1, matrix([[-2.25, 0]]), 2), \"B\")\n",
    "mir.set_asy_style(B, \"rgb(0.666667,0,1)+solid+1pt\")\n",
    "C = mir.add_cycle(cycle_data(1, matrix([[-0.35, 2.1]]), 3.45), \"C\")\n",
    "mir.set_asy_style(C, \"rgb(0,0,1)+solid+1pt\")\n",
    "D = mir.add_cycle(cycle_data(1, matrix([[-0.24, -3.11]]), 6), \"D\")\n",
    "mir.set_asy_style(D, \"rgb(0.67,0.33,0)+solid+1pt\")"
   ]
  },
  {
   "cell_type": "markdown",
   "id": "12ef6e4a-8038-4da3-9389-d8dcda3635ca",
   "metadata": {
    "collapsed": false
   },
   "source": [
    "Visualising the figure."
   ]
  },
  {
   "cell_type": "code",
   "execution_count": null,
   "id": "b8e058f9-3f9c-4647-8caa-d86b96f2a3c1",
   "metadata": {
    "autoscroll": false,
    "collapsed": false,
    "ein.hycell": false,
    "ein.tags": "worksheet-0",
    "slideshow": {
     "slide_type": "-"
    }
   },
   "outputs": [],
   "source": [
    "%asy_write mir, 300, -3, 2, -3, 3, \"mirrors\", with_labels=False"
   ]
  },
  {
   "cell_type": "markdown",
   "id": "9b10fa88-f812-4359-ace3-13fba3c2e24a",
   "metadata": {
    "collapsed": false,
    "ein.tags": "worksheet-0",
    "slideshow": {
     "slide_type": "-"
    }
   },
   "source": [
    "For visualisation we have used the IPython magic here defined by the `figure` package. Otherwise a pair of commands\n",
    "```\n",
    "#mir.asy_write 300, -3, 2, -3, 3, \"mirrors\", with_labels=False\n",
    "#Image(\"mirrors.png\")\n",
    "```\n",
    "will produce the same effect.\n",
    "\n",
    "Let us see what are the repeated reflections in these two cycles. More attractive picture can be obtained in a longer time with the call `make_insertions(mir, 2)`.\n",
    "\n",
    "**Technical:** We supplied the parameter `with_labels=False` to the method `asy_write()` because we do not want the appearance of cycles' labels: there will be too many cycles after reflections, their labels will make the picture messy."
   ]
  },
  {
   "cell_type": "code",
   "execution_count": null,
   "id": "ea770e55-29f2-483c-b566-08c41c2527ef",
   "metadata": {
    "autoscroll": false,
    "collapsed": false,
    "ein.hycell": false,
    "ein.tags": "worksheet-0",
    "slideshow": {
     "slide_type": "-"
    }
   },
   "outputs": [],
   "source": [
    "%asy_write make_insertions(mir, 2), 600, -3, 2, -3, 3, \"filling4\", with_labels=False"
   ]
  },
  {
   "cell_type": "markdown",
   "id": "306f0512-5216-4048-85e9-9cb78fd42231",
   "metadata": {
    "collapsed": false,
    "ein.tags": "worksheet-0",
    "slideshow": {
     "slide_type": "-"
    }
   },
   "source": [
    "## Reflections of the grid\n",
    "We make a regular grid of circles.  We define a new figure with the following point and cycle metrics:"
   ]
  },
  {
   "cell_type": "code",
   "execution_count": null,
   "id": "3707b2fb-2649-4a4a-9b66-3a742e3899b2",
   "metadata": {
    "collapsed": false
   },
   "outputs": [],
   "source": [
    "grid = figure()\n",
    "grid.set_asy_style(grid.get_real_line(), \"invisible\")"
   ]
  },
  {
   "cell_type": "markdown",
   "id": "524679dd-ab3e-4e7c-b879-2b49bcf61a91",
   "metadata": {
    "collapsed": false
   },
   "source": [
    "The following cycles are defined by their coefficients, and can be defined in loops. The iteration value `size = 2` is already computationally expensive, we use a modest one,"
   ]
  },
  {
   "cell_type": "code",
   "execution_count": null,
   "id": "a4d1ab02-c0e2-4e51-9248-7d5d4a2a58fd",
   "metadata": {
    "collapsed": false
   },
   "outputs": [],
   "source": [
    "size = 1\n",
    "for i in range(-size, size+1):\n",
    "    for j in range(-size, size+1):\n",
    "        grid.add_cycle(cycle_data(1, [i, j], -.2+i*i+j*j), f\"C{i}{j}\")"
   ]
  },
  {
   "cell_type": "code",
   "execution_count": null,
   "id": "ab4a39d4-deab-4acb-af5a-7526ccbce2a8",
   "metadata": {
    "autoscroll": false,
    "collapsed": false,
    "ein.hycell": false,
    "ein.tags": "worksheet-0",
    "slideshow": {
     "slide_type": "-"
    }
   },
   "outputs": [],
   "source": [
    "%asy_write grid, 300, -2, 2, -2, 2, \"grid\", with_labels=False"
   ]
  },
  {
   "cell_type": "markdown",
   "id": "9c2bdd87-d405-4de9-9d97-556fac4e3822",
   "metadata": {
    "collapsed": false,
    "ein.tags": "worksheet-0",
    "slideshow": {
     "slide_type": "-"
    }
   },
   "source": [
    "Calculation of it filling takes a while (10-30 mins for `steps = 2`) due to exponential growth of the data."
   ]
  },
  {
   "cell_type": "code",
   "execution_count": null,
   "id": "c74fa3a8-f7c0-4af5-acea-3c3ba9dedaab",
   "metadata": {
    "autoscroll": false,
    "collapsed": false,
    "ein.hycell": false,
    "ein.tags": "worksheet-0",
    "slideshow": {
     "slide_type": "-"
    }
   },
   "outputs": [],
   "source": [
    "%asy_write make_insertions(grid, 2), 600, -1, 1, -1, 1, \"grid2\", with_labels=False"
   ]
  },
  {
   "cell_type": "markdown",
   "id": "ccc3eb2d-0379-48f5-9b6c-54289e4f90a4",
   "metadata": {
    "collapsed": false,
    "ein.tags": "worksheet-0",
    "slideshow": {
     "slide_type": "-"
    }
   },
   "source": [
    "## Further info:\n",
    "* [MoebInv library full documentation](https://sourceforge.net/projects/moebinv/files/docs/figure.pdf)\n",
    "* [MoebInv Home page](http://moebinv.sourceforge.net/)\n",
    "* [MoebInv  Notebooks](https://github.com/vvkisil/MoebInv-notebooks/blob/master/Table_of_contents.md)\n",
    "* [MoebInv CodeOcean capsule](https://codeocean.com/capsule/7952650/tree)"
   ]
  }
 ],
 "metadata": {
  "kernelspec": {
   "argv": [
    "/usr/bin/python3",
    "-m",
    "ipykernel_launcher",
    "-f",
    "{connection_file}"
   ],
   "display_name": "Python 3 (ipykernel)",
   "env": null,
   "interrupt_mode": "signal",
   "language": "python",
   "metadata": {
    "debugger": true
   },
   "name": "python3"
  },
  "language_info": {
   "codemirror_mode": {
    "name": "ipython",
    "version": 3
   },
   "file_extension": ".py",
   "mimetype": "text/x-python",
   "name": "python",
   "nbconvert_exporter": "python",
   "pygments_lexer": "ipython3",
   "version": "3.7.5"
  },
  "name": "Reflection_recursion.ipynb"
 },
 "nbformat": 4,
 "nbformat_minor": 5
}
