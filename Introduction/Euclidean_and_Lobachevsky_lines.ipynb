{
 "cells": [
  {
   "cell_type": "markdown",
   "id": "de361922-893f-4378-ba34-3c5b7c192d3d",
   "metadata": {
    "colab_type": "text",
    "collapsed": false,
    "ein.tags": "worksheet-0",
    "id": "view-in-github",
    "slideshow": {
     "slide_type": "-"
    }
   },
   "source": [
    "<table style=\"width:100%\">\n",
    "    <tr>\n",
    "        <td>\n",
    "            <a href=\"http://www1.maths.leeds.ac.uk/~kisilv/MoebInv-notebooks/Introduction/Euclidean_and_Lobachevsky_lines.html\">\n",
    "  <img src=\"../svg/view-html.svg\" alt=\"View HTML\"/>\n",
    "            </a>\n",
    "        </td>\n",
    "        <td>\n",
    "            <a href=\"https://github.com/vvkisil/MoebInv-notebooks/blob/master/Introduction/Euclidean_and_Lobachevsky_lines.ipynb\">\n",
    "  <img src=\"../svg/open-github.svg\" alt=\"Open In GitHub\"/>\n",
    "            </a>\n",
    "        </td>\n",
    "        <td>\n",
    "            <a href=\"https://colab.research.google.com/github/vvkisil/MoebInv-notebooks/blob/master/Introduction/Euclidean_and_Lobachevsky_lines.ipynb\">\n",
    "  <img src=\"../svg/exec-colab.svg\" alt=\"Run In CoLab\"/>\n",
    "            </a>\n",
    "        </td>\n",
    "        <td>\n",
    "            <a href=\"https://codeocean.com/capsule/7952650/tree\">\n",
    "  <img src=\"../svg/code-ocean.svg\" alt=\"Code Ocean\"/>\n",
    "            </a>\n",
    "        </td>\n",
    "    </tr>\n",
    " </table>"
   ]
  },
  {
   "cell_type": "markdown",
   "id": "cb6a4552-f70f-4f38-a11a-0c8b0d98234d",
   "metadata": {
    "colab_type": "text",
    "collapsed": false,
    "ein.tags": "worksheet-0",
    "id": "W-YrGxYrwN9P",
    "slideshow": {
     "slide_type": "-"
    }
   },
   "source": [
    "# Euclidean and Lobachevsky line: introducing MoebInv library\n",
    "\n",
    "## Installing required software\n",
    "\n",
    "First we need to install require packages from the dedicated APT repository."
   ]
  },
  {
   "cell_type": "code",
   "execution_count": null,
   "id": "4ba0ad99-0bba-4ac2-abd2-f3f40f93c81a",
   "metadata": {
    "collapsed": false
   },
   "outputs": [],
   "source": [
    "%%bash\n",
    "\n",
    "DISTRO=` grep -e \"^ID=\" /etc/os-release | cut -d= -f2 `\n",
    "# Execute this cell on Ubuntu only\n",
    "if echo \"ubuntu debian\" | grep -qw \"$DISTRO\" ; then \\\n",
    "    echo \"Continue on $DISTRO \" ; \\\n",
    "else \\\n",
    "    echo 'Does not look like an Ubuntu/Debian box, exiting' ; \\\n",
    "    exit ; \\\n",
    "fi\n",
    "\n",
    "# Check if the software is already installed\n",
    "if dpkg -l python3-pymoebinv > /dev/null ; then \\\n",
    "    echo 'The package is already installed, exiting' ; \\\n",
    "    exit ; \\\n",
    "fi\n",
    "\n",
    "# Install signature key of the Ubuntu/Debian repository\n",
    "## apt-key is now obsolete\n",
    "curl -L https://sourceforge.net/projects/moebinv/files/binary/$DISTRO/moebinv.gpg.key | \\\n",
    "gpg --dearmor > /etc/apt/trusted.gpg.d/moebinv-archive-keyring.gpg\n",
    "\n",
    "## An alternative installation with a keyring package.\n",
    "#cd /tmp;\\\n",
    "#wget --backups=1 https://sourceforge.net/projects/moebinv/files/binary/$DISTRO/moebinv-archive-keyring_0.2_all.deb && \\\n",
    "#dpkg -i moebinv-archive-keyring_0.2_all.deb\n",
    "\n",
    "# Add Ubuntu/Debian repository to known sources\n",
    "CODENAME=`grep -e \"VERSION_CODENAME\" /etc/os-release | cut -d= -f2`\n",
    "echo \"deb https://sourceforge.net/projects/moebinv/files/binary/$DISTRO $CODENAME main\" > \\\n",
    "     /etc/apt/sources.list.d/moebinv.list \n",
    "\n",
    "# Update the contents of the repository\n",
    "apt update \n",
    "\n",
    "# Install required packages and their dependencies\n",
    "apt-get -q -y install asymptote python3-pymoebinv\n",
    "\n",
    "# Copy useful initialisation file to the current directory\n",
    "zcat /usr/share/doc/python3-pymoebinv/EPAL-v1/init_cycle.py.gz > init_cycle.py"
   ]
  },
  {
   "cell_type": "markdown",
   "id": "d3f1e4c9-f22b-4d84-b1b0-2a896455378d",
   "metadata": {
    "collapsed": false,
    "ein.tags": "worksheet-0",
    "slideshow": {
     "slide_type": "-"
    }
   },
   "source": [
    "If you are going to use examples from EPAL-v1 folder you will need also Python file which initialises many common variables which is copied in the last line of the above script."
   ]
  },
  {
   "cell_type": "markdown",
   "id": "a76cc3d0-3f17-4e7e-ae4a-a36d4fc4c509",
   "metadata": {
    "colab_type": "text",
    "collapsed": false,
    "ein.tags": "worksheet-0",
    "id": "6Q5O2NjxJcWD",
    "slideshow": {
     "slide_type": "-"
    }
   },
   "source": [
    "The same command will install MoebInv library on your Ubuntu-18.04/Debian-10/etc desktop Linux-x86-64 (amd64) box.\n",
    "\n",
    "You can cleanly uninstall the above software at any time as explained in the section [Uninstallation](https://colab.research.google.com/drive/1L8kURF-zOnwdcrZRDhLKCItWcUJFQSuv#scrollTo=uZY86q85GKr6&line=3&uniqifier=1) below."
   ]
  },
  {
   "cell_type": "markdown",
   "id": "09f594c6-10c9-4dbc-8c25-7cf0650ba0bf",
   "metadata": {
    "colab_type": "text",
    "collapsed": false,
    "ein.tags": "worksheet-0",
    "id": "0sR0bObBxMp8",
    "slideshow": {
     "slide_type": "-"
    }
   },
   "source": [
    "## Using the library\n",
    "Once everything is installed we can use MoebInv. To start, we need to load and initialise respective libraries."
   ]
  },
  {
   "cell_type": "code",
   "execution_count": null,
   "id": "9c875435-c0a5-4e46-991a-47dbde118a2d",
   "metadata": {
    "autoscroll": false,
    "colab": null,
    "colab_type": "code",
    "collapsed": false,
    "ein.hycell": false,
    "ein.tags": "worksheet-0",
    "id": "mvDejYWQxMqA",
    "slideshow": {
     "slide_type": "-"
    }
   },
   "outputs": [],
   "source": [
    "from IPython.display import Image\n",
    "from figure import *\n",
    "show_asy_off()"
   ]
  },
  {
   "cell_type": "markdown",
   "id": "4c4c6810-ae24-452a-865a-73f4b1ee47b4",
   "metadata": {
    "colab_type": "text",
    "collapsed": false,
    "ein.tags": "worksheet-0",
    "id": "ZHuv157BxMqM",
    "slideshow": {
     "slide_type": "-"
    }
   },
   "source": [
    "Now we initialise the figure $F$ with a default Euclidean metric."
   ]
  },
  {
   "cell_type": "code",
   "execution_count": null,
   "id": "94af7501-c549-4fdd-873f-4730c2dfd56b",
   "metadata": {
    "autoscroll": false,
    "colab": null,
    "colab_type": "code",
    "collapsed": false,
    "ein.hycell": false,
    "ein.tags": "worksheet-0",
    "id": "xg2SNUOkxMqO",
    "slideshow": {
     "slide_type": "-"
    }
   },
   "outputs": [],
   "source": [
    "F=figure()"
   ]
  },
  {
   "cell_type": "markdown",
   "id": "ba4596b0-a7c3-4317-9ef7-62d66120ce73",
   "metadata": {
    "colab_type": "text",
    "collapsed": false,
    "ein.tags": "worksheet-0",
    "id": "E_IL74JBxMqV",
    "slideshow": {
     "slide_type": "-"
    }
   },
   "source": [
    "We add two points $A$ and $B$ to the figure providing their explicit coordinates."
   ]
  },
  {
   "cell_type": "code",
   "execution_count": null,
   "id": "73e689d3-3657-4c8f-8caf-0fb70b3835e1",
   "metadata": {
    "autoscroll": false,
    "colab": null,
    "colab_type": "code",
    "collapsed": false,
    "ein.hycell": false,
    "ein.tags": "worksheet-0",
    "id": "ufbyn7euxMqX",
    "slideshow": {
     "slide_type": "-"
    }
   },
   "outputs": [],
   "source": [
    "A=F.add_point([-.25,.7],\"A\")\n",
    "B=F.add_point([1,1],\"B\")"
   ]
  },
  {
   "cell_type": "markdown",
   "id": "0aef3475-24b7-4b9f-8c94-78b6c4e46522",
   "metadata": {
    "colab_type": "text",
    "collapsed": false,
    "ein.tags": "worksheet-0",
    "id": "nP0rqAllxMqc",
    "slideshow": {
     "slide_type": "-"
    }
   },
   "source": [
    "We add the Euclidean line $e$ passing $A$ and $B$: it is orthogonal to these to points as well as the infinity $\\infty$."
   ]
  },
  {
   "cell_type": "code",
   "execution_count": null,
   "id": "85a20ae8-51c1-4976-b95e-186b43b74205",
   "metadata": {
    "autoscroll": false,
    "colab": null,
    "colab_type": "code",
    "collapsed": false,
    "ein.hycell": false,
    "ein.tags": "worksheet-0",
    "id": "XlEgS6JlxMqd",
    "slideshow": {
     "slide_type": "-"
    }
   },
   "outputs": [],
   "source": [
    "e=F.add_cycle_rel([is_orthogonal(A),is_orthogonal(B),is_orthogonal(F.get_infinity())],\"e\")"
   ]
  },
  {
   "cell_type": "markdown",
   "id": "8d626a53-896b-4db9-a43c-ee9c30266d51",
   "metadata": {
    "colab_type": "text",
    "collapsed": false,
    "ein.tags": "worksheet-0",
    "id": "z9_nQPDXxMqh",
    "slideshow": {
     "slide_type": "-"
    }
   },
   "source": [
    "The Lobachevsky line $l$ is similarly defined, but it is orthogonal to the real line $\\mathbb{R}$ rather than $\\infty$."
   ]
  },
  {
   "cell_type": "code",
   "execution_count": null,
   "id": "84741d4b-92cf-48de-bb64-5810cc519d92",
   "metadata": {
    "autoscroll": false,
    "colab": null,
    "colab_type": "code",
    "collapsed": false,
    "ein.hycell": false,
    "ein.tags": "worksheet-0",
    "id": "vboY1Li7xMqj",
    "slideshow": {
     "slide_type": "-"
    }
   },
   "outputs": [],
   "source": [
    "l=F.add_cycle_rel([is_orthogonal(A),is_orthogonal(B),is_orthogonal(F.get_real_line())],\"l\")"
   ]
  },
  {
   "cell_type": "markdown",
   "id": "852a9ac0-6e6f-40eb-a55f-d9105821965d",
   "metadata": {
    "colab_type": "text",
    "collapsed": false,
    "ein.tags": "worksheet-0",
    "id": "mpBmiiYgxMqm",
    "slideshow": {
     "slide_type": "-"
    }
   },
   "source": [
    "Now we draw the picture."
   ]
  },
  {
   "cell_type": "code",
   "execution_count": null,
   "id": "9b0cdfbb-2c5a-47bc-88ef-da3eec791ed7",
   "metadata": {
    "autoscroll": false,
    "colab": {
     "base_uri": "https://localhost:8080/",
     "height": 275
    },
    "colab_type": "code",
    "collapsed": false,
    "ein.hycell": false,
    "ein.tags": "worksheet-0",
    "id": "xJz9j-SBxMqo",
    "outputId": "05f4efb6-a750-4e4f-8d02-1475bf482bb1",
    "slideshow": {
     "slide_type": "-"
    }
   },
   "outputs": [],
   "source": [
    "F.asy_write(300,-.7,2,-2,2,\"euclid_and_lobachevsky\",\"png\")\n",
    "Image(\"euclid_and_lobachevsky.png\")"
   ]
  },
  {
   "cell_type": "markdown",
   "id": "a6973b15-d312-4d60-b3d3-9e0ba3cb0740",
   "metadata": {
    "colab_type": "text",
    "collapsed": false,
    "ein.tags": "worksheet-0",
    "id": "aITeqTPo22zj",
    "slideshow": {
     "slide_type": "-"
    }
   },
   "source": [
    "The same effect can be achived in one line with IPython Magic. On Google CoLab an additional one-off per notebook initialisation of magics is required:"
   ]
  },
  {
   "cell_type": "code",
   "execution_count": null,
   "id": "3bfe100c-7411-4fd8-af37-62eca56baac5",
   "metadata": {
    "collapsed": false
   },
   "outputs": [],
   "source": [
    "%load_ex figure.figure_ipython"
   ]
  },
  {
   "cell_type": "markdown",
   "id": "86dc2476-1bb6-4831-92b6-375f62aebb97",
   "metadata": {
    "collapsed": false
   },
   "source": [
    "Now we can use the magic shortcut:"
   ]
  },
  {
   "cell_type": "code",
   "execution_count": null,
   "id": "f6d9507d-6660-42ec-898b-c851aca5240c",
   "metadata": {
    "autoscroll": false,
    "colab": {
     "base_uri": "https://localhost:8080/",
     "height": 275
    },
    "colab_type": "code",
    "collapsed": false,
    "ein.hycell": false,
    "ein.tags": "worksheet-0",
    "id": "TWfzwXUP3CxX",
    "outputId": "cbddba8a-89a5-44ae-b88d-df8f737cab8f",
    "slideshow": {
     "slide_type": "-"
    }
   },
   "outputs": [],
   "source": [
    "%asy_write F, 300, -.7, 2, -2,2, \"euclid_and_lobachevsky\""
   ]
  },
  {
   "cell_type": "markdown",
   "id": "29a58a5e-7583-40c7-9267-65093decc210",
   "metadata": {
    "colab_type": "text",
    "collapsed": false,
    "ein.tags": "worksheet-0",
    "id": "uZY86q85GKr6",
    "slideshow": {
     "slide_type": "-"
    }
   },
   "source": [
    "## Uninstalation\n",
    "\n",
    "If you do not need MoebInv anymore and want to uninstall it then execute the following cell. For this switch the type of the next cell to `code` and execute it."
   ]
  },
  {
   "cell_type": "raw",
   "id": "dc82e7eb-a3aa-47fa-8592-a07f03502ad0",
   "metadata": {
    "collapsed": false,
    "ein.tags": "worksheet-0",
    "slideshow": {
     "slide_type": "-"
    }
   },
   "source": [
    "!apt-get -qq remove -y python3-pymoebinv asymptote"
   ]
  },
  {
   "cell_type": "markdown",
   "id": "be8fbfe9-5f69-47c4-a54d-617223f5abad",
   "metadata": {
    "colab_type": "text",
    "collapsed": false,
    "ein.tags": "worksheet-0",
    "id": "Gy-sbPls5Ait",
    "slideshow": {
     "slide_type": "-"
    }
   },
   "source": [
    "## Further info:\n",
    "* [MoebInv library full documentation](https://sourceforge.net/projects/moebinv/files/docs/figure.pdf)\n",
    "* [MoebInv Home page](http://moebinv.sourceforge.net/)\n",
    "* [MoebInv  Notebooks](https://github.com/vvkisil/MoebInv-notebooks/blob/master/Table_of_contents.md)\n",
    "* [MoebInv CodeOcean capsule](https://codeocean.com/capsule/7952650/tree)"
   ]
  }
 ],
 "metadata": {
  "colab": {
   "collapsed_sections": null,
   "include_colab_link": true,
   "name": "Euclidean and Lobachevsky lines.ipynb",
   "provenance": null,
   "version": "0.3.2"
  },
  "kernelspec": {
   "argv": [
    "/usr/bin/python3",
    "-m",
    "ipykernel_launcher",
    "-f",
    "{connection_file}"
   ],
   "display_name": "Python 3 (ipykernel)",
   "env": null,
   "interrupt_mode": "signal",
   "language": "python",
   "metadata": {
    "debugger": true
   },
   "name": "python3"
  },
  "language_info": {
   "codemirror_mode": {
    "name": "ipython",
    "version": 3
   },
   "file_extension": ".py",
   "mimetype": "text/x-python",
   "name": "python",
   "nbconvert_exporter": "python",
   "pygments_lexer": "ipython3",
   "version": "3.7.4+"
  },
  "name": "Euclidean_and_Lobachevsky_lines.ipynb"
 },
 "nbformat": 4,
 "nbformat_minor": 1
}
