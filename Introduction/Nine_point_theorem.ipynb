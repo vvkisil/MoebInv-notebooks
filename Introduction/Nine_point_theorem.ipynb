{
 "cells": [
  {
   "cell_type": "markdown",
   "id": "2c09f178-9fd1-4cfb-9b38-6e345f808f8b",
   "metadata": {
    "colab_type": "text",
    "collapsed": false,
    "ein.tags": "worksheet-0",
    "id": "view-in-github",
    "slideshow": {
     "slide_type": "-"
    }
   },
   "source": [
    "<table style=\"width:100%\">\n",
    "    <tr>\n",
    "        <td>\n",
    "            <a href=\"http://www1.maths.leeds.ac.uk/~kisilv/MoebInv-notebooks/Introduction/Nine_point_theorem.html\">\n",
    "  <img src=\"../svg/view-html.svg\" alt=\"View HTML\"/>\n",
    "            </a>\n",
    "        </td>\n",
    "        <td>\n",
    "<a href=\"https://github.com/vvkisil/MoebInv-notebooks/blob/master/Introduction/Nine_point_theorem.ipynb\">\n",
    "  <img src=\"../svg/open-github.svg\" alt=\"Open In GitHub\"/>\n",
    "            </a>\n",
    "        </td>\n",
    "        <td>\n",
    "            <a href=\"https://colab.research.google.com/github/vvkisil/MoebInv-notebooks/blob/master/Introduction/Nine_point_theorem.ipynb\">\n",
    "  <img src=\"../svg/exec-colab.svg\" alt=\"Run In CoLab\"/>\n",
    "            </a>\n",
    "        </td>\n",
    "        <td>\n",
    "            <a href=\"https://codeocean.com/capsule/7952650/tree\">\n",
    "  <img src=\"../svg/code-ocean.svg\" alt=\"Code Ocean\"/>\n",
    "            </a>\n",
    "        </td>\n",
    "    </tr>\n",
    " </table>"
   ]
  },
  {
   "cell_type": "markdown",
   "id": "7f88a5f9-bbfa-4ca0-a248-b2dd5a3af380",
   "metadata": {
    "colab_type": "text",
    "collapsed": false,
    "ein.tags": "worksheet-0",
    "id": "ZKGiiCZ54ORH",
    "slideshow": {
     "slide_type": "-"
    }
   },
   "source": [
    "# Nine point theorem"
   ]
  },
  {
   "cell_type": "markdown",
   "id": "61d68163-d948-4097-af1d-cace80652dfd",
   "metadata": {
    "colab_type": "text",
    "collapsed": false,
    "ein.tags": "worksheet-0",
    "id": "2F0brMye4ORJ",
    "slideshow": {
     "slide_type": "-"
    }
   },
   "source": [
    "We initialize the library and construct midpoint subfigure to be used several times.\n",
    "\n",
    "**If you get an error** due to missing libraries then install them as shown in the first section of [this notebook](https://colab.research.google.com/github/vvkisil/MoebInv-notebooks/blob/master/Introduction/Euclidean_and_Lobachevsky_lines.ipynb)."
   ]
  },
  {
   "cell_type": "code",
   "execution_count": null,
   "id": "eb780ba1-208a-4eb7-acfd-9be8fb7e5298",
   "metadata": {
    "autoscroll": false,
    "colab": null,
    "colab_type": "code",
    "collapsed": false,
    "ein.hycell": false,
    "ein.tags": "worksheet-0",
    "id": "7DWdiaPN4ORK",
    "slideshow": {
     "slide_type": "-"
    }
   },
   "outputs": [],
   "source": [
    "from figure import *\n",
    "from IPython.display import Image\n",
    "show_asy_off()"
   ]
  },
  {
   "cell_type": "markdown",
   "id": "a3ec9a4c-1b92-4496-8354-8ea23d57b2ee",
   "metadata": {
    "colab_type": "text",
    "collapsed": false,
    "ein.tags": "worksheet-0",
    "id": "NoaKc1eQ4ORO",
    "slideshow": {
     "slide_type": "-"
    }
   },
   "source": [
    "We will investigate the construction in different metrics, thus we define in the clifford unit e which initially has Euclidean (elliptic) signature"
   ]
  },
  {
   "cell_type": "code",
   "execution_count": null,
   "id": "98bc1c7a-ab38-48ea-a9e5-0c9568da55a9",
   "metadata": {
    "autoscroll": false,
    "colab": null,
    "colab_type": "code",
    "collapsed": false,
    "ein.hycell": false,
    "ein.tags": "worksheet-0",
    "id": "ZphZ38QZ4ORP",
    "slideshow": {
     "slide_type": "-"
    }
   },
   "outputs": [],
   "source": [
    "mu=varidx(symbol(\"mu\"),2)\n",
    "e=clifford_unit(mu,diag_matrix([-1,-1]))"
   ]
  },
  {
   "cell_type": "markdown",
   "id": "48cdb1b5-9b30-4839-8940-50b09a17f1be",
   "metadata": {
    "colab_type": "text",
    "collapsed": false,
    "ein.tags": "worksheet-0",
    "id": "oAAm25To4ORS",
    "slideshow": {
     "slide_type": "-"
    }
   },
   "source": [
    "Then we create a figure F with this metric."
   ]
  },
  {
   "cell_type": "code",
   "execution_count": null,
   "id": "07ab7ca6-432b-4f92-9a33-fb8d36aeb2ae",
   "metadata": {
    "autoscroll": false,
    "colab": null,
    "colab_type": "code",
    "collapsed": false,
    "ein.hycell": false,
    "ein.tags": "worksheet-0",
    "id": "yaTpfunu4ORT",
    "slideshow": {
     "slide_type": "-"
    }
   },
   "outputs": [],
   "source": [
    "F=figure(e)"
   ]
  },
  {
   "cell_type": "markdown",
   "id": "6a8233f1-b052-4e87-89da-ba72a02ece96",
   "metadata": {
    "colab_type": "text",
    "collapsed": false,
    "ein.tags": "worksheet-0",
    "id": "8MnyECSR4ORW",
    "slideshow": {
     "slide_type": "-"
    }
   },
   "source": [
    "We explicitly define three points A, B, C by their coordinates"
   ]
  },
  {
   "cell_type": "code",
   "execution_count": null,
   "id": "754ceb01-30e6-4f14-a4c0-efe27eb63dff",
   "metadata": {
    "autoscroll": false,
    "colab": null,
    "colab_type": "code",
    "collapsed": false,
    "ein.hycell": false,
    "ein.tags": "worksheet-0",
    "id": "KJ5tE9kj4ORX",
    "slideshow": {
     "slide_type": "-"
    }
   },
   "outputs": [],
   "source": [
    "A=F.add_point([-numeric(10,10),numeric(0,1)],\"A\")\n",
    "B=F.add_point([numeric(10,10),numeric(0,1)],\"B\")\n",
    "C=F.add_point([-numeric(1,5),-numeric(3,2)],\"C\")"
   ]
  },
  {
   "cell_type": "markdown",
   "id": "5db9ed3d-cc65-4d29-bb36-ad83f1c0d86b",
   "metadata": {
    "colab_type": "text",
    "collapsed": false,
    "ein.tags": "worksheet-0",
    "id": "NGZRozwL4ORZ",
    "slideshow": {
     "slide_type": "-"
    }
   },
   "source": [
    "We add point N which represents infinity. Conformal versions of this theorem are produced if this point will be sent to a location in a finite region. "
   ]
  },
  {
   "cell_type": "code",
   "execution_count": null,
   "id": "4f748a26-aaf4-47c0-8dd6-bf75ee15aab6",
   "metadata": {
    "autoscroll": false,
    "colab": null,
    "colab_type": "code",
    "collapsed": false,
    "ein.hycell": false,
    "ein.tags": "worksheet-0",
    "id": "Yc8iF4S74ORa",
    "slideshow": {
     "slide_type": "-"
    }
   },
   "outputs": [],
   "source": [
    "N=F.add_cycle(cycle2D(0,[0,0],1,e),\"N\")"
   ]
  },
  {
   "cell_type": "markdown",
   "id": "37f1e371-f6dc-4529-8260-59305117e108",
   "metadata": {
    "colab_type": "text",
    "collapsed": false,
    "ein.tags": "worksheet-0",
    "id": "XfHRllYG4ORd",
    "slideshow": {
     "slide_type": "-"
    }
   },
   "source": [
    "We produce three sides of the triangle ABC as cycles passing two vertices and infinity N."
   ]
  },
  {
   "cell_type": "code",
   "execution_count": null,
   "id": "18d9243d-5380-4ebe-9b73-5ec90f1f9330",
   "metadata": {
    "autoscroll": false,
    "colab": null,
    "colab_type": "code",
    "collapsed": false,
    "ein.hycell": false,
    "ein.tags": "worksheet-0",
    "id": "CLAjae4i4ORe",
    "slideshow": {
     "slide_type": "-"
    }
   },
   "outputs": [],
   "source": [
    "a=F.add_cycle_rel([is_orthogonal(B),is_orthogonal(C),is_orthogonal(N)],\"a\")\n",
    "b=F.add_cycle_rel([is_orthogonal(A),is_orthogonal(C),is_orthogonal(N)],\"b\")\n",
    "c=F.add_cycle_rel([is_orthogonal(A),is_orthogonal(B),is_orthogonal(N)],\"c\")"
   ]
  },
  {
   "cell_type": "markdown",
   "id": "e2bdf5ef-4379-4a98-bc26-f4d25db93221",
   "metadata": {
    "colab_type": "text",
    "collapsed": false,
    "ein.tags": "worksheet-0",
    "id": "YUOkbVrc4ORh",
    "slideshow": {
     "slide_type": "-"
    }
   },
   "source": [
    "To make drawing more colorful, sides will be painted in blue color."
   ]
  },
  {
   "cell_type": "code",
   "execution_count": null,
   "id": "d4fb6e36-d5f4-4763-a35a-bed5c52a219b",
   "metadata": {
    "autoscroll": false,
    "colab": null,
    "colab_type": "code",
    "collapsed": false,
    "ein.hycell": false,
    "ein.tags": "worksheet-0",
    "id": "xIl6zBU34ORi",
    "slideshow": {
     "slide_type": "-"
    }
   },
   "outputs": [],
   "source": [
    "F.set_asy_style(a,\"rgb(0,0,.8)+1\")\n",
    "F.set_asy_style(b,\"rgb(0,0,.8)+1\")\n",
    "F.set_asy_style(c,\"rgb(0,0,.8)+1\")"
   ]
  },
  {
   "cell_type": "markdown",
   "id": "fca468aa-a334-4c08-94c4-c72d343d4c18",
   "metadata": {
    "colab_type": "text",
    "collapsed": false,
    "ein.tags": "worksheet-0",
    "id": "7LmWQger4ORn",
    "slideshow": {
     "slide_type": "-"
    }
   },
   "source": [
    "Now we drop altitudes $h_a$, $h_b$ and $h_c$ to opposite sides, they are not so important and are presented by dashed lines."
   ]
  },
  {
   "cell_type": "code",
   "execution_count": null,
   "id": "a975992b-6637-489d-9d34-7c397decfa98",
   "metadata": {
    "autoscroll": false,
    "colab": null,
    "colab_type": "code",
    "collapsed": false,
    "ein.hycell": false,
    "ein.tags": "worksheet-0",
    "id": "jpUR-rwi4ORo",
    "slideshow": {
     "slide_type": "-"
    }
   },
   "outputs": [],
   "source": [
    "ha=F.add_cycle_rel([is_orthogonal(A),is_orthogonal(N),is_orthogonal(a)],\"h_a\")\n",
    "F.set_asy_style(ha,\"dashed\")\n",
    "hb=F.add_cycle_rel([is_orthogonal(B),is_orthogonal(N),is_orthogonal(b)],\"h_b\")\n",
    "F.set_asy_style(hb,\"dashed\")\n",
    "hc=F.add_cycle_rel([is_orthogonal(C),is_orthogonal(N),is_orthogonal(c)],\"h_c\")\n",
    "F.set_asy_style(hc,\"dashed\")"
   ]
  },
  {
   "cell_type": "markdown",
   "id": "46eeae4b-0c86-4baa-a238-12f509bf91aa",
   "metadata": {
    "colab_type": "text",
    "collapsed": false,
    "ein.tags": "worksheet-0",
    "id": "RY1VpDp64ORs",
    "slideshow": {
     "slide_type": "-"
    }
   },
   "source": [
    "Feets $A_h$, $A_b$ and $A_c$ of altitudes are points and shall be defined through self-othogonality. Thus we need to prepare respective symbols in advance."
   ]
  },
  {
   "cell_type": "code",
   "execution_count": null,
   "id": "b3e0d682-f30b-454d-b048-96f7931d61b0",
   "metadata": {
    "autoscroll": false,
    "colab": {
     "base_uri": "https://localhost:8080/",
     "height": 34
    },
    "colab_type": "code",
    "collapsed": false,
    "ein.hycell": false,
    "ein.tags": "worksheet-0",
    "id": "JLBUgsA-4ORt",
    "outputId": "bba1302f-8b41-4e2c-c585-b6e54a863159",
    "slideshow": {
     "slide_type": "-"
    }
   },
   "outputs": [],
   "source": [
    "A1=symbol(\"A_h\")\n",
    "B1=symbol(\"B_h\")\n",
    "C1=symbol(\"C_h\")\n",
    "F.add_cycle_rel([is_orthogonal(a),is_orthogonal(ha),is_orthogonal(A1),is_adifferent(N)],A1)\n",
    "F.add_cycle_rel([is_orthogonal(b),is_orthogonal(hb),is_adifferent(N),is_orthogonal(B1)],B1)\n",
    "F.add_cycle_rel([is_adifferent(N),is_orthogonal(c),is_orthogonal(hc),is_orthogonal(C1)],C1)"
   ]
  },
  {
   "cell_type": "markdown",
   "id": "039b2364-15ad-4f38-a6da-f0c7ae91f267",
   "metadata": {
    "colab_type": "text",
    "collapsed": false,
    "ein.tags": "worksheet-0",
    "id": "jiXUsoKV4ORy",
    "slideshow": {
     "slide_type": "-"
    }
   },
   "source": [
    "The nine-point circe $p$ is completely defined by three feets of altitudes. It is painted in red."
   ]
  },
  {
   "cell_type": "code",
   "execution_count": null,
   "id": "2dd46539-5552-41eb-8af5-82ffd0287bf0",
   "metadata": {
    "autoscroll": false,
    "colab": null,
    "colab_type": "code",
    "collapsed": false,
    "ein.hycell": false,
    "ein.tags": "worksheet-0",
    "id": "F2N1F8hA4ORy",
    "slideshow": {
     "slide_type": "-"
    }
   },
   "outputs": [],
   "source": [
    "p=F.add_cycle_rel([is_orthogonal(A1),is_orthogonal(B1),is_orthogonal(C1)],\"p\")\n",
    "F.set_asy_style(p,\"rgb(0,.8,0)+1\")"
   ]
  },
  {
   "cell_type": "markdown",
   "id": "5c47ed0f-20f5-4f31-a491-38d50d1b1607",
   "metadata": {
    "colab_type": "text",
    "collapsed": false,
    "ein.tags": "worksheet-0",
    "id": "ZMshO1564OR1",
    "slideshow": {
     "slide_type": "-"
    }
   },
   "source": [
    "To build midpoints $A_m$, $B_m$ and $C_m$ of sideds we use pre-defined construction as subfigure."
   ]
  },
  {
   "cell_type": "code",
   "execution_count": null,
   "id": "7b684f90-d73d-4f99-a220-755ffa63dba0",
   "metadata": {
    "autoscroll": false,
    "colab": null,
    "colab_type": "code",
    "collapsed": false,
    "ein.hycell": false,
    "ein.tags": "worksheet-0",
    "id": "1uksBB074OR2",
    "slideshow": {
     "slide_type": "-"
    }
   },
   "outputs": [],
   "source": [
    "SF=midpoint_constructor()\n",
    "A2=F.add_subfigure(SF,[B,C,N],\"A_m\")\n",
    "B2=F.add_subfigure(SF,[C,A,N],\"B_m\")\n",
    "C2=F.add_subfigure(SF,[A,B,N],\"C_m\")"
   ]
  },
  {
   "cell_type": "markdown",
   "id": "049226cc-656d-423e-b4b6-c82cb3ebecd6",
   "metadata": {
    "colab_type": "text",
    "collapsed": false,
    "ein.tags": "worksheet-0",
    "id": "0hsEphSh4OR5",
    "slideshow": {
     "slide_type": "-"
    }
   },
   "source": [
    "We construct the intersection of alltitudes $H$ and midpoints $A_d$, $B_d$ and $C_d$ of intervals $HA$, $HB$ and $HC$ respectively."
   ]
  },
  {
   "cell_type": "code",
   "execution_count": null,
   "id": "d5085513-b213-4692-9d02-90cf7103fa8a",
   "metadata": {
    "autoscroll": false,
    "colab": null,
    "colab_type": "code",
    "collapsed": false,
    "ein.hycell": false,
    "ein.tags": "worksheet-0",
    "id": "Ftmu5e8d4OR5",
    "slideshow": {
     "slide_type": "-"
    }
   },
   "outputs": [],
   "source": [
    "H=symbol(\"H\")\n",
    "F.add_cycle_rel([is_orthogonal(ha),is_orthogonal(hb),is_orthogonal(H),is_adifferent(N)],H)\n",
    "A3=F.add_subfigure(SF,[H,A,N],\"A_d\")\n",
    "B3=F.add_subfigure(SF,[B,H,N],\"B_d\")\n",
    "C3=F.add_subfigure(SF,[C,H,N],\"C_d\")"
   ]
  },
  {
   "cell_type": "markdown",
   "id": "b00f327f-bed1-4af5-8b8e-dad38f9356ea",
   "metadata": {
    "colab_type": "text",
    "collapsed": false,
    "ein.tags": "worksheet-0",
    "id": "R6VXdrB_4OR8",
    "slideshow": {
     "slide_type": "-"
    }
   },
   "source": [
    " Now we can check that the nine-point circle $p$ passes other six points $A_m$, $B_m$, $C_m$  $A_d$, $B_d$, $C_d$. We will do this several times, thus a procedure is defined."
   ]
  },
  {
   "cell_type": "code",
   "execution_count": null,
   "id": "58b35ad8-f916-4410-85f7-9deca80c1a3b",
   "metadata": {
    "autoscroll": false,
    "colab": {
     "base_uri": "https://localhost:8080/",
     "height": 119
    },
    "colab_type": "code",
    "collapsed": false,
    "ein.hycell": false,
    "ein.tags": "worksheet-0",
    "id": "9Ny6jg5u4OR9",
    "outputId": "af00eac1-b5f1-416e-810f-7aae59a81caf",
    "slideshow": {
     "slide_type": "-"
    }
   },
   "outputs": [],
   "source": [
    "def check_theorem():\n",
    "    for j in [A1, B1, C1, A2, B2, C2]:\n",
    "        res = F.check_rel(p,j,\"orthogonal\")\n",
    "        for i in range(len(res)):\n",
    "            print (\"Nine-point circle passes %s: %s\" % (j, bool(res[i])) )\n",
    "\n",
    "check_theorem()"
   ]
  },
  {
   "cell_type": "markdown",
   "id": "00826fc3-985a-41ac-96f0-bce4145a72dc",
   "metadata": {
    "colab_type": "text",
    "collapsed": false,
    "ein.tags": "worksheet-0",
    "id": "jt0JFW-F4OSA",
    "slideshow": {
     "slide_type": "-"
    }
   },
   "source": [
    "We may also visualise our construction"
   ]
  },
  {
   "cell_type": "code",
   "execution_count": null,
   "id": "7e4ea05c-180d-4d37-ab5a-db4ecdc6dd3d",
   "metadata": {
    "autoscroll": false,
    "colab": {
     "base_uri": "https://localhost:8080/",
     "height": 473
    },
    "colab_type": "code",
    "collapsed": false,
    "ein.hycell": false,
    "ein.tags": "worksheet-0",
    "id": "2tqELGIy4OSB",
    "outputId": "1c2617da-60e0-400b-d8ed-eca613ab4f05",
    "slideshow": {
     "slide_type": "-"
    }
   },
   "outputs": [],
   "source": [
    "F.asy_write(600,-1.2,1.3,-1.6,0.3,\"nine-points-ell\", \"png\")\n",
    "Image(\"nine-points-ell.png\")"
   ]
  },
  {
   "cell_type": "markdown",
   "id": "80869ac0-8faf-43d3-a982-132d1da658cd",
   "metadata": {
    "colab_type": "text",
    "collapsed": false,
    "ein.tags": "worksheet-0",
    "id": "TQdaxoCb4OSE",
    "slideshow": {
     "slide_type": "-"
    }
   },
   "source": [
    "So far it was the classical results on nine-point theorem. Now we can produce a new conformal version. It is achived by moving the point N to a finitl position. All streight lines will be deformed into the circles passing point N. We again check the theorem and produce an illustration."
   ]
  },
  {
   "cell_type": "code",
   "execution_count": null,
   "id": "3d8787ca-cc8c-4453-b67a-9df6c979e362",
   "metadata": {
    "autoscroll": false,
    "colab": {
     "base_uri": "https://localhost:8080/",
     "height": 608
    },
    "colab_type": "code",
    "collapsed": false,
    "ein.hycell": false,
    "ein.tags": "worksheet-0",
    "id": "vqL6eQye4OSF",
    "outputId": "40486677-71c3-4788-83f0-b50da5448090",
    "slideshow": {
     "slide_type": "-"
    }
   },
   "outputs": [],
   "source": [
    "#IN=cycle2D(0,[0,0],1)\n",
    "F.move_point(N, [1.5,-2.5])\n",
    "check_theorem()\n",
    "F.asy_write(600,-1.6,2.7,-2.7,0.8,\"nine-points-ell1\", \"png\")\n",
    "Image(\"nine-points-ell1.png\")"
   ]
  },
  {
   "cell_type": "markdown",
   "id": "0124e729-0ecf-4520-a2cb-c6fad79a10a8",
   "metadata": {
    "colab_type": "text",
    "collapsed": false,
    "ein.tags": "worksheet-0",
    "id": "OEurOmRv4OSJ",
    "slideshow": {
     "slide_type": "-"
    }
   },
   "source": [
    "Another unique feature of the MoebInv library is ability to work additinally in hyperbolic and parabolic metrics. We present the nine point theorem in hyperbolic case. To this end we simply change metric of the figure, return the point N to infinity and then check the theorme and make the illustration."
   ]
  },
  {
   "cell_type": "code",
   "execution_count": null,
   "id": "b4640f0a-a86a-484a-8afd-1e0d236239af",
   "metadata": {
    "autoscroll": false,
    "colab": {
     "base_uri": "https://localhost:8080/",
     "height": 610
    },
    "colab_type": "code",
    "collapsed": false,
    "ein.hycell": false,
    "ein.tags": "worksheet-0",
    "id": "qZsgjKWN4OSJ",
    "outputId": "e7c5164f-d4b4-4acd-94f8-2daf0da96573",
    "slideshow": {
     "slide_type": "-"
    }
   },
   "outputs": [],
   "source": [
    "F.move_cycle(N, cycle2D(0,[0,0],1))\n",
    "F.set_metric(diag_matrix([-1,1]))\n",
    "check_theorem()\n",
    "F.asy_write(600,-1.6,1.7,-1.7,1,\"nine-points-hyp\", \"png\")\n",
    "Image(\"nine-points-hyp.png\")"
   ]
  },
  {
   "cell_type": "markdown",
   "id": "6d7f5f74-f565-4d6b-b72e-65874262ed53",
   "metadata": {
    "colab_type": "text",
    "collapsed": false,
    "ein.tags": "worksheet-0",
    "id": "cplWC8TB4OSO",
    "slideshow": {
     "slide_type": "-"
    }
   },
   "source": [
    "## Further info:\n",
    "* [MoebInv library full documentation](https://sourceforge.net/projects/moebinv/files/docs/figure.pdf)\n",
    "* [MoebInv Home page](http://moebinv.sourceforge.net/)\n",
    "* [MoebInv  Notebooks](https://github.com/vvkisil/MoebInv-notebooks/blob/master/Table_of_contents.md)\n",
    "* [MoebInv CodeOcean capsule](https://codeocean.com/capsule/7952650/tree)"
   ]
  }
 ],
 "metadata": {
  "colab": {
   "collapsed_sections": null,
   "include_colab_link": true,
   "name": "Nine point throrem.ipynb",
   "provenance": null,
   "version": "0.3.2"
  },
  "kernelspec": {
   "argv": [
    "/usr/bin/python3",
    "-m",
    "ipykernel_launcher",
    "-f",
    "{connection_file}"
   ],
   "display_name": "Python 3 (ipykernel)",
   "env": null,
   "interrupt_mode": "signal",
   "language": "python",
   "metadata": {
    "debugger": true
   },
   "name": "python3"
  },
  "language_info": {
   "codemirror_mode": {
    "name": "ipython",
    "version": 3
   },
   "file_extension": ".py",
   "mimetype": "text/x-python",
   "name": "python",
   "nbconvert_exporter": "python",
   "pygments_lexer": "ipython3",
   "version": "3.7.4"
  },
  "name": "Nine_point_theorem.ipynb"
 },
 "nbformat": 4,
 "nbformat_minor": 0
}
