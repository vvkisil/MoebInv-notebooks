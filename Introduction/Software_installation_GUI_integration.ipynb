{
 "cells": [
  {
   "cell_type": "markdown",
   "id": "f61336ff-f39d-40e6-9242-06342a511b1f",
   "metadata": {
    "collapsed": false,
    "ein.tags": "worksheet-0",
    "slideshow": {
     "slide_type": "-"
    }
   },
   "source": [
    "<table style=\"width:100%\">\n",
    "    <tr>\n",
    "        <td>\n",
    "            <a href=\"http://www1.maths.leeds.ac.uk/~kisilv/MoebInv-notebooks/Introduction/Software_installation_GUI_integration.html\">\n",
    "  <img src=\"../svg/view-html.svg\" alt=\"View HTML\"/>\n",
    "            </a>\n",
    "        </td>\n",
    "        <td>\n",
    "<a href=\"https://github.com/vvkisil/MoebInv-notebooks/blob/master/Introduction/Software_installation_GUI_integration.ipynb\">\n",
    "  <img src=\"../svg/open-github.svg\" alt=\"Open In GitHub\"/>\n",
    "            </a>\n",
    "        </td>\n",
    "        <td>\n",
    "            <a href=\"https://colab.research.google.com/github/vvkisil/MoebInv-notebooks/blob/master/Introduction/Software_installation_GUI_integration.ipynb\">\n",
    "  <img src=\"../svg/exec-colab.svg\" alt=\"Run In CoLab\"/>\n",
    "            </a>\n",
    "        </td>\n",
    "        <td>\n",
    "            <a href=\"https://codeocean.com/capsule/7952650/tree\">\n",
    "  <img src=\"../svg/code-ocean.svg\" alt=\"Code Ocean\"/>\n",
    "            </a>\n",
    "        </td>\n",
    "    </tr>\n",
    " </table>"
   ]
  },
  {
   "cell_type": "markdown",
   "id": "dc55509a-1215-456f-8f60-1f7932299988",
   "metadata": {
    "collapsed": false,
    "ein.tags": "worksheet-0",
    "slideshow": {
     "slide_type": "-"
    }
   },
   "source": [
    "# Installing the libraries and integration with GUI\n",
    "\n",
    "## Installing the software\n",
    "\n",
    "**Google Colab was fixed:** In Feb 2021 Google Colab \"upgraded\" its Python 3.7 without properly upgrading Ubuntu 18.04. See a code bit to fix it below. Alternatively you can use  [CodeOcean](https://codeocean.com/capsule/7952650/tree) cloud service.\n",
    "\n",
    "To use these notebooks you need to install binary `MoebInv` libraries and their dependencies.\n",
    "\n",
    "In short, you simply need to [execute it in CoLab](https://colab.research.google.com/github/vvkisil/MoebInv-notebooks/blob/master/Introduction/Software_installation_GUI_integration.ipynb) or your Ubuntu-18.04 desktop the next cell:"
   ]
  },
  {
   "cell_type": "code",
   "execution_count": null,
   "id": "38784921-401d-4154-ac9c-a07066d97701",
   "metadata": {
    "autoscroll": false,
    "collapsed": false,
    "ein.hycell": false,
    "ein.tags": "worksheet-0",
    "slideshow": {
     "slide_type": "-"
    }
   },
   "outputs": [],
   "source": [
    "%%bash\n",
    "\n",
    "# Execute this cell on Ubuntu only\n",
    "if grep -e \"ID=ubuntu\" /etc/os-release ; then \\\n",
    "    echo 'Continue on Ubuntu' ; \\\n",
    "else \\\n",
    "    echo 'Does not look like an Ubuntu box, exiting' ; \\\n",
    "    exit ; \\\n",
    "fi\n",
    "\n",
    "# Check if the software is already installed\n",
    "if dpkg -l python3-pymoebinv > /dev/null ; then \\\n",
    "    echo 'The package is already installed, exiting' ; \\\n",
    "    exit ; \\\n",
    "fi\n",
    "\n",
    "# Install signature key of the Ubuntu repository\n",
    "## apt-key is now obsolete\n",
    "curl -L https://sourceforge.net/projects/moebinv/files/binary/ubuntu/moebinv.gpg.key | \\\n",
    "gpg --dearmor > /etc/apt/trusted.gpg.d/moebinv-archive-keyring.gpg\n",
    "\n",
    "## An alternative installation with a keyring package.\n",
    "#cd /tmp;\\\n",
    "#wget --backups=1 https://sourceforge.net/projects/moebinv/files/binary/ubuntu/moebinv-archive-keyring_0.2_all.deb && \\\n",
    "#dpkg -i moebinv-archive-keyring_0.2_all.deb\n",
    "\n",
    "# Add Ubuntu repository to known sources\n",
    "echo 'deb https://sourceforge.net/projects/moebinv/files/binary/ubuntu bionic main' > \\\n",
    "     /etc/apt/sources.list.d/moebinv-bionic.list \n",
    "\n",
    "# Update the contents of the repository\n",
    "apt update \n",
    "\n",
    "# Install required packages and their dependencies\n",
    "apt-get  -q -y install asymptote python3-pymoebinv\n",
    "\n",
    "# Tempory fix for Google Colab which has extraneous Python3.7 for Bionic\n",
    "if /usr/bin/python3 --version | grep 3.7 ; then \\\n",
    "  ln -s /usr/lib/python3/dist-packages/ccycle.cpython-36m-x86_64-linux-gnu.so \\\n",
    "    /usr/lib/python3/dist-packages/ccycle.cpython-37m-x86_64-linux-gnu.so \n",
    "  ln -s /usr/lib/python3/dist-packages/cfigure.cpython-36m-x86_64-linux-gnu.so \\\n",
    "    /usr/lib/python3/dist-packages/cfigure.cpython-37m-x86_64-linux-gnu.so\n",
    "  ln -s /usr/lib/python3/dist-packages/cginac.cpython-36m-x86_64-linux-gnu.so \\\n",
    "    /usr/lib/python3/dist-packages/cginac.cpython-37m-x86_64-linux-gnu.so; \\\n",
    "fi\n",
    "\n",
    "# Tempory fix for Google Colab which has extraneous Python3.8 for Bionic\n",
    "if /usr/bin/python3 --version | grep 3.8 ; then \\\n",
    "  ln -s /usr/lib/python3/dist-packages/ccycle.cpython-36m-x86_64-linux-gnu.so \\\n",
    "    /usr/lib/python3/dist-packages/ccycle.cpython-38-x86_64-linux-gnu.so \n",
    "  ln -s /usr/lib/python3/dist-packages/cfigure.cpython-36m-x86_64-linux-gnu.so \\\n",
    "    /usr/lib/python3/dist-packages/cfigure.cpython-38-x86_64-linux-gnu.so\n",
    "  ln -s /usr/lib/python3/dist-packages/cginac.cpython-36m-x86_64-linux-gnu.so \\\n",
    "    /usr/lib/python3/dist-packages/cginac.cpython-38-x86_64-linux-gnu.so; \\\n",
    "fi\n",
    "\n",
    "# Copy useful initialisation file to the current directory\n",
    "zcat /usr/share/doc/python3-pymoebinv/EPAL-v1/init_cycle.py.gz > init_cycle.py"
   ]
  },
  {
   "cell_type": "markdown",
   "id": "fd51ce1b-c9a4-4fb1-9d91-ba78679f7ee9",
   "metadata": {
    "collapsed": false,
    "ein.tags": "worksheet-0",
    "slideshow": {
     "slide_type": "-"
    }
   },
   "source": [
    "If all above commands are finished without errors the MoebInv is ready to use"
   ]
  },
  {
   "cell_type": "markdown",
   "id": "0ec2f5bd-283a-4dbb-abd8-135a431341aa",
   "metadata": {
    "collapsed": false,
    "ein.tags": "worksheet-0",
    "slideshow": {
     "slide_type": "-"
    }
   },
   "source": [
    "### Older version v3.5.5\n",
    "\n",
    "The above instructions install the latest MoebInv distribution with version >= v3.5.6. The older version v3.5.5 remains available and may be downloaded by the following instructions:"
   ]
  },
  {
   "cell_type": "code",
   "execution_count": null,
   "id": "b772bcbd-c2a8-4ce2-952e-e74573d0684a",
   "metadata": {
    "autoscroll": false,
    "collapsed": false,
    "ein.hycell": false,
    "ein.tags": "worksheet-0",
    "slideshow": {
     "slide_type": "-"
    }
   },
   "outputs": [],
   "source": [
    "%%bash\n",
    "\n",
    "# Execute this cell on Ubuntu only\n",
    "if grep -e \"ID=ubuntu\" /etc/os-release ; then \\\n",
    "    echo 'Continue on Ubuntu' ; \\\n",
    "else \\\n",
    "    echo 'Does not look like an Ubuntu box, exiting' ; \\\n",
    "    exit ; \\\n",
    "fi\n",
    "\n",
    "# Addtitional standard packages need to be installled\n",
    "apt-get update && apt-get -q -y install ginac-tools asymptote libboost-python1.65.1 libpython3.6\n",
    "\n",
    "# MoebInv library binary package\n",
    "curl -LO https://sourceforge.net/projects/moebinv/files/binary/debian/libmoebinv0_latest_amd64.deb; \\ \n",
    "dpkg -i libmoebinv0_latest_amd64.deb && rm  libmoebinv0_latest_amd64.deb\n",
    "\n",
    "# remove an installed version of the Python wrapper \n",
    "if [ -f /usr/bin/moebinv-uninstall.sh ]; then \\ \n",
    "  /usr/bin/moebinv-uninstall.sh ; \\\n",
    "fi\n",
    "\n",
    "# Installation of the Python wrapper  \n",
    "curl -L https://sourceforge.net/projects/moebinv/files/binary/pymoebinv.tbz | tar jvx --directory=/"
   ]
  },
  {
   "cell_type": "markdown",
   "id": "ef4cb8c3-8bd9-47c3-b43e-4ed287a36fce",
   "metadata": {
    "collapsed": false,
    "ein.tags": "worksheet-0",
    "slideshow": {
     "slide_type": "-"
    }
   },
   "source": [
    "If this does not work at Google CoLab you may need Cut&Paste the above cell into the intended notebook and execute it from there. I still did not figure out how CoLab managed virtual machines and respective environments. From this point of view Code Ocean is much more integrated. \n",
    "\n",
    "The same command will install MoebInv library on your Ubuntu-18.04/Debian-10/etc Linux-x86-64 (amd64) box.\n",
    "\n",
    "Alternatively, there is also a [CodeOcean capsule](https://codeocean.com/capsule/7952650/tree) with the same facilities."
   ]
  },
  {
   "cell_type": "markdown",
   "id": "781b9f46-1671-4502-bb91-3551d73fd7d2",
   "metadata": {
    "collapsed": false,
    "ein.tags": "worksheet-0",
    "slideshow": {
     "slide_type": "-"
    }
   },
   "source": [
    "### Some hints\n",
    "\n",
    "+ From initialisation `MoebInv` outputs mathematics as LaTeX code. This may not be always rendered nice. For example, GitHub smartly processes LaTeX output, while CoLab puts LaTeX commands as an  ordinary text. In latter case plain text output may be more readable.\n",
    "\n",
    " You can toggle the LaTeX output at any time by `latex_on()` amd `latex_off()` commands.\n",
    "\n",
    "+ Asymptote interface creates script files (with `*.asy` extension) in the local directory. Files are named after the string in `shipout()` command. If Asymptote was able to generate a PNG file from this script, it will be shown in the notebook output. You can edit or otherwise use the produced Asymptote script file. "
   ]
  },
  {
   "cell_type": "markdown",
   "id": "c2bdf512-0fa0-45e0-8fbd-81c29d383b2a",
   "metadata": {
    "collapsed": false,
    "ein.tags": "worksheet-0",
    "slideshow": {
     "slide_type": "-"
    }
   },
   "source": [
    "## Jupyter and Yaglom integration\n",
    "There is a Graphical User Interface (GUI) to the MoebInv library. It allows to create and research geometrical constructions by mouse clicks. You may find a pre-compiled GUI binary distribution for your desktop platform at [SourceForge](https://sourceforge.net/projects/moebinv/files/binary/). \n",
    "\n",
    "There is bidirectional integration beetween Jupyter and GUI:\n",
    "\n",
    "* From Jupyter (or any coding system in C++ or Python) use\n",
    "``` python\n",
    "F.save(\"my-figure-archive.gar\")\n",
    "```\n",
    "to save GiNaC Gar archive. It can be loaded into GUI (or any other front-end, indeed).\n",
    "* From GUI select\n",
    "```\n",
    "File → Export figure → Export Python script\n",
    "```\n",
    "in Main Menu and save the script file. Then it can be executed in the IPython or Jupyter cell.\n",
    "\n",
    "Furthermore, to use such code as Jupyter notebook I recommend to post-process the generated Python script with [p2j (Python to Jupyter)](https://pypi.org/project/p2j/) utility.\n",
    "\n",
    "Here is an [Example](https://github.com/vvkisil/MoebInv-notebooks/blob/master/Introduction/Nine_point_auto_script.ipynb) of Python script and Jupyter notebook automatically created from the GUI.\n",
    "\n",
    "### References\n",
    "1. Vladimir V. Kisil, [*MoebInv: Symbolic, numeric and graphic manipulations in non-Eclidean geometry*](http://moebinv.sourceforge.net/), SourceForge repository,\n",
    "2004-2019.\n",
    "\n",
    "2. Vladimir V. Kisil. *Geometry of Möbius Transformations: Elliptic, Parabolic and Hyperbolic Actions of $SL_2(\\mathbb{R})$*. [Imperial College Press](https://www.worldscientific.com/worldscibooks/10.1142/p835), London, 2012. Includes a live DVD.\n",
    "\n",
    "3.  Vladimir V. Kisil, [*MoebInv notebooks*](https://github.com/vvkisil/MoebInv-notebooks), 2019.\n",
    "\n",
    "## Further info:\n",
    "* [MoebInv library full documentation](https://sourceforge.net/projects/moebinv/files/docs/figure.pdf)\n",
    "* [MoebInv Home page](http://moebinv.sourceforge.net/)\n",
    "* [MoebInv  Notebooks](https://github.com/vvkisil/MoebInv-notebooks/blob/master/Table_of_contents.md)\n",
    "* [MoebInv CodeOcean capsule](https://codeocean.com/capsule/7952650/tree)"
   ]
  }
 ],
 "metadata": {
  "kernelspec": {
   "argv": [
    "/usr/bin/python3",
    "-m",
    "ipykernel_launcher",
    "-f",
    "{connection_file}"
   ],
   "display_name": "Python 3 (ipykernel)",
   "env": null,
   "interrupt_mode": "signal",
   "language": "python",
   "metadata": {
    "debugger": true
   },
   "name": "python3"
  },
  "language_info": {
   "codemirror_mode": {
    "name": "ipython",
    "version": 3
   },
   "file_extension": ".py",
   "mimetype": "text/x-python",
   "name": "python",
   "nbconvert_exporter": "python",
   "pygments_lexer": "ipython3",
   "version": "3.7.4+"
  },
  "name": "Software_installation_GUI_integration.ipynb"
 },
 "nbformat": 4,
 "nbformat_minor": 2
}
