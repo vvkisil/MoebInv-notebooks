{
 "cells": [
  {
   "cell_type": "markdown",
   "id": "cd850816-a57a-4058-b176-b0e1b83b3449",
   "metadata": {
    "collapsed": false
   },
   "source": [
    "<div class=\"sf-root\" data-id=\"2337671\" data-badge=\"oss-community-choice-white\" data-metadata=\"achievement=oss-community-choice\" style=\"width:125px\">\n",
    "    <a href=\"https://sourceforge.net/projects/moebinv/\" target=\"_blank\">moebinv</a>\n",
    "</div>\n",
    "<script>(function () {var sc=document.createElement('script');sc.type='text/javascript';sc.async=true;sc.src='https://b.sf-syn.com/badge_js?sf_id=2337671';var p=document.getElementsByTagName('script')[0];p.parentNode.insertBefore(sc, p);})();\n",
    "</script>"
   ]
  },
  {
   "cell_type": "markdown",
   "id": "e93ef6c7-bcd5-4c62-9e11-f6e0af58b48b",
   "metadata": {
    "collapsed": false
   },
   "source": [
    "# What is PyGiNaC, anyway?\n",
    "\n",
    "### [Vladimir V Kisil](http://v-v-kisil.rf.gd)"
   ]
  },
  {
   "cell_type": "markdown",
   "id": "a00ec051-9358-4457-b73e-6656e32d5dbc",
   "metadata": {
    "collapsed": false,
    "ein.tags": "worksheet-0",
    "slideshow": {
     "slide_type": "-"
    }
   },
   "source": [
    "<a name=\"ToC\"></a>\n",
    "**Table of Contents**\n",
    "\n",
    "+ [Introduction](#introduction)\n",
    "+ [A glimpse into usage](#glimpse)\n",
    "+ [Similarity and differences between GiNaC and PyGiNaC](#similarity)\n",
    "+ [Downloads](#downloads)\n",
    "+ [Compiling from source](#compilation)\n",
    "  - [Prerequisites](#prerequisites)\n",
    "  - [Compilation and test](#andtest)\n",
    "  - [Installation](#installation)\n",
    "  - [Building Debian package](#building)\n",
    "+ [Mailing list](#mailing)\n",
    "+ [TODO](#TODO)\n",
    "+ [History and contributors](#history)\n",
    "+ [Appendix A: from Ginsh to PyGiNaC](#appendix)\n",
    "  - [Arbitrary precision arithmetic](#arithmetic)\n",
    "  - [Float point evaluation and constants](#rounding)\n",
    "  - [Mathematical functions](#functions)\n",
    "  - [Linear algebra](#linear)\n",
    "  - [Polynomials and rational functions](#polynomials)\n",
    "  - [Calculus](#calculus)\n",
    "  - [Numeric methods](#numeric)\n",
    "  - [Parser and integration with other packages](#parser)\n",
    "+ [Appendix B: Extending PyGiNaC, extending Python](#extensions)\n",
    "+ [Appendix C: Tips & Tricks](#TipsTricks)\n",
    "  - [Iterable expressions and map() function](#iterable)\n",
    "  - [Console usage and flatlatex](#flatlatex)\n",
    "+ [References](#references)"
   ]
  },
  {
   "cell_type": "markdown",
   "id": "e2edea9a-1021-41fe-a040-fc683a87c239",
   "metadata": {
    "collapsed": false,
    "ein.tags": "worksheet-0",
    "slideshow": {
     "slide_type": "-"
    }
   },
   "source": [
    "<a name=\"introduction\"></a>\n",
    "## Introduction\n",
    "\n",
    "PyGiNaC is a Python package that provides an interface to the C++\n",
    "library [GiNaC](http://www.ginac.de/), which is an open framework for\n",
    "symbolic computation within C++. PyGiNaC is implemented with the help of\n",
    "the [Boost.Python](http://www.boost.org/libs/python/doc/index.html)\n",
    "library. At the moment, the package is more or less in an development\n",
    "state, i.e.\n",
    "\n",
    "+ the GiNaC classes are only partially exposed (yet most common methods are covered);\n",
    "\n",
    "+ parts of regression test suite are unconverted; and \n",
    "\n",
    "+ no actual documentation exists (but who is reading the full documentation nowadays if you can quickly ask at StackOverflow?) \n",
    "\n",
    "In short: many things are already usable and further improvements \n",
    "are possible.\n",
    "\n",
    "[Back to ToC](#ToC)"
   ]
  },
  {
   "cell_type": "markdown",
   "id": "1dce6037-17c8-4442-ad8f-effafffa24d9",
   "metadata": {
    "collapsed": false,
    "ein.tags": "worksheet-0",
    "slideshow": {
     "slide_type": "-"
    }
   },
   "source": [
    "<a name=\"glimpse\"></a>\n",
    "## A glimpse into usage\n",
    "\n",
    "Despite of being not-so-complete, PyGiNaC can do some fancy stuff for\n",
    "you. For example, solving a linear system of equations in the Python\n",
    "intepreter can be as simple as"
   ]
  },
  {
   "cell_type": "code",
   "execution_count": null,
   "id": "1986a855-bf5a-4b4b-a2f9-b97be64e5d23",
   "metadata": {
    "autoscroll": false,
    "collapsed": false,
    "ein.hycell": false,
    "ein.tags": "worksheet-0",
    "slideshow": {
     "slide_type": "-"
    }
   },
   "outputs": [],
   "source": [
    "from ginac import *\n",
    "x = symbol('x')\n",
    "y = symbol('y')\n",
    "lsolve([3*x + 5*y == 2, 5*x+y == -3], [x,y])"
   ]
  },
  {
   "cell_type": "markdown",
   "id": "d7259f40-bf7b-48fa-9609-3bf67ccaf720",
   "metadata": {
    "collapsed": false,
    "ein.tags": "worksheet-0",
    "slideshow": {
     "slide_type": "-"
    }
   },
   "source": [
    "The result is returned as a dictionary. To see it in a meaningful form we convert GiNaC symbol and numeric objects to strings:"
   ]
  },
  {
   "cell_type": "code",
   "execution_count": null,
   "id": "3cf886aa-1634-44aa-9bc8-f4187426d7fa",
   "metadata": {
    "autoscroll": false,
    "collapsed": false,
    "ein.hycell": false,
    "ein.tags": "worksheet-0",
    "slideshow": {
     "slide_type": "-"
    }
   },
   "outputs": [],
   "source": [
    "soln = lsolve([3*x + 5*y == 2, 5*x+y == -3], [x,y])\n",
    "[f'{str(x)} : {str(soln[x])}' for x in soln]"
   ]
  },
  {
   "cell_type": "markdown",
   "id": "41c68c73-e61a-47c6-8006-2a6916a8627b",
   "metadata": {
    "collapsed": false,
    "ein.tags": "worksheet-0",
    "slideshow": {
     "slide_type": "-"
    }
   },
   "source": [
    "Power series of functions are also handled:"
   ]
  },
  {
   "cell_type": "code",
   "execution_count": null,
   "id": "7fb1acf2-f018-4d8c-8677-f0a5d052b868",
   "metadata": {
    "autoscroll": false,
    "collapsed": false,
    "ein.hycell": false,
    "ein.tags": "worksheet-0",
    "slideshow": {
     "slide_type": "-"
    }
   },
   "outputs": [],
   "source": [
    "x = symbol('x')\n",
    "str(sin(x).series(x==0, 8))"
   ]
  },
  {
   "cell_type": "markdown",
   "id": "a2ed7a73-c341-4b56-bde8-98244843cf8e",
   "metadata": {
    "collapsed": false,
    "ein.tags": "worksheet-0",
    "slideshow": {
     "slide_type": "-"
    }
   },
   "source": [
    "The same result is much more readable if we upgrade the output to $\\LaTeX$ pretty-printing:"
   ]
  },
  {
   "cell_type": "code",
   "execution_count": null,
   "id": "9027b8d1-40d4-4cf5-ba59-ecac45416cdc",
   "metadata": {
    "autoscroll": false,
    "collapsed": false,
    "ein.hycell": false,
    "ein.tags": "worksheet-0",
    "slideshow": {
     "slide_type": "-"
    }
   },
   "outputs": [],
   "source": [
    "from IPython.display import Latex\n",
    "latex_on()\n",
    "Latex(f'${sin(x).series(x==0, 8)}$')"
   ]
  },
  {
   "cell_type": "markdown",
   "id": "83cc5640-f702-42de-acc0-7ab353a0fd5e",
   "metadata": {
    "collapsed": false,
    "ein.tags": "worksheet-0",
    "slideshow": {
     "slide_type": "-"
    }
   },
   "source": [
    "Here is a simple example of algebraic expansion:"
   ]
  },
  {
   "cell_type": "code",
   "execution_count": null,
   "id": "55c4c5a8-5b30-4213-bf50-0f3b10431776",
   "metadata": {
    "autoscroll": false,
    "collapsed": false,
    "ein.hycell": false,
    "ein.tags": "worksheet-0",
    "slideshow": {
     "slide_type": "-"
    }
   },
   "outputs": [],
   "source": [
    "x=realsymbol(\"x\")\n",
    "e=pow(x+1,2)\n",
    "Latex(f'${e.expand()}$')"
   ]
  },
  {
   "cell_type": "markdown",
   "id": "f96b53d4-8f57-4c28-86f0-6dabd4e2a641",
   "metadata": {
    "collapsed": false,
    "ein.tags": "worksheet-0",
    "slideshow": {
     "slide_type": "-"
    }
   },
   "source": [
    "A less obvious example of an algebraic expansion and simplification with exact arithmetic is a modified version of one of Ramanujan's identities (this example is ripped off from GiNaC's regression test suite):"
   ]
  },
  {
   "cell_type": "code",
   "execution_count": null,
   "id": "1253b309-fb3f-4ef6-8538-0640d308dc3c",
   "metadata": {
    "autoscroll": false,
    "collapsed": false,
    "ein.hycell": false,
    "ein.tags": "worksheet-0",
    "slideshow": {
     "slide_type": "-"
    }
   },
   "outputs": [],
   "source": [
    "e1 = pow(1 + pow(3, numeric(1,5)) - pow(3, numeric(2,5)),3)\n",
    "e2 = (e1 - 10 + 5*pow(3, numeric(3,5)))\n",
    "display(Latex(f'e2 is ${e2}$'))\n",
    "f'e2 expands to {e2.expand()}'"
   ]
  },
  {
   "cell_type": "markdown",
   "id": "eb502d94-79e5-4f8a-ba25-d0877f588aff",
   "metadata": {
    "collapsed": false,
    "ein.tags": "worksheet-0",
    "slideshow": {
     "slide_type": "-"
    }
   },
   "source": [
    "Above `numeric(3,5)` is the fraction $\\frac{3}{5}$. "
   ]
  },
  {
   "cell_type": "markdown",
   "id": "ad3aa617-8f87-4a60-908e-cc20d28b11ad",
   "metadata": {
    "collapsed": false,
    "ein.tags": "worksheet-0",
    "slideshow": {
     "slide_type": "-"
    }
   },
   "source": [
    "Further examples can be found below in the [Appendix](#appendix).\n",
    "\n",
    "[Back to ToC](#ToC)"
   ]
  },
  {
   "cell_type": "markdown",
   "id": "69df9104-04f8-44de-8c7f-72e5cd37adf6",
   "metadata": {
    "collapsed": false
   },
   "source": [
    "<a name=\"similarity\"></a>\n",
    "## Similarity and differences between GiNaC and PyGiNaC\n",
    "Currently, (at least partially) exposed GiNaC classes are:\n",
    "+ Basic (the GiNaC root class)\n",
    "+ Constant\n",
    "+ Numeric\n",
    "+ Symbol, realsymbol, possymbol\n",
    "+ Expression, which are sums, products, non-commutative products, or powers of other expressions or basic objects\n",
    "+ Relational (see, however, the [caution](#relationalCaution) below) \n",
    "+ Matrix\n",
    "+ Function\n",
    "+ Indices\n",
    "+ Tensor\n",
    "+ Clifford unit\n",
    "+ Series\n",
    "+ Integral\n",
    "+ Lists are converted bidirectionally to Python3 lists\n",
    "+ Wildcard\n",
    "+ Symmetry\n",
    "+ Parser\n",
    "+ More technical: flags, exmap, expairs, expairseq, symtab\n",
    "\n",
    "Names of classes and methods in PyGiNaC are as close as possible to their prototypes in GiNaC. In most cases you can use [GiNaC Tutorial](https://ginac.de/tutorial/) as your user manual of PyGiNaC. Some inevitable differences come from the gap between C++ and Python, for example:\n",
    "\n",
    "+ GiNaC variables (like `DIGITS`) cannot be directly assigned as `DIGITS=50`. Instead you need to call special helper functions for these, e.g. `set_digits(150)` as demonstrated below.\n",
    "+ Namespace syntax in C++ like  `subs_options::no_pattern` shall be replaced by Pythonish `subs_options.no_pattern`.\n",
    "+ List initialisation in C++ like `lst l = {a, b, c}` shall be replaced by `l=[a, b, c]`.\n",
    "+ There are no semicolons at the end of statements and you need to use the proper Python identification in your scripts.\n",
    "+ <a name=\"relationalCaution\"></a>Due to the way [Python handle the operator `==`](https://stackoverflow.com/a/63310298/17919692) (and alike) a relational created from the operator may have the left and right parts swapped:"
   ]
  },
  {
   "cell_type": "code",
   "execution_count": null,
   "id": "2578778e-15c8-4857-bb2a-dccf32bd8e21",
   "metadata": {
    "collapsed": false
   },
   "outputs": [],
   "source": [
    "x = realsymbol(\"x\")\n",
    "p = possymbol(\"p\")\n",
    "print(x == p, \" vs \", relational(x, p, relop.eq))\n",
    "print(p == x, \" vs \", relational(p, x, relop.eq))"
   ]
  },
  {
   "cell_type": "markdown",
   "id": "e6d58564-6437-4559-b273-15a14fa6d49a",
   "metadata": {
    "collapsed": false
   },
   "source": [
    ">  For this reason if the order of parts is important, e.g. in `series()` or `subs()` methods, the proper constructor `relational()` needs to be used. For `subs()` method some other alternatives are present, see the next item.\n",
    "\n",
    " + Due to the previously discussed issues with  `==`-operator and cumbersomeness of the constructor `relational()` some additional alternatives are provided. The most convenient is Python dictionaries. For example, C++ statement\n",
    "  ``` C++\n",
    "  e.subs(lst{x==2, y==a+3, z=2*b-1});\n",
    "  ```\n",
    "  with the Python dictionary:\n",
    "  ``` Python\n",
    "  e.subs({x : 2, y : a+3, z : 2*b-1})\n",
    "  ```\n",
    "  See [an example](#dictsubexample) below. Another opportunity is to use two parallel Python lists for substitutions: \n",
    "  ``` Python\n",
    "  e.subs([x, y, z], [2, a+3, 2*b-1])\n",
    "  ```\n",
    "\n",
    "+ If a GiNaC method modifies its argument, then the respective PyGiNaC wrapper returns a tuple: the first element of the tuple is the return of GiNaC method, the following element(s) are values of the modified arguments.\n",
    "\n",
    "  For example, the GiNaC method\n",
    "  ``` C++\n",
    "  ex ex::to_polynomial(exmap & m);\n",
    "  ```\n",
    "  returns an expression converted to a polynomial using the substitutions from `exmap m` and `m` becomes updated after the function call. Therefore the respective PyGiNaC call is "
   ]
  },
  {
   "cell_type": "code",
   "execution_count": null,
   "id": "f7c674f3-b87e-448a-bd04-848ccac3c0a0",
   "metadata": {
    "collapsed": false
   },
   "outputs": [],
   "source": [
    "x = realsymbol(\"x\")\n",
    "e = (x+1/x)**3 +sin(x)\n",
    "m = {}\n",
    "[a, m] = e.to_polynomial(m)\n",
    "Latex(f'Polynomial form: ${a}$ with substitutions '+', '.join(map(lambda k: f'${k}$ : ${m[k]}$', m.keys())))"
   ]
  },
  {
   "cell_type": "markdown",
   "id": "38a80c80-02bb-4671-af92-e0e61afb5095",
   "metadata": {
    "collapsed": false
   },
   "source": [
    "[Back to ToC](#ToC)"
   ]
  },
  {
   "cell_type": "markdown",
   "id": "01e90285-bb9c-49db-8cc0-41d02709b302",
   "metadata": {
    "collapsed": false,
    "ein.tags": "worksheet-0",
    "slideshow": {
     "slide_type": "-"
    }
   },
   "source": [
    "<a name=\"downloads\"></a>\n",
    "## (Non-)Downloads\n",
    "You can try PyGiNaC without any local installation from two cloud services. Since Python wrapper for [MoebInv libraries](http://moebinv.sourceforge.net/) are built on top of PyGiNaC, the full access to PyGiNaC is provided in the following cloud Jupyter notebooks:\n",
    "\n",
    "* [GitHub + Google CoLab](https://github.com/vvkisil/MoebInv-notebooks).\n",
    "\n",
    "* [CodeOcen capsule](https://codeocean.com/capsule/7952650/tree)."
   ]
  },
  {
   "cell_type": "markdown",
   "id": "c2a23c1f-251f-4552-b149-251c3b87cb5d",
   "metadata": {
    "collapsed": false,
    "ein.tags": "worksheet-0",
    "slideshow": {
     "slide_type": "-"
    }
   },
   "source": [
    "Effective, on those service (or any supported Ubuntu/Debian box indeed) it is enough to execute the following cell or its content as a shell script."
   ]
  },
  {
   "cell_type": "code",
   "execution_count": null,
   "id": "79302e38-eae9-4b85-947c-4e5227f34753",
   "metadata": {
    "autoscroll": false,
    "collapsed": false,
    "ein.hycell": false,
    "ein.tags": "worksheet-0",
    "slideshow": {
     "slide_type": "-"
    }
   },
   "outputs": [],
   "source": [
    "%%bash\n",
    "\n",
    "DISTRO=` grep -e \"^ID=\" /etc/os-release | cut -d= -f2 `\n",
    "# Execute this cell on Ubuntu only\n",
    "if echo \"ubuntu debian\" | grep -qw \"$DISTRO\" ; then \\\n",
    "    echo \"Continue on $DISTRO \" ; \\\n",
    "else \\\n",
    "    echo 'Does not look like an Ubuntu/Debian box, exiting' ; \\\n",
    "    exit ; \\\n",
    "fi\n",
    "\n",
    "# Check if the software is already installed\n",
    "if dpkg -l python3-pyginac > /dev/null ; then \\\n",
    "    echo 'The package is already installed, exiting' ; \\\n",
    "    exit ; \\\n",
    "fi\n",
    "\n",
    "# Install signature key of the Ubuntu/Debian repository\n",
    "## apt-key is now obsolete\n",
    "curl -L https://sourceforge.net/projects/moebinv/files/binary/$DISTRO/moebinv.gpg.key | \\\n",
    "gpg --dearmor > /etc/apt/trusted.gpg.d/moebinv-archive-keyring.gpg\n",
    "\n",
    "## An alternative installation with a keyring package.\n",
    "#cd /tmp;\\\n",
    "#wget --backups=1 https://sourceforge.net/projects/moebinv/files/binary/$DISTRO/moebinv-archive-keyring_0.2_all.deb && \\\n",
    "#dpkg -i moebinv-archive-keyring_0.2_all.deb\n",
    "\n",
    "# Add Ubuntu/Debian repository to known sources\n",
    "CODENAME=`grep -e \"VERSION_CODENAME\" /etc/os-release | cut -d= -f2`\n",
    "echo \"deb https://sourceforge.net/projects/moebinv/files/binary/$DISTRO $CODENAME main\" > \\\n",
    "     /etc/apt/sources.list.d/moebinv.list \n",
    "\n",
    "# Update the contents of the repository\n",
    "apt update \n",
    "\n",
    "# Install required packages and their dependencies\n",
    "apt-get  -q -y install python3-pyginac"
   ]
  },
  {
   "cell_type": "markdown",
   "id": "f2598a7c-65c0-484d-a66a-3bbc950c16ca",
   "metadata": {
    "collapsed": false,
    "ein.tags": "worksheet-0",
    "slideshow": {
     "slide_type": "-"
    }
   },
   "source": [
    "If you want to have PyGiNaC installed locally you can use:\n",
    "\n",
    "* [Debian](https://sourceforge.net/projects/moebinv/files/binary/debian/) or [Ubuntu](https://sourceforge.net/projects/moebinv/files/binary/ubuntu/) APT repositories.\n",
    "\n",
    "* [Source tarballs](https://sourceforge.net/projects/pyginac.moebinv.p/files/Releases/)\n",
    "\n",
    "* [Git repository](https://sourceforge.net/p/moebinv/pyginac/code/ci/master/tree/)\n",
    "\n",
    "If the pre-compiled Debian/Ubuntu packages is not working for your system you can compile the binary file as described in the next section.\n",
    "\n",
    "[Back to ToC](#ToC)"
   ]
  },
  {
   "cell_type": "markdown",
   "id": "5203a78e-fe6e-4e63-9cd9-3d797b062b8f",
   "metadata": {
    "collapsed": false,
    "ein.tags": "worksheet-0",
    "slideshow": {
     "slide_type": "-"
    }
   },
   "source": [
    "<a name=\"compilation\"></a>\n",
    "## Compiling from source\n",
    "\n",
    "<a name=\"prerequisites\"></a>\n",
    "### Prerequisites\n",
    "\n",
    "To run PyGiNaC you need to have the following software installed:\n",
    "\n",
    "+ [Python 3](http://www.python.org/) (tested for 3.6 or higher)\n",
    "\n",
    "+ [The boost libraries](http://www.boost.org/) (tested for 1.65.0 or higher)\n",
    "\n",
    "+ [GiNaC](http://www.ginac.de/) (tested for 1.7.2 or higher)\n",
    "\n",
    "In addition to the above, to compile PyGiNaC the following are needed\n",
    "\n",
    "+ [GNU make](https://www.gnu.org/s/make/manual/make.html)\n",
    "\n",
    "+ [GNU g++](http://gcc.gnu.org/) (tested for 8 or higher).\n",
    "\n",
    "+ [pkg-config](https://www.freedesktop.org/wiki/Software/pkg-config/)\n",
    "\n",
    "Compiling PyGiNaC takes considerable memory (but not so high for modern computers), although generally not as much is needed to run it.\n",
    "\n",
    "<a name=\"andtest\"></a>\n",
    "### Compilation and test\n",
    "Once you have all the dependencies listed above installed, issue the command \n",
    "``` Shell\n",
    "$ make\n",
    "```\n",
    "from the source directory. This will build the module in-place. The script `run` can be used to start an interactive Python session that will be able to use PyGiNaC by\n",
    "``` Shell\n",
    "$ ./run python3\n",
    "```\n",
    "or, to run a Python script\n",
    "``` Shell\n",
    "$ ./run python3 some_script_file.py\n",
    "```\n",
    "For example you can run the collection of self-test by\n",
    "``` Shell\n",
    "$ ./run python3 bin/checkall.py\n",
    "```\n",
    "\n",
    "That's it. Have fun. :)\n",
    "\n",
    "<a name=\"installation\"></a>\n",
    "### Installation\n",
    "\n",
    "To install PyGiNaC globally run \n",
    "``` Shell\n",
    "$ make install\n",
    "```\n",
    "as the root from the source directory. Optional installation prefix, e.g. `/opt` can be specified as follows:\n",
    "``` Shell\n",
    "$ make install DESTDIR=/opt\n",
    "```\n",
    "\n",
    "<a name=\"building\"></a>\n",
    "### Building Debian package\n",
    "\n",
    "If you are on Debian/Ubuntu system and with to re-build the binary file for some reasons you can do this with the standard command\n",
    "``` Shell\n",
    "$ debuild -us -uc\n",
    "```\n",
    "The relevant Debian packaging infrastructure need to be installed for this, of course.\n",
    "\n",
    "[Back to ToC](#ToC)"
   ]
  },
  {
   "cell_type": "markdown",
   "id": "8b4e52a5-1068-4513-8e25-4e64d74bd024",
   "metadata": {
    "collapsed": false,
    "ein.tags": "worksheet-0",
    "slideshow": {
     "slide_type": "-"
    }
   },
   "source": [
    "<a name=\"mailing\"></a>\n",
    "## Mailing list\n",
    "\n",
    "There is no currently a PyGiNaC related mailing list. Feel free to write an email to the curent maintainer at <kisilv@maths.leeds.ac.uk>.\n",
    "\n",
    "[Back to ToC](#ToC)"
   ]
  },
  {
   "cell_type": "markdown",
   "id": "48060a41-a3ba-426f-994a-29da4db70651",
   "metadata": {
    "collapsed": false,
    "ein.tags": "worksheet-0",
    "slideshow": {
     "slide_type": "-"
    }
   },
   "source": [
    "<a name=\"TODO\"></a>\n",
    "## TODO\n",
    "\n",
    "The following were identified by founding fathers as further targets:\n",
    "\n",
    "* Wrap more of GiNaC classes and objects.\n",
    "\n",
    "* Pythonize the GiNaC regression tests.\n",
    "\n",
    "* Create a map_function system, probably based on Python function objects. [See a partial solution through Python `map()` function and iterables [below in App.C](#iterable).]\n",
    "\n",
    "* Add extra member access functions for higher-level access of containerish types, like power.basis() and power.exponent(), for example.\n",
    "\n",
    "* Make every function capable of taking more than one argument also take arguments in keyword form.\n",
    "\n",
    "* Prepare some documention with examples written in Python instead of ginsh or C++.\n",
    "\n",
    "Feel free to contribute to this or other worthy developments.\n",
    "\n",
    "[Back to ToC](#ToC)"
   ]
  },
  {
   "cell_type": "markdown",
   "id": "ee6643c2-e641-499d-ae90-910afe4ac2a7",
   "metadata": {
    "collapsed": false,
    "ein.tags": "worksheet-0",
    "slideshow": {
     "slide_type": "-"
    }
   },
   "source": [
    "<a name=\"history\"></a>\n",
    "## History and contributors\n",
    "\n",
    "The current implementation of PyGiNaC has, up to our knowledge, two predecessors: [a version](http://cens.ioc.ee/projects/pyginac/) written by Pearu Peterson many years ago, and [another one](http://ondrej.certik.cz/pyginac.php) by Ondrej Certik.\n",
    "\n",
    "The present version of PyGiNaC is originally written by Jonathan Brandmeyer and later co-authored by Matti Peltomäki. Patches have been submitted by Ondrej Certik. Here is the [historic site](http://pyginac.sourceforge.net/).\n",
    "\n",
    "Vladimir V. Kisil is the current maintainer of the [PyGiNaC code](https://sourceforge.net/projects/pyginac.moebinv.p/) as a subproject of [MoebInv](http://moebinv.sourceforge.net/) -- C++ libraries for symbolic, numeric and graphical manipulations in non-Euclidean geometry.\n",
    "\n",
    "[Back to ToC](#ToC)"
   ]
  },
  {
   "cell_type": "markdown",
   "id": "e57a7cea-6025-4aeb-a4c2-ac90b6400ae0",
   "metadata": {
    "collapsed": false,
    "ein.tags": "worksheet-0",
    "slideshow": {
     "slide_type": "-"
    }
   },
   "source": [
    "<a name=\"appendix\"></a>\n",
    "## Appendix A: from Ginsh to PyGiNaC\n",
    "\n",
    "This section is taken from the GiNaC Tutorial [\"2.2 What it can do for you\"](https://ginac.de/tutorial/#What-it-can-do-for-you) and shows how you can migrate your interactive usage from `Ginsh/C++` to `PyGiNaC`.\n",
    "After invoking Python3/IPython/Jupyter shell one can test and experiment with PyGiNaC's features much like in other Computer Algebra Systems and mix it with arbitrary Python3 programming constructs like loops or conditionals. In IPython/Jupyter you can additionally benefit from extra features and magics, e.g. pretty-printed mathematics output. "
   ]
  },
  {
   "cell_type": "markdown",
   "id": "e3e93bbb-92c1-4f59-ab99-da059af3974d",
   "metadata": {
    "collapsed": false,
    "ein.tags": "worksheet-0",
    "slideshow": {
     "slide_type": "-"
    }
   },
   "source": [
    "<a name=\"arithmetic\"></a>\n",
    "### Arbitrary precision arithmetic\n",
    "\n",
    "(Py)GiNaC can manipulate arbitrary precision integers in a very fast way. Rational numbers are automatically converted to fractions of coprime integers:"
   ]
  },
  {
   "cell_type": "code",
   "execution_count": null,
   "id": "6505d1c0-cee2-4db2-92fb-7719b4b5f437",
   "metadata": {
    "autoscroll": false,
    "collapsed": false,
    "ein.hycell": false,
    "ein.tags": "worksheet-0",
    "slideshow": {
     "slide_type": "-"
    }
   },
   "outputs": [],
   "source": [
    "x=pow(3,150)\n",
    "str(x)"
   ]
  },
  {
   "cell_type": "markdown",
   "id": "8c57c3c7-5a5b-4b64-a16b-22e927dd815d",
   "metadata": {
    "collapsed": false,
    "ein.tags": "worksheet-0",
    "slideshow": {
     "slide_type": "-"
    }
   },
   "source": [
    "Note that a statement `x=3**150` would produce a Python long integer instance. We need to use the dedicated function `pow()` that the PyGiNaC will take the precedence from the interpreter. \n",
    "\n",
    "A slightly different techniques to create a (Py)GiNaC numeric is:"
   ]
  },
  {
   "cell_type": "code",
   "execution_count": null,
   "id": "3d286100-8a40-42b0-8d77-b9ff4042af4f",
   "metadata": {
    "autoscroll": false,
    "collapsed": false,
    "ein.hycell": false,
    "ein.tags": "worksheet-0",
    "slideshow": {
     "slide_type": "-"
    }
   },
   "outputs": [],
   "source": [
    "y=numeric(3)**149\n",
    "str(y)"
   ]
  },
  {
   "cell_type": "markdown",
   "id": "a685e875-4d5f-4ec8-9e1f-6f72fb0b025d",
   "metadata": {
    "collapsed": false,
    "ein.tags": "worksheet-0",
    "slideshow": {
     "slide_type": "-"
    }
   },
   "source": [
    "The next two results are exact numbers:"
   ]
  },
  {
   "cell_type": "code",
   "execution_count": null,
   "id": "6aa340ab-99c2-42e6-8f82-61e529bdefd0",
   "metadata": {
    "autoscroll": false,
    "collapsed": false,
    "ein.hycell": false,
    "ein.tags": "worksheet-0",
    "slideshow": {
     "slide_type": "-"
    }
   },
   "outputs": [],
   "source": [
    "str(x/y)"
   ]
  },
  {
   "cell_type": "markdown",
   "id": "842d0498-c244-41ef-9a0b-c25cdf995ea1",
   "metadata": {
    "collapsed": false,
    "ein.tags": "worksheet-0",
    "slideshow": {
     "slide_type": "-"
    }
   },
   "source": [
    "To pretty-print the next output we use $\\LaTeX$ facilities:"
   ]
  },
  {
   "cell_type": "code",
   "execution_count": null,
   "id": "80c356ca-c19e-435d-8765-d7cd7613a5cc",
   "metadata": {
    "autoscroll": false,
    "collapsed": false,
    "ein.hycell": false,
    "ein.tags": "worksheet-0",
    "slideshow": {
     "slide_type": "-"
    }
   },
   "outputs": [],
   "source": [
    "Latex(f'${y/x}$')"
   ]
  },
  {
   "cell_type": "markdown",
   "id": "b8a2e68b-d758-4749-a968-35ee5e2c0ae7",
   "metadata": {
    "collapsed": false,
    "ein.tags": "worksheet-0",
    "slideshow": {
     "slide_type": "-"
    }
   },
   "source": [
    "These may be compared to the ordinary Python arithmetic:"
   ]
  },
  {
   "cell_type": "code",
   "execution_count": null,
   "id": "6efc072a-f41e-4a32-81ad-4bc751519fa2",
   "metadata": {
    "autoscroll": false,
    "collapsed": false,
    "ein.hycell": false,
    "ein.tags": "worksheet-0",
    "slideshow": {
     "slide_type": "-"
    }
   },
   "outputs": [],
   "source": [
    "(3**149)/(3**150)"
   ]
  },
  {
   "cell_type": "markdown",
   "id": "3b428767-f245-4a6b-b22c-9ce18ffd9180",
   "metadata": {
    "collapsed": false,
    "ein.tags": "worksheet-0",
    "slideshow": {
     "slide_type": "-"
    }
   },
   "source": [
    "Exact numbers are always retained as exact numbers and only evaluated as floating point numbers if requested. For instance, with numeric radicals is dealt pretty much as with symbols. Products of sums of them can be expanded:"
   ]
  },
  {
   "cell_type": "code",
   "execution_count": null,
   "id": "13dd3d55-88af-406a-9d41-b4d1c05e4697",
   "metadata": {
    "autoscroll": false,
    "collapsed": false,
    "ein.hycell": false,
    "ein.tags": "worksheet-0",
    "slideshow": {
     "slide_type": "-"
    }
   },
   "outputs": [],
   "source": [
    "a=symbol(\"a\")\n",
    "Latex(f'${expand((1+a**numeric(1,5)-a**numeric(2,5))**3)}$')"
   ]
  },
  {
   "cell_type": "code",
   "execution_count": null,
   "id": "11e82f50-68af-4c0b-9cbf-5d79d37254b7",
   "metadata": {
    "autoscroll": false,
    "collapsed": false,
    "ein.hycell": false,
    "ein.tags": "worksheet-0",
    "slideshow": {
     "slide_type": "-"
    }
   },
   "outputs": [],
   "source": [
    "Latex(f'${expand((1+3**numeric(1,5)-3**numeric(2,5))**3)}$')"
   ]
  },
  {
   "cell_type": "markdown",
   "id": "bab9493d-1a6d-4e14-9ed2-058843611ce4",
   "metadata": {
    "collapsed": false,
    "ein.tags": "worksheet-0",
    "slideshow": {
     "slide_type": "-"
    }
   },
   "source": [
    "[Back to ToC](#ToC)"
   ]
  },
  {
   "cell_type": "markdown",
   "id": "1052d8a3-2f8e-4dea-95f7-88fce035b93d",
   "metadata": {
    "collapsed": false,
    "ein.tags": "worksheet-0",
    "slideshow": {
     "slide_type": "-"
    }
   },
   "source": [
    "<a name=\"rounding\"></a>\n",
    "### Float point evaluation and constants\n",
    "\n",
    "A float point evaluation can be requested at any time:"
   ]
  },
  {
   "cell_type": "code",
   "execution_count": null,
   "id": "2bbedf9f-73e6-4d7b-b8e9-578a0ad82aac",
   "metadata": {
    "autoscroll": false,
    "collapsed": false,
    "ein.hycell": false,
    "ein.tags": "worksheet-0",
    "slideshow": {
     "slide_type": "-"
    }
   },
   "outputs": [],
   "source": [
    "Latex(f'${evalf((1+3**numeric(1,5)-3**numeric(2,5))**3)}$')"
   ]
  },
  {
   "cell_type": "markdown",
   "id": "66cdac10-0498-4070-95a1-751fc9be5d7a",
   "metadata": {
    "collapsed": false,
    "ein.tags": "worksheet-0",
    "slideshow": {
     "slide_type": "-"
    }
   },
   "source": [
    "The function `evalf()` that was used above converts any number in (Py)GiNaC's expressions into floating point numbers. This can be done to arbitrary predefined accuracy:"
   ]
  },
  {
   "cell_type": "code",
   "execution_count": null,
   "id": "4f3ec908-9b0b-4a4d-9372-2e0ba8834710",
   "metadata": {
    "autoscroll": false,
    "collapsed": false,
    "ein.hycell": false,
    "ein.tags": "worksheet-0",
    "slideshow": {
     "slide_type": "-"
    }
   },
   "outputs": [],
   "source": [
    "Latex(f'${evalf(numeric(1,7))}$')"
   ]
  },
  {
   "cell_type": "markdown",
   "id": "8de7433c-609a-47fc-a88d-5efec5fb562f",
   "metadata": {
    "collapsed": false,
    "ein.tags": "worksheet-0",
    "slideshow": {
     "slide_type": "-"
    }
   },
   "source": [
    "Now we change the required number of evaluated digits:"
   ]
  },
  {
   "cell_type": "code",
   "execution_count": null,
   "id": "a21d7662-89d4-4b84-a8b4-06561014ad75",
   "metadata": {
    "autoscroll": false,
    "collapsed": false,
    "ein.hycell": false,
    "ein.tags": "worksheet-0",
    "slideshow": {
     "slide_type": "-"
    }
   },
   "outputs": [],
   "source": [
    "set_digits(150)\n",
    "Latex(f'${evalf(numeric(1,7))}$')"
   ]
  },
  {
   "cell_type": "markdown",
   "id": "455aefa2-a543-49c0-b146-fa0c53e97ba8",
   "metadata": {
    "collapsed": false,
    "ein.tags": "worksheet-0",
    "slideshow": {
     "slide_type": "-"
    }
   },
   "source": [
    "Exact numbers other than rationals that can be manipulated in (Py)GiNaC include predefined constants like Archimedes' $\\pi$, called `Pi` in (Py)GiNaC. They can both be used in symbolic manipulations (as an exact number) as well as in numeric expressions (as an inexact number):"
   ]
  },
  {
   "cell_type": "code",
   "execution_count": null,
   "id": "7c1609ce-5316-432d-ae3e-e49b8c42afa8",
   "metadata": {
    "autoscroll": false,
    "collapsed": false,
    "ein.hycell": false,
    "ein.tags": "worksheet-0",
    "slideshow": {
     "slide_type": "-"
    }
   },
   "outputs": [],
   "source": [
    "set_digits(15)\n",
    "x=symbol(\"x\")\n",
    "a=Pi**2+x\n",
    "Latex(f'${a}$')"
   ]
  },
  {
   "cell_type": "code",
   "execution_count": null,
   "id": "92b689ea-d635-48cb-b2dd-7e81ee19998a",
   "metadata": {
    "autoscroll": false,
    "collapsed": false,
    "ein.hycell": false,
    "ein.tags": "worksheet-0",
    "slideshow": {
     "slide_type": "-"
    }
   },
   "outputs": [],
   "source": [
    "Latex(f'${evalf(a)}$')"
   ]
  },
  {
   "cell_type": "code",
   "execution_count": null,
   "id": "c0d99b65-b996-4027-84fb-4245521ea478",
   "metadata": {
    "autoscroll": false,
    "collapsed": false,
    "ein.hycell": false,
    "ein.tags": "worksheet-0",
    "slideshow": {
     "slide_type": "-"
    }
   },
   "outputs": [],
   "source": [
    "Latex(f'${evalf(a.subs({x : 2}))}$')"
   ]
  },
  {
   "cell_type": "markdown",
   "id": "893a9094-7482-4307-b74b-6b303aba0f01",
   "metadata": {
    "collapsed": false,
    "ein.tags": "worksheet-0",
    "slideshow": {
     "slide_type": "-"
    }
   },
   "source": [
    "<a name=\"dictsubexample\"></a>\n",
    "The same result is achieved through substitution with Python dictionary:"
   ]
  },
  {
   "cell_type": "code",
   "execution_count": null,
   "id": "e6c1db24-9ae3-4da5-8ddb-973ca8c3cc2e",
   "metadata": {
    "autoscroll": false,
    "collapsed": false,
    "ein.hycell": false,
    "ein.tags": "worksheet-0",
    "slideshow": {
     "slide_type": "-"
    }
   },
   "outputs": [],
   "source": [
    "Latex(f'${evalf(a.subs({x : 2}))}$')"
   ]
  },
  {
   "cell_type": "markdown",
   "id": "9f89092b-f526-41bf-9884-348f46ca3278",
   "metadata": {
    "collapsed": false,
    "ein.tags": "worksheet-0",
    "slideshow": {
     "slide_type": "-"
    }
   },
   "source": [
    "(Py)GiNaC does not provide the Euler constant $e$, because it is primary needed as a base of the exponent function, see the next subsection.\n",
    "\n",
    "[Back to ToC](#ToC)"
   ]
  },
  {
   "cell_type": "markdown",
   "id": "e9c180a0-34ae-4bb3-83f6-8316fb389289",
   "metadata": {
    "collapsed": false,
    "ein.tags": "worksheet-0",
    "slideshow": {
     "slide_type": "-"
    }
   },
   "source": [
    "<a name=\"functions\"></a>\n",
    "### Mathematical functions\n",
    "(Py)GiNaC is aware of main mathematical functions and can manipulate them either in the exact or an approximate manner. \n",
    "For example, for the above mentioned exponential function $\\exp(x)=e^x$,  (Py)GiNaC  knows the Euler identity:"
   ]
  },
  {
   "cell_type": "code",
   "execution_count": null,
   "id": "86c33b96-fae4-481e-acc8-2115a65e7e19",
   "metadata": {
    "autoscroll": false,
    "collapsed": false,
    "ein.hycell": false,
    "ein.tags": "worksheet-0",
    "slideshow": {
     "slide_type": "-"
    }
   },
   "outputs": [],
   "source": [
    "X=exp(I*Pi)+1\n",
    "str(X)"
   ]
  },
  {
   "cell_type": "markdown",
   "id": "b5a40b10-a23d-4c61-a38a-8c44c6f83f12",
   "metadata": {
    "collapsed": false,
    "ein.tags": "worksheet-0",
    "slideshow": {
     "slide_type": "-"
    }
   },
   "source": [
    "Of course, the Euler constant $e$ can be created as `exp(1)`:"
   ]
  },
  {
   "cell_type": "code",
   "execution_count": null,
   "id": "acf44642-a115-4700-9a5c-cbe8edd1e3cd",
   "metadata": {
    "autoscroll": false,
    "collapsed": false,
    "ein.hycell": false,
    "ein.tags": "worksheet-0",
    "slideshow": {
     "slide_type": "-"
    }
   },
   "outputs": [],
   "source": [
    "E=exp(1)\n",
    "Latex(f'${E}$')"
   ]
  },
  {
   "cell_type": "markdown",
   "id": "83b1bc39-a75a-40e6-b262-d79d4e65d861",
   "metadata": {
    "collapsed": false,
    "ein.tags": "worksheet-0",
    "slideshow": {
     "slide_type": "-"
    }
   },
   "source": [
    "It has the expected value:"
   ]
  },
  {
   "cell_type": "code",
   "execution_count": null,
   "id": "ebba76b4-2bf8-4296-b103-8a0eeb3227a9",
   "metadata": {
    "autoscroll": false,
    "collapsed": false,
    "ein.hycell": false,
    "ein.tags": "worksheet-0",
    "slideshow": {
     "slide_type": "-"
    }
   },
   "outputs": [],
   "source": [
    "str(evalf(E))"
   ]
  },
  {
   "cell_type": "markdown",
   "id": "aa995dca-5d9f-40a5-b648-372d63154e40",
   "metadata": {
    "collapsed": false,
    "ein.tags": "worksheet-0",
    "slideshow": {
     "slide_type": "-"
    }
   },
   "source": [
    "But (Py)GiNaC is reluctant to make a reduction based on the Euler identity for *power* function with complex exponent: "
   ]
  },
  {
   "cell_type": "code",
   "execution_count": null,
   "id": "13f9ad64-4eb2-45c8-b98a-c792f9aa1c82",
   "metadata": {
    "autoscroll": false,
    "collapsed": false,
    "ein.hycell": false,
    "ein.tags": "worksheet-0",
    "slideshow": {
     "slide_type": "-"
    }
   },
   "outputs": [],
   "source": [
    "Latex(f'${eval(pow(E,I*Pi)+1)}$')"
   ]
  },
  {
   "cell_type": "markdown",
   "id": "44470a25-2198-4cac-add3-8a01e2251da5",
   "metadata": {
    "collapsed": false,
    "ein.tags": "worksheet-0",
    "slideshow": {
     "slide_type": "-"
    }
   },
   "source": [
    "To see the reason think about the identity $e^0 = e^{2\\pi i}$ which would imply $(e^0)^i =( e^{2\\pi i})^i$."
   ]
  },
  {
   "cell_type": "markdown",
   "id": "e4117412-4398-4c0b-a8ad-ee5a861d2976",
   "metadata": {
    "collapsed": false,
    "ein.tags": "worksheet-0",
    "slideshow": {
     "slide_type": "-"
    }
   },
   "source": [
    "Built-in functions can be evaluated to exact numbers if this is possible."
   ]
  },
  {
   "cell_type": "code",
   "execution_count": null,
   "id": "23430ca9-b45b-4893-8293-21616665ba9d",
   "metadata": {
    "autoscroll": false,
    "collapsed": false,
    "ein.hycell": false,
    "ein.tags": "worksheet-0",
    "slideshow": {
     "slide_type": "-"
    }
   },
   "outputs": [],
   "source": [
    "Latex(f'${cos(42*Pi)}$')"
   ]
  },
  {
   "cell_type": "code",
   "execution_count": null,
   "id": "8c409f09-1d15-4fa7-8ac4-40854eb58c4e",
   "metadata": {
    "autoscroll": false,
    "collapsed": false,
    "ein.hycell": false,
    "ein.tags": "worksheet-0",
    "slideshow": {
     "slide_type": "-"
    }
   },
   "outputs": [],
   "source": [
    "Latex(f'${cos(42*Pi).eval()}$')"
   ]
  },
  {
   "cell_type": "markdown",
   "id": "7d1d6ccf-0011-480d-bdef-14557c0176be",
   "metadata": {
    "collapsed": false,
    "ein.tags": "worksheet-0",
    "slideshow": {
     "slide_type": "-"
    }
   },
   "source": [
    "Conversions that can be safely performed are done immediately; conversions that are not generally valid are not done:"
   ]
  },
  {
   "cell_type": "code",
   "execution_count": null,
   "id": "f5c75dfc-c29c-4e62-9d31-0a87e18c5f96",
   "metadata": {
    "autoscroll": false,
    "collapsed": false,
    "ein.hycell": false,
    "ein.tags": "worksheet-0",
    "slideshow": {
     "slide_type": "-"
    }
   },
   "outputs": [],
   "source": [
    "Latex(f'${cos(acos(x))}$')"
   ]
  },
  {
   "cell_type": "code",
   "execution_count": null,
   "id": "cfd0afbe-d021-45a6-a69c-a2598efb39b1",
   "metadata": {
    "autoscroll": false,
    "collapsed": false,
    "ein.hycell": false,
    "ein.tags": "worksheet-0",
    "slideshow": {
     "slide_type": "-"
    }
   },
   "outputs": [],
   "source": [
    "Latex(f'${cos(acos(x)).eval()}$')"
   ]
  },
  {
   "cell_type": "markdown",
   "id": "17ff9877-ea32-4c64-8c85-5270aebcd8b2",
   "metadata": {
    "collapsed": false,
    "ein.tags": "worksheet-0",
    "slideshow": {
     "slide_type": "-"
    }
   },
   "source": [
    "However we have:"
   ]
  },
  {
   "cell_type": "code",
   "execution_count": null,
   "id": "df76e2e3-2865-49f0-a7d6-9b90216bf688",
   "metadata": {
    "autoscroll": false,
    "collapsed": false,
    "ein.hycell": false,
    "ein.tags": "worksheet-0",
    "slideshow": {
     "slide_type": "-"
    }
   },
   "outputs": [],
   "source": [
    "Latex(f'${acos(cos(x)).eval()}$')"
   ]
  },
  {
   "cell_type": "markdown",
   "id": "b8d00a72-ace1-4261-b7af-4fbf4f1146e4",
   "metadata": {
    "collapsed": false,
    "ein.tags": "worksheet-0",
    "slideshow": {
     "slide_type": "-"
    }
   },
   "source": [
    "Note that converting the last input to $x$ would allow one to conclude that $42 \\pi$ is equal to 0.\n",
    "\n",
    "[Back to ToC](#ToC)"
   ]
  },
  {
   "cell_type": "markdown",
   "id": "0d9714a4-0ce1-4b79-8624-b593ec9c92e2",
   "metadata": {
    "collapsed": false,
    "ein.tags": "worksheet-0",
    "slideshow": {
     "slide_type": "-"
    }
   },
   "source": [
    "<a name=\"linear\"></a>\n",
    "### Linear Algebra\n",
    "\n",
    "Linear equation systems can be solved along with basic linear algebra manipulations over symbolic expressions. In (Py)GiNaC offers a `matrix class`. We start from a single equation:"
   ]
  },
  {
   "cell_type": "code",
   "execution_count": null,
   "id": "75a83045-eec9-4213-9f8d-a1fc87821034",
   "metadata": {
    "autoscroll": false,
    "collapsed": false,
    "ein.hycell": false,
    "ein.tags": "worksheet-0",
    "slideshow": {
     "slide_type": "-"
    }
   },
   "outputs": [],
   "source": [
    "a=symbol(\"a\")\n",
    "x=symbol(\"x\")\n",
    "y=symbol(\"y\")\n",
    "z=symbol(\"z\")\n",
    "soln=lsolve([a+x*y==z], [x])\n",
    "Latex(f'${soln[x]}$')"
   ]
  },
  {
   "cell_type": "markdown",
   "id": "ee82b154-a259-4288-a8a7-ea7800339f02",
   "metadata": {
    "collapsed": false,
    "ein.tags": "worksheet-0",
    "slideshow": {
     "slide_type": "-"
    }
   },
   "source": [
    "A pair of linear equations with two variables:"
   ]
  },
  {
   "cell_type": "code",
   "execution_count": null,
   "id": "b91a58db-049d-4485-b171-ce760a512a3c",
   "metadata": {
    "autoscroll": false,
    "collapsed": false,
    "ein.hycell": false,
    "ein.tags": "worksheet-0",
    "slideshow": {
     "slide_type": "-"
    }
   },
   "outputs": [],
   "source": [
    "soln=lsolve([3*x+5*y == 7, -2*x+10*y == -5], [x, y])\n",
    "for t in soln:\n",
    "    display(Latex(f'${t}$ : ${soln[t]}$'))"
   ]
  },
  {
   "cell_type": "markdown",
   "id": "2be7f36f-d45c-4f6a-9bc7-8bd779c48622",
   "metadata": {
    "collapsed": false,
    "ein.tags": "worksheet-0",
    "slideshow": {
     "slide_type": "-"
    }
   },
   "source": [
    "A matrix can be created from a list of lists of row elements:"
   ]
  },
  {
   "cell_type": "code",
   "execution_count": null,
   "id": "6f4a3727-18cf-4236-86ef-d2a82c0f3327",
   "metadata": {
    "autoscroll": false,
    "collapsed": false,
    "ein.hycell": false,
    "ein.tags": "worksheet-0",
    "slideshow": {
     "slide_type": "-"
    }
   },
   "outputs": [],
   "source": [
    "M = matrix([ [1, 3], [-3, 2] ])\n",
    "Latex(f'${M.determinant()}$')"
   ]
  },
  {
   "cell_type": "markdown",
   "id": "d2678d03-4848-4446-9ddd-66a680d073fc",
   "metadata": {
    "collapsed": false,
    "ein.tags": "worksheet-0",
    "slideshow": {
     "slide_type": "-"
    }
   },
   "source": [
    "The characteristic polynomial (note that `lambda` is a reserved keyword in Python3):"
   ]
  },
  {
   "cell_type": "code",
   "execution_count": null,
   "id": "e4a116a7-883a-427e-b675-d0cd78ffe089",
   "metadata": {
    "autoscroll": false,
    "collapsed": false,
    "ein.hycell": false,
    "ein.tags": "worksheet-0",
    "slideshow": {
     "slide_type": "-"
    }
   },
   "outputs": [],
   "source": [
    "lam=symbol(\"lambda\")\n",
    "Latex(f'${M.charpoly(lam)}$')"
   ]
  },
  {
   "cell_type": "markdown",
   "id": "3482ee9a-d81d-4750-a1ac-a73d57d9fa9a",
   "metadata": {
    "collapsed": false,
    "ein.tags": "worksheet-0",
    "slideshow": {
     "slide_type": "-"
    }
   },
   "source": [
    "Matrix operations can be called in a usual way:"
   ]
  },
  {
   "cell_type": "code",
   "execution_count": null,
   "id": "056cb4bc-ae5f-41f2-9ff6-f9c9e92de79b",
   "metadata": {
    "autoscroll": false,
    "collapsed": false,
    "ein.hycell": false,
    "ein.tags": "worksheet-0",
    "slideshow": {
     "slide_type": "-"
    }
   },
   "outputs": [],
   "source": [
    "A = matrix([ [1, 1], [2, -1] ])\n",
    "Latex(f'${A+2*M}$')"
   ]
  },
  {
   "cell_type": "markdown",
   "id": "0c95cb63-8d77-47fc-b41c-06ccd2d28f80",
   "metadata": {
    "collapsed": false,
    "ein.tags": "worksheet-0",
    "slideshow": {
     "slide_type": "-"
    }
   },
   "source": [
    "However their evaluation is postponed until an explicit request by the dedicated function `evalm()` for matrix evaluation:"
   ]
  },
  {
   "cell_type": "code",
   "execution_count": null,
   "id": "534d7884-40c2-440b-988d-0263d0e1ff1d",
   "metadata": {
    "autoscroll": false,
    "collapsed": false,
    "ein.hycell": false,
    "ein.tags": "worksheet-0",
    "slideshow": {
     "slide_type": "-"
    }
   },
   "outputs": [],
   "source": [
    "Latex(f'${evalm(A+2*M)}$')"
   ]
  },
  {
   "cell_type": "markdown",
   "id": "6972ccbe-539e-4453-82df-e413effc393b",
   "metadata": {
    "collapsed": false,
    "ein.tags": "worksheet-0",
    "slideshow": {
     "slide_type": "-"
    }
   },
   "source": [
    "Matrix arithmetic is also performed in the exact manner:"
   ]
  },
  {
   "cell_type": "code",
   "execution_count": null,
   "id": "c8aef100-b9ac-4b2d-a9f7-41a4949673a6",
   "metadata": {
    "autoscroll": false,
    "collapsed": false,
    "ein.hycell": false,
    "ein.tags": "worksheet-0",
    "slideshow": {
     "slide_type": "-"
    }
   },
   "outputs": [],
   "source": [
    "a=symbol(\"a\")\n",
    "b=symbol(\"b\")\n",
    "B = matrix([ [0, 0, a], [b, 1, -b], [-1/a, 0, 0] ])\n",
    "Latex(f'${evalm(B**(2**12345))}$')"
   ]
  },
  {
   "cell_type": "markdown",
   "id": "91602132-8d83-449b-bbd2-ee218dae7a07",
   "metadata": {
    "collapsed": false,
    "ein.tags": "worksheet-0",
    "slideshow": {
     "slide_type": "-"
    }
   },
   "source": [
    "[Back to ToC](#ToC)"
   ]
  },
  {
   "cell_type": "markdown",
   "id": "15f94f79-c40f-4069-9b8b-9973c883cfab",
   "metadata": {
    "collapsed": false,
    "ein.tags": "worksheet-0",
    "slideshow": {
     "slide_type": "-"
    }
   },
   "source": [
    "<a name=\"polynomials\"></a>\n",
    "### Polynomials and rational functions\n",
    "\n",
    "Multivariate polynomials and rational functions may be expanded, collected and normalized (i.e. converted to a ratio of two coprime polynomials):"
   ]
  },
  {
   "cell_type": "code",
   "execution_count": null,
   "id": "ca87394d-b535-4685-a9d9-9d99bbeaf0fb",
   "metadata": {
    "autoscroll": false,
    "collapsed": false,
    "ein.hycell": false,
    "ein.tags": "worksheet-0",
    "slideshow": {
     "slide_type": "-"
    }
   },
   "outputs": [],
   "source": [
    "a = x**4 + 2*x**2*y**2 + 4*x**3*y + 12*x*y**3 - 3*y**4\n",
    "Latex(f'${a}$')"
   ]
  },
  {
   "cell_type": "code",
   "execution_count": null,
   "id": "bca2aacf-e46f-440c-93b8-d4ba7ee7d393",
   "metadata": {
    "autoscroll": false,
    "collapsed": false,
    "ein.hycell": false,
    "ein.tags": "worksheet-0",
    "slideshow": {
     "slide_type": "-"
    }
   },
   "outputs": [],
   "source": [
    "b = x**2 + 4*x*y - y**2\n",
    "Latex(f'${b}$')"
   ]
  },
  {
   "cell_type": "code",
   "execution_count": null,
   "id": "6a68d23c-e1b9-4154-97c6-5c9cd27903d3",
   "metadata": {
    "autoscroll": false,
    "collapsed": false,
    "ein.hycell": false,
    "ein.tags": "worksheet-0",
    "slideshow": {
     "slide_type": "-"
    }
   },
   "outputs": [],
   "source": [
    "Latex(f'${expand(a*b)}$')"
   ]
  },
  {
   "cell_type": "code",
   "execution_count": null,
   "id": "107848f5-4677-44a9-9136-9e3d0af10ad4",
   "metadata": {
    "autoscroll": false,
    "collapsed": false,
    "ein.hycell": false,
    "ein.tags": "worksheet-0",
    "slideshow": {
     "slide_type": "-"
    }
   },
   "outputs": [],
   "source": [
    "Latex(f'${collect(a+b,x)}$')"
   ]
  },
  {
   "cell_type": "code",
   "execution_count": null,
   "id": "7b271a76-cfe8-48e4-bde4-d4da4bd058f4",
   "metadata": {
    "autoscroll": false,
    "collapsed": false,
    "ein.hycell": false,
    "ein.tags": "worksheet-0",
    "slideshow": {
     "slide_type": "-"
    }
   },
   "outputs": [],
   "source": [
    "Latex(f'${collect(a+b,y)}$')"
   ]
  },
  {
   "cell_type": "code",
   "execution_count": null,
   "id": "3d330a3c-f625-42cb-94f6-747f77933a27",
   "metadata": {
    "autoscroll": false,
    "collapsed": false,
    "ein.hycell": false,
    "ein.tags": "worksheet-0",
    "slideshow": {
     "slide_type": "-"
    }
   },
   "outputs": [],
   "source": [
    "Latex(f'${normal(a/b)}$')"
   ]
  },
  {
   "cell_type": "markdown",
   "id": "005029bc-1408-40f8-aedc-da006c7133bd",
   "metadata": {
    "collapsed": false,
    "ein.tags": "worksheet-0",
    "slideshow": {
     "slide_type": "-"
    }
   },
   "source": [
    "[Back to ToC](#ToC)"
   ]
  },
  {
   "cell_type": "markdown",
   "id": "99aad51d-ba1a-42e2-baf2-8559a50f0e23",
   "metadata": {
    "collapsed": false,
    "ein.tags": "worksheet-0",
    "slideshow": {
     "slide_type": "-"
    }
   },
   "source": [
    "<a name=\"calculus\"></a>\n",
    "### Calculus\n",
    "You can differentiate any expression as follows:"
   ]
  },
  {
   "cell_type": "code",
   "execution_count": null,
   "id": "ebb4c6be-01c3-4633-a430-969f6b8b2cd7",
   "metadata": {
    "autoscroll": false,
    "collapsed": false,
    "ein.hycell": false,
    "ein.tags": "worksheet-0",
    "slideshow": {
     "slide_type": "-"
    }
   },
   "outputs": [],
   "source": [
    "Latex(f'${diff(tan(x),x)}$')"
   ]
  },
  {
   "cell_type": "markdown",
   "id": "35a208f1-925b-49fd-9222-4673122486da",
   "metadata": {
    "collapsed": false,
    "ein.tags": "worksheet-0",
    "slideshow": {
     "slide_type": "-"
    }
   },
   "source": [
    "Any expression can be expanded as Taylor or Laurent series in a very natural syntax (the second argument of series is a relation defining the evaluation point, the third specifies the order):"
   ]
  },
  {
   "cell_type": "code",
   "execution_count": null,
   "id": "8cfd9371-1a0b-4de2-9d4e-817d64a00e1b",
   "metadata": {
    "autoscroll": false,
    "collapsed": false,
    "ein.hycell": false,
    "ein.tags": "worksheet-0",
    "slideshow": {
     "slide_type": "-"
    }
   },
   "outputs": [],
   "source": [
    "x_is_0 = relational(x, 0, relop.eq)\n",
    "Latex(f'${series(sin(x), x_is_0, 4)}$')"
   ]
  },
  {
   "cell_type": "code",
   "execution_count": null,
   "id": "712841d6-9419-4fe1-aa04-c355d1eb6ccf",
   "metadata": {
    "collapsed": false
   },
   "outputs": [],
   "source": [
    "Another one:"
   ]
  },
  {
   "cell_type": "code",
   "execution_count": null,
   "id": "68377d96-7f6b-450e-b213-f96631ee9284",
   "metadata": {
    "autoscroll": false,
    "collapsed": false,
    "ein.hycell": false,
    "ein.tags": "worksheet-0",
    "slideshow": {
     "slide_type": "-"
    }
   },
   "outputs": [],
   "source": [
    "Latex(f'${series(1/tan(x), x_is_0, 4)}$')"
   ]
  },
  {
   "cell_type": "markdown",
   "id": "6ed5ec89-da3f-4a43-bea4-355e9e315b04",
   "metadata": {
    "collapsed": false,
    "ein.tags": "worksheet-0",
    "slideshow": {
     "slide_type": "-"
    }
   },
   "source": [
    "Or a bit more involved "
   ]
  },
  {
   "cell_type": "code",
   "execution_count": null,
   "id": "c66b7f9b-5170-47b3-ae32-8f999a31cac6",
   "metadata": {
    "autoscroll": false,
    "collapsed": false,
    "ein.hycell": false,
    "ein.tags": "worksheet-0",
    "slideshow": {
     "slide_type": "-"
    }
   },
   "outputs": [],
   "source": [
    "Latex(f'${series(tgamma(x), x_is_0, 3)}$')"
   ]
  },
  {
   "cell_type": "markdown",
   "id": "459e7372-2809-49e0-ac07-2e81d98882b7",
   "metadata": {
    "collapsed": false,
    "ein.tags": "worksheet-0",
    "slideshow": {
     "slide_type": "-"
    }
   },
   "source": [
    "In necessary a floating point evaluation can be called as well:"
   ]
  },
  {
   "cell_type": "code",
   "execution_count": null,
   "id": "a3d1acef-cda8-4f3d-a94e-bd6891c773b9",
   "metadata": {
    "autoscroll": false,
    "collapsed": false,
    "ein.hycell": false,
    "ein.tags": "worksheet-0",
    "slideshow": {
     "slide_type": "-"
    }
   },
   "outputs": [],
   "source": [
    "Latex(f'${series(tgamma(x), x_is_0, 3).evalf()}$')"
   ]
  },
  {
   "cell_type": "markdown",
   "id": "01310286-1e3d-484f-bd27-1cc6a872c505",
   "metadata": {
    "collapsed": false,
    "ein.tags": "worksheet-0",
    "slideshow": {
     "slide_type": "-"
    }
   },
   "source": [
    "(If the last output is identical to the previous one, this shall be due to a GiNaC bug up to the version $\\leq$ 1.7.7)."
   ]
  },
  {
   "cell_type": "code",
   "execution_count": null,
   "id": "38db878b-7618-4331-9a8e-1a25634d7af9",
   "metadata": {
    "autoscroll": false,
    "collapsed": false,
    "ein.hycell": false,
    "ein.tags": "worksheet-0",
    "slideshow": {
     "slide_type": "-"
    }
   },
   "outputs": [],
   "source": [
    "Latex(f'${series(tgamma(2*sin(x)-2), relational(x, Pi/2, relop.eq), 6)}$')"
   ]
  },
  {
   "cell_type": "markdown",
   "id": "746bd1e2-0d82-45ea-ad26-bde6d45d0591",
   "metadata": {
    "collapsed": false,
    "ein.tags": "worksheet-0",
    "slideshow": {
     "slide_type": "-"
    }
   },
   "source": [
    "What about integration? Let us try:"
   ]
  },
  {
   "cell_type": "code",
   "execution_count": null,
   "id": "8b6e22ad-85bd-4da3-9301-9e4869ed691d",
   "metadata": {
    "autoscroll": false,
    "collapsed": false,
    "ein.hycell": false,
    "ein.tags": "worksheet-0",
    "slideshow": {
     "slide_type": "-"
    }
   },
   "outputs": [],
   "source": [
    "t=realsymbol(\"t\")\n",
    "Int=integral(x, 0, t, x*x+sin(x))\n",
    "display(Latex(f'${Int}$'))\n",
    "Latex(f'${Int.eval_integ()}$')"
   ]
  },
  {
   "cell_type": "markdown",
   "id": "a881b6b2-bfb7-4d72-ab0c-38fb87af1d61",
   "metadata": {
    "collapsed": false,
    "ein.tags": "worksheet-0",
    "slideshow": {
     "slide_type": "-"
    }
   },
   "source": [
    "That is: (Py)GiNaC is not very useful at symbolically evaluating integrals, it can do it for polynomials only. However, (Py)GiNaC is aware of the Fundamental Theorem of Calculus:"
   ]
  },
  {
   "cell_type": "code",
   "execution_count": null,
   "id": "ec65b8d3-755c-4d03-bbab-914ccfd185a0",
   "metadata": {
    "autoscroll": false,
    "collapsed": false,
    "ein.hycell": false,
    "ein.tags": "worksheet-0",
    "slideshow": {
     "slide_type": "-"
    }
   },
   "outputs": [],
   "source": [
    "Latex(f'${Int.diff(t)}$')"
   ]
  },
  {
   "cell_type": "markdown",
   "id": "9fe9f57e-be22-4707-8959-5c58f1d51da7",
   "metadata": {
    "collapsed": false,
    "ein.tags": "worksheet-0",
    "slideshow": {
     "slide_type": "-"
    }
   },
   "source": [
    "Furthermore,  (Py)GiNaC is not so bad at the numeric evaluation of definite integrals, see the next subsection.\n",
    "\n",
    "[Back to ToC](#ToC)"
   ]
  },
  {
   "cell_type": "markdown",
   "id": "f79dfb42-fc85-4be6-a3fa-c14d10575edd",
   "metadata": {
    "collapsed": false,
    "ein.tags": "worksheet-0",
    "slideshow": {
     "slide_type": "-"
    }
   },
   "source": [
    "<a name=\"numeric\"></a>\n",
    "### Numeric methods\n",
    "\n",
    "Reconsider the above integral and ask its numerical evaluation: "
   ]
  },
  {
   "cell_type": "code",
   "execution_count": null,
   "id": "de779696-57dc-4fe1-97dd-675725f26afb",
   "metadata": {
    "autoscroll": false,
    "collapsed": false,
    "ein.hycell": false,
    "ein.tags": "worksheet-0",
    "slideshow": {
     "slide_type": "-"
    }
   },
   "outputs": [],
   "source": [
    "Latex(f'${integral(x, 0, 1, x*x+sin(x)).evalf()}$')"
   ]
  },
  {
   "cell_type": "markdown",
   "id": "811fa001-d12e-4364-bf84-fdfed1c5e1e0",
   "metadata": {
    "collapsed": false,
    "ein.tags": "worksheet-0",
    "slideshow": {
     "slide_type": "-"
    }
   },
   "source": [
    "See GiNaC Tutorial for fine-tuning of numerical integration.\n",
    "\n",
    "Often, functions don't have roots in closed form. Nevertheless, it's quite easy to compute a solution numerically, to arbitrary precision (note, that for an equation we are not worried if lhs and rhs of the relational will be swapped, cf. [relational caution](#relationalCaution)):"
   ]
  },
  {
   "cell_type": "code",
   "execution_count": null,
   "id": "3c5e80f4-fb9f-4d4f-ba03-e15467511b6f",
   "metadata": {
    "autoscroll": false,
    "collapsed": false,
    "ein.hycell": false,
    "ein.tags": "worksheet-0",
    "slideshow": {
     "slide_type": "-"
    }
   },
   "outputs": [],
   "source": [
    "set_digits(50)\n",
    "str(fsolve(cos(x)==x,x,0,2))"
   ]
  },
  {
   "cell_type": "code",
   "execution_count": null,
   "id": "0b8c1e57-c8b4-4f6a-bc59-ed506a9e4387",
   "metadata": {
    "autoscroll": false,
    "collapsed": false,
    "ein.hycell": false,
    "ein.tags": "worksheet-0",
    "slideshow": {
     "slide_type": "-"
    }
   },
   "outputs": [],
   "source": [
    "f=exp(sin(x))-x\n",
    "X=fsolve(f,x,-10,10)\n",
    "str(X)"
   ]
  },
  {
   "cell_type": "code",
   "execution_count": null,
   "id": "4e15a88e-40e2-4efe-8309-38a077f480ce",
   "metadata": {
    "autoscroll": false,
    "collapsed": false,
    "ein.hycell": false,
    "ein.tags": "worksheet-0",
    "slideshow": {
     "slide_type": "-"
    }
   },
   "outputs": [],
   "source": [
    "str(f.subs({x : X}))"
   ]
  },
  {
   "cell_type": "markdown",
   "id": "f29f3693-9c6c-4265-a7c8-1fef0ff65724",
   "metadata": {
    "collapsed": false,
    "ein.tags": "worksheet-0",
    "slideshow": {
     "slide_type": "-"
    }
   },
   "source": [
    "Notice how the final result above differs slightly from zero by about $6\\cdot 10^{-58}$. This is because with 50 decimal digits precision the root cannot be represented more accurately than X. Such inaccuracies are to be expected when computing with finite floating point values."
   ]
  },
  {
   "cell_type": "markdown",
   "id": "f44ed514-ef78-4723-af12-5a26f1eb6013",
   "metadata": {
    "collapsed": false,
    "ein.tags": "worksheet-0",
    "slideshow": {
     "slide_type": "-"
    }
   },
   "source": [
    "If you ever wanted to convert units in C or C++ and found this is cumbersome, here is the solution. Symbolic types can always be used as tags for different types of objects. Converting from wrong units to the metric system is now easy:"
   ]
  },
  {
   "cell_type": "code",
   "execution_count": null,
   "id": "3d148767-8a45-43a3-86a9-67330d14333c",
   "metadata": {
    "autoscroll": false,
    "collapsed": false,
    "ein.hycell": false,
    "ein.tags": "worksheet-0",
    "slideshow": {
     "slide_type": "-"
    }
   },
   "outputs": [],
   "source": [
    "set_digits(10)\n",
    "m=symbol(\"m\")\n",
    "kg=symbol(\"kg\")\n",
    "inch=.0254*m\n",
    "lb=.45359237*kg\n",
    "Latex(f'${(200*lb/inch**2).evalf()}$')"
   ]
  },
  {
   "cell_type": "markdown",
   "id": "ef3b9af1-1199-49a2-bd96-78a6f6c0ed3e",
   "metadata": {
    "collapsed": false,
    "ein.tags": "worksheet-0",
    "slideshow": {
     "slide_type": "-"
    }
   },
   "source": [
    "[Back to ToC](#ToC)"
   ]
  },
  {
   "cell_type": "markdown",
   "id": "bf423b52-a32f-478f-85ff-3ae4a85e665b",
   "metadata": {
    "collapsed": false,
    "ein.tags": "worksheet-0",
    "slideshow": {
     "slide_type": "-"
    }
   },
   "source": [
    "<a name=\"parser\"></a>\n",
    "### Parser and integration with other packages\n",
    "\n",
    "(Py)GiNaC has some attractive or unique features (e.g. the universal Clifford algebras support), but it is not a one-for-all package. You may want to integrate it with other mathematical software. This can be done in a way usually used by human being:  by exchange of strings of characters. (Py)GiNaC is literate enough to parse such strings possibly produced by either a user or other programme. This can be used as simple as this:"
   ]
  },
  {
   "cell_type": "code",
   "execution_count": null,
   "id": "05887cd0-5206-4c60-b86b-911bffda523b",
   "metadata": {
    "autoscroll": false,
    "collapsed": false,
    "ein.hycell": false,
    "ein.tags": "worksheet-0",
    "slideshow": {
     "slide_type": "-"
    }
   },
   "outputs": [],
   "source": [
    "reader=parser()\n",
    "e=reader(\"Pi^2+sin(2*t)\")\n",
    "Latex(f'${e}$')"
   ]
  },
  {
   "cell_type": "markdown",
   "id": "080df630-b0eb-4ca4-bb3a-abf8221ff2d9",
   "metadata": {
    "collapsed": false,
    "ein.tags": "worksheet-0",
    "slideshow": {
     "slide_type": "-"
    }
   },
   "source": [
    "Note C++-style notation for powers, the (Py)GiNaC expects these rather than pythonish expressions. The output looks nice but you may be disappointed by the next line:"
   ]
  },
  {
   "cell_type": "code",
   "execution_count": null,
   "id": "f12cfacc-1960-4462-a24d-3bf2bf927b3d",
   "metadata": {
    "autoscroll": false,
    "collapsed": false,
    "ein.hycell": false,
    "ein.tags": "worksheet-0",
    "slideshow": {
     "slide_type": "-"
    }
   },
   "outputs": [],
   "source": [
    "str(e.diff(t))"
   ]
  },
  {
   "cell_type": "markdown",
   "id": "a0417472-1aec-469c-8495-6e5387f7db30",
   "metadata": {
    "collapsed": false,
    "ein.tags": "worksheet-0",
    "slideshow": {
     "slide_type": "-"
    }
   },
   "source": [
    "In fact, our `reader` was not aware of the previously defined symbol $t$ and created a new symbol still represented by  the same letter. To avoid such a confusion the `reader` need to be aware of desirable substitutions from strings to existing symbols (or even expressions):"
   ]
  },
  {
   "cell_type": "code",
   "execution_count": null,
   "id": "24b90180-1d26-40ef-b004-a1fd8c2b8cf2",
   "metadata": {
    "autoscroll": false,
    "collapsed": false,
    "ein.hycell": false,
    "ein.tags": "worksheet-0",
    "slideshow": {
     "slide_type": "-"
    }
   },
   "outputs": [],
   "source": [
    "reader=parser({\"t\" : t})\n",
    "e=reader(\"Pi^2+sin(2*t)\")\n",
    "display(Latex(f'e=${e}$'))\n",
    "Latex(r'$\\frac{de}{dt}='+f'{e.diff(t)}$')"
   ]
  },
  {
   "cell_type": "markdown",
   "id": "42c7b322-323c-485d-994f-f3510e14a5a8",
   "metadata": {
    "collapsed": false,
    "ein.tags": "worksheet-0",
    "slideshow": {
     "slide_type": "-"
    }
   },
   "source": [
    "We can disable parsing of unknown symbols (for example, you want treat an unexpected string in the input as an error): "
   ]
  },
  {
   "cell_type": "code",
   "execution_count": null,
   "id": "224fa3ec-aefd-47f8-bdd0-3cab4eb644a8",
   "metadata": {
    "autoscroll": false,
    "collapsed": false,
    "ein.hycell": false,
    "ein.tags": "worksheet-0",
    "slideshow": {
     "slide_type": "-"
    }
   },
   "outputs": [],
   "source": [
    "import sys\n",
    "reader.set_strict(True)\n",
    "try:\n",
    "    str(reader(\"1+2*z\"))\n",
    "except ValueError:\n",
    "    print(\"There is an undefined symbol:\", sys.exc_info()[1])"
   ]
  },
  {
   "cell_type": "markdown",
   "id": "06ce01c3-293d-48c3-80c6-6f8bbbb53ea9",
   "metadata": {
    "collapsed": false,
    "ein.tags": "worksheet-0",
    "slideshow": {
     "slide_type": "-"
    }
   },
   "source": [
    "and enable it back:"
   ]
  },
  {
   "cell_type": "code",
   "execution_count": null,
   "id": "18cab038-ab7d-4193-923a-cb4331b20956",
   "metadata": {
    "autoscroll": false,
    "collapsed": false,
    "ein.hycell": false,
    "ein.tags": "worksheet-0",
    "slideshow": {
     "slide_type": "-"
    }
   },
   "outputs": [],
   "source": [
    "reader.set_strict(False)\n",
    "str(reader(\"1+2*z\"))"
   ]
  },
  {
   "cell_type": "markdown",
   "id": "6c7d6645-77b2-4db9-9e44-6f9f89a941dc",
   "metadata": {
    "collapsed": false,
    "ein.tags": "worksheet-0",
    "slideshow": {
     "slide_type": "-"
    }
   },
   "source": [
    "You can obtain all parser-generated symbols with 'get_syms()' method:"
   ]
  },
  {
   "cell_type": "code",
   "execution_count": null,
   "id": "d67857ad-f344-4cdb-b803-703790407f6c",
   "metadata": {
    "autoscroll": false,
    "collapsed": false,
    "ein.hycell": false,
    "ein.tags": "worksheet-0",
    "slideshow": {
     "slide_type": "-"
    }
   },
   "outputs": [],
   "source": [
    "D=reader.get_syms()\n",
    "[f'\"{x}\" : {str(D[x])}' for x in D]"
   ]
  },
  {
   "cell_type": "markdown",
   "id": "89eb3813-63ad-4bd0-85e6-874d53fd5bbb",
   "metadata": {
    "collapsed": false,
    "ein.tags": "worksheet-0",
    "slideshow": {
     "slide_type": "-"
    }
   },
   "source": [
    "The dictionary of known symbols can be updated as needed:"
   ]
  },
  {
   "cell_type": "code",
   "execution_count": null,
   "id": "f646a7eb-04de-4e6b-ab0d-8f048c4b6ec6",
   "metadata": {
    "autoscroll": false,
    "collapsed": false,
    "ein.hycell": false,
    "ein.tags": "worksheet-0",
    "slideshow": {
     "slide_type": "-"
    }
   },
   "outputs": [],
   "source": [
    "D.update({\"w\" : log(y)})\n",
    "reader.set_syms(D)\n",
    "Latex(f'${reader(\"t+s+w\")}$')"
   ]
  },
  {
   "cell_type": "markdown",
   "id": "012c575b-2755-4c12-bd23-06eca6793f62",
   "metadata": {
    "collapsed": false,
    "ein.tags": "worksheet-0",
    "slideshow": {
     "slide_type": "-"
    }
   },
   "source": [
    "Parser provides a convenient communication tool with other mathematical packages or user inputs. Fine-tuning can be achieved by additional string manipulations. \n",
    "\n",
    "[Back to ToC](#ToC)"
   ]
  },
  {
   "cell_type": "markdown",
   "id": "cb581700-d773-42e3-8524-37b9de38d636",
   "metadata": {
    "collapsed": false,
    "ein.tags": "worksheet-0",
    "slideshow": {
     "slide_type": "-"
    }
   },
   "source": [
    "<a name=\"extensions\"></a>\n",
    "## Appendix B: Extending PyGiNaC, extending Python\n",
    "\n",
    "It is easy to create further mathematical objects on top of algebraic capacities of (Py)GiNaC. Let us take the minimal example of a class representing the vector algebra in three dimensional Euclidean space, cf. [here](https://gist.github.com/davidnuon/3816736):"
   ]
  },
  {
   "cell_type": "code",
   "execution_count": null,
   "id": "dbe3f36a-e800-439c-b3d6-7b00d8df5d61",
   "metadata": {
    "autoscroll": false,
    "collapsed": false,
    "ein.hycell": false,
    "ein.tags": "worksheet-0",
    "slideshow": {
     "slide_type": "-"
    }
   },
   "outputs": [],
   "source": [
    "class vector3D:\n",
    "    x = 0\n",
    "    y = 0\n",
    "    z = 0\n",
    "\n",
    "    def __init__(self, x_, y_, z_):\n",
    "        self.x = x_\n",
    "        self.y = y_\n",
    "        self.z = z_\n",
    "\n",
    "    def __str__(self):\n",
    "        return \"(\" + str(self.x) + \",\" + str(self.y) + \",\" + str(self.z) + \")\"\n",
    "\n",
    "    def __copy(self):\n",
    "        return vector3D(self.x, self.y, self.z)\n",
    "\n",
    "    def __neg__(self):\n",
    "        return vector3D(-self.x, -self.y, -self.z)\n",
    "    \n",
    "    def __add__(self, other):\n",
    "        return vector3D(self.x + other.x, self.y + other.y, self.z + other.z)\n",
    "    \n",
    "    def __sub__(self, other):\n",
    "        return self.__copy() + -other\n",
    "    \n",
    "    def __mul__(self, number):\n",
    "        return vector3D(number * self.x, number * self.y, number * self.z)\n",
    "\n",
    "    def __rmul__(self, number):\n",
    "        return self.__mul__(number)\n",
    "    \n",
    "    def dot(self, other):\n",
    "        return self.x*other.x + self.y*other.y + self.z*other.z\n",
    "\n",
    "    def cross(self, other):\n",
    "        return vector3D(self.y*other.z - self.z*other.y, -self.x*other.z + self.z*other.x, self.x*other.y - self.y*other.x)"
   ]
  },
  {
   "cell_type": "markdown",
   "id": "421acf24-bc27-4a31-bb32-6432b97e5ff4",
   "metadata": {
    "collapsed": false,
    "ein.tags": "worksheet-0",
    "slideshow": {
     "slide_type": "-"
    }
   },
   "source": [
    "Within the pure Python the class `vector3D` can be used in numeric computations for vector algebra. If PyGiNaC module is imported the same class shall handle vectors with symbolic components as well. However, to make it even more convenient we can add some further methods, e.g. `normal()`, `expand()`, `is_zero()` and may be even `diff()`:"
   ]
  },
  {
   "cell_type": "code",
   "execution_count": null,
   "id": "de1b5b42-4cc8-4784-b4ad-685837c095f2",
   "metadata": {
    "autoscroll": false,
    "collapsed": false,
    "ein.hycell": false,
    "ein.tags": "worksheet-0",
    "slideshow": {
     "slide_type": "-"
    }
   },
   "outputs": [],
   "source": [
    "class vector3D:\n",
    "    x = 0\n",
    "    y = 0\n",
    "    z = 0\n",
    "\n",
    "    def __init__(self, x_, y_, z_):\n",
    "        self.x = x_\n",
    "        self.y = y_\n",
    "        self.z = z_\n",
    "\n",
    "    def __str__(self):\n",
    "        return \"(\" + str(self.x) + \",\" + str(self.y) + \",\" + str(self.z) + \")\"\n",
    "\n",
    "    def __copy(self):\n",
    "        return vector3D(self.x, self.y, self.z)\n",
    "\n",
    "    def __neg__(self):\n",
    "        return vector3D(-self.x, -self.y, -self.z)\n",
    "    \n",
    "    def __add__(self, other):\n",
    "        return vector3D(self.x + other.x, self.y + other.y, self.z + other.z)\n",
    "    \n",
    "    def __sub__(self, other):\n",
    "        return self.__copy() + -other\n",
    "    \n",
    "    def __mul__(self, number):\n",
    "        return vector3D(number * self.x, number * self.y, number * self.z)\n",
    "\n",
    "    def __rmul__(self, number):\n",
    "        return self.__mul__(number)\n",
    "    \n",
    "    def dot(self, other):\n",
    "        return self.x*other.x + self.y*other.y + self.z*other.z\n",
    "\n",
    "    def cross(self, other):\n",
    "        return vector3D(self.y*other.z - self.z*other.y, -self.x*other.z + self.z*other.x, self.x*other.y - self.y*other.x)\n",
    "\n",
    "    #\n",
    "    # Some PyGiNac specific addtional merhods for symbolic computations\n",
    "    #\n",
    "    def normal(self):\n",
    "        return vector3D(self.x.normal(), self.y.normal(), self.z.normal())\n",
    "\n",
    "    def expand(self):\n",
    "        return vector3D(self.x.expand(), self.y.expand(), self.z.expand())\n",
    "\n",
    "    def is_zero(self):\n",
    "        return self.x.is_zero() and self.y.is_zero() and self.z.is_zero()\n",
    "\n",
    "    def diff(self, var):\n",
    "        return vector3D(self.x.diff(var), self.y.diff(var), self.z.diff(var))"
   ]
  },
  {
   "cell_type": "markdown",
   "id": "23b320a8-add1-4f23-8d05-51262fe3ab4f",
   "metadata": {
    "collapsed": false,
    "ein.tags": "worksheet-0",
    "slideshow": {
     "slide_type": "-"
    }
   },
   "source": [
    "**Note,** that there is *no* need to modify any of the already existing method to work with PyGiNaC.\n",
    "\n",
    "Now we can check some properties of vector algebra by symbolic calculations in PyGiNaC. "
   ]
  },
  {
   "cell_type": "code",
   "execution_count": null,
   "id": "5f22ea61-d076-443d-b811-2d457746d521",
   "metadata": {
    "autoscroll": false,
    "collapsed": false,
    "ein.hycell": false,
    "ein.tags": "worksheet-0",
    "slideshow": {
     "slide_type": "-"
    }
   },
   "outputs": [],
   "source": [
    "v1 = vector3D( realsymbol(\"x1\"),  realsymbol(\"y1\"),  realsymbol(\"z1\"))\n",
    "v2 = vector3D( realsymbol(\"x2\"),  realsymbol(\"y2\"),  realsymbol(\"z2\"))\n",
    "v3 = vector3D( realsymbol(\"x3\"),  realsymbol(\"y3\"),  realsymbol(\"z3\"))\n",
    "\"Cross product is associative: %s\" % \\\n",
    "    (v1.cross(v2).cross(v3) - v1.cross(v2.cross(v3))).normal().is_zero()"
   ]
  },
  {
   "cell_type": "code",
   "execution_count": null,
   "id": "9d2fa409-9677-4f25-91d6-8a989948a621",
   "metadata": {
    "autoscroll": false,
    "collapsed": false,
    "ein.hycell": false,
    "ein.tags": "worksheet-0",
    "slideshow": {
     "slide_type": "-"
    }
   },
   "outputs": [],
   "source": [
    "\"Mixed product is given by the determinant: %s\" % \\\n",
    "    (v1.cross(v2).dot(v3) \\\n",
    "     - matrix([[v1.x, v1.y, v1.z], \\\n",
    "               [v2.x, v2.y, v2.z], \\\n",
    "               [v3.x, v3.y, v3.z]]).determinant()).normal().is_zero()"
   ]
  },
  {
   "cell_type": "code",
   "execution_count": null,
   "id": "731721aa-05b2-4fd1-8615-3ca57762a974",
   "metadata": {
    "autoscroll": false,
    "collapsed": false,
    "ein.hycell": false,
    "ein.tags": "worksheet-0",
    "slideshow": {
     "slide_type": "-"
    }
   },
   "outputs": [],
   "source": [
    "\"Cross product is orthogonal to the first factor: %s\" % \\\n",
    "    v1.cross(v2).dot(v1).expand().is_zero()"
   ]
  },
  {
   "cell_type": "code",
   "execution_count": null,
   "id": "9340492d-e30d-4de6-972d-b73dc1a3403f",
   "metadata": {
    "autoscroll": false,
    "collapsed": false,
    "ein.hycell": false,
    "ein.tags": "worksheet-0",
    "slideshow": {
     "slide_type": "-"
    }
   },
   "outputs": [],
   "source": [
    "t = realsymbol(\"t\")\n",
    "vt = vector3D(cos(t), sin(t), numeric(0))\n",
    "\"Velocity of rotation is orthogonal to the radius-vector: %s\" % \\\n",
    "    vt.diff(t).dot(vt).is_zero()"
   ]
  },
  {
   "cell_type": "markdown",
   "id": "b7422ed9-1e6b-43ef-857c-7b07883f2b3a",
   "metadata": {
    "collapsed": false,
    "ein.tags": "worksheet-0",
    "slideshow": {
     "slide_type": "-"
    }
   },
   "source": [
    "Hopefully, the above examples are sufficient to give an idea how PyGiNaC can be used. Further advice can be found in GiNaC tutorial, PyGINaC test suit and MoebInv notebooks, see references below. \n",
    "\n",
    "[Back to ToC](#ToC)"
   ]
  },
  {
   "cell_type": "markdown",
   "id": "f4e7b2e6-bfa0-4421-bfd0-a155dd824f8a",
   "metadata": {
    "collapsed": false
   },
   "source": [
    "<a name=\"TipsTricks\"></a>\n",
    "##  Appendix C: Tips & Tricks\n",
    "\n",
    "<a name=\"iterable\"></a>\n",
    "### Iterable expressions and map() function\n",
    "\n",
    "Expression in PyGiNaC (since v1.5.9) are Python iterables. This allows to implement `map()` functions to them:"
   ]
  },
  {
   "cell_type": "code",
   "execution_count": null,
   "id": "ad243b19-1b98-48bd-aa4f-c1561eea7e90",
   "metadata": {
    "collapsed": false
   },
   "outputs": [],
   "source": [
    "e = cos(x).series(x==0, 5)\n",
    "Latex(f'In series ${e}:\\\\\\\\$' + '$\\\\\\\\$'.join(map(lambda t: f'Term ${t}$ has degree {t.degree(x)}', e)))"
   ]
  },
  {
   "cell_type": "markdown",
   "id": "d5427ee1-3797-4416-92af-5b9fc3a19042",
   "metadata": {
    "collapsed": false
   },
   "source": [
    "<a name=\"flatlatex\"></a>\n",
    "### Console usage and flatlatex\n",
    "\n",
    "If you use IPython, [ein](https://github.com/millejoh/emacs-ipython-notebook) or another tool  with a console output you cannot enjoy Jupyter rendering of $\\LaTeX$:"
   ]
  },
  {
   "cell_type": "code",
   "execution_count": null,
   "id": "5b3c9274-0ee1-416f-9ff3-3e9074f03766",
   "metadata": {
    "collapsed": false
   },
   "outputs": [],
   "source": [
    "e = integral(t, 0, x, t**2+ t/2)\n",
    "Latex(f'Find the value of $${e}$$ for $x={numeric(1,4)}$')"
   ]
  },
  {
   "cell_type": "markdown",
   "id": "743ce3c4-beb9-4442-b4ba-fa9e25690c9a",
   "metadata": {
    "collapsed": false
   },
   "source": [
    "  In this case you may prefer to use [flatlatex](https://github.com/jb-leger/flatlatex) package if your console supports Unicode. An example of usage is:"
   ]
  },
  {
   "cell_type": "code",
   "execution_count": null,
   "id": "348a729b-7b93-4356-b027-795308379a46",
   "metadata": {
    "collapsed": false
   },
   "outputs": [],
   "source": [
    "import flatlatex\n",
    "FLC = flatlatex.converter()\n",
    "def Latex(e):\n",
    "    e = e.replace('$$', '$') # replace displayed match swith by in-line math switch \n",
    "    l = e.split('$') # split into text and math chunks\n",
    "    is_text = True\n",
    "    s = ''\n",
    "    for t in l: # Iterate through alternating text/math chunks\n",
    "        if is_text:\n",
    "            s += t\n",
    "        else:\n",
    "            s += FLC.convert(t)\n",
    "        is_text = not is_text\n",
    "        \n",
    "    return s\n",
    "\n",
    "Latex(f'Find the value of $${e}$$ for $x={numeric(1,4)}$')"
   ]
  },
  {
   "cell_type": "markdown",
   "id": "70d91ea2-9be0-48c4-b6da-beb6e5f8035b",
   "metadata": {
    "collapsed": false
   },
   "source": [
    "  Note that with such redefinition of `Latex()` function no alteration to other notebook's cells is required. Thus your notebook can be quickly adopted to both worlds just by enabling/disabling the above code."
   ]
  },
  {
   "cell_type": "markdown",
   "id": "97970e8d-c126-473b-b717-9484c65687b5",
   "metadata": {
    "collapsed": false
   },
   "source": [
    "[Back to ToC](#ToC)"
   ]
  },
  {
   "cell_type": "code",
   "execution_count": null,
   "id": "b7a5a4cf-1557-4289-a406-691237ad2331",
   "metadata": {
    "autoscroll": false,
    "collapsed": false,
    "ein.hycell": false,
    "ein.tags": "worksheet-0",
    "slideshow": {
     "slide_type": "-"
    }
   },
   "outputs": [],
   "source": [
    "import pandas\n",
    "pandas.to_datetime('today')"
   ]
  },
  {
   "cell_type": "markdown",
   "id": "8a9ac18f-6745-4b86-aee7-c94030b2774c",
   "metadata": {
    "collapsed": false,
    "ein.tags": "worksheet-0",
    "slideshow": {
     "slide_type": "-"
    }
   },
   "source": [
    "<a name=\"references\"></a>\n",
    "## References\n",
    "\n",
    "1. [PyGiNaC--maintained version](https://sourceforge.net/projects/pyginac.moebinv.p/)\n",
    "2. <a name=\"tutorial\"></a>[GiNaC Tutorial](https://ginac.de/tutorial/).\n",
    "3. <a name=\"notebooks\"></a>[MoebInv Notebooks](https://github.com/vvkisil/MoebInv-notebooks/)"
   ]
  }
 ],
 "metadata": {
  "kernelspec": {
   "argv": [
    "/usr/bin/python3",
    "-m",
    "ipykernel_launcher",
    "-f",
    "{connection_file}"
   ],
   "display_name": "Python 3 (ipykernel)",
   "env": null,
   "interrupt_mode": "signal",
   "language": "python",
   "metadata": {
    "debugger": true
   },
   "name": "python3"
  },
  "language_info": {
   "codemirror_mode": {
    "name": "ipython",
    "version": 3
   },
   "file_extension": ".py",
   "mimetype": "text/x-python",
   "name": "python",
   "nbconvert_exporter": "python",
   "pygments_lexer": "ipython3",
   "version": "3.7.5"
  },
  "name": "pyGiNaC.ipynb"
 },
 "nbformat": 4,
 "nbformat_minor": 5
}
