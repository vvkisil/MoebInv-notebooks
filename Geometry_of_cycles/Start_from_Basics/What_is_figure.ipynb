{
 "cells": [
  {
   "cell_type": "markdown",
   "metadata": {
    "collapsed": false,
    "ein.tags": "worksheet-0",
    "slideshow": {
     "slide_type": "-"
    }
   },
   "source": [
    "<table style=\"width:100%\">\n",
    "    <tr>\n",
    "        <td>\n",
    "            <a href=\"http://www1.maths.leeds.ac.uk/~kisilv/MoebInv-notebooks/Geometry_of_cycles/Start_from_Basics/What_is_figure.html\">\n",
    "  <img src=\"../../svg/view-html.svg\" alt=\"View HTML\"/>\n",
    "            </a>\n",
    "        </td>\n",
    "        <td>\n",
    "<a href=\"https://github.com/vvkisil/MoebInv-notebooks/blob/master/Geometry_of_cycles/Start_from_Basics/What_is_figure.ipynb\">\n",
    "  <img src=\"../../svg/open-github.svg\" alt=\"Open In GitHub\"/>\n",
    "            </a>\n",
    "        </td>\n",
    "        <td>\n",
    "            <a href=\"https://colab.research.google.com/github/vvkisil/MoebInv-notebooks/blob/master/Geometry_of_cycles/Start_from_Basics/What_is_figure.ipynb\">\n",
    "  <img src=\"../../svg/exec-colab.svg\" alt=\"Run In Colab\"/>\n",
    "            </a>\n",
    "        </td>\n",
    "        <td>\n",
    "            <a href=\"https://codeocean.com/capsule/7952650/tree\">\n",
    "  <img src=\"../../svg/code-ocean.svg\" alt=\"Code Ocean\"/>\n",
    "            </a>\n",
    "        </td>\n",
    "    </tr>\n",
    " </table>"
   ]
  },
  {
   "cell_type": "markdown",
   "metadata": {
    "collapsed": false,
    "ein.tags": "worksheet-0",
    "slideshow": {
     "slide_type": "-"
    }
   },
   "source": [
    "# What is a figure, anyway?\n",
    "### [Vladimir V Kisil](http://www1.maths.leeds.ac.uk/~kisilv/)\n",
    "\n",
    "Classic geometric constructions by compass and straightedge are implemented as *figures*. Their building blocks are [*cycles*](https://colab.research.google.com/github/vvkisil/MoebInv-notebooks/blob/master/Geometry_of_cycles/Start_from_Basics/What_is_cycle.ipynb) and the cement gluing cycles together is [*cycle relations*](http://www1.maths.leeds.ac.uk/~kisilv/MoebInv-notebooks/Geometry_of_cycles/Start_from_Basics/What_is_cycle_relation.html). In short: \n",
    "\n",
    "**Definition.** [Ref.4](#refKisil18) [Ref.5](#refKisil19) *Figure is a collection of cycles interconnected by Mobius invariant relation.*\n",
    "\n",
    "We illustrate the concept by a basic example below. For simplicity the entire figure is build on a (virtually) single cycle relation—[*orthogonality*](http://www1.maths.leeds.ac.uk/~kisilv/MoebInv-notebooks/Geometry_of_cycles/Start_from_Basics/What_is_cycle_relation.html#CycleProduct).\n",
    "\n",
    "**Note:** *to execute the notebook you may need to [install software](https://colab.research.google.com/github/vvkisil/MoebInv-notebooks/blob/master/Introduction/Software_installation_GUI_integration.ipynb).* \n",
    "\n",
    "<a id=\"ToC\"></a>\n",
    "#### Table of contents of this notebook\n",
    "\n",
    "+ [Example: the midpoint of an interval](#exampleMidpoint)\n",
    "  - [Initialise figure and input given cycles](#initialisation)\n",
    "  - [Add cycles by relations: parents and generations](#addCyclesRelations)\n",
    "+ [Viewing, saving and using figures](#writingUsingFigure)\n",
    "  - [Recording a figure](#recordingFigure)\n",
    "  - [Measuring on a figure](#measuringFigure)\n",
    "  - [Modifying a figure](#modifyingFigure)\n",
    "+ [Further reading](#furtherReading)\n",
    "+ [References](#references)\n",
    "\n",
    "Back to the [top-level Table of Contents](https://github.com/vvkisil/MoebInv-notebooks/blob/master/Table_of_contents.md)."
   ]
  },
  {
   "cell_type": "markdown",
   "metadata": {
    "collapsed": false
   },
   "source": [
    "<a id=\"exampleMidpoint\"></a>\n",
    "## Example: the midpoint of an interval\n",
    "\n",
    "As an illustration we are considering a construction of the midpoint of an interval. As usually, we need to load the software."
   ]
  },
  {
   "cell_type": "code",
   "execution_count": null,
   "metadata": {
    "collapsed": false
   },
   "outputs": [],
   "source": [
    "from figure import *\n",
    "from IPython.display import Image\n",
    "show_asy_off()"
   ]
  },
  {
   "cell_type": "markdown",
   "metadata": {
    "collapsed": false
   },
   "source": [
    "<a id=\"initialisation\"></a>\n",
    "### Initialise figure and input given cycles\n",
    "\n",
    "Now we initiate our figure (with the default Euclidean metric, [Ref.1](#refKisil07) [Ref.2](#refKisil12))."
   ]
  },
  {
   "cell_type": "code",
   "execution_count": null,
   "metadata": {
    "collapsed": false
   },
   "outputs": [],
   "source": [
    "F=figure()"
   ]
  },
  {
   "cell_type": "markdown",
   "metadata": {
    "collapsed": false
   },
   "source": [
    "Now we define two points `A` and `B`, which are  endpoints of the interval to be bisected. "
   ]
  },
  {
   "cell_type": "code",
   "execution_count": null,
   "metadata": {
    "collapsed": false
   },
   "outputs": [],
   "source": [
    "A=F.add_point([0,0], \"A\") # Origin\n",
    "B=F.add_point([1,0], \"B\") # Point (1,0)"
   ]
  },
  {
   "cell_type": "markdown",
   "metadata": {
    "collapsed": false
   },
   "source": [
    "The special role is played by infinity. For example, a cycle is a straight line if it passes the infinity. We can always access the infinity point of the figure as `F.get_infinity()`. However, to make our construction conformally invariant we take infinity as the third parameter of the figure. This cycle is provided by listing its all coefficients $(k, l, n, m)$, see [notebook on cycles](https://colab.research.google.com/github/vvkisil/MoebInv-notebooks/blob/master/Geometry_of_cycles/Start_from_Basics/What_is_cycle.ipynb)."
   ]
  },
  {
   "cell_type": "code",
   "execution_count": null,
   "metadata": {
    "collapsed": false
   },
   "outputs": [],
   "source": [
    "inf=F.add_cycle(cycle_data(0, [0,0], 1), \"inf\", \"\\\\infty\") # Infinity"
   ]
  },
  {
   "cell_type": "markdown",
   "metadata": {
    "collapsed": false
   },
   "source": [
    "[Back to ToC](#ToC)"
   ]
  },
  {
   "cell_type": "markdown",
   "metadata": {
    "collapsed": false
   },
   "source": [
    "<a id=\"addCyclesRelations\"></a>\n",
    "### Add cycles by relations: parents and generations\n",
    "\n",
    "Here our construction starts. We add a cycle `l` with the following properties:\n",
    "+ It passes `A`, that is it is orthogonal to it.\n",
    "+ It passes `B`, that is it is orthogonal to it.\n",
    "+ It is a straight line, i.e it passes the infinity (that is it is orthogonal to it).\n",
    "\n",
    "See [discussion of orthogonality](http://www1.maths.leeds.ac.uk/~kisilv/MoebInv-notebooks/Geometry_of_cycles/Start_from_Basics/What_is_cycle_relation.html#aboutOrthogonality)."
   ]
  },
  {
   "cell_type": "code",
   "execution_count": null,
   "metadata": {
    "collapsed": false
   },
   "outputs": [],
   "source": [
    "l=F.add_cycle_rel([is_orthogonal(A),\n",
    "\t\t     is_orthogonal(B),\n",
    "\t\t     is_orthogonal(inf)],\n",
    "\t\t    \"l\");"
   ]
  },
  {
   "cell_type": "markdown",
   "metadata": {
    "collapsed": false
   },
   "source": [
    "Cycle `l` was added through its relations to cycles `A`, `B`, and `inf`. If they are pairwise distinct, then `l` is uniquely defined and all its coefficients are numeric. If some given points coincide, then coefficients of `l` will depend on free parameter(s). Given points  `A`, `B`, and `inf` can depend on free parameters (C++ class `GiNaC::symbols`) themselves, then `l` will inherit such a dependence of course.\n",
    "\n",
    "We say that `A`, `B`, and `inf` are *parents* of `l` to denote that `l` is defined through relations to the three given cycles. Cycles in a figure are belonging to certain generations. and predefined cycles (that is `A`, `B`, and `inf` in our example) are always in \"generation-0*. We want to avoid dangerous loops in parenthood those each new cycle is assigned to the next generation for its latest (in terms of generations) parent. For example, since all parents of `l` are in generation-0, the new cycle belongs to the generation-1.  "
   ]
  },
  {
   "cell_type": "markdown",
   "metadata": {
    "collapsed": false
   },
   "source": [
    "In a similar way we add a cycle `c` passing `A` and `B` and orthogonal to `l`, this will be assigned to generation-2."
   ]
  },
  {
   "cell_type": "code",
   "execution_count": null,
   "metadata": {
    "collapsed": false
   },
   "outputs": [],
   "source": [
    "c=F.add_cycle_rel([is_orthogonal(A),\n",
    "\t\t\t\tis_orthogonal(B),\n",
    "\t\t\t\tis_orthogonal(l)],\n",
    "\t\t\"c\")"
   ]
  },
  {
   "cell_type": "markdown",
   "metadata": {
    "collapsed": false
   },
   "source": [
    "Next cycle `p` is orthogonal to `l` and `c` and is a straight line (orthogonal to `inf`), it is in generation-3. "
   ]
  },
  {
   "cell_type": "code",
   "execution_count": null,
   "metadata": {
    "collapsed": false
   },
   "outputs": [],
   "source": [
    "p=F.add_cycle_rel([is_orthogonal(inf),\n",
    "\t\t\t\tis_orthogonal(l),\n",
    "\t\t\t\tis_orthogonal(c)],\n",
    "\t\t\"p\")"
   ]
  },
  {
   "cell_type": "markdown",
   "metadata": {
    "collapsed": false
   },
   "source": [
    "Finally the midpoint is the intersection of `p` and `l`, that is it is orthogonal to these two cycles. Furthermore to be a point it shall be orthogonal to itself, which is written as `is_orthogonal()` (no other parent for this orthogonality). Equivalently, self-orthogonality can be written as `is_orthogonal()`. We shall note that `p` and `l` also intersect in point `inf`, to avoid this value we add the relation ``*to be different*'' written as `is_different(inf)`."
   ]
  },
  {
   "cell_type": "code",
   "execution_count": null,
   "metadata": {
    "collapsed": false
   },
   "outputs": [],
   "source": [
    "M = F.add_cycle_rel([is_orthogonal(l),\n",
    "\t\t\t is_orthogonal(p),\n",
    "\t\t\t is_orthogonal(), # self-orthogonality\n",
    "\t\t\t is_different(inf)],\n",
    "\t \"midpoint\")              "
   ]
  },
  {
   "cell_type": "markdown",
   "metadata": {
    "collapsed": false
   },
   "source": [
    "[Back to ToC](#ToC)"
   ]
  },
  {
   "cell_type": "markdown",
   "metadata": {
    "collapsed": false
   },
   "source": [
    "<a id=\"writingUsingFigure\"></a>\n",
    "## Viewing, saving and using figures\n",
    "\n",
    "<a id=\"recordingFigure\"></a>\n",
    "### Recording a figure\n",
    "Once the figure is constructed we may want to see its content. It is possible to print the list of cycles, their coefficients $(k,l,n.m)$, relations to parents and children (if any). "
   ]
  },
  {
   "cell_type": "code",
   "execution_count": null,
   "metadata": {
    "collapsed": false
   },
   "outputs": [],
   "source": [
    "print(F)"
   ]
  },
  {
   "cell_type": "markdown",
   "metadata": {
    "collapsed": false
   },
   "source": [
    "For example, it says that cycle `l` has children `c`, `p` and `midpoint`—these are cycles which directly relate to `l` as a parent. The list of relations for `l` is `(A|o,B|o,inf|o)` which means orthogonality to each of the three parents."
   ]
  },
  {
   "cell_type": "markdown",
   "metadata": {
    "collapsed": false
   },
   "source": [
    "A graphical presentation of the figure can be seen as follows. It will also save the graphic file \"midpoint1.png\" on the local disk. Alternative popular formats, defined by the last parameter of the call `asy_write()` can be \"pdf\", \"eps\", \"jpg\". "
   ]
  },
  {
   "cell_type": "code",
   "execution_count": null,
   "metadata": {
    "collapsed": false
   },
   "outputs": [],
   "source": [
    "F.asy_write(300,-.5,1.5,-1,1,\"midpoint1\",\"png\")\n",
    "Image(\"midpoint1.png\")"
   ]
  },
  {
   "cell_type": "markdown",
   "metadata": {
    "collapsed": false
   },
   "source": [
    "Alternatively we can write an [Asymptote](http://asymptote.sourceforge.net/) file can be saved on the disk. It is a human-readable command drawing script. It can be fine-tuned for the appearance and then converted to PDF/PNG/PS/JPEG formats by `asymptote` tool."
   ]
  },
  {
   "cell_type": "code",
   "execution_count": null,
   "metadata": {
    "collapsed": false
   },
   "outputs": [],
   "source": [
    "F.asy_print(\"midpoint\", \"\", -.5,1.5,-1,1)"
   ]
  },
  {
   "cell_type": "markdown",
   "metadata": {
    "collapsed": false
   },
   "source": [
    "We also can also save the figure in a binary format (non-editable or human-read). The next command will create a local file \"midpoint.gar\", which can be subsequently read from a command.  For illustration of this, we will create another figure `F1` identical to the original one and show it on the screen (which shall be the same as above)."
   ]
  },
  {
   "cell_type": "code",
   "execution_count": null,
   "metadata": {
    "collapsed": false
   },
   "outputs": [],
   "source": [
    "F.save(\"midpoint\") # The extansion \".gar\" will be automatically added\n",
    "F1 = figure(\"midpoint\")  # the actual file is named \"midpoint.gar\"\n",
    "F1.asy_write(300,-.5,1.5,-1,1,\"midpoint2\",\"png\")\n",
    "Image(\"midpoint2.png\")"
   ]
  },
  {
   "cell_type": "markdown",
   "metadata": {
    "collapsed": false
   },
   "source": [
    "The same Gar archive file can be read by Graphic User Interface  [moebinv-gui](https://sourceforge.net/projects/gui.moebinv.p/) to this software, which allows modify and study figures by mouse clicks, [Ref.6](#refKisil20).\n",
    "\n",
    "[Back to ToC](#ToC)"
   ]
  },
  {
   "cell_type": "markdown",
   "metadata": {
    "collapsed": false
   },
   "source": [
    "<a id=\"measuringFigure\"></a>\n",
    "### Measuring on a figure\n",
    "We can measure that the constructed point is the midpoint indeed. The respective quantity is known as a Steiner power:"
   ]
  },
  {
   "cell_type": "code",
   "execution_count": null,
   "metadata": {
    "collapsed": false
   },
   "outputs": [],
   "source": [
    "def check_equality():\n",
    "    Res1 = F.measure(M, A, \"steiner_power\")\n",
    "    Res2 = F.measure(M, B, \"steiner_power\")\n",
    "\n",
    "    for i in range(len(Res1)):\n",
    "        print(f'Tangent distance are equal: {(Res2[i]-Res1[i]).normal().is_zero()}')\n",
    "\n",
    "check_equality()"
   ]
  },
  {
   "cell_type": "markdown",
   "metadata": {
    "collapsed": false
   },
   "source": [
    "Here we need to run a list because a \"cycle\" within a figure can encapsulate several quadrics, thus the result of measurement is given by a list with answers for all respective quadrics. \n",
    "\n",
    "Geometrically the Steiner power is equal to the square of tangential distance between cycles. Could it be that our midpoint construction works beyond points (zero radius cycles). We can check this for the unit circle and some other circle:"
   ]
  },
  {
   "cell_type": "code",
   "execution_count": null,
   "metadata": {
    "collapsed": false
   },
   "outputs": [],
   "source": [
    "F.move_cycle(A, cycle_data(1, [0, 0], -1)) # unit circle\n",
    "F.move_cycle(B, cycle_data(1, [2, 2], 4)) # center (2.2) and the radius 2\n",
    "check_equality()"
   ]
  },
  {
   "cell_type": "markdown",
   "metadata": {
    "collapsed": false
   },
   "source": [
    "We can even make a check for two generic cycles:"
   ]
  },
  {
   "cell_type": "code",
   "execution_count": null,
   "metadata": {
    "collapsed": false
   },
   "outputs": [],
   "source": [
    "k=realsymbol(\"k\")\n",
    "l=realsymbol(\"l\")\n",
    "n=realsymbol(\"n\")\n",
    "m=realsymbol(\"m\")\n",
    "\n",
    "k1=realsymbol(\"k1\", \"{k'}\")\n",
    "l1=realsymbol(\"l1\", \"{l'}\")\n",
    "n1=realsymbol(\"n1\", \"{n'}\")\n",
    "m1=realsymbol(\"m1\", \"{m'}\")\n",
    "\n",
    "F.move_cycle(A, cycle_data(k, [l, n], m)) # unit circle\n",
    "F.move_cycle(B, cycle_data(k1, [l1, n1], m1)) # center (2.2) and the radius 2\n",
    "\n",
    "check_equality()"
   ]
  },
  {
   "cell_type": "markdown",
   "metadata": {
    "collapsed": false
   },
   "source": [
    "Thus our claim is demonstrated by analytic computations. However a synthetic geometric proof is straightforward as well."
   ]
  },
  {
   "cell_type": "markdown",
   "metadata": {
    "collapsed": false
   },
   "source": [
    "[Back to ToC](#ToC)"
   ]
  },
  {
   "cell_type": "markdown",
   "metadata": {
    "collapsed": false
   },
   "source": [
    "<a id=\"modifyingFigure\"></a>\n",
    "### Modifying a figure\n",
    "\n",
    "Figures are not cut in marble, instead they can be efficiently edited or transformed. For our figure an interesting feature is that midpoint is well defined not only for endpoints of an interval. In fact, `A` and `B` can be any cycles. Let us replace `A` by the unit circle (cycle $(1,0,0,-1)$) and move `B` to the point (2,1): "
   ]
  },
  {
   "cell_type": "code",
   "execution_count": null,
   "metadata": {
    "collapsed": false
   },
   "outputs": [],
   "source": [
    "F.move_cycle(A, cycle_data(1, [-1, 0], -1))\n",
    "F.move_point(B, [2,1])"
   ]
  },
  {
   "cell_type": "markdown",
   "metadata": {
    "collapsed": false
   },
   "source": [
    "How does it look like?"
   ]
  },
  {
   "cell_type": "code",
   "execution_count": null,
   "metadata": {
    "collapsed": false
   },
   "outputs": [],
   "source": [
    "F.asy_write(300,-1.5,2.5,-1.5,2,\"midpoint3\",\"png\")\n",
    "Image(\"midpoint3.png\")"
   ]
  },
  {
   "cell_type": "markdown",
   "metadata": {
    "collapsed": false
   },
   "source": [
    "To clarify the role of the `inf` in the midpoint construction we can make a [fractional linear transformation](http://www1.maths.leeds.ac.uk/~kisilv/MoebInv-notebooks/Geometry_of_cycles/Start_from_Basics/What_is_cycle_product.html#FLT) of the entire figure "
   ]
  },
  {
   "cell_type": "code",
   "execution_count": null,
   "metadata": {
    "collapsed": false
   },
   "outputs": [],
   "source": [
    "F.reflection(cycle2D(1, [numeric(-1,4), numeric(-1,4)], numeric(-7,8)))\n",
    "F.asy_write(300,-1.5,2.5,-1.5,2,\"midpoint4\",\"png\")\n",
    "Image(\"midpoint4.png\")"
   ]
  },
  {
   "cell_type": "markdown",
   "metadata": {
    "collapsed": false
   },
   "source": [
    "It is a fun to find correspondence between two pictures and mediate on the performed transformation.\n",
    "\n",
    "Another puzzle is achieved if we change the cycle metric from Euclidean (elliptic) to hyperbolic and output the image to look which meaning does it have."
   ]
  },
  {
   "cell_type": "code",
   "execution_count": null,
   "metadata": {
    "collapsed": false
   },
   "outputs": [],
   "source": [
    "F.set_metric([-1,1])\n",
    "F.asy_write(300,-1.5,2.5,-1.5,2,\"midpoint5\",\"png\")\n",
    "Image(\"midpoint5.png\")"
   ]
  },
  {
   "cell_type": "markdown",
   "metadata": {
    "collapsed": false
   },
   "source": [
    "Finally, we may replace in our construction all Euclidean line by [Lobachevsky](http://www1.maths.leeds.ac.uk/~kisilv/MoebInv-notebooks/Introduction/Euclidean_and_Lobachevsky_lines.html), that is lines will be defined by orthogonality to the real line rather than to infinity. This can be easily achieved by moving `inf` cycle to the real line:"
   ]
  },
  {
   "cell_type": "code",
   "execution_count": null,
   "metadata": {
    "collapsed": false
   },
   "outputs": [],
   "source": [
    "F.set_metric([-1,-1])\n",
    "F.move_point(A, [0,.5])\n",
    "F.move_point(B, [2,1.5])\n",
    "F.move_cycle(inf, cycle_data(0, [0, 1], 0))\n",
    "F.asy_write(300,-1,3,-.5,3,\"midpoint6\",\"png\")\n",
    "Image(\"midpoint6.png\")"
   ]
  },
  {
   "cell_type": "markdown",
   "metadata": {
    "collapsed": false
   },
   "source": [
    "It can be checked that the construction indeed delivers the midpoint of the interval in the Lobachevsky half-plane geometry.\n",
    "\n",
    "There is a plenty of space for experiments and discoveries, which is the main aim the present software.\n",
    "\n",
    "[Back to ToC](#ToC)"
   ]
  },
  {
   "cell_type": "markdown",
   "metadata": {
    "collapsed": false
   },
   "source": [
    "<a id=\"furtherReading\"></a>\n",
    "## Further Reading\n",
    "\n",
    "We presented a simple example of the figure which essentially based on the single cycle relations (orthogonality). Although it may cover the main geometrical properties there are is versatile set of other [cycle relations](http://www1.maths.leeds.ac.uk/~kisilv/MoebInv-notebooks/Geometry_of_cycles/Start_from_Basics/What_is_cycle_relation.html). Geometric construction often require repeated sequences of operations, which can be efficiently realised by [subfigures](http://www1.maths.leeds.ac.uk/~kisilv/MoebInv-notebooks/Geometry_of_cycles/Start_from_Basics/What_is_subfigure.html).\n",
    "\n",
    "[Back to ToC](#ToC)\n",
    "\n",
    "Back to the [top-level Table of Contents](https://github.com/vvkisil/MoebInv-notebooks/blob/master/Table_of_contents.md)."
   ]
  },
  {
   "cell_type": "markdown",
   "metadata": {
    "collapsed": false
   },
   "source": [
    "<a id=\"references\"></a>\n",
    "### References\n",
    "\n",
    "   <a id=\"refKisil07\"></a>\n",
    "1. V.V. Kisil. *Starting with the group SL2(R).* Notices Amer. Math. Soc., [**54**(11):1458–1465](http://www.ams.org/notices/200711/tx071101458p.pdf), 2007. [arXiv:math/0607387](https://arxiv.org/abs/math/0607387), Zbl # 1137.22006.\n",
    "\n",
    "  <a id=\"refKisil12\"></a>\n",
    "2. V.V. Kisil. *Geometry of Möbius Transformations: Elliptic, Parabolic and Hyperbolic Actions of $SL_2(\\mathbb{R})$*. [Imperial College Press](https://www.worldscientific.com/worldscibooks/10.1142/p835), London, 2012. Includes a live DVD.\n",
    "\n",
    "  <a id=\"refKisilMN\"></a>\n",
    "3. V.V. Kisil, [*MoebInv notebooks*](https://github.com/vvkisil/MoebInv-notebooks), started at 2019.\n",
    "\n",
    "   <a id=\"refKisil18\"></a>\n",
    "4. V. V. Kisil. An extension of Mobius–Lie geometry with conformal ensembles of cycles and its implementation in a GiNaC library. Proc. Int. Geom. Cent., 11 (3):45–67, 2018. E-print: [arXiv:1512.02960](https://arxiv.org/abs/1512.02960). Project page: http://moebinv.sourceforge.net/.\n",
    "\n",
    "   <a id=\"refKisil19\"></a>\n",
    "5. V. V. Kisil. Möbius–Lie geometry and its extension. In I. M. Mladenov, G. Meng, and A. Yoshioka (eds.) Geometry, integrability and quantization XX, pages 13–61, Bulgar. Acad. Sci., Sofia, 2019. E-print: [arXiv:1811.10499](https://arxiv.org/abs/1811.10499).\n",
    "\n",
    "  <a id=\"refKisil20\"></a>\n",
    "6.  V. V. Kisil. *MoebInv: C++ libraries for manipulations in non-Euclidean geometry*. SoftwareX, **11**:100385, 2020. doi: [10.1016/j.softx.2019.100385](http://dx.doi.org/10.1016/j.softx.2019.100385).\n",
    "\n",
    "[Back to ToC](#ToC)\n",
    "\n",
    "Back to the [top-level Table of Contents](https://github.com/vvkisil/MoebInv-notebooks/blob/master/Table_of_contents.md)."
   ]
  }
 ],
 "metadata": {
  "kernelspec": {
   "argv": [
    "/usr/bin/python3",
    "-m",
    "ipykernel_launcher",
    "-f",
    "{connection_file}"
   ],
   "display_name": "Python 3",
   "env": null,
   "interrupt_mode": "signal",
   "language": "python",
   "metadata": null,
   "name": "python3"
  },
  "name": "What_is_figure.ipynb"
 },
 "nbformat": 4,
 "nbformat_minor": 2
}
