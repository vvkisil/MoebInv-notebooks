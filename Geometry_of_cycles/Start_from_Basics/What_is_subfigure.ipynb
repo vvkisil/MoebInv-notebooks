{
 "cells": [
  {
   "cell_type": "markdown",
   "id": "planned-allah",
   "metadata": {
    "collapsed": false
   },
   "source": [
    "<table style=\"width:100%\">\n",
    "    <tr>\n",
    "        <td>\n",
    "            <a href=\"http://www1.maths.leeds.ac.uk/~kisilv/MoebInv-notebooks/Geometry_of_cycles/Start_from_Basics/What_is_subfigure.html\">\n",
    "  <img src=\"../../svg/view-html.svg\" alt=\"View HTML\"/>\n",
    "            </a>\n",
    "        </td>\n",
    "        <td>\n",
    "<a href=\"https://github.com/vvkisil/MoebInv-notebooks/blob/master/Geometry_of_cycles/Start_from_Basics/What_is_subfigure.ipynb\">\n",
    "  <img src=\"../../svg/open-github.svg\" alt=\"Open In GitHub\"/>\n",
    "            </a>\n",
    "        </td>\n",
    "        <td>\n",
    "            <a href=\"https://colab.research.google.com/github/vvkisil/MoebInv-notebooks/blob/master/Geometry_of_cycles/Start_from_Basics/What_is_subfigure.ipynb\">\n",
    "  <img src=\"../../svg/exec-colab.svg\" alt=\"Run In Colab\"/>\n",
    "            </a>\n",
    "        </td>\n",
    "        <td>\n",
    "            <a href=\"https://codeocean.com/capsule/7952650/tree\">\n",
    "  <img src=\"../../svg/code-ocean.svg\" alt=\"Code Ocean\"/>\n",
    "            </a>\n",
    "        </td>\n",
    "    </tr>\n",
    " </table>\n"
   ]
  },
  {
   "cell_type": "markdown",
   "id": "voluntary-exercise",
   "metadata": {
    "collapsed": false
   },
   "source": [
    "# Start from the basics: What is a subfigure, anyway?\n",
    "### [Vladimir V Kisil](http://www1.maths.leeds.ac.uk/~kisilv/)\n",
    "\n",
    "While constructing [*figures*](https://colab.research.google.com/github/vvkisil/MoebInv-notebooks/blob/master/Geometry_of_cycles/Start_from_Basics/What_is_figure.ipynb) as ensembles of interrelated [*cycles*](https://colab.research.google.com/github/vvkisil/MoebInv-notebooks/blob/master/Geometry_of_cycles/Start_from_Basics/What_is_cycle.ipynb) we may have certain similar blocks. \n",
    "\n",
    "In brief: A **subfigure** is a figure which is (repeatedly) used within the main figure. In the programming terms subfigure is like a macro or subroutine, which is defined for repeated uses.\n",
    "\n",
    "For example, we may need midpoints of three sides of a triangle. To find each midpoint we shall draw several intermediate cycles, which are of no further value for our construction after midpoints are build. We can use a subfigure, which defines the midpoint for given two ens of an interval. Usage of subfigures has the following advantages:\n",
    "\n",
    "+ Defines a sequence of steps which can be straightforwardly applied many times.\n",
    "+ Hides all intermediate steps (cycles) which are not important for the whole construction. \n",
    "\n",
    "**Note:** *to execute the notebook you may need to [install software](https://colab.research.google.com/github/vvkisil/MoebInv-notebooks/blob/master/Introduction/Software_installation_GUI_integration.ipynb).* \n",
    "\n",
    "<a id=\"ToC\"></a>\n",
    "#### Table of contents of this notebook\n",
    "\n",
    "+ [Example: midpoint construction](#midpoint)\n",
    "  - [Preparing a subfigure](#preparation)\n",
    "  - [Using the subfigure](#usage)\n",
    "+ [Further reading](#furtherReading)\n",
    "+ [References](#references)\n",
    "\n",
    "Back to the [top-level Table of Contents](https://github.com/vvkisil/MoebInv-notebooks/blob/master/Table_of_contents.md)."
   ]
  },
  {
   "cell_type": "markdown",
   "id": "chinese-fighter",
   "metadata": {
    "collapsed": false
   },
   "source": [
    "<a id=\"midpoint\"></a>\n",
    "## Example: midpoint construction\n",
    "Assume that we want to build three midpoints of a triangle's sides. We already made a figure for the midpoint of an interval in the [notebook on figures](https://colab.research.google.com/github/vvkisil/MoebInv-notebooks/blob/master/Geometry_of_cycles/Start_from_Basics/What_is_figure.ipynb). In a straightforward way we may repeat this construction three times for a triangle. However, subfigures provide a smarter path. \n",
    "\n",
    "As usual, we need to start from the software initialisation."
   ]
  },
  {
   "cell_type": "code",
   "execution_count": 6,
   "id": "thermal-support",
   "metadata": {
    "collapsed": false
   },
   "outputs": [],
   "source": [
    "from figure import *\n",
    "from IPython.display import Image\n",
    "show_asy_off() # do not run external viewer"
   ]
  },
  {
   "cell_type": "markdown",
   "id": "cleared-rugby",
   "metadata": {
    "collapsed": false
   },
   "source": [
    "<a id=\"preparation\"></a>\n",
    "## Preparing a subfigure\n",
    "\n",
    "Which figure can serve as a subfigure? The only necessary condition is that cycles in *generation-0* (see [notebook on figures](https://colab.research.google.com/github/vvkisil/MoebInv-notebooks/blob/master/Geometry_of_cycles/Start_from_Basics/What_is_figure.ipynb) for the discussion) shall be specially named. These cycles need to be substituted by parents from the main figure and the order of the substitution shall not be ambiguous. \n",
    "\n",
    "More specifically, generation-0 cycles in a subfigure shall be named as `variable000`, `variable001`, and so on. We copy the construction from [notebook on figures](https://colab.research.google.com/github/vvkisil/MoebInv-notebooks/blob/master/Geometry_of_cycles/Start_from_Basics/What_is_figure.ipynb) with this amendment."
   ]
  },
  {
   "cell_type": "code",
   "execution_count": 7,
   "id": "developmental-cookie",
   "metadata": {
    "collapsed": false
   },
   "outputs": [],
   "source": [
    "SF=figure()\n",
    "v1=SF.add_cycle(cycle_data(1, [1,0], 1), \"variable000\") # Point (1,0)\n",
    "v2=SF.add_cycle(cycle_data(1, [0,0], 0), \"variable001\") # Origin\n",
    "v3=SF.add_cycle(cycle_data(0, [0,0], 1), \"variable002\") # Infinity"
   ]
  },
  {
   "cell_type": "markdown",
   "id": "dense-little",
   "metadata": {
    "collapsed": false
   },
   "source": [
    "The rest of the construction can be copied without alterations."
   ]
  },
  {
   "cell_type": "code",
   "execution_count": 8,
   "id": "empirical-curtis",
   "metadata": {
    "collapsed": false
   },
   "outputs": [
    {
     "data": {
      "text/plain": [
       "<cginac.symbol at 0x7f014cc9ceb0>"
      ]
     },
     "execution_count": 8,
     "metadata": {},
     "output_type": "execute_result"
    }
   ],
   "source": [
    "l=SF.add_cycle_rel([is_orthogonal(v1), is_orthogonal(v2), is_orthogonal(v3), only_reals()], \"l\");\n",
    "c=SF.add_cycle_rel([is_orthogonal(v1), is_orthogonal(v2), is_orthogonal(l), only_reals()], \"c\")\n",
    "p=SF.add_cycle_rel([is_orthogonal(v3), is_orthogonal(l), is_orthogonal(c), only_reals()], \"p\")\n",
    "SF.add_cycle_rel([is_orthogonal(l), is_orthogonal(p), is_orthogonal(), is_different(v3), only_reals()], \"midpoint\")              "
   ]
  },
  {
   "cell_type": "markdown",
   "id": "noble-thomas",
   "metadata": {
    "collapsed": false
   },
   "source": [
    "Although it is not strictly required, it worth to include its description for human beings. This will help to re-use the subfigure, notable in the Graphic User Interface  [moebinv-gui](https://sourceforge.net/projects/gui.moebinv.p/) to this software, which allows modify and study figures by mouse clicks, [Ref.6](#refKisil20).\n",
    "\n",
    "Here is an example of description for the midpoint."
   ]
  },
  {
   "cell_type": "code",
   "execution_count": 9,
   "id": "boxed-serum",
   "metadata": {
    "collapsed": false
   },
   "outputs": [],
   "source": [
    "SF.info_write(\"Midpoint in cycle metric.\\n\"\n",
    "\t      \" For two points provided the figure returns their midpoint.\\n\"\n",
    "\t      \" For three given points A, B and N the subfigure produces\\n\"\n",
    "\t      \" such a point C on the cycle passing A, B and N,\\n\"\n",
    "\t      \" such that the cross ratio of A, B, C, N is equal to 1.\\n\"\n",
    "\t      \" If N is infinity (the default value, if it is not supplied),\\n\"\n",
    "\t      \" then C is the midpoint between A and B as said above.\\n\"\n",
    "\t      \" More generally, for any two cycles A and B for N=infty\\n\"\n",
    "\t      \" figures returns the point between centres A and B\\n\"\n",
    "\t      \" which has equal tangential distance to A and B.\\n\\n\"\n",
    "\t      \"To use this subfigure provide cycles A, B and N in this order.\")"
   ]
  },
  {
   "cell_type": "markdown",
   "id": "strategic-mystery",
   "metadata": {
    "collapsed": false
   },
   "source": [
    "Now, the newly created  figure can be used in any way as described in [notebook on figures](https://colab.research.google.com/github/vvkisil/MoebInv-notebooks/blob/master/Geometry_of_cycles/Start_from_Basics/What_is_figure.ipynb): printed, drawn, saved, etc. Its usage as subfigure is described in the next subsection.\n",
    "\n",
    "[Back to ToC](#ToC)"
   ]
  },
  {
   "cell_type": "markdown",
   "id": "dress-frontier",
   "metadata": {
    "collapsed": false
   },
   "source": [
    "<a id=\"usage\"></a>\n",
    "## Using the subfigure\n",
    "\n",
    "Now we apply the above subfigure in the following way. Let us start a new figure, for fast computations float evaluation instead of exact arithmetic will be used."
   ]
  },
  {
   "cell_type": "code",
   "execution_count": 10,
   "id": "sublime-negotiation",
   "metadata": {
    "collapsed": false
   },
   "outputs": [
    {
     "data": {
      "text/plain": [
       "<cfigure.figure at 0x7f014cc9ad50>"
      ]
     },
     "execution_count": 10,
     "metadata": {},
     "output_type": "execute_result"
    }
   ],
   "source": [
    "F=figure()\n",
    "F.set_float_eval(True)"
   ]
  },
  {
   "cell_type": "markdown",
   "id": "little-hardware",
   "metadata": {
    "collapsed": false
   },
   "source": [
    "Three points making an equilateral triangle. "
   ]
  },
  {
   "cell_type": "code",
   "execution_count": 11,
   "id": "annual-administrator",
   "metadata": {
    "collapsed": false
   },
   "outputs": [],
   "source": [
    "A=F.add_point([0,1],\"A\")\n",
    "B=F.add_point([sqrt(3)/2,numeric(-1,2)],\"B\")\n",
    "C=F.add_point([-sqrt(3)/2,numeric(-1,2)],\"C\")"
   ]
  },
  {
   "cell_type": "markdown",
   "id": "compact-stack",
   "metadata": {
    "collapsed": false
   },
   "source": [
    "To make \"midpoint\" in a conformal way we need the third point (cycle). For now we take it the same as the infinity."
   ]
  },
  {
   "cell_type": "code",
   "execution_count": 12,
   "id": "unauthorized-fantasy",
   "metadata": {
    "collapsed": false
   },
   "outputs": [],
   "source": [
    "N=F.add_cycle(cycle_data(0,[0,0],1), \"N\")"
   ]
  },
  {
   "cell_type": "markdown",
   "id": "romantic-tokyo",
   "metadata": {
    "collapsed": false
   },
   "source": [
    "Now we add three midpoints through the subfigure:"
   ]
  },
  {
   "cell_type": "code",
   "execution_count": 13,
   "id": "boring-sigma",
   "metadata": {
    "collapsed": false
   },
   "outputs": [],
   "source": [
    "A1 = F.add_subfigure(SF, [B, C, N], \"A1\")\n",
    "B1 = F.add_subfigure(SF, [C, A, N], \"B1\")\n",
    "C1 = F.add_subfigure(SF, [B, A, N], \"C1\")"
   ]
  },
  {
   "cell_type": "markdown",
   "id": "split-virginia",
   "metadata": {
    "collapsed": false
   },
   "source": [
    "Let us see how does it look like:"
   ]
  },
  {
   "cell_type": "code",
   "execution_count": 14,
   "id": "seeing-calgary",
   "metadata": {
    "collapsed": false
   },
   "outputs": [
    {
     "data": {
      "image/png": "[encoded data removed]",
      "text/plain": [
       "<IPython.core.display.Image object>"
      ]
     },
     "execution_count": 14,
     "metadata": {},
     "output_type": "execute_result"
    }
   ],
   "source": [
    "F.asy_write(300,-1,1,-1,1,\"midpoint\",\"png\",with_realline=False)\n",
    "Image(\"midpoint.png\")"
   ]
  },
  {
   "cell_type": "markdown",
   "id": "ignored-child",
   "metadata": {
    "collapsed": false
   },
   "source": [
    "As we can see all intermediate cycles in the midpoints constructions are hidden and only the resulting midpoints are shown."
   ]
  },
  {
   "cell_type": "markdown",
   "id": "stock-riding",
   "metadata": {
    "collapsed": false
   },
   "source": [
    "There is no  reasons to stop here, we can repeat the process to create a Serpinsky-like pattern:"
   ]
  },
  {
   "cell_type": "code",
   "execution_count": 8,
   "id": "moving-excellence",
   "metadata": {
    "collapsed": false
   },
   "outputs": [],
   "source": [
    "V=[A1,B1,C1]\n",
    "L=[\"A\", \"B\", \"C\"]\n",
    "for i in range(5):\n",
    "    V1=[]\n",
    "    for j in range(3):\n",
    "        V1 = [F.add_subfigure(SF, [V[j % 3], V[(j+1) % 3], N], \"%s%s\" % (L[(j+2) % 3], i+2))] + V1\n",
    "        F.set_asy_style(V1[0], \"rgb(%s,%s,0)\" % (i*.2, (4-i)*.2))\n",
    "    V = V1"
   ]
  },
  {
   "cell_type": "markdown",
   "id": "surprised-dining",
   "metadata": {
    "collapsed": false
   },
   "source": [
    "To see the image we may want labels to be omitted:"
   ]
  },
  {
   "cell_type": "code",
   "execution_count": 9,
   "id": "collective-intensity",
   "metadata": {
    "collapsed": false
   },
   "outputs": [
    {
     "data": {
      "image/png": "[encoded data removed]",
      "text/plain": [
       "<IPython.core.display.Image object>"
      ]
     },
     "execution_count": 9,
     "metadata": {},
     "output_type": "execute_result"
    }
   ],
   "source": [
    "F.asy_write(300,-1,1,-1,1,\"midpoint2\",\"png\",with_realline=False, with_labels=False)\n",
    "Image(\"midpoint2.png\")"
   ]
  },
  {
   "cell_type": "markdown",
   "id": "iraqi-increase",
   "metadata": {
    "collapsed": false
   },
   "source": [
    "To bring a flavour Lobachevsky geometry we replace the cycle `N` from the infinity to the horizontal line. Then the straight lines in the construction will be replaced by \"lines\" in the [Lobachevsky geometry](http://www1.maths.leeds.ac.uk/~kisilv/MoebInv-notebooks/Introduction/Euclidean_and_Lobachevsky_lines.html) of the upper half-plane: arcs of circles perpendicular to the boundary."
   ]
  },
  {
   "cell_type": "code",
   "execution_count": null,
   "id": "domestic-admission",
   "metadata": {
    "collapsed": false
   },
   "outputs": [],
   "source": [
    "F.move_cycle(N,cycle_data(0, [0,1], -1.5))\n",
    "F.asy_write(300,-1,1,-1,1,\"midpoint3\",\"png\", with_realline=False, with_labels=False)\n",
    "Image(\"midpoint3.png\")"
   ]
  },
  {
   "cell_type": "markdown",
   "id": "appointed-batch",
   "metadata": {
    "collapsed": false
   },
   "source": [
    "[Back to ToC](#ToC)"
   ]
  },
  {
   "cell_type": "markdown",
   "id": "civic-twist",
   "metadata": {
    "collapsed": false
   },
   "source": [
    "<a id=\"furtherReading\"></a>\n",
    "## Further reading\n",
    "\n",
    "Subfigures are also very useful in [moebinv-GUI](http://moebinv.sourceforge.net/moebinv-gui-manual-whole004.html)—an interactive geometry package. A user can create/store extensive libraries of subfigures to be ready for instant usage during various geometric constructions. Subfigures and their libraries can be [easily interchanged](http://moebinv.sourceforge.net/moebinv-gui-manual-whole005.html) between `Python` script and interactive `moebinv-GUI`.\n",
    "\n",
    "We have considered the main features of the MoebInv package. A reader can now start his/her pwn exploration of the Lie spheres geometry. Our [*MoebInv notebooks*](https://github.com/vvkisil/MoebInv-notebooks) and [Ref.2](#refKisil12), [Ref.5](#refKisil19) can provide further inspiration.\n",
    "\n",
    "\n",
    "[Back to ToC](#ToC)"
   ]
  },
  {
   "cell_type": "markdown",
   "id": "authentic-following",
   "metadata": {
    "collapsed": false
   },
   "source": [
    "<a id=\"references\"></a>\n",
    "### References\n",
    "\n",
    "   <a id=\"refKisil07\"></a>\n",
    "1. V.V. Kisil. *Starting with the group SL2(R).* Notices Amer. Math. Soc., [**54**(11):1458–1465](http://www.ams.org/notices/200711/tx071101458p.pdf), 2007. [arXiv:math/0607387](https://arxiv.org/abs/math/0607387), Zbl # 1137.22006.\n",
    "\n",
    "  <a id=\"refKisil12\"></a>\n",
    "2. V.V. Kisil. *Geometry of Möbius Transformations: Elliptic, Parabolic and Hyperbolic Actions of $SL_2(\\mathbb{R})$*. [Imperial College Press](https://www.worldscientific.com/worldscibooks/10.1142/p835), London, 2012. Includes a live DVD.\n",
    "\n",
    "  <a id=\"refKisilMN\"></a>\n",
    "3. V.V. Kisil, [*MoebInv notebooks*](https://github.com/vvkisil/MoebInv-notebooks), stated at 2019.\n",
    "\n",
    "   <a id=\"refKisil18\"></a>\n",
    "4. V. V. Kisil. An extension of Mobius–Lie geometry with conformal ensembles of cycles and its implementation in a GiNaC library. Proc. Int. Geom. Cent., 11 (3):45–67, 2018. E-print: [arXiv:1512.02960](https://arxiv.org/abs/1512.02960). Project page: http://moebinv.sourceforge.net/.\n",
    "\n",
    "   <a id=\"refKisil19\"></a>\n",
    "5. V. V. Kisil. Möbius–Lie geometry and its extension. In I. M. Mladenov, G. Meng, and A. Yoshioka (eds.) Geometry, integrability and quantization XX, pages 13–61, Bulgar. Acad. Sci., Sofia, 2019. E-print: [arXiv:1811.10499](https://arxiv.org/abs/1811.10499).\n",
    "\n",
    "  <a id=\"refKisil20\"></a>\n",
    "6.  V. V. Kisil. *MoebInv: C++ libraries for manipulations in non-Euclidean geometry*. SoftwareX, **11**:100385, 2020. doi: [10.1016/j.softx.2019.100385](http://dx.doi.org/10.1016/j.softx.2019.100385).\n",
    "\n",
    "[Back to ToC](#ToC)\n",
    "\n",
    "Back to the [top-level Table of Contents](https://github.com/vvkisil/MoebInv-notebooks/blob/master/Table_of_contents.md)."
   ]
  }
 ],
 "metadata": {
  "kernelspec": {
   "argv": [
    "/usr/bin/python3",
    "-m",
    "ipykernel_launcher",
    "-f",
    "{connection_file}"
   ],
   "display_name": "Python 3",
   "env": null,
   "interrupt_mode": "signal",
   "language": "python",
   "metadata": null,
   "name": "python3"
  },
  "name": "What_is_subfigure.ipynb"
 },
 "nbformat": 4,
 "nbformat_minor": 5
}
