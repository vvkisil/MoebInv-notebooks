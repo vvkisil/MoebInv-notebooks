{
 "cells": [
  {
   "cell_type": "markdown",
   "id": "violent-equation",
   "metadata": {
    "collapsed": false
   },
   "source": [
    "<table style=\"width:100%\">\n",
    "    <tr>\n",
    "        <td>\n",
    "            <a href=\"http://www1.maths.leeds.ac.uk/~kisilv/MoebInv-notebooks/Geometry_of_cycles/Start_from_Basics/What_is_cycle_product.html\">\n",
    "  <img src=\"../../svg/view-html.svg\" alt=\"View HTML\"/>\n",
    "            </a>\n",
    "        </td>\n",
    "        <td>\n",
    "<a href=\"https://github.com/vvkisil/MoebInv-notebooks/blob/master/Geometry_of_cycles/Start_from_Basics/What_is_cycle_product.ipynb\">\n",
    "  <img src=\"../../svg/open-github.svg\" alt=\"Open In GitHub\"/>\n",
    "            </a>\n",
    "        </td>\n",
    "        <td>\n",
    "            <a href=\"https://colab.research.google.com/github/vvkisil/MoebInv-notebooks/blob/master/Geometry_of_cycles/Start_from_Basics/What_is_cycle_product.ipynb\">\n",
    "  <img src=\"../../svg/exec-colab.svg\" alt=\"Run In Colab\"/>\n",
    "            </a>\n",
    "        </td>\n",
    "        <td>\n",
    "            <a href=\"https://codeocean.com/capsule/7952650/tree\">\n",
    "  <img src=\"../../svg/code-ocean.svg\" alt=\"Code Ocean\"/>\n",
    "            </a>\n",
    "        </td>\n",
    "    </tr>\n",
    " </table>"
   ]
  },
  {
   "cell_type": "markdown",
   "id": "isolated-spokesman",
   "metadata": {
    "collapsed": false
   },
   "source": [
    "# Start from the basics: What is a cycle product, anyway?\n",
    "### [Vladimir V Kisil](http://www1.maths.leeds.ac.uk/~kisilv/)\n",
    "\n",
    "We use name *cycles* to denote quadrics. On a plane they are circles, parabolas and hyperbolas (together with limiting cases: straight lines and points). See [What is a cycle](https://colab.research.google.com/github/vvkisil/MoebInv-notebooks/blob/master/Geometry_of_cycles/Start_from_Basics/What_is_cycle.ipynb) for an introduction.\n",
    "\n",
    "Here we learn that cycles are better represented by points of a projective space. Furthermore, this space naturally posses a *cycle product*, which comprehensively reflects geometric properties of quadrics and [their ensembles —  *figures*](https://colab.research.google.com/github/vvkisil/MoebInv-notebooks/blob/master/Geometry_of_cycles/Start_from_Basics/What_is_figure.ipynb).  To avoid technicalities and stay visual we will work in two dimensions.\n",
    "\n",
    "**Note:** *to execute the notebook you may need to [install software](https://colab.research.google.com/github/vvkisil/MoebInv-notebooks/blob/master/Introduction/Software_installation_GUI_integration.ipynb).* \n",
    "\n",
    "<a id=\"ToC\"></a>\n",
    "#### Table of contents of this notebook\n",
    "\n",
    "+ [Projective space of cycles](#ProjectiveSpace)\n",
    "+ [Fractional linear transformations](#FLT)\n",
    "+ [Invariant cycles product](#CycleProduct)\n",
    "+ [Further reading](#furtherReading)\n",
    "+ [References](#references)\n",
    "\n",
    "Back to the [top-level Table of Contents](https://github.com/vvkisil/MoebInv-notebooks/blob/master/Table_of_contents.md)."
   ]
  },
  {
   "cell_type": "markdown",
   "id": "given-congress",
   "metadata": {
    "collapsed": false
   },
   "source": [
    "<a id=\"ProjectiveSpace\"></a>\n",
    "## Projective space of cycles\n",
    "A straightforward parametrisation of a circle equation:<a id=\"eq:circles-Pedoe\"></a>\n",
    "\\begin{equation}\n",
    "  x^2+y^2+2gx+2fy+c=0\n",
    "  \\tag{1}\n",
    "  \\label{eq:circles-Pedoe}\n",
    "\\end{equation}\n",
    "by a point $(g,f,c)$ in some subset of the three-dimensional Euclidean space $\\mathbb{R}^{3}$ was used in [Ref.9](#refPedoe), Ch.II. Abstractly we can treat a *point* $(x_0,y_0)$ of a plane as the zero-radius circle with coefficients $(g,f,c)=)(-x_0,-y_0,x_0^2+y_0^2)$.\n",
    "It is more advantageous to use the equation<a id=\"eq:cycle-generic\"></a>\n",
    "\\begin{equation}\n",
    "  k(x^2+y^2) -2lx -2ny +m=0,\n",
    "  \\tag{2}\n",
    "  \\label{eq:cycle-generic}\n",
    "\\end{equation}\n",
    "which also includes *straight lines* for $k=0$. This extension come at a price: parameters $(k,l,n,m)$ shall be treated as elements of the three dimensional projective space $P\\mathbb{R}^{3}$ rather than the Euclidean space $\\mathbb{R}^{4}$ since equations \\eqref{eq:cycle-generic} with $(k,l,n,m)$ and $(k_1,l_1,n_1,m_1)= (\\lambda k, \\lambda l, \\lambda n,\\lambda m)$ define the same set of points for any $\\lambda\\neq 0$. \n",
    "\n",
    "Next observation is that the linear structure of $P\\mathbb{R}^{3}$ is relevant for circles geometry. For example, the traditional concept of *pencil of circles* [Ref.2](#refCoxeter), §2.3 is nothing else but the linear span in $P\\mathbb{R}^{3}$ [Ref.10](#refSchwerdtfeger)*{§I.1.c}. Therefore, it will be convenient to accept all points $(k,l,n,m)\\in P\\mathbb{R}^{3}$ on equal ground even if they correspond to an empty set of solutions $(x,y)$ in \\eqref{eq:cycle-generic}. The latter can be thought as ``circles with imaginary radii''.\n",
    "\n",
    "Following [Ref.11](#refYaglom) we call circles (with real and imaginary radii), straight lines and points on a plane by joint name [*cycles*](https://colab.research.google.com/github/vvkisil/MoebInv-notebooks/blob/master/Geometry_of_cycles/Start_from_Basics/What_is_cycle.ipynb). Correspondingly, the space $P\\mathbb{R}^{3}$ representing them—the *cycles space*. \n",
    "\n",
    "An algebraic consideration often benefits from an introduction of complex number. For example, we can re-write \\eqref{eq:cycle-generic} as:<a id=\"eq:circle-complex-matrix\"></a>\n",
    "\\begin{align}\n",
    "  \\begin{pmatrix}\n",
    "    -1&\\bar{z}\n",
    "  \\end{pmatrix}\n",
    "  \\begin{pmatrix}\n",
    "    \\bar{L}&-m\\\\\n",
    "    k&-{L}\n",
    "  \\end{pmatrix}\n",
    "  \\begin{pmatrix}\n",
    "    z\\\\1\n",
    "  \\end{pmatrix}&=\n",
    "                 k z\\bar{z}-L\\bar{z}-\\bar{L}z+m\n",
    "\t\t \\tag{3}\n",
    "  \\label{eq:circle-complex-matrix}\n",
    "\t\t \\\\\n",
    "  \\nonumber \n",
    "  & =   k(x^2+y^2) -2lx -2ny +m.\n",
    "\\end{align}\n",
    "where $z=x+i y$ and $L=l+i n$.\n",
    "\n",
    "Let us check this computation using software. First we load the package and initialise some symbols for generic calculations. Thing will go much faster once all these preparation are done (see below)."
   ]
  },
  {
   "cell_type": "code",
   "execution_count": 1,
   "id": "educational-county",
   "metadata": {
    "collapsed": false
   },
   "outputs": [
    {
     "name": "stdout",
     "output_type": "stream",
     "text": [
      "            Python wrappers for MoibInv Library\n",
      "     ---------------------------------------------\n",
      "Please cite this software as\n",
      "V.V. Kisil, MoebInv: C++ libraries for manipulations in non-Euclidean geometry, SoftwareX, 11(2020),100385. doi:10.1016/j.softx.2019.100385.\n",
      "     ---------------------------------------------\n",
      "\n"
     ]
    },
    {
     "data": {
      "text/latex": [
       "FSCc expansion: ${(2 i)}  l y+ k y^{2}-m-{(2 i)}  n x+ k x^{2}$"
      ],
      "text/plain": [
       "<IPython.core.display.Latex object>"
      ]
     },
     "execution_count": 1,
     "metadata": {},
     "output_type": "execute_result"
    }
   ],
   "source": [
    "from cycle import *\n",
    "# Some symbols\n",
    "k=realsymbol(\"k\")\n",
    "l=realsymbol(\"l\")\n",
    "n=realsymbol(\"n\")\n",
    "m=realsymbol(\"m\")\n",
    "\n",
    "x=realsymbol(\"x\")\n",
    "y=realsymbol(\"y\")\n",
    "z=x+I*y\n",
    "L=l+I*n\n",
    "Latex(f'FSCc expansion: ${evalm(matrix([[-1,conjugate(z)]])*matrix([[conjugate(L),-m],[k, -L]])*matrix([[z],[1]])).op(0).expand()}$')"
   ]
  },
  {
   "cell_type": "markdown",
   "id": "manufactured-april",
   "metadata": {
    "collapsed": false
   },
   "source": [
    " We call  *Fillmore--Springer--Cnops construction* (or *FSCc* for short) the association of the matrix $$C= \\begin{pmatrix}\n",
    "    \\bar{L}&-m\\\\\n",
    "    k&-{L}\n",
    "  \\end{pmatrix}\n",
    "$$ to a cycle with coefficients $(k,l,n,m)$[Ref.3](#refFS), [Ref.1](#refCnops).\n",
    "\n",
    "A user MoebInv software rarely need FSCc matrix of a cycle, there are higher more convenient level tools instead. Nevertheless, the FSCc matrix can be obtained from a cycle as follows.  "
   ]
  },
  {
   "cell_type": "code",
   "execution_count": 2,
   "id": "fuzzy-sydney",
   "metadata": {
    "collapsed": false
   },
   "outputs": [],
   "source": [
    "mu=idx(symbol(\"mu\"),1) # We will use the paravector formalism which more similar to complex numbers\n",
    "e=clifford_unit(mu,diag_matrix([-1])) # Metric of the space is Euclidean"
   ]
  },
  {
   "cell_type": "markdown",
   "id": "other-omega",
   "metadata": {
    "collapsed": false
   },
   "source": [
    "Once everything is prepared, we define a cycle and print its FSCc matrix. We define\n",
    "$\\LaTeX$ command `\\clifford` $\\newcommand{\\clifford}[1][]{}$ to make the output smoother."
   ]
  },
  {
   "cell_type": "code",
   "execution_count": 3,
   "id": "recorded-waste",
   "metadata": {
    "collapsed": false
   },
   "outputs": [
    {
     "data": {
      "text/latex": [
       "Cycle $(k, {\\left(\\begin{array}{cc}l&n\\end{array}\\right)}^{{symbol11} }, m)$ has FSCc matrix $\\left(\\begin{array}{cc} n \\clifford[0]{e}^{{0} }+ \\clifford[0]{\\mathbf{1}} l&- m \\clifford[0]{\\mathbf{1}}\\\\ \\clifford[0]{\\mathbf{1}} k& n \\clifford[0]{e}^{{0} }- \\clifford[0]{\\mathbf{1}} l\\end{array}\\right)$"
      ],
      "text/plain": [
       "<IPython.core.display.Latex object>"
      ]
     },
     "execution_count": 3,
     "metadata": {},
     "output_type": "execute_result"
    }
   ],
   "source": [
    "C=cycle2D(k,[l,n],m,e)\n",
    "Latex(f'Cycle ${C}$ has FSCc matrix ${C.to_matrix()}$')"
   ]
  },
  {
   "cell_type": "markdown",
   "id": "thirty-ability",
   "metadata": {
    "collapsed": false
   },
   "source": [
    "Note that the software work in any dimensions, thus it is based on the Clifford algebras. In their terms $e^0$ shall read as the imaginary unit $i$ and $\\mathbb{1}$ is just the scalar $1$. There are also some tiny difference in signs with the above definition of FSCc. "
   ]
  },
  {
   "cell_type": "markdown",
   "id": "authentic-start",
   "metadata": {
    "collapsed": false
   },
   "source": [
    "A reader may expect a more straightforward realisation of the quadratic form \\eqref{eq:cycle-generic}, cf. [Ref.10](#refSchwerdtfeger), §I.1:<a id=\"eq:circle-complex-Schwerdtfeger\"></a>\n",
    "\\begin{equation}\n",
    "  \\begin{pmatrix}\n",
    "    \\bar{z} & 1\n",
    "  \\end{pmatrix}\n",
    "  \\begin{pmatrix}\n",
    "    k&-{L}\\\\\n",
    "    -\\bar{L}&m\n",
    "  \\end{pmatrix}\n",
    "  \\begin{pmatrix}\n",
    "    z\\\\1\n",
    "  \\end{pmatrix}=\n",
    "  k z\\bar{z}-L\\bar{z}-\\bar{L}z+m.\n",
    "  \\tag{4}\n",
    "  \\label{eq:circle-complex-Schwerdtfeger}\n",
    "\\end{equation}\n",
    "However, FSCc will show its benefits in the next section. Meanwhile, we note that a point $z$ corresponding to the zero radius cycle with the centre $z$ is represented to the matrix<a id=\"eq:zero-radius-defn\"></a>\n",
    "\\begin{equation}\n",
    "  Z=\n",
    "  \\begin{pmatrix}\n",
    "    \\bar{z} & -z \\bar{z}\\\\\n",
    "    1 & -z\n",
    "  \\end{pmatrix}\n",
    "  = \\frac{1}{2}\n",
    "  \\begin{pmatrix}\n",
    "    \\bar{z} & \\bar{z}\\\\\n",
    "    1 & 1\n",
    "  \\end{pmatrix}\n",
    "  \\begin{pmatrix}\n",
    "    1 & -z \\\\\n",
    "    1 & -z\n",
    "  \\end{pmatrix},\n",
    "  \\tag{5}\n",
    "  \\label{eq:zero-radius-defn}\n",
    "\\end{equation}\n",
    "where $\\det Z=0$.  More generally, $$\\det   \\begin{pmatrix}\n",
    "    \\bar{L}&-m\\\\\n",
    "    k&-{L}\n",
    "  \\end{pmatrix} = -k^2 r^2\n",
    "$$ for $k\\neq 0$ and the cycle's radius $r$. "
   ]
  },
  {
   "cell_type": "markdown",
   "id": "forbidden-ecology",
   "metadata": {
    "collapsed": false
   },
   "source": [
    "Zero-radius cycle can be treated as follows:"
   ]
  },
  {
   "cell_type": "code",
   "execution_count": 4,
   "id": "retained-doctor",
   "metadata": {
    "collapsed": false
   },
   "outputs": [
    {
     "data": {
      "text/latex": [
       "Cycle $(1, {\\left(\\begin{array}{cc}u&v\\end{array}\\right)}^{{symbol19} }, v^{2}+u^{2})$ has the determinant $0$"
      ],
      "text/plain": [
       "<IPython.core.display.Latex object>"
      ]
     },
     "execution_count": 4,
     "metadata": {},
     "output_type": "execute_result"
    }
   ],
   "source": [
    "u=realsymbol(\"u\")\n",
    "v=realsymbol(\"v\")\n",
    "Z = cycle2D([u,v], e)\n",
    "Latex(f'Cycle ${Z}$ has the determinant ${Z.to_matrix().determinant()}$')"
   ]
  },
  {
   "cell_type": "markdown",
   "id": "occasional-gamma",
   "metadata": {
    "collapsed": false
   },
   "source": [
    "[Back to ToC](#ToC)"
   ]
  },
  {
   "cell_type": "markdown",
   "id": "equal-parent",
   "metadata": {
    "collapsed": false
   },
   "source": [
    "<a id=\"FLT\"></a>\n",
    "## Fractional linear transformations and the invariant product\n",
    "\n",
    "In the spirit of [Erlangen programme](https://en.wikipedia.org/wiki/Erlangen_program) of Felix Klein (greatly influenced by Sophus Lie), a consideration of cycle geometry is based on a group of transformations preserving this family \\cites{Kisil06a,Kisil12a}. \n",
    "Let $$M=\n",
    "\\begin{pmatrix}\n",
    "  \\alpha  &\\beta\\\\ \\gamma & \\delta \n",
    "\\end{pmatrix}$$ be an invertible $2\\times 2$ complex matrix. Then the *fractional linear transformation* (*FLT* for short) of the extended complex plane $\\dot{\\mathbb{C}^{}}= \\mathbb{C}^{}\\cup \\{\\infty\\}$ is defined by:<a id=\"eq:FLT-defn\"></a>\n",
    "\\begin{equation}\n",
    "  \\begin{pmatrix}\n",
    "    \\alpha  &\\beta\\\\ \\gamma & \\delta \n",
    "  \\end{pmatrix}: z \\mapsto \\frac{\\alpha z +\\beta}{\\gamma z +\\delta}\n",
    "  \\tag{6}\n",
    "  \\label{eq:FLT-defn}\n",
    "\\end{equation}\n",
    "Note that the point at infinity can be also represented by a zero-radius cycle:<a id=\"eq:infinity-cycle\"></a>\n",
    "\\begin{equation}\n",
    "  C_\\infty =\n",
    "  \\begin{pmatrix}\n",
    "    0& -1\\\\0&0\n",
    "  \\end{pmatrix} \\qquad \\text{or}\\qquad\n",
    "  (k,l,n,m)=(0,0,0,1).\n",
    "  \\tag{7}\n",
    "  \\label{eq:infinity-cycle}\n",
    "\\end{equation}\n",
    "It will be convenient to introduce the notation $\\bar{M}$ for the matrix $$\n",
    "\\begin{pmatrix}\n",
    "  \\bar{\\alpha}  &\\bar{\\beta}\\\\ \\bar{\\gamma} & \\bar{\\delta} \n",
    "\\end{pmatrix}$$ with complex conjugated entries of $M$. For a cycle $C$ the matrix $\\bar{C}$ corresponds to the reflection of $C$ in the real axis $y=0$.  Also due to special structure of FSCc matrix we easily check that<a id=\"eq:conjugated-inverse\"></a>\n",
    "\\begin{equation}\n",
    "  \\bar{C}C={C}\\bar{C}=-\\det(C)I\n",
    "  \\qquad \\text{or} \\qquad\n",
    "  \\bar{C} \\sim C^{-1} \\text{ projectively if } \\det(C)\\neq 0.\n",
    "  \\tag{8}\n",
    "  \\label{eq:conjugated-inverse}\n",
    "\\end{equation}\n",
    "\n",
    "**Lemma**.  *The transformation \\eqref{eq:FLT-defn} maps a cycle* $$C=  \\begin{pmatrix}\n",
    "    \\bar{L}&-m\\\\\n",
    "    k&-{L}\n",
    "  \\end{pmatrix}\n",
    "$$ *into a cycle* $$C_1=  \\begin{pmatrix}\n",
    "    \\bar{L}_1&-m_1\\\\\n",
    "    k_1&-{L}_1\n",
    "  \\end{pmatrix}\n",
    "  $$ *such that* $C_1= \\bar{M} C M^{-1}$.\n",
    "\n",
    "For the matrix form \\eqref{eq:circle-complex-Schwerdtfeger} the above matrix similarity needs to be replaced by the matrix congruence  $C_1= M^* C M$ [Ref.10](#refSchwerdtfeger), §II.6.e. \n",
    "\n",
    "[Back to ToC](#ToC)"
   ]
  },
  {
   "cell_type": "markdown",
   "id": "regulated-strip",
   "metadata": {
    "collapsed": false
   },
   "source": [
    "<a id=\"CycleProduct\"></a>\n",
    "## Invariant cycle product\n",
    "This difference is significant in view of the following definition.\n",
    "\n",
    "**Definition**.\n",
    "    *For two cycles $C$ and $C_1$ define the *cycles product* by:*<a id=\"eq:cycles-product-defn\"></a>\n",
    "  \\begin{equation}\n",
    "    〈C, C_1〉=-\\mathbf{tr}(C\\bar{C}_1),\n",
    "    \\tag{9}\n",
    "    \\label{eq:cycles-product-defn}\n",
    "  \\end{equation}\n",
    "  *where $\\mathbf{tr}$ denotes the trace of a matrix*.\n",
    "  \n",
    "  *We call two cycles $C$ and $C_1$ *orthogonal* if $〈C, C_1〉=0$*.\n",
    "\n",
    "It is easy to find the explicit expression of the cycle product \\eqref{eq:cycles-product-defn}:\n",
    "Let us define the second cycle:"
   ]
  },
  {
   "cell_type": "code",
   "execution_count": 5,
   "id": "consolidated-bonus",
   "metadata": {
    "collapsed": false
   },
   "outputs": [
    {
     "data": {
      "text/latex": [
       "Cycle product if two cycles is: $-2  {n'} n+ {m'} k+ m {k'}-2  {l'} l$"
      ],
      "text/plain": [
       "<IPython.core.display.Latex object>"
      ]
     },
     "execution_count": 5,
     "metadata": {},
     "output_type": "execute_result"
    }
   ],
   "source": [
    "k1=realsymbol(\"k1\", \"{k'}\")\n",
    "l1=realsymbol(\"l1\", \"{l'}\")\n",
    "n1=realsymbol(\"n1\", \"{n'}\")\n",
    "m1=realsymbol(\"m1\", \"{m'}\")\n",
    "\n",
    "C1=cycle2D(k1,[l1,n1],m1,e)\n",
    "Latex(f'Cycle product if two cycles is: ${C.cycle_product(C1)}$')"
   ]
  },
  {
   "cell_type": "markdown",
   "id": "amended-surface",
   "metadata": {
    "collapsed": false
   },
   "source": [
    "That is for the complex plane with $\\sigma =-1$ we have<a id=\"eq:cycle-product-explicit\"></a>\n",
    "\\begin{equation}\n",
    "  〈C, C_1〉 = km_1+k_1m-2ll_1-2nn_1,\n",
    "  \\tag{10}\n",
    "  \\label{eq:cycle-product-explicit}\n",
    "\\end{equation}\n",
    "and observe that it is linear in coefficients of the cycle $C$ (and $C_1$ as well).\n",
    "On the other hand, it is the initial definition \\eqref{eq:cycles-product-defn}, which allows us to use the invariance of trace under matrix similarity to conclude:\n",
    "**Corolloray**\n",
    "  *The cycles product is invariant under the transformation $C\\mapsto    \\bar{M} C M^{-1}$. Therefore FLT \\eqref{eq:FLT-defn} preserves orthogonality of cycles.*\n",
    "\n",
    "The cycle product is a rather recent addition to the cycle geometry, see independent works [Ref.3](#refFS) [Ref.1](#refCnops). Interestingly, the expression \\eqref{eq:cycles-product-defn} essentially repeats the [GNS-construction](https://en.wikipedia.org/wiki/Gelfand-Naimark-Segal_construction) in $C^*$-algebras which is older by a half of century at least.\n",
    "\n",
    "<a id=\"aboutOrthogonality\"></a>\n",
    "The cycles product and cycles orthogonality encode a great amount of geometrical characteristics, e.g.:\n",
    "\n",
    "+   A cycle is a straight line if it is orthogonal\n",
    "    $〈C, C_\\infty〉=0$ to the zero-radius cycle at\n",
    "    infinity $C_\\infty$ \\eqref{eq:infinity-cycle}.\n"
   ]
  },
  {
   "cell_type": "code",
   "execution_count": 6,
   "id": "waiting-reminder",
   "metadata": {
    "collapsed": false
   },
   "outputs": [
    {
     "data": {
      "text/latex": [
       "Infinity cycle: $(0, {\\left(\\begin{array}{cc}0&0\\end{array}\\right)}^{{symbol72} }, 1)$. Product with it is: $k==0$"
      ],
      "text/plain": [
       "<IPython.core.display.Latex object>"
      ]
     },
     "execution_count": 6,
     "metadata": {},
     "output_type": "execute_result"
    }
   ],
   "source": [
    "Zinf=cycle2D(0,[0,0],1,e)\n",
    "Latex(f'Infinity cycle: ${Zinf}$. Product with it is: ${C.is_orthogonal(Zinf)}$')"
   ]
  },
  {
   "cell_type": "markdown",
   "id": "trained-transition",
   "metadata": {
    "collapsed": false
   },
   "source": [
    "+ <a id=\"eq:it:point-zero-radius\"></a>\n",
    "  A cycle $Z$ represents a point if $Z$ is\n",
    "  self-orthogonal (*isotropic*):\n",
    "  $〈Z, Z〉=0$. More generally, \\eqref{eq:conjugated-inverse} implies:\n",
    " \\begin{equation}\n",
    "  \\label{eq:cycles-self-product-is-det}\n",
    "  〈C, C〉=2\\det(C).\n",
    " \\end{equation}"
   ]
  },
  {
   "cell_type": "code",
   "execution_count": 7,
   "id": "understood-child",
   "metadata": {
    "collapsed": false
   },
   "outputs": [
    {
     "data": {
      "text/latex": [
       "Point is self-orthogonal: True. Self-product is tvice determinant: True"
      ],
      "text/plain": [
       "<IPython.core.display.Latex object>"
      ]
     },
     "execution_count": 7,
     "metadata": {},
     "output_type": "execute_result"
    }
   ],
   "source": [
    "Latex(f'Point is self-orthogonal: {bool(Z.is_orthogonal(Z))}. '\n",
    "      +(f'Self-product is tvice determinant: {(C.cycle_product(C)-2*remove_dirac_ONE(C.to_matrix().determinant())).is_zero()}'))\n"
   ]
  },
  {
   "cell_type": "markdown",
   "id": "interstate-upset",
   "metadata": {
    "collapsed": false
   },
   "source": [
    "+ A cycle $C$ passes a point $Z$ if they are orthogonal $〈C, Z〉=0$."
   ]
  },
  {
   "cell_type": "code",
   "execution_count": 8,
   "id": "single-discipline",
   "metadata": {
    "collapsed": false
   },
   "outputs": [
    {
     "data": {
      "text/latex": [
       "Equation for othogonality $-2  l u+m-2  n v+ k u^{2}+ v^{2} k==0$ is the same as for passing: $-2  l u+m-2  n v+ k u^{2}+ v^{2} k==0$"
      ],
      "text/plain": [
       "<IPython.core.display.Latex object>"
      ]
     },
     "execution_count": 8,
     "metadata": {},
     "output_type": "execute_result"
    }
   ],
   "source": [
    "Latex(f'Equation for othogonality ${C.is_orthogonal(Z)}$ is the same as for passing: ${C.passing([u,v])}$')"
   ]
  },
  {
   "cell_type": "markdown",
   "id": "hydraulic-battlefield",
   "metadata": {
    "collapsed": false
   },
   "source": [
    "+ A cycles represents a line in Lobachevsky   geometry if it is orthogonal\n",
    "  $〈C, C_{\\mathbb{R}}〉=0$  to the real line cycle\n",
    "  $$C_{\\mathbb{R}^{}}=\n",
    "  \\begin{pmatrix}\n",
    "    i &0\\\\0& i\n",
    "  \\end{pmatrix}\n",
    "  $$."
   ]
  },
  {
   "cell_type": "code",
   "execution_count": 9,
   "id": "removable-seattle",
   "metadata": {
    "collapsed": false
   },
   "outputs": [
    {
     "data": {
      "text/latex": [
       "Orthogonality to the real line: $-2  n==0$"
      ],
      "text/plain": [
       "<IPython.core.display.Latex object>"
      ]
     },
     "execution_count": 9,
     "metadata": {},
     "output_type": "execute_result"
    }
   ],
   "source": [
    "CR = cycle2D(0,[0,1],0,e)\n",
    "Latex(f'Orthogonality to the real line: ${C.is_orthogonal(CR)}$')"
   ]
  },
  {
   "cell_type": "markdown",
   "id": "first-recognition",
   "metadata": {
    "collapsed": false
   },
   "source": [
    "+ Two cycles are orthogonal as subsets of a plane (i.e. they have perpendicular tangents at an intersection point)  if they are   orthogonal in the sense of cycle product Definition.\n",
    "  \n",
    "  Indeed, let us:\n",
    "  * Build a generic cycle `C2` orthogonal to `C`.\n",
    "  * Find centres of both cycles and distance $d$ between them. \n",
    "  * Check the Pythagoras rule $d^2=r^2 + r_2^2$."
   ]
  },
  {
   "cell_type": "code",
   "execution_count": 10,
   "id": "right-ambassador",
   "metadata": {
    "collapsed": false
   },
   "outputs": [
    {
     "data": {
      "text/plain": [
       "'Both orthogonalities are the same: True'"
      ]
     },
     "execution_count": 10,
     "metadata": {},
     "output_type": "execute_result"
    }
   ],
   "source": [
    "C2=C1.subject_to([C1.is_orthogonal(C)])\n",
    "P=C.center()\n",
    "P2=C2.center()\n",
    "f'Both orthogonalities are the same: {((P[0]-P2[0])**2+(P[1]-P2[1])**2-C.radius_sq()-C2.radius_sq()).expand().normal().is_zero()}'\n"
   ]
  },
  {
   "cell_type": "markdown",
   "id": "subtle-default",
   "metadata": {
    "collapsed": false
   },
   "source": [
    "+ Two cycles $C$ and $C_1$\n",
    "  are *tangent* if\n",
    "   $$ 〈C, C_1〉^2\n",
    "    =  〈C, C〉\n",
    "    〈C_1, C_1〉\n",
    "    $$\n",
    "    \n",
    "    Indeed, let us:\n",
    "    * Pick a point $(u,v$ and find the distance to $d$ to the centre of `C`\n",
    "    * Define a cycle `C3` with centre $(u,v)$ and the radius $r_3=d-r$.\n",
    "    * Check the formula for `C` and ``C3`."
   ]
  },
  {
   "cell_type": "code",
   "execution_count": 11,
   "id": "proper-adams",
   "metadata": {
    "collapsed": false
   },
   "outputs": [
    {
     "data": {
      "text/plain": [
       "'Tangency condition is correct: True'"
      ]
     },
     "execution_count": 11,
     "metadata": {},
     "output_type": "execute_result"
    }
   ],
   "source": [
    "d = sqrt((P[0]-u)**2+(P[1]-v)**2)\n",
    "r3_sq=((d-sqrt(C.radius_sq()))**2).expand()\n",
    "C3=cycle2D([u,v],e, r3_sq)\n",
    "f'Tangency condition is correct: {(C.cycle_product(C3)**2- C.cycle_product(C)*C3.cycle_product(C3)).expand().normal().is_zero()}'"
   ]
  },
  {
   "cell_type": "markdown",
   "id": "tropical-tablet",
   "metadata": {
    "collapsed": false
   },
   "source": [
    "+  The *inversive distance* [Ref.2](#refCoxeter), §5.8 $\\theta$ of two (non-isotropic) cycles is defined by the formula:\n",
    "  \\begin{equation}\n",
    "    \\label{eq:inversive-distance}\n",
    "    \\theta     =  \\frac{〈C, C_1〉}{\\sqrt{\n",
    "    〈C, C〉 〈C_1, C_1〉}}.\n",
    "  \\end{equation}\n",
    "  In particular, the above discussed orthogonality corresponds to\n",
    "  $\\theta=0$ and the tangency to $\\theta=\\pm1$. For intersecting\n",
    "  cycles $\\theta$ is the cosine of the intersecting\n",
    "  angle. Out of curiosity we may want to find its cumbersome explicit formula"
   ]
  },
  {
   "cell_type": "code",
   "execution_count": 12,
   "id": "tender-arrest",
   "metadata": {
    "collapsed": false
   },
   "outputs": [
    {
     "data": {
      "text/latex": [
       "Inversive distance is: $\\displaystyle -\\frac{1}{2} \\frac{2  {n'} n- {m'} k- m {k'}+2  {l'} l}{\\sqrt{ {(l^{2}+n^{2}- m k)} {({l'}^{2}+{n'}^{2}- {m'} {k'})}}}$"
      ],
      "text/plain": [
       "<IPython.core.display.Latex object>"
      ]
     },
     "execution_count": 12,
     "metadata": {},
     "output_type": "execute_result"
    }
   ],
   "source": [
    "Latex(f'Inversive distance is: $\\displaystyle {(C.cycle_product(C1)/sqrt(C.cycle_product(C) * C1.cycle_product(C1))).normal()}$')"
   ]
  },
  {
   "cell_type": "markdown",
   "id": "thousand-quilt",
   "metadata": {
    "collapsed": false
   },
   "source": [
    "+ A generalisation of Steiner power $d$ of two cycles is defined\n",
    "  as, cf. [Ref.3](#refFS), §1.1:\n",
    "  $$    d=    〈C, C_1〉    + \\sqrt{〈C, C〉  〈C_1, C_1〉},  $$\n",
    "  where both cycles $C$ and $C_1$ are scaled to have $k=1$ and $k_1=1$. Geometrically, the\n",
    "  generalised Steiner power for spheres provides the square of\n",
    "  tangential distance."
   ]
  },
  {
   "cell_type": "code",
   "execution_count": 13,
   "id": "brazilian-extent",
   "metadata": {
    "collapsed": false
   },
   "outputs": [
    {
     "data": {
      "text/latex": [
       "Steiner powe is: $\\displaystyle -2  {n'} n+{m'}+m-2  {l'} l+2 \\sqrt{ {(l^{2}-m+n^{2})} {({l'}^{2}-{m'}+{n'}^{2})}}$"
      ],
      "text/plain": [
       "<IPython.core.display.Latex object>"
      ]
     },
     "execution_count": 13,
     "metadata": {},
     "output_type": "execute_result"
    }
   ],
   "source": [
    "Cn=cycle2D(1, [l, n], m, e) # k-normalised cycles \n",
    "C1n=cycle2D(1, [l1, n1], m1, e)\n",
    "Latex(f'Steiner powe is: $\\displaystyle {(Cn.cycle_product(C1n) +sqrt(Cn.cycle_product(Cn) * C1n.cycle_product(C1n))).normal()}$')"
   ]
  },
  {
   "cell_type": "markdown",
   "id": "current-kingdom",
   "metadata": {
    "collapsed": false
   },
   "source": [
    "The cycles product is *indefinite*, see [Ref.4](#refGohberg) for an  account of the theory with some refreshing differences to the more familiar situation of inner product spaces. One illustration is the presence of self-orthogonal non-zero vectors, see zero-radius cycles above. Another noteworthy observation is that the product \\eqref{eq:cycle-product-explicit} has the Lorentzian signature $(1,3)$ and $\\mathbb{R}^{4}$ with this product is isomorphic to Minkowski space-time. \n",
    "\n",
    "[Back to ToC](#ToC)"
   ]
  },
  {
   "cell_type": "markdown",
   "id": "unexpected-warning",
   "metadata": {
    "collapsed": false
   },
   "source": [
    "<a id=\"furtherReading\"></a>\n",
    "## Further Reading\n",
    "\n",
    "The cycle product is the main source of [cycle relations](http://www1.maths.leeds.ac.uk/~kisilv/MoebInv-notebooks/Geometry_of_cycles/Start_from_Basics/What_is_cycle_relation.html) which allow us to build various [figures](http://www1.maths.leeds.ac.uk/~kisilv/MoebInv-notebooks/Geometry_of_cycles/Start_from_Basics/What_is_figure.html). \n",
    "\n",
    "[Back to ToC](#ToC)\n",
    "\n",
    "Back to the [top-level Table of Contents](https://github.com/vvkisil/MoebInv-notebooks/blob/master/Table_of_contents.md)."
   ]
  },
  {
   "cell_type": "markdown",
   "id": "opened-playback",
   "metadata": {
    "collapsed": false
   },
   "source": [
    "<a id=\"references\"></a>\n",
    "### References\n",
    "\n",
    "  <a id=\"refCnops\"></a>\n",
    "1. J. Cnops, *Hurwitz pairs and applications of Möbius transformations*. Habilitation Dissertation, Universiteit Gent, 1994. \n",
    "\n",
    "  <a id=\"refCoxeter\"></a>\n",
    "2.  H. S. M. Coxeter and S. L. Greitzer. *Geometry revisited*. Random House, New York, 1967.\n",
    "Zbl0166.16402.\n",
    "\n",
    "  <a id=\"refFS\"></a>\n",
    "3.  J. P. Fillmore and A. Springer. *Möbius groups over general fields using Clifford algebras associated with spheres*. Internat. J. Theoret. Phys., **29** (3):225–246, 1990.\n",
    "\n",
    "  <a id=\"refGohberg\"></a>\n",
    "4.  I. Gohberg, P. Lancaster, and L. Rodman. *Indefinite linear algebra and applications*. Birkhäuser Verlag, Basel, 2005.\n",
    "\n",
    "   <a id=\"refKisil07\"></a>\n",
    "5. V.V. Kisil. *Starting with the group SL2(R).* Notices Amer. Math. Soc., [**54**(11):1458–1465](http://www.ams.org/notices/200711/tx071101458p.pdf), 2007. [arXiv:math/0607387](https://arxiv.org/abs/math/0607387), Zbl # 1137.22006.\n",
    "\n",
    "  <a id=\"refKisil12\"></a>\n",
    "6. Vladimir V. Kisil. *Geometry of Möbius Transformations: Elliptic, Parabolic and Hyperbolic Actions of $SL_2(\\mathbb{R})$*. [Imperial College Press](https://www.worldscientific.com/worldscibooks/10.1142/p835), London, 2012. Includes a live DVD.\n",
    "\n",
    "  <a id=\"refKisilMN\"></a>\n",
    "7.  Vladimir V. Kisil, [*MoebInv notebooks*](https://github.com/vvkisil/MoebInv-notebooks), 2019.\n",
    "\n",
    "  <a id=\"refKisil20\"></a>\n",
    "8.  V. V. Kisil. *MoebInv: C++ libraries for manipulations in non-Euclidean geometry*. SoftwareX, **11**:100385, 2020. doi: [10.1016/j.softx.2019.100385](http://dx.doi.org/10.1016/j.softx.2019.100385).\n",
    "\n",
    "  <a id=\"refPedoe\"></a>\n",
    "9. D. Pedoe. *Circles: A mathematical view*. MAA Spectrum. Mathematical Association of America, Washington, DC, 1995. Revised reprint of the 1979 edition, With a biographical appendix on Karl Feuerbach by Laura Guggenbuhl.\n",
    "\n",
    "  <a id=\"refSchwerdtfeger\"></a>\n",
    "10. H. Schwerdtfeger. *Geometry of complex numbers: Circle geometry, Möbius transformation, non-Euclidean geometry*. Dover Books on Advanced Mathematics. Dover Publications Inc., New York, 1979. A corrected reprinting of the 1962 edition.\n",
    "\n",
    "  <a id=\"refYaglom\"></a>\n",
    "11. I. M. Yaglom. *A Simple Non-Euclidean Geometry and Its Physical Basis.* Heidelberg Science Library. Springer-Verlag, New York, 1979. Translated from the Russian by Abe Shenitzer, with the editorial assistance of Basil Gordon.\n",
    "\n",
    "[Back to ToC](#ToC)\n",
    "\n",
    "Back to the [top-level Table of Contents](https://github.com/vvkisil/MoebInv-notebooks/blob/master/Table_of_contents.md)."
   ]
  }
 ],
 "metadata": {
  "kernelspec": {
   "argv": [
    "/usr/bin/python3",
    "-m",
    "ipykernel_launcher",
    "-f",
    "{connection_file}"
   ],
   "display_name": "Python 3",
   "env": null,
   "interrupt_mode": "signal",
   "language": "python",
   "metadata": null,
   "name": "python3"
  },
  "name": "What_is_cycle_product.ipynb"
 },
 "nbformat": 4,
 "nbformat_minor": 5
}
