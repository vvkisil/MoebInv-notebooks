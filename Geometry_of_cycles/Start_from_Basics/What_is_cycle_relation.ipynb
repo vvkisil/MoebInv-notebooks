{
 "cells": [
  {
   "cell_type": "markdown",
   "id": "perceived-privilege",
   "metadata": {
    "collapsed": false
   },
   "source": [
    "<table style=\"width:100%\">\n",
    "    <tr>\n",
    "        <td>\n",
    "            <a href=\"http://www1.maths.leeds.ac.uk/~kisilv/MoebInv-notebooks/Geometry_of_cycles/Start_from_Basics/What_is_cycle_product.html\">\n",
    "  <img src=\"../../svg/view-html.svg\" alt=\"View HTML\"/>\n",
    "            </a>\n",
    "        </td>\n",
    "        <td>\n",
    "<a href=\"https://github.com/vvkisil/MoebInv-notebooks/blob/master/Geometry_of_cycles/Start_from_Basics/What_is_cycle_product.ipynb\">\n",
    "  <img src=\"../../svg/open-github.svg\" alt=\"Open In GitHub\"/>\n",
    "            </a>\n",
    "        </td>\n",
    "        <td>\n",
    "            <a href=\"https://colab.research.google.com/github/vvkisil/MoebInv-notebooks/blob/master/Geometry_of_cycles/Start_from_Basics/What_is_cycle_product.ipynb\">\n",
    "  <img src=\"../../svg/exec-colab.svg\" alt=\"Run In Colab\"/>\n",
    "            </a>\n",
    "        </td>\n",
    "        <td>\n",
    "            <a href=\"https://codeocean.com/capsule/7952650/tree\">\n",
    "  <img src=\"../../svg/code-ocean.svg\" alt=\"Code Ocean\"/>\n",
    "            </a>\n",
    "        </td>\n",
    "    </tr>\n",
    " </table>"
   ]
  },
  {
   "cell_type": "markdown",
   "id": "periodic-athletics",
   "metadata": {
    "collapsed": false
   },
   "source": [
    "# Start from the basics: What is a cycle relation, anyway?\n",
    "### [Vladimir V Kisil](http://www1.maths.leeds.ac.uk/~kisilv/)\n",
    "\n",
    "We use name *cycles* to denote quadrics. On a plane they are circles, parabolas and hyperbolas (together with limiting cases: straight lines and points). See [What is cycle](http://www1.maths.leeds.ac.uk/~kisilv/MoebInv-notebooks/Geometry_of_cycles/Start_from_Basics/What_is_cycle.html) for an introduction.\n",
    "\n",
    "Beauty of cycles multiplies when we arrange them into interrelated construction, which are called [*figures*](http://www1.maths.leeds.ac.uk/~kisilv/MoebInv-notebooks/Geometry_of_cycles/Start_from_Basics/What_is_figure.html) here. Within a figure different cycles may be connected by *cycle relations*, which are introduced in this notebook. \n",
    "\n",
    "**Note:** *to execute the notebook you may need to [install software](http://www1.maths.leeds.ac.uk/~kisilv/MoebInv-notebooks/Introduction/Software_installation_GUI_integration.html).* \n",
    "\n",
    "<a id=\"ToC\"></a>\n",
    "#### Table of contents of this notebook\n",
    "\n",
    "+ [Constructing with compass, construction with MoebInv](#constructingCompass)\n",
    "+ [Executive summary](#executiveSummary)\n",
    "+ [Further reading](#furtherReading)\n",
    "+ [References](#references)\n",
    "\n",
    "Back to the [top-level Table of Contents](https://github.com/vvkisil/MoebInv-notebooks/Table_of_contents.md)."
   ]
  },
  {
   "cell_type": "markdown",
   "id": "terminal-solomon",
   "metadata": {
    "collapsed": false
   },
   "source": [
    "<a id=\"constructingCompass\"></a>\n",
    "## Constructing with compass, construction with MoebInv\n",
    "\n",
    "We will illustrate the idea of cycle relations through the comparison with the classical geometric constructions by compass & straightedge. It turns out that quite a lot can be done using just the relation of [*cycle orthogonality*](https://www1.maths.leeds.ac.uk/~kisilv/MoebInv-notebooks/Geometry_of_cycles/Start_from_Basics/What_is_cycle_product.html#aboutOrthogonality)\n",
    "\n",
    "First we initialise our digital scratchpad. "
   ]
  },
  {
   "cell_type": "code",
   "execution_count": 1,
   "id": "republican-blank",
   "metadata": {
    "collapsed": false
   },
   "outputs": [
    {
     "name": "stdout",
     "output_type": "stream",
     "text": [
      "            Python wrappers for MoibInv Library\n",
      "     ---------------------------------------------\n",
      "Please cite this software as\n",
      "V.V. Kisil, MoebInv: C++ libraries for manipulations in non-Euclidean geometry, SoftwareX, 11(2020),100385. doi:10.1016/j.softx.2019.100385.\n",
      "     ---------------------------------------------\n",
      "\n"
     ]
    }
   ],
   "source": [
    "from figure import *\n",
    "from IPython.display import Image\n",
    "show_asy_off()"
   ]
  },
  {
   "cell_type": "markdown",
   "id": "functioning-disney",
   "metadata": {
    "collapsed": false
   },
   "source": [
    "Then we start a figure and place to random thee points `A`, `B` and `C`:"
   ]
  },
  {
   "cell_type": "code",
   "execution_count": 2,
   "id": "wireless-ballot",
   "metadata": {
    "collapsed": false
   },
   "outputs": [],
   "source": [
    "F=figure()\n",
    "A=F.add_point([-2,-1], \"A\")\n",
    "B=F.add_point([1,1], \"B\")\n",
    "C=F.add_point([0,2], \"C\")"
   ]
  },
  {
   "cell_type": "markdown",
   "id": "secure-opinion",
   "metadata": {
    "collapsed": false
   },
   "source": [
    "Here we store in variables `A`, `B` and `C` keys to the newly placed cycles representing those points. They will be used to indicate the *parent* for a particular relation.\n",
    "\n",
    "Let us visualise the figure to see our work:"
   ]
  },
  {
   "cell_type": "code",
   "execution_count": 3,
   "id": "continuous-plymouth",
   "metadata": {
    "collapsed": false
   },
   "outputs": [
    {
     "data": {
      "image/png": "[encoded data removed]",
      "text/plain": [
       "<IPython.core.display.Image object>"
      ]
     },
     "execution_count": 3,
     "metadata": {},
     "output_type": "execute_result"
    }
   ],
   "source": [
    "F.asy_write(300,-4,2,-3,3,\"relations1\",\"png\")\n",
    "Image(\"relations1.png\")"
   ]
  },
  {
   "cell_type": "markdown",
   "id": "martial-specific",
   "metadata": {
    "collapsed": false
   },
   "source": [
    "How to draw a cycle passing these three points? With compass & straightedge it requires some intermediate steps. In Lie spheres geometry you need only to tell that the new cycle shall be orthogonal to the three cycles representing those points. Thus we create a cycle by specifying a list with three relations and a label for the new cycle:"
   ]
  },
  {
   "cell_type": "code",
   "execution_count": 4,
   "id": "hawaiian-newsletter",
   "metadata": {
    "collapsed": false
   },
   "outputs": [
    {
     "data": {
      "image/png": "[encoded data removed]",
      "text/plain": [
       "<IPython.core.display.Image object>"
      ]
     },
     "execution_count": 4,
     "metadata": {},
     "output_type": "execute_result"
    }
   ],
   "source": [
    "d=F.add_cycle_rel([is_orthogonal(A), is_orthogonal(B), is_orthogonal(C)], \"d\")\n",
    "F.asy_write(300,-4,2,-3,3,\"relations2\",\"png\")\n",
    "Image(\"relations2.png\")"
   ]
  },
  {
   "cell_type": "markdown",
   "id": "incoming-tractor",
   "metadata": {
    "collapsed": false
   },
   "source": [
    "Let us now add two more arbitrary points:"
   ]
  },
  {
   "cell_type": "code",
   "execution_count": 5,
   "id": "lovely-silence",
   "metadata": {
    "collapsed": false
   },
   "outputs": [
    {
     "data": {
      "image/png": "[encoded data removed]",
      "text/plain": [
       "<IPython.core.display.Image object>"
      ]
     },
     "execution_count": 5,
     "metadata": {},
     "output_type": "execute_result"
    }
   ],
   "source": [
    "G=F.add_point([-1,0.75], \"G\")\n",
    "H=F.add_point([1,2], \"H\")\n",
    "F.asy_write(300,-4,2,-3,3,\"relations3\",\"png\")\n",
    "Image(\"relations3.png\")"
   ]
  },
  {
   "cell_type": "markdown",
   "id": "unnecessary-cream",
   "metadata": {
    "collapsed": false
   },
   "source": [
    "How to draw a line through these two points? A straight line is a cycle which passes the infinity, thus we have again have a list of three orthogonality conditions:"
   ]
  },
  {
   "cell_type": "code",
   "execution_count": 6,
   "id": "political-sector",
   "metadata": {
    "collapsed": false
   },
   "outputs": [
    {
     "data": {
      "image/png": "[encoded data removed]",
      "text/plain": [
       "<IPython.core.display.Image object>"
      ]
     },
     "execution_count": 6,
     "metadata": {},
     "output_type": "execute_result"
    }
   ],
   "source": [
    "l=F.add_cycle_rel([is_orthogonal(G), is_orthogonal(H), is_orthogonal(F.get_infinity())], \"l\")\n",
    "F.asy_write(300,-4,2,-3,3,\"relations4\",\"png\")\n",
    "Image(\"relations4.png\")"
   ]
  },
  {
   "cell_type": "markdown",
   "id": "ancient-validation",
   "metadata": {
    "collapsed": false
   },
   "source": [
    "Another typical task is to identify the intersection points, say, for the cycle `c` and the kine `l`. The intersection shall be orthogonal to these two cycles. Also, as a point it shall be orthogonal to itself. The self-reference can be specified either as `is_orthogonal()` (the parent is ommited) or `is_orthogonal(0)` (a dummy zero parent is provided). Let us try: "
   ]
  },
  {
   "cell_type": "code",
   "execution_count": 7,
   "id": "ultimate-cargo",
   "metadata": {
    "collapsed": false
   },
   "outputs": [
    {
     "data": {
      "image/png": "[encoded data removed]",
      "text/plain": [
       "<IPython.core.display.Image object>"
      ]
     },
     "execution_count": 7,
     "metadata": {},
     "output_type": "execute_result"
    }
   ],
   "source": [
    "E=F.add_cycle_rel([is_orthogonal(d), is_orthogonal(l), is_orthogonal()], \"E\")\n",
    "F.asy_write(300,-4,2,-3,3,\"relations5\",\"png\")\n",
    "Image(\"relations5.png\")"
   ]
  },
  {
   "cell_type": "markdown",
   "id": "moderate-length",
   "metadata": {
    "collapsed": false
   },
   "source": [
    "We got two intersections, but they are under the same roof `E`. To access then individually, we split `E` through `with_index()` relation. It shall name the parent and provide the parameter—the number of particular cycle in a given node. Note that indexes start their numbering from $0$:  "
   ]
  },
  {
   "cell_type": "code",
   "execution_count": 8,
   "id": "published-clause",
   "metadata": {
    "collapsed": false
   },
   "outputs": [
    {
     "data": {
      "image/png": "[encoded data removed]",
      "text/plain": [
       "<IPython.core.display.Image object>"
      ]
     },
     "execution_count": 8,
     "metadata": {},
     "output_type": "execute_result"
    }
   ],
   "source": [
    "E1=F.add_cycle_rel([with_index(E,0)], \"E1\")\n",
    "E2=F.add_cycle_rel([with_index(E,1)], \"E2\")\n",
    "F.asy_write(300,-4,2,-3,3,\"relations6\",\"png\")\n",
    "Image(\"relations6.png\")"
   ]
  },
  {
   "cell_type": "markdown",
   "id": "improving-douglas",
   "metadata": {
    "collapsed": false
   },
   "source": [
    "Now we can use these two different points `E1` and `E2` to build a cycle with the diameter $E_1E_2$:"
   ]
  },
  {
   "cell_type": "code",
   "execution_count": 9,
   "id": "clean-doubt",
   "metadata": {
    "collapsed": false
   },
   "outputs": [
    {
     "data": {
      "image/png": "[encoded data removed]",
      "text/plain": [
       "<IPython.core.display.Image object>"
      ]
     },
     "execution_count": 9,
     "metadata": {},
     "output_type": "execute_result"
    }
   ],
   "source": [
    "k=F.add_cycle_rel([is_orthogonal(E1), is_orthogonal(E2), is_orthogonal(l)], \"k\")\n",
    "F.asy_write(300,-4,2,-3,3,\"relations7\",\"png\")\n",
    "Image(\"relations7.png\")"
   ]
  },
  {
   "cell_type": "markdown",
   "id": "musical-trunk",
   "metadata": {
    "collapsed": false
   },
   "source": [
    "[Back to ToC](#ToC)"
   ]
  },
  {
   "cell_type": "markdown",
   "id": "copyrighted-cemetery",
   "metadata": {
    "collapsed": false
   },
   "source": [
    "<a id=\"executiveSummary\"></a>\n",
    "## Executive summary\n",
    "\n",
    "A new cycle can be added to a figure by specifying a list of its relation to other cycles—either already existing or the new cycle itself. In this way we can avoid vicious loops. Thus the concept of a cycle relation is central to this software.\n",
    "\n",
    "A cycle relation from MoebInv library belongs to one of the following three categories:\n",
    "\n",
    "+ *Characterising* a geometric property through one or several equations on new cycle’s coefficients—it is typically used in a list with others relations. The most fundamental example is [*orthogonality*](https://www1.maths.leeds.ac.uk/~kisilv/MoebInv-notebooks/Geometry_of_cycles/Start_from_Basics/What_is_cycle_product.html#aboutOrthogonality), see the above example.\n",
    "\n",
    "+ *Constructing* a new cycle—it is used alone or with choosing relations from the next category. An example is a reflection in a cycle.\n",
    "\n",
    "+ *Choosing* a cycle by certain condition, e.g. either its all coefficients are real numbers. Such relations are usually not used themselves, rather they may complement relations of the first two categories.\n",
    "\n",
    "Thereafter, a meaningful list of relations to define a new cycle has the form:\n",
    "\n",
    "**(some characterising *or* single constructing) *and* optional choosing relation(s)**\n",
    "\n",
    "The order of relations in the list is not important. Some relations (at any category) may need additional parameter(s) (real or Clifford numbers).\n",
    "\n",
    "All relations except two choosing—\"*Only Real coefficients*\"  and \"*Only Numeric coefficients*\"—link a new cycle to other cycle(s).\n",
    "\n",
    "Five relations—\"*Orthogonal*\", \"*f-Orthogonal*\", \"*Two cycle product ratio*\", \"*Only Real coefficients*\" and \"*Only Numeric coefficients*\"—can meaningfully link a new cycle to itself. To this end they can be used without a parent or with dummy zero parent (see the intersection point example above)\n",
    "\n",
    "[Back to ToC](#ToC)"
   ]
  },
  {
   "cell_type": "markdown",
   "id": "advisory-fraction",
   "metadata": {
    "collapsed": false
   },
   "source": [
    "<a id=\"furtherReading\"></a>\n",
    "## Further Reading\n",
    "\n",
    "More detailed description of all available cycle relations can be found [on-line](http://moebinv.sourceforge.net/moebinv-gui-manual-whole003.html).\n",
    "\n",
    "However, already presented relations are sufficient to build various meaningful [*figures*](http://www1.maths.leeds.ac.uk/~kisilv/MoebInv-notebooks/Geometry_of_cycles/Start_from_Basics/What_is_figure.html). \n",
    "\n",
    "[Back to ToC](#ToC)\n",
    "\n",
    "Back to the [top-level Table of Contents](https://github.com/vvkisil/MoebInv-notebooks/Table_of_contents.md)."
   ]
  },
  {
   "cell_type": "markdown",
   "id": "guilty-france",
   "metadata": {
    "collapsed": false
   },
   "source": [
    "<a id=\"references\"></a>\n",
    "### References\n",
    "\n",
    "   <a id=\"refKisil07\"></a>\n",
    "1. V.V. Kisil. *Starting with the group SL2(R).* Notices Amer. Math. Soc., [**54**(11):1458–1465](http://www.ams.org/notices/200711/tx071101458p.pdf), 2007. [arXiv:math/0607387](https://arxiv.org/abs/math/0607387), Zbl # 1137.22006.\n",
    "\n",
    "  <a id=\"refKisil12\"></a>\n",
    "2. V.V. Kisil. *Geometry of Möbius Transformations: Elliptic, Parabolic and Hyperbolic Actions of $SL_2(\\mathbb{R})$*. [Imperial College Press](https://www.worldscientific.com/worldscibooks/10.1142/p835), London, 2012. Includes a live DVD.\n",
    "\n",
    "  <a id=\"refKisilMN\"></a>\n",
    "3. V.V. Kisil, [*MoebInv notebooks*](https://github.com/vvkisil/MoebInv-notebooks), stated at 2019.\n",
    "\n",
    "   <a id=\"refKisil18\"></a>\n",
    "4. V. V. Kisil. An extension of Mobius–Lie geometry with conformal ensembles of cycles and its implementation in a GiNaC library. Proc. Int. Geom. Cent., 11 (3):45–67, 2018. E-print: [arXiv:1512.02960](https://arxiv.org/abs/1512.02960). Project page: http://moebinv.sourceforge.net/.\n",
    "\n",
    "   <a id=\"refKisil19\"></a>\n",
    "5. V. V. Kisil. Möbius–Lie geometry and its extension. In I. M. Mladenov, G. Meng, and A. Yoshioka (eds.) Geometry, integrability and quantization XX, pages 13–61, Bulgar. Acad. Sci., Sofia, 2019. E-print: [arXiv:1811.10499](https://arxiv.org/abs/1811.10499).\n",
    "\n",
    "  <a id=\"refKisil20\"></a>\n",
    "6.  V. V. Kisil. *MoebInv: C++ libraries for manipulations in non-Euclidean geometry*. SoftwareX, **11**:100385, 2020. doi: [10.1016/j.softx.2019.100385](http://dx.doi.org/10.1016/j.softx.2019.100385).\n",
    "\n",
    "[Back to ToC](#ToC)\n",
    "\n",
    "Back to the [top-level Table of Contents](https://github.com/vvkisil/MoebInv-notebooks/blob/master/Table_of_contents.md)."
   ]
  }
 ],
 "metadata": {
  "kernelspec": {
   "argv": [
    "/usr/bin/python3",
    "-m",
    "ipykernel_launcher",
    "-f",
    "{connection_file}"
   ],
   "display_name": "Python 3",
   "env": null,
   "interrupt_mode": "signal",
   "language": "python",
   "metadata": null,
   "name": "python3"
  },
  "name": "What_is_cycle_relation.ipynb"
 },
 "nbformat": 4,
 "nbformat_minor": 5
}
