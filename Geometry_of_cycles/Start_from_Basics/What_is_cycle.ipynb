{
 "cells": [
  {
   "cell_type": "markdown",
   "metadata": {
    "collapsed": false,
    "ein.tags": "worksheet-0",
    "slideshow": {
     "slide_type": "-"
    }
   },
   "source": [
    "<table style=\"width:100%\">\n",
    "    <tr>\n",
    "        <td>\n",
    "            <a href=\"http://www1.maths.leeds.ac.uk/~kisilv/MoebInv-notebooks/Geometry_of_cycles/Start_from_Basics/What_is_cycle.html\">\n",
    "  <img src=\"../../svg/view-html.svg\" alt=\"View HTML\"/>\n",
    "            </a>\n",
    "        </td>\n",
    "        <td>\n",
    "<a href=\"https://github.com/vvkisil/MoebInv-notebooks/blob/master/Geometry_of_cycles/Start_from_Basics/What_is_cycle.ipynb\">\n",
    "  <img src=\"../../svg/open-github.svg\" alt=\"Open In GitHub\"/>\n",
    "            </a>\n",
    "        </td>\n",
    "        <td>\n",
    "            <a href=\"https://colab.research.google.com/github/vvkisil/MoebInv-notebooks/blob/master/Geometry_of_cycles/Start_from_Basics/What_is_cycle.ipynb\">\n",
    "  <img src=\"../../svg/exec-colab.svg\" alt=\"Run In Colab\"/>\n",
    "            </a>\n",
    "        </td>\n",
    "        <td>\n",
    "            <a href=\"https://codeocean.com/capsule/7952650/tree\">\n",
    "  <img src=\"../../svg/code-ocean.svg\" alt=\"Code Ocean\"/>\n",
    "            </a>\n",
    "        </td>\n",
    "    </tr>\n",
    " </table>"
   ]
  },
  {
   "cell_type": "markdown",
   "metadata": {
    "collapsed": false,
    "ein.tags": "worksheet-0",
    "slideshow": {
     "slide_type": "-"
    }
   },
   "source": [
    "# Start from the basics: What is a cycle, anyway?\n",
    "### [Vladimir V Kisil](http://www1.maths.leeds.ac.uk/~kisilv/)\n",
    "\n",
    "Cycles are fundamental objects in considered geometries and, consequently, in `MoebInv` package. Thus they deserve a proper introduction.\n",
    "\n",
    "**Note:** *to execute the notebook you may need to [install software](https://colab.research.google.com/github/vvkisil/MoebInv-notebooks/blob/master/Introduction/Software_installation_GUI_integration.ipynb).* \n",
    "\n",
    "<a id=\"ToC\"></a>\n",
    "#### Table of contents of this notebook\n",
    "\n",
    "+ [Unifying circles, points and lines](#unifying)\n",
    "+ [The projective space of cycles](#projective)\n",
    "+ [Visualising cycles](#visualising)\n",
    "  - [Using viewports](#vieports)\n",
    "+ [Cycles: circles, parabolas and hyperbolas](#ell-par-hyp)\n",
    "+ [Further reading](#furtherReading)\n",
    "+ [Appendix: `MoebInv` proof of the Theorem](#appendix)\n",
    "+ [References](#references)\n",
    "\n",
    "Back to the [top-level Table of Contents](https://github.com/vvkisil/MoebInv-notebooks/blob/master/Table_of_contents.md)."
   ]
  },
  {
   "cell_type": "markdown",
   "metadata": {
    "collapsed": false,
    "ein.tags": "worksheet-0",
    "slideshow": {
     "slide_type": "-"
    }
   },
   "source": [
    "<a id=\"unifying\"></a>\n",
    "## Unifying circles, points and lines\n",
    "\n",
    "Let us start from a circle with centre $(u_0,v_0)$ and radius $r$ which is represented by an equation:\n",
    "\\begin{equation}\n",
    "    (u-u_0)^2 + (v-v_0)^2 = r^2. \\tag{1}\\label{eq1}\n",
    "\\end{equation}\n",
    "Naturally, points can be seen as limiting case of circles with zero radius $r=0$.\n",
    "\n",
    "**Remark.** *We are using letters $(u,v)$ for plane's coordinates instead of more common $(x,y)$ as a reminder, that this is not just an ordinary complex plane.*\n",
    "\n",
    "The equation \\eqref{eq1} can be obviously re-arranged as<a id=\"eq2\"></a>\n",
    "\\begin{equation}\n",
    "u^2 + v^2 - 2 u u_0 - 2 v v_0 + (u_0^2 + v_0^2 - r^2)=0.  \\tag{2}\\label{eq2}\n",
    "\\end{equation}\n",
    "\n",
    "It is well-known (and will be discussed in details later) that the family of all circles is not invariant under Möbius transformations: some circles are transformed into straight lines. To accommodate lines we finally rewrite the last equation \\eqref{eq2} as\n",
    "\\begin{equation}\n",
    "    k(u^2+v^2) - 2 l u - 2 n v + m =0. \\tag{3}\\label{eq3}\n",
    "\\end{equation}\n",
    "That is\n",
    "- for $k=1$, $l=u_0$, $n=v_0$ and $m=(u_0^2+v_0^2- r^2)$ we obtain the above equation \\eqref{eq3} of the *circle* or a *point*; and\n",
    "- for $k=0$ we obtain the equation  $2 l u + 2 n v - m =0$ of a *straight line*.\n",
    "\n",
    "**Definition.** The name *cycle* is used to denote either circle, or point or a straight line.\n",
    "\n",
    "Intuitively, straight lines are *circles of infinite radius*---just the opposite extreme to points. \n",
    "\n",
    "Assuming the [library is installed](https://colab.research.google.com/github/vvkisil/MoebInv-notebooks/blob/master/Introduction/Euclidean_and_Lobachevsky_lines.ipynb), let us define this cycle in `MoebInv` package:"
   ]
  },
  {
   "cell_type": "code",
   "execution_count": 1,
   "metadata": {
    "autoscroll": false,
    "collapsed": false,
    "ein.hycell": false,
    "ein.tags": "worksheet-0",
    "slideshow": {
     "slide_type": "-"
    }
   },
   "outputs": [
    {
     "data": {
      "text/latex": [
       "$(k, {\\left(\\begin{array}{cc}l&n\\end{array}\\right)}^{{symbol5} }, m)$"
      ],
      "text/plain": [
       "<IPython.core.display.Latex object>"
      ]
     },
     "execution_count": 1,
     "metadata": {},
     "output_type": "execute_result"
    }
   ],
   "source": [
    "from cycle import * # Just load the cycle library\n",
    "k = realsymbol(\"k\") # Define a real variable k\n",
    "l = realsymbol(\"l\") # Define a real variable l\n",
    "n = realsymbol(\"n\") # Define a real variable n\n",
    "m = realsymbol(\"m\") # Define a real variable m\n",
    "\n",
    "C = cycle2D(k, [l, n], m) # Define the cycle\n",
    "# Note that coefficients l and n of the linear terms are groupped in a list\n",
    "\n",
    "Latex(f'${C}$') # See the result pretty-printed, note Python3 f-string usage"
   ]
  },
  {
   "cell_type": "markdown",
   "metadata": {
    "collapsed": false,
    "ein.tags": "worksheet-0",
    "slideshow": {
     "slide_type": "-"
    }
   },
   "source": [
    "**Remark.** *The superscript with a numbered symbol is here for a technical reason and it is safe to ignore it and consider the output as  $(k, {\\left(\\begin{array}{cc}l&n\\end{array}\\right)}, m)$.*\n",
    "\n",
    "So far the output is not different from our input, which is not very impressive. However `MoebInv` can do some calculations for us.. For example, to define a zero-radius cycle corresponding to a point we need only to supply its coordinates:"
   ]
  },
  {
   "cell_type": "code",
   "execution_count": 2,
   "metadata": {
    "autoscroll": false,
    "collapsed": false,
    "ein.hycell": false,
    "ein.tags": "worksheet-0",
    "slideshow": {
     "slide_type": "-"
    }
   },
   "outputs": [
    {
     "data": {
      "text/latex": [
       "$(1, {\\left(\\begin{array}{cc}l&n\\end{array}\\right)}^{{symbol10} }, n^{2}+l^{2})$"
      ],
      "text/plain": [
       "<IPython.core.display.Latex object>"
      ]
     },
     "execution_count": 2,
     "metadata": {},
     "output_type": "execute_result"
    }
   ],
   "source": [
    "C0 = cycle2D([l,n])\n",
    "Latex(f'${C0}$')"
   ]
  },
  {
   "cell_type": "markdown",
   "metadata": {
    "collapsed": false,
    "ein.tags": "worksheet-0",
    "slideshow": {
     "slide_type": "-"
    }
   },
   "source": [
    "In  a similar way we can define any cycle by its centre and radius. But first we need to introduce ``metric'' for our geometry. This will be explained in details in \\eqref{eq6} of the [last section](#ell-par-hyp) of this notebook, for now we shall accept it as-is."
   ]
  },
  {
   "cell_type": "code",
   "execution_count": 3,
   "metadata": {
    "autoscroll": false,
    "collapsed": false,
    "ein.hycell": false,
    "ein.tags": "worksheet-0",
    "slideshow": {
     "slide_type": "-"
    }
   },
   "outputs": [
    {
     "data": {
      "text/latex": [
       "$(1, {\\left(\\begin{array}{cc}l&n\\end{array}\\right)}^{{symbol33} }, -r^{2}+n^{2}+l^{2})$"
      ],
      "text/plain": [
       "<IPython.core.display.Latex object>"
      ]
     },
     "execution_count": 3,
     "metadata": {},
     "output_type": "execute_result"
    }
   ],
   "source": [
    "M = matrix([[-1,0],[0,-1]]) # The metric for the Euclidean space\n",
    "r = realsymbol(\"r\")\n",
    "C = cycle2D([l,n], M, r**2)\n",
    "Latex(f'${C}$')"
   ]
  },
  {
   "cell_type": "markdown",
   "metadata": {
    "collapsed": false,
    "ein.tags": "worksheet-0",
    "slideshow": {
     "slide_type": "-"
    }
   },
   "source": [
    "The `MoebInv` output is in agreement with the last displayed equation \\eqref{eq3} for a cycle above. \n",
    "\n",
    "**Remark.** *The order of variables in output expressions is random and can be different from run to run of the code.*\n",
    "\n",
    "[Back to ToC](#ToC)"
   ]
  },
  {
   "cell_type": "markdown",
   "metadata": {
    "collapsed": false,
    "ein.tags": "worksheet-0",
    "slideshow": {
     "slide_type": "-"
    }
   },
   "source": [
    "<a id=\"projective\"></a>\n",
    "## The projective space of cycles\n",
    "\n",
    "There is no mathematical reasons to limit ourselves just to two cases $k=0$ or $k=1$ in the equation \\eqref{eq3} of cycle. In fact, any real value of $k$ can be considered. Thus, *a cycle is parametrised by the four real numbers $(k, l, n, m)$.* Consequently, a cycle is completely is completely defined by four-dimensional vector $(k, l, n, m)\\in\\mathbb{R}^4$\n",
    "\n",
    "However, some vector, for example $(k, l, n, m)$ and $(2k, 2l, 2n, 2m)$ produce equivalents equations and define exactly the same cycle. Let us check that `MoebInv` is aware of it:"
   ]
  },
  {
   "cell_type": "code",
   "execution_count": 4,
   "metadata": {
    "autoscroll": false,
    "collapsed": false,
    "ein.hycell": false,
    "ein.tags": "worksheet-0",
    "slideshow": {
     "slide_type": "-"
    }
   },
   "outputs": [
    {
     "data": {
      "text/plain": [
       "True"
      ]
     },
     "execution_count": 4,
     "metadata": {},
     "output_type": "execute_result"
    }
   ],
   "source": [
    "C = cycle2D(k, [l, n], m) \n",
    "C2 = cycle2D(2*k, [2*l, 2*n], 2*m) # All coefficients of cycle C are scaled by factor 2\n",
    "C.is_equal(C2)"
   ]
  },
  {
   "cell_type": "markdown",
   "metadata": {
    "collapsed": false,
    "ein.tags": "worksheet-0",
    "slideshow": {
     "slide_type": "-"
    }
   },
   "source": [
    "Just to make sure that `MoebInv` does not consider all cycles to be equal:"
   ]
  },
  {
   "cell_type": "code",
   "execution_count": 5,
   "metadata": {
    "autoscroll": false,
    "collapsed": false,
    "ein.hycell": false,
    "ein.tags": "worksheet-0",
    "slideshow": {
     "slide_type": "-"
    }
   },
   "outputs": [
    {
     "data": {
      "text/plain": [
       "False"
      ]
     },
     "execution_count": 5,
     "metadata": {},
     "output_type": "execute_result"
    }
   ],
   "source": [
    "C3 = cycle2D(2*k, [l, n], m) # Note that only the first coefficient was scaled now!\n",
    "C.is_equal(C3)"
   ]
  },
  {
   "cell_type": "markdown",
   "metadata": {
    "collapsed": false,
    "ein.tags": "worksheet-0",
    "slideshow": {
     "slide_type": "-"
    }
   },
   "source": [
    "It is easy to see that two vectors  $(k, l, n, m)$ and $(k', l', n', m')$ define the same cycle if and only if there exists a real non-zero $\\lambda$ such that<a id=\"eq4\"></a>\n",
    "\\begin{equation}\n",
    "k = \\lambda k',\\quad l = \\lambda l',\\quad n = \\lambda n' \\quad \\text{and} \\quad m = \\lambda m'. \\tag{4}\n",
    "\\end{equation}\n",
    "\n",
    "The last condition is an equivalence relation on $\\mathbb{R}^4$. The respective equivalence classes are lines in $\\mathbb{R}^4$, each such line is considered as a point of the [projective space](https://en.wikipedia.org/wiki/Projective_space) $P\\mathbb{R}^3$.\n",
    "\n",
    "**Example.** Not every point of the projective space  $P\\mathbb{R}^3$ corresponds to a circle. point or line. For example, cycle $(1, 0, 0, 1)$ with the respective equation\n",
    "\\begin{equation}\n",
    " u^2 + v^2 +1 =0 \\tag{4} \\label{eq4}\n",
    "\\end{equation}\n",
    "has any solution $(u,v)\\in\\mathbb{R}^2$.\n",
    "\n",
    "[Back to ToC](#ToC)"
   ]
  },
  {
   "cell_type": "markdown",
   "metadata": {
    "collapsed": false,
    "ein.tags": "worksheet-0",
    "slideshow": {
     "slide_type": "-"
    }
   },
   "source": [
    "<a id=\"visualising\"></a>\n",
    "## Visualising cycles\n",
    "\n",
    "We spoke about geometry for a while but have not seen any picture so far. It is not right and `MoebInv`can fix it for us. The drawing routines relay on [Asymptote: The Vector Graphics Language](http://asymptote.sourceforge.net/), thus it shall be opened for piping compand. The first command shall set the size of the picture:"
   ]
  },
  {
   "cell_type": "code",
   "execution_count": 6,
   "metadata": {
    "autoscroll": false,
    "collapsed": false,
    "ein.hycell": false,
    "ein.tags": "worksheet-0",
    "slideshow": {
     "slide_type": "-"
    }
   },
   "outputs": [
    {
     "name": "stdout",
     "output_type": "stream",
     "text": [
      "Open session for writing Asymptote script.  Available metods are:\n",
      "  help(), size(int), draw(str), fill(str), clip(str), label(str), shipout(str),\n",
      "  send(str), dot(str), erase(), asy_import(module),\n",
      "  plot(Expr, llim, rlim, options), plot_axis(Expr, llim, rlim, opt, xopt, yopt)\n"
     ]
    }
   ],
   "source": [
    "Asy = asy() # Open the named command pipe\n",
    "Asy.size(200) # Set the size of the output in pixels"
   ]
  },
  {
   "cell_type": "markdown",
   "metadata": {
    "collapsed": false,
    "ein.tags": "worksheet-0",
    "slideshow": {
     "slide_type": "-"
    }
   },
   "source": [
    "If you see the above message, that `Asymptote` session is open, then we can pipe cycles' data to it. Any other `Asymptote` command can be piped as well and you may enhance your drawing in this way.\n",
    "\n",
    "Let us try to visualise the cycle `C` defined before:\n",
    "``` Python\n",
    "Asy.send(C.asy_string()) # We send to Asympotote the drawing instruction string\n",
    "```\n",
    "However this will produce an error:\n",
    "``` Log\n",
    "Truncated Traceback (Use C-c C-$ to view full TB):\n",
    "<ipython-input-43-18d70807d1b9> in <module>()\n",
    "----> 1 Asy.send(C.asy_string()) # We send to Asympotote the drawing instruction string\n",
    "\n",
    "RuntimeError: Internal error: statement in file real/conv/cl_R_to_double.cc, line 55 has been reached!!\n",
    "Please send the authors of the program a description how you produced this error!\n",
    "```\n",
    "*Despite of the error message, we shall not report anything to authors* -- the error is our fault. Cycle `C` depends  on symbolic variables $k$, $l$, $n$ and $m$ and cannot be painted, of course. Thus let us draw another completely determined cycles:"
   ]
  },
  {
   "cell_type": "code",
   "execution_count": 7,
   "metadata": {
    "autoscroll": false,
    "collapsed": false,
    "ein.hycell": false,
    "ein.tags": "worksheet-0",
    "slideshow": {
     "slide_type": "-"
    }
   },
   "outputs": [
    {
     "data": {
      "image/png": "[encoded data removed]",
      "text/plain": [
       "<IPython.core.display.Image object>"
      ]
     },
     "execution_count": 7,
     "metadata": {},
     "output_type": "execute_result"
    }
   ],
   "source": [
    "C0 = cycle2D([0, 0]) # the point at the origin\n",
    "C1 = cycle2D([0, 0], M, 1) # the unit circle, see definition of the matrix M above\n",
    "C2 = cycle2D(0, [1, 1], 0) # the straight line through the origin an slop -1 \n",
    "Asy.send(C0.asy_string()) # We send to Asympotote the drawing instruction string for C0\n",
    "Asy.send(C1.asy_string()) # We send to Asympotote the drawing instruction string for C1\n",
    "Asy.send(C2.asy_string()) # We send to Asympotote the drawing instruction string for C2\n",
    "Asy.shipout(\"first-test\") # request to output to a file, which will be vsualised by Jupyter"
   ]
  },
  {
   "cell_type": "markdown",
   "metadata": {
    "collapsed": false,
    "ein.tags": "worksheet-0",
    "slideshow": {
     "slide_type": "-"
    }
   },
   "source": [
    "<a id=\"vieports\"></a>\n",
    "### Using viewports\n",
    "\n",
    "On our first graphics, We see the point, the circle and the line. Only the finite portion of the line is painted, it shall fits inside the `viewport`. It is a rectangle, the default lower-left and upper-right corners  are $(-5,-5)$ and $(5,5)$. Only parts of cycles within a used viewport are painted as illustrated here: "
   ]
  },
  {
   "cell_type": "code",
   "execution_count": 8,
   "metadata": {
    "autoscroll": false,
    "collapsed": false,
    "ein.hycell": false,
    "ein.tags": "worksheet-0",
    "slideshow": {
     "slide_type": "-"
    }
   },
   "outputs": [
    {
     "data": {
      "image/png": "[encoded data removed]",
      "text/plain": [
       "<IPython.core.display.Image object>"
      ]
     },
     "execution_count": 8,
     "metadata": {},
     "output_type": "execute_result"
    }
   ],
   "source": [
    "C3 = cycle2D([0, 0], M, 4**2) # the cicrle of the radius 4\n",
    "C4 = cycle2D([0, 0], M, 6**2) # the cicrle of the radius 4\n",
    "C5 = cycle2D([0, 0], M, 8**2) # the cicrle of the radius 8\n",
    "Asy.send(C3.asy_string()) # We send to Asympotote the drawing instruction string for C0\n",
    "Asy.send(C4.asy_string()) # We send to Asympotote the drawing instruction string for C1\n",
    "Asy.send(C5.asy_string()) # We send to Asympotote the drawing instruction string for C1\n",
    "Asy.shipout(\"second-test\") # request to output to a file, which will be vsualised by Jupyter"
   ]
  },
  {
   "cell_type": "markdown",
   "metadata": {
    "collapsed": false,
    "ein.tags": "worksheet-0",
    "slideshow": {
     "slide_type": "-"
    }
   },
   "source": [
    "In addition to the previous picture (which was not erased, see below) we notice the entire circle `C3`, four arcs of the cycle `C3` and no traces of `C5` at all.\n",
    "\n",
    "The default viewport can be set as follow:"
   ]
  },
  {
   "cell_type": "code",
   "execution_count": 9,
   "metadata": {
    "autoscroll": false,
    "collapsed": false,
    "ein.hycell": false,
    "ein.tags": "worksheet-0",
    "slideshow": {
     "slide_type": "-"
    }
   },
   "outputs": [
    {
     "data": {
      "image/png": "[encoded data removed]",
      "text/plain": [
       "<IPython.core.display.Image object>"
      ]
     },
     "execution_count": 9,
     "metadata": {},
     "output_type": "execute_result"
    }
   ],
   "source": [
    "set_viewport(-9,-9,9,9) # Set the larger default viewpoty\n",
    "Asy.erase() # Erase the picture from the old drawings\n",
    "Asy.size(200) # Set the picture size\n",
    "Asy.send(C0.asy_string()) # the drawing instruction string for C0\n",
    "Asy.send(C1.asy_string()) # drawing instruction string for C1\n",
    "Asy.send(C2.asy_string()) # drawing instruction string for C2\n",
    "Asy.send(C3.asy_string()) # drawing instruction string for C3\n",
    "Asy.send(C4.asy_string()) # drawing instruction string for C4\n",
    "Asy.send(C5.asy_string()) # drawing instruction string for C5\n",
    "Asy.shipout(\"third-test\")  # request to output to a file for Jupyter visualisation"
   ]
  },
  {
   "cell_type": "markdown",
   "metadata": {
    "collapsed": false,
    "ein.tags": "worksheet-0",
    "slideshow": {
     "slide_type": "-"
    }
   },
   "source": [
    "Now all cycles are visible in the larger viewport. You do not need to be limited to the default viewport and can set as many of them as possible as illustrated below: "
   ]
  },
  {
   "cell_type": "code",
   "execution_count": 10,
   "metadata": {
    "autoscroll": false,
    "collapsed": false,
    "ein.hycell": false,
    "ein.tags": "worksheet-0",
    "slideshow": {
     "slide_type": "-"
    }
   },
   "outputs": [
    {
     "data": {
      "image/png": "[encoded data removed]",
      "text/plain": [
       "<IPython.core.display.Image object>"
      ]
     },
     "execution_count": 10,
     "metadata": {},
     "output_type": "execute_result"
    }
   ],
   "source": [
    "V1 = viewport(-9,-9,3.3,3.3) # Set the first additional viewport\n",
    "V2 = viewport(-3,-3,9,9) # Set the second additional viewport\n",
    "Asy.erase() # Erase the picture from the old drawings\n",
    "Asy.size(200) # Set the picture size\n",
    "Asy.send(C0.asy_string()) # Use the default viewport implicitly\n",
    "Asy.send(C1.asy_string(current_viewport)) # Use the default viewport explicitly \n",
    "Asy.send(C2.asy_string(current_viewport)) # Use the default viewport explicitly\n",
    "Asy.send(C3.asy_string(V1)) # C3 in the first viewport\n",
    "Asy.send(C4.asy_string(V2)) # C4 in the second viewport\n",
    "Asy.send(C5.asy_string(V1)) # C5 in the first viewport\n",
    "Asy.shipout(\"fourth-test\")  # request to output to a file for Jupyter visualisation"
   ]
  },
  {
   "cell_type": "markdown",
   "metadata": {
    "collapsed": false,
    "ein.tags": "worksheet-0",
    "slideshow": {
     "slide_type": "-"
    }
   },
   "source": [
    "Also we can add to our drawing a bit of colour and style using `Asymptote` language."
   ]
  },
  {
   "cell_type": "code",
   "execution_count": 11,
   "metadata": {
    "autoscroll": false,
    "collapsed": false,
    "ein.hycell": false,
    "ein.tags": "worksheet-0",
    "slideshow": {
     "slide_type": "-"
    }
   },
   "outputs": [
    {
     "data": {
      "image/png": "[encoded data removed]",
      "text/plain": [
       "<IPython.core.display.Image object>"
      ]
     },
     "execution_count": 11,
     "metadata": {},
     "output_type": "execute_result"
    }
   ],
   "source": [
    "Asy.erase() # Erase the picture from the old drawings\n",
    "Asy.size(200) # Set the picture size\n",
    "Asy.send(C0.asy_string(current_viewport, [1,0,0], '7pt')) # RGB colour red and 7pt pen\n",
    "Asy.send(C1.asy_string(current_viewport, [0,1,0], '2pt')) # GGB colour green and 2ot pen\n",
    "Asy.send(C2.asy_string(current_viewport, [0,0,1], '2pt')) #  GGB colour blue and 2ot pen\n",
    "Asy.send(C3.asy_string(V1, [0,0,0], '1.5pt+dashed')) # Black 1.5pt colour and dashed line \n",
    "Asy.send(C4.asy_string(V2, [0,0,1], '2pt+dotted')) # Blue 2pt pen dotted line\n",
    "Asy.send(C5.asy_string(V1)) # C5 in default line style\n",
    "Asy.shipout(\"fifth-test\")  # request to output to a file for Jupyter visualisation"
   ]
  },
  {
   "cell_type": "markdown",
   "metadata": {
    "collapsed": false,
    "ein.tags": "worksheet-0",
    "slideshow": {
     "slide_type": "-"
    }
   },
   "source": [
    "This gives a sufficient flexibility in visualising cycles, with further possibilities provided by other  `Asymptote` commands.\n",
    "\n",
    "[Back to ToC](#ToC)"
   ]
  },
  {
   "cell_type": "markdown",
   "metadata": {
    "collapsed": false,
    "ein.tags": "worksheet-0",
    "slideshow": {
     "slide_type": "-"
    }
   },
   "source": [
    "<a id=\"ell-par-hyp\"></a>\n",
    "## Cycles: circles, parabolas and hyperbolas\n",
    "We already unified circles and lines in order to produce a Möbius-invariant family of objects. Equivalently, the equation of a circle \\eqref{eq1} is particular case of a general quadratic equation  \\eqref{eq3}, which includes linear equations for $k=0$ as well.\n",
    "Next observation is that Möbius transformations are meaningful not only for circles, but for parabolas and hyperbola  as well. Of course, we need to make few adjustments to accommodate all cases in one theory.\n",
    "\n",
    "From now on we extend equation \\eqref{eq3} to\n",
    "\\begin{equation}\n",
    "    k(u^2-\\sigma v^2) - 2 l u - 2 n v + m =0,   \\tag{5}\\label{eq5}\n",
    "\\end{equation}\n",
    "where the parameter $\\sigma$ takes values $-1$, $0$ and $1$. In particular, $\\sigma = -1$ in \\eqref{eq5} produces exactly \\eqref{eq3}. The three values $\\sigma$ are indicators of the following three cases.\n",
    "\n",
    "Name | Value of $\\sigma$ | Number systems $\\mathbb{A}$ | Imaginary unit $\\iota^2 = \\sigma$\n",
    "--------- | -------------------------- | ----------------------------------------- | ------------- \n",
    "elliptic case| $-1$ | [complex numbers](https://en.wikipedia.org/wiki/Complex_number)  $\\mathbb{C}$ | $i^2=-1$\n",
    "parabolic case| $0$ | [dual numbers](https://en.wikipedia.org/wiki/Dual_number) $\\mathbb{D}$ | $\\varepsilon^2=0$\n",
    "hyperbolic case | $1$ | [double (or split-complex) numbers](https://en.wikipedia.org/wiki/Split-complex_number) $\\mathbb{O}$ | $j^2=1$\n",
    "\n",
    "In each case the set of numbers is parametrised by $\\mathbb{R}^2$, so numbers has the form $u+\\iota v$. The respective *metric* is given by the quadratic form:\n",
    "\\begin{equation}\n",
    "    -u^2+\\sigma v^2=\\begin{pmatrix}u&v \\end{pmatrix}\n",
    "    \\begin{pmatrix}-1&0\\\\\n",
    "    0&\\sigma\\end{pmatrix}\n",
    "    \\begin{pmatrix}u\\\\\n",
    "    v\\end{pmatrix}.\n",
    "    \\tag{6}\\label{eq6}\n",
    "\\end{equation}\n",
    "The $2\\times 2$ matrix on the right-hand side is exactly the matrix we need to define the type of cycles: elliptic, parabolic or hyperbolic. Conceptually we need element of a respective Clifford algebra"
   ]
  },
  {
   "cell_type": "code",
   "execution_count": 12,
   "metadata": {
    "autoscroll": false,
    "collapsed": false,
    "ein.hycell": false,
    "ein.tags": "worksheet-0",
    "slideshow": {
     "slide_type": "-"
    }
   },
   "outputs": [],
   "source": [
    "sign = realsymbol('s', r'\\sigma') # symbol to encode geometry\n",
    "mu=idx(symbol(\"mu\"),1)\n",
    "nu=idx(symbol(\"nu\"),1)\n",
    "e=clifford_unit(mu,diag_matrix([sign])) # diagonal matrix to define the metric as in (6)"
   ]
  },
  {
   "cell_type": "code",
   "execution_count": 13,
   "metadata": {
    "autoscroll": false,
    "collapsed": false,
    "ein.hycell": false,
    "ein.tags": "worksheet-0",
    "slideshow": {
     "slide_type": "-"
    }
   },
   "outputs": [
    {
     "data": {
      "text/latex": [
       "$- v^{2} \\sigma k+m-2  n v+ k u^{2}-2  l u==0$"
      ],
      "text/plain": [
       "<IPython.core.display.Latex object>"
      ]
     },
     "execution_count": 13,
     "metadata": {},
     "output_type": "execute_result"
    }
   ],
   "source": [
    "u = realsymbol('u') # the first coordinate of a point\n",
    "v = realsymbol('v') # the second coordinate of the point\n",
    "P = matrix([[u, v]]) # a point on the plane\n",
    "C = cycle2D(k, [l, n], m, e) # the generic cycle depending on Clifford unit e and sign\n",
    "Latex(f'${C.passing(P)}$') # the condition of C passing the point [u, v] "
   ]
  },
  {
   "cell_type": "markdown",
   "metadata": {
    "collapsed": false,
    "ein.tags": "worksheet-0",
    "slideshow": {
     "slide_type": "-"
    }
   },
   "source": [
    "The output is exactly equation \\eqref{eq6} (up to the random order of terms).\n",
    "Möbius transformations are defined uniformly for all number systems as well:\n",
    "\\begin{equation}\n",
    "    \\begin{pmatrix}a&b\\\\\n",
    "    c & d\\end{pmatrix} : \\ u + \\iota v \\  \\mapsto \\\n",
    "    \\frac{a(u + \\iota v) + b}{c(u + \\iota v) + d},\n",
    "    \\tag{7}\\label{eq7}\n",
    "\\end{equation}\n",
    "where $\\begin{pmatrix}a&b\\\\\n",
    "    c & d\\end{pmatrix}$ is an element of $SL_2(\\mathbb{R})$ group. That means that all entries are real numbers and $ad-bc=1$.\n",
    "    \n",
    "The cornerstone result for the concept of cycle is:\n",
    "\n",
    "<a id=\"thm-FSCc-conjugation\"></a>\n",
    "**Theorem.** *In all three cases, Möbius transformations \\eqref{eq7} maps the locus of solution of an equation \\eqref{eq6} with coefficient $(k, l, n, m)$ to the locus of solution of a similar equations with some other coefficients $(k', l', n', m')$.*\n",
    "\n",
    "A `MoebInv` proof of this Theorem is presented in [Appendix](#appendix). We will call the map (depending on $\\sigma$)\n",
    "\\begin{equation}\n",
    "    (k, l, n, m) \\mapsto (k', l', n', m')\n",
    "    \\tag{8}\\label{eq8}\n",
    "\\end{equation}\n",
    "from the previous Theorem by *Möbius transformation of cycles*. Its explicit expression can be found in [Appendix](#appendix) and is not particularly simple. But it is easy to check that the map $\\mathbb{R}^4 \\rightarrow \\mathbb{R}^4$ \\eqref{eq8} is linear and thus can be pulled to a map $P\\mathbb{R}^3 \\rightarrow P\\mathbb{R}^3$.\n",
    "\n",
    "Now we are ready to answer the question from the this notebook's title:\n",
    "\n",
    "**Definition.** *Cycles are points of the projective space $P\\mathbb{R}^3$ with the associated Möbius transformations obtained from map \\eqref{eq8} of $4$-vectors $(k, l, n, m)$.*\n",
    "\n",
    "Although equation \\eqref{eq5} was an important steps towards the last definition, we shall not think on cycles as collections of points solving \\eqref{eq5}: some cycles had only empty locus of solutions.\n",
    "\n",
    "To illustrate the concept of cycles we will draw few cycles in their three appearances: elliptic, parabolic and hyperbolic."
   ]
  },
  {
   "cell_type": "code",
   "execution_count": 14,
   "metadata": {
    "autoscroll": false,
    "collapsed": false,
    "ein.hycell": false,
    "ein.tags": "worksheet-0",
    "slideshow": {
     "slide_type": "-"
    }
   },
   "outputs": [
    {
     "data": {
      "image/png": "[encoded data removed]",
      "text/plain": [
       "<IPython.core.display.Image object>"
      ]
     },
     "execution_count": 14,
     "metadata": {},
     "output_type": "execute_result"
    }
   ],
   "source": [
    "V = viewport(-3, -5, 15, 5)  # Set the larger default viewpoty\n",
    "Asy.erase() # Erase the picture from the old drawings\n",
    "Asy.size(600)  # Set the picture size\n",
    "Asy.send(cycle2D(0, [0, 1], 0).asy_string(V)) # The real line\n",
    "Asy.send(cycle2D(0, [1, 0], 0).asy_string(V)) # The vertical axis\n",
    "\n",
    "C1 = cycle2D(1, [0, 0], 1, e) # This cycle does not have points in elliptic and parabolic cases\n",
    "C2 = cycle2D(1, [5, -1.25], 5**2 + 1.25**2 - 1**2, e) # does not intersect the real axis r < |l|\n",
    "C3 = cycle2D(1, [12, 1], 12**2+1**2-2**2, e) # intersects the real axis r > l\n",
    "cycles = [C1, C2, C3]\n",
    "styles = [\"2pt + dotted\", \"1pt+dashed\", \"1pt\"] # styles: C1-dotted, C2-dashed, C3-solid\n",
    "for s in [-1, 0, 1]: # define elliptic, parabolic or hyperbolic case\n",
    "    for j in range(3): # chooses a cycle\n",
    "        Asy.send(cycles[j].subs(sign == s).asy_string(V, [0, .7-0.35*(s+1), 0.4*(s+1)],  styles[j]))\n",
    "        \n",
    "Asy.shipout(\"same-cycles-eph\") # Output the drawing"
   ]
  },
  {
   "cell_type": "markdown",
   "metadata": {
    "collapsed": false,
    "ein.tags": "worksheet-0",
    "slideshow": {
     "slide_type": "-"
    }
   },
   "source": [
    "A reader can make several observations about relations between different faces of the same cycle in three geometries.\n",
    "\n",
    "[Back to ToC](#ToC)"
   ]
  },
  {
   "cell_type": "markdown",
   "metadata": {
    "collapsed": false
   },
   "source": [
    "<a id=\"furtherReading\"></a>\n",
    "## Further Reading\n",
    "\n",
    "Geometric properties of cycles are comprehensively encoded in the [*cycle product*](http://www1.maths.leeds.ac.uk/~kisilv/MoebInv-notebooks/Geometry_of_cycles/Start_from_Basics/What_is_cycle_product.html). It is the backbone to define  [*cycle relations*](http://www1.maths.leeds.ac.uk/~kisilv/MoebInv-notebooks/Geometry_of_cycles/Start_from_Basics/What_is_cycle_relation.html) which allow us to build various [*figures*](http://www1.maths.leeds.ac.uk/~kisilv/MoebInv-notebooks/Geometry_of_cycles/Start_from_Basics/What_is_figure.html). \n",
    "\n",
    "[Back to ToC](#ToC)\n",
    "\n",
    "Back to the [top-level Table of Contents](https://github.com/vvkisil/MoebInv-notebooks/blob/master/Table_of_contents.md)."
   ]
  },
  {
   "cell_type": "markdown",
   "metadata": {
    "collapsed": false,
    "ein.tags": "worksheet-0",
    "slideshow": {
     "slide_type": "-"
    }
   },
   "source": [
    "<a id=\"appendix\"></a>\n",
    "## Appendix: `MoebInv` proof of the Theorem\n",
    "\n",
    "*Proof.* The statement can be fully demonstrated by symbolic computations in `MoebInv`. First, for a given point $(u,v)$ we build a cycle passing it. This is done by `subject_to()` menthod:"
   ]
  },
  {
   "cell_type": "code",
   "execution_count": 15,
   "metadata": {
    "autoscroll": false,
    "collapsed": false,
    "ein.hycell": false,
    "ein.tags": "worksheet-0",
    "slideshow": {
     "slide_type": "-"
    }
   },
   "outputs": [
    {
     "data": {
      "text/latex": [
       "Cycle C2=$(k, {\\left(\\begin{array}{cc}l&n\\end{array}\\right)}^{{symbol640} },  v^{2} \\sigma k+2  n v- k u^{2}+2  l u)$ passes point $P=\\left(\\begin{array}{cc}u&v\\end{array}\\right)$: True"
      ],
      "text/plain": [
       "<IPython.core.display.Latex object>"
      ]
     },
     "execution_count": 15,
     "metadata": {},
     "output_type": "execute_result"
    }
   ],
   "source": [
    "C2=C.subject_to(C.passing(P))\n",
    "Latex(f'Cycle C2=${C2}$ passes point $P={P}$: {bool(C2.passing(P))}')"
   ]
  },
  {
   "cell_type": "markdown",
   "metadata": {
    "collapsed": false,
    "ein.tags": "worksheet-0",
    "slideshow": {
     "slide_type": "-"
    }
   },
   "source": [
    "Now we define an element of $SL_2(\\mathbb{R})$ and construct the conjugation of the cycle `C2` by it"
   ]
  },
  {
   "cell_type": "code",
   "execution_count": 16,
   "metadata": {
    "autoscroll": false,
    "collapsed": false,
    "ein.hycell": false,
    "ein.tags": "worksheet-0",
    "slideshow": {
     "slide_type": "-"
    }
   },
   "outputs": [
    {
     "data": {
      "text/latex": [
       "The transformed cycle: C3=$( k d^{2}- c^{2} k u^{2}+2  c d l+ v^{2} c^{2} \\sigma k+2  c^{2} l u+2  n v c^{2}, {\\left(\\begin{array}{cc}2  n v c a+ b k d+2  c l a u+ d l a+ v^{2} c \\sigma k a- c k a u^{2}+ b c l& n d a- n b c\\end{array}\\right)}_{{symbol1189} }, 2  n v a^{2}+ v^{2} \\sigma k a^{2}+2  b l a- k a^{2} u^{2}+2  l a^{2} u+ b^{2} k)$"
      ],
      "text/plain": [
       "<IPython.core.display.Latex object>"
      ]
     },
     "execution_count": 16,
     "metadata": {},
     "output_type": "execute_result"
    }
   ],
   "source": [
    "a = realsymbol('a')\n",
    "b = realsymbol('b')\n",
    "c = realsymbol('c')\n",
    "d = realsymbol('d')\n",
    "C3=C2.sl2_similarity(a, b, c, d, e)\n",
    "Latex(f'The transformed cycle: C3=${C3}$')"
   ]
  },
  {
   "cell_type": "markdown",
   "metadata": {
    "collapsed": false,
    "ein.tags": "worksheet-0",
    "slideshow": {
     "slide_type": "-"
    }
   },
   "source": [
    "This is the explicit form of the map \\eqref{eq8}.\n",
    "\n",
    "On the other hand we define the Mobius map of the point $P$:"
   ]
  },
  {
   "cell_type": "code",
   "execution_count": 17,
   "metadata": {
    "autoscroll": false,
    "collapsed": false,
    "ein.hycell": false,
    "ein.tags": "worksheet-0",
    "slideshow": {
     "slide_type": "-"
    }
   },
   "outputs": [
    {
     "data": {
      "text/latex": [
       "$\\left(\\begin{array}{cc}\\frac{ c a u^{2}}{2  c d u- v^{2} c^{2} \\sigma+d^{2}+ c^{2} u^{2}}+\\frac{ b d}{2  c d u- v^{2} c^{2} \\sigma+d^{2}+ c^{2} u^{2}}-\\frac{ v^{2} c \\sigma a}{2  c d u- v^{2} c^{2} \\sigma+d^{2}+ c^{2} u^{2}}+\\frac{ b c u}{2  c d u- v^{2} c^{2} \\sigma+d^{2}+ c^{2} u^{2}}+\\frac{ d a u}{2  c d u- v^{2} c^{2} \\sigma+d^{2}+ c^{2} u^{2}}&\\frac{ v d a}{2  c d u- v^{2} c^{2} \\sigma+d^{2}+ c^{2} u^{2}}-\\frac{ b v c}{2  c d u- v^{2} c^{2} \\sigma+d^{2}+ c^{2} u^{2}}\\end{array}\\right)$"
      ],
      "text/plain": [
       "<IPython.core.display.Latex object>"
      ]
     },
     "execution_count": 17,
     "metadata": {},
     "output_type": "execute_result"
    }
   ],
   "source": [
    "P1=clifford_moebius_map(sl2_clifford(a,b,c,d,e),P,e)\n",
    "Latex(f'${P1}$')"
   ]
  },
  {
   "cell_type": "markdown",
   "metadata": {
    "collapsed": false,
    "ein.tags": "worksheet-0",
    "slideshow": {
     "slide_type": "-"
    }
   },
   "source": [
    "The two last outputs are cumbersome, fortunately computer can make the final check for us. We only need to suggest that the $SL_2(\\mathbb{R})$ substitution $a=(1+bc)/d$ shall be used for simplification."
   ]
  },
  {
   "cell_type": "code",
   "execution_count": 18,
   "metadata": {
    "autoscroll": false,
    "collapsed": false,
    "ein.hycell": false,
    "ein.tags": "worksheet-0",
    "slideshow": {
     "slide_type": "-"
    }
   },
   "outputs": [
    {
     "name": "stdout",
     "output_type": "stream",
     "text": [
      "Conjugated cycle C3 passes the Moebius image P1 of P: True\n"
     ]
    }
   ],
   "source": [
    "print('Conjugated cycle C3 passes the Moebius image P1 of P: ' + \\\n",
    "      f'{C3.val(P1).subs([a==(1+b*c)/d]).normal().is_zero()}')"
   ]
  },
  {
   "cell_type": "markdown",
   "metadata": {
    "collapsed": false,
    "ein.tags": "worksheet-0",
    "slideshow": {
     "slide_type": "-"
    }
   },
   "source": [
    "This finishes the proof by a direct calculation.$\\Box$\n",
    "\n",
    "[Back to ToC](#ToC)"
   ]
  },
  {
   "cell_type": "markdown",
   "metadata": {
    "collapsed": false,
    "ein.tags": "worksheet-0",
    "slideshow": {
     "slide_type": "-"
    }
   },
   "source": [
    "### References\n",
    "<a id=\"references\"></a>\n",
    "\n",
    "1. Vladimir V. Kisil. *Starting with the group SL2(R).* Notices Amer. Math. Soc., [54(11):1458–1465](http://www.ams.org/notices/200711/tx071101458p.pdf), 2007. [arXiv:math/0607387](https://arxiv.org/abs/math/0607387), Zbl # 1137.22006.\n",
    "\n",
    "2. Vladimir V. Kisil. *Geometry of Möbius Transformations: Elliptic, Parabolic and Hyperbolic Actions of $SL_2(\\mathbb{R})$*. [Imperial College Press](https://www.worldscientific.com/worldscibooks/10.1142/p835), London, 2012. Includes a live DVD.\n",
    "\n",
    "3.  Vladimir V. Kisil, [*MoebInv notebooks*](https://github.com/vvkisil/MoebInv-notebooks), 2019.\n",
    "\n",
    "4. I. M. Yaglom. *A Simple Non-Euclidean Geometry and Its Physical Basis.* Heidelberg Science Library. Springer-Verlag, New York, 1979. Translated from the Russian by Abe Shenitzer, with the editorial assistance of Basil Gordon."
   ]
  }
 ],
 "metadata": {
  "kernelspec": {
   "argv": [
    "/usr/bin/python3",
    "-m",
    "ipykernel_launcher",
    "-f",
    "{connection_file}"
   ],
   "display_name": "Python 3",
   "env": null,
   "interrupt_mode": "signal",
   "language": "python",
   "metadata": null,
   "name": "python3"
  },
  "language_info": {
   "codemirror_mode": {
    "name": "ipython",
    "version": 3
   },
   "file_extension": ".py",
   "mimetype": "text/x-python",
   "name": "python",
   "nbconvert_exporter": "python",
   "pygments_lexer": "ipython3",
   "version": "3.7.4+"
  },
  "name": "What_is_cycle.ipynb"
 },
 "nbformat": 4,
 "nbformat_minor": 2
}
